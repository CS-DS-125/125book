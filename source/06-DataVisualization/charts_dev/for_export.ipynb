{
 "cells": [
  {
   "cell_type": "markdown",
   "metadata": {},
   "source": [
    "We'll also run the following line of code to make the charts look a bit nicer in Jupyter.  This line, which starts with a `%` is magic.  It is literally called a [\"Magic\"](https://ipython.readthedocs.io/en/stable/interactive/magics.html#magic-config), and we might as well treat it like that.  It's non-standard and hard to explain, but it does what we want."
   ]
  },
  {
   "cell_type": "code",
   "execution_count": 3,
   "metadata": {},
   "outputs": [],
   "source": [
    "# For nicer-looking charts\n",
    "%config InlineBackend.figure_format = 'svg'"
   ]
  }
 ],
 "metadata": {
  "kernelspec": {
   "display_name": "Python 3",
   "language": "python",
   "name": "python3"
  },
  "language_info": {
   "codemirror_mode": {
    "name": "ipython",
    "version": 3
   },
   "file_extension": ".py",
   "mimetype": "text/x-python",
   "name": "python",
   "nbconvert_exporter": "python",
   "pygments_lexer": "ipython3",
   "version": "3.6.5"
  }
 },
 "nbformat": 4,
 "nbformat_minor": 2
}
