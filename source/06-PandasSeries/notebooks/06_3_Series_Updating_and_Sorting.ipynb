{
 "cells": [
  {
   "cell_type": "markdown",
   "metadata": {
    "id": "D0Qck8cX6c0i"
   },
   "source": [
    "# Series: Updating and Sorting"
   ]
  },
  {
   "cell_type": "markdown",
   "metadata": {
    "id": "jm_5g8mh4xTt"
   },
   "source": [
    "## Updating Values and Labels"
   ]
  },
  {
   "cell_type": "markdown",
   "metadata": {
    "id": "jdR_sDvzMUeh"
   },
   "source": [
    "### Updating Values\n",
    "Like a list, a series is mutable, so values can be updated using indexing with `.loc` or `iloc`."
   ]
  },
  {
   "cell_type": "code",
   "execution_count": 1,
   "metadata": {
    "colab": {
     "base_uri": "https://localhost:8080/"
    },
    "id": "yKju6eSsJ14j",
    "outputId": "7e39f41a-6b21-4cbf-c72c-e33912499df3"
   },
   "outputs": [
    {
     "data": {
      "text/plain": "apple         180\nbanana        120\ncherry         25\ndates          45\nelderberry     75\ndtype: int64"
     },
     "execution_count": 1,
     "metadata": {},
     "output_type": "execute_result"
    }
   ],
   "source": [
    "# import pandas\n",
    "import pandas as pd\n",
    "\n",
    "# create fruit weight series from lists\n",
    "fruit_name_list = ['apple', 'banana', 'cherry', 'dates', 'elderberry']\n",
    "fruit_weight_list = [180, 120, 15, 45, 75]\n",
    "my_fruit_series = pd.Series(data=fruit_weight_list, index=fruit_name_list)\n",
    "\n",
    "# update a value based on a label\n",
    "my_fruit_series.loc['cherry'] = 25\n",
    "my_fruit_series"
   ]
  },
  {
   "cell_type": "code",
   "execution_count": 2,
   "metadata": {
    "colab": {
     "base_uri": "https://localhost:8080/"
    },
    "id": "BJaP6Hh05PM0",
    "outputId": "79d60751-5595-4967-a516-67edd3d90bd2"
   },
   "outputs": [
    {
     "data": {
      "text/plain": "apple         180\nbanana        120\ncherry        225\ndates          45\nelderberry     75\ndtype: int64"
     },
     "execution_count": 2,
     "metadata": {},
     "output_type": "execute_result"
    }
   ],
   "source": [
    "# update a value based on a position\n",
    "my_fruit_series.iloc[2] = 225\n",
    "my_fruit_series"
   ]
  },
  {
   "cell_type": "markdown",
   "metadata": {
    "id": "o6_VwkU35YaG"
   },
   "source": [
    "You can also update multiple values simultaneously."
   ]
  },
  {
   "cell_type": "code",
   "execution_count": 3,
   "metadata": {
    "colab": {
     "base_uri": "https://localhost:8080/"
    },
    "id": "c__hcmpIMnkq",
    "outputId": "e33602fc-f9c9-4fb3-e4b1-e82bdf683a66"
   },
   "outputs": [
    {
     "data": {
      "text/plain": "apple         200\nbanana        150\ncherry         35\ndates          45\nelderberry     75\ndtype: int64"
     },
     "execution_count": 3,
     "metadata": {},
     "output_type": "execute_result"
    }
   ],
   "source": [
    "# update multiple values based on label\n",
    "my_fruit_series.loc['apple':'cherry'] = [200, 150, 35]\n",
    "my_fruit_series"
   ]
  },
  {
   "cell_type": "code",
   "execution_count": 4,
   "metadata": {
    "colab": {
     "base_uri": "https://localhost:8080/"
    },
    "id": "wJ5eyZ5v8Eis",
    "outputId": "e9e89e35-7c36-4071-dacd-5c8cdd666140"
   },
   "outputs": [
    {
     "data": {
      "text/plain": "apple         200\nbanana        150\ncherry        300\ndates         400\nelderberry    500\ndtype: int64"
     },
     "execution_count": 4,
     "metadata": {},
     "output_type": "execute_result"
    }
   ],
   "source": [
    "# update multiple values based on position\n",
    "my_fruit_series.iloc[2:] = [300, 400, 500]\n",
    "my_fruit_series"
   ]
  },
  {
   "cell_type": "markdown",
   "metadata": {
    "id": "vm8lb4UEYN_Y"
   },
   "source": [
    "Since multiple values can share the same label in the index, multiple values that share a value can be updated simultaneously."
   ]
  },
  {
   "cell_type": "code",
   "execution_count": 5,
   "metadata": {
    "colab": {
     "base_uri": "https://localhost:8080/"
    },
    "id": "ySOeqEQtYDky",
    "outputId": "ba5de1a0-2de7-4690-c785-d02a7bd7f95b"
   },
   "outputs": [
    {
     "data": {
      "text/plain": "apple     180\napple     120\napple      15\nbanana    650\nbanana    450\ndtype: int64"
     },
     "execution_count": 5,
     "metadata": {},
     "output_type": "execute_result"
    }
   ],
   "source": [
    "# constructs a series with repeated values in index\n",
    "fruit_name_list = ['apple', 'apple', 'apple', 'banana', 'banana']\n",
    "fruit_weight_list = [180, 120, 15, 650, 450]\n",
    "\n",
    "my_fruit_series = pd.Series(data = fruit_weight_list, index = fruit_name_list)\n",
    "my_fruit_series"
   ]
  },
  {
   "cell_type": "code",
   "execution_count": 6,
   "metadata": {
    "colab": {
     "base_uri": "https://localhost:8080/"
    },
    "id": "mjEc-I4_9JCV",
    "outputId": "0b00049d-d3f7-457d-96e8-a444cff27728"
   },
   "outputs": [
    {
     "data": {
      "text/plain": "apple     333\napple     333\napple     333\nbanana    650\nbanana    450\ndtype: int64"
     },
     "execution_count": 6,
     "metadata": {},
     "output_type": "execute_result"
    }
   ],
   "source": [
    "# updating multiple values with a single assignment\n",
    "my_fruit_series.loc['apple'] = 333\n",
    "my_fruit_series"
   ]
  },
  {
   "cell_type": "markdown",
   "metadata": {
    "id": "LpD0WO0EiV0I"
   },
   "source": [
    "Note: setting or 'updating' variables with `.loc` or `.iloc`, as we have in this section, changes the series directly. We do not need to make a copy of the series to make the change."
   ]
  },
  {
   "cell_type": "markdown",
   "metadata": {
    "id": "m7gKcd1C9l_J"
   },
   "source": [
    "### Updating Index Labels\n",
    "The series index object is not mutable, so we cannot use positional indexing to update a single label within the index. However, we can reassign a list of new values to the index. "
   ]
  },
  {
   "cell_type": "code",
   "execution_count": 7,
   "metadata": {
    "colab": {
     "base_uri": "https://localhost:8080/"
    },
    "id": "Gx-jfPKi-zTj",
    "outputId": "99f74fb6-fa7b-4349-aee6-437541693503"
   },
   "outputs": [
    {
     "data": {
      "text/plain": "Index(['apple', 'apple', 'apple', 'banana', 'banana'], dtype='object')"
     },
     "execution_count": 7,
     "metadata": {},
     "output_type": "execute_result"
    }
   ],
   "source": [
    "my_fruit_series.index"
   ]
  },
  {
   "cell_type": "code",
   "execution_count": 8,
   "metadata": {
    "colab": {
     "base_uri": "https://localhost:8080/"
    },
    "id": "L7JC5ZI5-31b",
    "outputId": "64b7bd99-9ac4-4bc5-b8c7-b0598b569ebc"
   },
   "outputs": [
    {
     "data": {
      "text/plain": "Index(['apple', 'banana', 'cherry', 'dates', 'elderberry'], dtype='object')"
     },
     "execution_count": 8,
     "metadata": {},
     "output_type": "execute_result"
    }
   ],
   "source": [
    "my_fruit_series.index = ['apple', 'banana', 'cherry', 'dates', 'elderberry']\n",
    "my_fruit_series.index"
   ]
  },
  {
   "cell_type": "markdown",
   "metadata": {
    "id": "liAmAYM_7eWW"
   },
   "source": [
    "## Basic Operations with Series\n",
    "We can update all the values in a series (or just create a view) without using a for loop. We have some examples of updates with mathematical operators and with string operations below.\n"
   ]
  },
  {
   "cell_type": "markdown",
   "metadata": {
    "id": "7jIEC_A_-E31"
   },
   "source": [
    "### Basic Math Operations\n",
    "If we had a list full of integers and we were interested in adding five to each value in the list, we would need to write a for loop to loop over the list and update each value. This sort of operation is much simpler with a series. "
   ]
  },
  {
   "cell_type": "code",
   "execution_count": 9,
   "metadata": {
    "colab": {
     "base_uri": "https://localhost:8080/"
    },
    "id": "DuLktVUF760N",
    "outputId": "2efd13de-be04-4a7e-fe68-667ae349b810"
   },
   "outputs": [
    {
     "data": {
      "text/plain": "apple         333\nbanana        333\ncherry        333\ndates         650\nelderberry    450\ndtype: int64"
     },
     "execution_count": 9,
     "metadata": {},
     "output_type": "execute_result"
    }
   ],
   "source": [
    "my_fruit_series"
   ]
  },
  {
   "cell_type": "code",
   "execution_count": 10,
   "metadata": {
    "colab": {
     "base_uri": "https://localhost:8080/"
    },
    "id": "K2fKPWcN8JhG",
    "outputId": "8ea925fa-8d7a-4129-9ade-d29505855dad"
   },
   "outputs": [
    {
     "data": {
      "text/plain": "apple         338\nbanana        338\ncherry        338\ndates         655\nelderberry    455\ndtype: int64"
     },
     "execution_count": 10,
     "metadata": {},
     "output_type": "execute_result"
    }
   ],
   "source": [
    "my_fruit_series + 5"
   ]
  },
  {
   "cell_type": "code",
   "execution_count": 11,
   "metadata": {
    "colab": {
     "base_uri": "https://localhost:8080/"
    },
    "id": "VcCjKDOiTBOz",
    "outputId": "c9601f47-fd5b-410f-a578-e97d3e2c14e7"
   },
   "outputs": [
    {
     "data": {
      "text/plain": "apple         328\nbanana        328\ncherry        328\ndates         645\nelderberry    445\ndtype: int64"
     },
     "execution_count": 11,
     "metadata": {},
     "output_type": "execute_result"
    }
   ],
   "source": [
    "my_fruit_series - 5"
   ]
  },
  {
   "cell_type": "code",
   "execution_count": 12,
   "metadata": {
    "colab": {
     "base_uri": "https://localhost:8080/"
    },
    "id": "EmVZw2uJTDVK",
    "outputId": "e73b245a-9768-465d-b878-d80284a5435b"
   },
   "outputs": [
    {
     "data": {
      "text/plain": "apple         1665\nbanana        1665\ncherry        1665\ndates         3250\nelderberry    2250\ndtype: int64"
     },
     "execution_count": 12,
     "metadata": {},
     "output_type": "execute_result"
    }
   ],
   "source": [
    "my_fruit_series * 5"
   ]
  },
  {
   "cell_type": "code",
   "execution_count": 13,
   "metadata": {
    "colab": {
     "base_uri": "https://localhost:8080/"
    },
    "id": "A6Tlbqf9TFsR",
    "outputId": "c9338fa8-ea82-4919-8572-22dd5f75a445"
   },
   "outputs": [
    {
     "data": {
      "text/plain": "apple          66.6\nbanana         66.6\ncherry         66.6\ndates         130.0\nelderberry     90.0\ndtype: float64"
     },
     "execution_count": 13,
     "metadata": {},
     "output_type": "execute_result"
    }
   ],
   "source": [
    "my_fruit_series / 5"
   ]
  },
  {
   "cell_type": "markdown",
   "metadata": {
    "id": "4cRZ5Ie4Jt1a"
   },
   "source": [
    "Important note! In all the previous examples of operations, we have not actually made any change to the underlying series. The result we are seeing is called a 'view' (see earlier discussion) and is not retained unless we assign it to a variable. If we want to make a lasting alteration of the series, we have to perform the operation and assign the result to a variable."
   ]
  },
  {
   "cell_type": "code",
   "execution_count": 14,
   "metadata": {
    "colab": {
     "base_uri": "https://localhost:8080/"
    },
    "id": "haJs78mkjKE5",
    "outputId": "ecb04d16-2b3d-4703-a448-0815bdc13150"
   },
   "outputs": [
    {
     "data": {
      "text/plain": "apple         338\nbanana        338\ncherry        338\ndates         655\nelderberry    455\ndtype: int64"
     },
     "execution_count": 14,
     "metadata": {},
     "output_type": "execute_result"
    }
   ],
   "source": [
    "# this makes a copy, adds five, \n",
    "# and then reassigns the result to the original variable name\n",
    "my_fruit_series = my_fruit_series + 5\n",
    "my_fruit_series"
   ]
  },
  {
   "cell_type": "markdown",
   "metadata": {
    "id": "qj-bKxHUTT9n"
   },
   "source": [
    "### Basic String Operations"
   ]
  },
  {
   "cell_type": "code",
   "execution_count": 15,
   "metadata": {
    "colab": {
     "base_uri": "https://localhost:8080/"
    },
    "id": "P58GMz7t89ds",
    "outputId": "9a8c77bc-6f43-4eb7-8e5d-4ca27a18c801"
   },
   "outputs": [
    {
     "data": {
      "text/plain": "180    banana\n120    banana\n15      apple\n650     apple\n450     apple\ndtype: object"
     },
     "execution_count": 15,
     "metadata": {},
     "output_type": "execute_result"
    }
   ],
   "source": [
    "# creates a series with strings as values\n",
    "fruit_name_list = ['banana', 'banana', 'apple', 'apple', 'apple']\n",
    "fruit_weight_list = [180, 120, 15, 650, 450]\n",
    "\n",
    "my_fruit_series = pd.Series(data=fruit_name_list, index=fruit_weight_list)\n",
    "my_fruit_series"
   ]
  },
  {
   "cell_type": "code",
   "execution_count": 16,
   "metadata": {
    "colab": {
     "base_uri": "https://localhost:8080/"
    },
    "id": "W912sH7G8_Y1",
    "outputId": "aa9bf748-e490-4840-8e29-3cb812098e9e"
   },
   "outputs": [
    {
     "data": {
      "text/plain": "180    banana is a fruit!\n120    banana is a fruit!\n15      apple is a fruit!\n650     apple is a fruit!\n450     apple is a fruit!\ndtype: object"
     },
     "execution_count": 16,
     "metadata": {},
     "output_type": "execute_result"
    }
   ],
   "source": [
    "# creating a view using string concatenation\n",
    "my_fruit_series + ' is a fruit!'"
   ]
  },
  {
   "cell_type": "markdown",
   "metadata": {
    "id": "nSWou5eET2Th"
   },
   "source": [
    "As we saw in the previous section with the basic operations, performing the operations does not change the underlying series. If we want to retain the change we have to reassign the result over the original. "
   ]
  },
  {
   "cell_type": "code",
   "execution_count": 17,
   "metadata": {
    "colab": {
     "base_uri": "https://localhost:8080/"
    },
    "id": "rcG_jp8kK2fZ",
    "outputId": "3e6a5423-395f-4314-b1a4-f29e5ca3a43e"
   },
   "outputs": [
    {
     "data": {
      "text/plain": "180    banana\n120    banana\n15      apple\n650     apple\n450     apple\ndtype: object"
     },
     "execution_count": 17,
     "metadata": {},
     "output_type": "execute_result"
    }
   ],
   "source": [
    "# this doesn't change anything\n",
    "my_fruit_series + ' is a fruit!'\n",
    "my_fruit_series"
   ]
  },
  {
   "cell_type": "code",
   "execution_count": 18,
   "metadata": {
    "colab": {
     "base_uri": "https://localhost:8080/"
    },
    "id": "5c9wmQKgK5ZR",
    "outputId": "1af7573e-3dd8-4df8-d4e7-2353165ed048"
   },
   "outputs": [
    {
     "data": {
      "text/plain": "180    banana is a fruit!\n120    banana is a fruit!\n15      apple is a fruit!\n650     apple is a fruit!\n450     apple is a fruit!\ndtype: object"
     },
     "execution_count": 18,
     "metadata": {},
     "output_type": "execute_result"
    }
   ],
   "source": [
    "# but this does\n",
    "my_fruit_series = my_fruit_series + ' is a fruit!'\n",
    "my_fruit_series"
   ]
  },
  {
   "cell_type": "markdown",
   "metadata": {
    "id": "bDM6AQkf-U51"
   },
   "source": [
    "## Sorting Series by Index and Value\n",
    "When we have wanted to sort a Python list, we have relied on the `.sort()` list method which works by sorting the list 'in place' and returning None. Sorting a series works much differently, for a few reasons. First, when we are working with a series, we can sort on either the index or sort on the values. \n",
    "\n",
    "To sort on the index, we use `.sort_index()`"
   ]
  },
  {
   "cell_type": "code",
   "execution_count": 19,
   "metadata": {
    "colab": {
     "base_uri": "https://localhost:8080/"
    },
    "id": "ee8xKU1y-UMl",
    "outputId": "5967c0f7-cb5d-41dd-acf7-eb8e7e7a6cbd"
   },
   "outputs": [
    {
     "data": {
      "text/plain": "15      apple is a fruit!\n120    banana is a fruit!\n180    banana is a fruit!\n450     apple is a fruit!\n650     apple is a fruit!\ndtype: object"
     },
     "execution_count": 19,
     "metadata": {},
     "output_type": "execute_result"
    }
   ],
   "source": [
    "# sort on the index\n",
    "my_fruit_series.sort_index()"
   ]
  },
  {
   "cell_type": "markdown",
   "metadata": {
    "id": "hZQZiTlU_EzV"
   },
   "source": [
    "To sort on the values, we use `.sort_values()`."
   ]
  },
  {
   "cell_type": "code",
   "execution_count": 20,
   "metadata": {
    "colab": {
     "base_uri": "https://localhost:8080/"
    },
    "id": "_HEkLN_C_LS2",
    "outputId": "3e98f006-d73a-444a-d30f-a49b26821553"
   },
   "outputs": [
    {
     "data": {
      "text/plain": "15      apple is a fruit!\n650     apple is a fruit!\n450     apple is a fruit!\n180    banana is a fruit!\n120    banana is a fruit!\ndtype: object"
     },
     "execution_count": 20,
     "metadata": {},
     "output_type": "execute_result"
    }
   ],
   "source": [
    "# sorting on the values\n",
    "my_fruit_series.sort_values()"
   ]
  },
  {
   "cell_type": "markdown",
   "metadata": {
    "id": "7w_uF_Xx_Tvd"
   },
   "source": [
    "Unlike sorting a list, when you sort a series, the sorting is not done 'in place'. The previous two code cells show the series sorted by index and then sorted by values, but, in both cases, we only created a view, we did not assign the result to a variable and the original series remains in its original order. "
   ]
  },
  {
   "cell_type": "code",
   "execution_count": 21,
   "metadata": {
    "colab": {
     "base_uri": "https://localhost:8080/"
    },
    "id": "hxPi7xFwJSK6",
    "outputId": "d6bf10cf-83ae-4e50-b84f-4d2e909585f2"
   },
   "outputs": [
    {
     "data": {
      "text/plain": "180    banana is a fruit!\n120    banana is a fruit!\n15      apple is a fruit!\n650     apple is a fruit!\n450     apple is a fruit!\ndtype: object"
     },
     "execution_count": 21,
     "metadata": {},
     "output_type": "execute_result"
    }
   ],
   "source": [
    "# the actual series object was not changed\n",
    "my_fruit_series"
   ]
  },
  {
   "cell_type": "markdown",
   "metadata": {
    "id": "as-NuomsNSjR"
   },
   "source": [
    "If we want to retain the sorted series, we can reassign the result over the original series. "
   ]
  },
  {
   "cell_type": "code",
   "execution_count": 22,
   "metadata": {
    "colab": {
     "base_uri": "https://localhost:8080/"
    },
    "id": "YRMCr7oVNfgf",
    "outputId": "f3921155-370e-4664-95ae-3434cedce64f"
   },
   "outputs": [
    {
     "data": {
      "text/plain": "15      apple is a fruit!\n650     apple is a fruit!\n450     apple is a fruit!\n180    banana is a fruit!\n120    banana is a fruit!\ndtype: object"
     },
     "execution_count": 22,
     "metadata": {},
     "output_type": "execute_result"
    }
   ],
   "source": [
    "my_fruit_series = my_fruit_series.sort_values()\n",
    "my_fruit_series"
   ]
  },
  {
   "cell_type": "code",
   "execution_count": 23,
   "metadata": {
    "colab": {
     "base_uri": "https://localhost:8080/"
    },
    "id": "pyPfTB-sOX4R",
    "outputId": "cf26f6fd-e9bd-4119-bc9d-b85115632a10"
   },
   "outputs": [
    {
     "data": {
      "text/plain": "15      apple is a fruit!\n120    banana is a fruit!\n180    banana is a fruit!\n450     apple is a fruit!\n650     apple is a fruit!\ndtype: object"
     },
     "execution_count": 23,
     "metadata": {},
     "output_type": "execute_result"
    }
   ],
   "source": [
    "my_fruit_series = my_fruit_series.sort_index()\n",
    "my_fruit_series"
   ]
  },
  {
   "cell_type": "markdown",
   "metadata": {
    "id": "E4hCzTbUgItg"
   },
   "source": [
    "Pandas does actually allow for 'in place' sorting. If you want to sort a series 'in place', perhaps because your series is very large and you don't want two copies in memory at the same time, sorting 'in place' can be done using an optional argument with both types of sort that we have covered. However, to keep things simple for now, I do not want you to use the 'in place' sorting argument in this class.  "
   ]
  },
  {
   "cell_type": "markdown",
   "metadata": {
    "id": "V7xE6560fVVG"
   },
   "source": [
    "Similar to `.sort()`, both `.sort_index()` and `.sort_values()` have optional arguments to control the direction of the sorting. "
   ]
  },
  {
   "cell_type": "code",
   "execution_count": 24,
   "metadata": {
    "colab": {
     "base_uri": "https://localhost:8080/"
    },
    "id": "YgUhCq81ftCH",
    "outputId": "e5b4548d-3668-44c0-cf19-6e318105fda7"
   },
   "outputs": [
    {
     "data": {
      "text/plain": "650     apple is a fruit!\n450     apple is a fruit!\n180    banana is a fruit!\n120    banana is a fruit!\n15      apple is a fruit!\ndtype: object"
     },
     "execution_count": 24,
     "metadata": {},
     "output_type": "execute_result"
    }
   ],
   "source": [
    "my_fruit_series = my_fruit_series.sort_index(ascending=False)\n",
    "my_fruit_series"
   ]
  }
 ],
 "metadata": {
  "colab": {
   "collapsed_sections": [],
   "name": "06.3 Series - Updating and Sorting.ipynb",
   "provenance": [],
   "toc_visible": true
  },
  "kernelspec": {
   "display_name": "Python 3",
   "language": "python",
   "name": "python3"
  },
  "language_info": {
   "codemirror_mode": {
    "name": "ipython",
    "version": 3
   },
   "file_extension": ".py",
   "mimetype": "text/x-python",
   "name": "python",
   "nbconvert_exporter": "python",
   "pygments_lexer": "ipython3",
   "version": "3.8.5"
  }
 },
 "nbformat": 4,
 "nbformat_minor": 1
}
