{
 "cells": [
  {
   "cell_type": "markdown",
   "metadata": {},
   "source": [
    "# In-Class Exercises, Ch. 2, Notebook 1\n",
    "\n",
    "[link to relevant book chapter/sections]"
   ]
  },
  {
   "cell_type": "markdown",
   "metadata": {},
   "source": [
    "## Values, Data Types, & Variables\n",
    "\n",
    "Write code to print out the type of each of the following values:\n",
    "\n",
    "```\n",
    "1\n",
    "123\n",
    "123.45\n",
    "'123.45'\n",
    "'Hi there'\n",
    "\"Something's here.\"\n",
    "\"emoji here\"\n",
    "['what', 'is', 'this']\n",
    "```"
   ]
  },
  {
   "cell_type": "code",
   "execution_count": 1,
   "metadata": {},
   "outputs": [],
   "source": [
    "# Your code here"
   ]
  },
  {
   "cell_type": "markdown",
   "metadata": {},
   "source": [
    "That last one is a new data type we haven't encountered yet.  Remember it, though; we'll see a lot of it soon enough."
   ]
  },
  {
   "cell_type": "markdown",
   "metadata": {},
   "source": [
    "To check your understanding of variable assignment statements, the following code lets you guess the value of `x` after each assignment.  Replace the `?` in the line following each assignment with your guess for the value of `x` at that point, and press CTRL-Enter to execute the block and check your guesses."
   ]
  },
  {
   "cell_type": "code",
   "execution_count": 31,
   "metadata": {},
   "outputs": [],
   "source": [
    "# The following defines a function used to check your guesses below.\n",
    "# You don't need to change it or understand it yet.\n",
    "def check_x(guess):\n",
    "    print(f\"Correct.    x is {x}.\" if x == guess else f\"Incorrect.  x is not {guess}.\")"
   ]
  },
  {
   "cell_type": "code",
   "execution_count": null,
   "metadata": {},
   "outputs": [],
   "source": [
    "x = 5\n",
    "# What does x equal?\n",
    "check_x(?)  # Replace the ? with your guess.\n",
    "\n",
    "y = 10\n",
    "# What does x equal?  (Note: this is not asking what *y* equals.)\n",
    "check_x(?)  # Replace the ? with your guess.\n",
    "\n",
    "z = x\n",
    "# What does x equal?\n",
    "check_x(?)  # Replace the ? with your guess.\n",
    "\n",
    "x = y\n",
    "# What does x equal?\n",
    "check_x(?)  # Replace the ? with your guess.\n",
    "\n",
    "x = x + z\n",
    "# What does x equal?\n",
    "check_x(?)  # Replace the ? with your guess.\n",
    "\n",
    "# Check your guesses by executing this block (CTRL+Enter)."
   ]
  },
  {
   "cell_type": "markdown",
   "metadata": {},
   "source": [
    "The following code is trying to add two numbers, but it isn't working; it's literally just sticking them together.  We really want numeric addition.  Correct the code, without changing the definitions of `first` and `second`, to perform numeric addition."
   ]
  },
  {
   "cell_type": "code",
   "execution_count": 4,
   "metadata": {},
   "outputs": [
    {
     "name": "stdout",
     "output_type": "stream",
     "text": [
      "The answer is 58412\n"
     ]
    }
   ],
   "source": [
    "first = \"584\"\n",
    "second = \"12\"\n",
    "\n",
    "answer = first + second\n",
    "print(\"The answer is\", answer)"
   ]
  },
  {
   "cell_type": "markdown",
   "metadata": {},
   "source": [
    "## Expressions"
   ]
  },
  {
   "cell_type": "markdown",
   "metadata": {},
   "source": [
    "## Input"
   ]
  },
  {
   "cell_type": "markdown",
   "metadata": {},
   "source": [
    "# Reflection\n",
    "\n",
    "Take one minute to reflect on the reading and in-class work for today's class.  Briefly respond to any of the following prompts that are relevant to you.\n",
    "- Have you found anything interesting, surprsing, or exciting?\n",
    "- Have you felt frustrated by any of the concepts or work?\n",
    "- Roughly how long did you spend outside of class preparing for today?\n",
    "- Do you have any questions about the material?\n",
    "- Do you have any questions about the course?\n",
    "\n",
    "Write your response in the Markdown cell below."
   ]
  },
  {
   "cell_type": "markdown",
   "metadata": {},
   "source": []
  },
  {
   "cell_type": "markdown",
   "metadata": {},
   "source": [
    "When you have finished your reflection, *save* this notebook, then submit it using [something?]."
   ]
  }
 ],
 "metadata": {
  "kernelspec": {
   "display_name": "Python 3",
   "language": "python",
   "name": "python3"
  },
  "language_info": {
   "codemirror_mode": {
    "name": "ipython",
    "version": 3
   },
   "file_extension": ".py",
   "mimetype": "text/x-python",
   "name": "python",
   "nbconvert_exporter": "python",
   "pygments_lexer": "ipython3",
   "version": "3.6.5"
  }
 },
 "nbformat": 4,
 "nbformat_minor": 2
}
