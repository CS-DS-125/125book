{
  "nbformat": 4,
  "nbformat_minor": 0,
  "metadata": {
    "kernelspec": {
      "display_name": "Python 3",
      "language": "python",
      "name": "python3"
    },
    "language_info": {
      "codemirror_mode": {
        "name": "ipython",
        "version": 3
      },
      "file_extension": ".py",
      "mimetype": "text/x-python",
      "name": "python",
      "nbconvert_exporter": "python",
      "pygments_lexer": "ipython3",
      "version": "3.6.8"
    },
    "colab": {
      "name": "06.6 Series - Grouping Methods.ipynb",
      "provenance": [],
      "collapsed_sections": [],
      "toc_visible": true
    }
  },
  "cells": [
    {
      "cell_type": "markdown",
      "metadata": {
        "id": "D0Qck8cX6c0i"
      },
      "source": [
        "# Series: Grouping\n"
      ]
    },
    {
      "cell_type": "markdown",
      "metadata": {
        "id": "8Cqm2TQoNH9N"
      },
      "source": [
        "## Introduction\n",
        "When we are working with data, the data will often contain values that we will want to treat as a group. For example, if we had data on sales every day over course of a year, we may want to know what the average for sales by month. To do this, we would:\n",
        "* take the daily data and split it into groups by month\n",
        "* calculate the average for each group seperately\n",
        "\n",
        "If we were interested in the highest sales in each month, we would do the same split but the calculate the maximum for each month instead of the average.  "
      ]
    },
    {
      "cell_type": "markdown",
      "metadata": {
        "id": "Io_zcqxEKP-z"
      },
      "source": [
        "\n",
        "\n",
        "\n",
        "## Using .groupby()\n",
        "Pandas has a few different tools that allow us to efficiently work with data that can be split into groups. In this section, we're specifcally going to introduce the series `.groupby()` method so you can start to get a sense for how the process works. We will return to this method again, once we have introduced dataframes. \n",
        "\n",
        "Here's a series that contains information about championships won by NBA teams."
      ]
    },
    {
      "cell_type": "code",
      "metadata": {
        "id": "tQxGnl_2wta0",
        "colab": {
          "base_uri": "https://localhost:8080/"
        },
        "outputId": "21e324ce-5bd4-4b4a-e576-5e2d6ab83056"
      },
      "source": [
        "import pandas as pd\n",
        "\n",
        "wlist = ['Los Angeles Lakers', 'Toronto Raptors', 'Golden State Warriors',\n",
        "  'Golden State Warriors', 'Cleveland Cavaliers', 'Golden State Warriors',\n",
        "  'San Antonio Spurs', 'Miami Heat', 'Miami Heat', 'Dallas Mavericks',\n",
        "  'Los Angeles Lakers', 'Los Angeles Lakers', 'Boston Celtics',\n",
        "  'San Antonio Spurs', 'Miami Heat', 'San Antonio Spurs', 'Detroit Pistons',\n",
        "  'San Antonio Spurs', 'Los Angeles Lakers', 'Los Angeles Lakers',\n",
        "  'Los Angeles Lakers', 'San Antonio Spurs', 'Chicago Bulls', 'Chicago Bulls',\n",
        "  'Chicago Bulls', 'Houston Rockets', 'Houston Rockets', 'Chicago Bulls',\n",
        "  'Chicago Bulls', 'Chicago Bulls', 'Detroit Pistons', 'Detroit Pistons',\n",
        "  'Los Angeles Lakers', 'Los Angeles Lakers', 'Boston Celtics',\n",
        "  'Los Angeles Lakers', 'Boston Celtics', 'Philadelphia 76ers',\n",
        "  'Los Angeles Lakers', 'Boston Celtics', 'Los Angeles Lakers',\n",
        "  'Seattle Supersonics', 'Washington Bullets', 'Portland Trail Blazers',\n",
        "  'Boston Celtics', 'Golden State Warriors', 'Boston Celtics','New York Knicks',\n",
        "  'Los Angeles Lakers', 'Milwaukee Bucks', 'New York Knicks', 'Boston Celtics',\n",
        "  'Boston Celtics', 'Philadelphia 76ers', 'Boston Celtics', 'Boston Celtics',\n",
        "  'Boston Celtics', 'Boston Celtics', 'Boston Celtics', 'Boston Celtics',\n",
        "  'Boston Celtics', 'Boston Celtics', 'St. Louis Hawks', 'Boston Celtics',\n",
        "  'Philadelphia Warriors', 'Syracuse Nationals', 'Minneapolis Lakers',\n",
        "  'Minneapolis Lakers', 'Minneapolis Lakers', 'Rochester Royals',\n",
        "  'Minneapolis Lakers', 'Minneapolis Lakers', 'Baltimore Bullets',\n",
        "  'Philadelphia Warriors']\n",
        "\n",
        "# construct series from list\n",
        "nba_series = pd.Series(index = wlist, data = range(2020,1946,-1))\n",
        "\n",
        "# check result\n",
        "nba_series.head()"
      ],
      "execution_count": null,
      "outputs": [
        {
          "output_type": "execute_result",
          "data": {
            "text/plain": [
              "Los Angeles Lakers       2020\n",
              "Toronto Raptors          2019\n",
              "Golden State Warriors    2018\n",
              "Golden State Warriors    2017\n",
              "Cleveland Cavaliers      2016\n",
              "dtype: int64"
            ]
          },
          "metadata": {
            "tags": []
          },
          "execution_count": 1
        }
      ]
    },
    {
      "cell_type": "markdown",
      "metadata": {
        "id": "-rHGfAA5OcIb"
      },
      "source": [
        "When we call `.groupby()` on a series, we must indicate how we want the grouping to be done. With our NBA championship data, we will group by the index which contains the team names. Pandas will inspect the index, and group together any rows that share the same index value. "
      ]
    },
    {
      "cell_type": "code",
      "metadata": {
        "id": "YonnOie9x5Q0",
        "colab": {
          "base_uri": "https://localhost:8080/"
        },
        "outputId": "197da123-1b19-4ec4-cf27-7bfea7c5b4a0"
      },
      "source": [
        "# creating a groupby oject from a series\n",
        "nba_grouped = nba_series.groupby(by=nba_series.index)\n",
        "nba_grouped"
      ],
      "execution_count": null,
      "outputs": [
        {
          "output_type": "execute_result",
          "data": {
            "text/plain": [
              "<pandas.core.groupby.generic.SeriesGroupBy object at 0x7fcef5b98450>"
            ]
          },
          "metadata": {
            "tags": []
          },
          "execution_count": 2
        }
      ]
    },
    {
      "cell_type": "markdown",
      "metadata": {
        "id": "CBkLoYe5PcoE"
      },
      "source": [
        "The code above creates a groupby object that we have assigned to the variable name `nba_grouped`. This object knows how to make the groups, but it actually doesn't do anything until we provide an additional method to indicate what we'd like done. If we group by team, what do we want to know next? The mean value for the team? The maximum value? Always think of it as a two step process:\n",
        "* step 1: specify how to split the data into groups to make the groupby object\n",
        "* step 2: specify what you want done with all of the values that are associated with each group \n",
        "\n",
        "For example, let's say we just wanted to know how many championship each team as won. We split the data into group by team name, then we can use the method `.count()` on the groupby object. This will give us the count of how many times each group has won."
      ]
    },
    {
      "cell_type": "code",
      "metadata": {
        "id": "N3Wi7Jr0MTa8",
        "colab": {
          "base_uri": "https://localhost:8080/"
        },
        "outputId": "ff7a0657-0125-40d7-eca7-e3306b8e56d3"
      },
      "source": [
        "# using .count with a groupby object\n",
        "nba_grouped.count()"
      ],
      "execution_count": null,
      "outputs": [
        {
          "output_type": "execute_result",
          "data": {
            "text/plain": [
              "Baltimore Bullets          1\n",
              "Boston Celtics            17\n",
              "Chicago Bulls              6\n",
              "Cleveland Cavaliers        1\n",
              "Dallas Mavericks           1\n",
              "Detroit Pistons            3\n",
              "Golden State Warriors      4\n",
              "Houston Rockets            2\n",
              "Los Angeles Lakers        12\n",
              "Miami Heat                 3\n",
              "Milwaukee Bucks            1\n",
              "Minneapolis Lakers         5\n",
              "New York Knicks            2\n",
              "Philadelphia 76ers         2\n",
              "Philadelphia Warriors      2\n",
              "Portland Trail Blazers     1\n",
              "Rochester Royals           1\n",
              "San Antonio Spurs          5\n",
              "Seattle Supersonics        1\n",
              "St. Louis Hawks            1\n",
              "Syracuse Nationals         1\n",
              "Toronto Raptors            1\n",
              "Washington Bullets         1\n",
              "dtype: int64"
            ]
          },
          "metadata": {
            "tags": []
          },
          "execution_count": 3
        }
      ]
    },
    {
      "cell_type": "markdown",
      "metadata": {
        "id": "c5oOVNUyQtys"
      },
      "source": [
        "If we just wanted to know who had won the most, we can sort the result."
      ]
    },
    {
      "cell_type": "code",
      "metadata": {
        "id": "N2ISRYdJQxaL",
        "colab": {
          "base_uri": "https://localhost:8080/"
        },
        "outputId": "1ae555a5-a36b-4775-a4ff-93ea4bef4455"
      },
      "source": [
        "# counting and sorting with a groupby object\n",
        "nba_grouped.count().sort_values(ascending = False).head()"
      ],
      "execution_count": null,
      "outputs": [
        {
          "output_type": "execute_result",
          "data": {
            "text/plain": [
              "Boston Celtics        17\n",
              "Los Angeles Lakers    12\n",
              "Chicago Bulls          6\n",
              "Minneapolis Lakers     5\n",
              "San Antonio Spurs      5\n",
              "dtype: int64"
            ]
          },
          "metadata": {
            "tags": []
          },
          "execution_count": 4
        }
      ]
    },
    {
      "cell_type": "markdown",
      "metadata": {
        "id": "KlbUV6jxQ7er"
      },
      "source": [
        "Remember it's a two step process. First, you need to create the groupby object, then you need to call a method on the grouped object. "
      ]
    },
    {
      "cell_type": "markdown",
      "metadata": {
        "id": "EHFsU56PTVG6"
      },
      "source": [
        "## Getting Groups from a Groupby Object\n",
        "The method `.get_group()` can be used to get information on a single group from the groupby object."
      ]
    },
    {
      "cell_type": "code",
      "metadata": {
        "id": "Qwa2Bv3FTbtz",
        "colab": {
          "base_uri": "https://localhost:8080/"
        },
        "outputId": "ec68e4ab-01c5-4e2c-c5ff-7a07e6810b86"
      },
      "source": [
        "# get a single group from a groupby object\n",
        "nba_grouped.get_group('Chicago Bulls')"
      ],
      "execution_count": null,
      "outputs": [
        {
          "output_type": "execute_result",
          "data": {
            "text/plain": [
              "Chicago Bulls    1998\n",
              "Chicago Bulls    1997\n",
              "Chicago Bulls    1996\n",
              "Chicago Bulls    1993\n",
              "Chicago Bulls    1992\n",
              "Chicago Bulls    1991\n",
              "dtype: int64"
            ]
          },
          "metadata": {
            "tags": []
          },
          "execution_count": 5
        }
      ]
    },
    {
      "cell_type": "code",
      "metadata": {
        "id": "C5oYuCfIFdkB",
        "colab": {
          "base_uri": "https://localhost:8080/"
        },
        "outputId": "4c686968-d794-4744-8ab1-92a74dea332f"
      },
      "source": [
        "# get a single group from a groupby object\n",
        "nba_grouped.get_group('Minneapolis Lakers')"
      ],
      "execution_count": null,
      "outputs": [
        {
          "output_type": "execute_result",
          "data": {
            "text/plain": [
              "Minneapolis Lakers    1954\n",
              "Minneapolis Lakers    1953\n",
              "Minneapolis Lakers    1952\n",
              "Minneapolis Lakers    1950\n",
              "Minneapolis Lakers    1949\n",
              "dtype: int64"
            ]
          },
          "metadata": {
            "tags": []
          },
          "execution_count": 6
        }
      ]
    },
    {
      "cell_type": "markdown",
      "metadata": {
        "id": "fHOLdz-HRTyr"
      },
      "source": [
        "## Examples"
      ]
    },
    {
      "cell_type": "markdown",
      "metadata": {
        "id": "ajNMenhjN2AN"
      },
      "source": [
        "What year was each team's first championship win?"
      ]
    },
    {
      "cell_type": "code",
      "metadata": {
        "id": "hPfZt75RMb0T",
        "colab": {
          "base_uri": "https://localhost:8080/"
        },
        "outputId": "cd0d7182-46e5-42bd-95a3-ce7270d6539d"
      },
      "source": [
        "# groupby object + .min()\n",
        "nba_grouped.min()"
      ],
      "execution_count": null,
      "outputs": [
        {
          "output_type": "execute_result",
          "data": {
            "text/plain": [
              "Baltimore Bullets         1948\n",
              "Boston Celtics            1957\n",
              "Chicago Bulls             1991\n",
              "Cleveland Cavaliers       2016\n",
              "Dallas Mavericks          2011\n",
              "Detroit Pistons           1989\n",
              "Golden State Warriors     1975\n",
              "Houston Rockets           1994\n",
              "Los Angeles Lakers        1972\n",
              "Miami Heat                2006\n",
              "Milwaukee Bucks           1971\n",
              "Minneapolis Lakers        1949\n",
              "New York Knicks           1970\n",
              "Philadelphia 76ers        1967\n",
              "Philadelphia Warriors     1947\n",
              "Portland Trail Blazers    1977\n",
              "Rochester Royals          1951\n",
              "San Antonio Spurs         1999\n",
              "Seattle Supersonics       1979\n",
              "St. Louis Hawks           1958\n",
              "Syracuse Nationals        1955\n",
              "Toronto Raptors           2019\n",
              "Washington Bullets        1978\n",
              "dtype: int64"
            ]
          },
          "metadata": {
            "tags": []
          },
          "execution_count": 7
        }
      ]
    },
    {
      "cell_type": "markdown",
      "metadata": {
        "id": "lZpxSiG-Nvv7"
      },
      "source": [
        "What year was each team's most recent championship?"
      ]
    },
    {
      "cell_type": "code",
      "metadata": {
        "id": "R5AvZMALMqIT",
        "colab": {
          "base_uri": "https://localhost:8080/"
        },
        "outputId": "21918059-47b5-4ce6-a3f1-9ee47b384631"
      },
      "source": [
        "# groupby object + .max()\n",
        "nba_grouped.max()"
      ],
      "execution_count": null,
      "outputs": [
        {
          "output_type": "execute_result",
          "data": {
            "text/plain": [
              "Baltimore Bullets         1948\n",
              "Boston Celtics            2008\n",
              "Chicago Bulls             1998\n",
              "Cleveland Cavaliers       2016\n",
              "Dallas Mavericks          2011\n",
              "Detroit Pistons           2004\n",
              "Golden State Warriors     2018\n",
              "Houston Rockets           1995\n",
              "Los Angeles Lakers        2020\n",
              "Miami Heat                2013\n",
              "Milwaukee Bucks           1971\n",
              "Minneapolis Lakers        1954\n",
              "New York Knicks           1973\n",
              "Philadelphia 76ers        1983\n",
              "Philadelphia Warriors     1956\n",
              "Portland Trail Blazers    1977\n",
              "Rochester Royals          1951\n",
              "San Antonio Spurs         2014\n",
              "Seattle Supersonics       1979\n",
              "St. Louis Hawks           1958\n",
              "Syracuse Nationals        1955\n",
              "Toronto Raptors           2019\n",
              "Washington Bullets        1978\n",
              "dtype: int64"
            ]
          },
          "metadata": {
            "tags": []
          },
          "execution_count": 8
        }
      ]
    },
    {
      "cell_type": "markdown",
      "metadata": {
        "id": "aRdqDCc0NKzq"
      },
      "source": [
        "Which team had the longest period between their first and last championship?"
      ]
    },
    {
      "cell_type": "code",
      "metadata": {
        "id": "7fairCdjM41z",
        "colab": {
          "base_uri": "https://localhost:8080/"
        },
        "outputId": "11284d31-e28a-4e80-f6cb-03a4166e30c7"
      },
      "source": [
        "# substract min from max, sort values, and view head\n",
        "(nba_grouped.max() - nba_grouped.min()).sort_values(ascending = False).head(10)"
      ],
      "execution_count": null,
      "outputs": [
        {
          "output_type": "execute_result",
          "data": {
            "text/plain": [
              "Boston Celtics           51\n",
              "Los Angeles Lakers       48\n",
              "Golden State Warriors    43\n",
              "Philadelphia 76ers       16\n",
              "San Antonio Spurs        15\n",
              "Detroit Pistons          15\n",
              "Philadelphia Warriors     9\n",
              "Chicago Bulls             7\n",
              "Miami Heat                7\n",
              "Minneapolis Lakers        5\n",
              "dtype: int64"
            ]
          },
          "metadata": {
            "tags": []
          },
          "execution_count": 9
        }
      ]
    },
    {
      "cell_type": "markdown",
      "metadata": {
        "id": "NfRMypsRF3qg"
      },
      "source": [
        "It looks like some teams may have moved from one city to another. Let's get a sense of wins if we ignore the city."
      ]
    },
    {
      "cell_type": "code",
      "metadata": {
        "id": "sfZhYM9DF_sY",
        "colab": {
          "base_uri": "https://localhost:8080/"
        },
        "outputId": "2aa2368f-a22f-4bcd-c342-f9533866dd44"
      },
      "source": [
        "# split the index into a series of lists, grab the last element from each\n",
        "team_nocity = nba_series.index.str.split(' ').str[-1]\n",
        "\n",
        "# create a series from the modified index\n",
        "team_nocity_series = pd.Series(index = team_nocity, data = range(2020,1946,-1))\n",
        "\n",
        "# group the teams by name\n",
        "team_nocity_grouped = team_nocity_series.groupby(by=team_nocity_series.index)\n",
        "\n",
        "# get the counts for the grouped object\n",
        "team_nocity_grouped.count().sort_values(ascending=False).head(10)"
      ],
      "execution_count": null,
      "outputs": [
        {
          "output_type": "execute_result",
          "data": {
            "text/plain": [
              "Lakers      17\n",
              "Celtics     17\n",
              "Warriors     6\n",
              "Bulls        6\n",
              "Spurs        5\n",
              "Pistons      3\n",
              "Heat         3\n",
              "Bullets      2\n",
              "Knicks       2\n",
              "Rockets      2\n",
              "dtype: int64"
            ]
          },
          "metadata": {
            "tags": []
          },
          "execution_count": 10
        }
      ]
    },
    {
      "cell_type": "markdown",
      "metadata": {
        "id": "ioeXsejAHdK4"
      },
      "source": [
        "Our data isn't up to date. It stops at 2020. Up until then, the Lakers and Celtics were tied for the number of championships, as were the Warriors and the Bulls. "
      ]
    }
  ]
}