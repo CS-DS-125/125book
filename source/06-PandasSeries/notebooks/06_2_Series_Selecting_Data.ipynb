{
  "nbformat": 4,
  "nbformat_minor": 0,
  "metadata": {
    "kernelspec": {
      "display_name": "Python 3",
      "language": "python",
      "name": "python3"
    },
    "language_info": {
      "codemirror_mode": {
        "name": "ipython",
        "version": 3
      },
      "file_extension": ".py",
      "mimetype": "text/x-python",
      "name": "python",
      "nbconvert_exporter": "python",
      "pygments_lexer": "ipython3",
      "version": "3.6.8"
    },
    "colab": {
      "name": "06.2 Series - Selecting Data.ipynb",
      "provenance": [],
      "collapsed_sections": []
    }
  },
  "cells": [
    {
      "cell_type": "markdown",
      "metadata": {
        "id": "D0Qck8cX6c0i"
      },
      "source": [
        "# Series: Selecting Data\n"
      ]
    },
    {
      "cell_type": "markdown",
      "metadata": {
        "id": "etF9LIv2Bx7S"
      },
      "source": [
        "## Selecting Data Using the Index\n",
        "The lists we are used to working with have an index of integer values that start with 0 and increase by one for every value in the list. In contrast, a series has an index that can be anything we like. You can think of it as a second set of values that can be associated with the data in the series. \n",
        "\n",
        "We will refer to the values in the index as labels. We can use the labels to retrieve subsets of data from our series. "
      ]
    },
    {
      "cell_type": "code",
      "metadata": {
        "id": "GPRYfkECBz2J",
        "colab": {
          "base_uri": "https://localhost:8080/"
        },
        "outputId": "6b1bacc5-fe8b-4e65-f7f9-cb2f39772e8f"
      },
      "source": [
        "# imports\n",
        "import pandas as pd\n",
        "\n",
        "# create lists of fruits and weights\n",
        "fruit_name_list = ['apple', 'banana', 'cherry', 'dates', 'elderberry']\n",
        "fruit_weight_list = [180, 120, 15, 650, 450]\n",
        "\n",
        "# create series from lists\n",
        "my_fruit_series = pd.Series(data=fruit_weight_list,\n",
        "                            index=fruit_name_list)\n",
        "my_fruit_series"
      ],
      "execution_count": 2,
      "outputs": [
        {
          "output_type": "execute_result",
          "data": {
            "text/plain": [
              "apple         180\n",
              "banana        120\n",
              "cherry         15\n",
              "dates         650\n",
              "elderberry    450\n",
              "dtype: int64"
            ]
          },
          "metadata": {
            "tags": []
          },
          "execution_count": 2
        }
      ]
    },
    {
      "cell_type": "markdown",
      "metadata": {
        "id": "rWipgrsbD2q6"
      },
      "source": [
        "Notice that the datatype of the series is based on the values in the series, not on the values in the index. \n",
        "\n",
        "Now that our series has both an index and values, we can access those values seperately using dot notation. "
      ]
    },
    {
      "cell_type": "code",
      "metadata": {
        "id": "fwnb6lP5D2Hi",
        "colab": {
          "base_uri": "https://localhost:8080/"
        },
        "outputId": "1c92fb60-e3a1-4e37-cc61-1631ba92b51f"
      },
      "source": [
        "# examine the series index attribute\n",
        "my_fruit_series.index"
      ],
      "execution_count": 3,
      "outputs": [
        {
          "output_type": "execute_result",
          "data": {
            "text/plain": [
              "Index(['apple', 'banana', 'cherry', 'dates', 'elderberry'], dtype='object')"
            ]
          },
          "metadata": {
            "tags": []
          },
          "execution_count": 3
        }
      ]
    },
    {
      "cell_type": "code",
      "metadata": {
        "id": "Of34YfmIEYky",
        "colab": {
          "base_uri": "https://localhost:8080/"
        },
        "outputId": "a8f89ef6-3e23-43b8-ecd1-6b191e9c9224"
      },
      "source": [
        "# examine the series values attribute\n",
        "my_fruit_series.values"
      ],
      "execution_count": 4,
      "outputs": [
        {
          "output_type": "execute_result",
          "data": {
            "text/plain": [
              "array([180, 120,  15, 650, 450])"
            ]
          },
          "metadata": {
            "tags": []
          },
          "execution_count": 4
        }
      ]
    },
    {
      "cell_type": "markdown",
      "metadata": {
        "id": "I1dcnvc0GGoN"
      },
      "source": [
        "The values of a series index do not have to be unique. "
      ]
    },
    {
      "cell_type": "code",
      "metadata": {
        "id": "A58kih7WGOrc",
        "colab": {
          "base_uri": "https://localhost:8080/"
        },
        "outputId": "04b4ecd7-0d54-4a9e-c095-a80b67b736f1"
      },
      "source": [
        "# create lists for a series with repeated values in index\n",
        "fruit_name_list = ['apple', 'apple', 'apple', 'banana', 'banana']\n",
        "fruit_weight_list = [180, 120, 15, 650, 450]\n",
        "\n",
        "# constructs series with repeated values in the index\n",
        "my_fruit_series = pd.Series(data=fruit_weight_list,\n",
        "                            index=fruit_name_list)\n",
        "my_fruit_series"
      ],
      "execution_count": 5,
      "outputs": [
        {
          "output_type": "execute_result",
          "data": {
            "text/plain": [
              "apple     180\n",
              "apple     120\n",
              "apple      15\n",
              "banana    650\n",
              "banana    450\n",
              "dtype: int64"
            ]
          },
          "metadata": {
            "tags": []
          },
          "execution_count": 5
        }
      ]
    },
    {
      "cell_type": "markdown",
      "metadata": {
        "id": "LlZrfvGWHTXK"
      },
      "source": [
        "The values in an index also do not need to be sequential, and can be of any data type."
      ]
    },
    {
      "cell_type": "code",
      "metadata": {
        "id": "QYuSDtEvGvMt",
        "colab": {
          "base_uri": "https://localhost:8080/"
        },
        "outputId": "bd337f75-3a67-4b52-8f5d-e29e02d3123e"
      },
      "source": [
        "# create lists for constructing a series with an non-sequential index\n",
        "fruit_name_list = ['banana', 'banana', 'apple', 'apple', 'apple']\n",
        "fruit_weight_list = [180, 120, 15, 650, 450]\n",
        "\n",
        "# constructs a series with a non-sequential index\n",
        "my_fruit_series = pd.Series(data=fruit_name_list,\n",
        "                            index=fruit_weight_list)\n",
        "my_fruit_series"
      ],
      "execution_count": 6,
      "outputs": [
        {
          "output_type": "execute_result",
          "data": {
            "text/plain": [
              "180    banana\n",
              "120    banana\n",
              "15      apple\n",
              "650     apple\n",
              "450     apple\n",
              "dtype: object"
            ]
          },
          "metadata": {
            "tags": []
          },
          "execution_count": 6
        }
      ]
    },
    {
      "cell_type": "markdown",
      "metadata": {
        "id": "NDdUYrioH_Qj"
      },
      "source": [
        "### Selection by Label Using `.loc[]`\n",
        "To get or update values in a series, we would use square brackets in much the same way we would with lists. However, we are going add the method `.loc` before the brackets to specify that we are indexing or slicing based on the labels in the index. \n"
      ]
    },
    {
      "cell_type": "code",
      "metadata": {
        "id": "VTtTqd2eIP3c",
        "colab": {
          "base_uri": "https://localhost:8080/"
        },
        "outputId": "33754315-a8fb-4251-822b-010fffc32604"
      },
      "source": [
        "fruit_name_list = ['apple', 'banana', 'cherry', 'dates', 'elderberry']\n",
        "fruit_weight_list = [180, 120, 15, 650, 450]\n",
        "\n",
        "my_fruit_series = pd.Series(data=fruit_weight_list,\n",
        "                            index=fruit_name_list)\n",
        "my_fruit_series"
      ],
      "execution_count": 7,
      "outputs": [
        {
          "output_type": "execute_result",
          "data": {
            "text/plain": [
              "apple         180\n",
              "banana        120\n",
              "cherry         15\n",
              "dates         650\n",
              "elderberry    450\n",
              "dtype: int64"
            ]
          },
          "metadata": {
            "tags": []
          },
          "execution_count": 7
        }
      ]
    },
    {
      "cell_type": "code",
      "metadata": {
        "id": "RgDeTmzH84M7",
        "colab": {
          "base_uri": "https://localhost:8080/"
        },
        "outputId": "9d286f6f-914a-49d9-8c74-436aeb72f12c"
      },
      "source": [
        "# indexing a series values using .loc and an index label\n",
        "my_fruit_series.loc['apple']"
      ],
      "execution_count": 8,
      "outputs": [
        {
          "output_type": "execute_result",
          "data": {
            "text/plain": [
              "180"
            ]
          },
          "metadata": {
            "tags": []
          },
          "execution_count": 8
        }
      ]
    },
    {
      "cell_type": "code",
      "metadata": {
        "id": "oOAfbcWALh0j",
        "colab": {
          "base_uri": "https://localhost:8080/"
        },
        "outputId": "b94f5f79-4ab7-4bcf-a03b-27f3b9c0b6aa"
      },
      "source": [
        "# indexing a series values using .loc and an index label\n",
        "my_fruit_series.loc['dates']"
      ],
      "execution_count": 9,
      "outputs": [
        {
          "output_type": "execute_result",
          "data": {
            "text/plain": [
              "650"
            ]
          },
          "metadata": {
            "tags": []
          },
          "execution_count": 9
        }
      ]
    },
    {
      "cell_type": "markdown",
      "metadata": {
        "id": "DQYByI58-o0O"
      },
      "source": [
        "We can also used label based slicing to get a range of values."
      ]
    },
    {
      "cell_type": "code",
      "metadata": {
        "id": "CoSmCb6GLm8E",
        "colab": {
          "base_uri": "https://localhost:8080/"
        },
        "outputId": "7edcf0bd-5d1f-49c4-d18e-202080edce8a"
      },
      "source": [
        "# note the label and value of cherry are included\n",
        "my_fruit_series.loc['apple':'cherry']"
      ],
      "execution_count": 10,
      "outputs": [
        {
          "output_type": "execute_result",
          "data": {
            "text/plain": [
              "apple     180\n",
              "banana    120\n",
              "cherry     15\n",
              "dtype: int64"
            ]
          },
          "metadata": {
            "tags": []
          },
          "execution_count": 10
        }
      ]
    },
    {
      "cell_type": "markdown",
      "metadata": {
        "id": "VDsGFCgrWxhF"
      },
      "source": [
        "Note: Unlike normal Python slicing, which would would usually go up to, but not include, the stop value, slicing with `.loc` includes the 'stop' value."
      ]
    },
    {
      "cell_type": "code",
      "metadata": {
        "id": "TXGjYh1bLy4L",
        "colab": {
          "base_uri": "https://localhost:8080/"
        },
        "outputId": "9368f6fa-82d6-4e1a-f308-dc6b056f4eb2"
      },
      "source": [
        "# slicing from a label until the end of the series\n",
        "my_fruit_series.loc['cherry':]"
      ],
      "execution_count": 11,
      "outputs": [
        {
          "output_type": "execute_result",
          "data": {
            "text/plain": [
              "cherry         15\n",
              "dates         650\n",
              "elderberry    450\n",
              "dtype: int64"
            ]
          },
          "metadata": {
            "tags": []
          },
          "execution_count": 11
        }
      ]
    },
    {
      "cell_type": "markdown",
      "metadata": {
        "id": "PUnnquqEPXy7"
      },
      "source": [
        "Since multiple values in the series can have the same 'label' or value for the index, indexing will return all values with a label, rather than just one. "
      ]
    },
    {
      "cell_type": "code",
      "metadata": {
        "id": "SspjlA14O30t",
        "colab": {
          "base_uri": "https://localhost:8080/"
        },
        "outputId": "6920a3e6-8f4d-48f8-d8bc-c000dfddc08a"
      },
      "source": [
        "# constructs a series with repeated values in index\n",
        "fruit_name_list = ['apple', 'apple', 'apple', 'banana', 'banana']\n",
        "fruit_weight_list = [180, 120, 15, 650, 450]\n",
        "my_fruit_series = pd.Series(data=fruit_weight_list,\n",
        "                            index=fruit_name_list)\n",
        "\n",
        "# indexing by index label when there are repated values in index\n",
        "my_fruit_series.loc['apple']"
      ],
      "execution_count": 12,
      "outputs": [
        {
          "output_type": "execute_result",
          "data": {
            "text/plain": [
              "apple    180\n",
              "apple    120\n",
              "apple     15\n",
              "dtype: int64"
            ]
          },
          "metadata": {
            "tags": []
          },
          "execution_count": 12
        }
      ]
    },
    {
      "cell_type": "markdown",
      "metadata": {
        "id": "zCvDoFo7OOek"
      },
      "source": [
        "### Selection by Position Using `.iloc[]`\n",
        "\n",
        "If you want to ignore the labels in the index and select values based on position, in the same way you do with a Python list, you can use 'implicit' indexing with `.iloc`. \n",
        "\n",
        "Note: unlike `.loc`, slicing with `.iloc` works just like it does in python lists and strings; the stop value is not included."
      ]
    },
    {
      "cell_type": "code",
      "metadata": {
        "id": "DSfBTiPRPy3T",
        "colab": {
          "base_uri": "https://localhost:8080/"
        },
        "outputId": "c0bdc3ee-1ad7-44d7-bb5a-af3353aa83e2"
      },
      "source": [
        "fruit_name_list = ['apple', 'banana', 'cherry', 'dates', 'elderberry']\n",
        "fruit_weight_list = [180, 120, 15, 650, 450]\n",
        "\n",
        "my_fruit_series = pd.Series(data=fruit_weight_list,\n",
        "                            index=fruit_name_list)\n",
        "\n",
        "my_fruit_series.iloc[1:3]"
      ],
      "execution_count": 13,
      "outputs": [
        {
          "output_type": "execute_result",
          "data": {
            "text/plain": [
              "banana    120\n",
              "cherry     15\n",
              "dtype: int64"
            ]
          },
          "metadata": {
            "tags": []
          },
          "execution_count": 13
        }
      ]
    },
    {
      "cell_type": "markdown",
      "metadata": {
        "id": "0K_hds3DP8Ez"
      },
      "source": [
        "We can't do negative indexing using `.loc`, since its looking for labels, but we can do negative indexing with `.iloc`. "
      ]
    },
    {
      "cell_type": "code",
      "metadata": {
        "id": "rQaewYhtQR56",
        "colab": {
          "base_uri": "https://localhost:8080/"
        },
        "outputId": "1cc72b2a-c7fa-42db-e15b-ac8663fe262d"
      },
      "source": [
        "fruit_name_list = ['apple', 'banana', 'cherry', 'dates', 'elderberry']\n",
        "fruit_weight_list = [180, 120, 15, 650, 450]\n",
        "\n",
        "my_fruit_series = pd.Series(data=fruit_weight_list,\n",
        "                            index=fruit_name_list)\n",
        "\n",
        "my_fruit_series.iloc[-4:-1]"
      ],
      "execution_count": 14,
      "outputs": [
        {
          "output_type": "execute_result",
          "data": {
            "text/plain": [
              "banana    120\n",
              "cherry     15\n",
              "dates     650\n",
              "dtype: int64"
            ]
          },
          "metadata": {
            "tags": []
          },
          "execution_count": 14
        }
      ]
    },
    {
      "cell_type": "markdown",
      "metadata": {
        "id": "Huog5ti9RTO7"
      },
      "source": [
        "We are going to spend a lot of time in this class asking Pandas to look at a series and identify some subset of values that are associated with a particular label or set of labels, so `.loc` will usually suffice. We will rarely use implicit indexing, so we are not going to practice it. However, it's important you know that it exists and that you recognize that when we use `.loc` we are relying on labels in the index rather than positions. \n",
        "\n"
      ]
    },
    {
      "cell_type": "markdown",
      "metadata": {
        "id": "oAnjbE8MZx25"
      },
      "source": [
        "### Selection by Condition Using Booleans"
      ]
    },
    {
      "cell_type": "markdown",
      "metadata": {
        "id": "QH_xAoeq0LCh"
      },
      "source": [
        "When we use logical operators with a series, we get back a series full of Boolean values. The code below produces a series of Boolean values where for each element in the original series"
      ]
    },
    {
      "cell_type": "code",
      "metadata": {
        "id": "0rsC88-NaD6Z",
        "colab": {
          "base_uri": "https://localhost:8080/"
        },
        "outputId": "1bb29430-2e25-4ce2-b5f2-ff1e84463c81"
      },
      "source": [
        "fruit_name_list = ['apple', 'banana', 'cherry', 'dates', 'elderberry']\n",
        "fruit_weight_list = [180, 120, 15, 45, 75]\n",
        "\n",
        "my_fruit_series = pd.Series(data=fruit_weight_list,\n",
        "                            index=fruit_name_list)\n",
        "\n",
        "my_fruit_series < 100"
      ],
      "execution_count": 15,
      "outputs": [
        {
          "output_type": "execute_result",
          "data": {
            "text/plain": [
              "apple         False\n",
              "banana        False\n",
              "cherry         True\n",
              "dates          True\n",
              "elderberry     True\n",
              "dtype: bool"
            ]
          },
          "metadata": {
            "tags": []
          },
          "execution_count": 15
        }
      ]
    },
    {
      "cell_type": "code",
      "metadata": {
        "id": "fxV06zJAaq7D",
        "colab": {
          "base_uri": "https://localhost:8080/"
        },
        "outputId": "b6132443-c64a-4b69-e9db-a5107ed34160"
      },
      "source": [
        "my_fruit_series == 45"
      ],
      "execution_count": 16,
      "outputs": [
        {
          "output_type": "execute_result",
          "data": {
            "text/plain": [
              "apple         False\n",
              "banana        False\n",
              "cherry        False\n",
              "dates          True\n",
              "elderberry    False\n",
              "dtype: bool"
            ]
          },
          "metadata": {
            "tags": []
          },
          "execution_count": 16
        }
      ]
    },
    {
      "cell_type": "code",
      "metadata": {
        "id": "1vccdrRAaycx",
        "colab": {
          "base_uri": "https://localhost:8080/"
        },
        "outputId": "1e3f3f4c-5c67-4e2b-ce56-1350661dff44"
      },
      "source": [
        "my_fruit_series >= 100"
      ],
      "execution_count": 17,
      "outputs": [
        {
          "output_type": "execute_result",
          "data": {
            "text/plain": [
              "apple          True\n",
              "banana         True\n",
              "cherry        False\n",
              "dates         False\n",
              "elderberry    False\n",
              "dtype: bool"
            ]
          },
          "metadata": {
            "tags": []
          },
          "execution_count": 17
        }
      ]
    },
    {
      "cell_type": "markdown",
      "metadata": {
        "id": "h4pwAAZLa3eA"
      },
      "source": [
        "These series of booleans can be used as a mask to select specific values that meet a condition. We can do this by using the mask as an index. "
      ]
    },
    {
      "cell_type": "code",
      "metadata": {
        "id": "vA6ICvlVbDbp",
        "colab": {
          "base_uri": "https://localhost:8080/"
        },
        "outputId": "322f4489-386a-4de1-9896-70e8fc5cb961"
      },
      "source": [
        "# create the boolean mask and assign to a variable\n",
        "heavy_fruit_mask = (my_fruit_series >= 100)\n",
        "\n",
        "# use the mask variable to index into the series\n",
        "my_fruit_series.loc[heavy_fruit_mask]"
      ],
      "execution_count": 18,
      "outputs": [
        {
          "output_type": "execute_result",
          "data": {
            "text/plain": [
              "apple     180\n",
              "banana    120\n",
              "dtype: int64"
            ]
          },
          "metadata": {
            "tags": []
          },
          "execution_count": 18
        }
      ]
    },
    {
      "cell_type": "markdown",
      "metadata": {
        "id": "Eui87nIMbcbB"
      },
      "source": [
        "We will be doing a lot of Boolean masking in this course. At some points, we will be combining three or four Boolean masks to select some particular subset of data. All of this can be done in a single line of code, but I am going to ask you to do it in multiple steps to help with troubleshooting your code. "
      ]
    },
    {
      "cell_type": "code",
      "metadata": {
        "id": "JWMGqD9OcEN8",
        "colab": {
          "base_uri": "https://localhost:8080/"
        },
        "outputId": "40f623bd-20ab-40b1-a706-598111ae3085"
      },
      "source": [
        "# boolean masking done in a single step\n",
        "my_fruit_series.loc[my_fruit_series <= 100]"
      ],
      "execution_count": 19,
      "outputs": [
        {
          "output_type": "execute_result",
          "data": {
            "text/plain": [
              "cherry        15\n",
              "dates         45\n",
              "elderberry    75\n",
              "dtype: int64"
            ]
          },
          "metadata": {
            "tags": []
          },
          "execution_count": 19
        }
      ]
    },
    {
      "cell_type": "code",
      "metadata": {
        "id": "czMKxP5wb9IZ",
        "colab": {
          "base_uri": "https://localhost:8080/"
        },
        "outputId": "de400118-6cb0-48c9-e032-088c3e144c1c"
      },
      "source": [
        "# the same thing done in two steps\n",
        "\n",
        "# step 1: create the boolean mask and assign to a variable\n",
        "light_fruit_mask = (my_fruit_series <= 100)\n",
        "\n",
        "# step2: use the mask variable to index into the series\n",
        "my_fruit_series.loc[light_fruit_mask]"
      ],
      "execution_count": 20,
      "outputs": [
        {
          "output_type": "execute_result",
          "data": {
            "text/plain": [
              "cherry        15\n",
              "dates         45\n",
              "elderberry    75\n",
              "dtype: int64"
            ]
          },
          "metadata": {
            "tags": []
          },
          "execution_count": 20
        }
      ]
    },
    {
      "cell_type": "code",
      "metadata": {
        "id": "fiI1gNnK_prd",
        "colab": {
          "base_uri": "https://localhost:8080/"
        },
        "outputId": "ac2e1c52-48a6-4a59-bd81-053e472bdedb"
      },
      "source": [
        "# an example using multiple boolean masks\n",
        "\n",
        "# step 1: create the boolean mask and assign to a variable\n",
        "light_fruit_mask = (my_fruit_series <= 20)\n",
        "\n",
        "# step 1: create the boolean mask and assign to a variable\n",
        "heavy_fruit_mask = (my_fruit_series >= 100)\n",
        "\n",
        "# step2: use the mask variable to index into the series\n",
        "# the '|' in the code below substitutes for or, we'll discuss why soon\n",
        "my_fruit_series.loc[light_fruit_mask | heavy_fruit_mask] "
      ],
      "execution_count": 21,
      "outputs": [
        {
          "output_type": "execute_result",
          "data": {
            "text/plain": [
              "apple     180\n",
              "banana    120\n",
              "cherry     15\n",
              "dtype: int64"
            ]
          },
          "metadata": {
            "tags": []
          },
          "execution_count": 21
        }
      ]
    }
  ]
}