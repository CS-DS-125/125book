{
  "nbformat": 4,
  "nbformat_minor": 0,
  "metadata": {
    "kernelspec": {
      "display_name": "Python 3",
      "language": "python",
      "name": "python3"
    },
    "language_info": {
      "codemirror_mode": {
        "name": "ipython",
        "version": 3
      },
      "file_extension": ".py",
      "mimetype": "text/x-python",
      "name": "python",
      "nbconvert_exporter": "python",
      "pygments_lexer": "ipython3",
      "version": "3.6.8"
    },
    "colab": {
      "name": "10.1 Data Cleaning - Introduction.ipynb",
      "provenance": [],
      "collapsed_sections": [],
      "toc_visible": true
    }
  },
  "cells": [
    {
      "cell_type": "markdown",
      "metadata": {
        "id": "D0Qck8cX6c0i"
      },
      "source": [
        "# Data Cleaning\n"
      ]
    },
    {
      "cell_type": "markdown",
      "metadata": {
        "id": "8Cqm2TQoNH9N"
      },
      "source": [
        "## Introduction\n",
        "Cleaning data one part of the process of preparing real-world data for data analysis. Python and Pandas are really great tools for cleaning data and a basic background in coding can make the process of cleaning much faster, more efficient, more accurate, and more replicable than just about any other approach. \n",
        "\n",
        "Dirty data involves a host of different issues that undermine the accuracy and reliability of your data. Examples include: missing values, incorrectly input values, incorrectly repeated values, values with extraneous characters, improperly formatted values, and misidentified data-types.\n",
        "\n",
        "Before we get into approaches to fixing these issues, it's important to recognize that many people who deal with data are not in the habit of checking to see if their data needs cleaning before they do analyses. Not verifying the integrity of your data before conducting analyses is deeply problematic as any of the issues listed above may substantially alter conclusions we draw from the data and the actions we take. The analyses themselves will not necessarily show underlying issues. You have to stop and make sure you verify your data before you start your analysis. \n",
        "\n",
        "At the beginning of the semester, students took an anonymous survey with some random questions designs to produce both some clean and some dirty data. We will use those survey responses to learn some new data cleaning tools."
      ]
    },
    {
      "cell_type": "code",
      "metadata": {
        "id": "aLIrQchITphJ",
        "colab": {
          "base_uri": "https://localhost:8080/"
        },
        "outputId": "c6e504db-fb0e-4b35-8433-d18f16ddc54d"
      },
      "source": [
        "# import pandas\n",
        "import pandas as pd\n",
        "\n",
        "# results url\n",
        "url1 = \"https://docs.google.com/spreadsheets/d/e/'\n",
        "url2 = '2PACX-1vRkK73xD192AdP0jZe6ac9cnVPSeqqbYZmSPnhY2hnY8ANROAOCS'\n",
        "url3 = 'tRFdvjwFoapv3j2rzMtZ91KXPFm/pub?output=csv'\n",
        "\n",
        "# create data frame from url\n",
        "df = pd.read_csv(url1 + url2 + url3)\n",
        "\n",
        "# assign original headers to list\n",
        "survey_questions = df.columns.to_list()\n",
        "\n",
        "# replace with column names easier to work with\n",
        "renamelist = ['Timestamp', 'musicartist', 'height', 'city', '30min', 'travel',\n",
        "              'likepizza', 'deepdish', 'sport', 'spell', 'hangout', 'talk',\n",
        "              'year', 'quote']\n",
        "df.columns = renamelist\n",
        "\n",
        "# print new column labels and original\n",
        "for i in range(len(renamelist)):\n",
        "  print(f'{renamelist[i]:15} {survey_questions[i]}')"
      ],
      "execution_count": null,
      "outputs": [
        {
          "output_type": "stream",
          "text": [
            "Timestamp       Timestamp\n",
            "musicartist     Who is your favorite music artist (broadly defined)?\n",
            "height          What physical height would you like to be?\n",
            "city            If you had to live in city, but could pick any city in the world, what city would you live in?\n",
            "30min           If you could have 30 minutes to talk with any person, living or dead, who would you pick?\n",
            "travel          If you could travel to any location in the world for vacation, where would you go?\n",
            "likepizza       On a scale of 1 (gross) to five (awesome) how much do you like pizza?\n",
            "deepdish        Is Chicago-style deep dish actually pizza or is it really casserole?\n",
            "sport           What sport do you most enjoy watching?\n",
            "spell           Which is the most difficult to spell? \n",
            "hangout         What is the optimal number of people to hang out with?\n",
            "talk            Do you think you talk more or less than the average person?\n",
            "year            If you had a time machine and could visit any year you like, which year would you pick?\n",
            "quote           What's you favorite inspirational quote? You don't need to do this from memory. Feel free to look something up and then paste it in here. \n"
          ],
          "name": "stdout"
        }
      ]
    },
    {
      "cell_type": "markdown",
      "metadata": {
        "id": "r6VKUmtN_X6A"
      },
      "source": [
        "## Examining the Dataframe for Errors\n",
        "We had previously used `.info()` for checking column names and row numbers. It has a few more uses when we've got dirty data. "
      ]
    },
    {
      "cell_type": "code",
      "metadata": {
        "id": "B3-G_BpS9NsX",
        "colab": {
          "base_uri": "https://localhost:8080/"
        },
        "outputId": "331e73ab-5ca3-474b-aa7a-4a61340f3781"
      },
      "source": [
        "df.info()"
      ],
      "execution_count": null,
      "outputs": [
        {
          "output_type": "stream",
          "text": [
            "<class 'pandas.core.frame.DataFrame'>\n",
            "RangeIndex: 204 entries, 0 to 203\n",
            "Data columns (total 14 columns):\n",
            " #   Column       Non-Null Count  Dtype  \n",
            "---  ------       --------------  -----  \n",
            " 0   Timestamp    204 non-null    object \n",
            " 1   musicartist  193 non-null    object \n",
            " 2   height       203 non-null    object \n",
            " 3   city         202 non-null    object \n",
            " 4   30min        189 non-null    object \n",
            " 5   travel       202 non-null    object \n",
            " 6   likepizza    203 non-null    float64\n",
            " 7   deepdish     203 non-null    object \n",
            " 8   sport        197 non-null    object \n",
            " 9   spell        203 non-null    object \n",
            " 10  hangout      203 non-null    object \n",
            " 11  talk         202 non-null    object \n",
            " 12  year         197 non-null    object \n",
            " 13  quote        189 non-null    object \n",
            "dtypes: float64(1), object(13)\n",
            "memory usage: 22.4+ KB\n"
          ],
          "name": "stdout"
        }
      ]
    },
    {
      "cell_type": "markdown",
      "metadata": {
        "id": "yy_brnCy_6qn"
      },
      "source": [
        "We can see the number of entries (rows), the number of columns and their names, the non-null count (not missing), and the inferred datatype of each column. \n",
        "\n",
        "Null refers to missing or null values. In this particular dataset, we have missing values in every single column except the first. \n",
        "\n",
        "The inferred column data-types are all objects, except for `'likepizza'` which is a float. This means every other column has values of mixed data-types or strings in it, which might be entirely appropriate for most columns. However, its notable that some columns we might expect to be numeric are not. For example, the column `'hangout'` is responses to the question: 'What is the optimal number of people to hang out with?' We will need to dig into this a bit to see what's going on and convert this column to a numeric datatype before we can start using statistical tools like `.mean()` with this column."
      ]
    },
    {
      "cell_type": "markdown",
      "metadata": {
        "id": "Io_zcqxEKP-z"
      },
      "source": [
        "##Missing or Null Values\n"
      ]
    },
    {
      "cell_type": "markdown",
      "metadata": {
        "id": "_1MuKuzjUvX4"
      },
      "source": [
        "How to deal with missing or null values is a pretty complex topic in data analysis, statistics, and programming. We're going to just go into some of the basics here and introduce a few tools Pandas gives us to address missing data. \n",
        "\n",
        "When we say a value is missing or is null we do not mean that the value is an empty string, such as `' '`, or a zero value, such as `0` or `0.0`. Missing or null means there is no value present at all. For the survey data we are looking at now, it means the person taking the survey provided no answer. When we are representing our data with a series or a dataframe, we can't simply skip missing values, they must be encoded in some way. A series with a missing value at the fifth index can't just be one value shorter. It throws off everything. Instead, we need to plug in a special value that represents a missing value, so that when we perform operations on the series nothing goes awry. For example, if we ask for the mean value of a series of values that contains some missing values, we would not want to sum all the values and then divide by the length of the series. The length would include the missing values and throw off the mean value.   \n",
        "\n",
        "Unfortunately, depending on what packages you are using with Python the exact way a missing value is described or represented varies. Missing values are also called null values. Python or might represent or refer to missing values with:\n",
        "* `None`,\n",
        "* `np.NaN` for missing floats (NaN is an abbreviation for `not a number`)\n",
        "* `pd.NaT` for missing time data\n",
        "\n",
        "The Pandas methods we are going to use refer to missing values as 'na', which is short for 'not available'. These methods will typically detect multiple types of missing data. "
      ]
    },
    {
      "cell_type": "markdown",
      "metadata": {
        "id": "fLbifIstFMRk"
      },
      "source": [
        "### Finding Missing Values\n",
        "The method `.isna()` can be used with either a dataframe or individual series. It returns a boolean object where all missing values are mapped to True. All other values are mapped to False. "
      ]
    },
    {
      "cell_type": "code",
      "metadata": {
        "id": "bSgv2uJkFJA0",
        "colab": {
          "base_uri": "https://localhost:8080/",
          "height": 347
        },
        "outputId": "370b75fc-94a7-49e6-bb41-e704d94460ea"
      },
      "source": [
        "# using .isna() with a dataframe\n",
        "df.isna().head(10)"
      ],
      "execution_count": null,
      "outputs": [
        {
          "output_type": "execute_result",
          "data": {
            "text/html": [
              "<div>\n",
              "<style scoped>\n",
              "    .dataframe tbody tr th:only-of-type {\n",
              "        vertical-align: middle;\n",
              "    }\n",
              "\n",
              "    .dataframe tbody tr th {\n",
              "        vertical-align: top;\n",
              "    }\n",
              "\n",
              "    .dataframe thead th {\n",
              "        text-align: right;\n",
              "    }\n",
              "</style>\n",
              "<table border=\"1\" class=\"dataframe\">\n",
              "  <thead>\n",
              "    <tr style=\"text-align: right;\">\n",
              "      <th></th>\n",
              "      <th>Timestamp</th>\n",
              "      <th>musicartist</th>\n",
              "      <th>height</th>\n",
              "      <th>city</th>\n",
              "      <th>30min</th>\n",
              "      <th>travel</th>\n",
              "      <th>likepizza</th>\n",
              "      <th>deepdish</th>\n",
              "      <th>sport</th>\n",
              "      <th>spell</th>\n",
              "      <th>hangout</th>\n",
              "      <th>talk</th>\n",
              "      <th>year</th>\n",
              "      <th>quote</th>\n",
              "    </tr>\n",
              "  </thead>\n",
              "  <tbody>\n",
              "    <tr>\n",
              "      <th>0</th>\n",
              "      <td>False</td>\n",
              "      <td>False</td>\n",
              "      <td>False</td>\n",
              "      <td>False</td>\n",
              "      <td>False</td>\n",
              "      <td>False</td>\n",
              "      <td>False</td>\n",
              "      <td>False</td>\n",
              "      <td>False</td>\n",
              "      <td>False</td>\n",
              "      <td>False</td>\n",
              "      <td>False</td>\n",
              "      <td>False</td>\n",
              "      <td>False</td>\n",
              "    </tr>\n",
              "    <tr>\n",
              "      <th>1</th>\n",
              "      <td>False</td>\n",
              "      <td>False</td>\n",
              "      <td>False</td>\n",
              "      <td>False</td>\n",
              "      <td>False</td>\n",
              "      <td>False</td>\n",
              "      <td>False</td>\n",
              "      <td>False</td>\n",
              "      <td>False</td>\n",
              "      <td>False</td>\n",
              "      <td>False</td>\n",
              "      <td>False</td>\n",
              "      <td>False</td>\n",
              "      <td>False</td>\n",
              "    </tr>\n",
              "    <tr>\n",
              "      <th>2</th>\n",
              "      <td>False</td>\n",
              "      <td>False</td>\n",
              "      <td>False</td>\n",
              "      <td>False</td>\n",
              "      <td>False</td>\n",
              "      <td>False</td>\n",
              "      <td>False</td>\n",
              "      <td>False</td>\n",
              "      <td>False</td>\n",
              "      <td>False</td>\n",
              "      <td>False</td>\n",
              "      <td>False</td>\n",
              "      <td>False</td>\n",
              "      <td>False</td>\n",
              "    </tr>\n",
              "    <tr>\n",
              "      <th>3</th>\n",
              "      <td>False</td>\n",
              "      <td>False</td>\n",
              "      <td>False</td>\n",
              "      <td>False</td>\n",
              "      <td>False</td>\n",
              "      <td>False</td>\n",
              "      <td>False</td>\n",
              "      <td>False</td>\n",
              "      <td>False</td>\n",
              "      <td>False</td>\n",
              "      <td>False</td>\n",
              "      <td>False</td>\n",
              "      <td>False</td>\n",
              "      <td>False</td>\n",
              "    </tr>\n",
              "    <tr>\n",
              "      <th>4</th>\n",
              "      <td>False</td>\n",
              "      <td>False</td>\n",
              "      <td>False</td>\n",
              "      <td>False</td>\n",
              "      <td>False</td>\n",
              "      <td>False</td>\n",
              "      <td>False</td>\n",
              "      <td>False</td>\n",
              "      <td>False</td>\n",
              "      <td>False</td>\n",
              "      <td>False</td>\n",
              "      <td>False</td>\n",
              "      <td>False</td>\n",
              "      <td>False</td>\n",
              "    </tr>\n",
              "    <tr>\n",
              "      <th>5</th>\n",
              "      <td>False</td>\n",
              "      <td>False</td>\n",
              "      <td>False</td>\n",
              "      <td>False</td>\n",
              "      <td>False</td>\n",
              "      <td>False</td>\n",
              "      <td>False</td>\n",
              "      <td>False</td>\n",
              "      <td>False</td>\n",
              "      <td>False</td>\n",
              "      <td>False</td>\n",
              "      <td>False</td>\n",
              "      <td>False</td>\n",
              "      <td>False</td>\n",
              "    </tr>\n",
              "    <tr>\n",
              "      <th>6</th>\n",
              "      <td>False</td>\n",
              "      <td>False</td>\n",
              "      <td>False</td>\n",
              "      <td>False</td>\n",
              "      <td>False</td>\n",
              "      <td>False</td>\n",
              "      <td>False</td>\n",
              "      <td>False</td>\n",
              "      <td>True</td>\n",
              "      <td>False</td>\n",
              "      <td>False</td>\n",
              "      <td>False</td>\n",
              "      <td>False</td>\n",
              "      <td>False</td>\n",
              "    </tr>\n",
              "    <tr>\n",
              "      <th>7</th>\n",
              "      <td>False</td>\n",
              "      <td>False</td>\n",
              "      <td>False</td>\n",
              "      <td>False</td>\n",
              "      <td>False</td>\n",
              "      <td>False</td>\n",
              "      <td>False</td>\n",
              "      <td>False</td>\n",
              "      <td>False</td>\n",
              "      <td>False</td>\n",
              "      <td>False</td>\n",
              "      <td>False</td>\n",
              "      <td>False</td>\n",
              "      <td>False</td>\n",
              "    </tr>\n",
              "    <tr>\n",
              "      <th>8</th>\n",
              "      <td>False</td>\n",
              "      <td>False</td>\n",
              "      <td>False</td>\n",
              "      <td>False</td>\n",
              "      <td>True</td>\n",
              "      <td>False</td>\n",
              "      <td>False</td>\n",
              "      <td>False</td>\n",
              "      <td>False</td>\n",
              "      <td>False</td>\n",
              "      <td>False</td>\n",
              "      <td>False</td>\n",
              "      <td>False</td>\n",
              "      <td>False</td>\n",
              "    </tr>\n",
              "    <tr>\n",
              "      <th>9</th>\n",
              "      <td>False</td>\n",
              "      <td>False</td>\n",
              "      <td>False</td>\n",
              "      <td>False</td>\n",
              "      <td>False</td>\n",
              "      <td>False</td>\n",
              "      <td>False</td>\n",
              "      <td>False</td>\n",
              "      <td>False</td>\n",
              "      <td>False</td>\n",
              "      <td>False</td>\n",
              "      <td>False</td>\n",
              "      <td>False</td>\n",
              "      <td>False</td>\n",
              "    </tr>\n",
              "  </tbody>\n",
              "</table>\n",
              "</div>"
            ],
            "text/plain": [
              "   Timestamp  musicartist  height   city  ...  hangout   talk   year  quote\n",
              "0      False        False   False  False  ...    False  False  False  False\n",
              "1      False        False   False  False  ...    False  False  False  False\n",
              "2      False        False   False  False  ...    False  False  False  False\n",
              "3      False        False   False  False  ...    False  False  False  False\n",
              "4      False        False   False  False  ...    False  False  False  False\n",
              "5      False        False   False  False  ...    False  False  False  False\n",
              "6      False        False   False  False  ...    False  False  False  False\n",
              "7      False        False   False  False  ...    False  False  False  False\n",
              "8      False        False   False  False  ...    False  False  False  False\n",
              "9      False        False   False  False  ...    False  False  False  False\n",
              "\n",
              "[10 rows x 14 columns]"
            ]
          },
          "metadata": {
            "tags": []
          },
          "execution_count": 3
        }
      ]
    },
    {
      "cell_type": "code",
      "metadata": {
        "id": "tQxGnl_2wta0",
        "colab": {
          "base_uri": "https://localhost:8080/"
        },
        "outputId": "1bc2fd8e-dab1-4402-f4a2-3fba647bfdcd"
      },
      "source": [
        "# using .isna() with a series\n",
        "df.loc[:, '30min'].isna().head(10)"
      ],
      "execution_count": null,
      "outputs": [
        {
          "output_type": "execute_result",
          "data": {
            "text/plain": [
              "0    False\n",
              "1    False\n",
              "2    False\n",
              "3    False\n",
              "4    False\n",
              "5    False\n",
              "6    False\n",
              "7    False\n",
              "8     True\n",
              "9    False\n",
              "Name: 30min, dtype: bool"
            ]
          },
          "metadata": {
            "tags": []
          },
          "execution_count": 4
        }
      ]
    },
    {
      "cell_type": "markdown",
      "metadata": {
        "id": "dfwyH37-Iu27"
      },
      "source": [
        "If you want to count values that are not missing, you can use `.notna()`."
      ]
    },
    {
      "cell_type": "code",
      "metadata": {
        "id": "brlcNBgD5ayk",
        "colab": {
          "base_uri": "https://localhost:8080/"
        },
        "outputId": "f49742e5-06c0-4239-9b3f-151bc210dd08"
      },
      "source": [
        "# using .notna() with a series\n",
        "df.loc[:, '30min'].notna().head(10)"
      ],
      "execution_count": null,
      "outputs": [
        {
          "output_type": "execute_result",
          "data": {
            "text/plain": [
              "0     True\n",
              "1     True\n",
              "2     True\n",
              "3     True\n",
              "4     True\n",
              "5     True\n",
              "6     True\n",
              "7     True\n",
              "8    False\n",
              "9     True\n",
              "Name: 30min, dtype: bool"
            ]
          },
          "metadata": {
            "tags": []
          },
          "execution_count": 5
        }
      ]
    },
    {
      "cell_type": "markdown",
      "metadata": {
        "id": "bZIi1ZQx27st"
      },
      "source": [
        "Both `.sum()` and `.count()` can be used with a series of booleans.\n",
        "*  `.sum()` will treat each `True` as a `1` and add them all together. \n",
        "* `.count()` will only count non-missing values (if you want to count missing and non-missing values use `len()` instead."
      ]
    },
    {
      "cell_type": "code",
      "metadata": {
        "id": "wJsgUO3Bv3rb",
        "colab": {
          "base_uri": "https://localhost:8080/"
        },
        "outputId": "33dc6554-c022-47e7-8248-e4099f0d535e"
      },
      "source": [
        "column_name = '30min'\n",
        "\n",
        "# counts missing values by summing booleans (True = 1, False = 0)\n",
        "missing_count = df.loc[:, column_name].isna().sum() \n",
        "\n",
        "# counts not missing values using .count()\n",
        "not_missing_count1 = df.loc[:, column_name].count()\n",
        "\n",
        "# counts not missing values using .notna().sum() (True = 1, False = 0)\n",
        "# same result as previous\n",
        "not_missing_count2 = df.loc[:, column_name].notna().sum() \n",
        "\n",
        "# count rows in series (including missing)\n",
        "total_count = len(df.loc[:, column_name]) \n",
        "\n",
        "# print summary\n",
        "print(f'{column_name}\\n-missing values: {missing_count}' \\\n",
        "      f'\\n-not missing values: {not_missing_count1}' \\\n",
        "      f'\\n-total count: {total_count}')  \n"
      ],
      "execution_count": null,
      "outputs": [
        {
          "output_type": "stream",
          "text": [
            "30min\n",
            "-missing values: 15\n",
            "-not missing values: 189\n",
            "-total count: 204\n"
          ],
          "name": "stdout"
        }
      ]
    },
    {
      "cell_type": "markdown",
      "metadata": {
        "id": "ENdcNBQYIYY8"
      },
      "source": [
        "### Dropping Missing Values\n",
        "One way to deal with missing values in datasets is to remove any entry that has a missing value. This approach makes cleaning your data easier, you simply remove problematic entries, but it can also negatively affect the quality of your analysis. If the missing data is not missing at random, then your analysis may bias your conclusions in a particular direction. Dropping entries with missing values is common and it is easy, but it can also create issues that can be subtle and misleading. You can read more about [missing data and how to correct it here](https://en.wikipedia.org/wiki/Missing_data). \n",
        "\n",
        "If you decide you do want to remove entires with missing data,  Pandas makes it easy. Removing data from a dataframe is sometimes referred to as 'dropping' data. Pandas has a specific method called `.dropna()` that can be used to remove either rows or columns with missing values. \n",
        "\n"
      ]
    },
    {
      "cell_type": "code",
      "metadata": {
        "id": "rC-I_f0YBGcj",
        "colab": {
          "base_uri": "https://localhost:8080/"
        },
        "outputId": "f47662c9-1056-4a6b-cb27-f27e3077aace"
      },
      "source": [
        "# dropna() applied to the entire dataframe, drops rows\n",
        "df_all_remove_rows = df.dropna(axis='index') # removes rows with missing values\n",
        "\n",
        "# check the result\n",
        "df_all_remove_rows.info()"
      ],
      "execution_count": null,
      "outputs": [
        {
          "output_type": "stream",
          "text": [
            "<class 'pandas.core.frame.DataFrame'>\n",
            "Int64Index: 174 entries, 0 to 202\n",
            "Data columns (total 14 columns):\n",
            " #   Column       Non-Null Count  Dtype  \n",
            "---  ------       --------------  -----  \n",
            " 0   Timestamp    174 non-null    object \n",
            " 1   musicartist  174 non-null    object \n",
            " 2   height       174 non-null    object \n",
            " 3   city         174 non-null    object \n",
            " 4   30min        174 non-null    object \n",
            " 5   travel       174 non-null    object \n",
            " 6   likepizza    174 non-null    float64\n",
            " 7   deepdish     174 non-null    object \n",
            " 8   sport        174 non-null    object \n",
            " 9   spell        174 non-null    object \n",
            " 10  hangout      174 non-null    object \n",
            " 11  talk         174 non-null    object \n",
            " 12  year         174 non-null    object \n",
            " 13  quote        174 non-null    object \n",
            "dtypes: float64(1), object(13)\n",
            "memory usage: 20.4+ KB\n"
          ],
          "name": "stdout"
        }
      ]
    },
    {
      "cell_type": "code",
      "metadata": {
        "id": "hEOKD6iqDMFK",
        "colab": {
          "base_uri": "https://localhost:8080/"
        },
        "outputId": "864e34f3-2caa-4d66-a5bd-9fa61dff6480"
      },
      "source": [
        "# dropna() applied to the entire dataframe, drops columns with missing values\n",
        "df_all_removed = df.dropna(axis='columns') # removes columns with missing values\n",
        "\n",
        "# check the result\n",
        "df_all_removed.info() # only a single column has no missing values"
      ],
      "execution_count": null,
      "outputs": [
        {
          "output_type": "stream",
          "text": [
            "<class 'pandas.core.frame.DataFrame'>\n",
            "RangeIndex: 204 entries, 0 to 203\n",
            "Data columns (total 1 columns):\n",
            " #   Column     Non-Null Count  Dtype \n",
            "---  ------     --------------  ----- \n",
            " 0   Timestamp  204 non-null    object\n",
            "dtypes: object(1)\n",
            "memory usage: 1.7+ KB\n"
          ],
          "name": "stdout"
        }
      ]
    },
    {
      "cell_type": "code",
      "metadata": {
        "id": "XqQi3EhPBhmK",
        "colab": {
          "base_uri": "https://localhost:8080/"
        },
        "outputId": "280e17a5-c6a7-414f-f816-c4b2a39ea5c3"
      },
      "source": [
        "# dropna applied to a single series\n",
        "series_30removed = df.loc[:, '30min'].dropna()\n",
        "\n",
        "# check the result\n",
        "print(f'length before drop: {len(df.loc[:, \"30min\"])}')\n",
        "print(f'length after drop: {len(series_30removed)}')"
      ],
      "execution_count": null,
      "outputs": [
        {
          "output_type": "stream",
          "text": [
            "length before drop: 204\n",
            "length after drop: 189\n"
          ],
          "name": "stdout"
        }
      ]
    },
    {
      "cell_type": "markdown",
      "metadata": {
        "id": "axlkJD38JhM7"
      },
      "source": [
        "### Replacing Missing Values\n",
        "Another approach to dealing with missing values is to replace them. The 'fillna()' method will replace any missing values with a specified replacement value.\n",
        "In this example, we replace any missing values with the mean of the series. \n"
      ]
    },
    {
      "cell_type": "code",
      "metadata": {
        "id": "xL4vK8iNQRLP",
        "colab": {
          "base_uri": "https://localhost:8080/"
        },
        "outputId": "620704a8-e7e2-4b29-d2a5-81779284a4f1"
      },
      "source": [
        "# calculate the mean replacement value by first dropping missing values\n",
        "mean_replacement_value = df.loc[:, 'likepizza'].dropna().mean()\n",
        "\n",
        "# use the calculated mean to replace the missing values (assigned to a new series)\n",
        "df.loc[:, 'likepizza_w_replace'] = df.loc[:, 'likepizza'].fillna(mean_replacement_value)\n",
        "\n",
        "# check the result\n",
        "df.loc[:, ['likepizza', 'likepizza_w_replace']].info()\n",
        "\n"
      ],
      "execution_count": null,
      "outputs": [
        {
          "output_type": "stream",
          "text": [
            "<class 'pandas.core.frame.DataFrame'>\n",
            "RangeIndex: 204 entries, 0 to 203\n",
            "Data columns (total 2 columns):\n",
            " #   Column               Non-Null Count  Dtype  \n",
            "---  ------               --------------  -----  \n",
            " 0   likepizza            203 non-null    float64\n",
            " 1   likepizza_w_replace  204 non-null    float64\n",
            "dtypes: float64(2)\n",
            "memory usage: 3.3 KB\n"
          ],
          "name": "stdout"
        }
      ]
    },
    {
      "cell_type": "markdown",
      "metadata": {
        "id": "RyPY_oF5RwDm"
      },
      "source": [
        "## Duplicate Entries\n",
        "Duplicate entries are erroneous entries in a dataset that contain the exact same (or nearly the same) information. A good, and common, example of erroneous duplicate entries occurs in online surveys where a respondent accidentally submits the same survey multiple times. Duplicate entries can occur in all kinds of data for all kinds of reasons and can be difficult to detect if the dataset also contains legitimate entries that have identical values.\n",
        "\n",
        "We have a few questions in the survey where we would not expect to find two seperate entries with the exact same value."
      ]
    },
    {
      "cell_type": "code",
      "metadata": {
        "id": "WEWl0LezUGHe",
        "colab": {
          "base_uri": "https://localhost:8080/"
        },
        "outputId": "73a4baa5-e61f-4915-d234-40c22d34a9f3"
      },
      "source": [
        "# value_counts for 'quotes', where the count is greater than 1\n",
        "df.loc[:, 'quote'].value_counts().loc[df.loc[:, 'quote'].value_counts() > 1]"
      ],
      "execution_count": null,
      "outputs": [
        {
          "output_type": "execute_result",
          "data": {
            "text/plain": [
              "Dream bigger                                                                         4\n",
              "I think, therefore I am.                                                             2\n",
              "Let's never be the kind of people who do things lukewarmly. - David McCollough       2\n",
              "You miss 100% of the shots you don't take                                            2\n",
              "“Every problem is a gift—without problems we would not grow.” – Anthony Robbins\\n    2\n",
              "Name: quote, dtype: int64"
            ]
          },
          "metadata": {
            "tags": []
          },
          "execution_count": 11
        }
      ]
    },
    {
      "cell_type": "markdown",
      "metadata": {
        "id": "nZuWLYFUU8EE"
      },
      "source": [
        "A few of these might be legitimate repetitions, but its seems very unlikely that all of them are. Instead, we might suspect that a few survey respondents simply clicked the submit button more than once. \n",
        "\n",
        "Pandas offers some tools that allow us to detect and deal with duplicates in a more sophisticated way than just looking at value counts. "
      ]
    },
    {
      "cell_type": "markdown",
      "metadata": {
        "id": "QB767KRgV1Jd"
      },
      "source": [
        "### Finding Duplicates\n",
        "The `.duplicated()` method can be applied to an entire dataframe, a series, or an index. It will look for exact duplicates and return a boolean object where duplicates are marked `True`. By default, the first occurrence is not marked as the duplicate and all other occurrences are. This behavior can be changed with an optional argument, [read about it here if you are interested](https://pandas.pydata.org/docs/reference/api/pandas.Series.duplicated.html#pandas.Series.duplicated). \n"
      ]
    },
    {
      "cell_type": "code",
      "metadata": {
        "id": "x7bvfTCHaQCE",
        "colab": {
          "base_uri": "https://localhost:8080/"
        },
        "outputId": "988dc8d6-9413-4b96-8c02-d36b9b6f29b7"
      },
      "source": [
        "# assign the series to a variable so the code is a bit easier to read\n",
        "quote_series = df.loc[:, 'quote']\n",
        "\n",
        "# here are all the rows that contain 'Dream bigger'\n",
        "quote_series.loc[quote_series.values == 'Dream bigger']"
      ],
      "execution_count": null,
      "outputs": [
        {
          "output_type": "execute_result",
          "data": {
            "text/plain": [
              "144    Dream bigger\n",
              "148    Dream bigger\n",
              "150    Dream bigger\n",
              "153    Dream bigger\n",
              "Name: quote, dtype: object"
            ]
          },
          "metadata": {
            "tags": []
          },
          "execution_count": 12
        }
      ]
    },
    {
      "cell_type": "code",
      "metadata": {
        "id": "8OjjsCG8XhBW",
        "colab": {
          "base_uri": "https://localhost:8080/"
        },
        "outputId": "19dc3d21-4e12-460a-fdf0-63f4c99f4c24"
      },
      "source": [
        "# create a duplicate mask (rows with duplicates marked as True)\n",
        "duplicate_mask = quote_series.duplicated()\n",
        "\n",
        "# create a view of only duplicates\n",
        "# after applying the mask, non-duplicate entries are missing so we apply .dropna() to see just the duplicates\n",
        "quote_series.loc[duplicate_mask].dropna()"
      ],
      "execution_count": null,
      "outputs": [
        {
          "output_type": "execute_result",
          "data": {
            "text/plain": [
              "80     Let's never be the kind of people who do thing...\n",
              "82                              I think, therefore I am.\n",
              "148                                         Dream bigger\n",
              "150                                         Dream bigger\n",
              "153                                         Dream bigger\n",
              "176            You miss 100% of the shots you don't take\n",
              "198    “Every problem is a gift—without problems we w...\n",
              "Name: quote, dtype: object"
            ]
          },
          "metadata": {
            "tags": []
          },
          "execution_count": 13
        }
      ]
    },
    {
      "cell_type": "markdown",
      "metadata": {
        "id": "o5PMSJSgbIr7"
      },
      "source": [
        "Notice that this first instance of 'Dream bigger' with the index value of `144` was not marked as a duplicate. `.duplicated()` is only flagging repeats after the first occurence."
      ]
    },
    {
      "cell_type": "markdown",
      "metadata": {
        "id": "IfSLBZZhcBps"
      },
      "source": [
        "### Dropping Duplicate Entries\n",
        "If we can confirm we have erroneous duplicates, we will usually want to remove them before we do data analysis. The `.drop_duplicates()` method allows you to remove duplicates from dataframes, series, or an index. By default, it keeps the first occurrence and drop all the rest. This behavior can be changed to only keep the last or to drop all duplicates, you can read more about that [here if you are interested](https://pandas.pydata.org/docs/reference/api/pandas.DataFrame.drop_duplicates.html).  "
      ]
    },
    {
      "cell_type": "code",
      "metadata": {
        "id": "lTQAajseY67N",
        "colab": {
          "base_uri": "https://localhost:8080/"
        },
        "outputId": "d5e5fc0c-f3ee-4126-8987-6f5b6f4f3c76"
      },
      "source": [
        "# drop duplicates when applied to a series\n",
        "print(f'Series Length before drop: {len(quote_series)}')\n",
        "print(f'Series Length after drop: {len(quote_series.drop_duplicates())}')"
      ],
      "execution_count": null,
      "outputs": [
        {
          "output_type": "stream",
          "text": [
            "Series Length before drop: 204\n",
            "Series Length after drop: 183\n"
          ],
          "name": "stdout"
        }
      ]
    },
    {
      "cell_type": "markdown",
      "metadata": {
        "id": "Gl6mUkXheug7"
      },
      "source": [
        "If we use `.drop_duplicates()` with a dataframe, there are a few more useful arguments that can be applied to change the method's behavior. "
      ]
    },
    {
      "cell_type": "code",
      "metadata": {
        "id": "1kwZ1iS8e-Ar",
        "colab": {
          "base_uri": "https://localhost:8080/"
        },
        "outputId": "137aaef3-a365-478f-c5db-4ac123ad85cb"
      },
      "source": [
        "# drop duplicates applied to a dataframe\n",
        "print(f'Dataframe Length before drop: {len(df)}')\n",
        "print(f'Dataframe Length after drop: {len(df.drop_duplicates())}')"
      ],
      "execution_count": null,
      "outputs": [
        {
          "output_type": "stream",
          "text": [
            "Dataframe Length before drop: 204\n",
            "Dataframe Length after drop: 204\n"
          ],
          "name": "stdout"
        }
      ]
    },
    {
      "cell_type": "markdown",
      "metadata": {
        "id": "zGabmwD5e8Ms"
      },
      "source": [
        "In the case of our survey data, there is a timestamp column that registers the time the survey was submitted. Since duplicate surveys were submitted by repeatedly hitting the submit button, the timestamp is not exactly the same and thus these rows are not dropped. The `subset=` argument can be used to specify column labels to consider when testing for duplciates. In the code below, we specify all of the columns labels after the first, which is the timestamp. "
      ]
    },
    {
      "cell_type": "code",
      "metadata": {
        "id": "ncut3V_IevkO",
        "colab": {
          "base_uri": "https://localhost:8080/"
        },
        "outputId": "b403390a-9d1c-4ee5-d8e0-0898fc9c9f10"
      },
      "source": [
        "# drop duplicates applied to a dataframe\n",
        "print(f'Dataframe Length before drop: {len(df)}')\n",
        "print(f'Dataframe Length after drop: {len(df.drop_duplicates(subset = df.columns[1:]))}')"
      ],
      "execution_count": null,
      "outputs": [
        {
          "output_type": "stream",
          "text": [
            "Dataframe Length before drop: 204\n",
            "Dataframe Length after drop: 199\n"
          ],
          "name": "stdout"
        }
      ]
    },
    {
      "cell_type": "code",
      "metadata": {
        "id": "ZEDmyL6gf-wE",
        "colab": {
          "base_uri": "https://localhost:8080/",
          "height": 167
        },
        "outputId": "4811ce74-c84e-4af1-f327-0a818a31633a"
      },
      "source": [
        "# dream bigger without the drop\n",
        "df.loc[df.loc[:, 'quote'] == \"Dream bigger\"]"
      ],
      "execution_count": null,
      "outputs": [
        {
          "output_type": "execute_result",
          "data": {
            "text/html": [
              "<div>\n",
              "<style scoped>\n",
              "    .dataframe tbody tr th:only-of-type {\n",
              "        vertical-align: middle;\n",
              "    }\n",
              "\n",
              "    .dataframe tbody tr th {\n",
              "        vertical-align: top;\n",
              "    }\n",
              "\n",
              "    .dataframe thead th {\n",
              "        text-align: right;\n",
              "    }\n",
              "</style>\n",
              "<table border=\"1\" class=\"dataframe\">\n",
              "  <thead>\n",
              "    <tr style=\"text-align: right;\">\n",
              "      <th></th>\n",
              "      <th>Timestamp</th>\n",
              "      <th>musicartist</th>\n",
              "      <th>height</th>\n",
              "      <th>city</th>\n",
              "      <th>30min</th>\n",
              "      <th>travel</th>\n",
              "      <th>likepizza</th>\n",
              "      <th>deepdish</th>\n",
              "      <th>sport</th>\n",
              "      <th>spell</th>\n",
              "      <th>hangout</th>\n",
              "      <th>talk</th>\n",
              "      <th>year</th>\n",
              "      <th>quote</th>\n",
              "      <th>likepizza_w_replace</th>\n",
              "    </tr>\n",
              "  </thead>\n",
              "  <tbody>\n",
              "    <tr>\n",
              "      <th>144</th>\n",
              "      <td>8/17/2020 15:16:29</td>\n",
              "      <td>Taylor Swift</td>\n",
              "      <td>5.6ft</td>\n",
              "      <td>Paris</td>\n",
              "      <td>Warren Buffett</td>\n",
              "      <td>Iceland</td>\n",
              "      <td>3.0</td>\n",
              "      <td>no opinion</td>\n",
              "      <td>Basketball</td>\n",
              "      <td>hors d'oeuvre</td>\n",
              "      <td>3</td>\n",
              "      <td>More</td>\n",
              "      <td>The year when I’m 30</td>\n",
              "      <td>Dream bigger</td>\n",
              "      <td>3.0</td>\n",
              "    </tr>\n",
              "    <tr>\n",
              "      <th>148</th>\n",
              "      <td>8/17/2020 19:35:03</td>\n",
              "      <td>Taylor Swift</td>\n",
              "      <td>5.6ft</td>\n",
              "      <td>Paris</td>\n",
              "      <td>Warren Buffett</td>\n",
              "      <td>Iceland</td>\n",
              "      <td>3.0</td>\n",
              "      <td>no opinion</td>\n",
              "      <td>Basketball</td>\n",
              "      <td>hors d'oeuvre</td>\n",
              "      <td>3</td>\n",
              "      <td>More</td>\n",
              "      <td>The year when I’m 30</td>\n",
              "      <td>Dream bigger</td>\n",
              "      <td>3.0</td>\n",
              "    </tr>\n",
              "    <tr>\n",
              "      <th>150</th>\n",
              "      <td>8/17/2020 21:56:47</td>\n",
              "      <td>Taylor Swift</td>\n",
              "      <td>5.6ft</td>\n",
              "      <td>Paris</td>\n",
              "      <td>Warren Buffett</td>\n",
              "      <td>Iceland</td>\n",
              "      <td>3.0</td>\n",
              "      <td>no opinion</td>\n",
              "      <td>Basketball</td>\n",
              "      <td>hors d'oeuvre</td>\n",
              "      <td>3</td>\n",
              "      <td>More</td>\n",
              "      <td>The year when I’m 30</td>\n",
              "      <td>Dream bigger</td>\n",
              "      <td>3.0</td>\n",
              "    </tr>\n",
              "    <tr>\n",
              "      <th>153</th>\n",
              "      <td>8/21/2020 16:30:37</td>\n",
              "      <td>Taylor Swift</td>\n",
              "      <td>5.6ft</td>\n",
              "      <td>Paris</td>\n",
              "      <td>Warren Buffett</td>\n",
              "      <td>Iceland</td>\n",
              "      <td>3.0</td>\n",
              "      <td>no opinion</td>\n",
              "      <td>Basketball</td>\n",
              "      <td>hors d'oeuvre</td>\n",
              "      <td>3</td>\n",
              "      <td>More</td>\n",
              "      <td>The year when I’m 30</td>\n",
              "      <td>Dream bigger</td>\n",
              "      <td>3.0</td>\n",
              "    </tr>\n",
              "  </tbody>\n",
              "</table>\n",
              "</div>"
            ],
            "text/plain": [
              "              Timestamp    musicartist  ...         quote likepizza_w_replace\n",
              "144  8/17/2020 15:16:29  Taylor Swift   ...  Dream bigger                 3.0\n",
              "148  8/17/2020 19:35:03  Taylor Swift   ...  Dream bigger                 3.0\n",
              "150  8/17/2020 21:56:47  Taylor Swift   ...  Dream bigger                 3.0\n",
              "153  8/21/2020 16:30:37  Taylor Swift   ...  Dream bigger                 3.0\n",
              "\n",
              "[4 rows x 15 columns]"
            ]
          },
          "metadata": {
            "tags": []
          },
          "execution_count": 17
        }
      ]
    },
    {
      "cell_type": "code",
      "metadata": {
        "id": "3tmmLyc8giYU",
        "colab": {
          "base_uri": "https://localhost:8080/",
          "height": 77
        },
        "outputId": "92ea9c85-da85-427d-f601-202f4a3a5a2e"
      },
      "source": [
        "# dream bigger with the drop\n",
        "df.drop_duplicates(subset = df.columns[1:]).loc[df.loc[:, 'quote'] == \"Dream bigger\"]"
      ],
      "execution_count": null,
      "outputs": [
        {
          "output_type": "execute_result",
          "data": {
            "text/html": [
              "<div>\n",
              "<style scoped>\n",
              "    .dataframe tbody tr th:only-of-type {\n",
              "        vertical-align: middle;\n",
              "    }\n",
              "\n",
              "    .dataframe tbody tr th {\n",
              "        vertical-align: top;\n",
              "    }\n",
              "\n",
              "    .dataframe thead th {\n",
              "        text-align: right;\n",
              "    }\n",
              "</style>\n",
              "<table border=\"1\" class=\"dataframe\">\n",
              "  <thead>\n",
              "    <tr style=\"text-align: right;\">\n",
              "      <th></th>\n",
              "      <th>Timestamp</th>\n",
              "      <th>musicartist</th>\n",
              "      <th>height</th>\n",
              "      <th>city</th>\n",
              "      <th>30min</th>\n",
              "      <th>travel</th>\n",
              "      <th>likepizza</th>\n",
              "      <th>deepdish</th>\n",
              "      <th>sport</th>\n",
              "      <th>spell</th>\n",
              "      <th>hangout</th>\n",
              "      <th>talk</th>\n",
              "      <th>year</th>\n",
              "      <th>quote</th>\n",
              "      <th>likepizza_w_replace</th>\n",
              "    </tr>\n",
              "  </thead>\n",
              "  <tbody>\n",
              "    <tr>\n",
              "      <th>144</th>\n",
              "      <td>8/17/2020 15:16:29</td>\n",
              "      <td>Taylor Swift</td>\n",
              "      <td>5.6ft</td>\n",
              "      <td>Paris</td>\n",
              "      <td>Warren Buffett</td>\n",
              "      <td>Iceland</td>\n",
              "      <td>3.0</td>\n",
              "      <td>no opinion</td>\n",
              "      <td>Basketball</td>\n",
              "      <td>hors d'oeuvre</td>\n",
              "      <td>3</td>\n",
              "      <td>More</td>\n",
              "      <td>The year when I’m 30</td>\n",
              "      <td>Dream bigger</td>\n",
              "      <td>3.0</td>\n",
              "    </tr>\n",
              "  </tbody>\n",
              "</table>\n",
              "</div>"
            ],
            "text/plain": [
              "              Timestamp    musicartist  ...         quote likepizza_w_replace\n",
              "144  8/17/2020 15:16:29  Taylor Swift   ...  Dream bigger                 3.0\n",
              "\n",
              "[1 rows x 15 columns]"
            ]
          },
          "metadata": {
            "tags": []
          },
          "execution_count": 18
        }
      ]
    },
    {
      "cell_type": "markdown",
      "metadata": {
        "id": "L0iokoQSbkgH"
      },
      "source": [
        "## Converting String and Mixed Columns to Numeric\n",
        "Data cleaning often involves taking numeric data and cleaning it up so that you can perform statistical analyses or visualizations. Dirty numeric data in a series will often be inferred by Pandas as the datatype 'object'. Once we've got the data fairly clean, we can use `pd.to_numeric()` to convert a series into a numeric data type. \n",
        "\n",
        "When we call `pd.to_numeric()`, Pandas will attempt to convert the values of whatever object is specified into a numeric type. If a value cannot be converted, `pd.to_numeric()` will halt and raise an exception. However, if we know some values will not be converted and we want Pandas to ignore the exceptions, we can set an argument `errors = 'coerce'`, and Pandas will convert the exceptions to missing values instead of throwing an exception.  \n"
      ]
    },
    {
      "cell_type": "code",
      "metadata": {
        "id": "PSBLobgykcRt",
        "colab": {
          "base_uri": "https://localhost:8080/"
        },
        "outputId": "90b3727a-5178-458b-c3ce-27db5b96924a"
      },
      "source": [
        "# check the values of year before using pd.to_numeric()\n",
        "df.loc[:, 'year'].value_counts()"
      ],
      "execution_count": null,
      "outputs": [
        {
          "output_type": "execute_result",
          "data": {
            "text/plain": [
              "3000                9\n",
              "1985                7\n",
              "1999                7\n",
              "1776                6\n",
              "2016                5\n",
              "                   ..\n",
              "October 21, 2015    1\n",
              "1184 BC             1\n",
              "1879                1\n",
              "1900                1\n",
              "1918                1\n",
              "Name: year, Length: 114, dtype: int64"
            ]
          },
          "metadata": {
            "tags": []
          },
          "execution_count": 19
        }
      ]
    },
    {
      "cell_type": "code",
      "metadata": {
        "id": "rVf1Y-LIJMeV",
        "colab": {
          "base_uri": "https://localhost:8080/"
        },
        "outputId": "73927090-324c-4463-dbe3-34f6c6059a97"
      },
      "source": [
        "# check for entries longer than 4 characters\n",
        "df.loc[:, 'year'].loc[df.loc[:, 'year'].str.len() > 4]"
      ],
      "execution_count": null,
      "outputs": [
        {
          "output_type": "execute_result",
          "data": {
            "text/plain": [
              "0                  Future, no options for me in the past\n",
              "5      1999 so I could go around saying that I'm from...\n",
              "6      300 BC Greece, but only for a day bc no ac or ...\n",
              "13                                1985 (Bears SuperBowl)\n",
              "14                                                1980's\n",
              "15                                      October 21, 2015\n",
              "22                                          1,900,000 BC\n",
              "24                                                 1990s\n",
              "30                                                1400’s\n",
              "35     2050 to see if we still exist or if the world ...\n",
              "52                                                882 AD\n",
              "53                            the earliest year possible\n",
              "71                            This one. The past is bad.\n",
              "72                                          1965 or 1977\n",
              "87                                 Sometime in the 1920s\n",
              "93                                              1st year\n",
              "110                                  Either 2001 or 1942\n",
              "123                                               500 BC\n",
              "124                                Sometime in the 1970s\n",
              "125                                                1920s\n",
              "127                                              1184 BC\n",
              "129                                               100 AD\n",
              "130                                             2000 B.C\n",
              "132                                              1000 BC\n",
              "140                                               1920's\n",
              "141        maybe the future im not sure what year though\n",
              "144                                 The year when I’m 30\n",
              "147    Sometime far in the future to see how we've ad...\n",
              "148                                 The year when I’m 30\n",
              "150                                 The year when I’m 30\n",
              "153                                 The year when I’m 30\n",
              "154                                       summer of 2016\n",
              "156                                        the year 5000\n",
              "165      537 AD (Proclaimed worst year in world history)\n",
              "178                                       The first year\n",
              "183                           Anywhere from 4 BC - 33 AD\n",
              "185                                                1940s\n",
              "194                                          65 Mil B.C.\n",
              "200                     2015, but only if I am 18+ still\n",
              "Name: year, dtype: object"
            ]
          },
          "metadata": {
            "tags": []
          },
          "execution_count": 20
        }
      ]
    },
    {
      "cell_type": "code",
      "metadata": {
        "id": "1Tqpdo7IKN1O",
        "colab": {
          "base_uri": "https://localhost:8080/"
        },
        "outputId": "5a821b9b-f5a6-42aa-a41f-ccf4661b2a15"
      },
      "source": [
        "# assign only first four character to series\n",
        "year_series = df.loc[:, 'year'].str[:4]\n",
        "year_series.value_counts()"
      ],
      "execution_count": null,
      "outputs": [
        {
          "output_type": "execute_result",
          "data": {
            "text/plain": [
              "3000    9\n",
              "1999    8\n",
              "1985    8\n",
              "1920    7\n",
              "1776    6\n",
              "       ..\n",
              "537     1\n",
              "1789    1\n",
              "2070    1\n",
              "100     1\n",
              "1975    1\n",
              "Name: year, Length: 100, dtype: int64"
            ]
          },
          "metadata": {
            "tags": []
          },
          "execution_count": 21
        }
      ]
    },
    {
      "cell_type": "code",
      "metadata": {
        "id": "Fyu6FQ3pkmjk",
        "colab": {
          "base_uri": "https://localhost:8080/"
        },
        "outputId": "f258c248-b9f7-429a-c3a6-53acfd2d3cc3"
      },
      "source": [
        "# creating a new series using pd.to_numeric()\n",
        "year_series_numeric = pd.to_numeric(year_series, errors = 'coerce')\n",
        "\n",
        "# check the values of year after using pd.to_numeric()\n",
        "year_series_numeric.value_counts()"
      ],
      "execution_count": null,
      "outputs": [
        {
          "output_type": "execute_result",
          "data": {
            "text/plain": [
              "3000.0    9\n",
              "1999.0    8\n",
              "1985.0    8\n",
              "1920.0    7\n",
              "1776.0    6\n",
              "         ..\n",
              "1000.0    1\n",
              "100.0     1\n",
              "1184.0    1\n",
              "500.0     1\n",
              "2007.0    1\n",
              "Name: year, Length: 85, dtype: int64"
            ]
          },
          "metadata": {
            "tags": []
          },
          "execution_count": 22
        }
      ]
    },
    {
      "cell_type": "code",
      "metadata": {
        "id": "makwg6uFlg1s",
        "colab": {
          "base_uri": "https://localhost:8080/"
        },
        "outputId": "ba6dbc4a-d94a-49ac-8795-f191cd057bb5"
      },
      "source": [
        "# getting some descriptive stats with the numeric version of year\n",
        "print(year_series_numeric.mean(), \n",
        "      year_series_numeric.min(), \n",
        "      year_series_numeric.max(),\n",
        "      year_series_numeric.mode())"
      ],
      "execution_count": null,
      "outputs": [
        {
          "output_type": "stream",
          "text": [
            "2017.2342857142858 0.0 6298.0 0    3000.0\n",
            "dtype: float64\n"
          ],
          "name": "stdout"
        }
      ]
    },
    {
      "cell_type": "markdown",
      "metadata": {
        "id": "B6OsPMyLV7Zp"
      },
      "source": [
        "## Dealing with Whitespace in Strings\n",
        "When humans are entering data they will often insert extraneous whitespace (things like spaces, tabs, or returns). To properly group or count such data we need to 'strip' away the extra whitespace. If we don't, Python will treat the string 'football' as different from the string ' football' or 'football '.\n",
        "\n",
        "The string method `.strip()` will remove extraneous whitespace from before and after a string. The equivalent in Pandas is the method `.str.strip()`."
      ]
    },
    {
      "cell_type": "code",
      "metadata": {
        "id": "tvmxR-aGV6ia",
        "colab": {
          "base_uri": "https://localhost:8080/"
        },
        "outputId": "025e11c7-3e5a-4892-9aae-469e980db8bd"
      },
      "source": [
        "sport_series = df.loc[:, 'sport'].dropna().str.lower()\n",
        "contains_football_mask = sport_series.str.contains('football')\n",
        "sport_series[contains_football_mask].value_counts()"
      ],
      "execution_count": null,
      "outputs": [
        {
          "output_type": "execute_result",
          "data": {
            "text/plain": [
              "football                                                                                                                                40\n",
              "football                                                                                                                                 4\n",
              "basketball, football, baseball                                                                                                           2\n",
              "college football                                                                                                                         1\n",
              "football/basketball                                                                                                                      1\n",
              "football (mainstream) or something out there like rock climbing                                                                          1\n",
              "football or wrestling                                                                                                                    1\n",
              "if video games count, super smash bros. if not, football. sometimes baseball when they're not playing the game and doing wacky stuff     1\n",
              "soccer (the real football)                                                                                                               1\n",
              "Name: sport, dtype: int64"
            ]
          },
          "metadata": {
            "tags": []
          },
          "execution_count": 24
        }
      ]
    },
    {
      "cell_type": "markdown",
      "metadata": {
        "id": "O47wlyG-ZCzx"
      },
      "source": [
        "Notice that the first and second entries both appear to be `'football'`, but they are not the same to Python."
      ]
    },
    {
      "cell_type": "code",
      "metadata": {
        "id": "_GTuTantZRKQ",
        "colab": {
          "base_uri": "https://localhost:8080/"
        },
        "outputId": "deb4c2ff-01e2-4c51-be58-0cfadae16aa8"
      },
      "source": [
        "# using str.strip() to remove whitespace\n",
        "sport_series[contains_football_mask].str.strip().value_counts()"
      ],
      "execution_count": null,
      "outputs": [
        {
          "output_type": "execute_result",
          "data": {
            "text/plain": [
              "football                                                                                                                                44\n",
              "basketball, football, baseball                                                                                                           2\n",
              "college football                                                                                                                         1\n",
              "football/basketball                                                                                                                      1\n",
              "football (mainstream) or something out there like rock climbing                                                                          1\n",
              "football or wrestling                                                                                                                    1\n",
              "if video games count, super smash bros. if not, football. sometimes baseball when they're not playing the game and doing wacky stuff     1\n",
              "soccer (the real football)                                                                                                               1\n",
              "Name: sport, dtype: int64"
            ]
          },
          "metadata": {
            "tags": []
          },
          "execution_count": 25
        }
      ]
    },
    {
      "cell_type": "markdown",
      "metadata": {
        "id": "9_XVqk_KZhHo"
      },
      "source": [
        "If you need to be a bit more careful about how you are stripping whitespace, the functions `str.lstrip()` and `str.rstrip()` are available to just strip whitespace on the left or on the right, respectively."
      ]
    },
    {
      "cell_type": "markdown",
      "metadata": {
        "id": "nys-focuiYou"
      },
      "source": [
        "## Example with 'hangout'\n",
        "Let's see if we can figure out the average for responses to the question: \"What is the optimal number of people to hang out with?\"\n"
      ]
    },
    {
      "cell_type": "code",
      "metadata": {
        "id": "_4HQz8d4byT3",
        "colab": {
          "base_uri": "https://localhost:8080/"
        },
        "outputId": "831e0571-fe9b-420f-f6e3-83d3c49531f0"
      },
      "source": [
        "# drop duplicates\n",
        "df_drop = df.drop_duplicates(subset = df.columns[1:])\n",
        "\n",
        "# drop missing values\n",
        "hangout_series = df_drop.loc[:, 'hangout']\n",
        "\n",
        "# check the values\n",
        "hangout_series.value_counts()"
      ],
      "execution_count": null,
      "outputs": [
        {
          "output_type": "execute_result",
          "data": {
            "text/plain": [
              "3                                          50\n",
              "4                                          42\n",
              "5                                          23\n",
              "2                                          15\n",
              "6                                          15\n",
              "7                                           7\n",
              "4-5                                         6\n",
              "1                                           6\n",
              "100                                         2\n",
              "8                                           2\n",
              "4-6                                         2\n",
              "5-6                                         2\n",
              "10                                          2\n",
              "6-8                                         1\n",
              "one                                         1\n",
              "Five                                        1\n",
              "1-2                                         1\n",
              "11? I have zero preference on this one.     1\n",
              "3-7, more is too crowded                    1\n",
              "People with similar interests               1\n",
              "20                                          1\n",
              "6-10                                        1\n",
              "5-7                                         1\n",
              "15                                          1\n",
              "3 and me for a game of euchre               1\n",
              "infinity                                    1\n",
              "4 (including me)                            1\n",
              "1-6                                         1\n",
              "Unsure                                      1\n",
              "Infinite                                    1\n",
              "3-4                                         1\n",
              "9                                           1\n",
              "3 others (4 total)                          1\n",
              "5 or 6                                      1\n",
              "3 (4 including me)                          1\n",
              "depends, 4-6 is most comfortable though     1\n",
              "five                                        1\n",
              "Name: hangout, dtype: int64"
            ]
          },
          "metadata": {
            "tags": []
          },
          "execution_count": 26
        }
      ]
    },
    {
      "cell_type": "code",
      "metadata": {
        "id": "0VMI8wk_e_wO",
        "colab": {
          "base_uri": "https://localhost:8080/"
        },
        "outputId": "3d8f1c72-55a3-41de-c085-3863c05e998d"
      },
      "source": [
        "# address range responses, like 4-5, by splitting on - and taking the first value\n",
        "hangout_series_clean = hangout_series.str.split('-').str[0]\n",
        "\n",
        "# check the values\n",
        "hangout_series_clean.value_counts()"
      ],
      "execution_count": null,
      "outputs": [
        {
          "output_type": "execute_result",
          "data": {
            "text/plain": [
              "3                                          52\n",
              "4                                          50\n",
              "5                                          26\n",
              "6                                          17\n",
              "2                                          15\n",
              "1                                           8\n",
              "7                                           7\n",
              "100                                         2\n",
              "8                                           2\n",
              "10                                          2\n",
              "Infinite                                    1\n",
              "Five                                        1\n",
              "People with similar interests               1\n",
              "5 or 6                                      1\n",
              "4 (including me)                            1\n",
              "Unsure                                      1\n",
              "20                                          1\n",
              "3 others (4 total)                          1\n",
              "five                                        1\n",
              "3 (4 including me)                          1\n",
              "11? I have zero preference on this one.     1\n",
              "depends, 4                                  1\n",
              "9                                           1\n",
              "3 and me for a game of euchre               1\n",
              "15                                          1\n",
              "infinity                                    1\n",
              "one                                         1\n",
              "Name: hangout, dtype: int64"
            ]
          },
          "metadata": {
            "tags": []
          },
          "execution_count": 27
        }
      ]
    },
    {
      "cell_type": "code",
      "metadata": {
        "id": "8kyzShTFf3Me",
        "colab": {
          "base_uri": "https://localhost:8080/"
        },
        "outputId": "831b4f0b-8283-4f37-ae88-c9814631858b"
      },
      "source": [
        "# address mixed number response by splitting on ' '  and taking the first value of the resulting list\n",
        "hangout_series_clean = hangout_series_clean.str.split(' ').str[0]\n",
        "\n",
        "# check the values\n",
        "hangout_series_clean.value_counts()"
      ],
      "execution_count": null,
      "outputs": [
        {
          "output_type": "execute_result",
          "data": {
            "text/plain": [
              "3           55\n",
              "4           51\n",
              "5           27\n",
              "6           17\n",
              "2           15\n",
              "1            8\n",
              "7            7\n",
              "10           2\n",
              "8            2\n",
              "100          2\n",
              "Infinite     1\n",
              "infinity     1\n",
              "one          1\n",
              "Five         1\n",
              "five         1\n",
              "11?          1\n",
              "15           1\n",
              "9            1\n",
              "depends,     1\n",
              "People       1\n",
              "Unsure       1\n",
              "20           1\n",
              "Name: hangout, dtype: int64"
            ]
          },
          "metadata": {
            "tags": []
          },
          "execution_count": 28
        }
      ]
    },
    {
      "cell_type": "code",
      "metadata": {
        "id": "yAma5YZdgW3e",
        "colab": {
          "base_uri": "https://localhost:8080/"
        },
        "outputId": "8cae3b72-ea88-44e3-ae0c-79fdd870ae11"
      },
      "source": [
        "# address 'one', 'five', '11?', and 'infinite' using replace\n",
        "hangout_series_clean = hangout_series_clean.str.lower()\n",
        "hangout_series_clean = hangout_series_clean.str.replace('one', '1')\n",
        "hangout_series_clean = hangout_series_clean.str.replace('five', '5')\n",
        "hangout_series_clean = hangout_series_clean.str.replace('?', '')\n",
        "hangout_series_clean = hangout_series_clean.str.replace('infinite', 'infinity')\n",
        "\n",
        "# check the values\n",
        "hangout_series_clean.value_counts()"
      ],
      "execution_count": null,
      "outputs": [
        {
          "output_type": "execute_result",
          "data": {
            "text/plain": [
              "3           55\n",
              "4           51\n",
              "5           29\n",
              "6           17\n",
              "2           15\n",
              "1            9\n",
              "7            7\n",
              "8            2\n",
              "10           2\n",
              "infinity     2\n",
              "100          2\n",
              "unsure       1\n",
              "depends,     1\n",
              "9            1\n",
              "people       1\n",
              "11           1\n",
              "15           1\n",
              "20           1\n",
              "Name: hangout, dtype: int64"
            ]
          },
          "metadata": {
            "tags": []
          },
          "execution_count": 29
        }
      ]
    },
    {
      "cell_type": "code",
      "metadata": {
        "id": "1jbk8bV2hrf9",
        "colab": {
          "base_uri": "https://localhost:8080/"
        },
        "outputId": "207a8777-2af6-49c0-a1ad-9e74ca1a63cc"
      },
      "source": [
        "# convert to numeric using coerce argument\n",
        "hangout_series_clean = pd.to_numeric(hangout_series_clean, errors = 'coerce')\n",
        "\n",
        "# check the values\n",
        "hangout_series_clean.value_counts() "
      ],
      "execution_count": null,
      "outputs": [
        {
          "output_type": "execute_result",
          "data": {
            "text/plain": [
              "3.0      55\n",
              "4.0      51\n",
              "5.0      29\n",
              "6.0      17\n",
              "2.0      15\n",
              "1.0       9\n",
              "7.0       7\n",
              "inf       2\n",
              "100.0     2\n",
              "10.0      2\n",
              "8.0       2\n",
              "15.0      1\n",
              "11.0      1\n",
              "20.0      1\n",
              "9.0       1\n",
              "Name: hangout, dtype: int64"
            ]
          },
          "metadata": {
            "tags": []
          },
          "execution_count": 30
        }
      ]
    },
    {
      "cell_type": "markdown",
      "metadata": {
        "id": "YceNHVrLmxf8"
      },
      "source": [
        "Note that infinite can be represented by some numeric data types, but including it does odd things to our mean and standard deviation statistics. "
      ]
    },
    {
      "cell_type": "code",
      "metadata": {
        "id": "yOFfWmLFmTeM",
        "colab": {
          "base_uri": "https://localhost:8080/"
        },
        "outputId": "22045486-01a4-47ec-f6d5-090ce1abd3cb"
      },
      "source": [
        "# note that infinite can be represented by numeric data types, but including it does odd things to our descriptive statistics \n",
        "hangout_series_clean.describe() "
      ],
      "execution_count": null,
      "outputs": [
        {
          "output_type": "execute_result",
          "data": {
            "text/plain": [
              "count    195.0\n",
              "mean       inf\n",
              "std        NaN\n",
              "min        1.0\n",
              "25%        3.0\n",
              "50%        4.0\n",
              "75%        5.0\n",
              "max        inf\n",
              "Name: hangout, dtype: float64"
            ]
          },
          "metadata": {
            "tags": []
          },
          "execution_count": 31
        }
      ]
    },
    {
      "cell_type": "code",
      "metadata": {
        "id": "hQQJis13nW-T",
        "colab": {
          "base_uri": "https://localhost:8080/"
        },
        "outputId": "f659326c-5b04-4dbe-8901-e5daa7756cf5"
      },
      "source": [
        "# use a mask to remove the infinite values which are represented as np.inf\n",
        "import numpy as np # need this import to address the infinite value\n",
        "hangout_series_clean = hangout_series_clean.loc[hangout_series_clean != np.inf]\n",
        "\n",
        "# check the result\n",
        "hangout_series_clean.describe() "
      ],
      "execution_count": null,
      "outputs": [
        {
          "output_type": "execute_result",
          "data": {
            "text/plain": [
              "count    193.000000\n",
              "mean       5.155440\n",
              "std        9.970095\n",
              "min        1.000000\n",
              "25%        3.000000\n",
              "50%        4.000000\n",
              "75%        5.000000\n",
              "max      100.000000\n",
              "Name: hangout, dtype: float64"
            ]
          },
          "metadata": {
            "tags": []
          },
          "execution_count": 32
        }
      ]
    }
  ]
}