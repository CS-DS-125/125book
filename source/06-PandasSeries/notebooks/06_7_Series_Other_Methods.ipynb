{
  "nbformat": 4,
  "nbformat_minor": 0,
  "metadata": {
    "kernelspec": {
      "display_name": "Python 3",
      "language": "python",
      "name": "python3"
    },
    "language_info": {
      "codemirror_mode": {
        "name": "ipython",
        "version": 3
      },
      "file_extension": ".py",
      "mimetype": "text/x-python",
      "name": "python",
      "nbconvert_exporter": "python",
      "pygments_lexer": "ipython3",
      "version": "3.6.8"
    },
    "colab": {
      "name": "06.7 Series - Other Methods.ipynb",
      "provenance": [],
      "collapsed_sections": [],
      "toc_visible": true
    }
  },
  "cells": [
    {
      "cell_type": "markdown",
      "metadata": {
        "id": "D0Qck8cX6c0i"
      },
      "source": [
        "# Series: Other Methods and Examples\n"
      ]
    },
    {
      "cell_type": "markdown",
      "metadata": {
        "id": "euMGvp4zJDPn"
      },
      "source": [
        "## Other Methods\n",
        "Here's a few more methods we will commonly use that work on series containing both string and numeric data.\n"
      ]
    },
    {
      "cell_type": "code",
      "metadata": {
        "id": "S29kS_7v48cR"
      },
      "source": [
        "# import pandas\n",
        "import pandas as pd\n",
        "\n",
        "# define data url\n",
        "urlg = 'https://raw.githubusercontent.com/'\n",
        "repo = 'bsheese/CSDS125ExampleData/master/'\n",
        "fnme = 'data_book_bestsellers.csv'\n",
        "url = urlg + repo + fnme\n",
        "\n",
        "# create series, ignore this for now\n",
        "df = pd.read_csv(url, names = ['i', 'book']) \n",
        "book_series = df.iloc[1:].loc[:, 'book']\n",
        "\n",
        "# split each string into a list, return series of lists with two elements\n",
        "book_series_split = book_series.str.split(' by ')\n",
        "\n",
        "# use the string accessor with indexing to get a series\n",
        "# containing the first value in the list\n",
        "book_titles = book_series_split.str[0]\n",
        "\n",
        "# use the string accessor with indexing to get a series\n",
        "# containing the second value in the list\n",
        "book_authors = book_series_split.str[1]"
      ],
      "execution_count": null,
      "outputs": []
    },
    {
      "cell_type": "markdown",
      "metadata": {
        "id": "dLG6a_hxJr6-"
      },
      "source": [
        "### Value Counts\n",
        "This method returns a series where each unique value in the original series is the index, and the associated values represent the number of times that value occurred in the original series. By default, the series returned by value_counts is sorted in descending order (largest first).  "
      ]
    },
    {
      "cell_type": "code",
      "metadata": {
        "id": "qTVhTiE-J0s2",
        "colab": {
          "base_uri": "https://localhost:8080/"
        },
        "outputId": "c6ceb2b3-1542-408f-86cc-b77f483ccb50"
      },
      "source": [
        "book_authors.value_counts().head()"
      ],
      "execution_count": null,
      "outputs": [
        {
          "output_type": "execute_result",
          "data": {
            "text/plain": [
              "J. K. Rowling        7\n",
              "Dan Brown            3\n",
              "Nikolai Ostrovsky    1\n",
              "Beatrix Potter       1\n",
              "Johanna Spyri        1\n",
              "Name: book, dtype: int64"
            ]
          },
          "metadata": {
            "tags": []
          },
          "execution_count": 14
        }
      ]
    },
    {
      "cell_type": "markdown",
      "metadata": {
        "id": "W3ZR7PM8KFom"
      },
      "source": [
        "### Unique Values\n",
        "This method returns an array (a structure similar to a list and a series) that contains all of the unique values in a series."
      ]
    },
    {
      "cell_type": "code",
      "metadata": {
        "id": "82WXKWpUKOCe",
        "colab": {
          "base_uri": "https://localhost:8080/"
        },
        "outputId": "670c759c-7d29-4168-8b0f-c69d2e244758"
      },
      "source": [
        "book_authors.unique()"
      ],
      "execution_count": null,
      "outputs": [
        {
          "output_type": "execute_result",
          "data": {
            "text/plain": [
              "array(['J. K. Rowling', 'Antoine de Saint-Exupéry', 'Cao Xueqin',\n",
              "       'J. R. R. Tolkien', 'Agatha Christie', 'C. S. Lewis',\n",
              "       'H. Rider Haggard', 'Carlo Collodi', 'Dan Brown', 'Paulo Coelho',\n",
              "       'J. D. Salinger', 'Robert James Waller', 'Lew Wallace',\n",
              "       'Louise Hay', 'Gabriel García Márquez', 'Vladimir Nabokov',\n",
              "       'Johanna Spyri', 'Benjamin Spock', 'Lucy Maud Montgomery',\n",
              "       'Anna Sewell', 'Umberto Eco', 'Jack Higgins', 'Richard Adams',\n",
              "       'Shere Hite', 'E. B. White; illustrated', 'J. P. Donleavy',\n",
              "       'Beatrix Potter', 'Richard Bach', 'Eric Carle', 'Elbert Hubbard',\n",
              "       'Harper Lee', 'V. C. Andrews', 'Carl Sagan', 'Jostein Gaarder',\n",
              "       'Jeffrey Archer', 'Nikolai Ostrovsky', 'Leo Tolstoy', 'Anne Frank',\n",
              "       'Wayne Dyer', 'Colleen McCullough', 'Rick Warren',\n",
              "       'Khaled Hosseini', 'Jacqueline Susann', 'F. Scott Fitzgerald',\n",
              "       'Margaret Mitchell', 'Daphne du Maurier', 'George Orwell',\n",
              "       'William Bradford Huie', 'Stieg Larsson'], dtype=object)"
            ]
          },
          "metadata": {
            "tags": []
          },
          "execution_count": 15
        }
      ]
    },
    {
      "cell_type": "markdown",
      "metadata": {
        "id": "MR4QefyZMnVm"
      },
      "source": [
        "### Is In\n",
        "If we are looking to identify which elements in a series contain some values in a set of values, we can use `.isin()`. In this case, looking at the example will help you see what it does.  "
      ]
    },
    {
      "cell_type": "code",
      "metadata": {
        "id": "MGGGTbpMM9xr",
        "colab": {
          "base_uri": "https://localhost:8080/"
        },
        "outputId": "e54a05cf-8b35-43a3-f74f-87943393f328"
      },
      "source": [
        "author_list = ['Antoine de Saint-Exupéry', 'Cao Xueqin', 'C. S. Lewis']\n",
        "\n",
        "book_authors.isin(author_list).head()"
      ],
      "execution_count": null,
      "outputs": [
        {
          "output_type": "execute_result",
          "data": {
            "text/plain": [
              "1    False\n",
              "2     True\n",
              "3     True\n",
              "4    False\n",
              "5    False\n",
              "Name: book, dtype: bool"
            ]
          },
          "metadata": {
            "tags": []
          },
          "execution_count": 16
        }
      ]
    },
    {
      "cell_type": "markdown",
      "metadata": {
        "id": "lCgyumL4OIbG"
      },
      "source": [
        "What we've done above is generate a boolean mask where each True indicates that the series value was found somewhere in the list we supplied. This method can be used with other objects that are list-like, such as another series.  "
      ]
    },
    {
      "cell_type": "markdown",
      "metadata": {
        "id": "PxPxFakYPQZW"
      },
      "source": [
        "## Some Examples"
      ]
    },
    {
      "cell_type": "markdown",
      "metadata": {
        "id": "rZJ-bMz9PU42"
      },
      "source": [
        "What's the shortest title of the 50 best-selling books?"
      ]
    },
    {
      "cell_type": "code",
      "metadata": {
        "id": "ZNl6iNGDPfK9",
        "colab": {
          "base_uri": "https://localhost:8080/"
        },
        "outputId": "99fd2a93-5e29-4643-97d2-fd8bc18ff620"
      },
      "source": [
        "# find the minimum book title length\n",
        "book_titles.str.len().min()"
      ],
      "execution_count": null,
      "outputs": [
        {
          "output_type": "execute_result",
          "data": {
            "text/plain": [
              "5"
            ]
          },
          "metadata": {
            "tags": []
          },
          "execution_count": 17
        }
      ]
    },
    {
      "cell_type": "code",
      "metadata": {
        "id": "x9SV4n3vP8-d",
        "colab": {
          "base_uri": "https://localhost:8080/"
        },
        "outputId": "957af2c5-8bd6-4083-c3c2-d5cdbf33c6b6"
      },
      "source": [
        "# use a boolean mask to find the book title that is 5 characters long\n",
        "book_titles.loc[book_titles.str.len() == 5]"
      ],
      "execution_count": null,
      "outputs": [
        {
          "output_type": "execute_result",
          "data": {
            "text/plain": [
              "23    Heidi\n",
              "Name: book, dtype: object"
            ]
          },
          "metadata": {
            "tags": []
          },
          "execution_count": 18
        }
      ]
    },
    {
      "cell_type": "markdown",
      "metadata": {
        "id": "O8GBLTxHQVgr"
      },
      "source": [
        "What is the longest title of the 50 best-selling books?\n"
      ]
    },
    {
      "cell_type": "code",
      "metadata": {
        "id": "sA8FTiA1QajV",
        "colab": {
          "base_uri": "https://localhost:8080/"
        },
        "outputId": "21959248-260e-489b-e1db-a36cf8344f2a"
      },
      "source": [
        "# find the maximum book title length\n",
        "book_titles.str.len().max()"
      ],
      "execution_count": null,
      "outputs": [
        {
          "output_type": "execute_result",
          "data": {
            "text/plain": [
              "55"
            ]
          },
          "metadata": {
            "tags": []
          },
          "execution_count": 19
        }
      ]
    },
    {
      "cell_type": "code",
      "metadata": {
        "id": "X-51rgKXQicl",
        "colab": {
          "base_uri": "https://localhost:8080/"
        },
        "outputId": "b72a6ab0-b448-47e0-8215-58ddfcd7dc7d"
      },
      "source": [
        "# use a boolean mask to find the book title that is 5 characters long\n",
        "book_titles.loc[book_titles.str.len() == 55]"
      ],
      "execution_count": null,
      "outputs": [
        {
          "output_type": "execute_result",
          "data": {
            "text/plain": [
              "8     The Adventures of Pinocchio (Le avventure di P...\n",
              "56    The Girl with the Dragon Tattoo (Män som hatar...\n",
              "Name: book, dtype: object"
            ]
          },
          "metadata": {
            "tags": []
          },
          "execution_count": 20
        }
      ]
    },
    {
      "cell_type": "markdown",
      "metadata": {
        "id": "ZZAD7h-kQsdd"
      },
      "source": [
        "These appear to be long titles because they contain both the original title and an English translation of the title. Let's find the longest English title."
      ]
    },
    {
      "cell_type": "code",
      "metadata": {
        "id": "6hFtE2bGQ5wF",
        "colab": {
          "base_uri": "https://localhost:8080/"
        },
        "outputId": "56cd68f8-454f-45c9-b888-baf234be5d86"
      },
      "source": [
        "# I want to split on the ' (' character, but ( is a special character in Python,\n",
        "# so I have to add the \\ before it here. \n",
        "titles_split  = book_titles.str.split(' \\(')\n",
        "english_titles = titles_split.str[0]\n",
        "\n",
        "# find the length of the longest English title\n",
        "english_titles.str.len().max()\n",
        "\n",
        "# create a boolean mask to find the row with a title 44 characters in length\n",
        "english_titles.loc[english_titles.str.len() == 44]"
      ],
      "execution_count": null,
      "outputs": [
        {
          "output_type": "execute_result",
          "data": {
            "text/plain": [
              "24    The Common Sense Book of Baby and Child Care\n",
              "Name: book, dtype: object"
            ]
          },
          "metadata": {
            "tags": []
          },
          "execution_count": 21
        }
      ]
    },
    {
      "cell_type": "markdown",
      "metadata": {
        "id": "IFh8TPCRUf8L"
      },
      "source": [
        "You can chain together methods, including string methods, but you'll need to use the string accessor `.str` each time you call a string method. Don't go overboard with chaining your methods. It makes your code hard to read, and hard to troublshoot."
      ]
    },
    {
      "cell_type": "code",
      "metadata": {
        "id": "0ejkiaS7TfQt",
        "colab": {
          "base_uri": "https://localhost:8080/"
        },
        "outputId": "05339372-6e35-482d-9d66-1954cd7b5840"
      },
      "source": [
        "# start with the first method then follow the chain toward the end to figure out \n",
        "# what this is doing.\n",
        "titles_split.str[1].str.replace('\\)', '').sort_values().head(10)"
      ],
      "execution_count": null,
      "outputs": [
        {
          "output_type": "execute_result",
          "data": {
            "text/plain": [
              "21         Cien años de soledad\n",
              "45               Het Achterhuis\n",
              "27           Il Nome della Rosa\n",
              "8     Le avventure di Pinocchio\n",
              "56        Män som hatar kvinnor\n",
              "16                 O Alquimista\n",
              "40                Sofies verden\n",
              "44                  Война и мир\n",
              "43         Как закалялась сталь\n",
              "1                           NaN\n",
              "Name: book, dtype: object"
            ]
          },
          "metadata": {
            "tags": []
          },
          "execution_count": 22
        }
      ]
    }
  ]
}