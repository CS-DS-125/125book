{
 "cells": [
  {
   "cell_type": "markdown",
   "metadata": {
    "id": "D0Qck8cX6c0i"
   },
   "source": [
    "# Series: String Methods"
   ]
  },
  {
   "cell_type": "markdown",
   "metadata": {
    "id": "Io_zcqxEKP-z"
   },
   "source": [
    "## Introduction\n",
    "Hopefully you're feeling somewhat confident with the basics of series objects. The next bit we are going to tackle involves different methods of working the strings in a series. \n",
    "\n",
    "Here's a series that contains information about the best-selling books of all time taken from [this article on wikipedia](https://en.wikipedia.org/wiki/List_of_best-selling_books)."
   ]
  },
  {
   "cell_type": "code",
   "execution_count": 1,
   "metadata": {
    "id": "4Yw3Iox31v1y"
   },
   "outputs": [],
   "source": [
    "# import pandas\n",
    "import pandas as pd\n",
    "\n",
    "# define file address\n",
    "urlg = 'https://raw.githubusercontent.com/'\n",
    "repo = 'bsheese/CSDS125ExampleData/master/'\n",
    "fnme = 'data_book_bestsellers.csv'\n",
    "url = urlg + repo + fnme\n",
    "\n",
    "# create series\n",
    "df = pd.read_csv(url, names = ['i', 'book']) # ignore this for now\n",
    "book_series = df.iloc[1:].loc[:, 'book']"
   ]
  },
  {
   "cell_type": "markdown",
   "metadata": {
    "id": "XArcW9FDx7lS"
   },
   "source": [
    "We have a series full of strings. In this case, each value in the series is a string with the title and author of a book. In a previous section, we saw how we can do simple string concatenation with a whole series at the same time."
   ]
  },
  {
   "cell_type": "code",
   "execution_count": 2,
   "metadata": {
    "colab": {
     "base_uri": "https://localhost:8080/"
    },
    "id": "hMzQreyDjRYj",
    "outputId": "712364e4-fd4d-4680-f7bd-7fa839131acc"
   },
   "outputs": [
    {
     "data": {
      "text/plain": "1    Harry Potter and the Philosopher's Stone by J....\n2       The Little Prince by Antoine de Saint-Exupéry!\n3              Dream of the Red Chamber by Cao Xueqin!\n4                      The Hobbit by J. R. R. Tolkien!\n5         And Then There Were None by Agatha Christie!\nName: book, dtype: object"
     },
     "execution_count": 2,
     "metadata": {},
     "output_type": "execute_result"
    }
   ],
   "source": [
    "book_exclaim = book_series + \"!\"\n",
    "book_exclaim.head()"
   ]
  },
  {
   "cell_type": "markdown",
   "metadata": {
    "id": "9yx3lPl1yl6B"
   },
   "source": [
    "You might be tempted to write a for loop to do what we've just done, and it's possible, we could iterate over the series and get the same result..."
   ]
  },
  {
   "cell_type": "code",
   "execution_count": 3,
   "metadata": {
    "colab": {
     "base_uri": "https://localhost:8080/"
    },
    "id": "NVngkfDn6Ozs",
    "outputId": "2c550956-d63c-4e75-df01-320f251db198"
   },
   "outputs": [
    {
     "data": {
      "text/plain": "0    Harry Potter and the Philosopher's Stone by J....\n1       The Little Prince by Antoine de Saint-Exupéry!\n2              Dream of the Red Chamber by Cao Xueqin!\n3                      The Hobbit by J. R. R. Tolkien!\n4         And Then There Were None by Agatha Christie!\ndtype: string"
     },
     "execution_count": 3,
     "metadata": {},
     "output_type": "execute_result"
    }
   ],
   "source": [
    "# iterating through a series with a for loop, try not to do this\n",
    "book_exclaim_alt = []\n",
    "for book in book_series:\n",
    "  book_exclaim_alt.append(book + '!')\n",
    "book_exclaim_alt = pd.Series(book_exclaim_alt, dtype='string')\n",
    "\n",
    "# check the result\n",
    "book_exclaim_alt.head()"
   ]
  },
  {
   "cell_type": "markdown",
   "metadata": {
    "id": "XlLWf44QzLfh"
   },
   "source": [
    "But as a general rule, if we can alter a series without using a for-loop, we should. Using a for-loop is slower from a computational perspective, and the fact that we can update series without the for-loop is one of the big advantages of using the series instead of a list. When we deal with lots of data, this advantage can make a really large differences in the efficiency of our programs. We will return to the issue a few more times throughout the course. For now, just remember that you often can do without the for-loops when you work with series (and with dataframes).   "
   ]
  },
  {
   "cell_type": "markdown",
   "metadata": {
    "id": "x4fAFckf1RyZ"
   },
   "source": [
    "## Using the String Accessor\n",
    "Many of the string methods we are used to working with, such as `.lower()`, `.upper()`, `.split()`, and `.replace()` can be applied to an entire series of string values. But to do so, we need to use the `.str` string accessor as follows:"
   ]
  },
  {
   "cell_type": "code",
   "execution_count": 4,
   "metadata": {
    "colab": {
     "base_uri": "https://localhost:8080/"
    },
    "id": "sWh0uptU6WaM",
    "outputId": "38190d08-e0b8-43aa-cc5f-66412c81c1ff"
   },
   "outputs": [
    {
     "data": {
      "text/plain": "1    harry potter and the philosopher's stone by j....\n2        the little prince by antoine de saint-exupéry\n3               dream of the red chamber by cao xueqin\n4                       the hobbit by j. r. r. tolkien\n5          and then there were none by agatha christie\nName: book, dtype: object"
     },
     "execution_count": 4,
     "metadata": {},
     "output_type": "execute_result"
    }
   ],
   "source": [
    "book_series.str.lower().head()"
   ]
  },
  {
   "cell_type": "code",
   "execution_count": 5,
   "metadata": {
    "colab": {
     "base_uri": "https://localhost:8080/"
    },
    "id": "iFd1ea7E6byV",
    "outputId": "a170fb8f-e107-4e1f-8092-7b10c6956aaf"
   },
   "outputs": [
    {
     "data": {
      "text/plain": "1    HARRY POTTER AND THE PHILOSOPHER'S STONE BY J....\n2        THE LITTLE PRINCE BY ANTOINE DE SAINT-EXUPÉRY\n3               DREAM OF THE RED CHAMBER BY CAO XUEQIN\n4                       THE HOBBIT BY J. R. R. TOLKIEN\n5          AND THEN THERE WERE NONE BY AGATHA CHRISTIE\nName: book, dtype: object"
     },
     "execution_count": 5,
     "metadata": {},
     "output_type": "execute_result"
    }
   ],
   "source": [
    "book_series.str.upper().head()"
   ]
  },
  {
   "cell_type": "code",
   "execution_count": 17,
   "metadata": {
    "colab": {
     "base_uri": "https://localhost:8080/"
    },
    "id": "jLqUPDAZ62pb",
    "outputId": "597d9876-d26a-4742-ab33-4d27c28a2d18"
   },
   "outputs": [
    {
     "data": {
      "text/plain": "1    Hermonie Granger and the Philosopher's Stone b...\n2        The Little Prince by Antoine de Saint-Exupéry\n3               Dream of the Red Chamber by Cao Xueqin\n4                       The Hobbit by J. R. R. Tolkien\n5          And Then There Were None by Agatha Christie\nName: book, dtype: object"
     },
     "execution_count": 17,
     "metadata": {},
     "output_type": "execute_result"
    }
   ],
   "source": [
    "book_series.str.replace('Harry Potter', 'Hermione Granger').head()"
   ]
  },
  {
   "cell_type": "markdown",
   "metadata": {
    "id": "k04QZrEy2c2J"
   },
   "source": [
    "As a general rule, if there's a [Python string method](https://docs.python.org/3/library/stdtypes.html#string-methods) you want to use with a series, you can likely find [a Pandas equivalent](https://pandas.pydata.org/pandas-docs/version/0.23.4/text.html#). "
   ]
  },
  {
   "cell_type": "markdown",
   "metadata": {
    "id": "kyRTsa9D38pw"
   },
   "source": [
    "## Commonly Used String Methods\n",
    "For this class, here's some specific methods that we will commonly use. "
   ]
  },
  {
   "cell_type": "markdown",
   "metadata": {
    "id": "vrVaR8Rw4F5g"
   },
   "source": [
    "### Length of String"
   ]
  },
  {
   "cell_type": "code",
   "execution_count": 7,
   "metadata": {
    "colab": {
     "base_uri": "https://localhost:8080/"
    },
    "id": "bZ1XqAHL4J9g",
    "outputId": "6cba02de-c5d9-4a2f-f1ae-11ed610c485c"
   },
   "outputs": [
    {
     "data": {
      "text/plain": "1    57\n2    45\n3    38\n4    30\n5    43\nName: book, dtype: int64"
     },
     "execution_count": 7,
     "metadata": {},
     "output_type": "execute_result"
    }
   ],
   "source": [
    "# evaluates to a series of string lengths\n",
    "book_series.str.len().head()"
   ]
  },
  {
   "cell_type": "markdown",
   "metadata": {
    "id": "QLiN60NH4hRA"
   },
   "source": [
    "### Lower and Upper Case"
   ]
  },
  {
   "cell_type": "code",
   "execution_count": 8,
   "metadata": {
    "colab": {
     "base_uri": "https://localhost:8080/"
    },
    "id": "vc8ypwir4dr5",
    "outputId": "4f6dff98-2d5e-4471-8913-4bccfe519584"
   },
   "outputs": [
    {
     "data": {
      "text/plain": "1    harry potter and the philosopher's stone by j....\n2        the little prince by antoine de saint-exupéry\n3               dream of the red chamber by cao xueqin\n4                       the hobbit by j. r. r. tolkien\n5          and then there were none by agatha christie\nName: book, dtype: object"
     },
     "execution_count": 8,
     "metadata": {},
     "output_type": "execute_result"
    }
   ],
   "source": [
    "# evaluates to a series of all lower case strings\n",
    "book_series.str.lower().head()"
   ]
  },
  {
   "cell_type": "code",
   "execution_count": 9,
   "metadata": {
    "colab": {
     "base_uri": "https://localhost:8080/"
    },
    "id": "EevBYNnm5vhI",
    "outputId": "0544e136-4ab7-4617-ae71-d6c6fd93d6bc"
   },
   "outputs": [
    {
     "data": {
      "text/plain": "1    HARRY POTTER AND THE PHILOSOPHER'S STONE BY J....\n2        THE LITTLE PRINCE BY ANTOINE DE SAINT-EXUPÉRY\n3               DREAM OF THE RED CHAMBER BY CAO XUEQIN\n4                       THE HOBBIT BY J. R. R. TOLKIEN\n5          AND THEN THERE WERE NONE BY AGATHA CHRISTIE\nName: book, dtype: object"
     },
     "execution_count": 9,
     "metadata": {},
     "output_type": "execute_result"
    }
   ],
   "source": [
    "# evaluates to a series of all upper case strings\n",
    "book_series.str.upper().head()"
   ]
  },
  {
   "cell_type": "markdown",
   "metadata": {
    "id": "DEc75qt75bOo"
   },
   "source": [
    "### Starts and Ends With"
   ]
  },
  {
   "cell_type": "code",
   "execution_count": 10,
   "metadata": {
    "colab": {
     "base_uri": "https://localhost:8080/"
    },
    "id": "m22vTLeM5aQY",
    "outputId": "cb1eecb9-97a1-4438-c8ce-b77a63a60f95"
   },
   "outputs": [
    {
     "data": {
      "text/plain": "1     True\n2    False\n3    False\n4    False\n5    False\nName: book, dtype: bool"
     },
     "execution_count": 10,
     "metadata": {},
     "output_type": "execute_result"
    }
   ],
   "source": [
    "# evaluates to a series of booleans\n",
    "book_series.str.startswith('Harry').head()"
   ]
  },
  {
   "cell_type": "code",
   "execution_count": 11,
   "metadata": {
    "colab": {
     "base_uri": "https://localhost:8080/"
    },
    "id": "gdJFsSmzKPIE",
    "outputId": "0b4c1e73-8011-4a5b-8dda-e8e149d9ea4f"
   },
   "outputs": [
    {
     "data": {
      "text/plain": "1    False\n2    False\n3    False\n4     True\n5    False\nName: book, dtype: bool"
     },
     "execution_count": 11,
     "metadata": {},
     "output_type": "execute_result"
    }
   ],
   "source": [
    "# evaluates to a series of booleans\n",
    "book_series.str.endswith('Tolkien').head()"
   ]
  },
  {
   "cell_type": "markdown",
   "metadata": {
    "id": "XCHWdrAb6YXx"
   },
   "source": [
    "### Contains Sub-String"
   ]
  },
  {
   "cell_type": "code",
   "execution_count": 12,
   "metadata": {
    "colab": {
     "base_uri": "https://localhost:8080/"
    },
    "id": "2eIzd_IKMAIk",
    "outputId": "edc1632a-cf0d-49f2-dfcf-f7337301b7f5"
   },
   "outputs": [
    {
     "data": {
      "text/plain": "1    False\n2    False\n3    False\n4    False\n5     True\nName: book, dtype: bool"
     },
     "execution_count": 12,
     "metadata": {},
     "output_type": "execute_result"
    }
   ],
   "source": [
    "# evaluates to a series of booleans\n",
    "book_series.str.contains('Agatha').head()"
   ]
  },
  {
   "cell_type": "markdown",
   "metadata": {
    "id": "nJiBw3PR6waA"
   },
   "source": [
    "### Find Sub-String"
   ]
  },
  {
   "cell_type": "code",
   "execution_count": 13,
   "metadata": {
    "colab": {
     "base_uri": "https://localhost:8080/"
    },
    "id": "xw5Py_yY6ruh",
    "outputId": "8ae8748c-b59a-41db-c5f5-8de0eae00a32"
   },
   "outputs": [
    {
     "data": {
      "text/plain": "1    -1\n2    -1\n3    -1\n4    -1\n5    35\nName: book, dtype: int64"
     },
     "execution_count": 13,
     "metadata": {},
     "output_type": "execute_result"
    }
   ],
   "source": [
    "# evaluates to a series of integers,\n",
    "# -1 if substring not found, otherwise index of first occurrence\n",
    "book_series.str.find('Christi').head()"
   ]
  },
  {
   "cell_type": "markdown",
   "metadata": {
    "id": "fTOT3y8n7KjI"
   },
   "source": [
    "### Replace Sub-String"
   ]
  },
  {
   "cell_type": "code",
   "execution_count": 14,
   "metadata": {
    "colab": {
     "base_uri": "https://localhost:8080/"
    },
    "id": "W4ECkGHcO5LD",
    "outputId": "a75cb6f1-54ab-45b3-e470-8704a2db16a8"
   },
   "outputs": [
    {
     "data": {
      "text/plain": "1    Harry Potter and the Philosopher's Stone by J....\n2      The Enormous Prince by Antoine de Saint-Exupéry\n3               Dream of the Red Chamber by Cao Xueqin\n4                       The Hobbit by J. R. R. Tolkien\n5          And Then There Were None by Agatha Christie\nName: book, dtype: object"
     },
     "execution_count": 14,
     "metadata": {},
     "output_type": "execute_result"
    }
   ],
   "source": [
    "# evaluates to series with values replaced\n",
    "book_series.str.replace('Little', 'Enormous').head()"
   ]
  },
  {
   "cell_type": "markdown",
   "metadata": {
    "id": "2mzHou7p75Do"
   },
   "source": [
    "### Split on Sub-String"
   ]
  },
  {
   "cell_type": "code",
   "execution_count": 15,
   "metadata": {
    "colab": {
     "base_uri": "https://localhost:8080/"
    },
    "id": "4ZgkJ3jD8ahg",
    "outputId": "1ca43170-ee2c-4553-f333-ae9d401a3aec"
   },
   "outputs": [
    {
     "data": {
      "text/plain": "1    [Harry Potter and the Philosopher's Stone, J. ...\n2        [The Little Prince, Antoine de Saint-Exupéry]\n3               [Dream of the Red Chamber, Cao Xueqin]\n4                       [The Hobbit, J. R. R. Tolkien]\n5          [And Then There Were None, Agatha Christie]\nName: book, dtype: object"
     },
     "execution_count": 15,
     "metadata": {},
     "output_type": "execute_result"
    }
   ],
   "source": [
    "# evaluates to series where each value contains a list\n",
    "book_series.str.split(' by ').head()"
   ]
  },
  {
   "cell_type": "code",
   "execution_count": 16,
   "metadata": {
    "colab": {
     "base_uri": "https://localhost:8080/"
    },
    "id": "8pMg7CqWP4LG",
    "outputId": "d727b197-36b6-4aa1-d400-bdbba4059dc9"
   },
   "outputs": [
    {
     "data": {
      "text/plain": "53        Daphne du Maurier\n54            George Orwell\n55    William Bradford Huie\n56            Stieg Larsson\n57                Dan Brown\nName: book, dtype: object"
     },
     "execution_count": 16,
     "metadata": {},
     "output_type": "execute_result"
    }
   ],
   "source": [
    "# split each string into a list, return a series of lists with two elements\n",
    "book_series_split = book_series.str.split(' by ')\n",
    "\n",
    "# use the string accessor with indexing to get a series\n",
    "# containing the first value in the list\n",
    "book_titles = book_series_split.str[0]\n",
    "\n",
    "# use the string accessor with indexing to get a series\n",
    "# containing the second value in the list\n",
    "book_authors = book_series_split.str[1]\n",
    "\n",
    "#check result\n",
    "book_authors.tail()"
   ]
  }
 ],
 "metadata": {
  "colab": {
   "collapsed_sections": [],
   "name": "06.5 Series - String Methods.ipynb",
   "provenance": [],
   "toc_visible": true
  },
  "kernelspec": {
   "display_name": "Python 3",
   "language": "python",
   "name": "python3"
  },
  "language_info": {
   "codemirror_mode": {
    "name": "ipython",
    "version": 3
   },
   "file_extension": ".py",
   "mimetype": "text/x-python",
   "name": "python",
   "nbconvert_exporter": "python",
   "pygments_lexer": "ipython3",
   "version": "3.8.5"
  }
 },
 "nbformat": 4,
 "nbformat_minor": 1
}
