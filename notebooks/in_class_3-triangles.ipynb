{
 "cells": [
  {
   "cell_type": "markdown",
   "metadata": {},
   "source": [
    "# In-Class Exercises, Ch. 3, Triangles\n",
    "\n",
    "[link to relevant book chapter/sections]\n",
    "\n",
    "Key ideas in these exercises:\n",
    "1. strings\n",
    "2. string multiplication"
   ]
  },
  {
   "cell_type": "markdown",
   "metadata": {},
   "source": [
    "***\n",
    "## Some Examples of String Multiplication\n",
    "Look at the following line of code. Make a prediction about what it will do and then run it."
   ]
  },
  {
   "cell_type": "code",
   "execution_count": 4,
   "metadata": {},
   "outputs": [
    {
     "name": "stdout",
     "output_type": "stream",
     "text": [
      "Hello Hello Hello Hello Hello \n"
     ]
    }
   ],
   "source": [
    "print(\"Hello \" * 5)"
   ]
  },
  {
   "cell_type": "markdown",
   "metadata": {},
   "source": [
    "***\n",
    "Do the same for the code below. Notice that the 'white space' in the first line is treated just like any other part of the string."
   ]
  },
  {
   "cell_type": "code",
   "execution_count": 9,
   "metadata": {},
   "outputs": [
    {
     "name": "stdout",
     "output_type": "stream",
     "text": [
      "Hello Hello Hello Hello Hello \n",
      "HelloHelloHelloHelloHello\n",
      "                            !!!                                                             !!!                                                             !!!                                                             !!!                                                             !!!                                 \n",
      "byeGoodbyeGoodbyeGoodbyeGoodbyeGoodbyeGoodbyeGoodbyeGoodbyeGoodbyeGood\n",
      "\n",
      "|Snake Bear!|Snake Bear!|Snake Bear!|Snake Bear!|Snake Bear!|Snake Bear!|Snake Bear!|Snake Bear!|Snake Bear!|Snake Bear!|Snake Bear!|Snake Bear!|Snake Bear!|Snake Bear!|Snake Bear!|Snake Bear!|Snake Bear!|Snake Bear!|Snake Bear!|Snake Bear!|Snake Bear!|Snake Bear!|Snake Bear!|Snake Bear!|Snake Bear!|Snake Bear!|Snake Bear!|Snake Bear!|Snake Bear!|Snake Bear!\n"
     ]
    }
   ],
   "source": [
    "print(\"Hello \" * 5)\n",
    "print(\"Hello\" * 5)\n",
    "print(\"                            !!!                                 \" * 5)\n",
    "print(\"byeGood\" * 10)\n",
    "print(\"What?\" * 0)\n",
    "print(\"|Snake Bear!\" * 30)"
   ]
  },
  {
   "cell_type": "markdown",
   "metadata": {},
   "source": [
    "***\n",
    "## Exercise 1\n",
    "This code prints a triangle without using string multiplication. It is not very interesting."
   ]
  },
  {
   "cell_type": "code",
   "execution_count": 10,
   "metadata": {},
   "outputs": [
    {
     "name": "stdout",
     "output_type": "stream",
     "text": [
      "     *\n",
      "    ***\n",
      "   *****\n",
      "  *******\n",
      " *********\n",
      "***********\n"
     ]
    }
   ],
   "source": [
    "print(\"     *\")\n",
    "print(\"    ***\")\n",
    "print(\"   *****\")\n",
    "print(\"  *******\")\n",
    "print(\" *********\")\n",
    "print(\"***********\")"
   ]
  },
  {
   "cell_type": "markdown",
   "metadata": {},
   "source": [
    "***\n",
    "Write a program that uses string multiplication to make the same triangle pattern."
   ]
  },
  {
   "cell_type": "code",
   "execution_count": null,
   "metadata": {},
   "outputs": [],
   "source": [
    "# write your code here"
   ]
  },
  {
   "cell_type": "markdown",
   "metadata": {},
   "source": [
    "***\n",
    "## Exercise 2\n",
    "For a challenge, try to make the same triangle using only *two* lines of code."
   ]
  },
  {
   "cell_type": "code",
   "execution_count": null,
   "metadata": {},
   "outputs": [],
   "source": [
    "# Write your code here"
   ]
  }
 ],
 "metadata": {
  "kernelspec": {
   "display_name": "Python 3",
   "language": "python",
   "name": "python3"
  },
  "language_info": {
   "codemirror_mode": {
    "name": "ipython",
    "version": 3
   },
   "file_extension": ".py",
   "mimetype": "text/x-python",
   "name": "python",
   "nbconvert_exporter": "python",
   "pygments_lexer": "ipython3",
   "version": "3.6.5"
  }
 },
 "nbformat": 4,
 "nbformat_minor": 2
}
