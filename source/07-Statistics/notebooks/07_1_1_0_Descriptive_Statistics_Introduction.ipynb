{
  "nbformat": 4,
  "nbformat_minor": 0,
  "metadata": {
    "kernelspec": {
      "display_name": "Python 3",
      "language": "python",
      "name": "python3"
    },
    "language_info": {
      "codemirror_mode": {
        "name": "ipython",
        "version": 3
      },
      "file_extension": ".py",
      "mimetype": "text/x-python",
      "name": "python",
      "nbconvert_exporter": "python",
      "pygments_lexer": "ipython3",
      "version": "3.6.8"
    },
    "colab": {
      "name": "07.1.1.0 Descriptive Statistics - Introduction.ipynb",
      "provenance": [],
      "collapsed_sections": [],
      "toc_visible": true
    }
  },
  "cells": [
    {
      "cell_type": "markdown",
      "metadata": {
        "id": "P3n7OMz8Jjad"
      },
      "source": [
        "# Descriptive Statistics\n",
        "Author: Brad Sheese\n",
        "\n",
        "---\n"
      ]
    },
    {
      "cell_type": "markdown",
      "metadata": {
        "id": "0NR2lUvX7Njj"
      },
      "source": [
        "## 07.1.1.0 Introduction\n",
        "\n",
        "We are going to be reviewing some basic statistics. Many of you have had an introduction to basic statistics before so much of this is likely going to be review. However, we are going to be writing and testing functions to calculate different statistics. This will help you think a little more in depth about statistics while we also practice some of the coding skills we've learned.\n",
        "\n",
        "Statistics are handy when you have many values to consider. If you have very few values (let's say three) you usually won't statistics. You can think pretty well about three things at a time. But if we have lots of values, too many to hold in your head at the same time, statistics provide us a tool for thinking about those values as a group. "
      ]
    },
    {
      "cell_type": "markdown",
      "metadata": {
        "id": "W0wLEgDcsT6u"
      },
      "source": [
        "## 07.1.1.1: Measures of Central Tendency"
      ]
    },
    {
      "cell_type": "markdown",
      "metadata": {
        "id": "kPjw3shf3dsm"
      },
      "source": [
        "A statistics that is used to describe a group of values is sometimes called a ['descriptive statistic'](https://en.wikipedia.org/wiki/Descriptive_statistics).\n",
        "Here we consider three ways we can describe the 'middle' or 'center' of a group of values. These measures, like the numeric mean, are sometimes known as measures of central tendency.\n"
      ]
    },
    {
      "cell_type": "markdown",
      "metadata": {
        "id": "ZIo5EKj5UPrC"
      },
      "source": [
        "### `.mean()`\n",
        "You probably have the most experience with the 'average' or 'mean' (aka the arithmetic mean). We tend to think of the average as the middle of a group of values, but that's not always true. Sometimes the mean value in a group of data may not be anywhere close to what we are thinking of when we say middle. Take for example the following set of values `[1, 2, 3, 4, 10000]`  "
      ]
    },
    {
      "cell_type": "code",
      "metadata": {
        "id": "N8DdbPtI74HF",
        "colab": {
          "base_uri": "https://localhost:8080/"
        },
        "outputId": "dddbc866-fbf7-4a22-8f65-1e7938a1f247"
      },
      "source": [
        "# imports\n",
        "import pandas as pd\n",
        "import numpy as np\n",
        "\n",
        "# create example series\n",
        "example_values = pd.Series([1, 2, 2, 3, 4, 5, 10000])\n",
        "\n",
        "# compute mean value\n",
        "example_values.mean() "
      ],
      "execution_count": 18,
      "outputs": [
        {
          "output_type": "execute_result",
          "data": {
            "text/plain": [
              "1431.0"
            ]
          },
          "metadata": {
            "tags": []
          },
          "execution_count": 18
        }
      ]
    },
    {
      "cell_type": "markdown",
      "metadata": {
        "id": "y7DHDrCIVlz_"
      },
      "source": [
        "In the case above, the mean value is 1431. Looking at the actual values in the series, however, and you might start to get a sense of how the mean can sometimes be misleading with regard to describing the middle of a bunch of values. \n",
        "\n",
        "The Pandas method `.mean()` can be called on either a series or a dataframe. When called on a dataframe, you must specify whether you want the mean calculated across rows or across columns. Pass the argument `axis=0` to calculate the mean for each row, and the argument `axis=1` to calculate the mean for each column. \n",
        "\n",
        "Unlike some other Python libraries with their own mean functions (like numpy), the Pandas `.mean()` function will, by default, skip over any missing values. "
      ]
    },
    {
      "cell_type": "markdown",
      "metadata": {
        "id": "FVsqqc4K8Was"
      },
      "source": [
        "### `.median()`\n",
        "The average of the values in series listed in the previous example is very large relative to most of the number in the list. If you didn't look at the values, and you only knew that average, you might wind up with a very misleading idea about the rest of the values in the group. So to compliment the mean, we have a few other measures of central tendency to help us get a better handle on the middle of the group of values. \n",
        "\n",
        "If we count values starting at both sides of the list of values until we arrive at the middle value, we have found the median. "
      ]
    },
    {
      "cell_type": "code",
      "metadata": {
        "id": "I-G99WBD9F19",
        "colab": {
          "base_uri": "https://localhost:8080/"
        },
        "outputId": "cd105898-4acc-4b03-fcef-90f9d99fc818"
      },
      "source": [
        "print(f'Series Values: {example_values.to_list()}')\n",
        "print(f'Series Mean: {example_values.mean()}')\n",
        "print(f'Series Median: {example_values.median()}') "
      ],
      "execution_count": 19,
      "outputs": [
        {
          "output_type": "stream",
          "text": [
            "Series Values: [1, 2, 2, 3, 4, 5, 10000]\n",
            "Series Mean: 1431.0\n",
            "Series Median: 3.0\n"
          ],
          "name": "stdout"
        }
      ]
    },
    {
      "cell_type": "markdown",
      "metadata": {
        "id": "8d_AUvUP9z2U"
      },
      "source": [
        "Since there is an odd number of values in the list, the median is pretty straightfoward. If there are an even number of values, the 'middle' falls between two values and the median is the average of those two values. "
      ]
    },
    {
      "cell_type": "code",
      "metadata": {
        "id": "al291rP2-Ocb",
        "colab": {
          "base_uri": "https://localhost:8080/"
        },
        "outputId": "c8d9acf7-1cef-42ea-f2f3-66c1abf565a0"
      },
      "source": [
        "even_example_values = pd.Series([1, 2, 2, 3, 4, 5, 6, 10000])\n",
        "\n",
        "print(f'Series Values: {even_example_values.to_list()}')\n",
        "print(f'Series Mean:   {even_example_values.mean()}')\n",
        "print(f'Series Median: {even_example_values.median()}') "
      ],
      "execution_count": 20,
      "outputs": [
        {
          "output_type": "stream",
          "text": [
            "Series Values: [1, 2, 2, 3, 4, 5, 6, 10000]\n",
            "Series Mean:   1252.875\n",
            "Series Median: 3.5\n"
          ],
          "name": "stdout"
        }
      ]
    },
    {
      "cell_type": "markdown",
      "metadata": {
        "id": "bdD6tFfL-g0f"
      },
      "source": [
        "### `.mode()`\n",
        "The final measure of central tendency we will cover is the mode. This is the single value that occurred most frequently. "
      ]
    },
    {
      "cell_type": "code",
      "metadata": {
        "id": "ck14ZbpJ-c-q",
        "colab": {
          "base_uri": "https://localhost:8080/"
        },
        "outputId": "ad464293-816a-4d45-c123-9a390179f447"
      },
      "source": [
        "example_values.mode() "
      ],
      "execution_count": 21,
      "outputs": [
        {
          "output_type": "execute_result",
          "data": {
            "text/plain": [
              "0    2\n",
              "dtype: int64"
            ]
          },
          "metadata": {
            "tags": []
          },
          "execution_count": 21
        }
      ]
    },
    {
      "cell_type": "markdown",
      "metadata": {
        "id": "Isl7jM_P-w7q"
      },
      "source": [
        "Notice how the Pandas `.mode()` method returned a series with a single value in it rather than just a single value like the earlier methods. Any guesses why? Think about it for a minute, and then run the cell below. "
      ]
    },
    {
      "cell_type": "code",
      "metadata": {
        "id": "tGtFoBAy_F5r",
        "colab": {
          "base_uri": "https://localhost:8080/"
        },
        "outputId": "fb83b731-e3ab-42f9-bea0-67a8a2b51a1c"
      },
      "source": [
        "mode_example_values = pd.Series([1, 2, 2, 3, 3, 4, 5, 6, 10000, 10000])\n",
        "mode_example_values.mode()"
      ],
      "execution_count": 22,
      "outputs": [
        {
          "output_type": "execute_result",
          "data": {
            "text/plain": [
              "0        2\n",
              "1        3\n",
              "2    10000\n",
              "dtype: int64"
            ]
          },
          "metadata": {
            "tags": []
          },
          "execution_count": 22
        }
      ]
    },
    {
      "cell_type": "markdown",
      "metadata": {
        "id": "1JeezzRZ_SjR"
      },
      "source": [
        "If there are multiple modal values, all are modes and are returned as a series. What if no value occurs more than once? Then every value is a mode and they all are returned as series. "
      ]
    },
    {
      "cell_type": "code",
      "metadata": {
        "id": "wYjq_gLO_iAp",
        "colab": {
          "base_uri": "https://localhost:8080/"
        },
        "outputId": "7a8461c7-7142-462e-df65-742b2b07d778"
      },
      "source": [
        "mode_example_values2 = pd.Series([1, 2, 3, 4, 5, 6, 10000])\n",
        "mode_example_values2.mode()"
      ],
      "execution_count": 23,
      "outputs": [
        {
          "output_type": "execute_result",
          "data": {
            "text/plain": [
              "0        1\n",
              "1        2\n",
              "2        3\n",
              "3        4\n",
              "4        5\n",
              "5        6\n",
              "6    10000\n",
              "dtype: int64"
            ]
          },
          "metadata": {
            "tags": []
          },
          "execution_count": 23
        }
      ]
    },
    {
      "cell_type": "markdown",
      "metadata": {
        "id": "M7EwIGAs6HvF"
      },
      "source": [
        "As with `.mean()`, and `.median()`, Pandas's `.mode()` function will, by default drop any missing values before it performs calculations."
      ]
    },
    {
      "cell_type": "markdown",
      "metadata": {
        "id": "r-rCtGik7Nj4"
      },
      "source": [
        "## 07.1.1.2 Other Basic Descriptive Statistics\n",
        "Besides mean, median, and mode, we also often want to know the minimum, maximum, and count (total number of values) in a group of data.\n"
      ]
    },
    {
      "cell_type": "code",
      "metadata": {
        "id": "oW31nIpN7Nj5",
        "colab": {
          "base_uri": "https://localhost:8080/"
        },
        "outputId": "c03f853e-7499-4d48-84a0-731bc58cbc64"
      },
      "source": [
        "even_example_values2 = pd.Series([1, 2, 2, 3, 4, 5, 6, 10000, np.NaN])\n",
        "\n",
        "print(f'Series Values: {even_example_values2.to_list()}')\n",
        "print(f'Series Mean:   {even_example_values2.mean()}')\n",
        "print(f'Series Median: {even_example_values2.median()}') \n",
        "print(f'Series Mode:   {even_example_values2.mode().to_list()}') \n",
        "print(f'Series Min:    {even_example_values2.min()}') \n",
        "print(f'Series Max:    {even_example_values2.max()}')\n",
        "print(f'Series Count:  {even_example_values2.count()}')\n",
        "print(f'Series Length  {len(even_example_values2)}')"
      ],
      "execution_count": 24,
      "outputs": [
        {
          "output_type": "stream",
          "text": [
            "Series Values: [1.0, 2.0, 2.0, 3.0, 4.0, 5.0, 6.0, 10000.0, nan]\n",
            "Series Mean:   1252.875\n",
            "Series Median: 3.5\n",
            "Series Mode:   [2.0]\n",
            "Series Min:    1.0\n",
            "Series Max:    10000.0\n",
            "Series Count:  8\n",
            "Series Length  9\n"
          ],
          "name": "stdout"
        }
      ]
    },
    {
      "cell_type": "markdown",
      "metadata": {
        "id": "K0iASf6mCyrD"
      },
      "source": [
        "Notice that, although the series in the example above contains a missing value (np.NaN), the Pandas methods for descriptive statistics automatically disregard any missing values."
      ]
    },
    {
      "cell_type": "markdown",
      "metadata": {
        "id": "hHiKIARi7Nkk"
      },
      "source": [
        "---"
      ]
    },
    {
      "cell_type": "markdown",
      "metadata": {
        "id": "lUruPxlrssMA"
      },
      "source": [
        "## 07.1.1.3 Measures of Dispersion\n",
        "\n",
        "We are going to consider three ways we can describe the spread or range of a group of values. We will look at the 'range' and 'standard deviation' descriptive statistics. Statistics of this type are sometimes called 'measures of dispersion' because they tell how 'dispersed' our data is around the middle. If there is very little dispersion almost all the values are close to the middle. If there is a lot of dispersion, many values are spread out away from the middle. \n",
        "\n",
        "For example:\n",
        "\n",
        "* `[5, 5, 5, 5, 5, 5, 5]` would have less dispersion compared to...\n",
        "* `[0, 5, 5, 5, 5, 5, 10]`\n",
        "\n",
        "The two groups of values shown above would have identical means, medians, and modes (5 in every case). They will, however, in their range, variance, and standard deviation. "
      ]
    },
    {
      "cell_type": "markdown",
      "metadata": {
        "id": "3sosDd6-tJt9"
      },
      "source": [
        "### Range as a Descriptive Statistic\n",
        "Range statistics are commonly given as either the min and the max values (for example: `0 to 10`), or as single value that is the the result of subtracting the maximum value from the minimum value. \n",
        "\n",
        "There is no built in Pandas function for creating a range statistic. Use `.min()` and `.max()` instead, or use `.describe()`.  \n"
      ]
    },
    {
      "cell_type": "code",
      "metadata": {
        "id": "WfuJoUN_tEc2",
        "colab": {
          "base_uri": "https://localhost:8080/"
        },
        "outputId": "f472ed95-25fd-4d39-df31-90e347e0411c"
      },
      "source": [
        "# using describe to look at the range of values\n",
        "example_values.describe()"
      ],
      "execution_count": 25,
      "outputs": [
        {
          "output_type": "execute_result",
          "data": {
            "text/plain": [
              "count        7.00000\n",
              "mean      1431.00000\n",
              "std       3778.57407\n",
              "min          1.00000\n",
              "25%          2.00000\n",
              "50%          3.00000\n",
              "75%          4.50000\n",
              "max      10000.00000\n",
              "dtype: float64"
            ]
          },
          "metadata": {
            "tags": []
          },
          "execution_count": 25
        }
      ]
    },
    {
      "cell_type": "markdown",
      "metadata": {
        "id": "CPnwg0XstvFc"
      },
      "source": [
        "### Standard Deviation with `.std()`\n",
        "Range is pretty limited as a way of describing dispersion. One way you can think about the spread of your data are is by measuring the distance between any one value and the mean. If there's not much spread, those distances will be small. If there's alot of spread those distance will be big. The standard deviation is a way of quantifying that spread. \n",
        "\n",
        "The Pandas method `.std()` can be used with either a series or a dataframe to calculate the standard deviation. If applied to a dataframe, you will need to indicate if you want the calculation applied to each row (`axis = 0`) or each column (`axis = 1`). "
      ]
    },
    {
      "cell_type": "code",
      "metadata": {
        "id": "tn-6rwxzvP10",
        "colab": {
          "base_uri": "https://localhost:8080/"
        },
        "outputId": "3d5f9bd8-3eac-4482-8204-31fcf189078c"
      },
      "source": [
        "temp1 = pd.Series([56, 65, 78, 86, 88, 92])\n",
        "temp2 = pd.Series([33, 65, 78, 88, 92, 109])\n",
        "\n",
        "print(f'temp1: mean = {temp1.mean()}, standard deviation: {temp1.std()}')\n",
        "print(f'temp2: mean = {temp2.mean()}, standard deviation: {temp2.std()}')"
      ],
      "execution_count": 26,
      "outputs": [
        {
          "output_type": "stream",
          "text": [
            "temp1: mean = 77.5, standard deviation: 14.223220451079285\n",
            "temp2: mean = 77.5, standard deviation: 26.265947536687115\n"
          ],
          "name": "stdout"
        }
      ]
    },
    {
      "cell_type": "markdown",
      "metadata": {
        "id": "ZBBSjDDiT9BO"
      },
      "source": [
        "### Percentiles\n",
        "\n",
        "Unfortunately, the standard deviation  can be heavily influences by outliers. Percentiles represent a different way of looking at dispersion that is less influences by outliers. \n",
        "\n",
        "For example, let's say we had a dataset representing the 'net worth' of person's named 'Bill'. We are interested in using descriptive statistics to get a sense of the data."
      ]
    },
    {
      "cell_type": "code",
      "metadata": {
        "colab": {
          "base_uri": "https://localhost:8080/"
        },
        "id": "My_A17GqT8NH",
        "outputId": "4fb24355-0601-4f1d-9ed0-1a6fb0752753"
      },
      "source": [
        "# generates bill data for this example\n",
        "import random\n",
        "\n",
        "bill_networth = [100000000000]\n",
        "for b in range(500):\n",
        "  bill_networth.append(random.randint(1000,100000))\n",
        "\n",
        "bill_series = pd.Series(bill_networth)\n",
        "\n",
        "# descriptive stats\n",
        "print(f'Mean          {round(bill_series.mean()):>10}')\n",
        "print(f'Std. Dev.     {round(bill_series.std()):>10}')\n",
        "print(f'Median:       {round(bill_series.median()):>10}')\n",
        "\n",
        "for mode in bill_series.mode():\n",
        "  print(f'Mode(s):      {mode:>10}')\n"
      ],
      "execution_count": 27,
      "outputs": [
        {
          "output_type": "stream",
          "text": [
            "Mean           199651296\n",
            "Std. Dev.     4467668256\n",
            "Median:            50134\n",
            "Mode(s):           22975\n",
            "Mode(s):           42978\n"
          ],
          "name": "stdout"
        }
      ]
    },
    {
      "cell_type": "markdown",
      "metadata": {
        "id": "Rrt2gErOWS4Q"
      },
      "source": [
        "The mean and standard deviation in the bill_series is quite large. These two figures are accurate, but don't help us get a good sense of the data. The problem is that we have a rather profound outlier. Bill Gates is included in our sample of Bills and his net worth is (currently) 100 Billion dollars.\n",
        "\n",
        "If we exclude the one outlier, we get a very different picture of the data. \n"
      ]
    },
    {
      "cell_type": "code",
      "metadata": {
        "colab": {
          "base_uri": "https://localhost:8080/"
        },
        "id": "MDpOCBm5ZvSl",
        "outputId": "005afc24-4df2-4af7-da5c-c28dd6bc8128"
      },
      "source": [
        "bill_series_excluding_billg = bill_series[bill_series.values < 100000000000]\n",
        "\n",
        "# descriptive stats\n",
        "print(f'Mean          {round(bill_series_excluding_billg.mean()):>10}')\n",
        "print(f'Std. Dev.     {round(bill_series_excluding_billg.std()):>10}')\n",
        "print(f'Median:       {round(bill_series_excluding_billg.median()):>10}')\n",
        "\n",
        "for mode in bill_series_excluding_billg.mode():\n",
        "  print(f'Mode(s):      {mode:>10}')"
      ],
      "execution_count": 28,
      "outputs": [
        {
          "output_type": "stream",
          "text": [
            "Mean               50598\n",
            "Std. Dev.          28985\n",
            "Median:            50021\n",
            "Mode(s):           22975\n",
            "Mode(s):           42978\n"
          ],
          "name": "stdout"
        }
      ]
    },
    {
      "cell_type": "markdown",
      "metadata": {
        "id": "JPO-ne4PaNRN"
      },
      "source": [
        "Recognizing and dealing with outliers is an important skill to develop, but it would be nice if our descriptive statistics could address with this issue without requiring us to remove values ourselves. \n",
        "\n",
        "Percentiles essentially do this by looking at the range of a set of data after dropping some number of values from each end. Removing values on the ends of the distribution in a systematic way and then looking at the range of the remaining values, gives us a measure of dispersion that is more resistant to the influence of outliers. \n",
        "\n",
        "To find a percentile, you sort the dataset from highest to lowest. If you want the 50th percentile you would then move up the order from lowest to highest until 50% of the values were less than or equal to the current value. If you think about this for a minute, it should become clear that the 50% percentile is the same as the median. If you continue moving up through the values until 75% of the values were less than or equal to the current values, you have found the 75th percentile. \n",
        "\n",
        "A common way to measure dispersion of data using percentiles is to report the range between the 25th and the 75th percentile. This is called the interquartile range or IQR. (A quartile is 25 percentiles). The 25th percentile is sometimes called the 'lower quartile' and the 75th percentile is called the 'upper quartile'.\n",
        "\n",
        "We can use `.describe()` to look at the IQR.\n",
        "\n",
        "\n"
      ]
    },
    {
      "cell_type": "code",
      "metadata": {
        "colab": {
          "base_uri": "https://localhost:8080/"
        },
        "id": "Gj5wOhbCcZP1",
        "outputId": "d62e3a13-7f17-4c7c-c3a5-9ff1ef863caf"
      },
      "source": [
        "# IQR for complete bill series, ignore everything after .describe()\n",
        "bill_series.describe().apply(lambda x: format(x, 'f'))"
      ],
      "execution_count": 29,
      "outputs": [
        {
          "output_type": "execute_result",
          "data": {
            "text/plain": [
              "count             501.000000\n",
              "mean        199651295.696607\n",
              "std        4467668255.616747\n",
              "min              1251.000000\n",
              "25%             23552.000000\n",
              "50%             50134.000000\n",
              "75%             74629.000000\n",
              "max      100000000000.000000\n",
              "dtype: object"
            ]
          },
          "metadata": {
            "tags": []
          },
          "execution_count": 29
        }
      ]
    },
    {
      "cell_type": "code",
      "metadata": {
        "colab": {
          "base_uri": "https://localhost:8080/"
        },
        "id": "bz_eq05gcgA0",
        "outputId": "3c01a725-e163-4d9a-d442-a22286b73fa5"
      },
      "source": [
        "# IQR for bill series excluding Bill G.\n",
        "bill_series_excluding_billg.describe()"
      ],
      "execution_count": 30,
      "outputs": [
        {
          "output_type": "execute_result",
          "data": {
            "text/plain": [
              "count      500.000000\n",
              "mean     50598.288000\n",
              "std      28984.733383\n",
              "min       1251.000000\n",
              "25%      23434.250000\n",
              "50%      50021.000000\n",
              "75%      74458.750000\n",
              "max      99993.000000\n",
              "dtype: float64"
            ]
          },
          "metadata": {
            "tags": []
          },
          "execution_count": 30
        }
      ]
    },
    {
      "cell_type": "markdown",
      "metadata": {
        "id": "wUECnSfwdaGE"
      },
      "source": [
        "Notice how the interquartile range as a whole, as well as the individual percentiles, are similar between the two sets of data. In the presence of large outliers, percentils can give us a better picture of overall dispersion than the standard deviation or range can.  "
      ]
    }
  ]
}