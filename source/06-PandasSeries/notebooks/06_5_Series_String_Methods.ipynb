{
  "nbformat": 4,
  "nbformat_minor": 0,
  "metadata": {
    "kernelspec": {
      "display_name": "Python 3",
      "language": "python",
      "name": "python3"
    },
    "language_info": {
      "codemirror_mode": {
        "name": "ipython",
        "version": 3
      },
      "file_extension": ".py",
      "mimetype": "text/x-python",
      "name": "python",
      "nbconvert_exporter": "python",
      "pygments_lexer": "ipython3",
      "version": "3.6.8"
    },
    "colab": {
      "name": "06.5 Series - String Methods.ipynb",
      "provenance": [],
      "collapsed_sections": [],
      "toc_visible": true
    }
  },
  "cells": [
    {
      "cell_type": "markdown",
      "metadata": {
        "id": "D0Qck8cX6c0i"
      },
      "source": [
        "# Series: String Methods"
      ]
    },
    {
      "cell_type": "markdown",
      "metadata": {
        "id": "Io_zcqxEKP-z"
      },
      "source": [
        "## Introduction\n",
        "Hopefully you're feeling somewhat confident with the basics of series objects. The next bit we are going to tackle involves different methods of of working the strings in a series. \n",
        "\n",
        "Here's a series that contains information about the best-selling books of all time taken from [this article on wikipedia](https://en.wikipedia.org/wiki/List_of_best-selling_books)."
      ]
    },
    {
      "cell_type": "code",
      "metadata": {
        "id": "4Yw3Iox31v1y"
      },
      "source": [
        "# import pandas\n",
        "import pandas as pd\n",
        "\n",
        "# define file address\n",
        "urlg = 'https://raw.githubusercontent.com/'\n",
        "repo = 'bsheese/CSDS125ExampleData/master/'\n",
        "fnme = 'data_book_bestsellers.csv'\n",
        "url = urlg + repo + fnme\n",
        "\n",
        "# create series\n",
        "df = pd.read_csv(url, names = ['i', 'book']) # ignore this for now\n",
        "book_series = df.iloc[1:].loc[:, 'book']"
      ],
      "execution_count": null,
      "outputs": []
    },
    {
      "cell_type": "markdown",
      "metadata": {
        "id": "XArcW9FDx7lS"
      },
      "source": [
        "We have a series full of strings. In this case, each value in the series is a string with the title and author of a book. In a previous section, we saw how we can do simple string contatenation with a whole series at the same time."
      ]
    },
    {
      "cell_type": "code",
      "metadata": {
        "id": "hMzQreyDjRYj",
        "colab": {
          "base_uri": "https://localhost:8080/"
        },
        "outputId": "712364e4-fd4d-4680-f7bd-7fa839131acc"
      },
      "source": [
        "book_exclaim = book_series + \"!\"\n",
        "book_exclaim.head()"
      ],
      "execution_count": null,
      "outputs": [
        {
          "output_type": "execute_result",
          "data": {
            "text/plain": [
              "1    Harry Potter and the Philosopher's Stone by J....\n",
              "2       The Little Prince by Antoine de Saint-Exupéry!\n",
              "3              Dream of the Red Chamber by Cao Xueqin!\n",
              "4                      The Hobbit by J. R. R. Tolkien!\n",
              "5         And Then There Were None by Agatha Christie!\n",
              "Name: book, dtype: object"
            ]
          },
          "metadata": {
            "tags": []
          },
          "execution_count": 2
        }
      ]
    },
    {
      "cell_type": "markdown",
      "metadata": {
        "id": "9yx3lPl1yl6B"
      },
      "source": [
        "You might be tempted to write a for loop to do what we've just done. And we could iterate over the series and get the same result:"
      ]
    },
    {
      "cell_type": "code",
      "metadata": {
        "id": "NVngkfDn6Ozs",
        "colab": {
          "base_uri": "https://localhost:8080/"
        },
        "outputId": "2c550956-d63c-4e75-df01-320f251db198"
      },
      "source": [
        "# iterating through a series with a for loop, try not to do this\n",
        "book_exclaim_alt = []\n",
        "for book in book_series:\n",
        "  book_exclaim_alt.append(book + '!')\n",
        "book_exclaim_alt = pd.Series(book_exclaim_alt, dtype='string')\n",
        "\n",
        "# check the result\n",
        "book_exclaim_alt.head()"
      ],
      "execution_count": null,
      "outputs": [
        {
          "output_type": "execute_result",
          "data": {
            "text/plain": [
              "0    Harry Potter and the Philosopher's Stone by J....\n",
              "1       The Little Prince by Antoine de Saint-Exupéry!\n",
              "2              Dream of the Red Chamber by Cao Xueqin!\n",
              "3                      The Hobbit by J. R. R. Tolkien!\n",
              "4         And Then There Were None by Agatha Christie!\n",
              "dtype: string"
            ]
          },
          "metadata": {
            "tags": []
          },
          "execution_count": 3
        }
      ]
    },
    {
      "cell_type": "markdown",
      "metadata": {
        "id": "XlLWf44QzLfh"
      },
      "source": [
        "But as a general rule, if we can alter a series without using a for-loop, we should. Using a for-loop is slower from a computational perspective, and the fact that we can update series without the for-loop is one of the big advantages of using the series instead of a list. When we deal with lots of data, this advantage can make a really large differences in the efficiency of our programs. We will return to the issue a few more times throughout the course. For now, just remember that you often can do without the for-loops when you work with series (and with dataframes).   "
      ]
    },
    {
      "cell_type": "markdown",
      "metadata": {
        "id": "x4fAFckf1RyZ"
      },
      "source": [
        "## Using the String Accessor\n",
        "Many of the string methods we are used to working with, such as `.lower()`, `.upper()`, `.split()`, and `.replace()` can be applied to an entire series of string values. But to do so, we need to use the `.str` string accessor as follows:"
      ]
    },
    {
      "cell_type": "code",
      "metadata": {
        "id": "sWh0uptU6WaM",
        "colab": {
          "base_uri": "https://localhost:8080/"
        },
        "outputId": "38190d08-e0b8-43aa-cc5f-66412c81c1ff"
      },
      "source": [
        "book_series.str.lower().head()"
      ],
      "execution_count": null,
      "outputs": [
        {
          "output_type": "execute_result",
          "data": {
            "text/plain": [
              "1    harry potter and the philosopher's stone by j....\n",
              "2        the little prince by antoine de saint-exupéry\n",
              "3               dream of the red chamber by cao xueqin\n",
              "4                       the hobbit by j. r. r. tolkien\n",
              "5          and then there were none by agatha christie\n",
              "Name: book, dtype: object"
            ]
          },
          "metadata": {
            "tags": []
          },
          "execution_count": 4
        }
      ]
    },
    {
      "cell_type": "code",
      "metadata": {
        "id": "iFd1ea7E6byV",
        "colab": {
          "base_uri": "https://localhost:8080/"
        },
        "outputId": "a170fb8f-e107-4e1f-8092-7b10c6956aaf"
      },
      "source": [
        "book_series.str.upper().head()"
      ],
      "execution_count": null,
      "outputs": [
        {
          "output_type": "execute_result",
          "data": {
            "text/plain": [
              "1    HARRY POTTER AND THE PHILOSOPHER'S STONE BY J....\n",
              "2        THE LITTLE PRINCE BY ANTOINE DE SAINT-EXUPÉRY\n",
              "3               DREAM OF THE RED CHAMBER BY CAO XUEQIN\n",
              "4                       THE HOBBIT BY J. R. R. TOLKIEN\n",
              "5          AND THEN THERE WERE NONE BY AGATHA CHRISTIE\n",
              "Name: book, dtype: object"
            ]
          },
          "metadata": {
            "tags": []
          },
          "execution_count": 5
        }
      ]
    },
    {
      "cell_type": "code",
      "metadata": {
        "id": "jLqUPDAZ62pb",
        "colab": {
          "base_uri": "https://localhost:8080/"
        },
        "outputId": "597d9876-d26a-4742-ab33-4d27c28a2d18"
      },
      "source": [
        "book_series.str.replace('Harry Potter', 'Hermonie Granger').head()"
      ],
      "execution_count": null,
      "outputs": [
        {
          "output_type": "execute_result",
          "data": {
            "text/plain": [
              "1    Hermonie Granger and the Philosopher's Stone b...\n",
              "2        The Little Prince by Antoine de Saint-Exupéry\n",
              "3               Dream of the Red Chamber by Cao Xueqin\n",
              "4                       The Hobbit by J. R. R. Tolkien\n",
              "5          And Then There Were None by Agatha Christie\n",
              "Name: book, dtype: object"
            ]
          },
          "metadata": {
            "tags": []
          },
          "execution_count": 6
        }
      ]
    },
    {
      "cell_type": "markdown",
      "metadata": {
        "id": "k04QZrEy2c2J"
      },
      "source": [
        "As a general rule, if there's a [Python string method](https://docs.python.org/3/library/stdtypes.html#string-methods) you want to use with a series, you can likely find [a Pandas equivalent](https://pandas.pydata.org/pandas-docs/version/0.23.4/text.html#). "
      ]
    },
    {
      "cell_type": "markdown",
      "metadata": {
        "id": "kyRTsa9D38pw"
      },
      "source": [
        "## Commonly Used String Methods\n",
        "For this class, here's some specific methods that we commonly use. "
      ]
    },
    {
      "cell_type": "markdown",
      "metadata": {
        "id": "vrVaR8Rw4F5g"
      },
      "source": [
        "### Length of String"
      ]
    },
    {
      "cell_type": "code",
      "metadata": {
        "id": "bZ1XqAHL4J9g",
        "colab": {
          "base_uri": "https://localhost:8080/"
        },
        "outputId": "6cba02de-c5d9-4a2f-f1ae-11ed610c485c"
      },
      "source": [
        "# evaluates to a series of string lengths\n",
        "book_series.str.len().head()"
      ],
      "execution_count": null,
      "outputs": [
        {
          "output_type": "execute_result",
          "data": {
            "text/plain": [
              "1    57\n",
              "2    45\n",
              "3    38\n",
              "4    30\n",
              "5    43\n",
              "Name: book, dtype: int64"
            ]
          },
          "metadata": {
            "tags": []
          },
          "execution_count": 7
        }
      ]
    },
    {
      "cell_type": "markdown",
      "metadata": {
        "id": "QLiN60NH4hRA"
      },
      "source": [
        "### Lower and Upper Case"
      ]
    },
    {
      "cell_type": "code",
      "metadata": {
        "id": "vc8ypwir4dr5",
        "colab": {
          "base_uri": "https://localhost:8080/"
        },
        "outputId": "4f6dff98-2d5e-4471-8913-4bccfe519584"
      },
      "source": [
        "# evaluates to a series of all lower case strings\n",
        "book_series.str.lower().head()"
      ],
      "execution_count": null,
      "outputs": [
        {
          "output_type": "execute_result",
          "data": {
            "text/plain": [
              "1    harry potter and the philosopher's stone by j....\n",
              "2        the little prince by antoine de saint-exupéry\n",
              "3               dream of the red chamber by cao xueqin\n",
              "4                       the hobbit by j. r. r. tolkien\n",
              "5          and then there were none by agatha christie\n",
              "Name: book, dtype: object"
            ]
          },
          "metadata": {
            "tags": []
          },
          "execution_count": 8
        }
      ]
    },
    {
      "cell_type": "code",
      "metadata": {
        "id": "EevBYNnm5vhI",
        "colab": {
          "base_uri": "https://localhost:8080/"
        },
        "outputId": "0544e136-4ab7-4617-ae71-d6c6fd93d6bc"
      },
      "source": [
        "# evaluates to a series of all upper case strings\n",
        "book_series.str.upper().head()"
      ],
      "execution_count": null,
      "outputs": [
        {
          "output_type": "execute_result",
          "data": {
            "text/plain": [
              "1    HARRY POTTER AND THE PHILOSOPHER'S STONE BY J....\n",
              "2        THE LITTLE PRINCE BY ANTOINE DE SAINT-EXUPÉRY\n",
              "3               DREAM OF THE RED CHAMBER BY CAO XUEQIN\n",
              "4                       THE HOBBIT BY J. R. R. TOLKIEN\n",
              "5          AND THEN THERE WERE NONE BY AGATHA CHRISTIE\n",
              "Name: book, dtype: object"
            ]
          },
          "metadata": {
            "tags": []
          },
          "execution_count": 9
        }
      ]
    },
    {
      "cell_type": "markdown",
      "metadata": {
        "id": "DEc75qt75bOo"
      },
      "source": [
        "### Starts and Ends With"
      ]
    },
    {
      "cell_type": "code",
      "metadata": {
        "id": "m22vTLeM5aQY",
        "colab": {
          "base_uri": "https://localhost:8080/"
        },
        "outputId": "cb1eecb9-97a1-4438-c8ce-b77a63a60f95"
      },
      "source": [
        "# evaluates to a series of booleans\n",
        "book_series.str.startswith('Harry').head()"
      ],
      "execution_count": null,
      "outputs": [
        {
          "output_type": "execute_result",
          "data": {
            "text/plain": [
              "1     True\n",
              "2    False\n",
              "3    False\n",
              "4    False\n",
              "5    False\n",
              "Name: book, dtype: bool"
            ]
          },
          "metadata": {
            "tags": []
          },
          "execution_count": 10
        }
      ]
    },
    {
      "cell_type": "code",
      "metadata": {
        "id": "gdJFsSmzKPIE",
        "colab": {
          "base_uri": "https://localhost:8080/"
        },
        "outputId": "0b4c1e73-8011-4a5b-8dda-e8e149d9ea4f"
      },
      "source": [
        "# evaluates to a series of booleans\n",
        "book_series.str.endswith('Tolkien').head()"
      ],
      "execution_count": null,
      "outputs": [
        {
          "output_type": "execute_result",
          "data": {
            "text/plain": [
              "1    False\n",
              "2    False\n",
              "3    False\n",
              "4     True\n",
              "5    False\n",
              "Name: book, dtype: bool"
            ]
          },
          "metadata": {
            "tags": []
          },
          "execution_count": 11
        }
      ]
    },
    {
      "cell_type": "markdown",
      "metadata": {
        "id": "XCHWdrAb6YXx"
      },
      "source": [
        "### Contains Sub-String"
      ]
    },
    {
      "cell_type": "code",
      "metadata": {
        "id": "2eIzd_IKMAIk",
        "colab": {
          "base_uri": "https://localhost:8080/"
        },
        "outputId": "edc1632a-cf0d-49f2-dfcf-f7337301b7f5"
      },
      "source": [
        "# evaluates to a series of booleans\n",
        "book_series.str.contains('Agatha').head()"
      ],
      "execution_count": null,
      "outputs": [
        {
          "output_type": "execute_result",
          "data": {
            "text/plain": [
              "1    False\n",
              "2    False\n",
              "3    False\n",
              "4    False\n",
              "5     True\n",
              "Name: book, dtype: bool"
            ]
          },
          "metadata": {
            "tags": []
          },
          "execution_count": 12
        }
      ]
    },
    {
      "cell_type": "markdown",
      "metadata": {
        "id": "nJiBw3PR6waA"
      },
      "source": [
        "### Find Sub-String"
      ]
    },
    {
      "cell_type": "code",
      "metadata": {
        "id": "xw5Py_yY6ruh",
        "colab": {
          "base_uri": "https://localhost:8080/"
        },
        "outputId": "8ae8748c-b59a-41db-c5f5-8de0eae00a32"
      },
      "source": [
        "# evaluates to a series of integers,\n",
        "# -1 if substring not found, otherwise index of first occurance \n",
        "book_series.str.find('Christi').head()"
      ],
      "execution_count": null,
      "outputs": [
        {
          "output_type": "execute_result",
          "data": {
            "text/plain": [
              "1    -1\n",
              "2    -1\n",
              "3    -1\n",
              "4    -1\n",
              "5    35\n",
              "Name: book, dtype: int64"
            ]
          },
          "metadata": {
            "tags": []
          },
          "execution_count": 13
        }
      ]
    },
    {
      "cell_type": "markdown",
      "metadata": {
        "id": "fTOT3y8n7KjI"
      },
      "source": [
        "### Replace Sub-String"
      ]
    },
    {
      "cell_type": "code",
      "metadata": {
        "id": "W4ECkGHcO5LD",
        "colab": {
          "base_uri": "https://localhost:8080/"
        },
        "outputId": "a75cb6f1-54ab-45b3-e470-8704a2db16a8"
      },
      "source": [
        "# evaluates to series with values replaced\n",
        "book_series.str.replace('Little', 'Enormous').head()"
      ],
      "execution_count": null,
      "outputs": [
        {
          "output_type": "execute_result",
          "data": {
            "text/plain": [
              "1    Harry Potter and the Philosopher's Stone by J....\n",
              "2      The Enormous Prince by Antoine de Saint-Exupéry\n",
              "3               Dream of the Red Chamber by Cao Xueqin\n",
              "4                       The Hobbit by J. R. R. Tolkien\n",
              "5          And Then There Were None by Agatha Christie\n",
              "Name: book, dtype: object"
            ]
          },
          "metadata": {
            "tags": []
          },
          "execution_count": 14
        }
      ]
    },
    {
      "cell_type": "markdown",
      "metadata": {
        "id": "2mzHou7p75Do"
      },
      "source": [
        "### Split on Sub-String"
      ]
    },
    {
      "cell_type": "code",
      "metadata": {
        "id": "4ZgkJ3jD8ahg",
        "colab": {
          "base_uri": "https://localhost:8080/"
        },
        "outputId": "1ca43170-ee2c-4553-f333-ae9d401a3aec"
      },
      "source": [
        "# evaluates to series where each value contains a list\n",
        "book_series.str.split(' by ').head()"
      ],
      "execution_count": null,
      "outputs": [
        {
          "output_type": "execute_result",
          "data": {
            "text/plain": [
              "1    [Harry Potter and the Philosopher's Stone, J. ...\n",
              "2        [The Little Prince, Antoine de Saint-Exupéry]\n",
              "3               [Dream of the Red Chamber, Cao Xueqin]\n",
              "4                       [The Hobbit, J. R. R. Tolkien]\n",
              "5          [And Then There Were None, Agatha Christie]\n",
              "Name: book, dtype: object"
            ]
          },
          "metadata": {
            "tags": []
          },
          "execution_count": 15
        }
      ]
    },
    {
      "cell_type": "code",
      "metadata": {
        "id": "8pMg7CqWP4LG",
        "colab": {
          "base_uri": "https://localhost:8080/"
        },
        "outputId": "d727b197-36b6-4aa1-d400-bdbba4059dc9"
      },
      "source": [
        "# split each string into a list, return a series of lists with two elements\n",
        "book_series_split = book_series.str.split(' by ')\n",
        "\n",
        "# use the string accessor with indexing to get a series\n",
        "# containing the first value in the list\n",
        "book_titles = book_series_split.str[0]\n",
        "\n",
        "# use the string accessor with indexing to get a series\n",
        "# containing the second value in the list\n",
        "book_authors = book_series_split.str[1]\n",
        "\n",
        "#check result\n",
        "book_authors.tail()"
      ],
      "execution_count": null,
      "outputs": [
        {
          "output_type": "execute_result",
          "data": {
            "text/plain": [
              "53        Daphne du Maurier\n",
              "54            George Orwell\n",
              "55    William Bradford Huie\n",
              "56            Stieg Larsson\n",
              "57                Dan Brown\n",
              "Name: book, dtype: object"
            ]
          },
          "metadata": {
            "tags": []
          },
          "execution_count": 16
        }
      ]
    }
  ]
}