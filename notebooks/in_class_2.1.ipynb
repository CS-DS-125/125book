{
 "cells": [
  {
   "cell_type": "markdown",
   "metadata": {},
   "source": [
    "# In-Class Exercises, Ch. 2, Notebook 1\n",
    "\n",
    "[link to relevant book chapter/sections]\n",
    "\n",
    "Key ideas in these exercises:\n",
    "1. Variables\n",
    "2. Arithmetic operators\n",
    "3. Input statements\n",
    "4. Data types"
   ]
  },
  {
   "cell_type": "markdown",
   "metadata": {},
   "source": [
    "## Currency Conversion\n",
    "\n",
    "In this exercise, you will write a program to help a user convert dollars into other currency values.  \n",
    "\n",
    "What is an exchange rate and how do I read it? [From Investopedia.com](https://www.investopedia.com/articles/forex/090314/how-calculate-exchange-rate.asp):\n",
    "> If the USD/CAD exchange rate is 1.0950, that means it costs 1.0950 Canadian dollars for 1 U.S. dollar. \n",
    "> The first currency listed (USD) always stands for one unit of that currency; the exchange rate shows how much of the second currency (CAD) is needed to purchase that one unit of the first \n",
    "> (USD). This rate tells you how much it costs to buy one U.S. dollar using Canadian dollars.\"\n",
    "\n",
    "We have provided exchange rates from January 01, 2018 and August 21, 2018 for Euro (EUR), Japanese Yen (JPY), and Bitcoin (BTC) in the cell below. Execute the cell to create the variables by selecting the cell and pressing `CTRL+Enter`.  After that cell is executed, those six variables can be used in any cell below."
   ]
  },
  {
   "cell_type": "code",
   "execution_count": null,
   "metadata": {},
   "outputs": [],
   "source": [
    "USDEURJAN = 0.8323\n",
    "USDEURAUG = 0.8704\n",
    "USDJPYJAN = 112.5960\n",
    "USDJPYAUG = 110.048\n",
    "USDBTCJAN = 0.000068\n",
    "USDBTCAUG = 0.00013\n",
    "print(\"Variables created.\")"
   ]
  },
  {
   "cell_type": "markdown",
   "metadata": {},
   "source": [
    "Using those variables, write a program that will:\n",
    "1. Ask the user to input a number of dollars.\n",
    "2. Convert that number of dollars into each of the currencies above for both dates.\n",
    "3. Print each of the six amounts on its own line.\n",
    "\n",
    "Example output:\n",
    "```\n",
    "Please enter a number of dollars: 100\n",
    "\n",
    "100 dollars on January 01 2018 was 83.23 Euros\n",
    "100 dollars on August 21 2018 was 87.04 Euros\n",
    "100 dollars on January 01 2018 was 11259.60 Japanese Yen\n",
    "100 dollars on August 21 2018 was 11004.80 Japanese Yen\n",
    "100 dollars on January 01 2018 was 0.0068 Bitcoins\n",
    "100 dollars on August 21 2018 was 0.013 Bitcoins\n",
    "```"
   ]
  },
  {
   "cell_type": "code",
   "execution_count": null,
   "metadata": {},
   "outputs": [],
   "source": [
    "# Write your code here"
   ]
  },
  {
   "cell_type": "markdown",
   "metadata": {},
   "source": [
    "## Percent Change Over Time Calculator\n",
    "\n",
    "Now write a calculator program that asks the user to input the current exchange rate for Bitcoin (BTC) and then calculates the percent change in that rate since each of the two dates for which we have rates above.\n",
    "\n",
    "Example:\n",
    "```\n",
    "Please enter the current USD to BTC exchange rate: 0.00020\n",
    "\n",
    "The USD-BTC rate has a change of -66.0 percent since January 01, 2018.\n",
    "The USD-BTC rate has a change of -35.00000000000001 percent since August 21, 2018.\n",
    "```\n",
    "\n",
    "Notes:\n",
    "* You can lookup the current exchange (USDBTC) rate using Google or other sites (e.g.: [Google search](https://www.google.com/search?q=usd+to+btc&ie=utf-8&oe=utf-8)). Make sure the site lists the rate to at least five decimal places. \n",
    "* Percent change of the base current (Dollars) relative to the quote currency (Bitcoins) can be calculated by: ((previous_rate - current_rate) / current_rate)*100\n",
    "* Percent change in the exchange rate is also called Appreciation and Depreciation. If you want to check your work there are many appreciation and depreciation calculators available online.  "
   ]
  },
  {
   "cell_type": "code",
   "execution_count": 28,
   "metadata": {},
   "outputs": [],
   "source": [
    "# Here's the same exchange rates again. We are providing this to you just in case you altered these values with your previous code.\n",
    "\n",
    "USDEURJAN = 0.8323\n",
    "USDEURAUG = 0.8704\n",
    "USDJPYJAN = 112.5960\n",
    "USDJPYAUG = 110.048\n",
    "USDBTCJAN = 0.000068\n",
    "USDBTCAUG = 0.00013\n",
    "\n",
    "# Write your Percent Change code here\n"
   ]
  },
  {
   "cell_type": "markdown",
   "metadata": {},
   "source": [
    "## (Optional) Currency Conversion with Year Selection\n",
    "\n",
    "Once you have the above program working successfully, try to write another program that also lets the user select the year for which they want to perform the conversion.  For example, the output would look like:\n",
    "```\n",
    "Please enter a number of dollars: 100\n",
    "Please enter a month (either January or August): January\n",
    "\n",
    "100 dollars in January of 2018 was 83.23 Euros\n",
    "100 dollars in January of 2018 was 11259.60 Japanese Yen\n",
    "100 dollars in January of 2018 was .13 Bitcoins\n",
    "```\n",
    "\n",
    "In order to do this, your program will have to make a *choice*.  That is, depending on what year the user enters, it will perform one set of calculations or another.  We can accomplish this in code using an *if statement*.  The cell below demonstrates how the if statement works."
   ]
  },
  {
   "cell_type": "code",
   "execution_count": null,
   "metadata": {},
   "outputs": [],
   "source": [
    "x = int(input(\"Please choose your favorite number, as long as it is 4 or 5: \"))\n",
    "if x == 4:\n",
    "    print(\"Hooray!  Good choice.\")\n",
    "if x == 5:\n",
    "    print(\"Not sure about that.\")"
   ]
  },
  {
   "cell_type": "markdown",
   "metadata": {},
   "source": [
    "In Python `if x == 4:` is interpreted similarly to how you read it: if x is equal to 4, then it will execute the following indented line (or multiple indented lines, if there is more than one).  We'll cover this later, but for now note that you have to write that equality check with **two** equal signs.\n",
    "\n",
    "Think about how to use that to solve the problem above.  It can be helpful to say aloud how you want the program to work, like \"If the user enters 2008, then...\""
   ]
  },
  {
   "cell_type": "code",
   "execution_count": null,
   "metadata": {},
   "outputs": [],
   "source": [
    "# Write your code here"
   ]
  },
  {
   "cell_type": "markdown",
   "metadata": {},
   "source": [
    "# Reflection\n",
    "\n",
    "Take one minute to reflect on the reading and in-class work for today's class.  Briefly respond to any of the following prompts that are relevant to you.\n",
    "- Have you found anything interesting, surprising, or exciting?\n",
    "- Have you felt frustrated by any of the concepts or work?\n",
    "- Roughly how long did you spend outside of class preparing for today?\n",
    "- Do you have any questions about the material?\n",
    "- Do you have any questions about the course?\n",
    "\n",
    "Write your response in the Markdown cell below."
   ]
  },
  {
   "cell_type": "markdown",
   "metadata": {},
   "source": []
  },
  {
   "cell_type": "markdown",
   "metadata": {},
   "source": [
    "When you have finished your reflection, *save* this notebook, then submit it."
   ]
  }
 ],
 "metadata": {
  "kernelspec": {
   "display_name": "Python 3",
   "language": "python",
   "name": "python3"
  },
  "language_info": {
   "codemirror_mode": {
    "name": "ipython",
    "version": 3
   },
   "file_extension": ".py",
   "mimetype": "text/x-python",
   "name": "python",
   "nbconvert_exporter": "python",
   "pygments_lexer": "ipython3",
   "version": "3.6.5"
  }
 },
 "nbformat": 4,
 "nbformat_minor": 2
}
