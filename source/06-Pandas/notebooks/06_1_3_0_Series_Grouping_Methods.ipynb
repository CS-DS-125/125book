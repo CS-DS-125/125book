{
  "nbformat": 4,
  "nbformat_minor": 0,
  "metadata": {
    "kernelspec": {
      "display_name": "Python 3",
      "language": "python",
      "name": "python3"
    },
    "language_info": {
      "codemirror_mode": {
        "name": "ipython",
        "version": 3
      },
      "file_extension": ".py",
      "mimetype": "text/x-python",
      "name": "python",
      "nbconvert_exporter": "python",
      "pygments_lexer": "ipython3",
      "version": "3.6.8"
    },
    "colab": {
      "name": "06.1.3.0 Series - Grouping Methods.ipynb",
      "provenance": [],
      "collapsed_sections": [],
      "toc_visible": true
    }
  },
  "cells": [
    {
      "cell_type": "markdown",
      "metadata": {
        "id": "D0Qck8cX6c0i"
      },
      "source": [
        "# Series: Grouping Methods, `.groupby()`\n",
        "\n",
        "Author: Brad E. Sheese\n",
        "***\n"
      ]
    },
    {
      "cell_type": "markdown",
      "metadata": {
        "id": "8Cqm2TQoNH9N"
      },
      "source": [
        "## 06.1.3.0 Introduction\n",
        "When we are working with data, the data will often contain values that we will want to treat as a group. For example, if we had data on sales every day over course of a year, we may want to know what the average for sales by month. To do this, we would:\n",
        "* take the daily data and split it into groups by month\n",
        "* calculate the average for each group seperately\n",
        "\n",
        "If we were interested in the highest sales in each month, we would do the same split but the calculate the maximum for each month instead of the average.  "
      ]
    },
    {
      "cell_type": "markdown",
      "metadata": {
        "id": "Io_zcqxEKP-z"
      },
      "source": [
        "\n",
        "\n",
        "\n",
        "## 06.1.3.1 Using `.groupby()`\n",
        "Pandas has a few different tools that allow us to efficiently work with data that can be split into groups. In this section, we're specifcally going to introduce the series `.groupby()` method so you can start to get a sense for how the process works. We will return to this method again, once we have introduced dataframes. \n",
        "\n",
        "Here's a series that contains information about championships won by NBA teams."
      ]
    },
    {
      "cell_type": "code",
      "metadata": {
        "id": "tQxGnl_2wta0"
      },
      "source": [
        "import pandas as pd\n",
        "\n",
        "winner_list = ['Los Angeles Lakers', 'Toronto Raptors', 'Golden State Warriors',\n",
        "               'Golden State Warriors', 'Cleveland Cavaliers', 'Golden State Warriors',\n",
        "               'San Antonio Spurs', 'Miami Heat', 'Miami Heat', 'Dallas Mavericks',\n",
        "               'Los Angeles Lakers', 'Los Angeles Lakers', 'Boston Celtics',\n",
        "               'San Antonio Spurs', 'Miami Heat', 'San Antonio Spurs', 'Detroit Pistons',\n",
        "               'San Antonio Spurs', 'Los Angeles Lakers', 'Los Angeles Lakers',\n",
        "               'Los Angeles Lakers', 'San Antonio Spurs', 'Chicago Bulls', 'Chicago Bulls',\n",
        "               'Chicago Bulls', 'Houston Rockets', 'Houston Rockets', 'Chicago Bulls',\n",
        "               'Chicago Bulls', 'Chicago Bulls', 'Detroit Pistons', 'Detroit Pistons',\n",
        "               'Los Angeles Lakers', 'Los Angeles Lakers', 'Boston Celtics',\n",
        "               'Los Angeles Lakers', 'Boston Celtics', 'Philadelphia 76ers',\n",
        "               'Los Angeles Lakers', 'Boston Celtics', 'Los Angeles Lakers',\n",
        "               'Seattle Supersonics', 'Washington Bullets', 'Portland Trail Blazers',\n",
        "               'Boston Celtics', 'Golden State Warriors', 'Boston Celtics', 'New York Knicks',\n",
        "               'Los Angeles Lakers', 'Milwaukee Bucks', 'New York Knicks', 'Boston Celtics',\n",
        "               'Boston Celtics', 'Philadelphia 76ers', 'Boston Celtics', 'Boston Celtics',\n",
        "               'Boston Celtics', 'Boston Celtics', 'Boston Celtics', 'Boston Celtics',\n",
        "               'Boston Celtics', 'Boston Celtics', 'St. Louis Hawks', 'Boston Celtics',\n",
        "               'Philadelphia Warriors', 'Syracuse Nationals', 'Minneapolis Lakers',\n",
        "               'Minneapolis Lakers', 'Minneapolis Lakers', 'Rochester Royals',\n",
        "               'Minneapolis Lakers', 'Minneapolis Lakers', 'Baltimore Bullets',\n",
        "               'Philadelphia Warriors']\n",
        "\n",
        "# construct series from list\n",
        "nba_series = pd.Series(index = winner_list, data = range(2020,1946,-1))\n",
        "\n",
        "# check result\n",
        "nba_series.head()"
      ],
      "execution_count": null,
      "outputs": []
    },
    {
      "cell_type": "markdown",
      "metadata": {
        "id": "-rHGfAA5OcIb"
      },
      "source": [
        "When we call `.groupby()` on a series, we must indicate how we want the grouping to be done. With our NBA championship data, we will group by the index which contains the team names. Pandas will inspect the index, and group together any rows that share the same index value. "
      ]
    },
    {
      "cell_type": "code",
      "metadata": {
        "id": "YonnOie9x5Q0"
      },
      "source": [
        "nba_grouped = nba_series.groupby(by=nba_series.index)\n",
        "nba_grouped"
      ],
      "execution_count": null,
      "outputs": []
    },
    {
      "cell_type": "markdown",
      "metadata": {
        "id": "CBkLoYe5PcoE"
      },
      "source": [
        "The code above creates a groupby object that we have assigned to the variable name `nba_grouped`. This object knows how to make the groups, but it actually doesn't do anything until we provide an additional method to indicate what we'd like done. If we group by team, what do we want to know next? The mean value for the team? The maximum value? Always think of it as a two step process:\n",
        "* step 1: specify how to split the data into groups to make the groupby object\n",
        "* step 2: specify what you want done with all of the values that are associated with each group \n",
        "\n",
        "For example, let's say we just wanted to know how many championship each team as won. We split the data into group by team name, then we can use the method `.count()` on the groupby object. This will give us the count of how many times each group has won."
      ]
    },
    {
      "cell_type": "code",
      "metadata": {
        "id": "N3Wi7Jr0MTa8"
      },
      "source": [
        "nba_grouped.count()"
      ],
      "execution_count": null,
      "outputs": []
    },
    {
      "cell_type": "markdown",
      "metadata": {
        "id": "c5oOVNUyQtys"
      },
      "source": [
        "If we just wanted to know who had won the most, we can sort the result."
      ]
    },
    {
      "cell_type": "code",
      "metadata": {
        "id": "N2ISRYdJQxaL"
      },
      "source": [
        "nba_grouped.count().sort_values(ascending = False).head()"
      ],
      "execution_count": null,
      "outputs": []
    },
    {
      "cell_type": "markdown",
      "metadata": {
        "id": "KlbUV6jxQ7er"
      },
      "source": [
        "Remember it's a two step process. First, you need to create the groupby object, then you need to call a method on the grouped object. "
      ]
    },
    {
      "cell_type": "markdown",
      "metadata": {
        "id": "EHFsU56PTVG6"
      },
      "source": [
        "## 06.1.3.2 Getting Groups within a Groupby Object\n",
        "The method `.get_group()` can be used to get information on a single group from the groupby object."
      ]
    },
    {
      "cell_type": "code",
      "metadata": {
        "id": "Qwa2Bv3FTbtz"
      },
      "source": [
        "nba_grouped.get_group('Chicago Bulls')"
      ],
      "execution_count": null,
      "outputs": []
    },
    {
      "cell_type": "code",
      "metadata": {
        "id": "C5oYuCfIFdkB"
      },
      "source": [
        "nba_grouped.get_group('Minneapolis Lakers')"
      ],
      "execution_count": null,
      "outputs": []
    },
    {
      "cell_type": "markdown",
      "metadata": {
        "id": "fHOLdz-HRTyr"
      },
      "source": [
        "## 06.1.3.3 `.groupby()` Examples"
      ]
    },
    {
      "cell_type": "markdown",
      "metadata": {
        "id": "ajNMenhjN2AN"
      },
      "source": [
        "What year was each team's first championship win?"
      ]
    },
    {
      "cell_type": "code",
      "metadata": {
        "id": "hPfZt75RMb0T"
      },
      "source": [
        "# groupby object + .min()\n",
        "nba_grouped.min()"
      ],
      "execution_count": null,
      "outputs": []
    },
    {
      "cell_type": "markdown",
      "metadata": {
        "id": "lZpxSiG-Nvv7"
      },
      "source": [
        "What year was each team's most recent championship?"
      ]
    },
    {
      "cell_type": "code",
      "metadata": {
        "id": "R5AvZMALMqIT"
      },
      "source": [
        "# groupby object + .max()\n",
        "nba_grouped.max()"
      ],
      "execution_count": null,
      "outputs": []
    },
    {
      "cell_type": "markdown",
      "metadata": {
        "id": "aRdqDCc0NKzq"
      },
      "source": [
        "Which team had the longest period between their first and last championship?"
      ]
    },
    {
      "cell_type": "code",
      "metadata": {
        "id": "7fairCdjM41z"
      },
      "source": [
        "(nba_grouped.max() - nba_grouped.min()).sort_values(ascending = False).head(10)"
      ],
      "execution_count": null,
      "outputs": []
    },
    {
      "cell_type": "markdown",
      "metadata": {
        "id": "ZT1-UUfOSx4S"
      },
      "source": [
        "`.value_counts()` can also be called on a groupby object. However, in this case, there's only one winner per year, so the result isn't too informative."
      ]
    },
    {
      "cell_type": "code",
      "metadata": {
        "id": "Z6zwZ3CXSgKT"
      },
      "source": [
        "nba_grouped.value_counts().head(30)"
      ],
      "execution_count": null,
      "outputs": []
    },
    {
      "cell_type": "markdown",
      "metadata": {
        "id": "NfRMypsRF3qg"
      },
      "source": [
        "It looks like some teams may have moved from one city to another. Let's get a sense of wins if we ignore the city."
      ]
    },
    {
      "cell_type": "code",
      "metadata": {
        "id": "sfZhYM9DF_sY"
      },
      "source": [
        "# split the index into a series of lists, grab the last element from each\n",
        "team_nocity = nba_series.index.str.split(' ').str[-1]\n",
        "\n",
        "# create a series from the modified index\n",
        "team_nocity_series = pd.Series(index = team_nocity, data = range(2020,1946,-1))\n",
        "\n",
        "# group the teams by name\n",
        "team_nocity_grouped = team_nocity_series.groupby(by=team_nocity_series.index)\n",
        "\n",
        "# get the counts for the grouped object\n",
        "team_nocity_grouped.count().sort_values(ascending=False).head(10)"
      ],
      "execution_count": null,
      "outputs": []
    },
    {
      "cell_type": "markdown",
      "metadata": {
        "id": "ioeXsejAHdK4"
      },
      "source": [
        "Our data isn't up to date. It stops at 2020. Up until then, the Lakers and Celtics were tied for the number of championships, as were the Warriors and the Bulls. "
      ]
    }
  ]
}