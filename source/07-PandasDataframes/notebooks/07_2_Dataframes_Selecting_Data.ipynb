{
  "nbformat": 4,
  "nbformat_minor": 0,
  "metadata": {
    "kernelspec": {
      "display_name": "Python 3",
      "language": "python",
      "name": "python3"
    },
    "language_info": {
      "codemirror_mode": {
        "name": "ipython",
        "version": 3
      },
      "file_extension": ".py",
      "mimetype": "text/x-python",
      "name": "python",
      "nbconvert_exporter": "python",
      "pygments_lexer": "ipython3",
      "version": "3.6.8"
    },
    "colab": {
      "name": "07.2 Dataframes - Selecting Data.ipynb",
      "provenance": [],
      "collapsed_sections": [],
      "toc_visible": true
    }
  },
  "cells": [
    {
      "cell_type": "markdown",
      "metadata": {
        "id": "D0Qck8cX6c0i"
      },
      "source": [
        "# Dataframes: Selecting Data\n",
        "\n"
      ]
    },
    {
      "cell_type": "markdown",
      "metadata": {
        "id": "rDKb69fpxQkM"
      },
      "source": [
        "## Introduction\n",
        "The dataframe we construct below built out of data from the wikipedia page on [best-selling music albums](https://en.wikipedia.org/wiki/List_of_best-selling_albums). "
      ]
    },
    {
      "cell_type": "code",
      "metadata": {
        "id": "5guYFg7QxTTU",
        "colab": {
          "base_uri": "https://localhost:8080/",
          "height": 167
        },
        "outputId": "def1cbfa-946a-4ff4-83ed-1b31bb1b6dc6"
      },
      "source": [
        "# make sure you always do the import that makes pandas available\n",
        "import pandas as pd\n",
        "\n",
        "# create the dataframe from a csv\n",
        "url = 'https://raw.githubusercontent.com/bsheese/CSDS125ExampleData/master/data_albums_sales_wikipedia.csv'\n",
        "df = pd.read_csv(url)\n",
        "\n",
        "# create a decade column\n",
        "df.loc[:, 'decade'] = (df.loc[:, 'year'] //10) *10\n",
        "\n",
        "# set the index to year\n",
        "df = df.set_index('year')\n",
        "\n",
        "# sort the dataframe by the index\n",
        "df = df.sort_index()\n",
        "\n",
        "# check the result\n",
        "df.head(3)"
      ],
      "execution_count": null,
      "outputs": [
        {
          "output_type": "execute_result",
          "data": {
            "text/html": [
              "<div>\n",
              "<style scoped>\n",
              "    .dataframe tbody tr th:only-of-type {\n",
              "        vertical-align: middle;\n",
              "    }\n",
              "\n",
              "    .dataframe tbody tr th {\n",
              "        vertical-align: top;\n",
              "    }\n",
              "\n",
              "    .dataframe thead th {\n",
              "        text-align: right;\n",
              "    }\n",
              "</style>\n",
              "<table border=\"1\" class=\"dataframe\">\n",
              "  <thead>\n",
              "    <tr style=\"text-align: right;\">\n",
              "      <th></th>\n",
              "      <th>artist</th>\n",
              "      <th>album</th>\n",
              "      <th>genre</th>\n",
              "      <th>cert_sales</th>\n",
              "      <th>claim_sales</th>\n",
              "      <th>decade</th>\n",
              "    </tr>\n",
              "    <tr>\n",
              "      <th>year</th>\n",
              "      <th></th>\n",
              "      <th></th>\n",
              "      <th></th>\n",
              "      <th></th>\n",
              "      <th></th>\n",
              "      <th></th>\n",
              "    </tr>\n",
              "  </thead>\n",
              "  <tbody>\n",
              "    <tr>\n",
              "      <th>1967</th>\n",
              "      <td>The Beatles</td>\n",
              "      <td>Sgt. Pepper's Lonely Hearts Club Band</td>\n",
              "      <td>Rock</td>\n",
              "      <td>18.2</td>\n",
              "      <td>32</td>\n",
              "      <td>1960</td>\n",
              "    </tr>\n",
              "    <tr>\n",
              "      <th>1969</th>\n",
              "      <td>The Beatles</td>\n",
              "      <td>Abbey Road</td>\n",
              "      <td>Rock</td>\n",
              "      <td>14.4</td>\n",
              "      <td>30</td>\n",
              "      <td>1960</td>\n",
              "    </tr>\n",
              "    <tr>\n",
              "      <th>1971</th>\n",
              "      <td>Led Zeppelin</td>\n",
              "      <td>Led Zeppelin IV</td>\n",
              "      <td>Hard rock, heavy metal, folk rock</td>\n",
              "      <td>29.0</td>\n",
              "      <td>37</td>\n",
              "      <td>1970</td>\n",
              "    </tr>\n",
              "  </tbody>\n",
              "</table>\n",
              "</div>"
            ],
            "text/plain": [
              "            artist                                  album  ... claim_sales  decade\n",
              "year                                                       ...                    \n",
              "1967   The Beatles  Sgt. Pepper's Lonely Hearts Club Band  ...          32    1960\n",
              "1969   The Beatles                             Abbey Road  ...          30    1960\n",
              "1971  Led Zeppelin                        Led Zeppelin IV  ...          37    1970\n",
              "\n",
              "[3 rows x 6 columns]"
            ]
          },
          "metadata": {
            "tags": []
          },
          "execution_count": 1
        }
      ]
    },
    {
      "cell_type": "markdown",
      "metadata": {
        "id": "etF9LIv2Bx7S"
      },
      "source": [
        "## Selecting Data Using the Index and Columns\n",
        "Up to this point, we have only been indexing and slicing Series based on the index. We will continue to do this with Dataframes, and it will work in much the same way, but, since we now have both columns and rows we can now index and slice both rows and columns at the same time.\n"
      ]
    },
    {
      "cell_type": "markdown",
      "metadata": {
        "id": "NDdUYrioH_Qj"
      },
      "source": [
        "### Selection by Label Using `.loc`\n",
        "We are going to use `.loc[]` with Dataframes in much the same way we used it with Series. However, now we are going to specify both the row labels and the column labels that we want. \n",
        "\n",
        "We can start by asking for a single index label, the integer `1992` and a single column label `'artist'`. Since there is only one value for that year, we get back a single value. Notice that the index label and the column name are separated by a comma.\n"
      ]
    },
    {
      "cell_type": "code",
      "metadata": {
        "id": "F2qX8zM4KuMx",
        "colab": {
          "base_uri": "https://localhost:8080/",
          "height": 35
        },
        "outputId": "d81e4b88-6c97-4747-f903-012bd4edafac"
      },
      "source": [
        "# single index label and a single column label\n",
        "df.loc[1971, 'artist'] "
      ],
      "execution_count": null,
      "outputs": [
        {
          "output_type": "execute_result",
          "data": {
            "application/vnd.google.colaboratory.intrinsic+json": {
              "type": "string"
            },
            "text/plain": [
              "'Led Zeppelin'"
            ]
          },
          "metadata": {
            "tags": []
          },
          "execution_count": 2
        }
      ]
    },
    {
      "cell_type": "code",
      "metadata": {
        "id": "SUYRW0weJbTb",
        "colab": {
          "base_uri": "https://localhost:8080/",
          "height": 227
        },
        "outputId": "5039f376-7a61-4a17-8bc9-8432518ea9ac"
      },
      "source": [
        "# an index slice followed by a column slice\n",
        "df.loc[1977:1979, 'artist':'album']"
      ],
      "execution_count": null,
      "outputs": [
        {
          "output_type": "execute_result",
          "data": {
            "text/html": [
              "<div>\n",
              "<style scoped>\n",
              "    .dataframe tbody tr th:only-of-type {\n",
              "        vertical-align: middle;\n",
              "    }\n",
              "\n",
              "    .dataframe tbody tr th {\n",
              "        vertical-align: top;\n",
              "    }\n",
              "\n",
              "    .dataframe thead th {\n",
              "        text-align: right;\n",
              "    }\n",
              "</style>\n",
              "<table border=\"1\" class=\"dataframe\">\n",
              "  <thead>\n",
              "    <tr style=\"text-align: right;\">\n",
              "      <th></th>\n",
              "      <th>artist</th>\n",
              "      <th>album</th>\n",
              "    </tr>\n",
              "    <tr>\n",
              "      <th>year</th>\n",
              "      <th></th>\n",
              "      <th></th>\n",
              "    </tr>\n",
              "  </thead>\n",
              "  <tbody>\n",
              "    <tr>\n",
              "      <th>1977</th>\n",
              "      <td>Bee Gees / Various artists</td>\n",
              "      <td>Saturday Night Fever</td>\n",
              "    </tr>\n",
              "    <tr>\n",
              "      <th>1977</th>\n",
              "      <td>Fleetwood Mac</td>\n",
              "      <td>Rumours</td>\n",
              "    </tr>\n",
              "    <tr>\n",
              "      <th>1977</th>\n",
              "      <td>Meat Loaf</td>\n",
              "      <td>Bat Out of Hell</td>\n",
              "    </tr>\n",
              "    <tr>\n",
              "      <th>1978</th>\n",
              "      <td>Various artists</td>\n",
              "      <td>Grease: The Original Soundtrack from the Motio...</td>\n",
              "    </tr>\n",
              "    <tr>\n",
              "      <th>1979</th>\n",
              "      <td>Pink Floyd</td>\n",
              "      <td>The Wall</td>\n",
              "    </tr>\n",
              "  </tbody>\n",
              "</table>\n",
              "</div>"
            ],
            "text/plain": [
              "                          artist                                              album\n",
              "year                                                                               \n",
              "1977  Bee Gees / Various artists                               Saturday Night Fever\n",
              "1977               Fleetwood Mac                                            Rumours\n",
              "1977                   Meat Loaf                                    Bat Out of Hell\n",
              "1978             Various artists  Grease: The Original Soundtrack from the Motio...\n",
              "1979                  Pink Floyd                                           The Wall"
            ]
          },
          "metadata": {
            "tags": []
          },
          "execution_count": 3
        }
      ]
    },
    {
      "cell_type": "code",
      "metadata": {
        "id": "Y651_6tQOTCF",
        "colab": {
          "base_uri": "https://localhost:8080/",
          "height": 167
        },
        "outputId": "a3cde95a-884f-43d5-c32c-eb4938e28e23"
      },
      "source": [
        "# a single index label, followed by a column slice\n",
        "df.loc[1987, 'artist':'album']"
      ],
      "execution_count": null,
      "outputs": [
        {
          "output_type": "execute_result",
          "data": {
            "text/html": [
              "<div>\n",
              "<style scoped>\n",
              "    .dataframe tbody tr th:only-of-type {\n",
              "        vertical-align: middle;\n",
              "    }\n",
              "\n",
              "    .dataframe tbody tr th {\n",
              "        vertical-align: top;\n",
              "    }\n",
              "\n",
              "    .dataframe thead th {\n",
              "        text-align: right;\n",
              "    }\n",
              "</style>\n",
              "<table border=\"1\" class=\"dataframe\">\n",
              "  <thead>\n",
              "    <tr style=\"text-align: right;\">\n",
              "      <th></th>\n",
              "      <th>artist</th>\n",
              "      <th>album</th>\n",
              "    </tr>\n",
              "    <tr>\n",
              "      <th>year</th>\n",
              "      <th></th>\n",
              "      <th></th>\n",
              "    </tr>\n",
              "  </thead>\n",
              "  <tbody>\n",
              "    <tr>\n",
              "      <th>1987</th>\n",
              "      <td>Guns N' Roses</td>\n",
              "      <td>Appetite for Destruction</td>\n",
              "    </tr>\n",
              "    <tr>\n",
              "      <th>1987</th>\n",
              "      <td>Various artists</td>\n",
              "      <td>Dirty Dancing</td>\n",
              "    </tr>\n",
              "    <tr>\n",
              "      <th>1987</th>\n",
              "      <td>Michael Jackson</td>\n",
              "      <td>Bad</td>\n",
              "    </tr>\n",
              "  </tbody>\n",
              "</table>\n",
              "</div>"
            ],
            "text/plain": [
              "               artist                     album\n",
              "year                                           \n",
              "1987    Guns N' Roses  Appetite for Destruction\n",
              "1987  Various artists             Dirty Dancing\n",
              "1987  Michael Jackson                       Bad"
            ]
          },
          "metadata": {
            "tags": []
          },
          "execution_count": 4
        }
      ]
    },
    {
      "cell_type": "code",
      "metadata": {
        "id": "oOAfbcWALh0j",
        "colab": {
          "base_uri": "https://localhost:8080/"
        },
        "outputId": "028066f6-848f-44ae-c1c5-7ce29e870fea"
      },
      "source": [
        "# an index slice (with no stop value), followed by a single column label\n",
        "df.loc[2000:,'artist']"
      ],
      "execution_count": null,
      "outputs": [
        {
          "output_type": "execute_result",
          "data": {
            "text/plain": [
              "year\n",
              "2000    The Beatles\n",
              "2011          Adele\n",
              "Name: artist, dtype: object"
            ]
          },
          "metadata": {
            "tags": []
          },
          "execution_count": 5
        }
      ]
    },
    {
      "cell_type": "markdown",
      "metadata": {
        "id": "MIpB10hneQG0"
      },
      "source": [
        "As an alternative to slicing we can pass lists with specific index labels or column names."
      ]
    },
    {
      "cell_type": "code",
      "metadata": {
        "id": "q4AyF2l1duiz",
        "colab": {
          "base_uri": "https://localhost:8080/",
          "height": 227
        },
        "outputId": "79a5a26c-2295-4e38-e45b-7d0f08faff00"
      },
      "source": [
        "# all rows, then a list of specific column labels to return\n",
        "df.loc[:,['artist', 'album', 'claim_sales']].head()"
      ],
      "execution_count": null,
      "outputs": [
        {
          "output_type": "execute_result",
          "data": {
            "text/html": [
              "<div>\n",
              "<style scoped>\n",
              "    .dataframe tbody tr th:only-of-type {\n",
              "        vertical-align: middle;\n",
              "    }\n",
              "\n",
              "    .dataframe tbody tr th {\n",
              "        vertical-align: top;\n",
              "    }\n",
              "\n",
              "    .dataframe thead th {\n",
              "        text-align: right;\n",
              "    }\n",
              "</style>\n",
              "<table border=\"1\" class=\"dataframe\">\n",
              "  <thead>\n",
              "    <tr style=\"text-align: right;\">\n",
              "      <th></th>\n",
              "      <th>artist</th>\n",
              "      <th>album</th>\n",
              "      <th>claim_sales</th>\n",
              "    </tr>\n",
              "    <tr>\n",
              "      <th>year</th>\n",
              "      <th></th>\n",
              "      <th></th>\n",
              "      <th></th>\n",
              "    </tr>\n",
              "  </thead>\n",
              "  <tbody>\n",
              "    <tr>\n",
              "      <th>1967</th>\n",
              "      <td>The Beatles</td>\n",
              "      <td>Sgt. Pepper's Lonely Hearts Club Band</td>\n",
              "      <td>32</td>\n",
              "    </tr>\n",
              "    <tr>\n",
              "      <th>1969</th>\n",
              "      <td>The Beatles</td>\n",
              "      <td>Abbey Road</td>\n",
              "      <td>30</td>\n",
              "    </tr>\n",
              "    <tr>\n",
              "      <th>1971</th>\n",
              "      <td>Led Zeppelin</td>\n",
              "      <td>Led Zeppelin IV</td>\n",
              "      <td>37</td>\n",
              "    </tr>\n",
              "    <tr>\n",
              "      <th>1973</th>\n",
              "      <td>Elton John</td>\n",
              "      <td>Goodbye Yellow Brick Road</td>\n",
              "      <td>30</td>\n",
              "    </tr>\n",
              "    <tr>\n",
              "      <th>1973</th>\n",
              "      <td>Pink Floyd</td>\n",
              "      <td>The Dark Side of the Moon</td>\n",
              "      <td>45</td>\n",
              "    </tr>\n",
              "  </tbody>\n",
              "</table>\n",
              "</div>"
            ],
            "text/plain": [
              "            artist                                  album  claim_sales\n",
              "year                                                                  \n",
              "1967   The Beatles  Sgt. Pepper's Lonely Hearts Club Band           32\n",
              "1969   The Beatles                             Abbey Road           30\n",
              "1971  Led Zeppelin                        Led Zeppelin IV           37\n",
              "1973    Elton John              Goodbye Yellow Brick Road           30\n",
              "1973    Pink Floyd              The Dark Side of the Moon           45"
            ]
          },
          "metadata": {
            "tags": []
          },
          "execution_count": 6
        }
      ]
    },
    {
      "cell_type": "code",
      "metadata": {
        "id": "8vO9DEwGekyW",
        "colab": {
          "base_uri": "https://localhost:8080/",
          "height": 257
        },
        "outputId": "c5b838ba-6851-4fed-9a77-f6bf504f2c95"
      },
      "source": [
        "# list of specific index values, then a list of specific column labels\n",
        "df.loc[[1973,1987,2011], ['artist', 'album', 'claim_sales']]"
      ],
      "execution_count": null,
      "outputs": [
        {
          "output_type": "execute_result",
          "data": {
            "text/html": [
              "<div>\n",
              "<style scoped>\n",
              "    .dataframe tbody tr th:only-of-type {\n",
              "        vertical-align: middle;\n",
              "    }\n",
              "\n",
              "    .dataframe tbody tr th {\n",
              "        vertical-align: top;\n",
              "    }\n",
              "\n",
              "    .dataframe thead th {\n",
              "        text-align: right;\n",
              "    }\n",
              "</style>\n",
              "<table border=\"1\" class=\"dataframe\">\n",
              "  <thead>\n",
              "    <tr style=\"text-align: right;\">\n",
              "      <th></th>\n",
              "      <th>artist</th>\n",
              "      <th>album</th>\n",
              "      <th>claim_sales</th>\n",
              "    </tr>\n",
              "    <tr>\n",
              "      <th>year</th>\n",
              "      <th></th>\n",
              "      <th></th>\n",
              "      <th></th>\n",
              "    </tr>\n",
              "  </thead>\n",
              "  <tbody>\n",
              "    <tr>\n",
              "      <th>1973</th>\n",
              "      <td>Elton John</td>\n",
              "      <td>Goodbye Yellow Brick Road</td>\n",
              "      <td>30</td>\n",
              "    </tr>\n",
              "    <tr>\n",
              "      <th>1973</th>\n",
              "      <td>Pink Floyd</td>\n",
              "      <td>The Dark Side of the Moon</td>\n",
              "      <td>45</td>\n",
              "    </tr>\n",
              "    <tr>\n",
              "      <th>1987</th>\n",
              "      <td>Guns N' Roses</td>\n",
              "      <td>Appetite for Destruction</td>\n",
              "      <td>30</td>\n",
              "    </tr>\n",
              "    <tr>\n",
              "      <th>1987</th>\n",
              "      <td>Various artists</td>\n",
              "      <td>Dirty Dancing</td>\n",
              "      <td>32</td>\n",
              "    </tr>\n",
              "    <tr>\n",
              "      <th>1987</th>\n",
              "      <td>Michael Jackson</td>\n",
              "      <td>Bad</td>\n",
              "      <td>35</td>\n",
              "    </tr>\n",
              "    <tr>\n",
              "      <th>2011</th>\n",
              "      <td>Adele</td>\n",
              "      <td>21</td>\n",
              "      <td>31</td>\n",
              "    </tr>\n",
              "  </tbody>\n",
              "</table>\n",
              "</div>"
            ],
            "text/plain": [
              "               artist                      album  claim_sales\n",
              "year                                                         \n",
              "1973       Elton John  Goodbye Yellow Brick Road           30\n",
              "1973       Pink Floyd  The Dark Side of the Moon           45\n",
              "1987    Guns N' Roses   Appetite for Destruction           30\n",
              "1987  Various artists              Dirty Dancing           32\n",
              "1987  Michael Jackson                        Bad           35\n",
              "2011            Adele                         21           31"
            ]
          },
          "metadata": {
            "tags": []
          },
          "execution_count": 7
        }
      ]
    },
    {
      "cell_type": "markdown",
      "metadata": {
        "id": "zCvDoFo7OOek"
      },
      "source": [
        "### Selection by Position Using `.iloc`\n",
        "\n",
        "As with Series, I want you to know that selection by position can be done. However, we're not going to do too much of it in class, so I'll show just two examples. \n",
        "\n",
        "Note: unlike `.loc`, slicing with `.iloc` works just like it does in python lists and strings; the stop value is not included."
      ]
    },
    {
      "cell_type": "code",
      "metadata": {
        "id": "1J0Jv_dfPRtg",
        "colab": {
          "base_uri": "https://localhost:8080/",
          "height": 35
        },
        "outputId": "362f064a-7e68-4c28-f2c8-e9400e4a279a"
      },
      "source": [
        "# single index and single column, both by location\n",
        "df.iloc[25,1]"
      ],
      "execution_count": null,
      "outputs": [
        {
          "output_type": "execute_result",
          "data": {
            "application/vnd.google.colaboratory.intrinsic+json": {
              "type": "string"
            },
            "text/plain": [
              "'Jagged Little Pill'"
            ]
          },
          "metadata": {
            "tags": []
          },
          "execution_count": 8
        }
      ]
    },
    {
      "cell_type": "code",
      "metadata": {
        "id": "DSfBTiPRPy3T",
        "colab": {
          "base_uri": "https://localhost:8080/",
          "height": 227
        },
        "outputId": "aed5162f-9afc-44d9-83e8-438c5002476e"
      },
      "source": [
        "# index slice (with negative indexing), column slice\n",
        "df.iloc[-10:-5, 0:3]"
      ],
      "execution_count": null,
      "outputs": [
        {
          "output_type": "execute_result",
          "data": {
            "text/html": [
              "<div>\n",
              "<style scoped>\n",
              "    .dataframe tbody tr th:only-of-type {\n",
              "        vertical-align: middle;\n",
              "    }\n",
              "\n",
              "    .dataframe tbody tr th {\n",
              "        vertical-align: top;\n",
              "    }\n",
              "\n",
              "    .dataframe thead th {\n",
              "        text-align: right;\n",
              "    }\n",
              "</style>\n",
              "<table border=\"1\" class=\"dataframe\">\n",
              "  <thead>\n",
              "    <tr style=\"text-align: right;\">\n",
              "      <th></th>\n",
              "      <th>artist</th>\n",
              "      <th>album</th>\n",
              "      <th>genre</th>\n",
              "    </tr>\n",
              "    <tr>\n",
              "      <th>year</th>\n",
              "      <th></th>\n",
              "      <th></th>\n",
              "      <th></th>\n",
              "    </tr>\n",
              "  </thead>\n",
              "  <tbody>\n",
              "    <tr>\n",
              "      <th>1992</th>\n",
              "      <td>Whitney Houston / Various artists</td>\n",
              "      <td>The Bodyguard</td>\n",
              "      <td>R&amp;B, soul, pop, soundtrack</td>\n",
              "    </tr>\n",
              "    <tr>\n",
              "      <th>1992</th>\n",
              "      <td>ABBA</td>\n",
              "      <td>Gold: Greatest Hits</td>\n",
              "      <td>Pop, disco</td>\n",
              "    </tr>\n",
              "    <tr>\n",
              "      <th>1995</th>\n",
              "      <td>Alanis Morissette</td>\n",
              "      <td>Jagged Little Pill</td>\n",
              "      <td>Alternative rock</td>\n",
              "    </tr>\n",
              "    <tr>\n",
              "      <th>1996</th>\n",
              "      <td>Celine Dion</td>\n",
              "      <td>Falling into You</td>\n",
              "      <td>Pop, soft rock</td>\n",
              "    </tr>\n",
              "    <tr>\n",
              "      <th>1997</th>\n",
              "      <td>Celine Dion</td>\n",
              "      <td>Let's Talk About Love</td>\n",
              "      <td>Pop, soft rock</td>\n",
              "    </tr>\n",
              "  </tbody>\n",
              "</table>\n",
              "</div>"
            ],
            "text/plain": [
              "                                 artist  ...                       genre\n",
              "year                                     ...                            \n",
              "1992  Whitney Houston / Various artists  ...  R&B, soul, pop, soundtrack\n",
              "1992                               ABBA  ...                  Pop, disco\n",
              "1995                  Alanis Morissette  ...            Alternative rock\n",
              "1996                        Celine Dion  ...              Pop, soft rock\n",
              "1997                        Celine Dion  ...              Pop, soft rock\n",
              "\n",
              "[5 rows x 3 columns]"
            ]
          },
          "metadata": {
            "tags": []
          },
          "execution_count": 9
        }
      ]
    },
    {
      "cell_type": "markdown",
      "metadata": {
        "id": "oAnjbE8MZx25"
      },
      "source": [
        "### Selection by Condition Using Booleans"
      ]
    },
    {
      "cell_type": "markdown",
      "metadata": {
        "id": "QH_xAoeq0LCh"
      },
      "source": [
        "As we did with Series, we can create and apply Boolean masks to select data."
      ]
    },
    {
      "cell_type": "code",
      "metadata": {
        "id": "twbeFIMqVslO",
        "colab": {
          "base_uri": "https://localhost:8080/",
          "height": 167
        },
        "outputId": "51a406ae-56bd-4262-e5f1-db74a7f97709"
      },
      "source": [
        "# make a mask selecting rows where certified sales greater than 30 (million)\n",
        "csales30_mask = df.loc[:,'cert_sales'] > 30\n",
        "\n",
        "# select only those rows in the dataset where mask is true, and all columns\n",
        "df.loc[csales30_mask,:]"
      ],
      "execution_count": null,
      "outputs": [
        {
          "output_type": "execute_result",
          "data": {
            "text/html": [
              "<div>\n",
              "<style scoped>\n",
              "    .dataframe tbody tr th:only-of-type {\n",
              "        vertical-align: middle;\n",
              "    }\n",
              "\n",
              "    .dataframe tbody tr th {\n",
              "        vertical-align: top;\n",
              "    }\n",
              "\n",
              "    .dataframe thead th {\n",
              "        text-align: right;\n",
              "    }\n",
              "</style>\n",
              "<table border=\"1\" class=\"dataframe\">\n",
              "  <thead>\n",
              "    <tr style=\"text-align: right;\">\n",
              "      <th></th>\n",
              "      <th>artist</th>\n",
              "      <th>album</th>\n",
              "      <th>genre</th>\n",
              "      <th>cert_sales</th>\n",
              "      <th>claim_sales</th>\n",
              "      <th>decade</th>\n",
              "    </tr>\n",
              "    <tr>\n",
              "      <th>year</th>\n",
              "      <th></th>\n",
              "      <th></th>\n",
              "      <th></th>\n",
              "      <th></th>\n",
              "      <th></th>\n",
              "      <th></th>\n",
              "    </tr>\n",
              "  </thead>\n",
              "  <tbody>\n",
              "    <tr>\n",
              "      <th>1976</th>\n",
              "      <td>Eagles</td>\n",
              "      <td>Their Greatest Hits (1971–1975)</td>\n",
              "      <td>Country rock, soft rock, folk rock</td>\n",
              "      <td>41.2</td>\n",
              "      <td>42</td>\n",
              "      <td>1970</td>\n",
              "    </tr>\n",
              "    <tr>\n",
              "      <th>1976</th>\n",
              "      <td>Eagles</td>\n",
              "      <td>Hotel California</td>\n",
              "      <td>Soft rock</td>\n",
              "      <td>31.5</td>\n",
              "      <td>32</td>\n",
              "      <td>1970</td>\n",
              "    </tr>\n",
              "    <tr>\n",
              "      <th>1982</th>\n",
              "      <td>Michael Jackson</td>\n",
              "      <td>Thriller</td>\n",
              "      <td>Pop, post-disco, funk, rock</td>\n",
              "      <td>47.3</td>\n",
              "      <td>66</td>\n",
              "      <td>1980</td>\n",
              "    </tr>\n",
              "  </tbody>\n",
              "</table>\n",
              "</div>"
            ],
            "text/plain": [
              "               artist                            album  ... claim_sales  decade\n",
              "year                                                    ...                    \n",
              "1976           Eagles  Their Greatest Hits (1971–1975)  ...          42    1970\n",
              "1976           Eagles                 Hotel California  ...          32    1970\n",
              "1982  Michael Jackson                         Thriller  ...          66    1980\n",
              "\n",
              "[3 rows x 6 columns]"
            ]
          },
          "metadata": {
            "tags": []
          },
          "execution_count": 10
        }
      ]
    },
    {
      "cell_type": "code",
      "metadata": {
        "id": "eCZLOniXX8W_",
        "colab": {
          "base_uri": "https://localhost:8080/",
          "height": 167
        },
        "outputId": "6061101b-de05-4bc2-cc1f-5fda9c04d382"
      },
      "source": [
        "# make a mask selecting all rows where jackson is the artist\n",
        "jackson_mask = df.loc[:, 'artist'] == 'Michael Jackson'\n",
        "\n",
        "# select rows where the Jackson mask is True, and all columns\n",
        "df.loc[jackson_mask, :]\n"
      ],
      "execution_count": null,
      "outputs": [
        {
          "output_type": "execute_result",
          "data": {
            "text/html": [
              "<div>\n",
              "<style scoped>\n",
              "    .dataframe tbody tr th:only-of-type {\n",
              "        vertical-align: middle;\n",
              "    }\n",
              "\n",
              "    .dataframe tbody tr th {\n",
              "        vertical-align: top;\n",
              "    }\n",
              "\n",
              "    .dataframe thead th {\n",
              "        text-align: right;\n",
              "    }\n",
              "</style>\n",
              "<table border=\"1\" class=\"dataframe\">\n",
              "  <thead>\n",
              "    <tr style=\"text-align: right;\">\n",
              "      <th></th>\n",
              "      <th>artist</th>\n",
              "      <th>album</th>\n",
              "      <th>genre</th>\n",
              "      <th>cert_sales</th>\n",
              "      <th>claim_sales</th>\n",
              "      <th>decade</th>\n",
              "    </tr>\n",
              "    <tr>\n",
              "      <th>year</th>\n",
              "      <th></th>\n",
              "      <th></th>\n",
              "      <th></th>\n",
              "      <th></th>\n",
              "      <th></th>\n",
              "      <th></th>\n",
              "    </tr>\n",
              "  </thead>\n",
              "  <tbody>\n",
              "    <tr>\n",
              "      <th>1982</th>\n",
              "      <td>Michael Jackson</td>\n",
              "      <td>Thriller</td>\n",
              "      <td>Pop, post-disco, funk, rock</td>\n",
              "      <td>47.3</td>\n",
              "      <td>66</td>\n",
              "      <td>1980</td>\n",
              "    </tr>\n",
              "    <tr>\n",
              "      <th>1987</th>\n",
              "      <td>Michael Jackson</td>\n",
              "      <td>Bad</td>\n",
              "      <td>Pop, rhythm and blues, funk and rock</td>\n",
              "      <td>22.2</td>\n",
              "      <td>35</td>\n",
              "      <td>1980</td>\n",
              "    </tr>\n",
              "    <tr>\n",
              "      <th>1991</th>\n",
              "      <td>Michael Jackson</td>\n",
              "      <td>Dangerous</td>\n",
              "      <td>New jack swing, R&amp;B and pop</td>\n",
              "      <td>17.0</td>\n",
              "      <td>32</td>\n",
              "      <td>1990</td>\n",
              "    </tr>\n",
              "  </tbody>\n",
              "</table>\n",
              "</div>"
            ],
            "text/plain": [
              "               artist      album  ... claim_sales  decade\n",
              "year                              ...                    \n",
              "1982  Michael Jackson   Thriller  ...          66    1980\n",
              "1987  Michael Jackson        Bad  ...          35    1980\n",
              "1991  Michael Jackson  Dangerous  ...          32    1990\n",
              "\n",
              "[3 rows x 6 columns]"
            ]
          },
          "metadata": {
            "tags": []
          },
          "execution_count": 11
        }
      ]
    },
    {
      "cell_type": "markdown",
      "metadata": {
        "id": "TwiL42PzbMfa"
      },
      "source": [
        "Multiple masks can also be used simultaneously."
      ]
    },
    {
      "cell_type": "code",
      "metadata": {
        "id": "FiRp-xcxbB4n",
        "colab": {
          "base_uri": "https://localhost:8080/",
          "height": 107
        },
        "outputId": "2efe8ba2-2522-40eb-e87a-c3425fff76e7"
      },
      "source": [
        "# select rows with Jackson and greater than 30 (million) certified sales, and all columns\n",
        "df.loc[jackson_mask & csales30_mask, :]"
      ],
      "execution_count": null,
      "outputs": [
        {
          "output_type": "execute_result",
          "data": {
            "text/html": [
              "<div>\n",
              "<style scoped>\n",
              "    .dataframe tbody tr th:only-of-type {\n",
              "        vertical-align: middle;\n",
              "    }\n",
              "\n",
              "    .dataframe tbody tr th {\n",
              "        vertical-align: top;\n",
              "    }\n",
              "\n",
              "    .dataframe thead th {\n",
              "        text-align: right;\n",
              "    }\n",
              "</style>\n",
              "<table border=\"1\" class=\"dataframe\">\n",
              "  <thead>\n",
              "    <tr style=\"text-align: right;\">\n",
              "      <th></th>\n",
              "      <th>artist</th>\n",
              "      <th>album</th>\n",
              "      <th>genre</th>\n",
              "      <th>cert_sales</th>\n",
              "      <th>claim_sales</th>\n",
              "      <th>decade</th>\n",
              "    </tr>\n",
              "    <tr>\n",
              "      <th>year</th>\n",
              "      <th></th>\n",
              "      <th></th>\n",
              "      <th></th>\n",
              "      <th></th>\n",
              "      <th></th>\n",
              "      <th></th>\n",
              "    </tr>\n",
              "  </thead>\n",
              "  <tbody>\n",
              "    <tr>\n",
              "      <th>1982</th>\n",
              "      <td>Michael Jackson</td>\n",
              "      <td>Thriller</td>\n",
              "      <td>Pop, post-disco, funk, rock</td>\n",
              "      <td>47.3</td>\n",
              "      <td>66</td>\n",
              "      <td>1980</td>\n",
              "    </tr>\n",
              "  </tbody>\n",
              "</table>\n",
              "</div>"
            ],
            "text/plain": [
              "               artist     album  ... claim_sales  decade\n",
              "year                             ...                    \n",
              "1982  Michael Jackson  Thriller  ...          66    1980\n",
              "\n",
              "[1 rows x 6 columns]"
            ]
          },
          "metadata": {
            "tags": []
          },
          "execution_count": 12
        }
      ]
    },
    {
      "cell_type": "markdown",
      "metadata": {
        "id": "FENybQ0_bk3P"
      },
      "source": [
        "We are going to practice this sort of indexing a lot, so I'll provide more examples, and some more discussion, later."
      ]
    }
  ]
}