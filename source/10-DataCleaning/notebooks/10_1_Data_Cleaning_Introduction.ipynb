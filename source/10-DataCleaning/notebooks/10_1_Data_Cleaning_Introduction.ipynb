{
  "nbformat": 4,
  "nbformat_minor": 0,
  "metadata": {
    "kernelspec": {
      "display_name": "Python 3",
      "language": "python",
      "name": "python3"
    },
    "language_info": {
      "codemirror_mode": {
        "name": "ipython",
        "version": 3
      },
      "file_extension": ".py",
      "mimetype": "text/x-python",
      "name": "python",
      "nbconvert_exporter": "python",
      "pygments_lexer": "ipython3",
      "version": "3.6.8"
    },
    "colab": {
      "name": "10.1 Data Cleaning - Introduction.ipynb",
      "provenance": [],
      "collapsed_sections": [],
      "toc_visible": true
    }
  },
  "cells": [
    {
      "cell_type": "markdown",
      "metadata": {
        "id": "D0Qck8cX6c0i"
      },
      "source": [
        "# Data Cleaning\n"
      ]
    },
    {
      "cell_type": "markdown",
      "metadata": {
        "id": "8Cqm2TQoNH9N"
      },
      "source": [
        "## Introduction\n",
        "Cleaning data one part of the process of preparing real-world data for data analysis. Python and Pandas are really great tools for cleaning data and a basic background in coding can make the process of cleaning much faster, more efficient, more accurate, and more replicable than just about any other approach. \n",
        "\n",
        "Dirty data involves a host of different issues that undermine the accuracy and reliability of your data. Examples include: missing values, incorrectly input values, incorrectly repeated values, values with extraneous characters, improperly formatted values, and misidentified data-types.\n",
        "\n",
        "Before we get into approaches to fixing these issues, it's important to recognize that many people who deal with data are not in the habit of checking to see if their data needs cleaning before they do analyses. Not verifying the integrity of your data before conducting analyses is deeply problematic as any of the issues listed above may substantially alter conclusions we draw from the data and the actions we take. The analyses themselves will not necessarily show underlying issues. You have to stop and make sure you verify your data before you start your analysis. \n",
        "\n",
        "At the beginning of the semester, students took an anonymous survey with some random questions designs to produce both some clean and some dirty data. We will use those survey responses to learn some new data cleaning tools."
      ]
    },
    {
      "cell_type": "code",
      "metadata": {
        "id": "aLIrQchITphJ",
        "colab": {
          "base_uri": "https://localhost:8080/"
        },
        "outputId": "a63b244a-c5ce-472d-accc-370a4b88d565"
      },
      "source": [
        "# import pandas\n",
        "import pandas as pd\n",
        "import seaborn as sns\n",
        "import matplotlib.pyplot as plt\n",
        "\n",
        "# ignore this code entirely\n",
        "%matplotlib inline\n",
        "%config InlineBackend.figure_formats = ['svg']\n",
        "plt.rcParams['figure.figsize'] = [8, 6]\n",
        "plt.rcParams['figure.dpi'] = 100\n",
        "\n",
        "\n",
        "# results url\n",
        "url1 = 'https://docs.google.com/spreadsheets/d/e/'\n",
        "url2 = '2PACX-1vRkK73xD192AdP0jZe6ac9cnVPSeqqbYZmSPnhY2hnY8ANROAOCS'\n",
        "url3 = 'tRFdvjwFoapv3j2rzMtZ91KXPFm/pub?output=csv'\n",
        "\n",
        "# create data frame from url\n",
        "df = pd.read_csv(url1 + url2 + url3)\n",
        "\n",
        "# assign original headers to list\n",
        "survey_questions = df.columns.to_list()\n",
        "\n",
        "# replace with column names easier to work with\n",
        "renamelist = ['Timestamp', 'musicartist', 'height', 'city', '30min', 'travel',\n",
        "              'likepizza', 'deepdish', 'sport', 'spell', 'hangout', 'talk',\n",
        "              'year', 'quote']\n",
        "df.columns = renamelist\n",
        "\n",
        "# print new column labels and original\n",
        "for i in range(len(renamelist)):\n",
        "  print(f'{renamelist[i]:15} {survey_questions[i]}')"
      ],
      "execution_count": 255,
      "outputs": [
        {
          "output_type": "stream",
          "text": [
            "Timestamp       Timestamp\n",
            "musicartist     Who is your favorite music artist (broadly defined)?\n",
            "height          What physical height would you like to be?\n",
            "city            If you had to live in city, but could pick any city in the world, what city would you live in?\n",
            "30min           If you could have 30 minutes to talk with any person, living or dead, who would you pick?\n",
            "travel          If you could travel to any location in the world for vacation, where would you go?\n",
            "likepizza       On a scale of 1 (gross) to five (awesome) how much do you like pizza?\n",
            "deepdish        Is Chicago-style deep dish actually pizza or is it really casserole?\n",
            "sport           What sport do you most enjoy watching?\n",
            "spell           Which is the most difficult to spell? \n",
            "hangout         What is the optimal number of people to hang out with?\n",
            "talk            Do you think you talk more or less than the average person?\n",
            "year            If you had a time machine and could visit any year you like, which year would you pick?\n",
            "quote           What's you favorite inspirational quote? You don't need to do this from memory. Feel free to look something up and then paste it in here. \n"
          ],
          "name": "stdout"
        }
      ]
    },
    {
      "cell_type": "markdown",
      "metadata": {
        "id": "r6VKUmtN_X6A"
      },
      "source": [
        "## Examining the Dataframe for Errors\n",
        "We had previously used `.info()` for checking column names and row numbers. It has a few more uses when we've got dirty data. "
      ]
    },
    {
      "cell_type": "code",
      "metadata": {
        "id": "B3-G_BpS9NsX",
        "colab": {
          "base_uri": "https://localhost:8080/"
        },
        "outputId": "3c1d06d5-3c3f-415d-ab7c-8adf52e6bf06"
      },
      "source": [
        "df.info()"
      ],
      "execution_count": 256,
      "outputs": [
        {
          "output_type": "stream",
          "text": [
            "<class 'pandas.core.frame.DataFrame'>\n",
            "RangeIndex: 204 entries, 0 to 203\n",
            "Data columns (total 14 columns):\n",
            " #   Column       Non-Null Count  Dtype  \n",
            "---  ------       --------------  -----  \n",
            " 0   Timestamp    204 non-null    object \n",
            " 1   musicartist  193 non-null    object \n",
            " 2   height       203 non-null    object \n",
            " 3   city         202 non-null    object \n",
            " 4   30min        189 non-null    object \n",
            " 5   travel       202 non-null    object \n",
            " 6   likepizza    203 non-null    float64\n",
            " 7   deepdish     203 non-null    object \n",
            " 8   sport        197 non-null    object \n",
            " 9   spell        203 non-null    object \n",
            " 10  hangout      203 non-null    object \n",
            " 11  talk         202 non-null    object \n",
            " 12  year         197 non-null    object \n",
            " 13  quote        189 non-null    object \n",
            "dtypes: float64(1), object(13)\n",
            "memory usage: 22.4+ KB\n"
          ],
          "name": "stdout"
        }
      ]
    },
    {
      "cell_type": "markdown",
      "metadata": {
        "id": "yy_brnCy_6qn"
      },
      "source": [
        "We can see the number of entries (rows), the number of columns and their names, the non-null count (not missing), and the inferred datatype of each column. \n",
        "\n",
        "Null refers to missing or null values. In this particular dataset, we have missing values in every single column except the first. \n",
        "\n",
        "The inferred column data-types are all objects, except for `'likepizza'` which is a float. This means every other column has values of mixed data-types or strings in it, which might be entirely appropriate for most columns. However, its notable that some columns we might expect to be numeric are not. For example, the column `'hangout'` is responses to the question: 'What is the optimal number of people to hang out with?' We will need to dig into this a bit to see what's going on and convert this column to a numeric datatype before we can start using statistical tools like `.mean()` with this column."
      ]
    },
    {
      "cell_type": "markdown",
      "metadata": {
        "id": "Io_zcqxEKP-z"
      },
      "source": [
        "## Missing or Null Values\n"
      ]
    },
    {
      "cell_type": "markdown",
      "metadata": {
        "id": "_1MuKuzjUvX4"
      },
      "source": [
        "How to deal with missing or null values is a pretty complex topic in data analysis, statistics, and programming. We're going to just go into some of the basics here and introduce a few tools Pandas gives us to address missing data. \n",
        "\n",
        "When we say a value is missing or is null we do not mean that the value is an empty string, such as `' '`, or a zero value, such as `0` or `0.0`. Missing or null means there is no value present at all. For the survey data we are looking at now, it means the person taking the survey provided no answer. When we are representing our data with a series or a dataframe, we can't simply skip missing values, they must be encoded in some way. A series with a missing value at the fifth index can't just be one value shorter. It throws off everything. Instead, we need to plug in a special value that represents a missing value, so that when we perform operations on the series nothing goes awry. For example, if we ask for the mean value of a series of values that contains some missing values, we would not want to sum all the values and then divide by the length of the series. The length would include the missing values and throw off the mean value.   \n",
        "\n",
        "Unfortunately, depending on what packages you are using with Python the exact way a missing value is described or represented varies. Missing values are also called null values. Python or Pandas might represent or refer to missing values with:\n",
        "* `None`,\n",
        "* `np.NaN` for missing floats (NaN is an abbreviation for `not a number`)\n",
        "* `pd.NaT` for missing time data\n",
        "\n",
        "The Pandas methods we are going to use refer to missing values as 'na', which is short for 'not available'. These methods will typically detect multiple types of missing data. "
      ]
    },
    {
      "cell_type": "markdown",
      "metadata": {
        "id": "fLbifIstFMRk"
      },
      "source": [
        "### Finding Missing Values\n",
        "The method `.isna()` can be used with either a dataframe or individual series. It returns a boolean object where all missing values are mapped to True. All other values are mapped to False. "
      ]
    },
    {
      "cell_type": "code",
      "metadata": {
        "id": "bSgv2uJkFJA0",
        "colab": {
          "base_uri": "https://localhost:8080/",
          "height": 347
        },
        "outputId": "938f4cc5-1aa9-4c1b-a104-0ab8960e21eb"
      },
      "source": [
        "# using .isna() with a dataframe\n",
        "df.isna().head(10)"
      ],
      "execution_count": 257,
      "outputs": [
        {
          "output_type": "execute_result",
          "data": {
            "text/html": [
              "<div>\n",
              "<style scoped>\n",
              "    .dataframe tbody tr th:only-of-type {\n",
              "        vertical-align: middle;\n",
              "    }\n",
              "\n",
              "    .dataframe tbody tr th {\n",
              "        vertical-align: top;\n",
              "    }\n",
              "\n",
              "    .dataframe thead th {\n",
              "        text-align: right;\n",
              "    }\n",
              "</style>\n",
              "<table border=\"1\" class=\"dataframe\">\n",
              "  <thead>\n",
              "    <tr style=\"text-align: right;\">\n",
              "      <th></th>\n",
              "      <th>Timestamp</th>\n",
              "      <th>musicartist</th>\n",
              "      <th>height</th>\n",
              "      <th>city</th>\n",
              "      <th>30min</th>\n",
              "      <th>travel</th>\n",
              "      <th>likepizza</th>\n",
              "      <th>deepdish</th>\n",
              "      <th>sport</th>\n",
              "      <th>spell</th>\n",
              "      <th>hangout</th>\n",
              "      <th>talk</th>\n",
              "      <th>year</th>\n",
              "      <th>quote</th>\n",
              "    </tr>\n",
              "  </thead>\n",
              "  <tbody>\n",
              "    <tr>\n",
              "      <th>0</th>\n",
              "      <td>False</td>\n",
              "      <td>False</td>\n",
              "      <td>False</td>\n",
              "      <td>False</td>\n",
              "      <td>False</td>\n",
              "      <td>False</td>\n",
              "      <td>False</td>\n",
              "      <td>False</td>\n",
              "      <td>False</td>\n",
              "      <td>False</td>\n",
              "      <td>False</td>\n",
              "      <td>False</td>\n",
              "      <td>False</td>\n",
              "      <td>False</td>\n",
              "    </tr>\n",
              "    <tr>\n",
              "      <th>1</th>\n",
              "      <td>False</td>\n",
              "      <td>False</td>\n",
              "      <td>False</td>\n",
              "      <td>False</td>\n",
              "      <td>False</td>\n",
              "      <td>False</td>\n",
              "      <td>False</td>\n",
              "      <td>False</td>\n",
              "      <td>False</td>\n",
              "      <td>False</td>\n",
              "      <td>False</td>\n",
              "      <td>False</td>\n",
              "      <td>False</td>\n",
              "      <td>False</td>\n",
              "    </tr>\n",
              "    <tr>\n",
              "      <th>2</th>\n",
              "      <td>False</td>\n",
              "      <td>False</td>\n",
              "      <td>False</td>\n",
              "      <td>False</td>\n",
              "      <td>False</td>\n",
              "      <td>False</td>\n",
              "      <td>False</td>\n",
              "      <td>False</td>\n",
              "      <td>False</td>\n",
              "      <td>False</td>\n",
              "      <td>False</td>\n",
              "      <td>False</td>\n",
              "      <td>False</td>\n",
              "      <td>False</td>\n",
              "    </tr>\n",
              "    <tr>\n",
              "      <th>3</th>\n",
              "      <td>False</td>\n",
              "      <td>False</td>\n",
              "      <td>False</td>\n",
              "      <td>False</td>\n",
              "      <td>False</td>\n",
              "      <td>False</td>\n",
              "      <td>False</td>\n",
              "      <td>False</td>\n",
              "      <td>False</td>\n",
              "      <td>False</td>\n",
              "      <td>False</td>\n",
              "      <td>False</td>\n",
              "      <td>False</td>\n",
              "      <td>False</td>\n",
              "    </tr>\n",
              "    <tr>\n",
              "      <th>4</th>\n",
              "      <td>False</td>\n",
              "      <td>False</td>\n",
              "      <td>False</td>\n",
              "      <td>False</td>\n",
              "      <td>False</td>\n",
              "      <td>False</td>\n",
              "      <td>False</td>\n",
              "      <td>False</td>\n",
              "      <td>False</td>\n",
              "      <td>False</td>\n",
              "      <td>False</td>\n",
              "      <td>False</td>\n",
              "      <td>False</td>\n",
              "      <td>False</td>\n",
              "    </tr>\n",
              "    <tr>\n",
              "      <th>5</th>\n",
              "      <td>False</td>\n",
              "      <td>False</td>\n",
              "      <td>False</td>\n",
              "      <td>False</td>\n",
              "      <td>False</td>\n",
              "      <td>False</td>\n",
              "      <td>False</td>\n",
              "      <td>False</td>\n",
              "      <td>False</td>\n",
              "      <td>False</td>\n",
              "      <td>False</td>\n",
              "      <td>False</td>\n",
              "      <td>False</td>\n",
              "      <td>False</td>\n",
              "    </tr>\n",
              "    <tr>\n",
              "      <th>6</th>\n",
              "      <td>False</td>\n",
              "      <td>False</td>\n",
              "      <td>False</td>\n",
              "      <td>False</td>\n",
              "      <td>False</td>\n",
              "      <td>False</td>\n",
              "      <td>False</td>\n",
              "      <td>False</td>\n",
              "      <td>True</td>\n",
              "      <td>False</td>\n",
              "      <td>False</td>\n",
              "      <td>False</td>\n",
              "      <td>False</td>\n",
              "      <td>False</td>\n",
              "    </tr>\n",
              "    <tr>\n",
              "      <th>7</th>\n",
              "      <td>False</td>\n",
              "      <td>False</td>\n",
              "      <td>False</td>\n",
              "      <td>False</td>\n",
              "      <td>False</td>\n",
              "      <td>False</td>\n",
              "      <td>False</td>\n",
              "      <td>False</td>\n",
              "      <td>False</td>\n",
              "      <td>False</td>\n",
              "      <td>False</td>\n",
              "      <td>False</td>\n",
              "      <td>False</td>\n",
              "      <td>False</td>\n",
              "    </tr>\n",
              "    <tr>\n",
              "      <th>8</th>\n",
              "      <td>False</td>\n",
              "      <td>False</td>\n",
              "      <td>False</td>\n",
              "      <td>False</td>\n",
              "      <td>True</td>\n",
              "      <td>False</td>\n",
              "      <td>False</td>\n",
              "      <td>False</td>\n",
              "      <td>False</td>\n",
              "      <td>False</td>\n",
              "      <td>False</td>\n",
              "      <td>False</td>\n",
              "      <td>False</td>\n",
              "      <td>False</td>\n",
              "    </tr>\n",
              "    <tr>\n",
              "      <th>9</th>\n",
              "      <td>False</td>\n",
              "      <td>False</td>\n",
              "      <td>False</td>\n",
              "      <td>False</td>\n",
              "      <td>False</td>\n",
              "      <td>False</td>\n",
              "      <td>False</td>\n",
              "      <td>False</td>\n",
              "      <td>False</td>\n",
              "      <td>False</td>\n",
              "      <td>False</td>\n",
              "      <td>False</td>\n",
              "      <td>False</td>\n",
              "      <td>False</td>\n",
              "    </tr>\n",
              "  </tbody>\n",
              "</table>\n",
              "</div>"
            ],
            "text/plain": [
              "   Timestamp  musicartist  height   city  ...  hangout   talk   year  quote\n",
              "0      False        False   False  False  ...    False  False  False  False\n",
              "1      False        False   False  False  ...    False  False  False  False\n",
              "2      False        False   False  False  ...    False  False  False  False\n",
              "3      False        False   False  False  ...    False  False  False  False\n",
              "4      False        False   False  False  ...    False  False  False  False\n",
              "5      False        False   False  False  ...    False  False  False  False\n",
              "6      False        False   False  False  ...    False  False  False  False\n",
              "7      False        False   False  False  ...    False  False  False  False\n",
              "8      False        False   False  False  ...    False  False  False  False\n",
              "9      False        False   False  False  ...    False  False  False  False\n",
              "\n",
              "[10 rows x 14 columns]"
            ]
          },
          "metadata": {
            "tags": []
          },
          "execution_count": 257
        }
      ]
    },
    {
      "cell_type": "code",
      "metadata": {
        "id": "tQxGnl_2wta0",
        "colab": {
          "base_uri": "https://localhost:8080/"
        },
        "outputId": "d7f0a927-c3c6-4f48-deca-0eb856d23191"
      },
      "source": [
        "# using .isna() with a series\n",
        "df.loc[:, '30min'].isna().head(10)"
      ],
      "execution_count": 258,
      "outputs": [
        {
          "output_type": "execute_result",
          "data": {
            "text/plain": [
              "0    False\n",
              "1    False\n",
              "2    False\n",
              "3    False\n",
              "4    False\n",
              "5    False\n",
              "6    False\n",
              "7    False\n",
              "8     True\n",
              "9    False\n",
              "Name: 30min, dtype: bool"
            ]
          },
          "metadata": {
            "tags": []
          },
          "execution_count": 258
        }
      ]
    },
    {
      "cell_type": "markdown",
      "metadata": {
        "id": "dfwyH37-Iu27"
      },
      "source": [
        "If you want to count values that are not missing, you can use `.notna()`."
      ]
    },
    {
      "cell_type": "code",
      "metadata": {
        "id": "brlcNBgD5ayk",
        "colab": {
          "base_uri": "https://localhost:8080/"
        },
        "outputId": "3825b68f-cd63-48d0-c2e2-e20741ad83a4"
      },
      "source": [
        "# using .notna() with a series\n",
        "df.loc[:, '30min'].notna().head(10)"
      ],
      "execution_count": 259,
      "outputs": [
        {
          "output_type": "execute_result",
          "data": {
            "text/plain": [
              "0     True\n",
              "1     True\n",
              "2     True\n",
              "3     True\n",
              "4     True\n",
              "5     True\n",
              "6     True\n",
              "7     True\n",
              "8    False\n",
              "9     True\n",
              "Name: 30min, dtype: bool"
            ]
          },
          "metadata": {
            "tags": []
          },
          "execution_count": 259
        }
      ]
    },
    {
      "cell_type": "markdown",
      "metadata": {
        "id": "bZIi1ZQx27st"
      },
      "source": [
        "Both `.sum()` and `.count()` can be used with a series of booleans.\n",
        "*  `.sum()` will treat each `True` as a `1` and add them all together. \n",
        "* `.count()` will only count non-missing values (if you want to count missing and non-missing values use `len()` instead."
      ]
    },
    {
      "cell_type": "code",
      "metadata": {
        "id": "wJsgUO3Bv3rb",
        "colab": {
          "base_uri": "https://localhost:8080/"
        },
        "outputId": "a594c98c-3b45-418d-e7e2-bfe4517ae86d"
      },
      "source": [
        "column_name = '30min'\n",
        "\n",
        "# counts missing values by summing booleans (True = 1, False = 0)\n",
        "missing_count = df.loc[:, column_name].isna().sum() \n",
        "\n",
        "# counts not missing values using .count()\n",
        "not_missing_count1 = df.loc[:, column_name].count()\n",
        "\n",
        "# counts not missing values using .notna().sum() (True = 1, False = 0)\n",
        "# same result as previous\n",
        "not_missing_count2 = df.loc[:, column_name].notna().sum() \n",
        "\n",
        "# count rows in series (including missing)\n",
        "total_count = len(df.loc[:, column_name]) \n",
        "\n",
        "# print summary\n",
        "print(f'{column_name}\\n-missing values: {missing_count}' \\\n",
        "      f'\\n-not missing values: {not_missing_count1}' \\\n",
        "      f'\\n-total count: {total_count}')  \n"
      ],
      "execution_count": 260,
      "outputs": [
        {
          "output_type": "stream",
          "text": [
            "30min\n",
            "-missing values: 15\n",
            "-not missing values: 189\n",
            "-total count: 204\n"
          ],
          "name": "stdout"
        }
      ]
    },
    {
      "cell_type": "markdown",
      "metadata": {
        "id": "ENdcNBQYIYY8"
      },
      "source": [
        "### Dropping Missing Values\n",
        "One way to deal with missing values in datasets is to remove any entry that has a missing value. This approach makes cleaning your data easier, you simply remove problematic entries, but it can also negatively affect the quality of your analysis. If the missing data is not missing at random, then your analysis may produce results that are biased in one way or another. \n",
        "\n",
        "So please remember, while dropping entries with missing values is common and it is certainly easy, it can also create issues that can be subtle and misleading. You can read more about [missing data and how to correct it here](https://en.wikipedia.org/wiki/Missing_data). \n",
        "\n",
        "If you decide you do want to remove entries with missing data, Pandas makes it very easy. Removing data from a dataframe is sometimes referred to as 'dropping' data, so Pandas has a specific method called `.dropna()` that can be used to remove either rows or columns with missing values. \n",
        "\n"
      ]
    },
    {
      "cell_type": "code",
      "metadata": {
        "id": "rC-I_f0YBGcj",
        "colab": {
          "base_uri": "https://localhost:8080/"
        },
        "outputId": "23ed2716-4e26-4090-f5c9-a6c212cea36d"
      },
      "source": [
        "# dropna() applied to the entire dataframe, drops rows\n",
        "df_all_remove_rows = df.dropna(axis='index') # removes rows with missing values\n",
        "\n",
        "# check the result\n",
        "df_all_remove_rows.info()"
      ],
      "execution_count": 261,
      "outputs": [
        {
          "output_type": "stream",
          "text": [
            "<class 'pandas.core.frame.DataFrame'>\n",
            "Int64Index: 174 entries, 0 to 202\n",
            "Data columns (total 14 columns):\n",
            " #   Column       Non-Null Count  Dtype  \n",
            "---  ------       --------------  -----  \n",
            " 0   Timestamp    174 non-null    object \n",
            " 1   musicartist  174 non-null    object \n",
            " 2   height       174 non-null    object \n",
            " 3   city         174 non-null    object \n",
            " 4   30min        174 non-null    object \n",
            " 5   travel       174 non-null    object \n",
            " 6   likepizza    174 non-null    float64\n",
            " 7   deepdish     174 non-null    object \n",
            " 8   sport        174 non-null    object \n",
            " 9   spell        174 non-null    object \n",
            " 10  hangout      174 non-null    object \n",
            " 11  talk         174 non-null    object \n",
            " 12  year         174 non-null    object \n",
            " 13  quote        174 non-null    object \n",
            "dtypes: float64(1), object(13)\n",
            "memory usage: 20.4+ KB\n"
          ],
          "name": "stdout"
        }
      ]
    },
    {
      "cell_type": "code",
      "metadata": {
        "id": "hEOKD6iqDMFK",
        "colab": {
          "base_uri": "https://localhost:8080/"
        },
        "outputId": "28d5979a-7d5f-4037-be65-45dbe92ff824"
      },
      "source": [
        "# dropna() applied to the entire dataframe, drops columns with missing values\n",
        "df_all_removed = df.dropna(axis='columns') # removes columns with missing values\n",
        "\n",
        "# check the result\n",
        "df_all_removed.info() # only a single column has no missing values"
      ],
      "execution_count": 262,
      "outputs": [
        {
          "output_type": "stream",
          "text": [
            "<class 'pandas.core.frame.DataFrame'>\n",
            "RangeIndex: 204 entries, 0 to 203\n",
            "Data columns (total 1 columns):\n",
            " #   Column     Non-Null Count  Dtype \n",
            "---  ------     --------------  ----- \n",
            " 0   Timestamp  204 non-null    object\n",
            "dtypes: object(1)\n",
            "memory usage: 1.7+ KB\n"
          ],
          "name": "stdout"
        }
      ]
    },
    {
      "cell_type": "code",
      "metadata": {
        "id": "XqQi3EhPBhmK",
        "colab": {
          "base_uri": "https://localhost:8080/"
        },
        "outputId": "cd8fdf26-70ae-4761-f7a2-5cffe786016d"
      },
      "source": [
        "# dropna applied to a single series\n",
        "series_30removed = df.loc[:, '30min'].dropna()\n",
        "\n",
        "# check the result\n",
        "print(f'length before drop: {len(df.loc[:, \"30min\"])}')\n",
        "print(f'length after drop: {len(series_30removed)}')"
      ],
      "execution_count": 263,
      "outputs": [
        {
          "output_type": "stream",
          "text": [
            "length before drop: 204\n",
            "length after drop: 189\n"
          ],
          "name": "stdout"
        }
      ]
    },
    {
      "cell_type": "markdown",
      "metadata": {
        "id": "axlkJD38JhM7"
      },
      "source": [
        "### Replacing Missing Values\n",
        "Another approach to dealing with missing values is to replace them. The `.fillna()` method will replace any missing values with a specified replacement value.\n",
        "In this example, we replace any missing values with the mean of the series. \n"
      ]
    },
    {
      "cell_type": "code",
      "metadata": {
        "id": "xL4vK8iNQRLP",
        "colab": {
          "base_uri": "https://localhost:8080/"
        },
        "outputId": "9945d29d-57a0-4569-d0df-5d23fdd7bf2e"
      },
      "source": [
        "# calculate the mean replacement value by first dropping missing values\n",
        "mean_replacement_value = df.loc[:, 'likepizza'].dropna().mean()\n",
        "\n",
        "# use the calculated mean to replace the missing values (assigned to a new series)\n",
        "df.loc[:, 'likepizza_w_replace'] = df.loc[:, 'likepizza'].fillna(mean_replacement_value)\n",
        "\n",
        "# check the result\n",
        "df.loc[:, ['likepizza', 'likepizza_w_replace']].info()\n",
        "\n"
      ],
      "execution_count": 264,
      "outputs": [
        {
          "output_type": "stream",
          "text": [
            "<class 'pandas.core.frame.DataFrame'>\n",
            "RangeIndex: 204 entries, 0 to 203\n",
            "Data columns (total 2 columns):\n",
            " #   Column               Non-Null Count  Dtype  \n",
            "---  ------               --------------  -----  \n",
            " 0   likepizza            203 non-null    float64\n",
            " 1   likepizza_w_replace  204 non-null    float64\n",
            "dtypes: float64(2)\n",
            "memory usage: 3.3 KB\n"
          ],
          "name": "stdout"
        }
      ]
    },
    {
      "cell_type": "markdown",
      "metadata": {
        "id": "RyPY_oF5RwDm"
      },
      "source": [
        "## Duplicate Entries\n",
        "Duplicate entries are erroneous entries in a dataset that contain the exact same (or nearly the same) information. A good, and common, example of erroneous duplicate entries occurs in online surveys where a respondent accidentally submits the same survey multiple times. Duplicate entries can occur in all kinds of data, for all kinds of reasons, and can be difficult to detect if the dataset also contains legitimate entries that have identical values.\n",
        "\n",
        "Let's take a look at an example. We have a few questions in the survey where we would not expect to find two seperate entries with the exact same value."
      ]
    },
    {
      "cell_type": "code",
      "metadata": {
        "id": "WEWl0LezUGHe",
        "colab": {
          "base_uri": "https://localhost:8080/"
        },
        "outputId": "fe279cac-73ab-4f94-ff95-bec7fd6e2c9e"
      },
      "source": [
        "# value_counts for 'quotes', where the count is greater than 1\n",
        "df.loc[:, 'quote'] \\\n",
        "  .value_counts() \\\n",
        "  .loc[df.loc[:, 'quote'] \\\n",
        "  .value_counts() > 1]"
      ],
      "execution_count": 265,
      "outputs": [
        {
          "output_type": "execute_result",
          "data": {
            "text/plain": [
              "Dream bigger                                                                         4\n",
              "You miss 100% of the shots you don't take                                            2\n",
              "“Every problem is a gift—without problems we would not grow.” – Anthony Robbins\\n    2\n",
              "I think, therefore I am.                                                             2\n",
              "Let's never be the kind of people who do things lukewarmly. - David McCollough       2\n",
              "Name: quote, dtype: int64"
            ]
          },
          "metadata": {
            "tags": []
          },
          "execution_count": 265
        }
      ]
    },
    {
      "cell_type": "markdown",
      "metadata": {
        "id": "nZuWLYFUU8EE"
      },
      "source": [
        "A few of these might be legitimate repetitions, but its seems very unlikely that all of them are. Instead, we might suspect that a few survey respondents simply clicked the submit button more than once. \n",
        "\n",
        "Pandas offers some tools that allow us to detect and deal with duplicates in a more sophisticated way than just looking at value counts. "
      ]
    },
    {
      "cell_type": "markdown",
      "metadata": {
        "id": "QB767KRgV1Jd"
      },
      "source": [
        "### Finding Duplicates\n",
        "The `.duplicated()` method can be applied to an entire dataframe, a series, or an index. It will look for exact duplicates and return a boolean object where duplicates are marked `True`. By default, the first occurrence is not marked as the duplicate and all other occurrences are. This behavior can be changed with an optional argument, [read about it here if you are interested](https://pandas.pydata.org/docs/reference/api/pandas.Series.duplicated.html#pandas.Series.duplicated). \n"
      ]
    },
    {
      "cell_type": "code",
      "metadata": {
        "id": "x7bvfTCHaQCE",
        "colab": {
          "base_uri": "https://localhost:8080/"
        },
        "outputId": "80a7efa4-da25-424d-afbb-83b5f70deb4a"
      },
      "source": [
        "# assign the series to a variable so the code is a bit easier to read\n",
        "quote_series = df.loc[:, 'quote']\n",
        "\n",
        "# here are all the rows that contain 'Dream bigger'\n",
        "quote_series.loc[quote_series.values == 'Dream bigger']"
      ],
      "execution_count": 266,
      "outputs": [
        {
          "output_type": "execute_result",
          "data": {
            "text/plain": [
              "144    Dream bigger\n",
              "148    Dream bigger\n",
              "150    Dream bigger\n",
              "153    Dream bigger\n",
              "Name: quote, dtype: object"
            ]
          },
          "metadata": {
            "tags": []
          },
          "execution_count": 266
        }
      ]
    },
    {
      "cell_type": "code",
      "metadata": {
        "id": "8OjjsCG8XhBW",
        "colab": {
          "base_uri": "https://localhost:8080/"
        },
        "outputId": "5285f82e-9cdc-435e-ce6e-fec81570011c"
      },
      "source": [
        "# create a duplicate mask (rows with duplicates marked as True)\n",
        "duplicate_mask = quote_series.duplicated()\n",
        "\n",
        "# create a view of only duplicates\n",
        "# non-duplicates appear in the series as missing values, so we drop missing\n",
        "# and only have the duplicates left\n",
        "quote_series.loc[duplicate_mask].dropna()"
      ],
      "execution_count": 267,
      "outputs": [
        {
          "output_type": "execute_result",
          "data": {
            "text/plain": [
              "80     Let's never be the kind of people who do thing...\n",
              "82                              I think, therefore I am.\n",
              "148                                         Dream bigger\n",
              "150                                         Dream bigger\n",
              "153                                         Dream bigger\n",
              "176            You miss 100% of the shots you don't take\n",
              "198    “Every problem is a gift—without problems we w...\n",
              "Name: quote, dtype: object"
            ]
          },
          "metadata": {
            "tags": []
          },
          "execution_count": 267
        }
      ]
    },
    {
      "cell_type": "markdown",
      "metadata": {
        "id": "o5PMSJSgbIr7"
      },
      "source": [
        "Notice that this first instance of 'Dream bigger' with the index value of `144` was not marked as a duplicate. `.duplicated()` is only flagging repeats after the first occurence."
      ]
    },
    {
      "cell_type": "markdown",
      "metadata": {
        "id": "IfSLBZZhcBps"
      },
      "source": [
        "### Dropping Duplicate Entries\n",
        "If we can confirm we have erroneous duplicates, we will usually want to remove them before we do data analysis. The `.drop_duplicates()` method allows you to remove duplicates from dataframes, series, or an index. By default, it keeps the first occurrence and drop all the rest. This behavior can be changed to only keep the last or to drop all duplicates, you can read more about that [here if you are interested](https://pandas.pydata.org/docs/reference/api/pandas.DataFrame.drop_duplicates.html).  "
      ]
    },
    {
      "cell_type": "code",
      "metadata": {
        "id": "lTQAajseY67N",
        "colab": {
          "base_uri": "https://localhost:8080/"
        },
        "outputId": "9903c306-0d5a-40e5-ad75-ff30b0d458d5"
      },
      "source": [
        "# drop duplicates when applied to a series\n",
        "print(f'Series Length before drop: {len(quote_series)}')\n",
        "print(f'Series Length after drop: {len(quote_series.drop_duplicates())}')"
      ],
      "execution_count": 268,
      "outputs": [
        {
          "output_type": "stream",
          "text": [
            "Series Length before drop: 204\n",
            "Series Length after drop: 183\n"
          ],
          "name": "stdout"
        }
      ]
    },
    {
      "cell_type": "markdown",
      "metadata": {
        "id": "Gl6mUkXheug7"
      },
      "source": [
        "If we use `.drop_duplicates()` with a dataframe, there are a few more useful arguments that can be applied to change the method's behavior. "
      ]
    },
    {
      "cell_type": "code",
      "metadata": {
        "id": "1kwZ1iS8e-Ar",
        "colab": {
          "base_uri": "https://localhost:8080/"
        },
        "outputId": "102f332d-d360-4003-d4b8-db935a1bfdc7"
      },
      "source": [
        "# drop duplicates applied to a dataframe\n",
        "print(f'Dataframe Length before drop: {len(df)}')\n",
        "print(f'Dataframe Length after drop: {len(df.drop_duplicates())}')"
      ],
      "execution_count": 269,
      "outputs": [
        {
          "output_type": "stream",
          "text": [
            "Dataframe Length before drop: 204\n",
            "Dataframe Length after drop: 204\n"
          ],
          "name": "stdout"
        }
      ]
    },
    {
      "cell_type": "markdown",
      "metadata": {
        "id": "zGabmwD5e8Ms"
      },
      "source": [
        "In the case of our survey data, there is a timestamp column that registers the time the survey was submitted. Since duplicate surveys were submitted by repeatedly hitting the submit button, the timestamp is not exactly the same and thus these rows are not dropped. The `subset=` argument can be used to specify column labels to consider when testing for duplciates. In the code below, we specify all of the columns labels after the first, which is the timestamp. "
      ]
    },
    {
      "cell_type": "code",
      "metadata": {
        "id": "ncut3V_IevkO",
        "colab": {
          "base_uri": "https://localhost:8080/"
        },
        "outputId": "1217247d-f4d3-4d7a-8d5a-183a3a9a53ed"
      },
      "source": [
        "# drop duplicates applied to a dataframe\n",
        "\n",
        "l_before = len(df)\n",
        "l_after  = len(df.drop_duplicates(subset = df.columns[1:]))\n",
        "\n",
        "print(f'Dataframe length before drop: {l_before}')\n",
        "print(f'Dataframe length after drop: {l_after}')"
      ],
      "execution_count": 270,
      "outputs": [
        {
          "output_type": "stream",
          "text": [
            "Dataframe length before drop: 204\n",
            "Dataframe length after drop: 199\n"
          ],
          "name": "stdout"
        }
      ]
    },
    {
      "cell_type": "code",
      "metadata": {
        "id": "ZEDmyL6gf-wE",
        "colab": {
          "base_uri": "https://localhost:8080/",
          "height": 167
        },
        "outputId": "7fbf12aa-ac6a-4621-fe1f-52717e32a819"
      },
      "source": [
        "# dream bigger without the drop\n",
        "df.loc[df.loc[:, 'quote'] == \"Dream bigger\"]"
      ],
      "execution_count": 271,
      "outputs": [
        {
          "output_type": "execute_result",
          "data": {
            "text/html": [
              "<div>\n",
              "<style scoped>\n",
              "    .dataframe tbody tr th:only-of-type {\n",
              "        vertical-align: middle;\n",
              "    }\n",
              "\n",
              "    .dataframe tbody tr th {\n",
              "        vertical-align: top;\n",
              "    }\n",
              "\n",
              "    .dataframe thead th {\n",
              "        text-align: right;\n",
              "    }\n",
              "</style>\n",
              "<table border=\"1\" class=\"dataframe\">\n",
              "  <thead>\n",
              "    <tr style=\"text-align: right;\">\n",
              "      <th></th>\n",
              "      <th>Timestamp</th>\n",
              "      <th>musicartist</th>\n",
              "      <th>height</th>\n",
              "      <th>city</th>\n",
              "      <th>30min</th>\n",
              "      <th>travel</th>\n",
              "      <th>likepizza</th>\n",
              "      <th>deepdish</th>\n",
              "      <th>sport</th>\n",
              "      <th>spell</th>\n",
              "      <th>hangout</th>\n",
              "      <th>talk</th>\n",
              "      <th>year</th>\n",
              "      <th>quote</th>\n",
              "      <th>likepizza_w_replace</th>\n",
              "    </tr>\n",
              "  </thead>\n",
              "  <tbody>\n",
              "    <tr>\n",
              "      <th>144</th>\n",
              "      <td>8/17/2020 15:16:29</td>\n",
              "      <td>Taylor Swift</td>\n",
              "      <td>5.6ft</td>\n",
              "      <td>Paris</td>\n",
              "      <td>Warren Buffett</td>\n",
              "      <td>Iceland</td>\n",
              "      <td>3.0</td>\n",
              "      <td>no opinion</td>\n",
              "      <td>Basketball</td>\n",
              "      <td>hors d'oeuvre</td>\n",
              "      <td>3</td>\n",
              "      <td>More</td>\n",
              "      <td>The year when I’m 30</td>\n",
              "      <td>Dream bigger</td>\n",
              "      <td>3.0</td>\n",
              "    </tr>\n",
              "    <tr>\n",
              "      <th>148</th>\n",
              "      <td>8/17/2020 19:35:03</td>\n",
              "      <td>Taylor Swift</td>\n",
              "      <td>5.6ft</td>\n",
              "      <td>Paris</td>\n",
              "      <td>Warren Buffett</td>\n",
              "      <td>Iceland</td>\n",
              "      <td>3.0</td>\n",
              "      <td>no opinion</td>\n",
              "      <td>Basketball</td>\n",
              "      <td>hors d'oeuvre</td>\n",
              "      <td>3</td>\n",
              "      <td>More</td>\n",
              "      <td>The year when I’m 30</td>\n",
              "      <td>Dream bigger</td>\n",
              "      <td>3.0</td>\n",
              "    </tr>\n",
              "    <tr>\n",
              "      <th>150</th>\n",
              "      <td>8/17/2020 21:56:47</td>\n",
              "      <td>Taylor Swift</td>\n",
              "      <td>5.6ft</td>\n",
              "      <td>Paris</td>\n",
              "      <td>Warren Buffett</td>\n",
              "      <td>Iceland</td>\n",
              "      <td>3.0</td>\n",
              "      <td>no opinion</td>\n",
              "      <td>Basketball</td>\n",
              "      <td>hors d'oeuvre</td>\n",
              "      <td>3</td>\n",
              "      <td>More</td>\n",
              "      <td>The year when I’m 30</td>\n",
              "      <td>Dream bigger</td>\n",
              "      <td>3.0</td>\n",
              "    </tr>\n",
              "    <tr>\n",
              "      <th>153</th>\n",
              "      <td>8/21/2020 16:30:37</td>\n",
              "      <td>Taylor Swift</td>\n",
              "      <td>5.6ft</td>\n",
              "      <td>Paris</td>\n",
              "      <td>Warren Buffett</td>\n",
              "      <td>Iceland</td>\n",
              "      <td>3.0</td>\n",
              "      <td>no opinion</td>\n",
              "      <td>Basketball</td>\n",
              "      <td>hors d'oeuvre</td>\n",
              "      <td>3</td>\n",
              "      <td>More</td>\n",
              "      <td>The year when I’m 30</td>\n",
              "      <td>Dream bigger</td>\n",
              "      <td>3.0</td>\n",
              "    </tr>\n",
              "  </tbody>\n",
              "</table>\n",
              "</div>"
            ],
            "text/plain": [
              "              Timestamp    musicartist  ...         quote likepizza_w_replace\n",
              "144  8/17/2020 15:16:29  Taylor Swift   ...  Dream bigger                 3.0\n",
              "148  8/17/2020 19:35:03  Taylor Swift   ...  Dream bigger                 3.0\n",
              "150  8/17/2020 21:56:47  Taylor Swift   ...  Dream bigger                 3.0\n",
              "153  8/21/2020 16:30:37  Taylor Swift   ...  Dream bigger                 3.0\n",
              "\n",
              "[4 rows x 15 columns]"
            ]
          },
          "metadata": {
            "tags": []
          },
          "execution_count": 271
        }
      ]
    },
    {
      "cell_type": "code",
      "metadata": {
        "id": "3tmmLyc8giYU",
        "colab": {
          "base_uri": "https://localhost:8080/",
          "height": 77
        },
        "outputId": "b3d9c693-d554-42d2-984d-124d14ccd537"
      },
      "source": [
        "# dream bigger with the drop\n",
        "df.drop_duplicates(subset = df.columns[1:]) \\\n",
        "  .loc[df.loc[:, 'quote'] == \"Dream bigger\"]"
      ],
      "execution_count": 272,
      "outputs": [
        {
          "output_type": "execute_result",
          "data": {
            "text/html": [
              "<div>\n",
              "<style scoped>\n",
              "    .dataframe tbody tr th:only-of-type {\n",
              "        vertical-align: middle;\n",
              "    }\n",
              "\n",
              "    .dataframe tbody tr th {\n",
              "        vertical-align: top;\n",
              "    }\n",
              "\n",
              "    .dataframe thead th {\n",
              "        text-align: right;\n",
              "    }\n",
              "</style>\n",
              "<table border=\"1\" class=\"dataframe\">\n",
              "  <thead>\n",
              "    <tr style=\"text-align: right;\">\n",
              "      <th></th>\n",
              "      <th>Timestamp</th>\n",
              "      <th>musicartist</th>\n",
              "      <th>height</th>\n",
              "      <th>city</th>\n",
              "      <th>30min</th>\n",
              "      <th>travel</th>\n",
              "      <th>likepizza</th>\n",
              "      <th>deepdish</th>\n",
              "      <th>sport</th>\n",
              "      <th>spell</th>\n",
              "      <th>hangout</th>\n",
              "      <th>talk</th>\n",
              "      <th>year</th>\n",
              "      <th>quote</th>\n",
              "      <th>likepizza_w_replace</th>\n",
              "    </tr>\n",
              "  </thead>\n",
              "  <tbody>\n",
              "    <tr>\n",
              "      <th>144</th>\n",
              "      <td>8/17/2020 15:16:29</td>\n",
              "      <td>Taylor Swift</td>\n",
              "      <td>5.6ft</td>\n",
              "      <td>Paris</td>\n",
              "      <td>Warren Buffett</td>\n",
              "      <td>Iceland</td>\n",
              "      <td>3.0</td>\n",
              "      <td>no opinion</td>\n",
              "      <td>Basketball</td>\n",
              "      <td>hors d'oeuvre</td>\n",
              "      <td>3</td>\n",
              "      <td>More</td>\n",
              "      <td>The year when I’m 30</td>\n",
              "      <td>Dream bigger</td>\n",
              "      <td>3.0</td>\n",
              "    </tr>\n",
              "  </tbody>\n",
              "</table>\n",
              "</div>"
            ],
            "text/plain": [
              "              Timestamp    musicartist  ...         quote likepizza_w_replace\n",
              "144  8/17/2020 15:16:29  Taylor Swift   ...  Dream bigger                 3.0\n",
              "\n",
              "[1 rows x 15 columns]"
            ]
          },
          "metadata": {
            "tags": []
          },
          "execution_count": 272
        }
      ]
    },
    {
      "cell_type": "markdown",
      "metadata": {
        "id": "L0iokoQSbkgH"
      },
      "source": [
        "## Converting String and Mixed Columns to Numeric\n",
        "Data cleaning often involves taking numeric data and cleaning it up so that you can perform statistical analyses or visualizations. Dirty numeric data in a series will often be inferred by Pandas as the datatype 'object'. Once we've got the data fairly clean, we can use `pd.to_numeric()` to convert a series into a numeric data type. \n",
        "\n",
        "When we call `pd.to_numeric()`, Pandas will attempt to convert the values of whatever object is specified into a numeric type. If a value cannot be converted, `pd.to_numeric()` will halt and raise an exception. However, if we know some values will not be converted and we want Pandas to ignore the exceptions, we can set an argument `errors = 'coerce'`, and Pandas will convert the exceptions to missing values instead of throwing an exception.  \n"
      ]
    },
    {
      "cell_type": "code",
      "metadata": {
        "id": "PSBLobgykcRt",
        "colab": {
          "base_uri": "https://localhost:8080/"
        },
        "outputId": "2b41a19d-d8eb-4cfe-d82c-ec8ca45b5b9d"
      },
      "source": [
        "# check the values of year before using pd.to_numeric()\n",
        "df.loc[:, 'year'].value_counts()"
      ],
      "execution_count": 273,
      "outputs": [
        {
          "output_type": "execute_result",
          "data": {
            "text/plain": [
              "3000    9\n",
              "1999    7\n",
              "1985    7\n",
              "1776    6\n",
              "2016    5\n",
              "       ..\n",
              "1964    1\n",
              "2019    1\n",
              "1700    1\n",
              "1976    1\n",
              "1950    1\n",
              "Name: year, Length: 114, dtype: int64"
            ]
          },
          "metadata": {
            "tags": []
          },
          "execution_count": 273
        }
      ]
    },
    {
      "cell_type": "code",
      "metadata": {
        "id": "rVf1Y-LIJMeV",
        "colab": {
          "base_uri": "https://localhost:8080/"
        },
        "outputId": "f6e08e13-db30-41c4-f477-31a795a32ec2"
      },
      "source": [
        "# check for entries longer than 4 characters\n",
        "df.loc[:, 'year'] \\\n",
        "  .loc[df.loc[:, 'year'].str.len() > 4] \\\n",
        "  .head(15)"
      ],
      "execution_count": 274,
      "outputs": [
        {
          "output_type": "execute_result",
          "data": {
            "text/plain": [
              "0                 Future, no options for me in the past\n",
              "5     1999 so I could go around saying that I'm from...\n",
              "6     300 BC Greece, but only for a day bc no ac or ...\n",
              "13                               1985 (Bears SuperBowl)\n",
              "14                                               1980's\n",
              "15                                     October 21, 2015\n",
              "22                                         1,900,000 BC\n",
              "24                                                1990s\n",
              "30                                               1400’s\n",
              "35    2050 to see if we still exist or if the world ...\n",
              "52                                               882 AD\n",
              "53                           the earliest year possible\n",
              "71                           This one. The past is bad.\n",
              "72                                         1965 or 1977\n",
              "87                                Sometime in the 1920s\n",
              "Name: year, dtype: object"
            ]
          },
          "metadata": {
            "tags": []
          },
          "execution_count": 274
        }
      ]
    },
    {
      "cell_type": "code",
      "metadata": {
        "id": "1Tqpdo7IKN1O",
        "colab": {
          "base_uri": "https://localhost:8080/"
        },
        "outputId": "694d78ca-b299-4591-ba34-89051e37ee1a"
      },
      "source": [
        "# assign only first four character to series\n",
        "year_series = df.loc[:, 'year'].str[:4]\n",
        "year_series.value_counts()"
      ],
      "execution_count": 275,
      "outputs": [
        {
          "output_type": "execute_result",
          "data": {
            "text/plain": [
              "3000    9\n",
              "1999    8\n",
              "1985    8\n",
              "1920    7\n",
              "2000    6\n",
              "       ..\n",
              "2222    1\n",
              "1902    1\n",
              "2007    1\n",
              "1987    1\n",
              "summ    1\n",
              "Name: year, Length: 100, dtype: int64"
            ]
          },
          "metadata": {
            "tags": []
          },
          "execution_count": 275
        }
      ]
    },
    {
      "cell_type": "code",
      "metadata": {
        "id": "Fyu6FQ3pkmjk",
        "colab": {
          "base_uri": "https://localhost:8080/"
        },
        "outputId": "3579fbb5-2ea8-4280-ed97-5a7932f030ab"
      },
      "source": [
        "# creating a new series using pd.to_numeric()\n",
        "year_series_numeric = pd.to_numeric(year_series, errors = 'coerce')\n",
        "\n",
        "# check the values of year after using pd.to_numeric()\n",
        "year_series_numeric.value_counts()"
      ],
      "execution_count": 276,
      "outputs": [
        {
          "output_type": "execute_result",
          "data": {
            "text/plain": [
              "3000.0    9\n",
              "1999.0    8\n",
              "1985.0    8\n",
              "1920.0    7\n",
              "1776.0    6\n",
              "         ..\n",
              "1000.0    1\n",
              "100.0     1\n",
              "1184.0    1\n",
              "500.0     1\n",
              "2007.0    1\n",
              "Name: year, Length: 85, dtype: int64"
            ]
          },
          "metadata": {
            "tags": []
          },
          "execution_count": 276
        }
      ]
    },
    {
      "cell_type": "code",
      "metadata": {
        "id": "makwg6uFlg1s",
        "colab": {
          "base_uri": "https://localhost:8080/"
        },
        "outputId": "4e9a87e3-c062-4c43-9bd2-f302c36dca87"
      },
      "source": [
        "# getting some descriptive stats with the numeric version of year\n",
        "print(year_series_numeric.mean(), \n",
        "      year_series_numeric.min(), \n",
        "      year_series_numeric.max(),\n",
        "      year_series_numeric.mode())"
      ],
      "execution_count": 277,
      "outputs": [
        {
          "output_type": "stream",
          "text": [
            "2017.2342857142858 0.0 6298.0 0    3000.0\n",
            "dtype: float64\n"
          ],
          "name": "stdout"
        }
      ]
    },
    {
      "cell_type": "code",
      "metadata": {
        "colab": {
          "base_uri": "https://localhost:8080/",
          "height": 523
        },
        "id": "hr2VCSqTvuPE",
        "outputId": "4b1e538c-bb04-4983-84b7-e9634f2fc45b"
      },
      "source": [
        "# histogram of somewhat cleaned time machine question\n",
        "sns.histplot(year_series_numeric)\n",
        "plt.show()"
      ],
      "execution_count": 278,
      "outputs": [
        {
          "output_type": "display_data",
          "data": {
            "text/plain": [
              "<Figure size 800x600 with 1 Axes>"
            ],
            "image/svg+xml": "<?xml version=\"1.0\" encoding=\"utf-8\" standalone=\"no\"?>\n<!DOCTYPE svg PUBLIC \"-//W3C//DTD SVG 1.1//EN\"\n  \"http://www.w3.org/Graphics/SVG/1.1/DTD/svg11.dtd\">\n<!-- Created with matplotlib (https://matplotlib.org/) -->\n<svg height=\"376.319687pt\" version=\"1.1\" viewBox=\"0 0 499.91125 376.319687\" width=\"499.91125pt\" xmlns=\"http://www.w3.org/2000/svg\" xmlns:xlink=\"http://www.w3.org/1999/xlink\">\n <defs>\n  <style type=\"text/css\">\n*{stroke-linecap:butt;stroke-linejoin:round;}\n  </style>\n </defs>\n <g id=\"figure_1\">\n  <g id=\"patch_1\">\n   <path d=\"M 0 376.319687 \nL 499.91125 376.319687 \nL 499.91125 0 \nL 0 0 \nz\n\" style=\"fill:none;\"/>\n  </g>\n  <g id=\"axes_1\">\n   <g id=\"patch_2\">\n    <path d=\"M 46.31125 333.36 \nL 492.71125 333.36 \nL 492.71125 7.2 \nL 46.31125 7.2 \nz\n\" style=\"fill:#eaeaf2;\"/>\n   </g>\n   <g id=\"matplotlib.axis_1\">\n    <g id=\"xtick_1\">\n     <g id=\"line2d_1\">\n      <path clip-path=\"url(#p62b06a4c95)\" d=\"M 66.602159 333.36 \nL 66.602159 7.2 \n\" style=\"fill:none;stroke:#ffffff;stroke-linecap:round;\"/>\n     </g>\n     <g id=\"text_1\">\n      <!-- 0 -->\n      <defs>\n       <path d=\"M 31.78125 66.40625 \nQ 24.171875 66.40625 20.328125 58.90625 \nQ 16.5 51.421875 16.5 36.375 \nQ 16.5 21.390625 20.328125 13.890625 \nQ 24.171875 6.390625 31.78125 6.390625 \nQ 39.453125 6.390625 43.28125 13.890625 \nQ 47.125 21.390625 47.125 36.375 \nQ 47.125 51.421875 43.28125 58.90625 \nQ 39.453125 66.40625 31.78125 66.40625 \nz\nM 31.78125 74.21875 \nQ 44.046875 74.21875 50.515625 64.515625 \nQ 56.984375 54.828125 56.984375 36.375 \nQ 56.984375 17.96875 50.515625 8.265625 \nQ 44.046875 -1.421875 31.78125 -1.421875 \nQ 19.53125 -1.421875 13.0625 8.265625 \nQ 6.59375 17.96875 6.59375 36.375 \nQ 6.59375 54.828125 13.0625 64.515625 \nQ 19.53125 74.21875 31.78125 74.21875 \nz\n\" id=\"DejaVuSans-48\"/>\n      </defs>\n      <g style=\"fill:#262626;\" transform=\"translate(63.102784 351.218281)scale(0.11 -0.11)\">\n       <use xlink:href=\"#DejaVuSans-48\"/>\n      </g>\n     </g>\n    </g>\n    <g id=\"xtick_2\">\n     <g id=\"line2d_2\">\n      <path clip-path=\"url(#p62b06a4c95)\" d=\"M 131.038199 333.36 \nL 131.038199 7.2 \n\" style=\"fill:none;stroke:#ffffff;stroke-linecap:round;\"/>\n     </g>\n     <g id=\"text_2\">\n      <!-- 1000 -->\n      <defs>\n       <path d=\"M 12.40625 8.296875 \nL 28.515625 8.296875 \nL 28.515625 63.921875 \nL 10.984375 60.40625 \nL 10.984375 69.390625 \nL 28.421875 72.90625 \nL 38.28125 72.90625 \nL 38.28125 8.296875 \nL 54.390625 8.296875 \nL 54.390625 0 \nL 12.40625 0 \nz\n\" id=\"DejaVuSans-49\"/>\n      </defs>\n      <g style=\"fill:#262626;\" transform=\"translate(117.040699 351.218281)scale(0.11 -0.11)\">\n       <use xlink:href=\"#DejaVuSans-49\"/>\n       <use x=\"63.623047\" xlink:href=\"#DejaVuSans-48\"/>\n       <use x=\"127.246094\" xlink:href=\"#DejaVuSans-48\"/>\n       <use x=\"190.869141\" xlink:href=\"#DejaVuSans-48\"/>\n      </g>\n     </g>\n    </g>\n    <g id=\"xtick_3\">\n     <g id=\"line2d_3\">\n      <path clip-path=\"url(#p62b06a4c95)\" d=\"M 195.47424 333.36 \nL 195.47424 7.2 \n\" style=\"fill:none;stroke:#ffffff;stroke-linecap:round;\"/>\n     </g>\n     <g id=\"text_3\">\n      <!-- 2000 -->\n      <defs>\n       <path d=\"M 19.1875 8.296875 \nL 53.609375 8.296875 \nL 53.609375 0 \nL 7.328125 0 \nL 7.328125 8.296875 \nQ 12.9375 14.109375 22.625 23.890625 \nQ 32.328125 33.6875 34.8125 36.53125 \nQ 39.546875 41.84375 41.421875 45.53125 \nQ 43.3125 49.21875 43.3125 52.78125 \nQ 43.3125 58.59375 39.234375 62.25 \nQ 35.15625 65.921875 28.609375 65.921875 \nQ 23.96875 65.921875 18.8125 64.3125 \nQ 13.671875 62.703125 7.8125 59.421875 \nL 7.8125 69.390625 \nQ 13.765625 71.78125 18.9375 73 \nQ 24.125 74.21875 28.421875 74.21875 \nQ 39.75 74.21875 46.484375 68.546875 \nQ 53.21875 62.890625 53.21875 53.421875 \nQ 53.21875 48.921875 51.53125 44.890625 \nQ 49.859375 40.875 45.40625 35.40625 \nQ 44.1875 33.984375 37.640625 27.21875 \nQ 31.109375 20.453125 19.1875 8.296875 \nz\n\" id=\"DejaVuSans-50\"/>\n      </defs>\n      <g style=\"fill:#262626;\" transform=\"translate(181.47674 351.218281)scale(0.11 -0.11)\">\n       <use xlink:href=\"#DejaVuSans-50\"/>\n       <use x=\"63.623047\" xlink:href=\"#DejaVuSans-48\"/>\n       <use x=\"127.246094\" xlink:href=\"#DejaVuSans-48\"/>\n       <use x=\"190.869141\" xlink:href=\"#DejaVuSans-48\"/>\n      </g>\n     </g>\n    </g>\n    <g id=\"xtick_4\">\n     <g id=\"line2d_4\">\n      <path clip-path=\"url(#p62b06a4c95)\" d=\"M 259.91028 333.36 \nL 259.91028 7.2 \n\" style=\"fill:none;stroke:#ffffff;stroke-linecap:round;\"/>\n     </g>\n     <g id=\"text_4\">\n      <!-- 3000 -->\n      <defs>\n       <path d=\"M 40.578125 39.3125 \nQ 47.65625 37.796875 51.625 33 \nQ 55.609375 28.21875 55.609375 21.1875 \nQ 55.609375 10.40625 48.1875 4.484375 \nQ 40.765625 -1.421875 27.09375 -1.421875 \nQ 22.515625 -1.421875 17.65625 -0.515625 \nQ 12.796875 0.390625 7.625 2.203125 \nL 7.625 11.71875 \nQ 11.71875 9.328125 16.59375 8.109375 \nQ 21.484375 6.890625 26.8125 6.890625 \nQ 36.078125 6.890625 40.9375 10.546875 \nQ 45.796875 14.203125 45.796875 21.1875 \nQ 45.796875 27.640625 41.28125 31.265625 \nQ 36.765625 34.90625 28.71875 34.90625 \nL 20.21875 34.90625 \nL 20.21875 43.015625 \nL 29.109375 43.015625 \nQ 36.375 43.015625 40.234375 45.921875 \nQ 44.09375 48.828125 44.09375 54.296875 \nQ 44.09375 59.90625 40.109375 62.90625 \nQ 36.140625 65.921875 28.71875 65.921875 \nQ 24.65625 65.921875 20.015625 65.03125 \nQ 15.375 64.15625 9.8125 62.3125 \nL 9.8125 71.09375 \nQ 15.4375 72.65625 20.34375 73.4375 \nQ 25.25 74.21875 29.59375 74.21875 \nQ 40.828125 74.21875 47.359375 69.109375 \nQ 53.90625 64.015625 53.90625 55.328125 \nQ 53.90625 49.265625 50.4375 45.09375 \nQ 46.96875 40.921875 40.578125 39.3125 \nz\n\" id=\"DejaVuSans-51\"/>\n      </defs>\n      <g style=\"fill:#262626;\" transform=\"translate(245.91278 351.218281)scale(0.11 -0.11)\">\n       <use xlink:href=\"#DejaVuSans-51\"/>\n       <use x=\"63.623047\" xlink:href=\"#DejaVuSans-48\"/>\n       <use x=\"127.246094\" xlink:href=\"#DejaVuSans-48\"/>\n       <use x=\"190.869141\" xlink:href=\"#DejaVuSans-48\"/>\n      </g>\n     </g>\n    </g>\n    <g id=\"xtick_5\">\n     <g id=\"line2d_5\">\n      <path clip-path=\"url(#p62b06a4c95)\" d=\"M 324.34632 333.36 \nL 324.34632 7.2 \n\" style=\"fill:none;stroke:#ffffff;stroke-linecap:round;\"/>\n     </g>\n     <g id=\"text_5\">\n      <!-- 4000 -->\n      <defs>\n       <path d=\"M 37.796875 64.3125 \nL 12.890625 25.390625 \nL 37.796875 25.390625 \nz\nM 35.203125 72.90625 \nL 47.609375 72.90625 \nL 47.609375 25.390625 \nL 58.015625 25.390625 \nL 58.015625 17.1875 \nL 47.609375 17.1875 \nL 47.609375 0 \nL 37.796875 0 \nL 37.796875 17.1875 \nL 4.890625 17.1875 \nL 4.890625 26.703125 \nz\n\" id=\"DejaVuSans-52\"/>\n      </defs>\n      <g style=\"fill:#262626;\" transform=\"translate(310.34882 351.218281)scale(0.11 -0.11)\">\n       <use xlink:href=\"#DejaVuSans-52\"/>\n       <use x=\"63.623047\" xlink:href=\"#DejaVuSans-48\"/>\n       <use x=\"127.246094\" xlink:href=\"#DejaVuSans-48\"/>\n       <use x=\"190.869141\" xlink:href=\"#DejaVuSans-48\"/>\n      </g>\n     </g>\n    </g>\n    <g id=\"xtick_6\">\n     <g id=\"line2d_6\">\n      <path clip-path=\"url(#p62b06a4c95)\" d=\"M 388.782361 333.36 \nL 388.782361 7.2 \n\" style=\"fill:none;stroke:#ffffff;stroke-linecap:round;\"/>\n     </g>\n     <g id=\"text_6\">\n      <!-- 5000 -->\n      <defs>\n       <path d=\"M 10.796875 72.90625 \nL 49.515625 72.90625 \nL 49.515625 64.59375 \nL 19.828125 64.59375 \nL 19.828125 46.734375 \nQ 21.96875 47.46875 24.109375 47.828125 \nQ 26.265625 48.1875 28.421875 48.1875 \nQ 40.625 48.1875 47.75 41.5 \nQ 54.890625 34.8125 54.890625 23.390625 \nQ 54.890625 11.625 47.5625 5.09375 \nQ 40.234375 -1.421875 26.90625 -1.421875 \nQ 22.3125 -1.421875 17.546875 -0.640625 \nQ 12.796875 0.140625 7.71875 1.703125 \nL 7.71875 11.625 \nQ 12.109375 9.234375 16.796875 8.0625 \nQ 21.484375 6.890625 26.703125 6.890625 \nQ 35.15625 6.890625 40.078125 11.328125 \nQ 45.015625 15.765625 45.015625 23.390625 \nQ 45.015625 31 40.078125 35.4375 \nQ 35.15625 39.890625 26.703125 39.890625 \nQ 22.75 39.890625 18.8125 39.015625 \nQ 14.890625 38.140625 10.796875 36.28125 \nz\n\" id=\"DejaVuSans-53\"/>\n      </defs>\n      <g style=\"fill:#262626;\" transform=\"translate(374.784861 351.218281)scale(0.11 -0.11)\">\n       <use xlink:href=\"#DejaVuSans-53\"/>\n       <use x=\"63.623047\" xlink:href=\"#DejaVuSans-48\"/>\n       <use x=\"127.246094\" xlink:href=\"#DejaVuSans-48\"/>\n       <use x=\"190.869141\" xlink:href=\"#DejaVuSans-48\"/>\n      </g>\n     </g>\n    </g>\n    <g id=\"xtick_7\">\n     <g id=\"line2d_7\">\n      <path clip-path=\"url(#p62b06a4c95)\" d=\"M 453.218401 333.36 \nL 453.218401 7.2 \n\" style=\"fill:none;stroke:#ffffff;stroke-linecap:round;\"/>\n     </g>\n     <g id=\"text_7\">\n      <!-- 6000 -->\n      <defs>\n       <path d=\"M 33.015625 40.375 \nQ 26.375 40.375 22.484375 35.828125 \nQ 18.609375 31.296875 18.609375 23.390625 \nQ 18.609375 15.53125 22.484375 10.953125 \nQ 26.375 6.390625 33.015625 6.390625 \nQ 39.65625 6.390625 43.53125 10.953125 \nQ 47.40625 15.53125 47.40625 23.390625 \nQ 47.40625 31.296875 43.53125 35.828125 \nQ 39.65625 40.375 33.015625 40.375 \nz\nM 52.59375 71.296875 \nL 52.59375 62.3125 \nQ 48.875 64.0625 45.09375 64.984375 \nQ 41.3125 65.921875 37.59375 65.921875 \nQ 27.828125 65.921875 22.671875 59.328125 \nQ 17.53125 52.734375 16.796875 39.40625 \nQ 19.671875 43.65625 24.015625 45.921875 \nQ 28.375 48.1875 33.59375 48.1875 \nQ 44.578125 48.1875 50.953125 41.515625 \nQ 57.328125 34.859375 57.328125 23.390625 \nQ 57.328125 12.15625 50.6875 5.359375 \nQ 44.046875 -1.421875 33.015625 -1.421875 \nQ 20.359375 -1.421875 13.671875 8.265625 \nQ 6.984375 17.96875 6.984375 36.375 \nQ 6.984375 53.65625 15.1875 63.9375 \nQ 23.390625 74.21875 37.203125 74.21875 \nQ 40.921875 74.21875 44.703125 73.484375 \nQ 48.484375 72.75 52.59375 71.296875 \nz\n\" id=\"DejaVuSans-54\"/>\n      </defs>\n      <g style=\"fill:#262626;\" transform=\"translate(439.220901 351.218281)scale(0.11 -0.11)\">\n       <use xlink:href=\"#DejaVuSans-54\"/>\n       <use x=\"63.623047\" xlink:href=\"#DejaVuSans-48\"/>\n       <use x=\"127.246094\" xlink:href=\"#DejaVuSans-48\"/>\n       <use x=\"190.869141\" xlink:href=\"#DejaVuSans-48\"/>\n      </g>\n     </g>\n    </g>\n    <g id=\"text_8\">\n     <!-- year -->\n     <defs>\n      <path d=\"M 32.171875 -5.078125 \nQ 28.375 -14.84375 24.75 -17.8125 \nQ 21.140625 -20.796875 15.09375 -20.796875 \nL 7.90625 -20.796875 \nL 7.90625 -13.28125 \nL 13.1875 -13.28125 \nQ 16.890625 -13.28125 18.9375 -11.515625 \nQ 21 -9.765625 23.484375 -3.21875 \nL 25.09375 0.875 \nL 2.984375 54.6875 \nL 12.5 54.6875 \nL 29.59375 11.921875 \nL 46.6875 54.6875 \nL 56.203125 54.6875 \nz\n\" id=\"DejaVuSans-121\"/>\n      <path d=\"M 56.203125 29.59375 \nL 56.203125 25.203125 \nL 14.890625 25.203125 \nQ 15.484375 15.921875 20.484375 11.0625 \nQ 25.484375 6.203125 34.421875 6.203125 \nQ 39.59375 6.203125 44.453125 7.46875 \nQ 49.3125 8.734375 54.109375 11.28125 \nL 54.109375 2.78125 \nQ 49.265625 0.734375 44.1875 -0.34375 \nQ 39.109375 -1.421875 33.890625 -1.421875 \nQ 20.796875 -1.421875 13.15625 6.1875 \nQ 5.515625 13.8125 5.515625 26.8125 \nQ 5.515625 40.234375 12.765625 48.109375 \nQ 20.015625 56 32.328125 56 \nQ 43.359375 56 49.78125 48.890625 \nQ 56.203125 41.796875 56.203125 29.59375 \nz\nM 47.21875 32.234375 \nQ 47.125 39.59375 43.09375 43.984375 \nQ 39.0625 48.390625 32.421875 48.390625 \nQ 24.90625 48.390625 20.390625 44.140625 \nQ 15.875 39.890625 15.1875 32.171875 \nz\n\" id=\"DejaVuSans-101\"/>\n      <path d=\"M 34.28125 27.484375 \nQ 23.390625 27.484375 19.1875 25 \nQ 14.984375 22.515625 14.984375 16.5 \nQ 14.984375 11.71875 18.140625 8.90625 \nQ 21.296875 6.109375 26.703125 6.109375 \nQ 34.1875 6.109375 38.703125 11.40625 \nQ 43.21875 16.703125 43.21875 25.484375 \nL 43.21875 27.484375 \nz\nM 52.203125 31.203125 \nL 52.203125 0 \nL 43.21875 0 \nL 43.21875 8.296875 \nQ 40.140625 3.328125 35.546875 0.953125 \nQ 30.953125 -1.421875 24.3125 -1.421875 \nQ 15.921875 -1.421875 10.953125 3.296875 \nQ 6 8.015625 6 15.921875 \nQ 6 25.140625 12.171875 29.828125 \nQ 18.359375 34.515625 30.609375 34.515625 \nL 43.21875 34.515625 \nL 43.21875 35.40625 \nQ 43.21875 41.609375 39.140625 45 \nQ 35.0625 48.390625 27.6875 48.390625 \nQ 23 48.390625 18.546875 47.265625 \nQ 14.109375 46.140625 10.015625 43.890625 \nL 10.015625 52.203125 \nQ 14.9375 54.109375 19.578125 55.046875 \nQ 24.21875 56 28.609375 56 \nQ 40.484375 56 46.34375 49.84375 \nQ 52.203125 43.703125 52.203125 31.203125 \nz\n\" id=\"DejaVuSans-97\"/>\n      <path d=\"M 41.109375 46.296875 \nQ 39.59375 47.171875 37.8125 47.578125 \nQ 36.03125 48 33.890625 48 \nQ 26.265625 48 22.1875 43.046875 \nQ 18.109375 38.09375 18.109375 28.8125 \nL 18.109375 0 \nL 9.078125 0 \nL 9.078125 54.6875 \nL 18.109375 54.6875 \nL 18.109375 46.1875 \nQ 20.953125 51.171875 25.484375 53.578125 \nQ 30.03125 56 36.53125 56 \nQ 37.453125 56 38.578125 55.875 \nQ 39.703125 55.765625 41.0625 55.515625 \nz\n\" id=\"DejaVuSans-114\"/>\n     </defs>\n     <g style=\"fill:#262626;\" transform=\"translate(256.124687 366.624062)scale(0.12 -0.12)\">\n      <use xlink:href=\"#DejaVuSans-121\"/>\n      <use x=\"59.179688\" xlink:href=\"#DejaVuSans-101\"/>\n      <use x=\"120.703125\" xlink:href=\"#DejaVuSans-97\"/>\n      <use x=\"181.982422\" xlink:href=\"#DejaVuSans-114\"/>\n     </g>\n    </g>\n   </g>\n   <g id=\"matplotlib.axis_2\">\n    <g id=\"ytick_1\">\n     <g id=\"line2d_8\">\n      <path clip-path=\"url(#p62b06a4c95)\" d=\"M 46.31125 333.36 \nL 492.71125 333.36 \n\" style=\"fill:none;stroke:#ffffff;stroke-linecap:round;\"/>\n     </g>\n     <g id=\"text_9\">\n      <!-- 0 -->\n      <g style=\"fill:#262626;\" transform=\"translate(29.8125 337.539141)scale(0.11 -0.11)\">\n       <use xlink:href=\"#DejaVuSans-48\"/>\n      </g>\n     </g>\n    </g>\n    <g id=\"ytick_2\">\n     <g id=\"line2d_9\">\n      <path clip-path=\"url(#p62b06a4c95)\" d=\"M 46.31125 296.380408 \nL 492.71125 296.380408 \n\" style=\"fill:none;stroke:#ffffff;stroke-linecap:round;\"/>\n     </g>\n     <g id=\"text_10\">\n      <!-- 5 -->\n      <g style=\"fill:#262626;\" transform=\"translate(29.8125 300.559549)scale(0.11 -0.11)\">\n       <use xlink:href=\"#DejaVuSans-53\"/>\n      </g>\n     </g>\n    </g>\n    <g id=\"ytick_3\">\n     <g id=\"line2d_10\">\n      <path clip-path=\"url(#p62b06a4c95)\" d=\"M 46.31125 259.400816 \nL 492.71125 259.400816 \n\" style=\"fill:none;stroke:#ffffff;stroke-linecap:round;\"/>\n     </g>\n     <g id=\"text_11\">\n      <!-- 10 -->\n      <g style=\"fill:#262626;\" transform=\"translate(22.81375 263.579957)scale(0.11 -0.11)\">\n       <use xlink:href=\"#DejaVuSans-49\"/>\n       <use x=\"63.623047\" xlink:href=\"#DejaVuSans-48\"/>\n      </g>\n     </g>\n    </g>\n    <g id=\"ytick_4\">\n     <g id=\"line2d_11\">\n      <path clip-path=\"url(#p62b06a4c95)\" d=\"M 46.31125 222.421224 \nL 492.71125 222.421224 \n\" style=\"fill:none;stroke:#ffffff;stroke-linecap:round;\"/>\n     </g>\n     <g id=\"text_12\">\n      <!-- 15 -->\n      <g style=\"fill:#262626;\" transform=\"translate(22.81375 226.600365)scale(0.11 -0.11)\">\n       <use xlink:href=\"#DejaVuSans-49\"/>\n       <use x=\"63.623047\" xlink:href=\"#DejaVuSans-53\"/>\n      </g>\n     </g>\n    </g>\n    <g id=\"ytick_5\">\n     <g id=\"line2d_12\">\n      <path clip-path=\"url(#p62b06a4c95)\" d=\"M 46.31125 185.441633 \nL 492.71125 185.441633 \n\" style=\"fill:none;stroke:#ffffff;stroke-linecap:round;\"/>\n     </g>\n     <g id=\"text_13\">\n      <!-- 20 -->\n      <g style=\"fill:#262626;\" transform=\"translate(22.81375 189.620773)scale(0.11 -0.11)\">\n       <use xlink:href=\"#DejaVuSans-50\"/>\n       <use x=\"63.623047\" xlink:href=\"#DejaVuSans-48\"/>\n      </g>\n     </g>\n    </g>\n    <g id=\"ytick_6\">\n     <g id=\"line2d_13\">\n      <path clip-path=\"url(#p62b06a4c95)\" d=\"M 46.31125 148.462041 \nL 492.71125 148.462041 \n\" style=\"fill:none;stroke:#ffffff;stroke-linecap:round;\"/>\n     </g>\n     <g id=\"text_14\">\n      <!-- 25 -->\n      <g style=\"fill:#262626;\" transform=\"translate(22.81375 152.641181)scale(0.11 -0.11)\">\n       <use xlink:href=\"#DejaVuSans-50\"/>\n       <use x=\"63.623047\" xlink:href=\"#DejaVuSans-53\"/>\n      </g>\n     </g>\n    </g>\n    <g id=\"ytick_7\">\n     <g id=\"line2d_14\">\n      <path clip-path=\"url(#p62b06a4c95)\" d=\"M 46.31125 111.482449 \nL 492.71125 111.482449 \n\" style=\"fill:none;stroke:#ffffff;stroke-linecap:round;\"/>\n     </g>\n     <g id=\"text_15\">\n      <!-- 30 -->\n      <g style=\"fill:#262626;\" transform=\"translate(22.81375 115.66159)scale(0.11 -0.11)\">\n       <use xlink:href=\"#DejaVuSans-51\"/>\n       <use x=\"63.623047\" xlink:href=\"#DejaVuSans-48\"/>\n      </g>\n     </g>\n    </g>\n    <g id=\"ytick_8\">\n     <g id=\"line2d_15\">\n      <path clip-path=\"url(#p62b06a4c95)\" d=\"M 46.31125 74.502857 \nL 492.71125 74.502857 \n\" style=\"fill:none;stroke:#ffffff;stroke-linecap:round;\"/>\n     </g>\n     <g id=\"text_16\">\n      <!-- 35 -->\n      <g style=\"fill:#262626;\" transform=\"translate(22.81375 78.681998)scale(0.11 -0.11)\">\n       <use xlink:href=\"#DejaVuSans-51\"/>\n       <use x=\"63.623047\" xlink:href=\"#DejaVuSans-53\"/>\n      </g>\n     </g>\n    </g>\n    <g id=\"ytick_9\">\n     <g id=\"line2d_16\">\n      <path clip-path=\"url(#p62b06a4c95)\" d=\"M 46.31125 37.523265 \nL 492.71125 37.523265 \n\" style=\"fill:none;stroke:#ffffff;stroke-linecap:round;\"/>\n     </g>\n     <g id=\"text_17\">\n      <!-- 40 -->\n      <g style=\"fill:#262626;\" transform=\"translate(22.81375 41.702406)scale(0.11 -0.11)\">\n       <use xlink:href=\"#DejaVuSans-52\"/>\n       <use x=\"63.623047\" xlink:href=\"#DejaVuSans-48\"/>\n      </g>\n     </g>\n    </g>\n    <g id=\"text_18\">\n     <!-- Count -->\n     <defs>\n      <path d=\"M 64.40625 67.28125 \nL 64.40625 56.890625 \nQ 59.421875 61.53125 53.78125 63.8125 \nQ 48.140625 66.109375 41.796875 66.109375 \nQ 29.296875 66.109375 22.65625 58.46875 \nQ 16.015625 50.828125 16.015625 36.375 \nQ 16.015625 21.96875 22.65625 14.328125 \nQ 29.296875 6.6875 41.796875 6.6875 \nQ 48.140625 6.6875 53.78125 8.984375 \nQ 59.421875 11.28125 64.40625 15.921875 \nL 64.40625 5.609375 \nQ 59.234375 2.09375 53.4375 0.328125 \nQ 47.65625 -1.421875 41.21875 -1.421875 \nQ 24.65625 -1.421875 15.125 8.703125 \nQ 5.609375 18.84375 5.609375 36.375 \nQ 5.609375 53.953125 15.125 64.078125 \nQ 24.65625 74.21875 41.21875 74.21875 \nQ 47.75 74.21875 53.53125 72.484375 \nQ 59.328125 70.75 64.40625 67.28125 \nz\n\" id=\"DejaVuSans-67\"/>\n      <path d=\"M 30.609375 48.390625 \nQ 23.390625 48.390625 19.1875 42.75 \nQ 14.984375 37.109375 14.984375 27.296875 \nQ 14.984375 17.484375 19.15625 11.84375 \nQ 23.34375 6.203125 30.609375 6.203125 \nQ 37.796875 6.203125 41.984375 11.859375 \nQ 46.1875 17.53125 46.1875 27.296875 \nQ 46.1875 37.015625 41.984375 42.703125 \nQ 37.796875 48.390625 30.609375 48.390625 \nz\nM 30.609375 56 \nQ 42.328125 56 49.015625 48.375 \nQ 55.71875 40.765625 55.71875 27.296875 \nQ 55.71875 13.875 49.015625 6.21875 \nQ 42.328125 -1.421875 30.609375 -1.421875 \nQ 18.84375 -1.421875 12.171875 6.21875 \nQ 5.515625 13.875 5.515625 27.296875 \nQ 5.515625 40.765625 12.171875 48.375 \nQ 18.84375 56 30.609375 56 \nz\n\" id=\"DejaVuSans-111\"/>\n      <path d=\"M 8.5 21.578125 \nL 8.5 54.6875 \nL 17.484375 54.6875 \nL 17.484375 21.921875 \nQ 17.484375 14.15625 20.5 10.265625 \nQ 23.53125 6.390625 29.59375 6.390625 \nQ 36.859375 6.390625 41.078125 11.03125 \nQ 45.3125 15.671875 45.3125 23.6875 \nL 45.3125 54.6875 \nL 54.296875 54.6875 \nL 54.296875 0 \nL 45.3125 0 \nL 45.3125 8.40625 \nQ 42.046875 3.421875 37.71875 1 \nQ 33.40625 -1.421875 27.6875 -1.421875 \nQ 18.265625 -1.421875 13.375 4.4375 \nQ 8.5 10.296875 8.5 21.578125 \nz\nM 31.109375 56 \nz\n\" id=\"DejaVuSans-117\"/>\n      <path d=\"M 54.890625 33.015625 \nL 54.890625 0 \nL 45.90625 0 \nL 45.90625 32.71875 \nQ 45.90625 40.484375 42.875 44.328125 \nQ 39.84375 48.1875 33.796875 48.1875 \nQ 26.515625 48.1875 22.3125 43.546875 \nQ 18.109375 38.921875 18.109375 30.90625 \nL 18.109375 0 \nL 9.078125 0 \nL 9.078125 54.6875 \nL 18.109375 54.6875 \nL 18.109375 46.1875 \nQ 21.34375 51.125 25.703125 53.5625 \nQ 30.078125 56 35.796875 56 \nQ 45.21875 56 50.046875 50.171875 \nQ 54.890625 44.34375 54.890625 33.015625 \nz\n\" id=\"DejaVuSans-110\"/>\n      <path d=\"M 18.3125 70.21875 \nL 18.3125 54.6875 \nL 36.8125 54.6875 \nL 36.8125 47.703125 \nL 18.3125 47.703125 \nL 18.3125 18.015625 \nQ 18.3125 11.328125 20.140625 9.421875 \nQ 21.96875 7.515625 27.59375 7.515625 \nL 36.8125 7.515625 \nL 36.8125 0 \nL 27.59375 0 \nQ 17.1875 0 13.234375 3.875 \nQ 9.28125 7.765625 9.28125 18.015625 \nL 9.28125 47.703125 \nL 2.6875 47.703125 \nL 2.6875 54.6875 \nL 9.28125 54.6875 \nL 9.28125 70.21875 \nz\n\" id=\"DejaVuSans-116\"/>\n     </defs>\n     <g style=\"fill:#262626;\" transform=\"translate(16.318125 188.098125)rotate(-90)scale(0.12 -0.12)\">\n      <use xlink:href=\"#DejaVuSans-67\"/>\n      <use x=\"69.824219\" xlink:href=\"#DejaVuSans-111\"/>\n      <use x=\"131.005859\" xlink:href=\"#DejaVuSans-117\"/>\n      <use x=\"194.384766\" xlink:href=\"#DejaVuSans-110\"/>\n      <use x=\"257.763672\" xlink:href=\"#DejaVuSans-116\"/>\n     </g>\n    </g>\n   </g>\n   <g id=\"patch_3\">\n    <path clip-path=\"url(#p62b06a4c95)\" d=\"M 66.602159 333.36 \nL 68.601263 333.36 \nL 68.601263 325.964082 \nL 66.602159 325.964082 \nz\n\" style=\"fill:#4c72b0;fill-opacity:0.75;stroke:#ffffff;stroke-linejoin:miter;stroke-width:0.19991;\"/>\n   </g>\n   <g id=\"patch_4\">\n    <path clip-path=\"url(#p62b06a4c95)\" d=\"M 68.601263 333.36 \nL 70.600368 333.36 \nL 70.600368 333.36 \nL 68.601263 333.36 \nz\n\" style=\"fill:#4c72b0;fill-opacity:0.75;stroke:#ffffff;stroke-linejoin:miter;stroke-width:0.19991;\"/>\n   </g>\n   <g id=\"patch_5\">\n    <path clip-path=\"url(#p62b06a4c95)\" d=\"M 70.600368 333.36 \nL 72.599472 333.36 \nL 72.599472 333.36 \nL 70.600368 333.36 \nz\n\" style=\"fill:#4c72b0;fill-opacity:0.75;stroke:#ffffff;stroke-linejoin:miter;stroke-width:0.19991;\"/>\n   </g>\n   <g id=\"patch_6\">\n    <path clip-path=\"url(#p62b06a4c95)\" d=\"M 72.599472 333.36 \nL 74.598576 333.36 \nL 74.598576 325.964082 \nL 72.599472 325.964082 \nz\n\" style=\"fill:#4c72b0;fill-opacity:0.75;stroke:#ffffff;stroke-linejoin:miter;stroke-width:0.19991;\"/>\n   </g>\n   <g id=\"patch_7\">\n    <path clip-path=\"url(#p62b06a4c95)\" d=\"M 74.598576 333.36 \nL 76.597681 333.36 \nL 76.597681 333.36 \nL 74.598576 333.36 \nz\n\" style=\"fill:#4c72b0;fill-opacity:0.75;stroke:#ffffff;stroke-linejoin:miter;stroke-width:0.19991;\"/>\n   </g>\n   <g id=\"patch_8\">\n    <path clip-path=\"url(#p62b06a4c95)\" d=\"M 76.597681 333.36 \nL 78.596785 333.36 \nL 78.596785 333.36 \nL 76.597681 333.36 \nz\n\" style=\"fill:#4c72b0;fill-opacity:0.75;stroke:#ffffff;stroke-linejoin:miter;stroke-width:0.19991;\"/>\n   </g>\n   <g id=\"patch_9\">\n    <path clip-path=\"url(#p62b06a4c95)\" d=\"M 78.596785 333.36 \nL 80.595889 333.36 \nL 80.595889 333.36 \nL 78.596785 333.36 \nz\n\" style=\"fill:#4c72b0;fill-opacity:0.75;stroke:#ffffff;stroke-linejoin:miter;stroke-width:0.19991;\"/>\n   </g>\n   <g id=\"patch_10\">\n    <path clip-path=\"url(#p62b06a4c95)\" d=\"M 80.595889 333.36 \nL 82.594994 333.36 \nL 82.594994 333.36 \nL 80.595889 333.36 \nz\n\" style=\"fill:#4c72b0;fill-opacity:0.75;stroke:#ffffff;stroke-linejoin:miter;stroke-width:0.19991;\"/>\n   </g>\n   <g id=\"patch_11\">\n    <path clip-path=\"url(#p62b06a4c95)\" d=\"M 82.594994 333.36 \nL 84.594098 333.36 \nL 84.594098 333.36 \nL 82.594994 333.36 \nz\n\" style=\"fill:#4c72b0;fill-opacity:0.75;stroke:#ffffff;stroke-linejoin:miter;stroke-width:0.19991;\"/>\n   </g>\n   <g id=\"patch_12\">\n    <path clip-path=\"url(#p62b06a4c95)\" d=\"M 84.594098 333.36 \nL 86.593203 333.36 \nL 86.593203 325.964082 \nL 84.594098 325.964082 \nz\n\" style=\"fill:#4c72b0;fill-opacity:0.75;stroke:#ffffff;stroke-linejoin:miter;stroke-width:0.19991;\"/>\n   </g>\n   <g id=\"patch_13\">\n    <path clip-path=\"url(#p62b06a4c95)\" d=\"M 86.593203 333.36 \nL 88.592307 333.36 \nL 88.592307 333.36 \nL 86.593203 333.36 \nz\n\" style=\"fill:#4c72b0;fill-opacity:0.75;stroke:#ffffff;stroke-linejoin:miter;stroke-width:0.19991;\"/>\n   </g>\n   <g id=\"patch_14\">\n    <path clip-path=\"url(#p62b06a4c95)\" d=\"M 88.592307 333.36 \nL 90.591411 333.36 \nL 90.591411 333.36 \nL 88.592307 333.36 \nz\n\" style=\"fill:#4c72b0;fill-opacity:0.75;stroke:#ffffff;stroke-linejoin:miter;stroke-width:0.19991;\"/>\n   </g>\n   <g id=\"patch_15\">\n    <path clip-path=\"url(#p62b06a4c95)\" d=\"M 90.591411 333.36 \nL 92.590516 333.36 \nL 92.590516 333.36 \nL 90.591411 333.36 \nz\n\" style=\"fill:#4c72b0;fill-opacity:0.75;stroke:#ffffff;stroke-linejoin:miter;stroke-width:0.19991;\"/>\n   </g>\n   <g id=\"patch_16\">\n    <path clip-path=\"url(#p62b06a4c95)\" d=\"M 92.590516 333.36 \nL 94.58962 333.36 \nL 94.58962 333.36 \nL 92.590516 333.36 \nz\n\" style=\"fill:#4c72b0;fill-opacity:0.75;stroke:#ffffff;stroke-linejoin:miter;stroke-width:0.19991;\"/>\n   </g>\n   <g id=\"patch_17\">\n    <path clip-path=\"url(#p62b06a4c95)\" d=\"M 94.58962 333.36 \nL 96.588724 333.36 \nL 96.588724 333.36 \nL 94.58962 333.36 \nz\n\" style=\"fill:#4c72b0;fill-opacity:0.75;stroke:#ffffff;stroke-linejoin:miter;stroke-width:0.19991;\"/>\n   </g>\n   <g id=\"patch_18\">\n    <path clip-path=\"url(#p62b06a4c95)\" d=\"M 96.588724 333.36 \nL 98.587829 333.36 \nL 98.587829 333.36 \nL 96.588724 333.36 \nz\n\" style=\"fill:#4c72b0;fill-opacity:0.75;stroke:#ffffff;stroke-linejoin:miter;stroke-width:0.19991;\"/>\n   </g>\n   <g id=\"patch_19\">\n    <path clip-path=\"url(#p62b06a4c95)\" d=\"M 98.587829 333.36 \nL 100.586933 333.36 \nL 100.586933 325.964082 \nL 98.587829 325.964082 \nz\n\" style=\"fill:#4c72b0;fill-opacity:0.75;stroke:#ffffff;stroke-linejoin:miter;stroke-width:0.19991;\"/>\n   </g>\n   <g id=\"patch_20\">\n    <path clip-path=\"url(#p62b06a4c95)\" d=\"M 100.586933 333.36 \nL 102.586037 333.36 \nL 102.586037 325.964082 \nL 100.586933 325.964082 \nz\n\" style=\"fill:#4c72b0;fill-opacity:0.75;stroke:#ffffff;stroke-linejoin:miter;stroke-width:0.19991;\"/>\n   </g>\n   <g id=\"patch_21\">\n    <path clip-path=\"url(#p62b06a4c95)\" d=\"M 102.586037 333.36 \nL 104.585142 333.36 \nL 104.585142 333.36 \nL 102.586037 333.36 \nz\n\" style=\"fill:#4c72b0;fill-opacity:0.75;stroke:#ffffff;stroke-linejoin:miter;stroke-width:0.19991;\"/>\n   </g>\n   <g id=\"patch_22\">\n    <path clip-path=\"url(#p62b06a4c95)\" d=\"M 104.585142 333.36 \nL 106.584246 333.36 \nL 106.584246 333.36 \nL 104.585142 333.36 \nz\n\" style=\"fill:#4c72b0;fill-opacity:0.75;stroke:#ffffff;stroke-linejoin:miter;stroke-width:0.19991;\"/>\n   </g>\n   <g id=\"patch_23\">\n    <path clip-path=\"url(#p62b06a4c95)\" d=\"M 106.584246 333.36 \nL 108.58335 333.36 \nL 108.58335 333.36 \nL 106.584246 333.36 \nz\n\" style=\"fill:#4c72b0;fill-opacity:0.75;stroke:#ffffff;stroke-linejoin:miter;stroke-width:0.19991;\"/>\n   </g>\n   <g id=\"patch_24\">\n    <path clip-path=\"url(#p62b06a4c95)\" d=\"M 108.58335 333.36 \nL 110.582455 333.36 \nL 110.582455 333.36 \nL 108.58335 333.36 \nz\n\" style=\"fill:#4c72b0;fill-opacity:0.75;stroke:#ffffff;stroke-linejoin:miter;stroke-width:0.19991;\"/>\n   </g>\n   <g id=\"patch_25\">\n    <path clip-path=\"url(#p62b06a4c95)\" d=\"M 110.582455 333.36 \nL 112.581559 333.36 \nL 112.581559 333.36 \nL 110.582455 333.36 \nz\n\" style=\"fill:#4c72b0;fill-opacity:0.75;stroke:#ffffff;stroke-linejoin:miter;stroke-width:0.19991;\"/>\n   </g>\n   <g id=\"patch_26\">\n    <path clip-path=\"url(#p62b06a4c95)\" d=\"M 112.581559 333.36 \nL 114.580663 333.36 \nL 114.580663 333.36 \nL 112.581559 333.36 \nz\n\" style=\"fill:#4c72b0;fill-opacity:0.75;stroke:#ffffff;stroke-linejoin:miter;stroke-width:0.19991;\"/>\n   </g>\n   <g id=\"patch_27\">\n    <path clip-path=\"url(#p62b06a4c95)\" d=\"M 114.580663 333.36 \nL 116.579768 333.36 \nL 116.579768 333.36 \nL 114.580663 333.36 \nz\n\" style=\"fill:#4c72b0;fill-opacity:0.75;stroke:#ffffff;stroke-linejoin:miter;stroke-width:0.19991;\"/>\n   </g>\n   <g id=\"patch_28\">\n    <path clip-path=\"url(#p62b06a4c95)\" d=\"M 116.579768 333.36 \nL 118.578872 333.36 \nL 118.578872 333.36 \nL 116.579768 333.36 \nz\n\" style=\"fill:#4c72b0;fill-opacity:0.75;stroke:#ffffff;stroke-linejoin:miter;stroke-width:0.19991;\"/>\n   </g>\n   <g id=\"patch_29\">\n    <path clip-path=\"url(#p62b06a4c95)\" d=\"M 118.578872 333.36 \nL 120.577976 333.36 \nL 120.577976 333.36 \nL 118.578872 333.36 \nz\n\" style=\"fill:#4c72b0;fill-opacity:0.75;stroke:#ffffff;stroke-linejoin:miter;stroke-width:0.19991;\"/>\n   </g>\n   <g id=\"patch_30\">\n    <path clip-path=\"url(#p62b06a4c95)\" d=\"M 120.577976 333.36 \nL 122.577081 333.36 \nL 122.577081 333.36 \nL 120.577976 333.36 \nz\n\" style=\"fill:#4c72b0;fill-opacity:0.75;stroke:#ffffff;stroke-linejoin:miter;stroke-width:0.19991;\"/>\n   </g>\n   <g id=\"patch_31\">\n    <path clip-path=\"url(#p62b06a4c95)\" d=\"M 122.577081 333.36 \nL 124.576185 333.36 \nL 124.576185 325.964082 \nL 122.577081 325.964082 \nz\n\" style=\"fill:#4c72b0;fill-opacity:0.75;stroke:#ffffff;stroke-linejoin:miter;stroke-width:0.19991;\"/>\n   </g>\n   <g id=\"patch_32\">\n    <path clip-path=\"url(#p62b06a4c95)\" d=\"M 124.576185 333.36 \nL 126.575289 333.36 \nL 126.575289 333.36 \nL 124.576185 333.36 \nz\n\" style=\"fill:#4c72b0;fill-opacity:0.75;stroke:#ffffff;stroke-linejoin:miter;stroke-width:0.19991;\"/>\n   </g>\n   <g id=\"patch_33\">\n    <path clip-path=\"url(#p62b06a4c95)\" d=\"M 126.575289 333.36 \nL 128.574394 333.36 \nL 128.574394 333.36 \nL 126.575289 333.36 \nz\n\" style=\"fill:#4c72b0;fill-opacity:0.75;stroke:#ffffff;stroke-linejoin:miter;stroke-width:0.19991;\"/>\n   </g>\n   <g id=\"patch_34\">\n    <path clip-path=\"url(#p62b06a4c95)\" d=\"M 128.574394 333.36 \nL 130.573498 333.36 \nL 130.573498 333.36 \nL 128.574394 333.36 \nz\n\" style=\"fill:#4c72b0;fill-opacity:0.75;stroke:#ffffff;stroke-linejoin:miter;stroke-width:0.19991;\"/>\n   </g>\n   <g id=\"patch_35\">\n    <path clip-path=\"url(#p62b06a4c95)\" d=\"M 130.573498 333.36 \nL 132.572602 333.36 \nL 132.572602 325.964082 \nL 130.573498 325.964082 \nz\n\" style=\"fill:#4c72b0;fill-opacity:0.75;stroke:#ffffff;stroke-linejoin:miter;stroke-width:0.19991;\"/>\n   </g>\n   <g id=\"patch_36\">\n    <path clip-path=\"url(#p62b06a4c95)\" d=\"M 132.572602 333.36 \nL 134.571707 333.36 \nL 134.571707 333.36 \nL 132.572602 333.36 \nz\n\" style=\"fill:#4c72b0;fill-opacity:0.75;stroke:#ffffff;stroke-linejoin:miter;stroke-width:0.19991;\"/>\n   </g>\n   <g id=\"patch_37\">\n    <path clip-path=\"url(#p62b06a4c95)\" d=\"M 134.571707 333.36 \nL 136.570811 333.36 \nL 136.570811 333.36 \nL 134.571707 333.36 \nz\n\" style=\"fill:#4c72b0;fill-opacity:0.75;stroke:#ffffff;stroke-linejoin:miter;stroke-width:0.19991;\"/>\n   </g>\n   <g id=\"patch_38\">\n    <path clip-path=\"url(#p62b06a4c95)\" d=\"M 136.570811 333.36 \nL 138.569915 333.36 \nL 138.569915 333.36 \nL 136.570811 333.36 \nz\n\" style=\"fill:#4c72b0;fill-opacity:0.75;stroke:#ffffff;stroke-linejoin:miter;stroke-width:0.19991;\"/>\n   </g>\n   <g id=\"patch_39\">\n    <path clip-path=\"url(#p62b06a4c95)\" d=\"M 138.569915 333.36 \nL 140.56902 333.36 \nL 140.56902 333.36 \nL 138.569915 333.36 \nz\n\" style=\"fill:#4c72b0;fill-opacity:0.75;stroke:#ffffff;stroke-linejoin:miter;stroke-width:0.19991;\"/>\n   </g>\n   <g id=\"patch_40\">\n    <path clip-path=\"url(#p62b06a4c95)\" d=\"M 140.56902 333.36 \nL 142.568124 333.36 \nL 142.568124 333.36 \nL 140.56902 333.36 \nz\n\" style=\"fill:#4c72b0;fill-opacity:0.75;stroke:#ffffff;stroke-linejoin:miter;stroke-width:0.19991;\"/>\n   </g>\n   <g id=\"patch_41\">\n    <path clip-path=\"url(#p62b06a4c95)\" d=\"M 142.568124 333.36 \nL 144.567229 333.36 \nL 144.567229 325.964082 \nL 142.568124 325.964082 \nz\n\" style=\"fill:#4c72b0;fill-opacity:0.75;stroke:#ffffff;stroke-linejoin:miter;stroke-width:0.19991;\"/>\n   </g>\n   <g id=\"patch_42\">\n    <path clip-path=\"url(#p62b06a4c95)\" d=\"M 144.567229 333.36 \nL 146.566333 333.36 \nL 146.566333 333.36 \nL 144.567229 333.36 \nz\n\" style=\"fill:#4c72b0;fill-opacity:0.75;stroke:#ffffff;stroke-linejoin:miter;stroke-width:0.19991;\"/>\n   </g>\n   <g id=\"patch_43\">\n    <path clip-path=\"url(#p62b06a4c95)\" d=\"M 146.566333 333.36 \nL 148.565437 333.36 \nL 148.565437 333.36 \nL 146.566333 333.36 \nz\n\" style=\"fill:#4c72b0;fill-opacity:0.75;stroke:#ffffff;stroke-linejoin:miter;stroke-width:0.19991;\"/>\n   </g>\n   <g id=\"patch_44\">\n    <path clip-path=\"url(#p62b06a4c95)\" d=\"M 148.565437 333.36 \nL 150.564542 333.36 \nL 150.564542 333.36 \nL 148.565437 333.36 \nz\n\" style=\"fill:#4c72b0;fill-opacity:0.75;stroke:#ffffff;stroke-linejoin:miter;stroke-width:0.19991;\"/>\n   </g>\n   <g id=\"patch_45\">\n    <path clip-path=\"url(#p62b06a4c95)\" d=\"M 150.564542 333.36 \nL 152.563646 333.36 \nL 152.563646 333.36 \nL 150.564542 333.36 \nz\n\" style=\"fill:#4c72b0;fill-opacity:0.75;stroke:#ffffff;stroke-linejoin:miter;stroke-width:0.19991;\"/>\n   </g>\n   <g id=\"patch_46\">\n    <path clip-path=\"url(#p62b06a4c95)\" d=\"M 152.563646 333.36 \nL 154.56275 333.36 \nL 154.56275 333.36 \nL 152.563646 333.36 \nz\n\" style=\"fill:#4c72b0;fill-opacity:0.75;stroke:#ffffff;stroke-linejoin:miter;stroke-width:0.19991;\"/>\n   </g>\n   <g id=\"patch_47\">\n    <path clip-path=\"url(#p62b06a4c95)\" d=\"M 154.56275 333.36 \nL 156.561855 333.36 \nL 156.561855 333.36 \nL 154.56275 333.36 \nz\n\" style=\"fill:#4c72b0;fill-opacity:0.75;stroke:#ffffff;stroke-linejoin:miter;stroke-width:0.19991;\"/>\n   </g>\n   <g id=\"patch_48\">\n    <path clip-path=\"url(#p62b06a4c95)\" d=\"M 156.561855 333.36 \nL 158.560959 333.36 \nL 158.560959 325.964082 \nL 156.561855 325.964082 \nz\n\" style=\"fill:#4c72b0;fill-opacity:0.75;stroke:#ffffff;stroke-linejoin:miter;stroke-width:0.19991;\"/>\n   </g>\n   <g id=\"patch_49\">\n    <path clip-path=\"url(#p62b06a4c95)\" d=\"M 158.560959 333.36 \nL 160.560063 333.36 \nL 160.560063 333.36 \nL 158.560959 333.36 \nz\n\" style=\"fill:#4c72b0;fill-opacity:0.75;stroke:#ffffff;stroke-linejoin:miter;stroke-width:0.19991;\"/>\n   </g>\n   <g id=\"patch_50\">\n    <path clip-path=\"url(#p62b06a4c95)\" d=\"M 160.560063 333.36 \nL 162.559168 333.36 \nL 162.559168 333.36 \nL 160.560063 333.36 \nz\n\" style=\"fill:#4c72b0;fill-opacity:0.75;stroke:#ffffff;stroke-linejoin:miter;stroke-width:0.19991;\"/>\n   </g>\n   <g id=\"patch_51\">\n    <path clip-path=\"url(#p62b06a4c95)\" d=\"M 162.559168 333.36 \nL 164.558272 333.36 \nL 164.558272 333.36 \nL 162.559168 333.36 \nz\n\" style=\"fill:#4c72b0;fill-opacity:0.75;stroke:#ffffff;stroke-linejoin:miter;stroke-width:0.19991;\"/>\n   </g>\n   <g id=\"patch_52\">\n    <path clip-path=\"url(#p62b06a4c95)\" d=\"M 164.558272 333.36 \nL 166.557376 333.36 \nL 166.557376 333.36 \nL 164.558272 333.36 \nz\n\" style=\"fill:#4c72b0;fill-opacity:0.75;stroke:#ffffff;stroke-linejoin:miter;stroke-width:0.19991;\"/>\n   </g>\n   <g id=\"patch_53\">\n    <path clip-path=\"url(#p62b06a4c95)\" d=\"M 166.557376 333.36 \nL 168.556481 333.36 \nL 168.556481 333.36 \nL 166.557376 333.36 \nz\n\" style=\"fill:#4c72b0;fill-opacity:0.75;stroke:#ffffff;stroke-linejoin:miter;stroke-width:0.19991;\"/>\n   </g>\n   <g id=\"patch_54\">\n    <path clip-path=\"url(#p62b06a4c95)\" d=\"M 168.556481 333.36 \nL 170.555585 333.36 \nL 170.555585 333.36 \nL 168.556481 333.36 \nz\n\" style=\"fill:#4c72b0;fill-opacity:0.75;stroke:#ffffff;stroke-linejoin:miter;stroke-width:0.19991;\"/>\n   </g>\n   <g id=\"patch_55\">\n    <path clip-path=\"url(#p62b06a4c95)\" d=\"M 170.555585 333.36 \nL 172.554689 333.36 \nL 172.554689 333.36 \nL 170.555585 333.36 \nz\n\" style=\"fill:#4c72b0;fill-opacity:0.75;stroke:#ffffff;stroke-linejoin:miter;stroke-width:0.19991;\"/>\n   </g>\n   <g id=\"patch_56\">\n    <path clip-path=\"url(#p62b06a4c95)\" d=\"M 172.554689 333.36 \nL 174.553794 333.36 \nL 174.553794 333.36 \nL 172.554689 333.36 \nz\n\" style=\"fill:#4c72b0;fill-opacity:0.75;stroke:#ffffff;stroke-linejoin:miter;stroke-width:0.19991;\"/>\n   </g>\n   <g id=\"patch_57\">\n    <path clip-path=\"url(#p62b06a4c95)\" d=\"M 174.553794 333.36 \nL 176.552898 333.36 \nL 176.552898 325.964082 \nL 174.553794 325.964082 \nz\n\" style=\"fill:#4c72b0;fill-opacity:0.75;stroke:#ffffff;stroke-linejoin:miter;stroke-width:0.19991;\"/>\n   </g>\n   <g id=\"patch_58\">\n    <path clip-path=\"url(#p62b06a4c95)\" d=\"M 176.552898 333.36 \nL 178.552002 333.36 \nL 178.552002 333.36 \nL 176.552898 333.36 \nz\n\" style=\"fill:#4c72b0;fill-opacity:0.75;stroke:#ffffff;stroke-linejoin:miter;stroke-width:0.19991;\"/>\n   </g>\n   <g id=\"patch_59\">\n    <path clip-path=\"url(#p62b06a4c95)\" d=\"M 178.552002 333.36 \nL 180.551107 333.36 \nL 180.551107 333.36 \nL 178.552002 333.36 \nz\n\" style=\"fill:#4c72b0;fill-opacity:0.75;stroke:#ffffff;stroke-linejoin:miter;stroke-width:0.19991;\"/>\n   </g>\n   <g id=\"patch_60\">\n    <path clip-path=\"url(#p62b06a4c95)\" d=\"M 180.551107 333.36 \nL 182.550211 333.36 \nL 182.550211 281.588571 \nL 180.551107 281.588571 \nz\n\" style=\"fill:#4c72b0;fill-opacity:0.75;stroke:#ffffff;stroke-linejoin:miter;stroke-width:0.19991;\"/>\n   </g>\n   <g id=\"patch_61\">\n    <path clip-path=\"url(#p62b06a4c95)\" d=\"M 182.550211 333.36 \nL 184.549315 333.36 \nL 184.549315 325.964082 \nL 182.550211 325.964082 \nz\n\" style=\"fill:#4c72b0;fill-opacity:0.75;stroke:#ffffff;stroke-linejoin:miter;stroke-width:0.19991;\"/>\n   </g>\n   <g id=\"patch_62\">\n    <path clip-path=\"url(#p62b06a4c95)\" d=\"M 184.549315 333.36 \nL 186.54842 333.36 \nL 186.54842 325.964082 \nL 184.549315 325.964082 \nz\n\" style=\"fill:#4c72b0;fill-opacity:0.75;stroke:#ffffff;stroke-linejoin:miter;stroke-width:0.19991;\"/>\n   </g>\n   <g id=\"patch_63\">\n    <path clip-path=\"url(#p62b06a4c95)\" d=\"M 186.54842 333.36 \nL 188.547524 333.36 \nL 188.547524 325.964082 \nL 186.54842 325.964082 \nz\n\" style=\"fill:#4c72b0;fill-opacity:0.75;stroke:#ffffff;stroke-linejoin:miter;stroke-width:0.19991;\"/>\n   </g>\n   <g id=\"patch_64\">\n    <path clip-path=\"url(#p62b06a4c95)\" d=\"M 188.547524 333.36 \nL 190.546628 333.36 \nL 190.546628 207.629388 \nL 188.547524 207.629388 \nz\n\" style=\"fill:#4c72b0;fill-opacity:0.75;stroke:#ffffff;stroke-linejoin:miter;stroke-width:0.19991;\"/>\n   </g>\n   <g id=\"patch_65\">\n    <path clip-path=\"url(#p62b06a4c95)\" d=\"M 190.546628 333.36 \nL 192.545733 333.36 \nL 192.545733 222.421224 \nL 190.546628 222.421224 \nz\n\" style=\"fill:#4c72b0;fill-opacity:0.75;stroke:#ffffff;stroke-linejoin:miter;stroke-width:0.19991;\"/>\n   </g>\n   <g id=\"patch_66\">\n    <path clip-path=\"url(#p62b06a4c95)\" d=\"M 192.545733 333.36 \nL 194.544837 333.36 \nL 194.544837 67.106939 \nL 192.545733 67.106939 \nz\n\" style=\"fill:#4c72b0;fill-opacity:0.75;stroke:#ffffff;stroke-linejoin:miter;stroke-width:0.19991;\"/>\n   </g>\n   <g id=\"patch_67\">\n    <path clip-path=\"url(#p62b06a4c95)\" d=\"M 194.544837 333.36 \nL 196.543941 333.36 \nL 196.543941 22.731429 \nL 194.544837 22.731429 \nz\n\" style=\"fill:#4c72b0;fill-opacity:0.75;stroke:#ffffff;stroke-linejoin:miter;stroke-width:0.19991;\"/>\n   </g>\n   <g id=\"patch_68\">\n    <path clip-path=\"url(#p62b06a4c95)\" d=\"M 196.543941 333.36 \nL 198.543046 333.36 \nL 198.543046 237.213061 \nL 196.543941 237.213061 \nz\n\" style=\"fill:#4c72b0;fill-opacity:0.75;stroke:#ffffff;stroke-linejoin:miter;stroke-width:0.19991;\"/>\n   </g>\n   <g id=\"patch_69\">\n    <path clip-path=\"url(#p62b06a4c95)\" d=\"M 198.543046 333.36 \nL 200.54215 333.36 \nL 200.54215 296.380408 \nL 198.543046 296.380408 \nz\n\" style=\"fill:#4c72b0;fill-opacity:0.75;stroke:#ffffff;stroke-linejoin:miter;stroke-width:0.19991;\"/>\n   </g>\n   <g id=\"patch_70\">\n    <path clip-path=\"url(#p62b06a4c95)\" d=\"M 200.54215 333.36 \nL 202.541254 333.36 \nL 202.541254 311.172245 \nL 200.54215 311.172245 \nz\n\" style=\"fill:#4c72b0;fill-opacity:0.75;stroke:#ffffff;stroke-linejoin:miter;stroke-width:0.19991;\"/>\n   </g>\n   <g id=\"patch_71\">\n    <path clip-path=\"url(#p62b06a4c95)\" d=\"M 202.541254 333.36 \nL 204.540359 333.36 \nL 204.540359 325.964082 \nL 202.541254 325.964082 \nz\n\" style=\"fill:#4c72b0;fill-opacity:0.75;stroke:#ffffff;stroke-linejoin:miter;stroke-width:0.19991;\"/>\n   </g>\n   <g id=\"patch_72\">\n    <path clip-path=\"url(#p62b06a4c95)\" d=\"M 204.540359 333.36 \nL 206.539463 333.36 \nL 206.539463 325.964082 \nL 204.540359 325.964082 \nz\n\" style=\"fill:#4c72b0;fill-opacity:0.75;stroke:#ffffff;stroke-linejoin:miter;stroke-width:0.19991;\"/>\n   </g>\n   <g id=\"patch_73\">\n    <path clip-path=\"url(#p62b06a4c95)\" d=\"M 206.539463 333.36 \nL 208.538568 333.36 \nL 208.538568 311.172245 \nL 206.539463 311.172245 \nz\n\" style=\"fill:#4c72b0;fill-opacity:0.75;stroke:#ffffff;stroke-linejoin:miter;stroke-width:0.19991;\"/>\n   </g>\n   <g id=\"patch_74\">\n    <path clip-path=\"url(#p62b06a4c95)\" d=\"M 208.538568 333.36 \nL 210.537672 333.36 \nL 210.537672 325.964082 \nL 208.538568 325.964082 \nz\n\" style=\"fill:#4c72b0;fill-opacity:0.75;stroke:#ffffff;stroke-linejoin:miter;stroke-width:0.19991;\"/>\n   </g>\n   <g id=\"patch_75\">\n    <path clip-path=\"url(#p62b06a4c95)\" d=\"M 210.537672 333.36 \nL 212.536776 333.36 \nL 212.536776 333.36 \nL 210.537672 333.36 \nz\n\" style=\"fill:#4c72b0;fill-opacity:0.75;stroke:#ffffff;stroke-linejoin:miter;stroke-width:0.19991;\"/>\n   </g>\n   <g id=\"patch_76\">\n    <path clip-path=\"url(#p62b06a4c95)\" d=\"M 212.536776 333.36 \nL 214.535881 333.36 \nL 214.535881 325.964082 \nL 212.536776 325.964082 \nz\n\" style=\"fill:#4c72b0;fill-opacity:0.75;stroke:#ffffff;stroke-linejoin:miter;stroke-width:0.19991;\"/>\n   </g>\n   <g id=\"patch_77\">\n    <path clip-path=\"url(#p62b06a4c95)\" d=\"M 214.535881 333.36 \nL 216.534985 333.36 \nL 216.534985 325.964082 \nL 214.535881 325.964082 \nz\n\" style=\"fill:#4c72b0;fill-opacity:0.75;stroke:#ffffff;stroke-linejoin:miter;stroke-width:0.19991;\"/>\n   </g>\n   <g id=\"patch_78\">\n    <path clip-path=\"url(#p62b06a4c95)\" d=\"M 216.534985 333.36 \nL 218.534089 333.36 \nL 218.534089 333.36 \nL 216.534985 333.36 \nz\n\" style=\"fill:#4c72b0;fill-opacity:0.75;stroke:#ffffff;stroke-linejoin:miter;stroke-width:0.19991;\"/>\n   </g>\n   <g id=\"patch_79\">\n    <path clip-path=\"url(#p62b06a4c95)\" d=\"M 218.534089 333.36 \nL 220.533194 333.36 \nL 220.533194 333.36 \nL 218.534089 333.36 \nz\n\" style=\"fill:#4c72b0;fill-opacity:0.75;stroke:#ffffff;stroke-linejoin:miter;stroke-width:0.19991;\"/>\n   </g>\n   <g id=\"patch_80\">\n    <path clip-path=\"url(#p62b06a4c95)\" d=\"M 220.533194 333.36 \nL 222.532298 333.36 \nL 222.532298 333.36 \nL 220.533194 333.36 \nz\n\" style=\"fill:#4c72b0;fill-opacity:0.75;stroke:#ffffff;stroke-linejoin:miter;stroke-width:0.19991;\"/>\n   </g>\n   <g id=\"patch_81\">\n    <path clip-path=\"url(#p62b06a4c95)\" d=\"M 222.532298 333.36 \nL 224.531402 333.36 \nL 224.531402 333.36 \nL 222.532298 333.36 \nz\n\" style=\"fill:#4c72b0;fill-opacity:0.75;stroke:#ffffff;stroke-linejoin:miter;stroke-width:0.19991;\"/>\n   </g>\n   <g id=\"patch_82\">\n    <path clip-path=\"url(#p62b06a4c95)\" d=\"M 224.531402 333.36 \nL 226.530507 333.36 \nL 226.530507 333.36 \nL 224.531402 333.36 \nz\n\" style=\"fill:#4c72b0;fill-opacity:0.75;stroke:#ffffff;stroke-linejoin:miter;stroke-width:0.19991;\"/>\n   </g>\n   <g id=\"patch_83\">\n    <path clip-path=\"url(#p62b06a4c95)\" d=\"M 226.530507 333.36 \nL 228.529611 333.36 \nL 228.529611 318.568163 \nL 226.530507 318.568163 \nz\n\" style=\"fill:#4c72b0;fill-opacity:0.75;stroke:#ffffff;stroke-linejoin:miter;stroke-width:0.19991;\"/>\n   </g>\n   <g id=\"patch_84\">\n    <path clip-path=\"url(#p62b06a4c95)\" d=\"M 228.529611 333.36 \nL 230.528715 333.36 \nL 230.528715 333.36 \nL 228.529611 333.36 \nz\n\" style=\"fill:#4c72b0;fill-opacity:0.75;stroke:#ffffff;stroke-linejoin:miter;stroke-width:0.19991;\"/>\n   </g>\n   <g id=\"patch_85\">\n    <path clip-path=\"url(#p62b06a4c95)\" d=\"M 230.528715 333.36 \nL 232.52782 333.36 \nL 232.52782 333.36 \nL 230.528715 333.36 \nz\n\" style=\"fill:#4c72b0;fill-opacity:0.75;stroke:#ffffff;stroke-linejoin:miter;stroke-width:0.19991;\"/>\n   </g>\n   <g id=\"patch_86\">\n    <path clip-path=\"url(#p62b06a4c95)\" d=\"M 232.52782 333.36 \nL 234.526924 333.36 \nL 234.526924 333.36 \nL 232.52782 333.36 \nz\n\" style=\"fill:#4c72b0;fill-opacity:0.75;stroke:#ffffff;stroke-linejoin:miter;stroke-width:0.19991;\"/>\n   </g>\n   <g id=\"patch_87\">\n    <path clip-path=\"url(#p62b06a4c95)\" d=\"M 234.526924 333.36 \nL 236.526028 333.36 \nL 236.526028 333.36 \nL 234.526924 333.36 \nz\n\" style=\"fill:#4c72b0;fill-opacity:0.75;stroke:#ffffff;stroke-linejoin:miter;stroke-width:0.19991;\"/>\n   </g>\n   <g id=\"patch_88\">\n    <path clip-path=\"url(#p62b06a4c95)\" d=\"M 236.526028 333.36 \nL 238.525133 333.36 \nL 238.525133 333.36 \nL 236.526028 333.36 \nz\n\" style=\"fill:#4c72b0;fill-opacity:0.75;stroke:#ffffff;stroke-linejoin:miter;stroke-width:0.19991;\"/>\n   </g>\n   <g id=\"patch_89\">\n    <path clip-path=\"url(#p62b06a4c95)\" d=\"M 238.525133 333.36 \nL 240.524237 333.36 \nL 240.524237 333.36 \nL 238.525133 333.36 \nz\n\" style=\"fill:#4c72b0;fill-opacity:0.75;stroke:#ffffff;stroke-linejoin:miter;stroke-width:0.19991;\"/>\n   </g>\n   <g id=\"patch_90\">\n    <path clip-path=\"url(#p62b06a4c95)\" d=\"M 240.524237 333.36 \nL 242.523341 333.36 \nL 242.523341 333.36 \nL 240.524237 333.36 \nz\n\" style=\"fill:#4c72b0;fill-opacity:0.75;stroke:#ffffff;stroke-linejoin:miter;stroke-width:0.19991;\"/>\n   </g>\n   <g id=\"patch_91\">\n    <path clip-path=\"url(#p62b06a4c95)\" d=\"M 242.523341 333.36 \nL 244.522446 333.36 \nL 244.522446 333.36 \nL 242.523341 333.36 \nz\n\" style=\"fill:#4c72b0;fill-opacity:0.75;stroke:#ffffff;stroke-linejoin:miter;stroke-width:0.19991;\"/>\n   </g>\n   <g id=\"patch_92\">\n    <path clip-path=\"url(#p62b06a4c95)\" d=\"M 244.522446 333.36 \nL 246.52155 333.36 \nL 246.52155 325.964082 \nL 244.522446 325.964082 \nz\n\" style=\"fill:#4c72b0;fill-opacity:0.75;stroke:#ffffff;stroke-linejoin:miter;stroke-width:0.19991;\"/>\n   </g>\n   <g id=\"patch_93\">\n    <path clip-path=\"url(#p62b06a4c95)\" d=\"M 246.52155 333.36 \nL 248.520654 333.36 \nL 248.520654 333.36 \nL 246.52155 333.36 \nz\n\" style=\"fill:#4c72b0;fill-opacity:0.75;stroke:#ffffff;stroke-linejoin:miter;stroke-width:0.19991;\"/>\n   </g>\n   <g id=\"patch_94\">\n    <path clip-path=\"url(#p62b06a4c95)\" d=\"M 248.520654 333.36 \nL 250.519759 333.36 \nL 250.519759 333.36 \nL 248.520654 333.36 \nz\n\" style=\"fill:#4c72b0;fill-opacity:0.75;stroke:#ffffff;stroke-linejoin:miter;stroke-width:0.19991;\"/>\n   </g>\n   <g id=\"patch_95\">\n    <path clip-path=\"url(#p62b06a4c95)\" d=\"M 250.519759 333.36 \nL 252.518863 333.36 \nL 252.518863 333.36 \nL 250.519759 333.36 \nz\n\" style=\"fill:#4c72b0;fill-opacity:0.75;stroke:#ffffff;stroke-linejoin:miter;stroke-width:0.19991;\"/>\n   </g>\n   <g id=\"patch_96\">\n    <path clip-path=\"url(#p62b06a4c95)\" d=\"M 252.518863 333.36 \nL 254.517967 333.36 \nL 254.517967 333.36 \nL 252.518863 333.36 \nz\n\" style=\"fill:#4c72b0;fill-opacity:0.75;stroke:#ffffff;stroke-linejoin:miter;stroke-width:0.19991;\"/>\n   </g>\n   <g id=\"patch_97\">\n    <path clip-path=\"url(#p62b06a4c95)\" d=\"M 254.517967 333.36 \nL 256.517072 333.36 \nL 256.517072 333.36 \nL 254.517967 333.36 \nz\n\" style=\"fill:#4c72b0;fill-opacity:0.75;stroke:#ffffff;stroke-linejoin:miter;stroke-width:0.19991;\"/>\n   </g>\n   <g id=\"patch_98\">\n    <path clip-path=\"url(#p62b06a4c95)\" d=\"M 256.517072 333.36 \nL 258.516176 333.36 \nL 258.516176 333.36 \nL 256.517072 333.36 \nz\n\" style=\"fill:#4c72b0;fill-opacity:0.75;stroke:#ffffff;stroke-linejoin:miter;stroke-width:0.19991;\"/>\n   </g>\n   <g id=\"patch_99\">\n    <path clip-path=\"url(#p62b06a4c95)\" d=\"M 258.516176 333.36 \nL 260.51528 333.36 \nL 260.51528 266.796735 \nL 258.516176 266.796735 \nz\n\" style=\"fill:#4c72b0;fill-opacity:0.75;stroke:#ffffff;stroke-linejoin:miter;stroke-width:0.19991;\"/>\n   </g>\n   <g id=\"patch_100\">\n    <path clip-path=\"url(#p62b06a4c95)\" d=\"M 260.51528 333.36 \nL 262.514385 333.36 \nL 262.514385 311.172245 \nL 260.51528 311.172245 \nz\n\" style=\"fill:#4c72b0;fill-opacity:0.75;stroke:#ffffff;stroke-linejoin:miter;stroke-width:0.19991;\"/>\n   </g>\n   <g id=\"patch_101\">\n    <path clip-path=\"url(#p62b06a4c95)\" d=\"M 262.514385 333.36 \nL 264.513489 333.36 \nL 264.513489 333.36 \nL 262.514385 333.36 \nz\n\" style=\"fill:#4c72b0;fill-opacity:0.75;stroke:#ffffff;stroke-linejoin:miter;stroke-width:0.19991;\"/>\n   </g>\n   <g id=\"patch_102\">\n    <path clip-path=\"url(#p62b06a4c95)\" d=\"M 264.513489 333.36 \nL 266.512593 333.36 \nL 266.512593 333.36 \nL 264.513489 333.36 \nz\n\" style=\"fill:#4c72b0;fill-opacity:0.75;stroke:#ffffff;stroke-linejoin:miter;stroke-width:0.19991;\"/>\n   </g>\n   <g id=\"patch_103\">\n    <path clip-path=\"url(#p62b06a4c95)\" d=\"M 266.512593 333.36 \nL 268.511698 333.36 \nL 268.511698 333.36 \nL 266.512593 333.36 \nz\n\" style=\"fill:#4c72b0;fill-opacity:0.75;stroke:#ffffff;stroke-linejoin:miter;stroke-width:0.19991;\"/>\n   </g>\n   <g id=\"patch_104\">\n    <path clip-path=\"url(#p62b06a4c95)\" d=\"M 268.511698 333.36 \nL 270.510802 333.36 \nL 270.510802 333.36 \nL 268.511698 333.36 \nz\n\" style=\"fill:#4c72b0;fill-opacity:0.75;stroke:#ffffff;stroke-linejoin:miter;stroke-width:0.19991;\"/>\n   </g>\n   <g id=\"patch_105\">\n    <path clip-path=\"url(#p62b06a4c95)\" d=\"M 270.510802 333.36 \nL 272.509907 333.36 \nL 272.509907 333.36 \nL 270.510802 333.36 \nz\n\" style=\"fill:#4c72b0;fill-opacity:0.75;stroke:#ffffff;stroke-linejoin:miter;stroke-width:0.19991;\"/>\n   </g>\n   <g id=\"patch_106\">\n    <path clip-path=\"url(#p62b06a4c95)\" d=\"M 272.509907 333.36 \nL 274.509011 333.36 \nL 274.509011 333.36 \nL 272.509907 333.36 \nz\n\" style=\"fill:#4c72b0;fill-opacity:0.75;stroke:#ffffff;stroke-linejoin:miter;stroke-width:0.19991;\"/>\n   </g>\n   <g id=\"patch_107\">\n    <path clip-path=\"url(#p62b06a4c95)\" d=\"M 274.509011 333.36 \nL 276.508115 333.36 \nL 276.508115 333.36 \nL 274.509011 333.36 \nz\n\" style=\"fill:#4c72b0;fill-opacity:0.75;stroke:#ffffff;stroke-linejoin:miter;stroke-width:0.19991;\"/>\n   </g>\n   <g id=\"patch_108\">\n    <path clip-path=\"url(#p62b06a4c95)\" d=\"M 276.508115 333.36 \nL 278.50722 333.36 \nL 278.50722 333.36 \nL 276.508115 333.36 \nz\n\" style=\"fill:#4c72b0;fill-opacity:0.75;stroke:#ffffff;stroke-linejoin:miter;stroke-width:0.19991;\"/>\n   </g>\n   <g id=\"patch_109\">\n    <path clip-path=\"url(#p62b06a4c95)\" d=\"M 278.50722 333.36 \nL 280.506324 333.36 \nL 280.506324 333.36 \nL 278.50722 333.36 \nz\n\" style=\"fill:#4c72b0;fill-opacity:0.75;stroke:#ffffff;stroke-linejoin:miter;stroke-width:0.19991;\"/>\n   </g>\n   <g id=\"patch_110\">\n    <path clip-path=\"url(#p62b06a4c95)\" d=\"M 280.506324 333.36 \nL 282.505428 333.36 \nL 282.505428 333.36 \nL 280.506324 333.36 \nz\n\" style=\"fill:#4c72b0;fill-opacity:0.75;stroke:#ffffff;stroke-linejoin:miter;stroke-width:0.19991;\"/>\n   </g>\n   <g id=\"patch_111\">\n    <path clip-path=\"url(#p62b06a4c95)\" d=\"M 282.505428 333.36 \nL 284.504533 333.36 \nL 284.504533 333.36 \nL 282.505428 333.36 \nz\n\" style=\"fill:#4c72b0;fill-opacity:0.75;stroke:#ffffff;stroke-linejoin:miter;stroke-width:0.19991;\"/>\n   </g>\n   <g id=\"patch_112\">\n    <path clip-path=\"url(#p62b06a4c95)\" d=\"M 284.504533 333.36 \nL 286.503637 333.36 \nL 286.503637 333.36 \nL 284.504533 333.36 \nz\n\" style=\"fill:#4c72b0;fill-opacity:0.75;stroke:#ffffff;stroke-linejoin:miter;stroke-width:0.19991;\"/>\n   </g>\n   <g id=\"patch_113\">\n    <path clip-path=\"url(#p62b06a4c95)\" d=\"M 286.503637 333.36 \nL 288.502741 333.36 \nL 288.502741 333.36 \nL 286.503637 333.36 \nz\n\" style=\"fill:#4c72b0;fill-opacity:0.75;stroke:#ffffff;stroke-linejoin:miter;stroke-width:0.19991;\"/>\n   </g>\n   <g id=\"patch_114\">\n    <path clip-path=\"url(#p62b06a4c95)\" d=\"M 288.502741 333.36 \nL 290.501846 333.36 \nL 290.501846 333.36 \nL 288.502741 333.36 \nz\n\" style=\"fill:#4c72b0;fill-opacity:0.75;stroke:#ffffff;stroke-linejoin:miter;stroke-width:0.19991;\"/>\n   </g>\n   <g id=\"patch_115\">\n    <path clip-path=\"url(#p62b06a4c95)\" d=\"M 290.501846 333.36 \nL 292.50095 333.36 \nL 292.50095 333.36 \nL 290.501846 333.36 \nz\n\" style=\"fill:#4c72b0;fill-opacity:0.75;stroke:#ffffff;stroke-linejoin:miter;stroke-width:0.19991;\"/>\n   </g>\n   <g id=\"patch_116\">\n    <path clip-path=\"url(#p62b06a4c95)\" d=\"M 292.50095 333.36 \nL 294.500054 333.36 \nL 294.500054 333.36 \nL 292.50095 333.36 \nz\n\" style=\"fill:#4c72b0;fill-opacity:0.75;stroke:#ffffff;stroke-linejoin:miter;stroke-width:0.19991;\"/>\n   </g>\n   <g id=\"patch_117\">\n    <path clip-path=\"url(#p62b06a4c95)\" d=\"M 294.500054 333.36 \nL 296.499159 333.36 \nL 296.499159 333.36 \nL 294.500054 333.36 \nz\n\" style=\"fill:#4c72b0;fill-opacity:0.75;stroke:#ffffff;stroke-linejoin:miter;stroke-width:0.19991;\"/>\n   </g>\n   <g id=\"patch_118\">\n    <path clip-path=\"url(#p62b06a4c95)\" d=\"M 296.499159 333.36 \nL 298.498263 333.36 \nL 298.498263 333.36 \nL 296.499159 333.36 \nz\n\" style=\"fill:#4c72b0;fill-opacity:0.75;stroke:#ffffff;stroke-linejoin:miter;stroke-width:0.19991;\"/>\n   </g>\n   <g id=\"patch_119\">\n    <path clip-path=\"url(#p62b06a4c95)\" d=\"M 298.498263 333.36 \nL 300.497367 333.36 \nL 300.497367 333.36 \nL 298.498263 333.36 \nz\n\" style=\"fill:#4c72b0;fill-opacity:0.75;stroke:#ffffff;stroke-linejoin:miter;stroke-width:0.19991;\"/>\n   </g>\n   <g id=\"patch_120\">\n    <path clip-path=\"url(#p62b06a4c95)\" d=\"M 300.497367 333.36 \nL 302.496472 333.36 \nL 302.496472 333.36 \nL 300.497367 333.36 \nz\n\" style=\"fill:#4c72b0;fill-opacity:0.75;stroke:#ffffff;stroke-linejoin:miter;stroke-width:0.19991;\"/>\n   </g>\n   <g id=\"patch_121\">\n    <path clip-path=\"url(#p62b06a4c95)\" d=\"M 302.496472 333.36 \nL 304.495576 333.36 \nL 304.495576 333.36 \nL 302.496472 333.36 \nz\n\" style=\"fill:#4c72b0;fill-opacity:0.75;stroke:#ffffff;stroke-linejoin:miter;stroke-width:0.19991;\"/>\n   </g>\n   <g id=\"patch_122\">\n    <path clip-path=\"url(#p62b06a4c95)\" d=\"M 304.495576 333.36 \nL 306.49468 333.36 \nL 306.49468 333.36 \nL 304.495576 333.36 \nz\n\" style=\"fill:#4c72b0;fill-opacity:0.75;stroke:#ffffff;stroke-linejoin:miter;stroke-width:0.19991;\"/>\n   </g>\n   <g id=\"patch_123\">\n    <path clip-path=\"url(#p62b06a4c95)\" d=\"M 306.49468 333.36 \nL 308.493785 333.36 \nL 308.493785 333.36 \nL 306.49468 333.36 \nz\n\" style=\"fill:#4c72b0;fill-opacity:0.75;stroke:#ffffff;stroke-linejoin:miter;stroke-width:0.19991;\"/>\n   </g>\n   <g id=\"patch_124\">\n    <path clip-path=\"url(#p62b06a4c95)\" d=\"M 308.493785 333.36 \nL 310.492889 333.36 \nL 310.492889 333.36 \nL 308.493785 333.36 \nz\n\" style=\"fill:#4c72b0;fill-opacity:0.75;stroke:#ffffff;stroke-linejoin:miter;stroke-width:0.19991;\"/>\n   </g>\n   <g id=\"patch_125\">\n    <path clip-path=\"url(#p62b06a4c95)\" d=\"M 310.492889 333.36 \nL 312.491993 333.36 \nL 312.491993 333.36 \nL 310.492889 333.36 \nz\n\" style=\"fill:#4c72b0;fill-opacity:0.75;stroke:#ffffff;stroke-linejoin:miter;stroke-width:0.19991;\"/>\n   </g>\n   <g id=\"patch_126\">\n    <path clip-path=\"url(#p62b06a4c95)\" d=\"M 312.491993 333.36 \nL 314.491098 333.36 \nL 314.491098 333.36 \nL 312.491993 333.36 \nz\n\" style=\"fill:#4c72b0;fill-opacity:0.75;stroke:#ffffff;stroke-linejoin:miter;stroke-width:0.19991;\"/>\n   </g>\n   <g id=\"patch_127\">\n    <path clip-path=\"url(#p62b06a4c95)\" d=\"M 314.491098 333.36 \nL 316.490202 333.36 \nL 316.490202 333.36 \nL 314.491098 333.36 \nz\n\" style=\"fill:#4c72b0;fill-opacity:0.75;stroke:#ffffff;stroke-linejoin:miter;stroke-width:0.19991;\"/>\n   </g>\n   <g id=\"patch_128\">\n    <path clip-path=\"url(#p62b06a4c95)\" d=\"M 316.490202 333.36 \nL 318.489306 333.36 \nL 318.489306 333.36 \nL 316.490202 333.36 \nz\n\" style=\"fill:#4c72b0;fill-opacity:0.75;stroke:#ffffff;stroke-linejoin:miter;stroke-width:0.19991;\"/>\n   </g>\n   <g id=\"patch_129\">\n    <path clip-path=\"url(#p62b06a4c95)\" d=\"M 318.489306 333.36 \nL 320.488411 333.36 \nL 320.488411 333.36 \nL 318.489306 333.36 \nz\n\" style=\"fill:#4c72b0;fill-opacity:0.75;stroke:#ffffff;stroke-linejoin:miter;stroke-width:0.19991;\"/>\n   </g>\n   <g id=\"patch_130\">\n    <path clip-path=\"url(#p62b06a4c95)\" d=\"M 320.488411 333.36 \nL 322.487515 333.36 \nL 322.487515 333.36 \nL 320.488411 333.36 \nz\n\" style=\"fill:#4c72b0;fill-opacity:0.75;stroke:#ffffff;stroke-linejoin:miter;stroke-width:0.19991;\"/>\n   </g>\n   <g id=\"patch_131\">\n    <path clip-path=\"url(#p62b06a4c95)\" d=\"M 322.487515 333.36 \nL 324.486619 333.36 \nL 324.486619 333.36 \nL 322.487515 333.36 \nz\n\" style=\"fill:#4c72b0;fill-opacity:0.75;stroke:#ffffff;stroke-linejoin:miter;stroke-width:0.19991;\"/>\n   </g>\n   <g id=\"patch_132\">\n    <path clip-path=\"url(#p62b06a4c95)\" d=\"M 324.486619 333.36 \nL 326.485724 333.36 \nL 326.485724 333.36 \nL 324.486619 333.36 \nz\n\" style=\"fill:#4c72b0;fill-opacity:0.75;stroke:#ffffff;stroke-linejoin:miter;stroke-width:0.19991;\"/>\n   </g>\n   <g id=\"patch_133\">\n    <path clip-path=\"url(#p62b06a4c95)\" d=\"M 326.485724 333.36 \nL 328.484828 333.36 \nL 328.484828 333.36 \nL 326.485724 333.36 \nz\n\" style=\"fill:#4c72b0;fill-opacity:0.75;stroke:#ffffff;stroke-linejoin:miter;stroke-width:0.19991;\"/>\n   </g>\n   <g id=\"patch_134\">\n    <path clip-path=\"url(#p62b06a4c95)\" d=\"M 328.484828 333.36 \nL 330.483932 333.36 \nL 330.483932 333.36 \nL 328.484828 333.36 \nz\n\" style=\"fill:#4c72b0;fill-opacity:0.75;stroke:#ffffff;stroke-linejoin:miter;stroke-width:0.19991;\"/>\n   </g>\n   <g id=\"patch_135\">\n    <path clip-path=\"url(#p62b06a4c95)\" d=\"M 330.483932 333.36 \nL 332.483037 333.36 \nL 332.483037 333.36 \nL 330.483932 333.36 \nz\n\" style=\"fill:#4c72b0;fill-opacity:0.75;stroke:#ffffff;stroke-linejoin:miter;stroke-width:0.19991;\"/>\n   </g>\n   <g id=\"patch_136\">\n    <path clip-path=\"url(#p62b06a4c95)\" d=\"M 332.483037 333.36 \nL 334.482141 333.36 \nL 334.482141 333.36 \nL 332.483037 333.36 \nz\n\" style=\"fill:#4c72b0;fill-opacity:0.75;stroke:#ffffff;stroke-linejoin:miter;stroke-width:0.19991;\"/>\n   </g>\n   <g id=\"patch_137\">\n    <path clip-path=\"url(#p62b06a4c95)\" d=\"M 334.482141 333.36 \nL 336.481246 333.36 \nL 336.481246 333.36 \nL 334.482141 333.36 \nz\n\" style=\"fill:#4c72b0;fill-opacity:0.75;stroke:#ffffff;stroke-linejoin:miter;stroke-width:0.19991;\"/>\n   </g>\n   <g id=\"patch_138\">\n    <path clip-path=\"url(#p62b06a4c95)\" d=\"M 336.481246 333.36 \nL 338.48035 333.36 \nL 338.48035 333.36 \nL 336.481246 333.36 \nz\n\" style=\"fill:#4c72b0;fill-opacity:0.75;stroke:#ffffff;stroke-linejoin:miter;stroke-width:0.19991;\"/>\n   </g>\n   <g id=\"patch_139\">\n    <path clip-path=\"url(#p62b06a4c95)\" d=\"M 338.48035 333.36 \nL 340.479454 333.36 \nL 340.479454 333.36 \nL 338.48035 333.36 \nz\n\" style=\"fill:#4c72b0;fill-opacity:0.75;stroke:#ffffff;stroke-linejoin:miter;stroke-width:0.19991;\"/>\n   </g>\n   <g id=\"patch_140\">\n    <path clip-path=\"url(#p62b06a4c95)\" d=\"M 340.479454 333.36 \nL 342.478559 333.36 \nL 342.478559 333.36 \nL 340.479454 333.36 \nz\n\" style=\"fill:#4c72b0;fill-opacity:0.75;stroke:#ffffff;stroke-linejoin:miter;stroke-width:0.19991;\"/>\n   </g>\n   <g id=\"patch_141\">\n    <path clip-path=\"url(#p62b06a4c95)\" d=\"M 342.478559 333.36 \nL 344.477663 333.36 \nL 344.477663 333.36 \nL 342.478559 333.36 \nz\n\" style=\"fill:#4c72b0;fill-opacity:0.75;stroke:#ffffff;stroke-linejoin:miter;stroke-width:0.19991;\"/>\n   </g>\n   <g id=\"patch_142\">\n    <path clip-path=\"url(#p62b06a4c95)\" d=\"M 344.477663 333.36 \nL 346.476767 333.36 \nL 346.476767 333.36 \nL 344.477663 333.36 \nz\n\" style=\"fill:#4c72b0;fill-opacity:0.75;stroke:#ffffff;stroke-linejoin:miter;stroke-width:0.19991;\"/>\n   </g>\n   <g id=\"patch_143\">\n    <path clip-path=\"url(#p62b06a4c95)\" d=\"M 346.476767 333.36 \nL 348.475872 333.36 \nL 348.475872 333.36 \nL 346.476767 333.36 \nz\n\" style=\"fill:#4c72b0;fill-opacity:0.75;stroke:#ffffff;stroke-linejoin:miter;stroke-width:0.19991;\"/>\n   </g>\n   <g id=\"patch_144\">\n    <path clip-path=\"url(#p62b06a4c95)\" d=\"M 348.475872 333.36 \nL 350.474976 333.36 \nL 350.474976 333.36 \nL 348.475872 333.36 \nz\n\" style=\"fill:#4c72b0;fill-opacity:0.75;stroke:#ffffff;stroke-linejoin:miter;stroke-width:0.19991;\"/>\n   </g>\n   <g id=\"patch_145\">\n    <path clip-path=\"url(#p62b06a4c95)\" d=\"M 350.474976 333.36 \nL 352.47408 333.36 \nL 352.47408 333.36 \nL 350.474976 333.36 \nz\n\" style=\"fill:#4c72b0;fill-opacity:0.75;stroke:#ffffff;stroke-linejoin:miter;stroke-width:0.19991;\"/>\n   </g>\n   <g id=\"patch_146\">\n    <path clip-path=\"url(#p62b06a4c95)\" d=\"M 352.47408 333.36 \nL 354.473185 333.36 \nL 354.473185 333.36 \nL 352.47408 333.36 \nz\n\" style=\"fill:#4c72b0;fill-opacity:0.75;stroke:#ffffff;stroke-linejoin:miter;stroke-width:0.19991;\"/>\n   </g>\n   <g id=\"patch_147\">\n    <path clip-path=\"url(#p62b06a4c95)\" d=\"M 354.473185 333.36 \nL 356.472289 333.36 \nL 356.472289 333.36 \nL 354.473185 333.36 \nz\n\" style=\"fill:#4c72b0;fill-opacity:0.75;stroke:#ffffff;stroke-linejoin:miter;stroke-width:0.19991;\"/>\n   </g>\n   <g id=\"patch_148\">\n    <path clip-path=\"url(#p62b06a4c95)\" d=\"M 356.472289 333.36 \nL 358.471393 333.36 \nL 358.471393 333.36 \nL 356.472289 333.36 \nz\n\" style=\"fill:#4c72b0;fill-opacity:0.75;stroke:#ffffff;stroke-linejoin:miter;stroke-width:0.19991;\"/>\n   </g>\n   <g id=\"patch_149\">\n    <path clip-path=\"url(#p62b06a4c95)\" d=\"M 358.471393 333.36 \nL 360.470498 333.36 \nL 360.470498 333.36 \nL 358.471393 333.36 \nz\n\" style=\"fill:#4c72b0;fill-opacity:0.75;stroke:#ffffff;stroke-linejoin:miter;stroke-width:0.19991;\"/>\n   </g>\n   <g id=\"patch_150\">\n    <path clip-path=\"url(#p62b06a4c95)\" d=\"M 360.470498 333.36 \nL 362.469602 333.36 \nL 362.469602 333.36 \nL 360.470498 333.36 \nz\n\" style=\"fill:#4c72b0;fill-opacity:0.75;stroke:#ffffff;stroke-linejoin:miter;stroke-width:0.19991;\"/>\n   </g>\n   <g id=\"patch_151\">\n    <path clip-path=\"url(#p62b06a4c95)\" d=\"M 362.469602 333.36 \nL 364.468706 333.36 \nL 364.468706 333.36 \nL 362.469602 333.36 \nz\n\" style=\"fill:#4c72b0;fill-opacity:0.75;stroke:#ffffff;stroke-linejoin:miter;stroke-width:0.19991;\"/>\n   </g>\n   <g id=\"patch_152\">\n    <path clip-path=\"url(#p62b06a4c95)\" d=\"M 364.468706 333.36 \nL 366.467811 333.36 \nL 366.467811 333.36 \nL 364.468706 333.36 \nz\n\" style=\"fill:#4c72b0;fill-opacity:0.75;stroke:#ffffff;stroke-linejoin:miter;stroke-width:0.19991;\"/>\n   </g>\n   <g id=\"patch_153\">\n    <path clip-path=\"url(#p62b06a4c95)\" d=\"M 366.467811 333.36 \nL 368.466915 333.36 \nL 368.466915 333.36 \nL 366.467811 333.36 \nz\n\" style=\"fill:#4c72b0;fill-opacity:0.75;stroke:#ffffff;stroke-linejoin:miter;stroke-width:0.19991;\"/>\n   </g>\n   <g id=\"patch_154\">\n    <path clip-path=\"url(#p62b06a4c95)\" d=\"M 368.466915 333.36 \nL 370.466019 333.36 \nL 370.466019 333.36 \nL 368.466915 333.36 \nz\n\" style=\"fill:#4c72b0;fill-opacity:0.75;stroke:#ffffff;stroke-linejoin:miter;stroke-width:0.19991;\"/>\n   </g>\n   <g id=\"patch_155\">\n    <path clip-path=\"url(#p62b06a4c95)\" d=\"M 370.466019 333.36 \nL 372.465124 333.36 \nL 372.465124 333.36 \nL 370.466019 333.36 \nz\n\" style=\"fill:#4c72b0;fill-opacity:0.75;stroke:#ffffff;stroke-linejoin:miter;stroke-width:0.19991;\"/>\n   </g>\n   <g id=\"patch_156\">\n    <path clip-path=\"url(#p62b06a4c95)\" d=\"M 372.465124 333.36 \nL 374.464228 333.36 \nL 374.464228 333.36 \nL 372.465124 333.36 \nz\n\" style=\"fill:#4c72b0;fill-opacity:0.75;stroke:#ffffff;stroke-linejoin:miter;stroke-width:0.19991;\"/>\n   </g>\n   <g id=\"patch_157\">\n    <path clip-path=\"url(#p62b06a4c95)\" d=\"M 374.464228 333.36 \nL 376.463332 333.36 \nL 376.463332 333.36 \nL 374.464228 333.36 \nz\n\" style=\"fill:#4c72b0;fill-opacity:0.75;stroke:#ffffff;stroke-linejoin:miter;stroke-width:0.19991;\"/>\n   </g>\n   <g id=\"patch_158\">\n    <path clip-path=\"url(#p62b06a4c95)\" d=\"M 376.463332 333.36 \nL 378.462437 333.36 \nL 378.462437 333.36 \nL 376.463332 333.36 \nz\n\" style=\"fill:#4c72b0;fill-opacity:0.75;stroke:#ffffff;stroke-linejoin:miter;stroke-width:0.19991;\"/>\n   </g>\n   <g id=\"patch_159\">\n    <path clip-path=\"url(#p62b06a4c95)\" d=\"M 378.462437 333.36 \nL 380.461541 333.36 \nL 380.461541 333.36 \nL 378.462437 333.36 \nz\n\" style=\"fill:#4c72b0;fill-opacity:0.75;stroke:#ffffff;stroke-linejoin:miter;stroke-width:0.19991;\"/>\n   </g>\n   <g id=\"patch_160\">\n    <path clip-path=\"url(#p62b06a4c95)\" d=\"M 380.461541 333.36 \nL 382.460645 333.36 \nL 382.460645 333.36 \nL 380.461541 333.36 \nz\n\" style=\"fill:#4c72b0;fill-opacity:0.75;stroke:#ffffff;stroke-linejoin:miter;stroke-width:0.19991;\"/>\n   </g>\n   <g id=\"patch_161\">\n    <path clip-path=\"url(#p62b06a4c95)\" d=\"M 382.460645 333.36 \nL 384.45975 333.36 \nL 384.45975 333.36 \nL 382.460645 333.36 \nz\n\" style=\"fill:#4c72b0;fill-opacity:0.75;stroke:#ffffff;stroke-linejoin:miter;stroke-width:0.19991;\"/>\n   </g>\n   <g id=\"patch_162\">\n    <path clip-path=\"url(#p62b06a4c95)\" d=\"M 384.45975 333.36 \nL 386.458854 333.36 \nL 386.458854 333.36 \nL 384.45975 333.36 \nz\n\" style=\"fill:#4c72b0;fill-opacity:0.75;stroke:#ffffff;stroke-linejoin:miter;stroke-width:0.19991;\"/>\n   </g>\n   <g id=\"patch_163\">\n    <path clip-path=\"url(#p62b06a4c95)\" d=\"M 386.458854 333.36 \nL 388.457958 333.36 \nL 388.457958 333.36 \nL 386.458854 333.36 \nz\n\" style=\"fill:#4c72b0;fill-opacity:0.75;stroke:#ffffff;stroke-linejoin:miter;stroke-width:0.19991;\"/>\n   </g>\n   <g id=\"patch_164\">\n    <path clip-path=\"url(#p62b06a4c95)\" d=\"M 388.457958 333.36 \nL 390.457063 333.36 \nL 390.457063 333.36 \nL 388.457958 333.36 \nz\n\" style=\"fill:#4c72b0;fill-opacity:0.75;stroke:#ffffff;stroke-linejoin:miter;stroke-width:0.19991;\"/>\n   </g>\n   <g id=\"patch_165\">\n    <path clip-path=\"url(#p62b06a4c95)\" d=\"M 390.457063 333.36 \nL 392.456167 333.36 \nL 392.456167 333.36 \nL 390.457063 333.36 \nz\n\" style=\"fill:#4c72b0;fill-opacity:0.75;stroke:#ffffff;stroke-linejoin:miter;stroke-width:0.19991;\"/>\n   </g>\n   <g id=\"patch_166\">\n    <path clip-path=\"url(#p62b06a4c95)\" d=\"M 392.456167 333.36 \nL 394.455271 333.36 \nL 394.455271 333.36 \nL 392.456167 333.36 \nz\n\" style=\"fill:#4c72b0;fill-opacity:0.75;stroke:#ffffff;stroke-linejoin:miter;stroke-width:0.19991;\"/>\n   </g>\n   <g id=\"patch_167\">\n    <path clip-path=\"url(#p62b06a4c95)\" d=\"M 394.455271 333.36 \nL 396.454376 333.36 \nL 396.454376 333.36 \nL 394.455271 333.36 \nz\n\" style=\"fill:#4c72b0;fill-opacity:0.75;stroke:#ffffff;stroke-linejoin:miter;stroke-width:0.19991;\"/>\n   </g>\n   <g id=\"patch_168\">\n    <path clip-path=\"url(#p62b06a4c95)\" d=\"M 396.454376 333.36 \nL 398.45348 333.36 \nL 398.45348 333.36 \nL 396.454376 333.36 \nz\n\" style=\"fill:#4c72b0;fill-opacity:0.75;stroke:#ffffff;stroke-linejoin:miter;stroke-width:0.19991;\"/>\n   </g>\n   <g id=\"patch_169\">\n    <path clip-path=\"url(#p62b06a4c95)\" d=\"M 398.45348 333.36 \nL 400.452585 333.36 \nL 400.452585 333.36 \nL 398.45348 333.36 \nz\n\" style=\"fill:#4c72b0;fill-opacity:0.75;stroke:#ffffff;stroke-linejoin:miter;stroke-width:0.19991;\"/>\n   </g>\n   <g id=\"patch_170\">\n    <path clip-path=\"url(#p62b06a4c95)\" d=\"M 400.452585 333.36 \nL 402.451689 333.36 \nL 402.451689 333.36 \nL 400.452585 333.36 \nz\n\" style=\"fill:#4c72b0;fill-opacity:0.75;stroke:#ffffff;stroke-linejoin:miter;stroke-width:0.19991;\"/>\n   </g>\n   <g id=\"patch_171\">\n    <path clip-path=\"url(#p62b06a4c95)\" d=\"M 402.451689 333.36 \nL 404.450793 333.36 \nL 404.450793 333.36 \nL 402.451689 333.36 \nz\n\" style=\"fill:#4c72b0;fill-opacity:0.75;stroke:#ffffff;stroke-linejoin:miter;stroke-width:0.19991;\"/>\n   </g>\n   <g id=\"patch_172\">\n    <path clip-path=\"url(#p62b06a4c95)\" d=\"M 404.450793 333.36 \nL 406.449898 333.36 \nL 406.449898 333.36 \nL 404.450793 333.36 \nz\n\" style=\"fill:#4c72b0;fill-opacity:0.75;stroke:#ffffff;stroke-linejoin:miter;stroke-width:0.19991;\"/>\n   </g>\n   <g id=\"patch_173\">\n    <path clip-path=\"url(#p62b06a4c95)\" d=\"M 406.449898 333.36 \nL 408.449002 333.36 \nL 408.449002 333.36 \nL 406.449898 333.36 \nz\n\" style=\"fill:#4c72b0;fill-opacity:0.75;stroke:#ffffff;stroke-linejoin:miter;stroke-width:0.19991;\"/>\n   </g>\n   <g id=\"patch_174\">\n    <path clip-path=\"url(#p62b06a4c95)\" d=\"M 408.449002 333.36 \nL 410.448106 333.36 \nL 410.448106 333.36 \nL 408.449002 333.36 \nz\n\" style=\"fill:#4c72b0;fill-opacity:0.75;stroke:#ffffff;stroke-linejoin:miter;stroke-width:0.19991;\"/>\n   </g>\n   <g id=\"patch_175\">\n    <path clip-path=\"url(#p62b06a4c95)\" d=\"M 410.448106 333.36 \nL 412.447211 333.36 \nL 412.447211 333.36 \nL 410.448106 333.36 \nz\n\" style=\"fill:#4c72b0;fill-opacity:0.75;stroke:#ffffff;stroke-linejoin:miter;stroke-width:0.19991;\"/>\n   </g>\n   <g id=\"patch_176\">\n    <path clip-path=\"url(#p62b06a4c95)\" d=\"M 412.447211 333.36 \nL 414.446315 333.36 \nL 414.446315 333.36 \nL 412.447211 333.36 \nz\n\" style=\"fill:#4c72b0;fill-opacity:0.75;stroke:#ffffff;stroke-linejoin:miter;stroke-width:0.19991;\"/>\n   </g>\n   <g id=\"patch_177\">\n    <path clip-path=\"url(#p62b06a4c95)\" d=\"M 414.446315 333.36 \nL 416.445419 333.36 \nL 416.445419 333.36 \nL 414.446315 333.36 \nz\n\" style=\"fill:#4c72b0;fill-opacity:0.75;stroke:#ffffff;stroke-linejoin:miter;stroke-width:0.19991;\"/>\n   </g>\n   <g id=\"patch_178\">\n    <path clip-path=\"url(#p62b06a4c95)\" d=\"M 416.445419 333.36 \nL 418.444524 333.36 \nL 418.444524 333.36 \nL 416.445419 333.36 \nz\n\" style=\"fill:#4c72b0;fill-opacity:0.75;stroke:#ffffff;stroke-linejoin:miter;stroke-width:0.19991;\"/>\n   </g>\n   <g id=\"patch_179\">\n    <path clip-path=\"url(#p62b06a4c95)\" d=\"M 418.444524 333.36 \nL 420.443628 333.36 \nL 420.443628 333.36 \nL 418.444524 333.36 \nz\n\" style=\"fill:#4c72b0;fill-opacity:0.75;stroke:#ffffff;stroke-linejoin:miter;stroke-width:0.19991;\"/>\n   </g>\n   <g id=\"patch_180\">\n    <path clip-path=\"url(#p62b06a4c95)\" d=\"M 420.443628 333.36 \nL 422.442732 333.36 \nL 422.442732 333.36 \nL 420.443628 333.36 \nz\n\" style=\"fill:#4c72b0;fill-opacity:0.75;stroke:#ffffff;stroke-linejoin:miter;stroke-width:0.19991;\"/>\n   </g>\n   <g id=\"patch_181\">\n    <path clip-path=\"url(#p62b06a4c95)\" d=\"M 422.442732 333.36 \nL 424.441837 333.36 \nL 424.441837 333.36 \nL 422.442732 333.36 \nz\n\" style=\"fill:#4c72b0;fill-opacity:0.75;stroke:#ffffff;stroke-linejoin:miter;stroke-width:0.19991;\"/>\n   </g>\n   <g id=\"patch_182\">\n    <path clip-path=\"url(#p62b06a4c95)\" d=\"M 424.441837 333.36 \nL 426.440941 333.36 \nL 426.440941 333.36 \nL 424.441837 333.36 \nz\n\" style=\"fill:#4c72b0;fill-opacity:0.75;stroke:#ffffff;stroke-linejoin:miter;stroke-width:0.19991;\"/>\n   </g>\n   <g id=\"patch_183\">\n    <path clip-path=\"url(#p62b06a4c95)\" d=\"M 426.440941 333.36 \nL 428.440045 333.36 \nL 428.440045 333.36 \nL 426.440941 333.36 \nz\n\" style=\"fill:#4c72b0;fill-opacity:0.75;stroke:#ffffff;stroke-linejoin:miter;stroke-width:0.19991;\"/>\n   </g>\n   <g id=\"patch_184\">\n    <path clip-path=\"url(#p62b06a4c95)\" d=\"M 428.440045 333.36 \nL 430.43915 333.36 \nL 430.43915 333.36 \nL 428.440045 333.36 \nz\n\" style=\"fill:#4c72b0;fill-opacity:0.75;stroke:#ffffff;stroke-linejoin:miter;stroke-width:0.19991;\"/>\n   </g>\n   <g id=\"patch_185\">\n    <path clip-path=\"url(#p62b06a4c95)\" d=\"M 430.43915 333.36 \nL 432.438254 333.36 \nL 432.438254 333.36 \nL 430.43915 333.36 \nz\n\" style=\"fill:#4c72b0;fill-opacity:0.75;stroke:#ffffff;stroke-linejoin:miter;stroke-width:0.19991;\"/>\n   </g>\n   <g id=\"patch_186\">\n    <path clip-path=\"url(#p62b06a4c95)\" d=\"M 432.438254 333.36 \nL 434.437358 333.36 \nL 434.437358 333.36 \nL 432.438254 333.36 \nz\n\" style=\"fill:#4c72b0;fill-opacity:0.75;stroke:#ffffff;stroke-linejoin:miter;stroke-width:0.19991;\"/>\n   </g>\n   <g id=\"patch_187\">\n    <path clip-path=\"url(#p62b06a4c95)\" d=\"M 434.437358 333.36 \nL 436.436463 333.36 \nL 436.436463 333.36 \nL 434.437358 333.36 \nz\n\" style=\"fill:#4c72b0;fill-opacity:0.75;stroke:#ffffff;stroke-linejoin:miter;stroke-width:0.19991;\"/>\n   </g>\n   <g id=\"patch_188\">\n    <path clip-path=\"url(#p62b06a4c95)\" d=\"M 436.436463 333.36 \nL 438.435567 333.36 \nL 438.435567 333.36 \nL 436.436463 333.36 \nz\n\" style=\"fill:#4c72b0;fill-opacity:0.75;stroke:#ffffff;stroke-linejoin:miter;stroke-width:0.19991;\"/>\n   </g>\n   <g id=\"patch_189\">\n    <path clip-path=\"url(#p62b06a4c95)\" d=\"M 438.435567 333.36 \nL 440.434671 333.36 \nL 440.434671 333.36 \nL 438.435567 333.36 \nz\n\" style=\"fill:#4c72b0;fill-opacity:0.75;stroke:#ffffff;stroke-linejoin:miter;stroke-width:0.19991;\"/>\n   </g>\n   <g id=\"patch_190\">\n    <path clip-path=\"url(#p62b06a4c95)\" d=\"M 440.434671 333.36 \nL 442.433776 333.36 \nL 442.433776 333.36 \nL 440.434671 333.36 \nz\n\" style=\"fill:#4c72b0;fill-opacity:0.75;stroke:#ffffff;stroke-linejoin:miter;stroke-width:0.19991;\"/>\n   </g>\n   <g id=\"patch_191\">\n    <path clip-path=\"url(#p62b06a4c95)\" d=\"M 442.433776 333.36 \nL 444.43288 333.36 \nL 444.43288 333.36 \nL 442.433776 333.36 \nz\n\" style=\"fill:#4c72b0;fill-opacity:0.75;stroke:#ffffff;stroke-linejoin:miter;stroke-width:0.19991;\"/>\n   </g>\n   <g id=\"patch_192\">\n    <path clip-path=\"url(#p62b06a4c95)\" d=\"M 444.43288 333.36 \nL 446.431984 333.36 \nL 446.431984 333.36 \nL 444.43288 333.36 \nz\n\" style=\"fill:#4c72b0;fill-opacity:0.75;stroke:#ffffff;stroke-linejoin:miter;stroke-width:0.19991;\"/>\n   </g>\n   <g id=\"patch_193\">\n    <path clip-path=\"url(#p62b06a4c95)\" d=\"M 446.431984 333.36 \nL 448.431089 333.36 \nL 448.431089 333.36 \nL 446.431984 333.36 \nz\n\" style=\"fill:#4c72b0;fill-opacity:0.75;stroke:#ffffff;stroke-linejoin:miter;stroke-width:0.19991;\"/>\n   </g>\n   <g id=\"patch_194\">\n    <path clip-path=\"url(#p62b06a4c95)\" d=\"M 448.431089 333.36 \nL 450.430193 333.36 \nL 450.430193 333.36 \nL 448.431089 333.36 \nz\n\" style=\"fill:#4c72b0;fill-opacity:0.75;stroke:#ffffff;stroke-linejoin:miter;stroke-width:0.19991;\"/>\n   </g>\n   <g id=\"patch_195\">\n    <path clip-path=\"url(#p62b06a4c95)\" d=\"M 450.430193 333.36 \nL 452.429297 333.36 \nL 452.429297 333.36 \nL 450.430193 333.36 \nz\n\" style=\"fill:#4c72b0;fill-opacity:0.75;stroke:#ffffff;stroke-linejoin:miter;stroke-width:0.19991;\"/>\n   </g>\n   <g id=\"patch_196\">\n    <path clip-path=\"url(#p62b06a4c95)\" d=\"M 452.429297 333.36 \nL 454.428402 333.36 \nL 454.428402 333.36 \nL 452.429297 333.36 \nz\n\" style=\"fill:#4c72b0;fill-opacity:0.75;stroke:#ffffff;stroke-linejoin:miter;stroke-width:0.19991;\"/>\n   </g>\n   <g id=\"patch_197\">\n    <path clip-path=\"url(#p62b06a4c95)\" d=\"M 454.428402 333.36 \nL 456.427506 333.36 \nL 456.427506 333.36 \nL 454.428402 333.36 \nz\n\" style=\"fill:#4c72b0;fill-opacity:0.75;stroke:#ffffff;stroke-linejoin:miter;stroke-width:0.19991;\"/>\n   </g>\n   <g id=\"patch_198\">\n    <path clip-path=\"url(#p62b06a4c95)\" d=\"M 456.427506 333.36 \nL 458.426611 333.36 \nL 458.426611 333.36 \nL 456.427506 333.36 \nz\n\" style=\"fill:#4c72b0;fill-opacity:0.75;stroke:#ffffff;stroke-linejoin:miter;stroke-width:0.19991;\"/>\n   </g>\n   <g id=\"patch_199\">\n    <path clip-path=\"url(#p62b06a4c95)\" d=\"M 458.426611 333.36 \nL 460.425715 333.36 \nL 460.425715 333.36 \nL 458.426611 333.36 \nz\n\" style=\"fill:#4c72b0;fill-opacity:0.75;stroke:#ffffff;stroke-linejoin:miter;stroke-width:0.19991;\"/>\n   </g>\n   <g id=\"patch_200\">\n    <path clip-path=\"url(#p62b06a4c95)\" d=\"M 460.425715 333.36 \nL 462.424819 333.36 \nL 462.424819 333.36 \nL 460.425715 333.36 \nz\n\" style=\"fill:#4c72b0;fill-opacity:0.75;stroke:#ffffff;stroke-linejoin:miter;stroke-width:0.19991;\"/>\n   </g>\n   <g id=\"patch_201\">\n    <path clip-path=\"url(#p62b06a4c95)\" d=\"M 462.424819 333.36 \nL 464.423924 333.36 \nL 464.423924 333.36 \nL 462.424819 333.36 \nz\n\" style=\"fill:#4c72b0;fill-opacity:0.75;stroke:#ffffff;stroke-linejoin:miter;stroke-width:0.19991;\"/>\n   </g>\n   <g id=\"patch_202\">\n    <path clip-path=\"url(#p62b06a4c95)\" d=\"M 464.423924 333.36 \nL 466.423028 333.36 \nL 466.423028 333.36 \nL 464.423924 333.36 \nz\n\" style=\"fill:#4c72b0;fill-opacity:0.75;stroke:#ffffff;stroke-linejoin:miter;stroke-width:0.19991;\"/>\n   </g>\n   <g id=\"patch_203\">\n    <path clip-path=\"url(#p62b06a4c95)\" d=\"M 466.423028 333.36 \nL 468.422132 333.36 \nL 468.422132 333.36 \nL 466.423028 333.36 \nz\n\" style=\"fill:#4c72b0;fill-opacity:0.75;stroke:#ffffff;stroke-linejoin:miter;stroke-width:0.19991;\"/>\n   </g>\n   <g id=\"patch_204\">\n    <path clip-path=\"url(#p62b06a4c95)\" d=\"M 468.422132 333.36 \nL 470.421237 333.36 \nL 470.421237 333.36 \nL 468.422132 333.36 \nz\n\" style=\"fill:#4c72b0;fill-opacity:0.75;stroke:#ffffff;stroke-linejoin:miter;stroke-width:0.19991;\"/>\n   </g>\n   <g id=\"patch_205\">\n    <path clip-path=\"url(#p62b06a4c95)\" d=\"M 470.421237 333.36 \nL 472.420341 333.36 \nL 472.420341 325.964082 \nL 470.421237 325.964082 \nz\n\" style=\"fill:#4c72b0;fill-opacity:0.75;stroke:#ffffff;stroke-linejoin:miter;stroke-width:0.19991;\"/>\n   </g>\n   <g id=\"patch_206\">\n    <path d=\"M 46.31125 333.36 \nL 46.31125 7.2 \n\" style=\"fill:none;stroke:#ffffff;stroke-linecap:square;stroke-linejoin:miter;stroke-width:1.25;\"/>\n   </g>\n   <g id=\"patch_207\">\n    <path d=\"M 492.71125 333.36 \nL 492.71125 7.2 \n\" style=\"fill:none;stroke:#ffffff;stroke-linecap:square;stroke-linejoin:miter;stroke-width:1.25;\"/>\n   </g>\n   <g id=\"patch_208\">\n    <path d=\"M 46.31125 333.36 \nL 492.71125 333.36 \n\" style=\"fill:none;stroke:#ffffff;stroke-linecap:square;stroke-linejoin:miter;stroke-width:1.25;\"/>\n   </g>\n   <g id=\"patch_209\">\n    <path d=\"M 46.31125 7.2 \nL 492.71125 7.2 \n\" style=\"fill:none;stroke:#ffffff;stroke-linecap:square;stroke-linejoin:miter;stroke-width:1.25;\"/>\n   </g>\n  </g>\n </g>\n <defs>\n  <clipPath id=\"p62b06a4c95\">\n   <rect height=\"326.16\" width=\"446.4\" x=\"46.31125\" y=\"7.2\"/>\n  </clipPath>\n </defs>\n</svg>\n"
          },
          "metadata": {
            "tags": [],
            "needs_background": "light"
          }
        }
      ]
    },
    {
      "cell_type": "code",
      "metadata": {
        "colab": {
          "base_uri": "https://localhost:8080/",
          "height": 523
        },
        "id": "DXcJuf_Fw8By",
        "outputId": "b23085d3-7b92-4047-bfd9-abe052fffcb2"
      },
      "source": [
        "# histogram of somewhat cleaned time machine question restricted to 1900-2100\n",
        "sns.histplot(year_series_numeric \\\n",
        "             .loc[year_series_numeric \\\n",
        "             .isin(range(1900, 2100))])\n",
        "plt.show()"
      ],
      "execution_count": 279,
      "outputs": [
        {
          "output_type": "display_data",
          "data": {
            "text/plain": [
              "<Figure size 800x600 with 1 Axes>"
            ],
            "image/svg+xml": "<?xml version=\"1.0\" encoding=\"utf-8\" standalone=\"no\"?>\n<!DOCTYPE svg PUBLIC \"-//W3C//DTD SVG 1.1//EN\"\n  \"http://www.w3.org/Graphics/SVG/1.1/DTD/svg11.dtd\">\n<!-- Created with matplotlib (https://matplotlib.org/) -->\n<svg height=\"376.319688pt\" version=\"1.1\" viewBox=\"0 0 505.55367 376.319688\" width=\"505.55367pt\" xmlns=\"http://www.w3.org/2000/svg\" xmlns:xlink=\"http://www.w3.org/1999/xlink\">\n <defs>\n  <style type=\"text/css\">\n*{stroke-linecap:butt;stroke-linejoin:round;}\n  </style>\n </defs>\n <g id=\"figure_1\">\n  <g id=\"patch_1\">\n   <path d=\"M 0 376.319688 \nL 505.55367 376.319688 \nL 505.55367 0 \nL 0 0 \nz\n\" style=\"fill:none;\"/>\n  </g>\n  <g id=\"axes_1\">\n   <g id=\"patch_2\">\n    <path d=\"M 46.31125 333.36 \nL 492.71125 333.36 \nL 492.71125 7.2 \nL 46.31125 7.2 \nz\n\" style=\"fill:#eaeaf2;\"/>\n   </g>\n   <g id=\"matplotlib.axis_1\">\n    <g id=\"xtick_1\">\n     <g id=\"line2d_1\">\n      <path clip-path=\"url(#pef94aa79ad)\" d=\"M 66.602159 333.36 \nL 66.602159 7.2 \n\" style=\"fill:none;stroke:#ffffff;stroke-linecap:round;\"/>\n     </g>\n     <g id=\"text_1\">\n      <!-- 1900 -->\n      <defs>\n       <path d=\"M 12.40625 8.296875 \nL 28.515625 8.296875 \nL 28.515625 63.921875 \nL 10.984375 60.40625 \nL 10.984375 69.390625 \nL 28.421875 72.90625 \nL 38.28125 72.90625 \nL 38.28125 8.296875 \nL 54.390625 8.296875 \nL 54.390625 0 \nL 12.40625 0 \nz\n\" id=\"DejaVuSans-49\"/>\n       <path d=\"M 10.984375 1.515625 \nL 10.984375 10.5 \nQ 14.703125 8.734375 18.5 7.8125 \nQ 22.3125 6.890625 25.984375 6.890625 \nQ 35.75 6.890625 40.890625 13.453125 \nQ 46.046875 20.015625 46.78125 33.40625 \nQ 43.953125 29.203125 39.59375 26.953125 \nQ 35.25 24.703125 29.984375 24.703125 \nQ 19.046875 24.703125 12.671875 31.3125 \nQ 6.296875 37.9375 6.296875 49.421875 \nQ 6.296875 60.640625 12.9375 67.421875 \nQ 19.578125 74.21875 30.609375 74.21875 \nQ 43.265625 74.21875 49.921875 64.515625 \nQ 56.59375 54.828125 56.59375 36.375 \nQ 56.59375 19.140625 48.40625 8.859375 \nQ 40.234375 -1.421875 26.421875 -1.421875 \nQ 22.703125 -1.421875 18.890625 -0.6875 \nQ 15.09375 0.046875 10.984375 1.515625 \nz\nM 30.609375 32.421875 \nQ 37.25 32.421875 41.125 36.953125 \nQ 45.015625 41.5 45.015625 49.421875 \nQ 45.015625 57.28125 41.125 61.84375 \nQ 37.25 66.40625 30.609375 66.40625 \nQ 23.96875 66.40625 20.09375 61.84375 \nQ 16.21875 57.28125 16.21875 49.421875 \nQ 16.21875 41.5 20.09375 36.953125 \nQ 23.96875 32.421875 30.609375 32.421875 \nz\n\" id=\"DejaVuSans-57\"/>\n       <path d=\"M 31.78125 66.40625 \nQ 24.171875 66.40625 20.328125 58.90625 \nQ 16.5 51.421875 16.5 36.375 \nQ 16.5 21.390625 20.328125 13.890625 \nQ 24.171875 6.390625 31.78125 6.390625 \nQ 39.453125 6.390625 43.28125 13.890625 \nQ 47.125 21.390625 47.125 36.375 \nQ 47.125 51.421875 43.28125 58.90625 \nQ 39.453125 66.40625 31.78125 66.40625 \nz\nM 31.78125 74.21875 \nQ 44.046875 74.21875 50.515625 64.515625 \nQ 56.984375 54.828125 56.984375 36.375 \nQ 56.984375 17.96875 50.515625 8.265625 \nQ 44.046875 -1.421875 31.78125 -1.421875 \nQ 19.53125 -1.421875 13.0625 8.265625 \nQ 6.59375 17.96875 6.59375 36.375 \nQ 6.59375 54.828125 13.0625 64.515625 \nQ 19.53125 74.21875 31.78125 74.21875 \nz\n\" id=\"DejaVuSans-48\"/>\n      </defs>\n      <g style=\"fill:#262626;\" transform=\"translate(52.604659 351.218281)scale(0.11 -0.11)\">\n       <use xlink:href=\"#DejaVuSans-49\"/>\n       <use x=\"63.623047\" xlink:href=\"#DejaVuSans-57\"/>\n       <use x=\"127.246094\" xlink:href=\"#DejaVuSans-48\"/>\n       <use x=\"190.869141\" xlink:href=\"#DejaVuSans-48\"/>\n      </g>\n     </g>\n    </g>\n    <g id=\"xtick_2\">\n     <g id=\"line2d_2\">\n      <path clip-path=\"url(#pef94aa79ad)\" d=\"M 126.281303 333.36 \nL 126.281303 7.2 \n\" style=\"fill:none;stroke:#ffffff;stroke-linecap:round;\"/>\n     </g>\n     <g id=\"text_2\">\n      <!-- 1925 -->\n      <defs>\n       <path d=\"M 19.1875 8.296875 \nL 53.609375 8.296875 \nL 53.609375 0 \nL 7.328125 0 \nL 7.328125 8.296875 \nQ 12.9375 14.109375 22.625 23.890625 \nQ 32.328125 33.6875 34.8125 36.53125 \nQ 39.546875 41.84375 41.421875 45.53125 \nQ 43.3125 49.21875 43.3125 52.78125 \nQ 43.3125 58.59375 39.234375 62.25 \nQ 35.15625 65.921875 28.609375 65.921875 \nQ 23.96875 65.921875 18.8125 64.3125 \nQ 13.671875 62.703125 7.8125 59.421875 \nL 7.8125 69.390625 \nQ 13.765625 71.78125 18.9375 73 \nQ 24.125 74.21875 28.421875 74.21875 \nQ 39.75 74.21875 46.484375 68.546875 \nQ 53.21875 62.890625 53.21875 53.421875 \nQ 53.21875 48.921875 51.53125 44.890625 \nQ 49.859375 40.875 45.40625 35.40625 \nQ 44.1875 33.984375 37.640625 27.21875 \nQ 31.109375 20.453125 19.1875 8.296875 \nz\n\" id=\"DejaVuSans-50\"/>\n       <path d=\"M 10.796875 72.90625 \nL 49.515625 72.90625 \nL 49.515625 64.59375 \nL 19.828125 64.59375 \nL 19.828125 46.734375 \nQ 21.96875 47.46875 24.109375 47.828125 \nQ 26.265625 48.1875 28.421875 48.1875 \nQ 40.625 48.1875 47.75 41.5 \nQ 54.890625 34.8125 54.890625 23.390625 \nQ 54.890625 11.625 47.5625 5.09375 \nQ 40.234375 -1.421875 26.90625 -1.421875 \nQ 22.3125 -1.421875 17.546875 -0.640625 \nQ 12.796875 0.140625 7.71875 1.703125 \nL 7.71875 11.625 \nQ 12.109375 9.234375 16.796875 8.0625 \nQ 21.484375 6.890625 26.703125 6.890625 \nQ 35.15625 6.890625 40.078125 11.328125 \nQ 45.015625 15.765625 45.015625 23.390625 \nQ 45.015625 31 40.078125 35.4375 \nQ 35.15625 39.890625 26.703125 39.890625 \nQ 22.75 39.890625 18.8125 39.015625 \nQ 14.890625 38.140625 10.796875 36.28125 \nz\n\" id=\"DejaVuSans-53\"/>\n      </defs>\n      <g style=\"fill:#262626;\" transform=\"translate(112.283803 351.218281)scale(0.11 -0.11)\">\n       <use xlink:href=\"#DejaVuSans-49\"/>\n       <use x=\"63.623047\" xlink:href=\"#DejaVuSans-57\"/>\n       <use x=\"127.246094\" xlink:href=\"#DejaVuSans-50\"/>\n       <use x=\"190.869141\" xlink:href=\"#DejaVuSans-53\"/>\n      </g>\n     </g>\n    </g>\n    <g id=\"xtick_3\">\n     <g id=\"line2d_3\">\n      <path clip-path=\"url(#pef94aa79ad)\" d=\"M 185.960448 333.36 \nL 185.960448 7.2 \n\" style=\"fill:none;stroke:#ffffff;stroke-linecap:round;\"/>\n     </g>\n     <g id=\"text_3\">\n      <!-- 1950 -->\n      <g style=\"fill:#262626;\" transform=\"translate(171.962948 351.218281)scale(0.11 -0.11)\">\n       <use xlink:href=\"#DejaVuSans-49\"/>\n       <use x=\"63.623047\" xlink:href=\"#DejaVuSans-57\"/>\n       <use x=\"127.246094\" xlink:href=\"#DejaVuSans-53\"/>\n       <use x=\"190.869141\" xlink:href=\"#DejaVuSans-48\"/>\n      </g>\n     </g>\n    </g>\n    <g id=\"xtick_4\">\n     <g id=\"line2d_4\">\n      <path clip-path=\"url(#pef94aa79ad)\" d=\"M 245.639592 333.36 \nL 245.639592 7.2 \n\" style=\"fill:none;stroke:#ffffff;stroke-linecap:round;\"/>\n     </g>\n     <g id=\"text_4\">\n      <!-- 1975 -->\n      <defs>\n       <path d=\"M 8.203125 72.90625 \nL 55.078125 72.90625 \nL 55.078125 68.703125 \nL 28.609375 0 \nL 18.3125 0 \nL 43.21875 64.59375 \nL 8.203125 64.59375 \nz\n\" id=\"DejaVuSans-55\"/>\n      </defs>\n      <g style=\"fill:#262626;\" transform=\"translate(231.642092 351.218281)scale(0.11 -0.11)\">\n       <use xlink:href=\"#DejaVuSans-49\"/>\n       <use x=\"63.623047\" xlink:href=\"#DejaVuSans-57\"/>\n       <use x=\"127.246094\" xlink:href=\"#DejaVuSans-55\"/>\n       <use x=\"190.869141\" xlink:href=\"#DejaVuSans-53\"/>\n      </g>\n     </g>\n    </g>\n    <g id=\"xtick_5\">\n     <g id=\"line2d_5\">\n      <path clip-path=\"url(#pef94aa79ad)\" d=\"M 305.318737 333.36 \nL 305.318737 7.2 \n\" style=\"fill:none;stroke:#ffffff;stroke-linecap:round;\"/>\n     </g>\n     <g id=\"text_5\">\n      <!-- 2000 -->\n      <g style=\"fill:#262626;\" transform=\"translate(291.321237 351.218281)scale(0.11 -0.11)\">\n       <use xlink:href=\"#DejaVuSans-50\"/>\n       <use x=\"63.623047\" xlink:href=\"#DejaVuSans-48\"/>\n       <use x=\"127.246094\" xlink:href=\"#DejaVuSans-48\"/>\n       <use x=\"190.869141\" xlink:href=\"#DejaVuSans-48\"/>\n      </g>\n     </g>\n    </g>\n    <g id=\"xtick_6\">\n     <g id=\"line2d_6\">\n      <path clip-path=\"url(#pef94aa79ad)\" d=\"M 364.997881 333.36 \nL 364.997881 7.2 \n\" style=\"fill:none;stroke:#ffffff;stroke-linecap:round;\"/>\n     </g>\n     <g id=\"text_6\">\n      <!-- 2025 -->\n      <g style=\"fill:#262626;\" transform=\"translate(351.000381 351.218281)scale(0.11 -0.11)\">\n       <use xlink:href=\"#DejaVuSans-50\"/>\n       <use x=\"63.623047\" xlink:href=\"#DejaVuSans-48\"/>\n       <use x=\"127.246094\" xlink:href=\"#DejaVuSans-50\"/>\n       <use x=\"190.869141\" xlink:href=\"#DejaVuSans-53\"/>\n      </g>\n     </g>\n    </g>\n    <g id=\"xtick_7\">\n     <g id=\"line2d_7\">\n      <path clip-path=\"url(#pef94aa79ad)\" d=\"M 424.677025 333.36 \nL 424.677025 7.2 \n\" style=\"fill:none;stroke:#ffffff;stroke-linecap:round;\"/>\n     </g>\n     <g id=\"text_7\">\n      <!-- 2050 -->\n      <g style=\"fill:#262626;\" transform=\"translate(410.679525 351.218281)scale(0.11 -0.11)\">\n       <use xlink:href=\"#DejaVuSans-50\"/>\n       <use x=\"63.623047\" xlink:href=\"#DejaVuSans-48\"/>\n       <use x=\"127.246094\" xlink:href=\"#DejaVuSans-53\"/>\n       <use x=\"190.869141\" xlink:href=\"#DejaVuSans-48\"/>\n      </g>\n     </g>\n    </g>\n    <g id=\"xtick_8\">\n     <g id=\"line2d_8\">\n      <path clip-path=\"url(#pef94aa79ad)\" d=\"M 484.35617 333.36 \nL 484.35617 7.2 \n\" style=\"fill:none;stroke:#ffffff;stroke-linecap:round;\"/>\n     </g>\n     <g id=\"text_8\">\n      <!-- 2075 -->\n      <g style=\"fill:#262626;\" transform=\"translate(470.35867 351.218281)scale(0.11 -0.11)\">\n       <use xlink:href=\"#DejaVuSans-50\"/>\n       <use x=\"63.623047\" xlink:href=\"#DejaVuSans-48\"/>\n       <use x=\"127.246094\" xlink:href=\"#DejaVuSans-55\"/>\n       <use x=\"190.869141\" xlink:href=\"#DejaVuSans-53\"/>\n      </g>\n     </g>\n    </g>\n    <g id=\"text_9\">\n     <!-- year -->\n     <defs>\n      <path d=\"M 32.171875 -5.078125 \nQ 28.375 -14.84375 24.75 -17.8125 \nQ 21.140625 -20.796875 15.09375 -20.796875 \nL 7.90625 -20.796875 \nL 7.90625 -13.28125 \nL 13.1875 -13.28125 \nQ 16.890625 -13.28125 18.9375 -11.515625 \nQ 21 -9.765625 23.484375 -3.21875 \nL 25.09375 0.875 \nL 2.984375 54.6875 \nL 12.5 54.6875 \nL 29.59375 11.921875 \nL 46.6875 54.6875 \nL 56.203125 54.6875 \nz\n\" id=\"DejaVuSans-121\"/>\n      <path d=\"M 56.203125 29.59375 \nL 56.203125 25.203125 \nL 14.890625 25.203125 \nQ 15.484375 15.921875 20.484375 11.0625 \nQ 25.484375 6.203125 34.421875 6.203125 \nQ 39.59375 6.203125 44.453125 7.46875 \nQ 49.3125 8.734375 54.109375 11.28125 \nL 54.109375 2.78125 \nQ 49.265625 0.734375 44.1875 -0.34375 \nQ 39.109375 -1.421875 33.890625 -1.421875 \nQ 20.796875 -1.421875 13.15625 6.1875 \nQ 5.515625 13.8125 5.515625 26.8125 \nQ 5.515625 40.234375 12.765625 48.109375 \nQ 20.015625 56 32.328125 56 \nQ 43.359375 56 49.78125 48.890625 \nQ 56.203125 41.796875 56.203125 29.59375 \nz\nM 47.21875 32.234375 \nQ 47.125 39.59375 43.09375 43.984375 \nQ 39.0625 48.390625 32.421875 48.390625 \nQ 24.90625 48.390625 20.390625 44.140625 \nQ 15.875 39.890625 15.1875 32.171875 \nz\n\" id=\"DejaVuSans-101\"/>\n      <path d=\"M 34.28125 27.484375 \nQ 23.390625 27.484375 19.1875 25 \nQ 14.984375 22.515625 14.984375 16.5 \nQ 14.984375 11.71875 18.140625 8.90625 \nQ 21.296875 6.109375 26.703125 6.109375 \nQ 34.1875 6.109375 38.703125 11.40625 \nQ 43.21875 16.703125 43.21875 25.484375 \nL 43.21875 27.484375 \nz\nM 52.203125 31.203125 \nL 52.203125 0 \nL 43.21875 0 \nL 43.21875 8.296875 \nQ 40.140625 3.328125 35.546875 0.953125 \nQ 30.953125 -1.421875 24.3125 -1.421875 \nQ 15.921875 -1.421875 10.953125 3.296875 \nQ 6 8.015625 6 15.921875 \nQ 6 25.140625 12.171875 29.828125 \nQ 18.359375 34.515625 30.609375 34.515625 \nL 43.21875 34.515625 \nL 43.21875 35.40625 \nQ 43.21875 41.609375 39.140625 45 \nQ 35.0625 48.390625 27.6875 48.390625 \nQ 23 48.390625 18.546875 47.265625 \nQ 14.109375 46.140625 10.015625 43.890625 \nL 10.015625 52.203125 \nQ 14.9375 54.109375 19.578125 55.046875 \nQ 24.21875 56 28.609375 56 \nQ 40.484375 56 46.34375 49.84375 \nQ 52.203125 43.703125 52.203125 31.203125 \nz\n\" id=\"DejaVuSans-97\"/>\n      <path d=\"M 41.109375 46.296875 \nQ 39.59375 47.171875 37.8125 47.578125 \nQ 36.03125 48 33.890625 48 \nQ 26.265625 48 22.1875 43.046875 \nQ 18.109375 38.09375 18.109375 28.8125 \nL 18.109375 0 \nL 9.078125 0 \nL 9.078125 54.6875 \nL 18.109375 54.6875 \nL 18.109375 46.1875 \nQ 20.953125 51.171875 25.484375 53.578125 \nQ 30.03125 56 36.53125 56 \nQ 37.453125 56 38.578125 55.875 \nQ 39.703125 55.765625 41.0625 55.515625 \nz\n\" id=\"DejaVuSans-114\"/>\n     </defs>\n     <g style=\"fill:#262626;\" transform=\"translate(256.124687 366.624063)scale(0.12 -0.12)\">\n      <use xlink:href=\"#DejaVuSans-121\"/>\n      <use x=\"59.179688\" xlink:href=\"#DejaVuSans-101\"/>\n      <use x=\"120.703125\" xlink:href=\"#DejaVuSans-97\"/>\n      <use x=\"181.982422\" xlink:href=\"#DejaVuSans-114\"/>\n     </g>\n    </g>\n   </g>\n   <g id=\"matplotlib.axis_2\">\n    <g id=\"ytick_1\">\n     <g id=\"line2d_9\">\n      <path clip-path=\"url(#pef94aa79ad)\" d=\"M 46.31125 333.36 \nL 492.71125 333.36 \n\" style=\"fill:none;stroke:#ffffff;stroke-linecap:round;\"/>\n     </g>\n     <g id=\"text_10\">\n      <!-- 0 -->\n      <g style=\"fill:#262626;\" transform=\"translate(29.8125 337.539141)scale(0.11 -0.11)\">\n       <use xlink:href=\"#DejaVuSans-48\"/>\n      </g>\n     </g>\n    </g>\n    <g id=\"ytick_2\">\n     <g id=\"line2d_10\">\n      <path clip-path=\"url(#pef94aa79ad)\" d=\"M 46.31125 292.48782 \nL 492.71125 292.48782 \n\" style=\"fill:none;stroke:#ffffff;stroke-linecap:round;\"/>\n     </g>\n     <g id=\"text_11\">\n      <!-- 5 -->\n      <g style=\"fill:#262626;\" transform=\"translate(29.8125 296.66696)scale(0.11 -0.11)\">\n       <use xlink:href=\"#DejaVuSans-53\"/>\n      </g>\n     </g>\n    </g>\n    <g id=\"ytick_3\">\n     <g id=\"line2d_11\">\n      <path clip-path=\"url(#pef94aa79ad)\" d=\"M 46.31125 251.615639 \nL 492.71125 251.615639 \n\" style=\"fill:none;stroke:#ffffff;stroke-linecap:round;\"/>\n     </g>\n     <g id=\"text_12\">\n      <!-- 10 -->\n      <g style=\"fill:#262626;\" transform=\"translate(22.81375 255.79478)scale(0.11 -0.11)\">\n       <use xlink:href=\"#DejaVuSans-49\"/>\n       <use x=\"63.623047\" xlink:href=\"#DejaVuSans-48\"/>\n      </g>\n     </g>\n    </g>\n    <g id=\"ytick_4\">\n     <g id=\"line2d_12\">\n      <path clip-path=\"url(#pef94aa79ad)\" d=\"M 46.31125 210.743459 \nL 492.71125 210.743459 \n\" style=\"fill:none;stroke:#ffffff;stroke-linecap:round;\"/>\n     </g>\n     <g id=\"text_13\">\n      <!-- 15 -->\n      <g style=\"fill:#262626;\" transform=\"translate(22.81375 214.922599)scale(0.11 -0.11)\">\n       <use xlink:href=\"#DejaVuSans-49\"/>\n       <use x=\"63.623047\" xlink:href=\"#DejaVuSans-53\"/>\n      </g>\n     </g>\n    </g>\n    <g id=\"ytick_5\">\n     <g id=\"line2d_13\">\n      <path clip-path=\"url(#pef94aa79ad)\" d=\"M 46.31125 169.871278 \nL 492.71125 169.871278 \n\" style=\"fill:none;stroke:#ffffff;stroke-linecap:round;\"/>\n     </g>\n     <g id=\"text_14\">\n      <!-- 20 -->\n      <g style=\"fill:#262626;\" transform=\"translate(22.81375 174.050419)scale(0.11 -0.11)\">\n       <use xlink:href=\"#DejaVuSans-50\"/>\n       <use x=\"63.623047\" xlink:href=\"#DejaVuSans-48\"/>\n      </g>\n     </g>\n    </g>\n    <g id=\"ytick_6\">\n     <g id=\"line2d_14\">\n      <path clip-path=\"url(#pef94aa79ad)\" d=\"M 46.31125 128.999098 \nL 492.71125 128.999098 \n\" style=\"fill:none;stroke:#ffffff;stroke-linecap:round;\"/>\n     </g>\n     <g id=\"text_15\">\n      <!-- 25 -->\n      <g style=\"fill:#262626;\" transform=\"translate(22.81375 133.178238)scale(0.11 -0.11)\">\n       <use xlink:href=\"#DejaVuSans-50\"/>\n       <use x=\"63.623047\" xlink:href=\"#DejaVuSans-53\"/>\n      </g>\n     </g>\n    </g>\n    <g id=\"ytick_7\">\n     <g id=\"line2d_15\">\n      <path clip-path=\"url(#pef94aa79ad)\" d=\"M 46.31125 88.126917 \nL 492.71125 88.126917 \n\" style=\"fill:none;stroke:#ffffff;stroke-linecap:round;\"/>\n     </g>\n     <g id=\"text_16\">\n      <!-- 30 -->\n      <defs>\n       <path d=\"M 40.578125 39.3125 \nQ 47.65625 37.796875 51.625 33 \nQ 55.609375 28.21875 55.609375 21.1875 \nQ 55.609375 10.40625 48.1875 4.484375 \nQ 40.765625 -1.421875 27.09375 -1.421875 \nQ 22.515625 -1.421875 17.65625 -0.515625 \nQ 12.796875 0.390625 7.625 2.203125 \nL 7.625 11.71875 \nQ 11.71875 9.328125 16.59375 8.109375 \nQ 21.484375 6.890625 26.8125 6.890625 \nQ 36.078125 6.890625 40.9375 10.546875 \nQ 45.796875 14.203125 45.796875 21.1875 \nQ 45.796875 27.640625 41.28125 31.265625 \nQ 36.765625 34.90625 28.71875 34.90625 \nL 20.21875 34.90625 \nL 20.21875 43.015625 \nL 29.109375 43.015625 \nQ 36.375 43.015625 40.234375 45.921875 \nQ 44.09375 48.828125 44.09375 54.296875 \nQ 44.09375 59.90625 40.109375 62.90625 \nQ 36.140625 65.921875 28.71875 65.921875 \nQ 24.65625 65.921875 20.015625 65.03125 \nQ 15.375 64.15625 9.8125 62.3125 \nL 9.8125 71.09375 \nQ 15.4375 72.65625 20.34375 73.4375 \nQ 25.25 74.21875 29.59375 74.21875 \nQ 40.828125 74.21875 47.359375 69.109375 \nQ 53.90625 64.015625 53.90625 55.328125 \nQ 53.90625 49.265625 50.4375 45.09375 \nQ 46.96875 40.921875 40.578125 39.3125 \nz\n\" id=\"DejaVuSans-51\"/>\n      </defs>\n      <g style=\"fill:#262626;\" transform=\"translate(22.81375 92.306058)scale(0.11 -0.11)\">\n       <use xlink:href=\"#DejaVuSans-51\"/>\n       <use x=\"63.623047\" xlink:href=\"#DejaVuSans-48\"/>\n      </g>\n     </g>\n    </g>\n    <g id=\"ytick_8\">\n     <g id=\"line2d_16\">\n      <path clip-path=\"url(#pef94aa79ad)\" d=\"M 46.31125 47.254737 \nL 492.71125 47.254737 \n\" style=\"fill:none;stroke:#ffffff;stroke-linecap:round;\"/>\n     </g>\n     <g id=\"text_17\">\n      <!-- 35 -->\n      <g style=\"fill:#262626;\" transform=\"translate(22.81375 51.433877)scale(0.11 -0.11)\">\n       <use xlink:href=\"#DejaVuSans-51\"/>\n       <use x=\"63.623047\" xlink:href=\"#DejaVuSans-53\"/>\n      </g>\n     </g>\n    </g>\n    <g id=\"text_18\">\n     <!-- Count -->\n     <defs>\n      <path d=\"M 64.40625 67.28125 \nL 64.40625 56.890625 \nQ 59.421875 61.53125 53.78125 63.8125 \nQ 48.140625 66.109375 41.796875 66.109375 \nQ 29.296875 66.109375 22.65625 58.46875 \nQ 16.015625 50.828125 16.015625 36.375 \nQ 16.015625 21.96875 22.65625 14.328125 \nQ 29.296875 6.6875 41.796875 6.6875 \nQ 48.140625 6.6875 53.78125 8.984375 \nQ 59.421875 11.28125 64.40625 15.921875 \nL 64.40625 5.609375 \nQ 59.234375 2.09375 53.4375 0.328125 \nQ 47.65625 -1.421875 41.21875 -1.421875 \nQ 24.65625 -1.421875 15.125 8.703125 \nQ 5.609375 18.84375 5.609375 36.375 \nQ 5.609375 53.953125 15.125 64.078125 \nQ 24.65625 74.21875 41.21875 74.21875 \nQ 47.75 74.21875 53.53125 72.484375 \nQ 59.328125 70.75 64.40625 67.28125 \nz\n\" id=\"DejaVuSans-67\"/>\n      <path d=\"M 30.609375 48.390625 \nQ 23.390625 48.390625 19.1875 42.75 \nQ 14.984375 37.109375 14.984375 27.296875 \nQ 14.984375 17.484375 19.15625 11.84375 \nQ 23.34375 6.203125 30.609375 6.203125 \nQ 37.796875 6.203125 41.984375 11.859375 \nQ 46.1875 17.53125 46.1875 27.296875 \nQ 46.1875 37.015625 41.984375 42.703125 \nQ 37.796875 48.390625 30.609375 48.390625 \nz\nM 30.609375 56 \nQ 42.328125 56 49.015625 48.375 \nQ 55.71875 40.765625 55.71875 27.296875 \nQ 55.71875 13.875 49.015625 6.21875 \nQ 42.328125 -1.421875 30.609375 -1.421875 \nQ 18.84375 -1.421875 12.171875 6.21875 \nQ 5.515625 13.875 5.515625 27.296875 \nQ 5.515625 40.765625 12.171875 48.375 \nQ 18.84375 56 30.609375 56 \nz\n\" id=\"DejaVuSans-111\"/>\n      <path d=\"M 8.5 21.578125 \nL 8.5 54.6875 \nL 17.484375 54.6875 \nL 17.484375 21.921875 \nQ 17.484375 14.15625 20.5 10.265625 \nQ 23.53125 6.390625 29.59375 6.390625 \nQ 36.859375 6.390625 41.078125 11.03125 \nQ 45.3125 15.671875 45.3125 23.6875 \nL 45.3125 54.6875 \nL 54.296875 54.6875 \nL 54.296875 0 \nL 45.3125 0 \nL 45.3125 8.40625 \nQ 42.046875 3.421875 37.71875 1 \nQ 33.40625 -1.421875 27.6875 -1.421875 \nQ 18.265625 -1.421875 13.375 4.4375 \nQ 8.5 10.296875 8.5 21.578125 \nz\nM 31.109375 56 \nz\n\" id=\"DejaVuSans-117\"/>\n      <path d=\"M 54.890625 33.015625 \nL 54.890625 0 \nL 45.90625 0 \nL 45.90625 32.71875 \nQ 45.90625 40.484375 42.875 44.328125 \nQ 39.84375 48.1875 33.796875 48.1875 \nQ 26.515625 48.1875 22.3125 43.546875 \nQ 18.109375 38.921875 18.109375 30.90625 \nL 18.109375 0 \nL 9.078125 0 \nL 9.078125 54.6875 \nL 18.109375 54.6875 \nL 18.109375 46.1875 \nQ 21.34375 51.125 25.703125 53.5625 \nQ 30.078125 56 35.796875 56 \nQ 45.21875 56 50.046875 50.171875 \nQ 54.890625 44.34375 54.890625 33.015625 \nz\n\" id=\"DejaVuSans-110\"/>\n      <path d=\"M 18.3125 70.21875 \nL 18.3125 54.6875 \nL 36.8125 54.6875 \nL 36.8125 47.703125 \nL 18.3125 47.703125 \nL 18.3125 18.015625 \nQ 18.3125 11.328125 20.140625 9.421875 \nQ 21.96875 7.515625 27.59375 7.515625 \nL 36.8125 7.515625 \nL 36.8125 0 \nL 27.59375 0 \nQ 17.1875 0 13.234375 3.875 \nQ 9.28125 7.765625 9.28125 18.015625 \nL 9.28125 47.703125 \nL 2.6875 47.703125 \nL 2.6875 54.6875 \nL 9.28125 54.6875 \nL 9.28125 70.21875 \nz\n\" id=\"DejaVuSans-116\"/>\n     </defs>\n     <g style=\"fill:#262626;\" transform=\"translate(16.318125 188.098125)rotate(-90)scale(0.12 -0.12)\">\n      <use xlink:href=\"#DejaVuSans-67\"/>\n      <use x=\"69.824219\" xlink:href=\"#DejaVuSans-111\"/>\n      <use x=\"131.005859\" xlink:href=\"#DejaVuSans-117\"/>\n      <use x=\"194.384766\" xlink:href=\"#DejaVuSans-110\"/>\n      <use x=\"257.763672\" xlink:href=\"#DejaVuSans-116\"/>\n     </g>\n    </g>\n   </g>\n   <g id=\"patch_3\">\n    <path clip-path=\"url(#pef94aa79ad)\" d=\"M 66.602159 333.36 \nL 107.183977 333.36 \nL 107.183977 308.836692 \nL 66.602159 308.836692 \nz\n\" style=\"fill:#4c72b0;fill-opacity:0.75;stroke:#ffffff;stroke-linejoin:miter;\"/>\n   </g>\n   <g id=\"patch_4\">\n    <path clip-path=\"url(#pef94aa79ad)\" d=\"M 107.183977 333.36 \nL 147.765795 333.36 \nL 147.765795 161.696842 \nL 107.183977 161.696842 \nz\n\" style=\"fill:#4c72b0;fill-opacity:0.75;stroke:#ffffff;stroke-linejoin:miter;\"/>\n   </g>\n   <g id=\"patch_5\">\n    <path clip-path=\"url(#pef94aa79ad)\" d=\"M 147.765795 333.36 \nL 188.347614 333.36 \nL 188.347614 284.313383 \nL 147.765795 284.313383 \nz\n\" style=\"fill:#4c72b0;fill-opacity:0.75;stroke:#ffffff;stroke-linejoin:miter;\"/>\n   </g>\n   <g id=\"patch_6\">\n    <path clip-path=\"url(#pef94aa79ad)\" d=\"M 188.347614 333.36 \nL 228.929432 333.36 \nL 228.929432 251.615639 \nL 188.347614 251.615639 \nz\n\" style=\"fill:#4c72b0;fill-opacity:0.75;stroke:#ffffff;stroke-linejoin:miter;\"/>\n   </g>\n   <g id=\"patch_7\">\n    <path clip-path=\"url(#pef94aa79ad)\" d=\"M 228.929432 333.36 \nL 269.51125 333.36 \nL 269.51125 178.045714 \nL 228.929432 178.045714 \nz\n\" style=\"fill:#4c72b0;fill-opacity:0.75;stroke:#ffffff;stroke-linejoin:miter;\"/>\n   </g>\n   <g id=\"patch_8\">\n    <path clip-path=\"url(#pef94aa79ad)\" d=\"M 269.51125 333.36 \nL 310.093068 333.36 \nL 310.093068 22.731429 \nL 269.51125 22.731429 \nz\n\" style=\"fill:#4c72b0;fill-opacity:0.75;stroke:#ffffff;stroke-linejoin:miter;\"/>\n   </g>\n   <g id=\"patch_9\">\n    <path clip-path=\"url(#pef94aa79ad)\" d=\"M 310.093068 333.36 \nL 350.674886 333.36 \nL 350.674886 202.569023 \nL 310.093068 202.569023 \nz\n\" style=\"fill:#4c72b0;fill-opacity:0.75;stroke:#ffffff;stroke-linejoin:miter;\"/>\n   </g>\n   <g id=\"patch_10\">\n    <path clip-path=\"url(#pef94aa79ad)\" d=\"M 350.674886 333.36 \nL 391.256705 333.36 \nL 391.256705 276.138947 \nL 350.674886 276.138947 \nz\n\" style=\"fill:#4c72b0;fill-opacity:0.75;stroke:#ffffff;stroke-linejoin:miter;\"/>\n   </g>\n   <g id=\"patch_11\">\n    <path clip-path=\"url(#pef94aa79ad)\" d=\"M 391.256705 333.36 \nL 431.838523 333.36 \nL 431.838523 284.313383 \nL 391.256705 284.313383 \nz\n\" style=\"fill:#4c72b0;fill-opacity:0.75;stroke:#ffffff;stroke-linejoin:miter;\"/>\n   </g>\n   <g id=\"patch_12\">\n    <path clip-path=\"url(#pef94aa79ad)\" d=\"M 431.838523 333.36 \nL 472.420341 333.36 \nL 472.420341 325.185564 \nL 431.838523 325.185564 \nz\n\" style=\"fill:#4c72b0;fill-opacity:0.75;stroke:#ffffff;stroke-linejoin:miter;\"/>\n   </g>\n   <g id=\"patch_13\">\n    <path d=\"M 46.31125 333.36 \nL 46.31125 7.2 \n\" style=\"fill:none;stroke:#ffffff;stroke-linecap:square;stroke-linejoin:miter;stroke-width:1.25;\"/>\n   </g>\n   <g id=\"patch_14\">\n    <path d=\"M 492.71125 333.36 \nL 492.71125 7.2 \n\" style=\"fill:none;stroke:#ffffff;stroke-linecap:square;stroke-linejoin:miter;stroke-width:1.25;\"/>\n   </g>\n   <g id=\"patch_15\">\n    <path d=\"M 46.31125 333.36 \nL 492.71125 333.36 \n\" style=\"fill:none;stroke:#ffffff;stroke-linecap:square;stroke-linejoin:miter;stroke-width:1.25;\"/>\n   </g>\n   <g id=\"patch_16\">\n    <path d=\"M 46.31125 7.2 \nL 492.71125 7.2 \n\" style=\"fill:none;stroke:#ffffff;stroke-linecap:square;stroke-linejoin:miter;stroke-width:1.25;\"/>\n   </g>\n  </g>\n </g>\n <defs>\n  <clipPath id=\"pef94aa79ad\">\n   <rect height=\"326.16\" width=\"446.4\" x=\"46.31125\" y=\"7.2\"/>\n  </clipPath>\n </defs>\n</svg>\n"
          },
          "metadata": {
            "tags": [],
            "needs_background": "light"
          }
        }
      ]
    },
    {
      "cell_type": "markdown",
      "metadata": {
        "id": "B6OsPMyLV7Zp"
      },
      "source": [
        "## Dealing with Whitespace in Strings\n",
        "When humans are entering data they will often insert extraneous whitespace (things like spaces, tabs, or returns). To properly group or count such data we need to 'strip' away the extra whitespace. If we don't, Python will treat the string 'football' as different from the string ' football' or 'football '.\n",
        "\n",
        "The string method `.strip()` will remove extraneous whitespace from before and after a string. The equivalent in Pandas is the method `.str.strip()`."
      ]
    },
    {
      "cell_type": "code",
      "metadata": {
        "id": "tvmxR-aGV6ia",
        "colab": {
          "base_uri": "https://localhost:8080/"
        },
        "outputId": "8610023c-a436-4991-d2aa-7360a9f612c9"
      },
      "source": [
        "sport_series = df.loc[:, 'sport'] \\\n",
        "                 .dropna() \\\n",
        "                 .str.lower()\n",
        "\n",
        "contains_football_mask = sport_series.str.contains('football')\n",
        "\n",
        "sport_series[contains_football_mask].value_counts()"
      ],
      "execution_count": 280,
      "outputs": [
        {
          "output_type": "execute_result",
          "data": {
            "text/plain": [
              "football                                                                                                                                40\n",
              "football                                                                                                                                 4\n",
              "basketball, football, baseball                                                                                                           2\n",
              "soccer (the real football)                                                                                                               1\n",
              "football or wrestling                                                                                                                    1\n",
              "college football                                                                                                                         1\n",
              "if video games count, super smash bros. if not, football. sometimes baseball when they're not playing the game and doing wacky stuff     1\n",
              "football (mainstream) or something out there like rock climbing                                                                          1\n",
              "football/basketball                                                                                                                      1\n",
              "Name: sport, dtype: int64"
            ]
          },
          "metadata": {
            "tags": []
          },
          "execution_count": 280
        }
      ]
    },
    {
      "cell_type": "markdown",
      "metadata": {
        "id": "O47wlyG-ZCzx"
      },
      "source": [
        "Notice above that the first and second entries both appear to be `'football'`, but they are not the same to Python. `.str.strip()` will help us out here."
      ]
    },
    {
      "cell_type": "code",
      "metadata": {
        "id": "_GTuTantZRKQ",
        "colab": {
          "base_uri": "https://localhost:8080/"
        },
        "outputId": "6d7e42a4-dac8-4239-8b2f-01530dab4874"
      },
      "source": [
        "# using str.strip() to remove whitespace\n",
        "sport_series.loc[contains_football_mask] \\\n",
        "            .str.strip() \\\n",
        "            .value_counts()"
      ],
      "execution_count": 281,
      "outputs": [
        {
          "output_type": "execute_result",
          "data": {
            "text/plain": [
              "football                                                                                                                                44\n",
              "basketball, football, baseball                                                                                                           2\n",
              "soccer (the real football)                                                                                                               1\n",
              "football or wrestling                                                                                                                    1\n",
              "college football                                                                                                                         1\n",
              "if video games count, super smash bros. if not, football. sometimes baseball when they're not playing the game and doing wacky stuff     1\n",
              "football (mainstream) or something out there like rock climbing                                                                          1\n",
              "football/basketball                                                                                                                      1\n",
              "Name: sport, dtype: int64"
            ]
          },
          "metadata": {
            "tags": []
          },
          "execution_count": 281
        }
      ]
    },
    {
      "cell_type": "markdown",
      "metadata": {
        "id": "9_XVqk_KZhHo"
      },
      "source": [
        "If you need to be a bit more careful about how you are stripping whitespace, the functions `str.lstrip()` and `str.rstrip()` are available to just strip whitespace on the left or on the right, respectively."
      ]
    },
    {
      "cell_type": "markdown",
      "metadata": {
        "id": "nys-focuiYou"
      },
      "source": [
        "## Example with 'hangout'\n",
        "Let's see if we can figure out the average for responses to the question: \"What is the optimal number of people to hang out with?\"\n"
      ]
    },
    {
      "cell_type": "code",
      "metadata": {
        "id": "_4HQz8d4byT3",
        "colab": {
          "base_uri": "https://localhost:8080/"
        },
        "outputId": "e7017c87-7d22-4fc1-cdf3-b6260d243e35"
      },
      "source": [
        "# drop duplicates\n",
        "df_drop = df.drop_duplicates(subset = df.columns[1:])\n",
        "\n",
        "# drop missing values\n",
        "hangout_series = df_drop.loc[:, 'hangout']\n",
        "\n",
        "# check the values\n",
        "hangout_series.value_counts()"
      ],
      "execution_count": 282,
      "outputs": [
        {
          "output_type": "execute_result",
          "data": {
            "text/plain": [
              "3                                          50\n",
              "4                                          42\n",
              "5                                          23\n",
              "6                                          15\n",
              "2                                          15\n",
              "7                                           7\n",
              "4-5                                         6\n",
              "1                                           6\n",
              "5-6                                         2\n",
              "8                                           2\n",
              "10                                          2\n",
              "4-6                                         2\n",
              "100                                         2\n",
              "3-7, more is too crowded                    1\n",
              "1-6                                         1\n",
              "3-4                                         1\n",
              "3 others (4 total)                          1\n",
              "3 and me for a game of euchre               1\n",
              "one                                         1\n",
              "1-2                                         1\n",
              "People with similar interests               1\n",
              "20                                          1\n",
              "6-8                                         1\n",
              "3 (4 including me)                          1\n",
              "depends, 4-6 is most comfortable though     1\n",
              "Infinite                                    1\n",
              "9                                           1\n",
              "15                                          1\n",
              "4 (including me)                            1\n",
              "5-7                                         1\n",
              "6-10                                        1\n",
              "Five                                        1\n",
              "11? I have zero preference on this one.     1\n",
              "5 or 6                                      1\n",
              "Unsure                                      1\n",
              "infinity                                    1\n",
              "five                                        1\n",
              "Name: hangout, dtype: int64"
            ]
          },
          "metadata": {
            "tags": []
          },
          "execution_count": 282
        }
      ]
    },
    {
      "cell_type": "code",
      "metadata": {
        "id": "0VMI8wk_e_wO",
        "colab": {
          "base_uri": "https://localhost:8080/"
        },
        "outputId": "daa9f7f0-859e-485c-ec7a-2c15cf6b7d56"
      },
      "source": [
        "# address range responses, like 4-5, by splitting on - and taking the first value\n",
        "hangout_series_clean = hangout_series.str.split('-').str[0]\n",
        "\n",
        "# check the values\n",
        "hangout_series_clean.value_counts()"
      ],
      "execution_count": 283,
      "outputs": [
        {
          "output_type": "execute_result",
          "data": {
            "text/plain": [
              "3                                          52\n",
              "4                                          50\n",
              "5                                          26\n",
              "6                                          17\n",
              "2                                          15\n",
              "1                                           8\n",
              "7                                           7\n",
              "10                                          2\n",
              "100                                         2\n",
              "8                                           2\n",
              "infinity                                    1\n",
              "one                                         1\n",
              "3 and me for a game of euchre               1\n",
              "3 (4 including me)                          1\n",
              "15                                          1\n",
              "20                                          1\n",
              "3 others (4 total)                          1\n",
              "9                                           1\n",
              "Five                                        1\n",
              "4 (including me)                            1\n",
              "5 or 6                                      1\n",
              "People with similar interests               1\n",
              "11? I have zero preference on this one.     1\n",
              "depends, 4                                  1\n",
              "Infinite                                    1\n",
              "Unsure                                      1\n",
              "five                                        1\n",
              "Name: hangout, dtype: int64"
            ]
          },
          "metadata": {
            "tags": []
          },
          "execution_count": 283
        }
      ]
    },
    {
      "cell_type": "code",
      "metadata": {
        "id": "8kyzShTFf3Me",
        "colab": {
          "base_uri": "https://localhost:8080/"
        },
        "outputId": "fa741342-6c10-49fd-e1ea-a1b639a68d45"
      },
      "source": [
        "# address mixed number response by splitting on ' '  and taking the first value of the resulting list\n",
        "hangout_series_clean = hangout_series_clean.str.split(' ').str[0]\n",
        "\n",
        "# check the values\n",
        "hangout_series_clean.value_counts()"
      ],
      "execution_count": 284,
      "outputs": [
        {
          "output_type": "execute_result",
          "data": {
            "text/plain": [
              "3           55\n",
              "4           51\n",
              "5           27\n",
              "6           17\n",
              "2           15\n",
              "1            8\n",
              "7            7\n",
              "100          2\n",
              "10           2\n",
              "8            2\n",
              "one          1\n",
              "Five         1\n",
              "20           1\n",
              "15           1\n",
              "depends,     1\n",
              "Infinite     1\n",
              "9            1\n",
              "People       1\n",
              "Unsure       1\n",
              "11?          1\n",
              "five         1\n",
              "infinity     1\n",
              "Name: hangout, dtype: int64"
            ]
          },
          "metadata": {
            "tags": []
          },
          "execution_count": 284
        }
      ]
    },
    {
      "cell_type": "code",
      "metadata": {
        "id": "yAma5YZdgW3e",
        "colab": {
          "base_uri": "https://localhost:8080/"
        },
        "outputId": "8a00af75-7fcd-4569-cc43-f513633673a4"
      },
      "source": [
        "# address 'one', 'five', '11?', and 'infinite' using replace\n",
        "hangout_series_clean = hangout_series_clean.str.lower()\n",
        "hangout_series_clean = hangout_series_clean.str.replace('one', '1')\n",
        "hangout_series_clean = hangout_series_clean.str.replace('five', '5')\n",
        "hangout_series_clean = hangout_series_clean.str.replace('?', '')\n",
        "hangout_series_clean = hangout_series_clean.str.replace('infinite', 'infinity')\n",
        "\n",
        "# check the values\n",
        "hangout_series_clean.value_counts()"
      ],
      "execution_count": 285,
      "outputs": [
        {
          "output_type": "execute_result",
          "data": {
            "text/plain": [
              "3           55\n",
              "4           51\n",
              "5           29\n",
              "6           17\n",
              "2           15\n",
              "1            9\n",
              "7            7\n",
              "10           2\n",
              "infinity     2\n",
              "8            2\n",
              "100          2\n",
              "9            1\n",
              "unsure       1\n",
              "depends,     1\n",
              "20           1\n",
              "15           1\n",
              "11           1\n",
              "people       1\n",
              "Name: hangout, dtype: int64"
            ]
          },
          "metadata": {
            "tags": []
          },
          "execution_count": 285
        }
      ]
    },
    {
      "cell_type": "code",
      "metadata": {
        "id": "1jbk8bV2hrf9",
        "colab": {
          "base_uri": "https://localhost:8080/"
        },
        "outputId": "00595e5f-a4d3-4162-c959-13229097a437"
      },
      "source": [
        "# convert to numeric using coerce argument\n",
        "hangout_series_clean = pd.to_numeric(hangout_series_clean, errors = 'coerce')\n",
        "\n",
        "# check the values\n",
        "hangout_series_clean.value_counts() "
      ],
      "execution_count": 286,
      "outputs": [
        {
          "output_type": "execute_result",
          "data": {
            "text/plain": [
              "3.0      55\n",
              "4.0      51\n",
              "5.0      29\n",
              "6.0      17\n",
              "2.0      15\n",
              "1.0       9\n",
              "7.0       7\n",
              "inf       2\n",
              "100.0     2\n",
              "10.0      2\n",
              "8.0       2\n",
              "15.0      1\n",
              "11.0      1\n",
              "20.0      1\n",
              "9.0       1\n",
              "Name: hangout, dtype: int64"
            ]
          },
          "metadata": {
            "tags": []
          },
          "execution_count": 286
        }
      ]
    },
    {
      "cell_type": "markdown",
      "metadata": {
        "id": "YceNHVrLmxf8"
      },
      "source": [
        "Note that infinite can be represented by some numeric data types, but including it does odd things to our mean and standard deviation statistics. "
      ]
    },
    {
      "cell_type": "code",
      "metadata": {
        "id": "yOFfWmLFmTeM",
        "colab": {
          "base_uri": "https://localhost:8080/"
        },
        "outputId": "c8fd4585-8555-4315-f635-93508541ff9e"
      },
      "source": [
        "# infinite does odd things to our descriptive statistics \n",
        "hangout_series_clean.describe() "
      ],
      "execution_count": 287,
      "outputs": [
        {
          "output_type": "execute_result",
          "data": {
            "text/plain": [
              "count    195.0\n",
              "mean       inf\n",
              "std        NaN\n",
              "min        1.0\n",
              "25%        3.0\n",
              "50%        4.0\n",
              "75%        5.0\n",
              "max        inf\n",
              "Name: hangout, dtype: float64"
            ]
          },
          "metadata": {
            "tags": []
          },
          "execution_count": 287
        }
      ]
    },
    {
      "cell_type": "code",
      "metadata": {
        "id": "hQQJis13nW-T",
        "colab": {
          "base_uri": "https://localhost:8080/"
        },
        "outputId": "3ed8670f-5c38-4a09-d944-00967b22fc66"
      },
      "source": [
        "# use a mask to remove the infinite values which are represented as np.inf\n",
        "import numpy as np # need this import to address the infinite value\n",
        "hangout_series_clean = hangout_series_clean.loc[hangout_series_clean != np.inf]\n",
        "\n",
        "# check the result\n",
        "hangout_series_clean.describe() "
      ],
      "execution_count": 288,
      "outputs": [
        {
          "output_type": "execute_result",
          "data": {
            "text/plain": [
              "count    193.000000\n",
              "mean       5.155440\n",
              "std        9.970095\n",
              "min        1.000000\n",
              "25%        3.000000\n",
              "50%        4.000000\n",
              "75%        5.000000\n",
              "max      100.000000\n",
              "Name: hangout, dtype: float64"
            ]
          },
          "metadata": {
            "tags": []
          },
          "execution_count": 288
        }
      ]
    },
    {
      "cell_type": "code",
      "metadata": {
        "colab": {
          "base_uri": "https://localhost:8080/",
          "height": 523
        },
        "id": "TY3gIz09yAMC",
        "outputId": "722a4a30-e484-4d98-d3e4-ea3ab3ea35b4"
      },
      "source": [
        "# histogram of somewhat cleaned hangout preference\n",
        "sns.histplot(hangout_series_clean)\n",
        "plt.show()"
      ],
      "execution_count": 289,
      "outputs": [
        {
          "output_type": "display_data",
          "data": {
            "text/plain": [
              "<Figure size 800x600 with 1 Axes>"
            ],
            "image/svg+xml": "<?xml version=\"1.0\" encoding=\"utf-8\" standalone=\"no\"?>\n<!DOCTYPE svg PUBLIC \"-//W3C//DTD SVG 1.1//EN\"\n  \"http://www.w3.org/Graphics/SVG/1.1/DTD/svg11.dtd\">\n<!-- Created with matplotlib (https://matplotlib.org/) -->\n<svg height=\"376.319687pt\" version=\"1.1\" viewBox=\"0 0 499.91125 376.319687\" width=\"499.91125pt\" xmlns=\"http://www.w3.org/2000/svg\" xmlns:xlink=\"http://www.w3.org/1999/xlink\">\n <defs>\n  <style type=\"text/css\">\n*{stroke-linecap:butt;stroke-linejoin:round;}\n  </style>\n </defs>\n <g id=\"figure_1\">\n  <g id=\"patch_1\">\n   <path d=\"M 0 376.319687 \nL 499.91125 376.319687 \nL 499.91125 0 \nL 0 0 \nz\n\" style=\"fill:none;\"/>\n  </g>\n  <g id=\"axes_1\">\n   <g id=\"patch_2\">\n    <path d=\"M 46.31125 333.36 \nL 492.71125 333.36 \nL 492.71125 7.2 \nL 46.31125 7.2 \nz\n\" style=\"fill:#eaeaf2;\"/>\n   </g>\n   <g id=\"matplotlib.axis_1\">\n    <g id=\"xtick_1\">\n     <g id=\"line2d_1\">\n      <path clip-path=\"url(#p91b0f9ad36)\" d=\"M 62.502986 333.36 \nL 62.502986 7.2 \n\" style=\"fill:none;stroke:#ffffff;stroke-linecap:round;\"/>\n     </g>\n     <g id=\"text_1\">\n      <!-- 0 -->\n      <defs>\n       <path d=\"M 31.78125 66.40625 \nQ 24.171875 66.40625 20.328125 58.90625 \nQ 16.5 51.421875 16.5 36.375 \nQ 16.5 21.390625 20.328125 13.890625 \nQ 24.171875 6.390625 31.78125 6.390625 \nQ 39.453125 6.390625 43.28125 13.890625 \nQ 47.125 21.390625 47.125 36.375 \nQ 47.125 51.421875 43.28125 58.90625 \nQ 39.453125 66.40625 31.78125 66.40625 \nz\nM 31.78125 74.21875 \nQ 44.046875 74.21875 50.515625 64.515625 \nQ 56.984375 54.828125 56.984375 36.375 \nQ 56.984375 17.96875 50.515625 8.265625 \nQ 44.046875 -1.421875 31.78125 -1.421875 \nQ 19.53125 -1.421875 13.0625 8.265625 \nQ 6.59375 17.96875 6.59375 36.375 \nQ 6.59375 54.828125 13.0625 64.515625 \nQ 19.53125 74.21875 31.78125 74.21875 \nz\n\" id=\"DejaVuSans-48\"/>\n      </defs>\n      <g style=\"fill:#262626;\" transform=\"translate(59.003611 351.218281)scale(0.11 -0.11)\">\n       <use xlink:href=\"#DejaVuSans-48\"/>\n      </g>\n     </g>\n    </g>\n    <g id=\"xtick_2\">\n     <g id=\"line2d_2\">\n      <path clip-path=\"url(#p91b0f9ad36)\" d=\"M 144.486457 333.36 \nL 144.486457 7.2 \n\" style=\"fill:none;stroke:#ffffff;stroke-linecap:round;\"/>\n     </g>\n     <g id=\"text_2\">\n      <!-- 20 -->\n      <defs>\n       <path d=\"M 19.1875 8.296875 \nL 53.609375 8.296875 \nL 53.609375 0 \nL 7.328125 0 \nL 7.328125 8.296875 \nQ 12.9375 14.109375 22.625 23.890625 \nQ 32.328125 33.6875 34.8125 36.53125 \nQ 39.546875 41.84375 41.421875 45.53125 \nQ 43.3125 49.21875 43.3125 52.78125 \nQ 43.3125 58.59375 39.234375 62.25 \nQ 35.15625 65.921875 28.609375 65.921875 \nQ 23.96875 65.921875 18.8125 64.3125 \nQ 13.671875 62.703125 7.8125 59.421875 \nL 7.8125 69.390625 \nQ 13.765625 71.78125 18.9375 73 \nQ 24.125 74.21875 28.421875 74.21875 \nQ 39.75 74.21875 46.484375 68.546875 \nQ 53.21875 62.890625 53.21875 53.421875 \nQ 53.21875 48.921875 51.53125 44.890625 \nQ 49.859375 40.875 45.40625 35.40625 \nQ 44.1875 33.984375 37.640625 27.21875 \nQ 31.109375 20.453125 19.1875 8.296875 \nz\n\" id=\"DejaVuSans-50\"/>\n      </defs>\n      <g style=\"fill:#262626;\" transform=\"translate(137.487707 351.218281)scale(0.11 -0.11)\">\n       <use xlink:href=\"#DejaVuSans-50\"/>\n       <use x=\"63.623047\" xlink:href=\"#DejaVuSans-48\"/>\n      </g>\n     </g>\n    </g>\n    <g id=\"xtick_3\">\n     <g id=\"line2d_3\">\n      <path clip-path=\"url(#p91b0f9ad36)\" d=\"M 226.469928 333.36 \nL 226.469928 7.2 \n\" style=\"fill:none;stroke:#ffffff;stroke-linecap:round;\"/>\n     </g>\n     <g id=\"text_3\">\n      <!-- 40 -->\n      <defs>\n       <path d=\"M 37.796875 64.3125 \nL 12.890625 25.390625 \nL 37.796875 25.390625 \nz\nM 35.203125 72.90625 \nL 47.609375 72.90625 \nL 47.609375 25.390625 \nL 58.015625 25.390625 \nL 58.015625 17.1875 \nL 47.609375 17.1875 \nL 47.609375 0 \nL 37.796875 0 \nL 37.796875 17.1875 \nL 4.890625 17.1875 \nL 4.890625 26.703125 \nz\n\" id=\"DejaVuSans-52\"/>\n      </defs>\n      <g style=\"fill:#262626;\" transform=\"translate(219.471178 351.218281)scale(0.11 -0.11)\">\n       <use xlink:href=\"#DejaVuSans-52\"/>\n       <use x=\"63.623047\" xlink:href=\"#DejaVuSans-48\"/>\n      </g>\n     </g>\n    </g>\n    <g id=\"xtick_4\">\n     <g id=\"line2d_4\">\n      <path clip-path=\"url(#p91b0f9ad36)\" d=\"M 308.453399 333.36 \nL 308.453399 7.2 \n\" style=\"fill:none;stroke:#ffffff;stroke-linecap:round;\"/>\n     </g>\n     <g id=\"text_4\">\n      <!-- 60 -->\n      <defs>\n       <path d=\"M 33.015625 40.375 \nQ 26.375 40.375 22.484375 35.828125 \nQ 18.609375 31.296875 18.609375 23.390625 \nQ 18.609375 15.53125 22.484375 10.953125 \nQ 26.375 6.390625 33.015625 6.390625 \nQ 39.65625 6.390625 43.53125 10.953125 \nQ 47.40625 15.53125 47.40625 23.390625 \nQ 47.40625 31.296875 43.53125 35.828125 \nQ 39.65625 40.375 33.015625 40.375 \nz\nM 52.59375 71.296875 \nL 52.59375 62.3125 \nQ 48.875 64.0625 45.09375 64.984375 \nQ 41.3125 65.921875 37.59375 65.921875 \nQ 27.828125 65.921875 22.671875 59.328125 \nQ 17.53125 52.734375 16.796875 39.40625 \nQ 19.671875 43.65625 24.015625 45.921875 \nQ 28.375 48.1875 33.59375 48.1875 \nQ 44.578125 48.1875 50.953125 41.515625 \nQ 57.328125 34.859375 57.328125 23.390625 \nQ 57.328125 12.15625 50.6875 5.359375 \nQ 44.046875 -1.421875 33.015625 -1.421875 \nQ 20.359375 -1.421875 13.671875 8.265625 \nQ 6.984375 17.96875 6.984375 36.375 \nQ 6.984375 53.65625 15.1875 63.9375 \nQ 23.390625 74.21875 37.203125 74.21875 \nQ 40.921875 74.21875 44.703125 73.484375 \nQ 48.484375 72.75 52.59375 71.296875 \nz\n\" id=\"DejaVuSans-54\"/>\n      </defs>\n      <g style=\"fill:#262626;\" transform=\"translate(301.454649 351.218281)scale(0.11 -0.11)\">\n       <use xlink:href=\"#DejaVuSans-54\"/>\n       <use x=\"63.623047\" xlink:href=\"#DejaVuSans-48\"/>\n      </g>\n     </g>\n    </g>\n    <g id=\"xtick_5\">\n     <g id=\"line2d_5\">\n      <path clip-path=\"url(#p91b0f9ad36)\" d=\"M 390.43687 333.36 \nL 390.43687 7.2 \n\" style=\"fill:none;stroke:#ffffff;stroke-linecap:round;\"/>\n     </g>\n     <g id=\"text_5\">\n      <!-- 80 -->\n      <defs>\n       <path d=\"M 31.78125 34.625 \nQ 24.75 34.625 20.71875 30.859375 \nQ 16.703125 27.09375 16.703125 20.515625 \nQ 16.703125 13.921875 20.71875 10.15625 \nQ 24.75 6.390625 31.78125 6.390625 \nQ 38.8125 6.390625 42.859375 10.171875 \nQ 46.921875 13.96875 46.921875 20.515625 \nQ 46.921875 27.09375 42.890625 30.859375 \nQ 38.875 34.625 31.78125 34.625 \nz\nM 21.921875 38.8125 \nQ 15.578125 40.375 12.03125 44.71875 \nQ 8.5 49.078125 8.5 55.328125 \nQ 8.5 64.0625 14.71875 69.140625 \nQ 20.953125 74.21875 31.78125 74.21875 \nQ 42.671875 74.21875 48.875 69.140625 \nQ 55.078125 64.0625 55.078125 55.328125 \nQ 55.078125 49.078125 51.53125 44.71875 \nQ 48 40.375 41.703125 38.8125 \nQ 48.828125 37.15625 52.796875 32.3125 \nQ 56.78125 27.484375 56.78125 20.515625 \nQ 56.78125 9.90625 50.3125 4.234375 \nQ 43.84375 -1.421875 31.78125 -1.421875 \nQ 19.734375 -1.421875 13.25 4.234375 \nQ 6.78125 9.90625 6.78125 20.515625 \nQ 6.78125 27.484375 10.78125 32.3125 \nQ 14.796875 37.15625 21.921875 38.8125 \nz\nM 18.3125 54.390625 \nQ 18.3125 48.734375 21.84375 45.5625 \nQ 25.390625 42.390625 31.78125 42.390625 \nQ 38.140625 42.390625 41.71875 45.5625 \nQ 45.3125 48.734375 45.3125 54.390625 \nQ 45.3125 60.0625 41.71875 63.234375 \nQ 38.140625 66.40625 31.78125 66.40625 \nQ 25.390625 66.40625 21.84375 63.234375 \nQ 18.3125 60.0625 18.3125 54.390625 \nz\n\" id=\"DejaVuSans-56\"/>\n      </defs>\n      <g style=\"fill:#262626;\" transform=\"translate(383.43812 351.218281)scale(0.11 -0.11)\">\n       <use xlink:href=\"#DejaVuSans-56\"/>\n       <use x=\"63.623047\" xlink:href=\"#DejaVuSans-48\"/>\n      </g>\n     </g>\n    </g>\n    <g id=\"xtick_6\">\n     <g id=\"line2d_6\">\n      <path clip-path=\"url(#p91b0f9ad36)\" d=\"M 472.420341 333.36 \nL 472.420341 7.2 \n\" style=\"fill:none;stroke:#ffffff;stroke-linecap:round;\"/>\n     </g>\n     <g id=\"text_6\">\n      <!-- 100 -->\n      <defs>\n       <path d=\"M 12.40625 8.296875 \nL 28.515625 8.296875 \nL 28.515625 63.921875 \nL 10.984375 60.40625 \nL 10.984375 69.390625 \nL 28.421875 72.90625 \nL 38.28125 72.90625 \nL 38.28125 8.296875 \nL 54.390625 8.296875 \nL 54.390625 0 \nL 12.40625 0 \nz\n\" id=\"DejaVuSans-49\"/>\n      </defs>\n      <g style=\"fill:#262626;\" transform=\"translate(461.922216 351.218281)scale(0.11 -0.11)\">\n       <use xlink:href=\"#DejaVuSans-49\"/>\n       <use x=\"63.623047\" xlink:href=\"#DejaVuSans-48\"/>\n       <use x=\"127.246094\" xlink:href=\"#DejaVuSans-48\"/>\n      </g>\n     </g>\n    </g>\n    <g id=\"text_7\">\n     <!-- hangout -->\n     <defs>\n      <path d=\"M 54.890625 33.015625 \nL 54.890625 0 \nL 45.90625 0 \nL 45.90625 32.71875 \nQ 45.90625 40.484375 42.875 44.328125 \nQ 39.84375 48.1875 33.796875 48.1875 \nQ 26.515625 48.1875 22.3125 43.546875 \nQ 18.109375 38.921875 18.109375 30.90625 \nL 18.109375 0 \nL 9.078125 0 \nL 9.078125 75.984375 \nL 18.109375 75.984375 \nL 18.109375 46.1875 \nQ 21.34375 51.125 25.703125 53.5625 \nQ 30.078125 56 35.796875 56 \nQ 45.21875 56 50.046875 50.171875 \nQ 54.890625 44.34375 54.890625 33.015625 \nz\n\" id=\"DejaVuSans-104\"/>\n      <path d=\"M 34.28125 27.484375 \nQ 23.390625 27.484375 19.1875 25 \nQ 14.984375 22.515625 14.984375 16.5 \nQ 14.984375 11.71875 18.140625 8.90625 \nQ 21.296875 6.109375 26.703125 6.109375 \nQ 34.1875 6.109375 38.703125 11.40625 \nQ 43.21875 16.703125 43.21875 25.484375 \nL 43.21875 27.484375 \nz\nM 52.203125 31.203125 \nL 52.203125 0 \nL 43.21875 0 \nL 43.21875 8.296875 \nQ 40.140625 3.328125 35.546875 0.953125 \nQ 30.953125 -1.421875 24.3125 -1.421875 \nQ 15.921875 -1.421875 10.953125 3.296875 \nQ 6 8.015625 6 15.921875 \nQ 6 25.140625 12.171875 29.828125 \nQ 18.359375 34.515625 30.609375 34.515625 \nL 43.21875 34.515625 \nL 43.21875 35.40625 \nQ 43.21875 41.609375 39.140625 45 \nQ 35.0625 48.390625 27.6875 48.390625 \nQ 23 48.390625 18.546875 47.265625 \nQ 14.109375 46.140625 10.015625 43.890625 \nL 10.015625 52.203125 \nQ 14.9375 54.109375 19.578125 55.046875 \nQ 24.21875 56 28.609375 56 \nQ 40.484375 56 46.34375 49.84375 \nQ 52.203125 43.703125 52.203125 31.203125 \nz\n\" id=\"DejaVuSans-97\"/>\n      <path d=\"M 54.890625 33.015625 \nL 54.890625 0 \nL 45.90625 0 \nL 45.90625 32.71875 \nQ 45.90625 40.484375 42.875 44.328125 \nQ 39.84375 48.1875 33.796875 48.1875 \nQ 26.515625 48.1875 22.3125 43.546875 \nQ 18.109375 38.921875 18.109375 30.90625 \nL 18.109375 0 \nL 9.078125 0 \nL 9.078125 54.6875 \nL 18.109375 54.6875 \nL 18.109375 46.1875 \nQ 21.34375 51.125 25.703125 53.5625 \nQ 30.078125 56 35.796875 56 \nQ 45.21875 56 50.046875 50.171875 \nQ 54.890625 44.34375 54.890625 33.015625 \nz\n\" id=\"DejaVuSans-110\"/>\n      <path d=\"M 45.40625 27.984375 \nQ 45.40625 37.75 41.375 43.109375 \nQ 37.359375 48.484375 30.078125 48.484375 \nQ 22.859375 48.484375 18.828125 43.109375 \nQ 14.796875 37.75 14.796875 27.984375 \nQ 14.796875 18.265625 18.828125 12.890625 \nQ 22.859375 7.515625 30.078125 7.515625 \nQ 37.359375 7.515625 41.375 12.890625 \nQ 45.40625 18.265625 45.40625 27.984375 \nz\nM 54.390625 6.78125 \nQ 54.390625 -7.171875 48.1875 -13.984375 \nQ 42 -20.796875 29.203125 -20.796875 \nQ 24.46875 -20.796875 20.265625 -20.09375 \nQ 16.0625 -19.390625 12.109375 -17.921875 \nL 12.109375 -9.1875 \nQ 16.0625 -11.328125 19.921875 -12.34375 \nQ 23.78125 -13.375 27.78125 -13.375 \nQ 36.625 -13.375 41.015625 -8.765625 \nQ 45.40625 -4.15625 45.40625 5.171875 \nL 45.40625 9.625 \nQ 42.625 4.78125 38.28125 2.390625 \nQ 33.9375 0 27.875 0 \nQ 17.828125 0 11.671875 7.65625 \nQ 5.515625 15.328125 5.515625 27.984375 \nQ 5.515625 40.671875 11.671875 48.328125 \nQ 17.828125 56 27.875 56 \nQ 33.9375 56 38.28125 53.609375 \nQ 42.625 51.21875 45.40625 46.390625 \nL 45.40625 54.6875 \nL 54.390625 54.6875 \nz\n\" id=\"DejaVuSans-103\"/>\n      <path d=\"M 30.609375 48.390625 \nQ 23.390625 48.390625 19.1875 42.75 \nQ 14.984375 37.109375 14.984375 27.296875 \nQ 14.984375 17.484375 19.15625 11.84375 \nQ 23.34375 6.203125 30.609375 6.203125 \nQ 37.796875 6.203125 41.984375 11.859375 \nQ 46.1875 17.53125 46.1875 27.296875 \nQ 46.1875 37.015625 41.984375 42.703125 \nQ 37.796875 48.390625 30.609375 48.390625 \nz\nM 30.609375 56 \nQ 42.328125 56 49.015625 48.375 \nQ 55.71875 40.765625 55.71875 27.296875 \nQ 55.71875 13.875 49.015625 6.21875 \nQ 42.328125 -1.421875 30.609375 -1.421875 \nQ 18.84375 -1.421875 12.171875 6.21875 \nQ 5.515625 13.875 5.515625 27.296875 \nQ 5.515625 40.765625 12.171875 48.375 \nQ 18.84375 56 30.609375 56 \nz\n\" id=\"DejaVuSans-111\"/>\n      <path d=\"M 8.5 21.578125 \nL 8.5 54.6875 \nL 17.484375 54.6875 \nL 17.484375 21.921875 \nQ 17.484375 14.15625 20.5 10.265625 \nQ 23.53125 6.390625 29.59375 6.390625 \nQ 36.859375 6.390625 41.078125 11.03125 \nQ 45.3125 15.671875 45.3125 23.6875 \nL 45.3125 54.6875 \nL 54.296875 54.6875 \nL 54.296875 0 \nL 45.3125 0 \nL 45.3125 8.40625 \nQ 42.046875 3.421875 37.71875 1 \nQ 33.40625 -1.421875 27.6875 -1.421875 \nQ 18.265625 -1.421875 13.375 4.4375 \nQ 8.5 10.296875 8.5 21.578125 \nz\nM 31.109375 56 \nz\n\" id=\"DejaVuSans-117\"/>\n      <path d=\"M 18.3125 70.21875 \nL 18.3125 54.6875 \nL 36.8125 54.6875 \nL 36.8125 47.703125 \nL 18.3125 47.703125 \nL 18.3125 18.015625 \nQ 18.3125 11.328125 20.140625 9.421875 \nQ 21.96875 7.515625 27.59375 7.515625 \nL 36.8125 7.515625 \nL 36.8125 0 \nL 27.59375 0 \nQ 17.1875 0 13.234375 3.875 \nQ 9.28125 7.765625 9.28125 18.015625 \nL 9.28125 47.703125 \nL 2.6875 47.703125 \nL 2.6875 54.6875 \nL 9.28125 54.6875 \nL 9.28125 70.21875 \nz\n\" id=\"DejaVuSans-116\"/>\n     </defs>\n     <g style=\"fill:#262626;\" transform=\"translate(244.594375 366.624062)scale(0.12 -0.12)\">\n      <use xlink:href=\"#DejaVuSans-104\"/>\n      <use x=\"63.378906\" xlink:href=\"#DejaVuSans-97\"/>\n      <use x=\"124.658203\" xlink:href=\"#DejaVuSans-110\"/>\n      <use x=\"188.037109\" xlink:href=\"#DejaVuSans-103\"/>\n      <use x=\"251.513672\" xlink:href=\"#DejaVuSans-111\"/>\n      <use x=\"312.695312\" xlink:href=\"#DejaVuSans-117\"/>\n      <use x=\"376.074219\" xlink:href=\"#DejaVuSans-116\"/>\n     </g>\n    </g>\n   </g>\n   <g id=\"matplotlib.axis_2\">\n    <g id=\"ytick_1\">\n     <g id=\"line2d_7\">\n      <path clip-path=\"url(#p91b0f9ad36)\" d=\"M 46.31125 333.36 \nL 492.71125 333.36 \n\" style=\"fill:none;stroke:#ffffff;stroke-linecap:round;\"/>\n     </g>\n     <g id=\"text_8\">\n      <!-- 0 -->\n      <g style=\"fill:#262626;\" transform=\"translate(29.8125 337.539141)scale(0.11 -0.11)\">\n       <use xlink:href=\"#DejaVuSans-48\"/>\n      </g>\n     </g>\n    </g>\n    <g id=\"ytick_2\">\n     <g id=\"line2d_8\">\n      <path clip-path=\"url(#p91b0f9ad36)\" d=\"M 46.31125 276.882078 \nL 492.71125 276.882078 \n\" style=\"fill:none;stroke:#ffffff;stroke-linecap:round;\"/>\n     </g>\n     <g id=\"text_9\">\n      <!-- 10 -->\n      <g style=\"fill:#262626;\" transform=\"translate(22.81375 281.061219)scale(0.11 -0.11)\">\n       <use xlink:href=\"#DejaVuSans-49\"/>\n       <use x=\"63.623047\" xlink:href=\"#DejaVuSans-48\"/>\n      </g>\n     </g>\n    </g>\n    <g id=\"ytick_3\">\n     <g id=\"line2d_9\">\n      <path clip-path=\"url(#p91b0f9ad36)\" d=\"M 46.31125 220.404156 \nL 492.71125 220.404156 \n\" style=\"fill:none;stroke:#ffffff;stroke-linecap:round;\"/>\n     </g>\n     <g id=\"text_10\">\n      <!-- 20 -->\n      <g style=\"fill:#262626;\" transform=\"translate(22.81375 224.583296)scale(0.11 -0.11)\">\n       <use xlink:href=\"#DejaVuSans-50\"/>\n       <use x=\"63.623047\" xlink:href=\"#DejaVuSans-48\"/>\n      </g>\n     </g>\n    </g>\n    <g id=\"ytick_4\">\n     <g id=\"line2d_10\">\n      <path clip-path=\"url(#p91b0f9ad36)\" d=\"M 46.31125 163.926234 \nL 492.71125 163.926234 \n\" style=\"fill:none;stroke:#ffffff;stroke-linecap:round;\"/>\n     </g>\n     <g id=\"text_11\">\n      <!-- 30 -->\n      <defs>\n       <path d=\"M 40.578125 39.3125 \nQ 47.65625 37.796875 51.625 33 \nQ 55.609375 28.21875 55.609375 21.1875 \nQ 55.609375 10.40625 48.1875 4.484375 \nQ 40.765625 -1.421875 27.09375 -1.421875 \nQ 22.515625 -1.421875 17.65625 -0.515625 \nQ 12.796875 0.390625 7.625 2.203125 \nL 7.625 11.71875 \nQ 11.71875 9.328125 16.59375 8.109375 \nQ 21.484375 6.890625 26.8125 6.890625 \nQ 36.078125 6.890625 40.9375 10.546875 \nQ 45.796875 14.203125 45.796875 21.1875 \nQ 45.796875 27.640625 41.28125 31.265625 \nQ 36.765625 34.90625 28.71875 34.90625 \nL 20.21875 34.90625 \nL 20.21875 43.015625 \nL 29.109375 43.015625 \nQ 36.375 43.015625 40.234375 45.921875 \nQ 44.09375 48.828125 44.09375 54.296875 \nQ 44.09375 59.90625 40.109375 62.90625 \nQ 36.140625 65.921875 28.71875 65.921875 \nQ 24.65625 65.921875 20.015625 65.03125 \nQ 15.375 64.15625 9.8125 62.3125 \nL 9.8125 71.09375 \nQ 15.4375 72.65625 20.34375 73.4375 \nQ 25.25 74.21875 29.59375 74.21875 \nQ 40.828125 74.21875 47.359375 69.109375 \nQ 53.90625 64.015625 53.90625 55.328125 \nQ 53.90625 49.265625 50.4375 45.09375 \nQ 46.96875 40.921875 40.578125 39.3125 \nz\n\" id=\"DejaVuSans-51\"/>\n      </defs>\n      <g style=\"fill:#262626;\" transform=\"translate(22.81375 168.105374)scale(0.11 -0.11)\">\n       <use xlink:href=\"#DejaVuSans-51\"/>\n       <use x=\"63.623047\" xlink:href=\"#DejaVuSans-48\"/>\n      </g>\n     </g>\n    </g>\n    <g id=\"ytick_5\">\n     <g id=\"line2d_11\">\n      <path clip-path=\"url(#p91b0f9ad36)\" d=\"M 46.31125 107.448312 \nL 492.71125 107.448312 \n\" style=\"fill:none;stroke:#ffffff;stroke-linecap:round;\"/>\n     </g>\n     <g id=\"text_12\">\n      <!-- 40 -->\n      <g style=\"fill:#262626;\" transform=\"translate(22.81375 111.627452)scale(0.11 -0.11)\">\n       <use xlink:href=\"#DejaVuSans-52\"/>\n       <use x=\"63.623047\" xlink:href=\"#DejaVuSans-48\"/>\n      </g>\n     </g>\n    </g>\n    <g id=\"ytick_6\">\n     <g id=\"line2d_12\">\n      <path clip-path=\"url(#p91b0f9ad36)\" d=\"M 46.31125 50.97039 \nL 492.71125 50.97039 \n\" style=\"fill:none;stroke:#ffffff;stroke-linecap:round;\"/>\n     </g>\n     <g id=\"text_13\">\n      <!-- 50 -->\n      <defs>\n       <path d=\"M 10.796875 72.90625 \nL 49.515625 72.90625 \nL 49.515625 64.59375 \nL 19.828125 64.59375 \nL 19.828125 46.734375 \nQ 21.96875 47.46875 24.109375 47.828125 \nQ 26.265625 48.1875 28.421875 48.1875 \nQ 40.625 48.1875 47.75 41.5 \nQ 54.890625 34.8125 54.890625 23.390625 \nQ 54.890625 11.625 47.5625 5.09375 \nQ 40.234375 -1.421875 26.90625 -1.421875 \nQ 22.3125 -1.421875 17.546875 -0.640625 \nQ 12.796875 0.140625 7.71875 1.703125 \nL 7.71875 11.625 \nQ 12.109375 9.234375 16.796875 8.0625 \nQ 21.484375 6.890625 26.703125 6.890625 \nQ 35.15625 6.890625 40.078125 11.328125 \nQ 45.015625 15.765625 45.015625 23.390625 \nQ 45.015625 31 40.078125 35.4375 \nQ 35.15625 39.890625 26.703125 39.890625 \nQ 22.75 39.890625 18.8125 39.015625 \nQ 14.890625 38.140625 10.796875 36.28125 \nz\n\" id=\"DejaVuSans-53\"/>\n      </defs>\n      <g style=\"fill:#262626;\" transform=\"translate(22.81375 55.14953)scale(0.11 -0.11)\">\n       <use xlink:href=\"#DejaVuSans-53\"/>\n       <use x=\"63.623047\" xlink:href=\"#DejaVuSans-48\"/>\n      </g>\n     </g>\n    </g>\n    <g id=\"text_14\">\n     <!-- Count -->\n     <defs>\n      <path d=\"M 64.40625 67.28125 \nL 64.40625 56.890625 \nQ 59.421875 61.53125 53.78125 63.8125 \nQ 48.140625 66.109375 41.796875 66.109375 \nQ 29.296875 66.109375 22.65625 58.46875 \nQ 16.015625 50.828125 16.015625 36.375 \nQ 16.015625 21.96875 22.65625 14.328125 \nQ 29.296875 6.6875 41.796875 6.6875 \nQ 48.140625 6.6875 53.78125 8.984375 \nQ 59.421875 11.28125 64.40625 15.921875 \nL 64.40625 5.609375 \nQ 59.234375 2.09375 53.4375 0.328125 \nQ 47.65625 -1.421875 41.21875 -1.421875 \nQ 24.65625 -1.421875 15.125 8.703125 \nQ 5.609375 18.84375 5.609375 36.375 \nQ 5.609375 53.953125 15.125 64.078125 \nQ 24.65625 74.21875 41.21875 74.21875 \nQ 47.75 74.21875 53.53125 72.484375 \nQ 59.328125 70.75 64.40625 67.28125 \nz\n\" id=\"DejaVuSans-67\"/>\n     </defs>\n     <g style=\"fill:#262626;\" transform=\"translate(16.318125 188.098125)rotate(-90)scale(0.12 -0.12)\">\n      <use xlink:href=\"#DejaVuSans-67\"/>\n      <use x=\"69.824219\" xlink:href=\"#DejaVuSans-111\"/>\n      <use x=\"131.005859\" xlink:href=\"#DejaVuSans-117\"/>\n      <use x=\"194.384766\" xlink:href=\"#DejaVuSans-110\"/>\n      <use x=\"257.763672\" xlink:href=\"#DejaVuSans-116\"/>\n     </g>\n    </g>\n   </g>\n   <g id=\"patch_3\">\n    <path clip-path=\"url(#p91b0f9ad36)\" d=\"M 66.602159 333.36 \nL 69.420341 333.36 \nL 69.420341 282.52987 \nL 66.602159 282.52987 \nz\n\" style=\"fill:#4c72b0;fill-opacity:0.75;stroke:#ffffff;stroke-linejoin:miter;stroke-width:0.281818;\"/>\n   </g>\n   <g id=\"patch_4\">\n    <path clip-path=\"url(#p91b0f9ad36)\" d=\"M 69.420341 333.36 \nL 72.238523 333.36 \nL 72.238523 248.643117 \nL 69.420341 248.643117 \nz\n\" style=\"fill:#4c72b0;fill-opacity:0.75;stroke:#ffffff;stroke-linejoin:miter;stroke-width:0.281818;\"/>\n   </g>\n   <g id=\"patch_5\">\n    <path clip-path=\"url(#p91b0f9ad36)\" d=\"M 72.238523 333.36 \nL 75.056705 333.36 \nL 75.056705 22.731429 \nL 72.238523 22.731429 \nz\n\" style=\"fill:#4c72b0;fill-opacity:0.75;stroke:#ffffff;stroke-linejoin:miter;stroke-width:0.281818;\"/>\n   </g>\n   <g id=\"patch_6\">\n    <path clip-path=\"url(#p91b0f9ad36)\" d=\"M 75.056705 333.36 \nL 77.874886 333.36 \nL 77.874886 333.36 \nL 75.056705 333.36 \nz\n\" style=\"fill:#4c72b0;fill-opacity:0.75;stroke:#ffffff;stroke-linejoin:miter;stroke-width:0.281818;\"/>\n   </g>\n   <g id=\"patch_7\">\n    <path clip-path=\"url(#p91b0f9ad36)\" d=\"M 77.874886 333.36 \nL 80.693068 333.36 \nL 80.693068 45.322597 \nL 77.874886 45.322597 \nz\n\" style=\"fill:#4c72b0;fill-opacity:0.75;stroke:#ffffff;stroke-linejoin:miter;stroke-width:0.281818;\"/>\n   </g>\n   <g id=\"patch_8\">\n    <path clip-path=\"url(#p91b0f9ad36)\" d=\"M 80.693068 333.36 \nL 83.51125 333.36 \nL 83.51125 169.574026 \nL 80.693068 169.574026 \nz\n\" style=\"fill:#4c72b0;fill-opacity:0.75;stroke:#ffffff;stroke-linejoin:miter;stroke-width:0.281818;\"/>\n   </g>\n   <g id=\"patch_9\">\n    <path clip-path=\"url(#p91b0f9ad36)\" d=\"M 83.51125 333.36 \nL 86.329432 333.36 \nL 86.329432 333.36 \nL 83.51125 333.36 \nz\n\" style=\"fill:#4c72b0;fill-opacity:0.75;stroke:#ffffff;stroke-linejoin:miter;stroke-width:0.281818;\"/>\n   </g>\n   <g id=\"patch_10\">\n    <path clip-path=\"url(#p91b0f9ad36)\" d=\"M 86.329432 333.36 \nL 89.147614 333.36 \nL 89.147614 237.347532 \nL 86.329432 237.347532 \nz\n\" style=\"fill:#4c72b0;fill-opacity:0.75;stroke:#ffffff;stroke-linejoin:miter;stroke-width:0.281818;\"/>\n   </g>\n   <g id=\"patch_11\">\n    <path clip-path=\"url(#p91b0f9ad36)\" d=\"M 89.147614 333.36 \nL 91.965795 333.36 \nL 91.965795 293.825455 \nL 89.147614 293.825455 \nz\n\" style=\"fill:#4c72b0;fill-opacity:0.75;stroke:#ffffff;stroke-linejoin:miter;stroke-width:0.281818;\"/>\n   </g>\n   <g id=\"patch_12\">\n    <path clip-path=\"url(#p91b0f9ad36)\" d=\"M 91.965795 333.36 \nL 94.783977 333.36 \nL 94.783977 333.36 \nL 91.965795 333.36 \nz\n\" style=\"fill:#4c72b0;fill-opacity:0.75;stroke:#ffffff;stroke-linejoin:miter;stroke-width:0.281818;\"/>\n   </g>\n   <g id=\"patch_13\">\n    <path clip-path=\"url(#p91b0f9ad36)\" d=\"M 94.783977 333.36 \nL 97.602159 333.36 \nL 97.602159 322.064416 \nL 94.783977 322.064416 \nz\n\" style=\"fill:#4c72b0;fill-opacity:0.75;stroke:#ffffff;stroke-linejoin:miter;stroke-width:0.281818;\"/>\n   </g>\n   <g id=\"patch_14\">\n    <path clip-path=\"url(#p91b0f9ad36)\" d=\"M 97.602159 333.36 \nL 100.420341 333.36 \nL 100.420341 327.712208 \nL 97.602159 327.712208 \nz\n\" style=\"fill:#4c72b0;fill-opacity:0.75;stroke:#ffffff;stroke-linejoin:miter;stroke-width:0.281818;\"/>\n   </g>\n   <g id=\"patch_15\">\n    <path clip-path=\"url(#p91b0f9ad36)\" d=\"M 100.420341 333.36 \nL 103.238523 333.36 \nL 103.238523 333.36 \nL 100.420341 333.36 \nz\n\" style=\"fill:#4c72b0;fill-opacity:0.75;stroke:#ffffff;stroke-linejoin:miter;stroke-width:0.281818;\"/>\n   </g>\n   <g id=\"patch_16\">\n    <path clip-path=\"url(#p91b0f9ad36)\" d=\"M 103.238523 333.36 \nL 106.056705 333.36 \nL 106.056705 322.064416 \nL 103.238523 322.064416 \nz\n\" style=\"fill:#4c72b0;fill-opacity:0.75;stroke:#ffffff;stroke-linejoin:miter;stroke-width:0.281818;\"/>\n   </g>\n   <g id=\"patch_17\">\n    <path clip-path=\"url(#p91b0f9ad36)\" d=\"M 106.056705 333.36 \nL 108.874886 333.36 \nL 108.874886 327.712208 \nL 106.056705 327.712208 \nz\n\" style=\"fill:#4c72b0;fill-opacity:0.75;stroke:#ffffff;stroke-linejoin:miter;stroke-width:0.281818;\"/>\n   </g>\n   <g id=\"patch_18\">\n    <path clip-path=\"url(#p91b0f9ad36)\" d=\"M 108.874886 333.36 \nL 111.693068 333.36 \nL 111.693068 333.36 \nL 108.874886 333.36 \nz\n\" style=\"fill:#4c72b0;fill-opacity:0.75;stroke:#ffffff;stroke-linejoin:miter;stroke-width:0.281818;\"/>\n   </g>\n   <g id=\"patch_19\">\n    <path clip-path=\"url(#p91b0f9ad36)\" d=\"M 111.693068 333.36 \nL 114.51125 333.36 \nL 114.51125 333.36 \nL 111.693068 333.36 \nz\n\" style=\"fill:#4c72b0;fill-opacity:0.75;stroke:#ffffff;stroke-linejoin:miter;stroke-width:0.281818;\"/>\n   </g>\n   <g id=\"patch_20\">\n    <path clip-path=\"url(#p91b0f9ad36)\" d=\"M 114.51125 333.36 \nL 117.329432 333.36 \nL 117.329432 333.36 \nL 114.51125 333.36 \nz\n\" style=\"fill:#4c72b0;fill-opacity:0.75;stroke:#ffffff;stroke-linejoin:miter;stroke-width:0.281818;\"/>\n   </g>\n   <g id=\"patch_21\">\n    <path clip-path=\"url(#p91b0f9ad36)\" d=\"M 117.329432 333.36 \nL 120.147614 333.36 \nL 120.147614 333.36 \nL 117.329432 333.36 \nz\n\" style=\"fill:#4c72b0;fill-opacity:0.75;stroke:#ffffff;stroke-linejoin:miter;stroke-width:0.281818;\"/>\n   </g>\n   <g id=\"patch_22\">\n    <path clip-path=\"url(#p91b0f9ad36)\" d=\"M 120.147614 333.36 \nL 122.965795 333.36 \nL 122.965795 333.36 \nL 120.147614 333.36 \nz\n\" style=\"fill:#4c72b0;fill-opacity:0.75;stroke:#ffffff;stroke-linejoin:miter;stroke-width:0.281818;\"/>\n   </g>\n   <g id=\"patch_23\">\n    <path clip-path=\"url(#p91b0f9ad36)\" d=\"M 122.965795 333.36 \nL 125.783977 333.36 \nL 125.783977 327.712208 \nL 122.965795 327.712208 \nz\n\" style=\"fill:#4c72b0;fill-opacity:0.75;stroke:#ffffff;stroke-linejoin:miter;stroke-width:0.281818;\"/>\n   </g>\n   <g id=\"patch_24\">\n    <path clip-path=\"url(#p91b0f9ad36)\" d=\"M 125.783977 333.36 \nL 128.602159 333.36 \nL 128.602159 333.36 \nL 125.783977 333.36 \nz\n\" style=\"fill:#4c72b0;fill-opacity:0.75;stroke:#ffffff;stroke-linejoin:miter;stroke-width:0.281818;\"/>\n   </g>\n   <g id=\"patch_25\">\n    <path clip-path=\"url(#p91b0f9ad36)\" d=\"M 128.602159 333.36 \nL 131.420341 333.36 \nL 131.420341 333.36 \nL 128.602159 333.36 \nz\n\" style=\"fill:#4c72b0;fill-opacity:0.75;stroke:#ffffff;stroke-linejoin:miter;stroke-width:0.281818;\"/>\n   </g>\n   <g id=\"patch_26\">\n    <path clip-path=\"url(#p91b0f9ad36)\" d=\"M 131.420341 333.36 \nL 134.238523 333.36 \nL 134.238523 333.36 \nL 131.420341 333.36 \nz\n\" style=\"fill:#4c72b0;fill-opacity:0.75;stroke:#ffffff;stroke-linejoin:miter;stroke-width:0.281818;\"/>\n   </g>\n   <g id=\"patch_27\">\n    <path clip-path=\"url(#p91b0f9ad36)\" d=\"M 134.238523 333.36 \nL 137.056705 333.36 \nL 137.056705 333.36 \nL 134.238523 333.36 \nz\n\" style=\"fill:#4c72b0;fill-opacity:0.75;stroke:#ffffff;stroke-linejoin:miter;stroke-width:0.281818;\"/>\n   </g>\n   <g id=\"patch_28\">\n    <path clip-path=\"url(#p91b0f9ad36)\" d=\"M 137.056705 333.36 \nL 139.874886 333.36 \nL 139.874886 333.36 \nL 137.056705 333.36 \nz\n\" style=\"fill:#4c72b0;fill-opacity:0.75;stroke:#ffffff;stroke-linejoin:miter;stroke-width:0.281818;\"/>\n   </g>\n   <g id=\"patch_29\">\n    <path clip-path=\"url(#p91b0f9ad36)\" d=\"M 139.874886 333.36 \nL 142.693068 333.36 \nL 142.693068 333.36 \nL 139.874886 333.36 \nz\n\" style=\"fill:#4c72b0;fill-opacity:0.75;stroke:#ffffff;stroke-linejoin:miter;stroke-width:0.281818;\"/>\n   </g>\n   <g id=\"patch_30\">\n    <path clip-path=\"url(#p91b0f9ad36)\" d=\"M 142.693068 333.36 \nL 145.51125 333.36 \nL 145.51125 327.712208 \nL 142.693068 327.712208 \nz\n\" style=\"fill:#4c72b0;fill-opacity:0.75;stroke:#ffffff;stroke-linejoin:miter;stroke-width:0.281818;\"/>\n   </g>\n   <g id=\"patch_31\">\n    <path clip-path=\"url(#p91b0f9ad36)\" d=\"M 145.51125 333.36 \nL 148.329432 333.36 \nL 148.329432 333.36 \nL 145.51125 333.36 \nz\n\" style=\"fill:#4c72b0;fill-opacity:0.75;stroke:#ffffff;stroke-linejoin:miter;stroke-width:0.281818;\"/>\n   </g>\n   <g id=\"patch_32\">\n    <path clip-path=\"url(#p91b0f9ad36)\" d=\"M 148.329432 333.36 \nL 151.147614 333.36 \nL 151.147614 333.36 \nL 148.329432 333.36 \nz\n\" style=\"fill:#4c72b0;fill-opacity:0.75;stroke:#ffffff;stroke-linejoin:miter;stroke-width:0.281818;\"/>\n   </g>\n   <g id=\"patch_33\">\n    <path clip-path=\"url(#p91b0f9ad36)\" d=\"M 151.147614 333.36 \nL 153.965795 333.36 \nL 153.965795 333.36 \nL 151.147614 333.36 \nz\n\" style=\"fill:#4c72b0;fill-opacity:0.75;stroke:#ffffff;stroke-linejoin:miter;stroke-width:0.281818;\"/>\n   </g>\n   <g id=\"patch_34\">\n    <path clip-path=\"url(#p91b0f9ad36)\" d=\"M 153.965795 333.36 \nL 156.783977 333.36 \nL 156.783977 333.36 \nL 153.965795 333.36 \nz\n\" style=\"fill:#4c72b0;fill-opacity:0.75;stroke:#ffffff;stroke-linejoin:miter;stroke-width:0.281818;\"/>\n   </g>\n   <g id=\"patch_35\">\n    <path clip-path=\"url(#p91b0f9ad36)\" d=\"M 156.783977 333.36 \nL 159.602159 333.36 \nL 159.602159 333.36 \nL 156.783977 333.36 \nz\n\" style=\"fill:#4c72b0;fill-opacity:0.75;stroke:#ffffff;stroke-linejoin:miter;stroke-width:0.281818;\"/>\n   </g>\n   <g id=\"patch_36\">\n    <path clip-path=\"url(#p91b0f9ad36)\" d=\"M 159.602159 333.36 \nL 162.420341 333.36 \nL 162.420341 333.36 \nL 159.602159 333.36 \nz\n\" style=\"fill:#4c72b0;fill-opacity:0.75;stroke:#ffffff;stroke-linejoin:miter;stroke-width:0.281818;\"/>\n   </g>\n   <g id=\"patch_37\">\n    <path clip-path=\"url(#p91b0f9ad36)\" d=\"M 162.420341 333.36 \nL 165.238523 333.36 \nL 165.238523 333.36 \nL 162.420341 333.36 \nz\n\" style=\"fill:#4c72b0;fill-opacity:0.75;stroke:#ffffff;stroke-linejoin:miter;stroke-width:0.281818;\"/>\n   </g>\n   <g id=\"patch_38\">\n    <path clip-path=\"url(#p91b0f9ad36)\" d=\"M 165.238523 333.36 \nL 168.056705 333.36 \nL 168.056705 333.36 \nL 165.238523 333.36 \nz\n\" style=\"fill:#4c72b0;fill-opacity:0.75;stroke:#ffffff;stroke-linejoin:miter;stroke-width:0.281818;\"/>\n   </g>\n   <g id=\"patch_39\">\n    <path clip-path=\"url(#p91b0f9ad36)\" d=\"M 168.056705 333.36 \nL 170.874886 333.36 \nL 170.874886 333.36 \nL 168.056705 333.36 \nz\n\" style=\"fill:#4c72b0;fill-opacity:0.75;stroke:#ffffff;stroke-linejoin:miter;stroke-width:0.281818;\"/>\n   </g>\n   <g id=\"patch_40\">\n    <path clip-path=\"url(#p91b0f9ad36)\" d=\"M 170.874886 333.36 \nL 173.693068 333.36 \nL 173.693068 333.36 \nL 170.874886 333.36 \nz\n\" style=\"fill:#4c72b0;fill-opacity:0.75;stroke:#ffffff;stroke-linejoin:miter;stroke-width:0.281818;\"/>\n   </g>\n   <g id=\"patch_41\">\n    <path clip-path=\"url(#p91b0f9ad36)\" d=\"M 173.693068 333.36 \nL 176.51125 333.36 \nL 176.51125 333.36 \nL 173.693068 333.36 \nz\n\" style=\"fill:#4c72b0;fill-opacity:0.75;stroke:#ffffff;stroke-linejoin:miter;stroke-width:0.281818;\"/>\n   </g>\n   <g id=\"patch_42\">\n    <path clip-path=\"url(#p91b0f9ad36)\" d=\"M 176.51125 333.36 \nL 179.329432 333.36 \nL 179.329432 333.36 \nL 176.51125 333.36 \nz\n\" style=\"fill:#4c72b0;fill-opacity:0.75;stroke:#ffffff;stroke-linejoin:miter;stroke-width:0.281818;\"/>\n   </g>\n   <g id=\"patch_43\">\n    <path clip-path=\"url(#p91b0f9ad36)\" d=\"M 179.329432 333.36 \nL 182.147614 333.36 \nL 182.147614 333.36 \nL 179.329432 333.36 \nz\n\" style=\"fill:#4c72b0;fill-opacity:0.75;stroke:#ffffff;stroke-linejoin:miter;stroke-width:0.281818;\"/>\n   </g>\n   <g id=\"patch_44\">\n    <path clip-path=\"url(#p91b0f9ad36)\" d=\"M 182.147614 333.36 \nL 184.965795 333.36 \nL 184.965795 333.36 \nL 182.147614 333.36 \nz\n\" style=\"fill:#4c72b0;fill-opacity:0.75;stroke:#ffffff;stroke-linejoin:miter;stroke-width:0.281818;\"/>\n   </g>\n   <g id=\"patch_45\">\n    <path clip-path=\"url(#p91b0f9ad36)\" d=\"M 184.965795 333.36 \nL 187.783977 333.36 \nL 187.783977 333.36 \nL 184.965795 333.36 \nz\n\" style=\"fill:#4c72b0;fill-opacity:0.75;stroke:#ffffff;stroke-linejoin:miter;stroke-width:0.281818;\"/>\n   </g>\n   <g id=\"patch_46\">\n    <path clip-path=\"url(#p91b0f9ad36)\" d=\"M 187.783977 333.36 \nL 190.602159 333.36 \nL 190.602159 333.36 \nL 187.783977 333.36 \nz\n\" style=\"fill:#4c72b0;fill-opacity:0.75;stroke:#ffffff;stroke-linejoin:miter;stroke-width:0.281818;\"/>\n   </g>\n   <g id=\"patch_47\">\n    <path clip-path=\"url(#p91b0f9ad36)\" d=\"M 190.602159 333.36 \nL 193.420341 333.36 \nL 193.420341 333.36 \nL 190.602159 333.36 \nz\n\" style=\"fill:#4c72b0;fill-opacity:0.75;stroke:#ffffff;stroke-linejoin:miter;stroke-width:0.281818;\"/>\n   </g>\n   <g id=\"patch_48\">\n    <path clip-path=\"url(#p91b0f9ad36)\" d=\"M 193.420341 333.36 \nL 196.238523 333.36 \nL 196.238523 333.36 \nL 193.420341 333.36 \nz\n\" style=\"fill:#4c72b0;fill-opacity:0.75;stroke:#ffffff;stroke-linejoin:miter;stroke-width:0.281818;\"/>\n   </g>\n   <g id=\"patch_49\">\n    <path clip-path=\"url(#p91b0f9ad36)\" d=\"M 196.238523 333.36 \nL 199.056705 333.36 \nL 199.056705 333.36 \nL 196.238523 333.36 \nz\n\" style=\"fill:#4c72b0;fill-opacity:0.75;stroke:#ffffff;stroke-linejoin:miter;stroke-width:0.281818;\"/>\n   </g>\n   <g id=\"patch_50\">\n    <path clip-path=\"url(#p91b0f9ad36)\" d=\"M 199.056705 333.36 \nL 201.874886 333.36 \nL 201.874886 333.36 \nL 199.056705 333.36 \nz\n\" style=\"fill:#4c72b0;fill-opacity:0.75;stroke:#ffffff;stroke-linejoin:miter;stroke-width:0.281818;\"/>\n   </g>\n   <g id=\"patch_51\">\n    <path clip-path=\"url(#p91b0f9ad36)\" d=\"M 201.874886 333.36 \nL 204.693068 333.36 \nL 204.693068 333.36 \nL 201.874886 333.36 \nz\n\" style=\"fill:#4c72b0;fill-opacity:0.75;stroke:#ffffff;stroke-linejoin:miter;stroke-width:0.281818;\"/>\n   </g>\n   <g id=\"patch_52\">\n    <path clip-path=\"url(#p91b0f9ad36)\" d=\"M 204.693068 333.36 \nL 207.51125 333.36 \nL 207.51125 333.36 \nL 204.693068 333.36 \nz\n\" style=\"fill:#4c72b0;fill-opacity:0.75;stroke:#ffffff;stroke-linejoin:miter;stroke-width:0.281818;\"/>\n   </g>\n   <g id=\"patch_53\">\n    <path clip-path=\"url(#p91b0f9ad36)\" d=\"M 207.51125 333.36 \nL 210.329432 333.36 \nL 210.329432 333.36 \nL 207.51125 333.36 \nz\n\" style=\"fill:#4c72b0;fill-opacity:0.75;stroke:#ffffff;stroke-linejoin:miter;stroke-width:0.281818;\"/>\n   </g>\n   <g id=\"patch_54\">\n    <path clip-path=\"url(#p91b0f9ad36)\" d=\"M 210.329432 333.36 \nL 213.147614 333.36 \nL 213.147614 333.36 \nL 210.329432 333.36 \nz\n\" style=\"fill:#4c72b0;fill-opacity:0.75;stroke:#ffffff;stroke-linejoin:miter;stroke-width:0.281818;\"/>\n   </g>\n   <g id=\"patch_55\">\n    <path clip-path=\"url(#p91b0f9ad36)\" d=\"M 213.147614 333.36 \nL 215.965795 333.36 \nL 215.965795 333.36 \nL 213.147614 333.36 \nz\n\" style=\"fill:#4c72b0;fill-opacity:0.75;stroke:#ffffff;stroke-linejoin:miter;stroke-width:0.281818;\"/>\n   </g>\n   <g id=\"patch_56\">\n    <path clip-path=\"url(#p91b0f9ad36)\" d=\"M 215.965795 333.36 \nL 218.783977 333.36 \nL 218.783977 333.36 \nL 215.965795 333.36 \nz\n\" style=\"fill:#4c72b0;fill-opacity:0.75;stroke:#ffffff;stroke-linejoin:miter;stroke-width:0.281818;\"/>\n   </g>\n   <g id=\"patch_57\">\n    <path clip-path=\"url(#p91b0f9ad36)\" d=\"M 218.783977 333.36 \nL 221.602159 333.36 \nL 221.602159 333.36 \nL 218.783977 333.36 \nz\n\" style=\"fill:#4c72b0;fill-opacity:0.75;stroke:#ffffff;stroke-linejoin:miter;stroke-width:0.281818;\"/>\n   </g>\n   <g id=\"patch_58\">\n    <path clip-path=\"url(#p91b0f9ad36)\" d=\"M 221.602159 333.36 \nL 224.420341 333.36 \nL 224.420341 333.36 \nL 221.602159 333.36 \nz\n\" style=\"fill:#4c72b0;fill-opacity:0.75;stroke:#ffffff;stroke-linejoin:miter;stroke-width:0.281818;\"/>\n   </g>\n   <g id=\"patch_59\">\n    <path clip-path=\"url(#p91b0f9ad36)\" d=\"M 224.420341 333.36 \nL 227.238523 333.36 \nL 227.238523 333.36 \nL 224.420341 333.36 \nz\n\" style=\"fill:#4c72b0;fill-opacity:0.75;stroke:#ffffff;stroke-linejoin:miter;stroke-width:0.281818;\"/>\n   </g>\n   <g id=\"patch_60\">\n    <path clip-path=\"url(#p91b0f9ad36)\" d=\"M 227.238523 333.36 \nL 230.056705 333.36 \nL 230.056705 333.36 \nL 227.238523 333.36 \nz\n\" style=\"fill:#4c72b0;fill-opacity:0.75;stroke:#ffffff;stroke-linejoin:miter;stroke-width:0.281818;\"/>\n   </g>\n   <g id=\"patch_61\">\n    <path clip-path=\"url(#p91b0f9ad36)\" d=\"M 230.056705 333.36 \nL 232.874886 333.36 \nL 232.874886 333.36 \nL 230.056705 333.36 \nz\n\" style=\"fill:#4c72b0;fill-opacity:0.75;stroke:#ffffff;stroke-linejoin:miter;stroke-width:0.281818;\"/>\n   </g>\n   <g id=\"patch_62\">\n    <path clip-path=\"url(#p91b0f9ad36)\" d=\"M 232.874886 333.36 \nL 235.693068 333.36 \nL 235.693068 333.36 \nL 232.874886 333.36 \nz\n\" style=\"fill:#4c72b0;fill-opacity:0.75;stroke:#ffffff;stroke-linejoin:miter;stroke-width:0.281818;\"/>\n   </g>\n   <g id=\"patch_63\">\n    <path clip-path=\"url(#p91b0f9ad36)\" d=\"M 235.693068 333.36 \nL 238.51125 333.36 \nL 238.51125 333.36 \nL 235.693068 333.36 \nz\n\" style=\"fill:#4c72b0;fill-opacity:0.75;stroke:#ffffff;stroke-linejoin:miter;stroke-width:0.281818;\"/>\n   </g>\n   <g id=\"patch_64\">\n    <path clip-path=\"url(#p91b0f9ad36)\" d=\"M 238.51125 333.36 \nL 241.329432 333.36 \nL 241.329432 333.36 \nL 238.51125 333.36 \nz\n\" style=\"fill:#4c72b0;fill-opacity:0.75;stroke:#ffffff;stroke-linejoin:miter;stroke-width:0.281818;\"/>\n   </g>\n   <g id=\"patch_65\">\n    <path clip-path=\"url(#p91b0f9ad36)\" d=\"M 241.329432 333.36 \nL 244.147614 333.36 \nL 244.147614 333.36 \nL 241.329432 333.36 \nz\n\" style=\"fill:#4c72b0;fill-opacity:0.75;stroke:#ffffff;stroke-linejoin:miter;stroke-width:0.281818;\"/>\n   </g>\n   <g id=\"patch_66\">\n    <path clip-path=\"url(#p91b0f9ad36)\" d=\"M 244.147614 333.36 \nL 246.965795 333.36 \nL 246.965795 333.36 \nL 244.147614 333.36 \nz\n\" style=\"fill:#4c72b0;fill-opacity:0.75;stroke:#ffffff;stroke-linejoin:miter;stroke-width:0.281818;\"/>\n   </g>\n   <g id=\"patch_67\">\n    <path clip-path=\"url(#p91b0f9ad36)\" d=\"M 246.965795 333.36 \nL 249.783977 333.36 \nL 249.783977 333.36 \nL 246.965795 333.36 \nz\n\" style=\"fill:#4c72b0;fill-opacity:0.75;stroke:#ffffff;stroke-linejoin:miter;stroke-width:0.281818;\"/>\n   </g>\n   <g id=\"patch_68\">\n    <path clip-path=\"url(#p91b0f9ad36)\" d=\"M 249.783977 333.36 \nL 252.602159 333.36 \nL 252.602159 333.36 \nL 249.783977 333.36 \nz\n\" style=\"fill:#4c72b0;fill-opacity:0.75;stroke:#ffffff;stroke-linejoin:miter;stroke-width:0.281818;\"/>\n   </g>\n   <g id=\"patch_69\">\n    <path clip-path=\"url(#p91b0f9ad36)\" d=\"M 252.602159 333.36 \nL 255.420341 333.36 \nL 255.420341 333.36 \nL 252.602159 333.36 \nz\n\" style=\"fill:#4c72b0;fill-opacity:0.75;stroke:#ffffff;stroke-linejoin:miter;stroke-width:0.281818;\"/>\n   </g>\n   <g id=\"patch_70\">\n    <path clip-path=\"url(#p91b0f9ad36)\" d=\"M 255.420341 333.36 \nL 258.238523 333.36 \nL 258.238523 333.36 \nL 255.420341 333.36 \nz\n\" style=\"fill:#4c72b0;fill-opacity:0.75;stroke:#ffffff;stroke-linejoin:miter;stroke-width:0.281818;\"/>\n   </g>\n   <g id=\"patch_71\">\n    <path clip-path=\"url(#p91b0f9ad36)\" d=\"M 258.238523 333.36 \nL 261.056705 333.36 \nL 261.056705 333.36 \nL 258.238523 333.36 \nz\n\" style=\"fill:#4c72b0;fill-opacity:0.75;stroke:#ffffff;stroke-linejoin:miter;stroke-width:0.281818;\"/>\n   </g>\n   <g id=\"patch_72\">\n    <path clip-path=\"url(#p91b0f9ad36)\" d=\"M 261.056705 333.36 \nL 263.874886 333.36 \nL 263.874886 333.36 \nL 261.056705 333.36 \nz\n\" style=\"fill:#4c72b0;fill-opacity:0.75;stroke:#ffffff;stroke-linejoin:miter;stroke-width:0.281818;\"/>\n   </g>\n   <g id=\"patch_73\">\n    <path clip-path=\"url(#p91b0f9ad36)\" d=\"M 263.874886 333.36 \nL 266.693068 333.36 \nL 266.693068 333.36 \nL 263.874886 333.36 \nz\n\" style=\"fill:#4c72b0;fill-opacity:0.75;stroke:#ffffff;stroke-linejoin:miter;stroke-width:0.281818;\"/>\n   </g>\n   <g id=\"patch_74\">\n    <path clip-path=\"url(#p91b0f9ad36)\" d=\"M 266.693068 333.36 \nL 269.51125 333.36 \nL 269.51125 333.36 \nL 266.693068 333.36 \nz\n\" style=\"fill:#4c72b0;fill-opacity:0.75;stroke:#ffffff;stroke-linejoin:miter;stroke-width:0.281818;\"/>\n   </g>\n   <g id=\"patch_75\">\n    <path clip-path=\"url(#p91b0f9ad36)\" d=\"M 269.51125 333.36 \nL 272.329432 333.36 \nL 272.329432 333.36 \nL 269.51125 333.36 \nz\n\" style=\"fill:#4c72b0;fill-opacity:0.75;stroke:#ffffff;stroke-linejoin:miter;stroke-width:0.281818;\"/>\n   </g>\n   <g id=\"patch_76\">\n    <path clip-path=\"url(#p91b0f9ad36)\" d=\"M 272.329432 333.36 \nL 275.147614 333.36 \nL 275.147614 333.36 \nL 272.329432 333.36 \nz\n\" style=\"fill:#4c72b0;fill-opacity:0.75;stroke:#ffffff;stroke-linejoin:miter;stroke-width:0.281818;\"/>\n   </g>\n   <g id=\"patch_77\">\n    <path clip-path=\"url(#p91b0f9ad36)\" d=\"M 275.147614 333.36 \nL 277.965795 333.36 \nL 277.965795 333.36 \nL 275.147614 333.36 \nz\n\" style=\"fill:#4c72b0;fill-opacity:0.75;stroke:#ffffff;stroke-linejoin:miter;stroke-width:0.281818;\"/>\n   </g>\n   <g id=\"patch_78\">\n    <path clip-path=\"url(#p91b0f9ad36)\" d=\"M 277.965795 333.36 \nL 280.783977 333.36 \nL 280.783977 333.36 \nL 277.965795 333.36 \nz\n\" style=\"fill:#4c72b0;fill-opacity:0.75;stroke:#ffffff;stroke-linejoin:miter;stroke-width:0.281818;\"/>\n   </g>\n   <g id=\"patch_79\">\n    <path clip-path=\"url(#p91b0f9ad36)\" d=\"M 280.783977 333.36 \nL 283.602159 333.36 \nL 283.602159 333.36 \nL 280.783977 333.36 \nz\n\" style=\"fill:#4c72b0;fill-opacity:0.75;stroke:#ffffff;stroke-linejoin:miter;stroke-width:0.281818;\"/>\n   </g>\n   <g id=\"patch_80\">\n    <path clip-path=\"url(#p91b0f9ad36)\" d=\"M 283.602159 333.36 \nL 286.420341 333.36 \nL 286.420341 333.36 \nL 283.602159 333.36 \nz\n\" style=\"fill:#4c72b0;fill-opacity:0.75;stroke:#ffffff;stroke-linejoin:miter;stroke-width:0.281818;\"/>\n   </g>\n   <g id=\"patch_81\">\n    <path clip-path=\"url(#p91b0f9ad36)\" d=\"M 286.420341 333.36 \nL 289.238523 333.36 \nL 289.238523 333.36 \nL 286.420341 333.36 \nz\n\" style=\"fill:#4c72b0;fill-opacity:0.75;stroke:#ffffff;stroke-linejoin:miter;stroke-width:0.281818;\"/>\n   </g>\n   <g id=\"patch_82\">\n    <path clip-path=\"url(#p91b0f9ad36)\" d=\"M 289.238523 333.36 \nL 292.056705 333.36 \nL 292.056705 333.36 \nL 289.238523 333.36 \nz\n\" style=\"fill:#4c72b0;fill-opacity:0.75;stroke:#ffffff;stroke-linejoin:miter;stroke-width:0.281818;\"/>\n   </g>\n   <g id=\"patch_83\">\n    <path clip-path=\"url(#p91b0f9ad36)\" d=\"M 292.056705 333.36 \nL 294.874886 333.36 \nL 294.874886 333.36 \nL 292.056705 333.36 \nz\n\" style=\"fill:#4c72b0;fill-opacity:0.75;stroke:#ffffff;stroke-linejoin:miter;stroke-width:0.281818;\"/>\n   </g>\n   <g id=\"patch_84\">\n    <path clip-path=\"url(#p91b0f9ad36)\" d=\"M 294.874886 333.36 \nL 297.693068 333.36 \nL 297.693068 333.36 \nL 294.874886 333.36 \nz\n\" style=\"fill:#4c72b0;fill-opacity:0.75;stroke:#ffffff;stroke-linejoin:miter;stroke-width:0.281818;\"/>\n   </g>\n   <g id=\"patch_85\">\n    <path clip-path=\"url(#p91b0f9ad36)\" d=\"M 297.693068 333.36 \nL 300.51125 333.36 \nL 300.51125 333.36 \nL 297.693068 333.36 \nz\n\" style=\"fill:#4c72b0;fill-opacity:0.75;stroke:#ffffff;stroke-linejoin:miter;stroke-width:0.281818;\"/>\n   </g>\n   <g id=\"patch_86\">\n    <path clip-path=\"url(#p91b0f9ad36)\" d=\"M 300.51125 333.36 \nL 303.329432 333.36 \nL 303.329432 333.36 \nL 300.51125 333.36 \nz\n\" style=\"fill:#4c72b0;fill-opacity:0.75;stroke:#ffffff;stroke-linejoin:miter;stroke-width:0.281818;\"/>\n   </g>\n   <g id=\"patch_87\">\n    <path clip-path=\"url(#p91b0f9ad36)\" d=\"M 303.329432 333.36 \nL 306.147614 333.36 \nL 306.147614 333.36 \nL 303.329432 333.36 \nz\n\" style=\"fill:#4c72b0;fill-opacity:0.75;stroke:#ffffff;stroke-linejoin:miter;stroke-width:0.281818;\"/>\n   </g>\n   <g id=\"patch_88\">\n    <path clip-path=\"url(#p91b0f9ad36)\" d=\"M 306.147614 333.36 \nL 308.965795 333.36 \nL 308.965795 333.36 \nL 306.147614 333.36 \nz\n\" style=\"fill:#4c72b0;fill-opacity:0.75;stroke:#ffffff;stroke-linejoin:miter;stroke-width:0.281818;\"/>\n   </g>\n   <g id=\"patch_89\">\n    <path clip-path=\"url(#p91b0f9ad36)\" d=\"M 308.965795 333.36 \nL 311.783977 333.36 \nL 311.783977 333.36 \nL 308.965795 333.36 \nz\n\" style=\"fill:#4c72b0;fill-opacity:0.75;stroke:#ffffff;stroke-linejoin:miter;stroke-width:0.281818;\"/>\n   </g>\n   <g id=\"patch_90\">\n    <path clip-path=\"url(#p91b0f9ad36)\" d=\"M 311.783977 333.36 \nL 314.602159 333.36 \nL 314.602159 333.36 \nL 311.783977 333.36 \nz\n\" style=\"fill:#4c72b0;fill-opacity:0.75;stroke:#ffffff;stroke-linejoin:miter;stroke-width:0.281818;\"/>\n   </g>\n   <g id=\"patch_91\">\n    <path clip-path=\"url(#p91b0f9ad36)\" d=\"M 314.602159 333.36 \nL 317.420341 333.36 \nL 317.420341 333.36 \nL 314.602159 333.36 \nz\n\" style=\"fill:#4c72b0;fill-opacity:0.75;stroke:#ffffff;stroke-linejoin:miter;stroke-width:0.281818;\"/>\n   </g>\n   <g id=\"patch_92\">\n    <path clip-path=\"url(#p91b0f9ad36)\" d=\"M 317.420341 333.36 \nL 320.238523 333.36 \nL 320.238523 333.36 \nL 317.420341 333.36 \nz\n\" style=\"fill:#4c72b0;fill-opacity:0.75;stroke:#ffffff;stroke-linejoin:miter;stroke-width:0.281818;\"/>\n   </g>\n   <g id=\"patch_93\">\n    <path clip-path=\"url(#p91b0f9ad36)\" d=\"M 320.238523 333.36 \nL 323.056705 333.36 \nL 323.056705 333.36 \nL 320.238523 333.36 \nz\n\" style=\"fill:#4c72b0;fill-opacity:0.75;stroke:#ffffff;stroke-linejoin:miter;stroke-width:0.281818;\"/>\n   </g>\n   <g id=\"patch_94\">\n    <path clip-path=\"url(#p91b0f9ad36)\" d=\"M 323.056705 333.36 \nL 325.874886 333.36 \nL 325.874886 333.36 \nL 323.056705 333.36 \nz\n\" style=\"fill:#4c72b0;fill-opacity:0.75;stroke:#ffffff;stroke-linejoin:miter;stroke-width:0.281818;\"/>\n   </g>\n   <g id=\"patch_95\">\n    <path clip-path=\"url(#p91b0f9ad36)\" d=\"M 325.874886 333.36 \nL 328.693068 333.36 \nL 328.693068 333.36 \nL 325.874886 333.36 \nz\n\" style=\"fill:#4c72b0;fill-opacity:0.75;stroke:#ffffff;stroke-linejoin:miter;stroke-width:0.281818;\"/>\n   </g>\n   <g id=\"patch_96\">\n    <path clip-path=\"url(#p91b0f9ad36)\" d=\"M 328.693068 333.36 \nL 331.51125 333.36 \nL 331.51125 333.36 \nL 328.693068 333.36 \nz\n\" style=\"fill:#4c72b0;fill-opacity:0.75;stroke:#ffffff;stroke-linejoin:miter;stroke-width:0.281818;\"/>\n   </g>\n   <g id=\"patch_97\">\n    <path clip-path=\"url(#p91b0f9ad36)\" d=\"M 331.51125 333.36 \nL 334.329432 333.36 \nL 334.329432 333.36 \nL 331.51125 333.36 \nz\n\" style=\"fill:#4c72b0;fill-opacity:0.75;stroke:#ffffff;stroke-linejoin:miter;stroke-width:0.281818;\"/>\n   </g>\n   <g id=\"patch_98\">\n    <path clip-path=\"url(#p91b0f9ad36)\" d=\"M 334.329432 333.36 \nL 337.147614 333.36 \nL 337.147614 333.36 \nL 334.329432 333.36 \nz\n\" style=\"fill:#4c72b0;fill-opacity:0.75;stroke:#ffffff;stroke-linejoin:miter;stroke-width:0.281818;\"/>\n   </g>\n   <g id=\"patch_99\">\n    <path clip-path=\"url(#p91b0f9ad36)\" d=\"M 337.147614 333.36 \nL 339.965795 333.36 \nL 339.965795 333.36 \nL 337.147614 333.36 \nz\n\" style=\"fill:#4c72b0;fill-opacity:0.75;stroke:#ffffff;stroke-linejoin:miter;stroke-width:0.281818;\"/>\n   </g>\n   <g id=\"patch_100\">\n    <path clip-path=\"url(#p91b0f9ad36)\" d=\"M 339.965795 333.36 \nL 342.783977 333.36 \nL 342.783977 333.36 \nL 339.965795 333.36 \nz\n\" style=\"fill:#4c72b0;fill-opacity:0.75;stroke:#ffffff;stroke-linejoin:miter;stroke-width:0.281818;\"/>\n   </g>\n   <g id=\"patch_101\">\n    <path clip-path=\"url(#p91b0f9ad36)\" d=\"M 342.783977 333.36 \nL 345.602159 333.36 \nL 345.602159 333.36 \nL 342.783977 333.36 \nz\n\" style=\"fill:#4c72b0;fill-opacity:0.75;stroke:#ffffff;stroke-linejoin:miter;stroke-width:0.281818;\"/>\n   </g>\n   <g id=\"patch_102\">\n    <path clip-path=\"url(#p91b0f9ad36)\" d=\"M 345.602159 333.36 \nL 348.420341 333.36 \nL 348.420341 333.36 \nL 345.602159 333.36 \nz\n\" style=\"fill:#4c72b0;fill-opacity:0.75;stroke:#ffffff;stroke-linejoin:miter;stroke-width:0.281818;\"/>\n   </g>\n   <g id=\"patch_103\">\n    <path clip-path=\"url(#p91b0f9ad36)\" d=\"M 348.420341 333.36 \nL 351.238523 333.36 \nL 351.238523 333.36 \nL 348.420341 333.36 \nz\n\" style=\"fill:#4c72b0;fill-opacity:0.75;stroke:#ffffff;stroke-linejoin:miter;stroke-width:0.281818;\"/>\n   </g>\n   <g id=\"patch_104\">\n    <path clip-path=\"url(#p91b0f9ad36)\" d=\"M 351.238523 333.36 \nL 354.056705 333.36 \nL 354.056705 333.36 \nL 351.238523 333.36 \nz\n\" style=\"fill:#4c72b0;fill-opacity:0.75;stroke:#ffffff;stroke-linejoin:miter;stroke-width:0.281818;\"/>\n   </g>\n   <g id=\"patch_105\">\n    <path clip-path=\"url(#p91b0f9ad36)\" d=\"M 354.056705 333.36 \nL 356.874886 333.36 \nL 356.874886 333.36 \nL 354.056705 333.36 \nz\n\" style=\"fill:#4c72b0;fill-opacity:0.75;stroke:#ffffff;stroke-linejoin:miter;stroke-width:0.281818;\"/>\n   </g>\n   <g id=\"patch_106\">\n    <path clip-path=\"url(#p91b0f9ad36)\" d=\"M 356.874886 333.36 \nL 359.693068 333.36 \nL 359.693068 333.36 \nL 356.874886 333.36 \nz\n\" style=\"fill:#4c72b0;fill-opacity:0.75;stroke:#ffffff;stroke-linejoin:miter;stroke-width:0.281818;\"/>\n   </g>\n   <g id=\"patch_107\">\n    <path clip-path=\"url(#p91b0f9ad36)\" d=\"M 359.693068 333.36 \nL 362.51125 333.36 \nL 362.51125 333.36 \nL 359.693068 333.36 \nz\n\" style=\"fill:#4c72b0;fill-opacity:0.75;stroke:#ffffff;stroke-linejoin:miter;stroke-width:0.281818;\"/>\n   </g>\n   <g id=\"patch_108\">\n    <path clip-path=\"url(#p91b0f9ad36)\" d=\"M 362.51125 333.36 \nL 365.329432 333.36 \nL 365.329432 333.36 \nL 362.51125 333.36 \nz\n\" style=\"fill:#4c72b0;fill-opacity:0.75;stroke:#ffffff;stroke-linejoin:miter;stroke-width:0.281818;\"/>\n   </g>\n   <g id=\"patch_109\">\n    <path clip-path=\"url(#p91b0f9ad36)\" d=\"M 365.329432 333.36 \nL 368.147614 333.36 \nL 368.147614 333.36 \nL 365.329432 333.36 \nz\n\" style=\"fill:#4c72b0;fill-opacity:0.75;stroke:#ffffff;stroke-linejoin:miter;stroke-width:0.281818;\"/>\n   </g>\n   <g id=\"patch_110\">\n    <path clip-path=\"url(#p91b0f9ad36)\" d=\"M 368.147614 333.36 \nL 370.965795 333.36 \nL 370.965795 333.36 \nL 368.147614 333.36 \nz\n\" style=\"fill:#4c72b0;fill-opacity:0.75;stroke:#ffffff;stroke-linejoin:miter;stroke-width:0.281818;\"/>\n   </g>\n   <g id=\"patch_111\">\n    <path clip-path=\"url(#p91b0f9ad36)\" d=\"M 370.965795 333.36 \nL 373.783977 333.36 \nL 373.783977 333.36 \nL 370.965795 333.36 \nz\n\" style=\"fill:#4c72b0;fill-opacity:0.75;stroke:#ffffff;stroke-linejoin:miter;stroke-width:0.281818;\"/>\n   </g>\n   <g id=\"patch_112\">\n    <path clip-path=\"url(#p91b0f9ad36)\" d=\"M 373.783977 333.36 \nL 376.602159 333.36 \nL 376.602159 333.36 \nL 373.783977 333.36 \nz\n\" style=\"fill:#4c72b0;fill-opacity:0.75;stroke:#ffffff;stroke-linejoin:miter;stroke-width:0.281818;\"/>\n   </g>\n   <g id=\"patch_113\">\n    <path clip-path=\"url(#p91b0f9ad36)\" d=\"M 376.602159 333.36 \nL 379.420341 333.36 \nL 379.420341 333.36 \nL 376.602159 333.36 \nz\n\" style=\"fill:#4c72b0;fill-opacity:0.75;stroke:#ffffff;stroke-linejoin:miter;stroke-width:0.281818;\"/>\n   </g>\n   <g id=\"patch_114\">\n    <path clip-path=\"url(#p91b0f9ad36)\" d=\"M 379.420341 333.36 \nL 382.238523 333.36 \nL 382.238523 333.36 \nL 379.420341 333.36 \nz\n\" style=\"fill:#4c72b0;fill-opacity:0.75;stroke:#ffffff;stroke-linejoin:miter;stroke-width:0.281818;\"/>\n   </g>\n   <g id=\"patch_115\">\n    <path clip-path=\"url(#p91b0f9ad36)\" d=\"M 382.238523 333.36 \nL 385.056705 333.36 \nL 385.056705 333.36 \nL 382.238523 333.36 \nz\n\" style=\"fill:#4c72b0;fill-opacity:0.75;stroke:#ffffff;stroke-linejoin:miter;stroke-width:0.281818;\"/>\n   </g>\n   <g id=\"patch_116\">\n    <path clip-path=\"url(#p91b0f9ad36)\" d=\"M 385.056705 333.36 \nL 387.874886 333.36 \nL 387.874886 333.36 \nL 385.056705 333.36 \nz\n\" style=\"fill:#4c72b0;fill-opacity:0.75;stroke:#ffffff;stroke-linejoin:miter;stroke-width:0.281818;\"/>\n   </g>\n   <g id=\"patch_117\">\n    <path clip-path=\"url(#p91b0f9ad36)\" d=\"M 387.874886 333.36 \nL 390.693068 333.36 \nL 390.693068 333.36 \nL 387.874886 333.36 \nz\n\" style=\"fill:#4c72b0;fill-opacity:0.75;stroke:#ffffff;stroke-linejoin:miter;stroke-width:0.281818;\"/>\n   </g>\n   <g id=\"patch_118\">\n    <path clip-path=\"url(#p91b0f9ad36)\" d=\"M 390.693068 333.36 \nL 393.51125 333.36 \nL 393.51125 333.36 \nL 390.693068 333.36 \nz\n\" style=\"fill:#4c72b0;fill-opacity:0.75;stroke:#ffffff;stroke-linejoin:miter;stroke-width:0.281818;\"/>\n   </g>\n   <g id=\"patch_119\">\n    <path clip-path=\"url(#p91b0f9ad36)\" d=\"M 393.51125 333.36 \nL 396.329432 333.36 \nL 396.329432 333.36 \nL 393.51125 333.36 \nz\n\" style=\"fill:#4c72b0;fill-opacity:0.75;stroke:#ffffff;stroke-linejoin:miter;stroke-width:0.281818;\"/>\n   </g>\n   <g id=\"patch_120\">\n    <path clip-path=\"url(#p91b0f9ad36)\" d=\"M 396.329432 333.36 \nL 399.147614 333.36 \nL 399.147614 333.36 \nL 396.329432 333.36 \nz\n\" style=\"fill:#4c72b0;fill-opacity:0.75;stroke:#ffffff;stroke-linejoin:miter;stroke-width:0.281818;\"/>\n   </g>\n   <g id=\"patch_121\">\n    <path clip-path=\"url(#p91b0f9ad36)\" d=\"M 399.147614 333.36 \nL 401.965795 333.36 \nL 401.965795 333.36 \nL 399.147614 333.36 \nz\n\" style=\"fill:#4c72b0;fill-opacity:0.75;stroke:#ffffff;stroke-linejoin:miter;stroke-width:0.281818;\"/>\n   </g>\n   <g id=\"patch_122\">\n    <path clip-path=\"url(#p91b0f9ad36)\" d=\"M 401.965795 333.36 \nL 404.783977 333.36 \nL 404.783977 333.36 \nL 401.965795 333.36 \nz\n\" style=\"fill:#4c72b0;fill-opacity:0.75;stroke:#ffffff;stroke-linejoin:miter;stroke-width:0.281818;\"/>\n   </g>\n   <g id=\"patch_123\">\n    <path clip-path=\"url(#p91b0f9ad36)\" d=\"M 404.783977 333.36 \nL 407.602159 333.36 \nL 407.602159 333.36 \nL 404.783977 333.36 \nz\n\" style=\"fill:#4c72b0;fill-opacity:0.75;stroke:#ffffff;stroke-linejoin:miter;stroke-width:0.281818;\"/>\n   </g>\n   <g id=\"patch_124\">\n    <path clip-path=\"url(#p91b0f9ad36)\" d=\"M 407.602159 333.36 \nL 410.420341 333.36 \nL 410.420341 333.36 \nL 407.602159 333.36 \nz\n\" style=\"fill:#4c72b0;fill-opacity:0.75;stroke:#ffffff;stroke-linejoin:miter;stroke-width:0.281818;\"/>\n   </g>\n   <g id=\"patch_125\">\n    <path clip-path=\"url(#p91b0f9ad36)\" d=\"M 410.420341 333.36 \nL 413.238523 333.36 \nL 413.238523 333.36 \nL 410.420341 333.36 \nz\n\" style=\"fill:#4c72b0;fill-opacity:0.75;stroke:#ffffff;stroke-linejoin:miter;stroke-width:0.281818;\"/>\n   </g>\n   <g id=\"patch_126\">\n    <path clip-path=\"url(#p91b0f9ad36)\" d=\"M 413.238523 333.36 \nL 416.056705 333.36 \nL 416.056705 333.36 \nL 413.238523 333.36 \nz\n\" style=\"fill:#4c72b0;fill-opacity:0.75;stroke:#ffffff;stroke-linejoin:miter;stroke-width:0.281818;\"/>\n   </g>\n   <g id=\"patch_127\">\n    <path clip-path=\"url(#p91b0f9ad36)\" d=\"M 416.056705 333.36 \nL 418.874886 333.36 \nL 418.874886 333.36 \nL 416.056705 333.36 \nz\n\" style=\"fill:#4c72b0;fill-opacity:0.75;stroke:#ffffff;stroke-linejoin:miter;stroke-width:0.281818;\"/>\n   </g>\n   <g id=\"patch_128\">\n    <path clip-path=\"url(#p91b0f9ad36)\" d=\"M 418.874886 333.36 \nL 421.693068 333.36 \nL 421.693068 333.36 \nL 418.874886 333.36 \nz\n\" style=\"fill:#4c72b0;fill-opacity:0.75;stroke:#ffffff;stroke-linejoin:miter;stroke-width:0.281818;\"/>\n   </g>\n   <g id=\"patch_129\">\n    <path clip-path=\"url(#p91b0f9ad36)\" d=\"M 421.693068 333.36 \nL 424.51125 333.36 \nL 424.51125 333.36 \nL 421.693068 333.36 \nz\n\" style=\"fill:#4c72b0;fill-opacity:0.75;stroke:#ffffff;stroke-linejoin:miter;stroke-width:0.281818;\"/>\n   </g>\n   <g id=\"patch_130\">\n    <path clip-path=\"url(#p91b0f9ad36)\" d=\"M 424.51125 333.36 \nL 427.329432 333.36 \nL 427.329432 333.36 \nL 424.51125 333.36 \nz\n\" style=\"fill:#4c72b0;fill-opacity:0.75;stroke:#ffffff;stroke-linejoin:miter;stroke-width:0.281818;\"/>\n   </g>\n   <g id=\"patch_131\">\n    <path clip-path=\"url(#p91b0f9ad36)\" d=\"M 427.329432 333.36 \nL 430.147614 333.36 \nL 430.147614 333.36 \nL 427.329432 333.36 \nz\n\" style=\"fill:#4c72b0;fill-opacity:0.75;stroke:#ffffff;stroke-linejoin:miter;stroke-width:0.281818;\"/>\n   </g>\n   <g id=\"patch_132\">\n    <path clip-path=\"url(#p91b0f9ad36)\" d=\"M 430.147614 333.36 \nL 432.965795 333.36 \nL 432.965795 333.36 \nL 430.147614 333.36 \nz\n\" style=\"fill:#4c72b0;fill-opacity:0.75;stroke:#ffffff;stroke-linejoin:miter;stroke-width:0.281818;\"/>\n   </g>\n   <g id=\"patch_133\">\n    <path clip-path=\"url(#p91b0f9ad36)\" d=\"M 432.965795 333.36 \nL 435.783977 333.36 \nL 435.783977 333.36 \nL 432.965795 333.36 \nz\n\" style=\"fill:#4c72b0;fill-opacity:0.75;stroke:#ffffff;stroke-linejoin:miter;stroke-width:0.281818;\"/>\n   </g>\n   <g id=\"patch_134\">\n    <path clip-path=\"url(#p91b0f9ad36)\" d=\"M 435.783977 333.36 \nL 438.602159 333.36 \nL 438.602159 333.36 \nL 435.783977 333.36 \nz\n\" style=\"fill:#4c72b0;fill-opacity:0.75;stroke:#ffffff;stroke-linejoin:miter;stroke-width:0.281818;\"/>\n   </g>\n   <g id=\"patch_135\">\n    <path clip-path=\"url(#p91b0f9ad36)\" d=\"M 438.602159 333.36 \nL 441.420341 333.36 \nL 441.420341 333.36 \nL 438.602159 333.36 \nz\n\" style=\"fill:#4c72b0;fill-opacity:0.75;stroke:#ffffff;stroke-linejoin:miter;stroke-width:0.281818;\"/>\n   </g>\n   <g id=\"patch_136\">\n    <path clip-path=\"url(#p91b0f9ad36)\" d=\"M 441.420341 333.36 \nL 444.238523 333.36 \nL 444.238523 333.36 \nL 441.420341 333.36 \nz\n\" style=\"fill:#4c72b0;fill-opacity:0.75;stroke:#ffffff;stroke-linejoin:miter;stroke-width:0.281818;\"/>\n   </g>\n   <g id=\"patch_137\">\n    <path clip-path=\"url(#p91b0f9ad36)\" d=\"M 444.238523 333.36 \nL 447.056705 333.36 \nL 447.056705 333.36 \nL 444.238523 333.36 \nz\n\" style=\"fill:#4c72b0;fill-opacity:0.75;stroke:#ffffff;stroke-linejoin:miter;stroke-width:0.281818;\"/>\n   </g>\n   <g id=\"patch_138\">\n    <path clip-path=\"url(#p91b0f9ad36)\" d=\"M 447.056705 333.36 \nL 449.874886 333.36 \nL 449.874886 333.36 \nL 447.056705 333.36 \nz\n\" style=\"fill:#4c72b0;fill-opacity:0.75;stroke:#ffffff;stroke-linejoin:miter;stroke-width:0.281818;\"/>\n   </g>\n   <g id=\"patch_139\">\n    <path clip-path=\"url(#p91b0f9ad36)\" d=\"M 449.874886 333.36 \nL 452.693068 333.36 \nL 452.693068 333.36 \nL 449.874886 333.36 \nz\n\" style=\"fill:#4c72b0;fill-opacity:0.75;stroke:#ffffff;stroke-linejoin:miter;stroke-width:0.281818;\"/>\n   </g>\n   <g id=\"patch_140\">\n    <path clip-path=\"url(#p91b0f9ad36)\" d=\"M 452.693068 333.36 \nL 455.51125 333.36 \nL 455.51125 333.36 \nL 452.693068 333.36 \nz\n\" style=\"fill:#4c72b0;fill-opacity:0.75;stroke:#ffffff;stroke-linejoin:miter;stroke-width:0.281818;\"/>\n   </g>\n   <g id=\"patch_141\">\n    <path clip-path=\"url(#p91b0f9ad36)\" d=\"M 455.51125 333.36 \nL 458.329432 333.36 \nL 458.329432 333.36 \nL 455.51125 333.36 \nz\n\" style=\"fill:#4c72b0;fill-opacity:0.75;stroke:#ffffff;stroke-linejoin:miter;stroke-width:0.281818;\"/>\n   </g>\n   <g id=\"patch_142\">\n    <path clip-path=\"url(#p91b0f9ad36)\" d=\"M 458.329432 333.36 \nL 461.147614 333.36 \nL 461.147614 333.36 \nL 458.329432 333.36 \nz\n\" style=\"fill:#4c72b0;fill-opacity:0.75;stroke:#ffffff;stroke-linejoin:miter;stroke-width:0.281818;\"/>\n   </g>\n   <g id=\"patch_143\">\n    <path clip-path=\"url(#p91b0f9ad36)\" d=\"M 461.147614 333.36 \nL 463.965795 333.36 \nL 463.965795 333.36 \nL 461.147614 333.36 \nz\n\" style=\"fill:#4c72b0;fill-opacity:0.75;stroke:#ffffff;stroke-linejoin:miter;stroke-width:0.281818;\"/>\n   </g>\n   <g id=\"patch_144\">\n    <path clip-path=\"url(#p91b0f9ad36)\" d=\"M 463.965795 333.36 \nL 466.783977 333.36 \nL 466.783977 333.36 \nL 463.965795 333.36 \nz\n\" style=\"fill:#4c72b0;fill-opacity:0.75;stroke:#ffffff;stroke-linejoin:miter;stroke-width:0.281818;\"/>\n   </g>\n   <g id=\"patch_145\">\n    <path clip-path=\"url(#p91b0f9ad36)\" d=\"M 466.783977 333.36 \nL 469.602159 333.36 \nL 469.602159 333.36 \nL 466.783977 333.36 \nz\n\" style=\"fill:#4c72b0;fill-opacity:0.75;stroke:#ffffff;stroke-linejoin:miter;stroke-width:0.281818;\"/>\n   </g>\n   <g id=\"patch_146\">\n    <path clip-path=\"url(#p91b0f9ad36)\" d=\"M 469.602159 333.36 \nL 472.420341 333.36 \nL 472.420341 322.064416 \nL 469.602159 322.064416 \nz\n\" style=\"fill:#4c72b0;fill-opacity:0.75;stroke:#ffffff;stroke-linejoin:miter;stroke-width:0.281818;\"/>\n   </g>\n   <g id=\"patch_147\">\n    <path d=\"M 46.31125 333.36 \nL 46.31125 7.2 \n\" style=\"fill:none;stroke:#ffffff;stroke-linecap:square;stroke-linejoin:miter;stroke-width:1.25;\"/>\n   </g>\n   <g id=\"patch_148\">\n    <path d=\"M 492.71125 333.36 \nL 492.71125 7.2 \n\" style=\"fill:none;stroke:#ffffff;stroke-linecap:square;stroke-linejoin:miter;stroke-width:1.25;\"/>\n   </g>\n   <g id=\"patch_149\">\n    <path d=\"M 46.31125 333.36 \nL 492.71125 333.36 \n\" style=\"fill:none;stroke:#ffffff;stroke-linecap:square;stroke-linejoin:miter;stroke-width:1.25;\"/>\n   </g>\n   <g id=\"patch_150\">\n    <path d=\"M 46.31125 7.2 \nL 492.71125 7.2 \n\" style=\"fill:none;stroke:#ffffff;stroke-linecap:square;stroke-linejoin:miter;stroke-width:1.25;\"/>\n   </g>\n  </g>\n </g>\n <defs>\n  <clipPath id=\"p91b0f9ad36\">\n   <rect height=\"326.16\" width=\"446.4\" x=\"46.31125\" y=\"7.2\"/>\n  </clipPath>\n </defs>\n</svg>\n"
          },
          "metadata": {
            "tags": [],
            "needs_background": "light"
          }
        }
      ]
    },
    {
      "cell_type": "code",
      "metadata": {
        "colab": {
          "base_uri": "https://localhost:8080/",
          "height": 523
        },
        "id": "gkjDpzCkySTI",
        "outputId": "47d708d1-30e6-49a9-caaa-74a51413dc8e"
      },
      "source": [
        "# histogram of somewhat cleaned hangout preference\n",
        "sns.histplot(hangout_series_clean.loc[hangout_series_clean < 25])\n",
        "plt.show()"
      ],
      "execution_count": 290,
      "outputs": [
        {
          "output_type": "display_data",
          "data": {
            "text/plain": [
              "<Figure size 800x600 with 1 Axes>"
            ],
            "image/svg+xml": "<?xml version=\"1.0\" encoding=\"utf-8\" standalone=\"no\"?>\n<!DOCTYPE svg PUBLIC \"-//W3C//DTD SVG 1.1//EN\"\n  \"http://www.w3.org/Graphics/SVG/1.1/DTD/svg11.dtd\">\n<!-- Created with matplotlib (https://matplotlib.org/) -->\n<svg height=\"376.319687pt\" version=\"1.1\" viewBox=\"0 0 499.91125 376.319687\" width=\"499.91125pt\" xmlns=\"http://www.w3.org/2000/svg\" xmlns:xlink=\"http://www.w3.org/1999/xlink\">\n <defs>\n  <style type=\"text/css\">\n*{stroke-linecap:butt;stroke-linejoin:round;}\n  </style>\n </defs>\n <g id=\"figure_1\">\n  <g id=\"patch_1\">\n   <path d=\"M 0 376.319687 \nL 499.91125 376.319687 \nL 499.91125 0 \nL 0 0 \nz\n\" style=\"fill:none;\"/>\n  </g>\n  <g id=\"axes_1\">\n   <g id=\"patch_2\">\n    <path d=\"M 46.31125 333.36 \nL 492.71125 333.36 \nL 492.71125 7.2 \nL 46.31125 7.2 \nz\n\" style=\"fill:#eaeaf2;\"/>\n   </g>\n   <g id=\"matplotlib.axis_1\">\n    <g id=\"xtick_1\">\n     <g id=\"line2d_1\">\n      <path clip-path=\"url(#pbac5530359)\" d=\"M 98.640437 333.36 \nL 98.640437 7.2 \n\" style=\"fill:none;stroke:#ffffff;stroke-linecap:round;\"/>\n     </g>\n     <g id=\"text_1\">\n      <!-- 2.5 -->\n      <defs>\n       <path d=\"M 19.1875 8.296875 \nL 53.609375 8.296875 \nL 53.609375 0 \nL 7.328125 0 \nL 7.328125 8.296875 \nQ 12.9375 14.109375 22.625 23.890625 \nQ 32.328125 33.6875 34.8125 36.53125 \nQ 39.546875 41.84375 41.421875 45.53125 \nQ 43.3125 49.21875 43.3125 52.78125 \nQ 43.3125 58.59375 39.234375 62.25 \nQ 35.15625 65.921875 28.609375 65.921875 \nQ 23.96875 65.921875 18.8125 64.3125 \nQ 13.671875 62.703125 7.8125 59.421875 \nL 7.8125 69.390625 \nQ 13.765625 71.78125 18.9375 73 \nQ 24.125 74.21875 28.421875 74.21875 \nQ 39.75 74.21875 46.484375 68.546875 \nQ 53.21875 62.890625 53.21875 53.421875 \nQ 53.21875 48.921875 51.53125 44.890625 \nQ 49.859375 40.875 45.40625 35.40625 \nQ 44.1875 33.984375 37.640625 27.21875 \nQ 31.109375 20.453125 19.1875 8.296875 \nz\n\" id=\"DejaVuSans-50\"/>\n       <path d=\"M 10.6875 12.40625 \nL 21 12.40625 \nL 21 0 \nL 10.6875 0 \nz\n\" id=\"DejaVuSans-46\"/>\n       <path d=\"M 10.796875 72.90625 \nL 49.515625 72.90625 \nL 49.515625 64.59375 \nL 19.828125 64.59375 \nL 19.828125 46.734375 \nQ 21.96875 47.46875 24.109375 47.828125 \nQ 26.265625 48.1875 28.421875 48.1875 \nQ 40.625 48.1875 47.75 41.5 \nQ 54.890625 34.8125 54.890625 23.390625 \nQ 54.890625 11.625 47.5625 5.09375 \nQ 40.234375 -1.421875 26.90625 -1.421875 \nQ 22.3125 -1.421875 17.546875 -0.640625 \nQ 12.796875 0.140625 7.71875 1.703125 \nL 7.71875 11.625 \nQ 12.109375 9.234375 16.796875 8.0625 \nQ 21.484375 6.890625 26.703125 6.890625 \nQ 35.15625 6.890625 40.078125 11.328125 \nQ 45.015625 15.765625 45.015625 23.390625 \nQ 45.015625 31 40.078125 35.4375 \nQ 35.15625 39.890625 26.703125 39.890625 \nQ 22.75 39.890625 18.8125 39.015625 \nQ 14.890625 38.140625 10.796875 36.28125 \nz\n\" id=\"DejaVuSans-53\"/>\n      </defs>\n      <g style=\"fill:#262626;\" transform=\"translate(89.893718 351.218281)scale(0.11 -0.11)\">\n       <use xlink:href=\"#DejaVuSans-50\"/>\n       <use x=\"63.623047\" xlink:href=\"#DejaVuSans-46\"/>\n       <use x=\"95.410156\" xlink:href=\"#DejaVuSans-53\"/>\n      </g>\n     </g>\n    </g>\n    <g id=\"xtick_2\">\n     <g id=\"line2d_2\">\n      <path clip-path=\"url(#pbac5530359)\" d=\"M 152.037566 333.36 \nL 152.037566 7.2 \n\" style=\"fill:none;stroke:#ffffff;stroke-linecap:round;\"/>\n     </g>\n     <g id=\"text_2\">\n      <!-- 5.0 -->\n      <defs>\n       <path d=\"M 31.78125 66.40625 \nQ 24.171875 66.40625 20.328125 58.90625 \nQ 16.5 51.421875 16.5 36.375 \nQ 16.5 21.390625 20.328125 13.890625 \nQ 24.171875 6.390625 31.78125 6.390625 \nQ 39.453125 6.390625 43.28125 13.890625 \nQ 47.125 21.390625 47.125 36.375 \nQ 47.125 51.421875 43.28125 58.90625 \nQ 39.453125 66.40625 31.78125 66.40625 \nz\nM 31.78125 74.21875 \nQ 44.046875 74.21875 50.515625 64.515625 \nQ 56.984375 54.828125 56.984375 36.375 \nQ 56.984375 17.96875 50.515625 8.265625 \nQ 44.046875 -1.421875 31.78125 -1.421875 \nQ 19.53125 -1.421875 13.0625 8.265625 \nQ 6.59375 17.96875 6.59375 36.375 \nQ 6.59375 54.828125 13.0625 64.515625 \nQ 19.53125 74.21875 31.78125 74.21875 \nz\n\" id=\"DejaVuSans-48\"/>\n      </defs>\n      <g style=\"fill:#262626;\" transform=\"translate(143.290847 351.218281)scale(0.11 -0.11)\">\n       <use xlink:href=\"#DejaVuSans-53\"/>\n       <use x=\"63.623047\" xlink:href=\"#DejaVuSans-46\"/>\n       <use x=\"95.410156\" xlink:href=\"#DejaVuSans-48\"/>\n      </g>\n     </g>\n    </g>\n    <g id=\"xtick_3\">\n     <g id=\"line2d_3\">\n      <path clip-path=\"url(#pbac5530359)\" d=\"M 205.434695 333.36 \nL 205.434695 7.2 \n\" style=\"fill:none;stroke:#ffffff;stroke-linecap:round;\"/>\n     </g>\n     <g id=\"text_3\">\n      <!-- 7.5 -->\n      <defs>\n       <path d=\"M 8.203125 72.90625 \nL 55.078125 72.90625 \nL 55.078125 68.703125 \nL 28.609375 0 \nL 18.3125 0 \nL 43.21875 64.59375 \nL 8.203125 64.59375 \nz\n\" id=\"DejaVuSans-55\"/>\n      </defs>\n      <g style=\"fill:#262626;\" transform=\"translate(196.687976 351.218281)scale(0.11 -0.11)\">\n       <use xlink:href=\"#DejaVuSans-55\"/>\n       <use x=\"63.623047\" xlink:href=\"#DejaVuSans-46\"/>\n       <use x=\"95.410156\" xlink:href=\"#DejaVuSans-53\"/>\n      </g>\n     </g>\n    </g>\n    <g id=\"xtick_4\">\n     <g id=\"line2d_4\">\n      <path clip-path=\"url(#pbac5530359)\" d=\"M 258.831824 333.36 \nL 258.831824 7.2 \n\" style=\"fill:none;stroke:#ffffff;stroke-linecap:round;\"/>\n     </g>\n     <g id=\"text_4\">\n      <!-- 10.0 -->\n      <defs>\n       <path d=\"M 12.40625 8.296875 \nL 28.515625 8.296875 \nL 28.515625 63.921875 \nL 10.984375 60.40625 \nL 10.984375 69.390625 \nL 28.421875 72.90625 \nL 38.28125 72.90625 \nL 38.28125 8.296875 \nL 54.390625 8.296875 \nL 54.390625 0 \nL 12.40625 0 \nz\n\" id=\"DejaVuSans-49\"/>\n      </defs>\n      <g style=\"fill:#262626;\" transform=\"translate(246.58573 351.218281)scale(0.11 -0.11)\">\n       <use xlink:href=\"#DejaVuSans-49\"/>\n       <use x=\"63.623047\" xlink:href=\"#DejaVuSans-48\"/>\n       <use x=\"127.246094\" xlink:href=\"#DejaVuSans-46\"/>\n       <use x=\"159.033203\" xlink:href=\"#DejaVuSans-48\"/>\n      </g>\n     </g>\n    </g>\n    <g id=\"xtick_5\">\n     <g id=\"line2d_5\">\n      <path clip-path=\"url(#pbac5530359)\" d=\"M 312.228953 333.36 \nL 312.228953 7.2 \n\" style=\"fill:none;stroke:#ffffff;stroke-linecap:round;\"/>\n     </g>\n     <g id=\"text_5\">\n      <!-- 12.5 -->\n      <g style=\"fill:#262626;\" transform=\"translate(299.98286 351.218281)scale(0.11 -0.11)\">\n       <use xlink:href=\"#DejaVuSans-49\"/>\n       <use x=\"63.623047\" xlink:href=\"#DejaVuSans-50\"/>\n       <use x=\"127.246094\" xlink:href=\"#DejaVuSans-46\"/>\n       <use x=\"159.033203\" xlink:href=\"#DejaVuSans-53\"/>\n      </g>\n     </g>\n    </g>\n    <g id=\"xtick_6\">\n     <g id=\"line2d_6\">\n      <path clip-path=\"url(#pbac5530359)\" d=\"M 365.626083 333.36 \nL 365.626083 7.2 \n\" style=\"fill:none;stroke:#ffffff;stroke-linecap:round;\"/>\n     </g>\n     <g id=\"text_6\">\n      <!-- 15.0 -->\n      <g style=\"fill:#262626;\" transform=\"translate(353.379989 351.218281)scale(0.11 -0.11)\">\n       <use xlink:href=\"#DejaVuSans-49\"/>\n       <use x=\"63.623047\" xlink:href=\"#DejaVuSans-53\"/>\n       <use x=\"127.246094\" xlink:href=\"#DejaVuSans-46\"/>\n       <use x=\"159.033203\" xlink:href=\"#DejaVuSans-48\"/>\n      </g>\n     </g>\n    </g>\n    <g id=\"xtick_7\">\n     <g id=\"line2d_7\">\n      <path clip-path=\"url(#pbac5530359)\" d=\"M 419.023212 333.36 \nL 419.023212 7.2 \n\" style=\"fill:none;stroke:#ffffff;stroke-linecap:round;\"/>\n     </g>\n     <g id=\"text_7\">\n      <!-- 17.5 -->\n      <g style=\"fill:#262626;\" transform=\"translate(406.777118 351.218281)scale(0.11 -0.11)\">\n       <use xlink:href=\"#DejaVuSans-49\"/>\n       <use x=\"63.623047\" xlink:href=\"#DejaVuSans-55\"/>\n       <use x=\"127.246094\" xlink:href=\"#DejaVuSans-46\"/>\n       <use x=\"159.033203\" xlink:href=\"#DejaVuSans-53\"/>\n      </g>\n     </g>\n    </g>\n    <g id=\"xtick_8\">\n     <g id=\"line2d_8\">\n      <path clip-path=\"url(#pbac5530359)\" d=\"M 472.420341 333.36 \nL 472.420341 7.2 \n\" style=\"fill:none;stroke:#ffffff;stroke-linecap:round;\"/>\n     </g>\n     <g id=\"text_8\">\n      <!-- 20.0 -->\n      <g style=\"fill:#262626;\" transform=\"translate(460.174247 351.218281)scale(0.11 -0.11)\">\n       <use xlink:href=\"#DejaVuSans-50\"/>\n       <use x=\"63.623047\" xlink:href=\"#DejaVuSans-48\"/>\n       <use x=\"127.246094\" xlink:href=\"#DejaVuSans-46\"/>\n       <use x=\"159.033203\" xlink:href=\"#DejaVuSans-48\"/>\n      </g>\n     </g>\n    </g>\n    <g id=\"text_9\">\n     <!-- hangout -->\n     <defs>\n      <path d=\"M 54.890625 33.015625 \nL 54.890625 0 \nL 45.90625 0 \nL 45.90625 32.71875 \nQ 45.90625 40.484375 42.875 44.328125 \nQ 39.84375 48.1875 33.796875 48.1875 \nQ 26.515625 48.1875 22.3125 43.546875 \nQ 18.109375 38.921875 18.109375 30.90625 \nL 18.109375 0 \nL 9.078125 0 \nL 9.078125 75.984375 \nL 18.109375 75.984375 \nL 18.109375 46.1875 \nQ 21.34375 51.125 25.703125 53.5625 \nQ 30.078125 56 35.796875 56 \nQ 45.21875 56 50.046875 50.171875 \nQ 54.890625 44.34375 54.890625 33.015625 \nz\n\" id=\"DejaVuSans-104\"/>\n      <path d=\"M 34.28125 27.484375 \nQ 23.390625 27.484375 19.1875 25 \nQ 14.984375 22.515625 14.984375 16.5 \nQ 14.984375 11.71875 18.140625 8.90625 \nQ 21.296875 6.109375 26.703125 6.109375 \nQ 34.1875 6.109375 38.703125 11.40625 \nQ 43.21875 16.703125 43.21875 25.484375 \nL 43.21875 27.484375 \nz\nM 52.203125 31.203125 \nL 52.203125 0 \nL 43.21875 0 \nL 43.21875 8.296875 \nQ 40.140625 3.328125 35.546875 0.953125 \nQ 30.953125 -1.421875 24.3125 -1.421875 \nQ 15.921875 -1.421875 10.953125 3.296875 \nQ 6 8.015625 6 15.921875 \nQ 6 25.140625 12.171875 29.828125 \nQ 18.359375 34.515625 30.609375 34.515625 \nL 43.21875 34.515625 \nL 43.21875 35.40625 \nQ 43.21875 41.609375 39.140625 45 \nQ 35.0625 48.390625 27.6875 48.390625 \nQ 23 48.390625 18.546875 47.265625 \nQ 14.109375 46.140625 10.015625 43.890625 \nL 10.015625 52.203125 \nQ 14.9375 54.109375 19.578125 55.046875 \nQ 24.21875 56 28.609375 56 \nQ 40.484375 56 46.34375 49.84375 \nQ 52.203125 43.703125 52.203125 31.203125 \nz\n\" id=\"DejaVuSans-97\"/>\n      <path d=\"M 54.890625 33.015625 \nL 54.890625 0 \nL 45.90625 0 \nL 45.90625 32.71875 \nQ 45.90625 40.484375 42.875 44.328125 \nQ 39.84375 48.1875 33.796875 48.1875 \nQ 26.515625 48.1875 22.3125 43.546875 \nQ 18.109375 38.921875 18.109375 30.90625 \nL 18.109375 0 \nL 9.078125 0 \nL 9.078125 54.6875 \nL 18.109375 54.6875 \nL 18.109375 46.1875 \nQ 21.34375 51.125 25.703125 53.5625 \nQ 30.078125 56 35.796875 56 \nQ 45.21875 56 50.046875 50.171875 \nQ 54.890625 44.34375 54.890625 33.015625 \nz\n\" id=\"DejaVuSans-110\"/>\n      <path d=\"M 45.40625 27.984375 \nQ 45.40625 37.75 41.375 43.109375 \nQ 37.359375 48.484375 30.078125 48.484375 \nQ 22.859375 48.484375 18.828125 43.109375 \nQ 14.796875 37.75 14.796875 27.984375 \nQ 14.796875 18.265625 18.828125 12.890625 \nQ 22.859375 7.515625 30.078125 7.515625 \nQ 37.359375 7.515625 41.375 12.890625 \nQ 45.40625 18.265625 45.40625 27.984375 \nz\nM 54.390625 6.78125 \nQ 54.390625 -7.171875 48.1875 -13.984375 \nQ 42 -20.796875 29.203125 -20.796875 \nQ 24.46875 -20.796875 20.265625 -20.09375 \nQ 16.0625 -19.390625 12.109375 -17.921875 \nL 12.109375 -9.1875 \nQ 16.0625 -11.328125 19.921875 -12.34375 \nQ 23.78125 -13.375 27.78125 -13.375 \nQ 36.625 -13.375 41.015625 -8.765625 \nQ 45.40625 -4.15625 45.40625 5.171875 \nL 45.40625 9.625 \nQ 42.625 4.78125 38.28125 2.390625 \nQ 33.9375 0 27.875 0 \nQ 17.828125 0 11.671875 7.65625 \nQ 5.515625 15.328125 5.515625 27.984375 \nQ 5.515625 40.671875 11.671875 48.328125 \nQ 17.828125 56 27.875 56 \nQ 33.9375 56 38.28125 53.609375 \nQ 42.625 51.21875 45.40625 46.390625 \nL 45.40625 54.6875 \nL 54.390625 54.6875 \nz\n\" id=\"DejaVuSans-103\"/>\n      <path d=\"M 30.609375 48.390625 \nQ 23.390625 48.390625 19.1875 42.75 \nQ 14.984375 37.109375 14.984375 27.296875 \nQ 14.984375 17.484375 19.15625 11.84375 \nQ 23.34375 6.203125 30.609375 6.203125 \nQ 37.796875 6.203125 41.984375 11.859375 \nQ 46.1875 17.53125 46.1875 27.296875 \nQ 46.1875 37.015625 41.984375 42.703125 \nQ 37.796875 48.390625 30.609375 48.390625 \nz\nM 30.609375 56 \nQ 42.328125 56 49.015625 48.375 \nQ 55.71875 40.765625 55.71875 27.296875 \nQ 55.71875 13.875 49.015625 6.21875 \nQ 42.328125 -1.421875 30.609375 -1.421875 \nQ 18.84375 -1.421875 12.171875 6.21875 \nQ 5.515625 13.875 5.515625 27.296875 \nQ 5.515625 40.765625 12.171875 48.375 \nQ 18.84375 56 30.609375 56 \nz\n\" id=\"DejaVuSans-111\"/>\n      <path d=\"M 8.5 21.578125 \nL 8.5 54.6875 \nL 17.484375 54.6875 \nL 17.484375 21.921875 \nQ 17.484375 14.15625 20.5 10.265625 \nQ 23.53125 6.390625 29.59375 6.390625 \nQ 36.859375 6.390625 41.078125 11.03125 \nQ 45.3125 15.671875 45.3125 23.6875 \nL 45.3125 54.6875 \nL 54.296875 54.6875 \nL 54.296875 0 \nL 45.3125 0 \nL 45.3125 8.40625 \nQ 42.046875 3.421875 37.71875 1 \nQ 33.40625 -1.421875 27.6875 -1.421875 \nQ 18.265625 -1.421875 13.375 4.4375 \nQ 8.5 10.296875 8.5 21.578125 \nz\nM 31.109375 56 \nz\n\" id=\"DejaVuSans-117\"/>\n      <path d=\"M 18.3125 70.21875 \nL 18.3125 54.6875 \nL 36.8125 54.6875 \nL 36.8125 47.703125 \nL 18.3125 47.703125 \nL 18.3125 18.015625 \nQ 18.3125 11.328125 20.140625 9.421875 \nQ 21.96875 7.515625 27.59375 7.515625 \nL 36.8125 7.515625 \nL 36.8125 0 \nL 27.59375 0 \nQ 17.1875 0 13.234375 3.875 \nQ 9.28125 7.765625 9.28125 18.015625 \nL 9.28125 47.703125 \nL 2.6875 47.703125 \nL 2.6875 54.6875 \nL 9.28125 54.6875 \nL 9.28125 70.21875 \nz\n\" id=\"DejaVuSans-116\"/>\n     </defs>\n     <g style=\"fill:#262626;\" transform=\"translate(244.594375 366.624062)scale(0.12 -0.12)\">\n      <use xlink:href=\"#DejaVuSans-104\"/>\n      <use x=\"63.378906\" xlink:href=\"#DejaVuSans-97\"/>\n      <use x=\"124.658203\" xlink:href=\"#DejaVuSans-110\"/>\n      <use x=\"188.037109\" xlink:href=\"#DejaVuSans-103\"/>\n      <use x=\"251.513672\" xlink:href=\"#DejaVuSans-111\"/>\n      <use x=\"312.695312\" xlink:href=\"#DejaVuSans-117\"/>\n      <use x=\"376.074219\" xlink:href=\"#DejaVuSans-116\"/>\n     </g>\n    </g>\n   </g>\n   <g id=\"matplotlib.axis_2\">\n    <g id=\"ytick_1\">\n     <g id=\"line2d_9\">\n      <path clip-path=\"url(#pbac5530359)\" d=\"M 46.31125 333.36 \nL 492.71125 333.36 \n\" style=\"fill:none;stroke:#ffffff;stroke-linecap:round;\"/>\n     </g>\n     <g id=\"text_10\">\n      <!-- 0 -->\n      <g style=\"fill:#262626;\" transform=\"translate(29.8125 337.539141)scale(0.11 -0.11)\">\n       <use xlink:href=\"#DejaVuSans-48\"/>\n      </g>\n     </g>\n    </g>\n    <g id=\"ytick_2\">\n     <g id=\"line2d_10\">\n      <path clip-path=\"url(#pbac5530359)\" d=\"M 46.31125 276.882078 \nL 492.71125 276.882078 \n\" style=\"fill:none;stroke:#ffffff;stroke-linecap:round;\"/>\n     </g>\n     <g id=\"text_11\">\n      <!-- 10 -->\n      <g style=\"fill:#262626;\" transform=\"translate(22.81375 281.061219)scale(0.11 -0.11)\">\n       <use xlink:href=\"#DejaVuSans-49\"/>\n       <use x=\"63.623047\" xlink:href=\"#DejaVuSans-48\"/>\n      </g>\n     </g>\n    </g>\n    <g id=\"ytick_3\">\n     <g id=\"line2d_11\">\n      <path clip-path=\"url(#pbac5530359)\" d=\"M 46.31125 220.404156 \nL 492.71125 220.404156 \n\" style=\"fill:none;stroke:#ffffff;stroke-linecap:round;\"/>\n     </g>\n     <g id=\"text_12\">\n      <!-- 20 -->\n      <g style=\"fill:#262626;\" transform=\"translate(22.81375 224.583296)scale(0.11 -0.11)\">\n       <use xlink:href=\"#DejaVuSans-50\"/>\n       <use x=\"63.623047\" xlink:href=\"#DejaVuSans-48\"/>\n      </g>\n     </g>\n    </g>\n    <g id=\"ytick_4\">\n     <g id=\"line2d_12\">\n      <path clip-path=\"url(#pbac5530359)\" d=\"M 46.31125 163.926234 \nL 492.71125 163.926234 \n\" style=\"fill:none;stroke:#ffffff;stroke-linecap:round;\"/>\n     </g>\n     <g id=\"text_13\">\n      <!-- 30 -->\n      <defs>\n       <path d=\"M 40.578125 39.3125 \nQ 47.65625 37.796875 51.625 33 \nQ 55.609375 28.21875 55.609375 21.1875 \nQ 55.609375 10.40625 48.1875 4.484375 \nQ 40.765625 -1.421875 27.09375 -1.421875 \nQ 22.515625 -1.421875 17.65625 -0.515625 \nQ 12.796875 0.390625 7.625 2.203125 \nL 7.625 11.71875 \nQ 11.71875 9.328125 16.59375 8.109375 \nQ 21.484375 6.890625 26.8125 6.890625 \nQ 36.078125 6.890625 40.9375 10.546875 \nQ 45.796875 14.203125 45.796875 21.1875 \nQ 45.796875 27.640625 41.28125 31.265625 \nQ 36.765625 34.90625 28.71875 34.90625 \nL 20.21875 34.90625 \nL 20.21875 43.015625 \nL 29.109375 43.015625 \nQ 36.375 43.015625 40.234375 45.921875 \nQ 44.09375 48.828125 44.09375 54.296875 \nQ 44.09375 59.90625 40.109375 62.90625 \nQ 36.140625 65.921875 28.71875 65.921875 \nQ 24.65625 65.921875 20.015625 65.03125 \nQ 15.375 64.15625 9.8125 62.3125 \nL 9.8125 71.09375 \nQ 15.4375 72.65625 20.34375 73.4375 \nQ 25.25 74.21875 29.59375 74.21875 \nQ 40.828125 74.21875 47.359375 69.109375 \nQ 53.90625 64.015625 53.90625 55.328125 \nQ 53.90625 49.265625 50.4375 45.09375 \nQ 46.96875 40.921875 40.578125 39.3125 \nz\n\" id=\"DejaVuSans-51\"/>\n      </defs>\n      <g style=\"fill:#262626;\" transform=\"translate(22.81375 168.105374)scale(0.11 -0.11)\">\n       <use xlink:href=\"#DejaVuSans-51\"/>\n       <use x=\"63.623047\" xlink:href=\"#DejaVuSans-48\"/>\n      </g>\n     </g>\n    </g>\n    <g id=\"ytick_5\">\n     <g id=\"line2d_13\">\n      <path clip-path=\"url(#pbac5530359)\" d=\"M 46.31125 107.448312 \nL 492.71125 107.448312 \n\" style=\"fill:none;stroke:#ffffff;stroke-linecap:round;\"/>\n     </g>\n     <g id=\"text_14\">\n      <!-- 40 -->\n      <defs>\n       <path d=\"M 37.796875 64.3125 \nL 12.890625 25.390625 \nL 37.796875 25.390625 \nz\nM 35.203125 72.90625 \nL 47.609375 72.90625 \nL 47.609375 25.390625 \nL 58.015625 25.390625 \nL 58.015625 17.1875 \nL 47.609375 17.1875 \nL 47.609375 0 \nL 37.796875 0 \nL 37.796875 17.1875 \nL 4.890625 17.1875 \nL 4.890625 26.703125 \nz\n\" id=\"DejaVuSans-52\"/>\n      </defs>\n      <g style=\"fill:#262626;\" transform=\"translate(22.81375 111.627452)scale(0.11 -0.11)\">\n       <use xlink:href=\"#DejaVuSans-52\"/>\n       <use x=\"63.623047\" xlink:href=\"#DejaVuSans-48\"/>\n      </g>\n     </g>\n    </g>\n    <g id=\"ytick_6\">\n     <g id=\"line2d_14\">\n      <path clip-path=\"url(#pbac5530359)\" d=\"M 46.31125 50.97039 \nL 492.71125 50.97039 \n\" style=\"fill:none;stroke:#ffffff;stroke-linecap:round;\"/>\n     </g>\n     <g id=\"text_15\">\n      <!-- 50 -->\n      <g style=\"fill:#262626;\" transform=\"translate(22.81375 55.14953)scale(0.11 -0.11)\">\n       <use xlink:href=\"#DejaVuSans-53\"/>\n       <use x=\"63.623047\" xlink:href=\"#DejaVuSans-48\"/>\n      </g>\n     </g>\n    </g>\n    <g id=\"text_16\">\n     <!-- Count -->\n     <defs>\n      <path d=\"M 64.40625 67.28125 \nL 64.40625 56.890625 \nQ 59.421875 61.53125 53.78125 63.8125 \nQ 48.140625 66.109375 41.796875 66.109375 \nQ 29.296875 66.109375 22.65625 58.46875 \nQ 16.015625 50.828125 16.015625 36.375 \nQ 16.015625 21.96875 22.65625 14.328125 \nQ 29.296875 6.6875 41.796875 6.6875 \nQ 48.140625 6.6875 53.78125 8.984375 \nQ 59.421875 11.28125 64.40625 15.921875 \nL 64.40625 5.609375 \nQ 59.234375 2.09375 53.4375 0.328125 \nQ 47.65625 -1.421875 41.21875 -1.421875 \nQ 24.65625 -1.421875 15.125 8.703125 \nQ 5.609375 18.84375 5.609375 36.375 \nQ 5.609375 53.953125 15.125 64.078125 \nQ 24.65625 74.21875 41.21875 74.21875 \nQ 47.75 74.21875 53.53125 72.484375 \nQ 59.328125 70.75 64.40625 67.28125 \nz\n\" id=\"DejaVuSans-67\"/>\n     </defs>\n     <g style=\"fill:#262626;\" transform=\"translate(16.318125 188.098125)rotate(-90)scale(0.12 -0.12)\">\n      <use xlink:href=\"#DejaVuSans-67\"/>\n      <use x=\"69.824219\" xlink:href=\"#DejaVuSans-111\"/>\n      <use x=\"131.005859\" xlink:href=\"#DejaVuSans-117\"/>\n      <use x=\"194.384766\" xlink:href=\"#DejaVuSans-110\"/>\n      <use x=\"257.763672\" xlink:href=\"#DejaVuSans-116\"/>\n     </g>\n    </g>\n   </g>\n   <g id=\"patch_3\">\n    <path clip-path=\"url(#pbac5530359)\" d=\"M 66.602159 333.36 \nL 81.095666 333.36 \nL 81.095666 282.52987 \nL 66.602159 282.52987 \nz\n\" style=\"fill:#4c72b0;fill-opacity:0.75;stroke:#ffffff;stroke-linejoin:miter;\"/>\n   </g>\n   <g id=\"patch_4\">\n    <path clip-path=\"url(#pbac5530359)\" d=\"M 81.095666 333.36 \nL 95.589172 333.36 \nL 95.589172 248.643117 \nL 81.095666 248.643117 \nz\n\" style=\"fill:#4c72b0;fill-opacity:0.75;stroke:#ffffff;stroke-linejoin:miter;\"/>\n   </g>\n   <g id=\"patch_5\">\n    <path clip-path=\"url(#pbac5530359)\" d=\"M 95.589172 333.36 \nL 110.082679 333.36 \nL 110.082679 22.731429 \nL 95.589172 22.731429 \nz\n\" style=\"fill:#4c72b0;fill-opacity:0.75;stroke:#ffffff;stroke-linejoin:miter;\"/>\n   </g>\n   <g id=\"patch_6\">\n    <path clip-path=\"url(#pbac5530359)\" d=\"M 110.082679 333.36 \nL 124.576185 333.36 \nL 124.576185 333.36 \nL 110.082679 333.36 \nz\n\" style=\"fill:#4c72b0;fill-opacity:0.75;stroke:#ffffff;stroke-linejoin:miter;\"/>\n   </g>\n   <g id=\"patch_7\">\n    <path clip-path=\"url(#pbac5530359)\" d=\"M 124.576185 333.36 \nL 139.069692 333.36 \nL 139.069692 45.322597 \nL 124.576185 45.322597 \nz\n\" style=\"fill:#4c72b0;fill-opacity:0.75;stroke:#ffffff;stroke-linejoin:miter;\"/>\n   </g>\n   <g id=\"patch_8\">\n    <path clip-path=\"url(#pbac5530359)\" d=\"M 139.069692 333.36 \nL 153.563198 333.36 \nL 153.563198 169.574026 \nL 139.069692 169.574026 \nz\n\" style=\"fill:#4c72b0;fill-opacity:0.75;stroke:#ffffff;stroke-linejoin:miter;\"/>\n   </g>\n   <g id=\"patch_9\">\n    <path clip-path=\"url(#pbac5530359)\" d=\"M 153.563198 333.36 \nL 168.056705 333.36 \nL 168.056705 333.36 \nL 153.563198 333.36 \nz\n\" style=\"fill:#4c72b0;fill-opacity:0.75;stroke:#ffffff;stroke-linejoin:miter;\"/>\n   </g>\n   <g id=\"patch_10\">\n    <path clip-path=\"url(#pbac5530359)\" d=\"M 168.056705 333.36 \nL 182.550211 333.36 \nL 182.550211 237.347532 \nL 168.056705 237.347532 \nz\n\" style=\"fill:#4c72b0;fill-opacity:0.75;stroke:#ffffff;stroke-linejoin:miter;\"/>\n   </g>\n   <g id=\"patch_11\">\n    <path clip-path=\"url(#pbac5530359)\" d=\"M 182.550211 333.36 \nL 197.043718 333.36 \nL 197.043718 293.825455 \nL 182.550211 293.825455 \nz\n\" style=\"fill:#4c72b0;fill-opacity:0.75;stroke:#ffffff;stroke-linejoin:miter;\"/>\n   </g>\n   <g id=\"patch_12\">\n    <path clip-path=\"url(#pbac5530359)\" d=\"M 197.043718 333.36 \nL 211.537224 333.36 \nL 211.537224 333.36 \nL 197.043718 333.36 \nz\n\" style=\"fill:#4c72b0;fill-opacity:0.75;stroke:#ffffff;stroke-linejoin:miter;\"/>\n   </g>\n   <g id=\"patch_13\">\n    <path clip-path=\"url(#pbac5530359)\" d=\"M 211.537224 333.36 \nL 226.030731 333.36 \nL 226.030731 322.064416 \nL 211.537224 322.064416 \nz\n\" style=\"fill:#4c72b0;fill-opacity:0.75;stroke:#ffffff;stroke-linejoin:miter;\"/>\n   </g>\n   <g id=\"patch_14\">\n    <path clip-path=\"url(#pbac5530359)\" d=\"M 226.030731 333.36 \nL 240.524237 333.36 \nL 240.524237 327.712208 \nL 226.030731 327.712208 \nz\n\" style=\"fill:#4c72b0;fill-opacity:0.75;stroke:#ffffff;stroke-linejoin:miter;\"/>\n   </g>\n   <g id=\"patch_15\">\n    <path clip-path=\"url(#pbac5530359)\" d=\"M 240.524237 333.36 \nL 255.017744 333.36 \nL 255.017744 333.36 \nL 240.524237 333.36 \nz\n\" style=\"fill:#4c72b0;fill-opacity:0.75;stroke:#ffffff;stroke-linejoin:miter;\"/>\n   </g>\n   <g id=\"patch_16\">\n    <path clip-path=\"url(#pbac5530359)\" d=\"M 255.017744 333.36 \nL 269.51125 333.36 \nL 269.51125 322.064416 \nL 255.017744 322.064416 \nz\n\" style=\"fill:#4c72b0;fill-opacity:0.75;stroke:#ffffff;stroke-linejoin:miter;\"/>\n   </g>\n   <g id=\"patch_17\">\n    <path clip-path=\"url(#pbac5530359)\" d=\"M 269.51125 333.36 \nL 284.004756 333.36 \nL 284.004756 327.712208 \nL 269.51125 327.712208 \nz\n\" style=\"fill:#4c72b0;fill-opacity:0.75;stroke:#ffffff;stroke-linejoin:miter;\"/>\n   </g>\n   <g id=\"patch_18\">\n    <path clip-path=\"url(#pbac5530359)\" d=\"M 284.004756 333.36 \nL 298.498263 333.36 \nL 298.498263 333.36 \nL 284.004756 333.36 \nz\n\" style=\"fill:#4c72b0;fill-opacity:0.75;stroke:#ffffff;stroke-linejoin:miter;\"/>\n   </g>\n   <g id=\"patch_19\">\n    <path clip-path=\"url(#pbac5530359)\" d=\"M 298.498263 333.36 \nL 312.991769 333.36 \nL 312.991769 333.36 \nL 298.498263 333.36 \nz\n\" style=\"fill:#4c72b0;fill-opacity:0.75;stroke:#ffffff;stroke-linejoin:miter;\"/>\n   </g>\n   <g id=\"patch_20\">\n    <path clip-path=\"url(#pbac5530359)\" d=\"M 312.991769 333.36 \nL 327.485276 333.36 \nL 327.485276 333.36 \nL 312.991769 333.36 \nz\n\" style=\"fill:#4c72b0;fill-opacity:0.75;stroke:#ffffff;stroke-linejoin:miter;\"/>\n   </g>\n   <g id=\"patch_21\">\n    <path clip-path=\"url(#pbac5530359)\" d=\"M 327.485276 333.36 \nL 341.978782 333.36 \nL 341.978782 333.36 \nL 327.485276 333.36 \nz\n\" style=\"fill:#4c72b0;fill-opacity:0.75;stroke:#ffffff;stroke-linejoin:miter;\"/>\n   </g>\n   <g id=\"patch_22\">\n    <path clip-path=\"url(#pbac5530359)\" d=\"M 341.978782 333.36 \nL 356.472289 333.36 \nL 356.472289 333.36 \nL 341.978782 333.36 \nz\n\" style=\"fill:#4c72b0;fill-opacity:0.75;stroke:#ffffff;stroke-linejoin:miter;\"/>\n   </g>\n   <g id=\"patch_23\">\n    <path clip-path=\"url(#pbac5530359)\" d=\"M 356.472289 333.36 \nL 370.965795 333.36 \nL 370.965795 327.712208 \nL 356.472289 327.712208 \nz\n\" style=\"fill:#4c72b0;fill-opacity:0.75;stroke:#ffffff;stroke-linejoin:miter;\"/>\n   </g>\n   <g id=\"patch_24\">\n    <path clip-path=\"url(#pbac5530359)\" d=\"M 370.965795 333.36 \nL 385.459302 333.36 \nL 385.459302 333.36 \nL 370.965795 333.36 \nz\n\" style=\"fill:#4c72b0;fill-opacity:0.75;stroke:#ffffff;stroke-linejoin:miter;\"/>\n   </g>\n   <g id=\"patch_25\">\n    <path clip-path=\"url(#pbac5530359)\" d=\"M 385.459302 333.36 \nL 399.952808 333.36 \nL 399.952808 333.36 \nL 385.459302 333.36 \nz\n\" style=\"fill:#4c72b0;fill-opacity:0.75;stroke:#ffffff;stroke-linejoin:miter;\"/>\n   </g>\n   <g id=\"patch_26\">\n    <path clip-path=\"url(#pbac5530359)\" d=\"M 399.952808 333.36 \nL 414.446315 333.36 \nL 414.446315 333.36 \nL 399.952808 333.36 \nz\n\" style=\"fill:#4c72b0;fill-opacity:0.75;stroke:#ffffff;stroke-linejoin:miter;\"/>\n   </g>\n   <g id=\"patch_27\">\n    <path clip-path=\"url(#pbac5530359)\" d=\"M 414.446315 333.36 \nL 428.939821 333.36 \nL 428.939821 333.36 \nL 414.446315 333.36 \nz\n\" style=\"fill:#4c72b0;fill-opacity:0.75;stroke:#ffffff;stroke-linejoin:miter;\"/>\n   </g>\n   <g id=\"patch_28\">\n    <path clip-path=\"url(#pbac5530359)\" d=\"M 428.939821 333.36 \nL 443.433328 333.36 \nL 443.433328 333.36 \nL 428.939821 333.36 \nz\n\" style=\"fill:#4c72b0;fill-opacity:0.75;stroke:#ffffff;stroke-linejoin:miter;\"/>\n   </g>\n   <g id=\"patch_29\">\n    <path clip-path=\"url(#pbac5530359)\" d=\"M 443.433328 333.36 \nL 457.926834 333.36 \nL 457.926834 333.36 \nL 443.433328 333.36 \nz\n\" style=\"fill:#4c72b0;fill-opacity:0.75;stroke:#ffffff;stroke-linejoin:miter;\"/>\n   </g>\n   <g id=\"patch_30\">\n    <path clip-path=\"url(#pbac5530359)\" d=\"M 457.926834 333.36 \nL 472.420341 333.36 \nL 472.420341 327.712208 \nL 457.926834 327.712208 \nz\n\" style=\"fill:#4c72b0;fill-opacity:0.75;stroke:#ffffff;stroke-linejoin:miter;\"/>\n   </g>\n   <g id=\"patch_31\">\n    <path d=\"M 46.31125 333.36 \nL 46.31125 7.2 \n\" style=\"fill:none;stroke:#ffffff;stroke-linecap:square;stroke-linejoin:miter;stroke-width:1.25;\"/>\n   </g>\n   <g id=\"patch_32\">\n    <path d=\"M 492.71125 333.36 \nL 492.71125 7.2 \n\" style=\"fill:none;stroke:#ffffff;stroke-linecap:square;stroke-linejoin:miter;stroke-width:1.25;\"/>\n   </g>\n   <g id=\"patch_33\">\n    <path d=\"M 46.31125 333.36 \nL 492.71125 333.36 \n\" style=\"fill:none;stroke:#ffffff;stroke-linecap:square;stroke-linejoin:miter;stroke-width:1.25;\"/>\n   </g>\n   <g id=\"patch_34\">\n    <path d=\"M 46.31125 7.2 \nL 492.71125 7.2 \n\" style=\"fill:none;stroke:#ffffff;stroke-linecap:square;stroke-linejoin:miter;stroke-width:1.25;\"/>\n   </g>\n  </g>\n </g>\n <defs>\n  <clipPath id=\"pbac5530359\">\n   <rect height=\"326.16\" width=\"446.4\" x=\"46.31125\" y=\"7.2\"/>\n  </clipPath>\n </defs>\n</svg>\n"
          },
          "metadata": {
            "tags": [],
            "needs_background": "light"
          }
        }
      ]
    }
  ]
}