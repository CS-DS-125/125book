{
  "nbformat": 4,
  "nbformat_minor": 0,
  "metadata": {
    "kernelspec": {
      "display_name": "Python 3",
      "language": "python",
      "name": "python3"
    },
    "language_info": {
      "codemirror_mode": {
        "name": "ipython",
        "version": 3
      },
      "file_extension": ".py",
      "mimetype": "text/x-python",
      "name": "python",
      "nbconvert_exporter": "python",
      "pygments_lexer": "ipython3",
      "version": "3.6.8"
    },
    "colab": {
      "name": "06.2.1.0 Dataframes - Introduction.ipynb",
      "provenance": [],
      "collapsed_sections": [],
      "toc_visible": true
    }
  },
  "cells": [
    {
      "cell_type": "markdown",
      "metadata": {
        "id": "D0Qck8cX6c0i"
      },
      "source": [
        "# Dataframes: Introduction\n",
        "\n",
        "Author: Brad E. Sheese\n",
        "\n",
        "---\n",
        "\n",
        "\n"
      ]
    },
    {
      "cell_type": "markdown",
      "metadata": {
        "id": "rDKb69fpxQkM"
      },
      "source": [
        "## Introduction\n",
        "\n",
        "A Dataframe is a Pandas object for organizing data that acts much like a spreadsheet. You can think of as a spreadsheet. It is two dimesional in that it has both rows and columns. A Series is a single column of data with an index that identifies rows. A Dataframe is as a collection of Series, that you can think of as columns, that all share the same index.\n",
        "\n",
        "The shared index is going to allow us to examine, organize, manipulate lots of data very efficiently, but it's going to take some practice to get used to the idea of a Dataframe and what you can do with it.\n",
        "The good news is that if you've completed the previous section on Series, you'll find most of what we are going to with Dataframes to be similar, if not identical. \n",
        "\n",
        "We will explore just few things you can do with Dataframes in this course. If you want to see what else is available, [the Pandas documentation covers the wide variety of methods available](https://pandas.pydata.org/pandas-docs/stable/reference/frame.html). \n"
      ]
    },
    {
      "cell_type": "markdown",
      "metadata": {
        "id": "nttwIS8K8XcL"
      },
      "source": [
        "## 6.2.1.1 Creating and Copying Dataframes"
      ]
    },
    {
      "cell_type": "code",
      "metadata": {
        "id": "Co0EfZQVyza3"
      },
      "source": [
        "# make sure you always do the import that makes pandas available\n",
        "import pandas as pd"
      ],
      "execution_count": 1,
      "outputs": []
    },
    {
      "cell_type": "markdown",
      "metadata": {
        "id": "Xd40gseKn3Jd"
      },
      "source": [
        "### Creating Dataframes\n",
        "\n",
        "To create a new Dataframe, we can use the `pd.DataFrame` method. Empty Dataframes can be constructed by using the `.DataFrame()` method without any arguments. Note that the 'D' and the 'F' in `.DataFrame()` are capitalized.  \n"
      ]
    },
    {
      "cell_type": "code",
      "metadata": {
        "id": "1u_Sok84Bb86",
        "colab": {
          "base_uri": "https://localhost:8080/"
        },
        "outputId": "4e204fc1-e28e-4b7c-8939-392b5564d502"
      },
      "source": [
        "# constructing an empty Dataframe\n",
        "my_df = pd.DataFrame()\n",
        "type(my_df) # checking the datatype of the result"
      ],
      "execution_count": 2,
      "outputs": [
        {
          "output_type": "execute_result",
          "data": {
            "text/plain": [
              "pandas.core.frame.DataFrame"
            ]
          },
          "metadata": {
            "tags": []
          },
          "execution_count": 2
        }
      ]
    },
    {
      "cell_type": "markdown",
      "metadata": {
        "id": "QkAHxqic5sT7"
      },
      "source": [
        "### Creating a Dataframe from a CSV\n",
        "\n",
        "We usually won't start with an empty Dataframe.  Instead, we will create it by reading a .csv file. \n",
        "To do so, we use the `pd.read_csv()` method with the file name as an argument.\n",
        "\n",
        "By convention, dataframes are often assigned to the variable `df`. I'd like you to stick with this convention, if you are working with one dataframe at a time. "
      ]
    },
    {
      "cell_type": "code",
      "metadata": {
        "id": "ayv-NesT158N",
        "colab": {
          "base_uri": "https://localhost:8080/",
          "height": 197
        },
        "outputId": "43cb9df5-8dcf-4b9f-a00c-f0b868395536"
      },
      "source": [
        "# read the csv file, using the file name as a string, assign the result to df\n",
        "url  = 'https://raw.githubusercontent.com/bsheese/CSDS125ExampleData/master/data_albums_sales_wikipedia.csv'\n",
        "df = pd.read_csv(url)\n",
        "\n",
        "#check the result\n",
        "df.head()"
      ],
      "execution_count": 3,
      "outputs": [
        {
          "output_type": "execute_result",
          "data": {
            "text/html": [
              "<div>\n",
              "<style scoped>\n",
              "    .dataframe tbody tr th:only-of-type {\n",
              "        vertical-align: middle;\n",
              "    }\n",
              "\n",
              "    .dataframe tbody tr th {\n",
              "        vertical-align: top;\n",
              "    }\n",
              "\n",
              "    .dataframe thead th {\n",
              "        text-align: right;\n",
              "    }\n",
              "</style>\n",
              "<table border=\"1\" class=\"dataframe\">\n",
              "  <thead>\n",
              "    <tr style=\"text-align: right;\">\n",
              "      <th></th>\n",
              "      <th>artist</th>\n",
              "      <th>album</th>\n",
              "      <th>year</th>\n",
              "      <th>genre</th>\n",
              "      <th>cert_sales</th>\n",
              "      <th>claim_sales</th>\n",
              "    </tr>\n",
              "  </thead>\n",
              "  <tbody>\n",
              "    <tr>\n",
              "      <th>0</th>\n",
              "      <td>Michael Jackson</td>\n",
              "      <td>Thriller</td>\n",
              "      <td>1982</td>\n",
              "      <td>Pop, post-disco, funk, rock</td>\n",
              "      <td>47.3</td>\n",
              "      <td>66</td>\n",
              "    </tr>\n",
              "    <tr>\n",
              "      <th>1</th>\n",
              "      <td>AC/DC</td>\n",
              "      <td>Back in Black</td>\n",
              "      <td>1980</td>\n",
              "      <td>Hard rock</td>\n",
              "      <td>29.4</td>\n",
              "      <td>50</td>\n",
              "    </tr>\n",
              "    <tr>\n",
              "      <th>2</th>\n",
              "      <td>Meat Loaf</td>\n",
              "      <td>Bat Out of Hell</td>\n",
              "      <td>1977</td>\n",
              "      <td>Hard rock, glam rock, progressive rock</td>\n",
              "      <td>21.7</td>\n",
              "      <td>50</td>\n",
              "    </tr>\n",
              "    <tr>\n",
              "      <th>3</th>\n",
              "      <td>Pink Floyd</td>\n",
              "      <td>The Dark Side of the Moon</td>\n",
              "      <td>1973</td>\n",
              "      <td>Progressive rock</td>\n",
              "      <td>24.4</td>\n",
              "      <td>45</td>\n",
              "    </tr>\n",
              "    <tr>\n",
              "      <th>4</th>\n",
              "      <td>Whitney Houston / Various artists</td>\n",
              "      <td>The Bodyguard</td>\n",
              "      <td>1992</td>\n",
              "      <td>R&amp;B, soul, pop, soundtrack</td>\n",
              "      <td>28.4</td>\n",
              "      <td>45</td>\n",
              "    </tr>\n",
              "  </tbody>\n",
              "</table>\n",
              "</div>"
            ],
            "text/plain": [
              "                              artist  ... claim_sales\n",
              "0                    Michael Jackson  ...          66\n",
              "1                              AC/DC  ...          50\n",
              "2                          Meat Loaf  ...          50\n",
              "3                         Pink Floyd  ...          45\n",
              "4  Whitney Houston / Various artists  ...          45\n",
              "\n",
              "[5 rows x 6 columns]"
            ]
          },
          "metadata": {
            "tags": []
          },
          "execution_count": 3
        }
      ]
    },
    {
      "cell_type": "markdown",
      "metadata": {
        "id": "8n5TzvUExgfl"
      },
      "source": [
        "The Dataframe we have constructed is built out of data from the wikipedia page on [best-selling music albums](https://en.wikipedia.org/wiki/List_of_best-selling_albums). "
      ]
    },
    {
      "cell_type": "markdown",
      "metadata": {
        "id": "bZe5-YBLBYkp"
      },
      "source": [
        "### Copying Dataframes vs. Creating Views\n",
        "Making a copy of a Dataframe is exactly like making a copy of a Series. If you want to duplicate a Dataframe, you need to be careful not to accidentally make an alias that refers to the same Dataframe object instead of making an entirely new object. To explicitly make a copy of a Dataframe you can use the `.copy()` method, just as you would with a list or Series. "
      ]
    },
    {
      "cell_type": "code",
      "metadata": {
        "id": "GE955BhHB8os",
        "colab": {
          "base_uri": "https://localhost:8080/"
        },
        "outputId": "1005fd35-6b57-497b-a279-38a2bc0ec1cd"
      },
      "source": [
        "# the code below does NOT make a copy of the Dataframe, it only makes an alias\n",
        "\n",
        "df_alias = df # here we have essentially just created a second name for the same object\n",
        "\n",
        "df_alias is df # this checks to see if they are the same object"
      ],
      "execution_count": 4,
      "outputs": [
        {
          "output_type": "execute_result",
          "data": {
            "text/plain": [
              "True"
            ]
          },
          "metadata": {
            "tags": []
          },
          "execution_count": 4
        }
      ]
    },
    {
      "cell_type": "code",
      "metadata": {
        "id": "pKWElOpOCSOJ",
        "colab": {
          "base_uri": "https://localhost:8080/"
        },
        "outputId": "d53662cd-dfe6-4329-f540-f6915bcf6dfc"
      },
      "source": [
        "# the code below makes a copy of the dataframe\n",
        "\n",
        "df_copy = df.copy() # notice we've added the copy method here\n",
        "\n",
        "df_copy is df # this checks to see if they are the same object"
      ],
      "execution_count": 5,
      "outputs": [
        {
          "output_type": "execute_result",
          "data": {
            "text/plain": [
              "False"
            ]
          },
          "metadata": {
            "tags": []
          },
          "execution_count": 5
        }
      ]
    },
    {
      "cell_type": "markdown",
      "metadata": {
        "id": "dzn5v2R68Qba"
      },
      "source": [
        "## 6.2.1.2 Examining the Dataframe\n",
        "\n",
        "\n",
        "\n"
      ]
    },
    {
      "cell_type": "markdown",
      "metadata": {
        "id": "AWojZ1LhQzrv"
      },
      "source": [
        "### `.info()`\n",
        "We can use the Dataframe method, `.info()`, to get a breif summary of the Dataframe. This is a handy method that contains quite a bit of information that will eventually come in useful. For now, just pay attention to the number of entries which indicates the number of rows in the dataframe and the specific column names. "
      ]
    },
    {
      "cell_type": "code",
      "metadata": {
        "id": "xV6wHitNQq3a",
        "colab": {
          "base_uri": "https://localhost:8080/"
        },
        "outputId": "c778efa2-99e6-4470-9ab1-5ba71d751be5"
      },
      "source": [
        "# view information about the dataframe\n",
        "df.info()"
      ],
      "execution_count": 6,
      "outputs": [
        {
          "output_type": "stream",
          "text": [
            "<class 'pandas.core.frame.DataFrame'>\n",
            "RangeIndex: 33 entries, 0 to 32\n",
            "Data columns (total 6 columns):\n",
            " #   Column       Non-Null Count  Dtype  \n",
            "---  ------       --------------  -----  \n",
            " 0   artist       33 non-null     object \n",
            " 1   album        33 non-null     object \n",
            " 2   year         33 non-null     int64  \n",
            " 3   genre        33 non-null     object \n",
            " 4   cert_sales   33 non-null     float64\n",
            " 5   claim_sales  33 non-null     int64  \n",
            "dtypes: float64(1), int64(2), object(3)\n",
            "memory usage: 1.7+ KB\n"
          ],
          "name": "stdout"
        }
      ]
    },
    {
      "cell_type": "markdown",
      "metadata": {
        "id": "Nd928yXm8oMo"
      },
      "source": [
        "### `.head()` and `.tail()`\n",
        "`.head()` and `.tail()` both work with Dataframes, but now show the first and last rows of all columns in the dataframe."
      ]
    },
    {
      "cell_type": "code",
      "metadata": {
        "id": "5iNLuiMw7o7D",
        "colab": {
          "base_uri": "https://localhost:8080/",
          "height": 137
        },
        "outputId": "9d83bea8-a3ef-4f0d-f3dc-1cd71da5d3de"
      },
      "source": [
        "# view the first three rows\n",
        "df.head(3)"
      ],
      "execution_count": 7,
      "outputs": [
        {
          "output_type": "execute_result",
          "data": {
            "text/html": [
              "<div>\n",
              "<style scoped>\n",
              "    .dataframe tbody tr th:only-of-type {\n",
              "        vertical-align: middle;\n",
              "    }\n",
              "\n",
              "    .dataframe tbody tr th {\n",
              "        vertical-align: top;\n",
              "    }\n",
              "\n",
              "    .dataframe thead th {\n",
              "        text-align: right;\n",
              "    }\n",
              "</style>\n",
              "<table border=\"1\" class=\"dataframe\">\n",
              "  <thead>\n",
              "    <tr style=\"text-align: right;\">\n",
              "      <th></th>\n",
              "      <th>artist</th>\n",
              "      <th>album</th>\n",
              "      <th>year</th>\n",
              "      <th>genre</th>\n",
              "      <th>cert_sales</th>\n",
              "      <th>claim_sales</th>\n",
              "    </tr>\n",
              "  </thead>\n",
              "  <tbody>\n",
              "    <tr>\n",
              "      <th>0</th>\n",
              "      <td>Michael Jackson</td>\n",
              "      <td>Thriller</td>\n",
              "      <td>1982</td>\n",
              "      <td>Pop, post-disco, funk, rock</td>\n",
              "      <td>47.3</td>\n",
              "      <td>66</td>\n",
              "    </tr>\n",
              "    <tr>\n",
              "      <th>1</th>\n",
              "      <td>AC/DC</td>\n",
              "      <td>Back in Black</td>\n",
              "      <td>1980</td>\n",
              "      <td>Hard rock</td>\n",
              "      <td>29.4</td>\n",
              "      <td>50</td>\n",
              "    </tr>\n",
              "    <tr>\n",
              "      <th>2</th>\n",
              "      <td>Meat Loaf</td>\n",
              "      <td>Bat Out of Hell</td>\n",
              "      <td>1977</td>\n",
              "      <td>Hard rock, glam rock, progressive rock</td>\n",
              "      <td>21.7</td>\n",
              "      <td>50</td>\n",
              "    </tr>\n",
              "  </tbody>\n",
              "</table>\n",
              "</div>"
            ],
            "text/plain": [
              "            artist            album  ...  cert_sales claim_sales\n",
              "0  Michael Jackson         Thriller  ...        47.3          66\n",
              "1            AC/DC    Back in Black  ...        29.4          50\n",
              "2        Meat Loaf  Bat Out of Hell  ...        21.7          50\n",
              "\n",
              "[3 rows x 6 columns]"
            ]
          },
          "metadata": {
            "tags": []
          },
          "execution_count": 7
        }
      ]
    },
    {
      "cell_type": "code",
      "metadata": {
        "id": "i5Kuqs2R7rzj",
        "colab": {
          "base_uri": "https://localhost:8080/",
          "height": 137
        },
        "outputId": "d46cfcde-cf9c-43f3-d82d-92ea3bb57845"
      },
      "source": [
        "# view the last three rows\n",
        "df.tail(3)"
      ],
      "execution_count": 8,
      "outputs": [
        {
          "output_type": "execute_result",
          "data": {
            "text/html": [
              "<div>\n",
              "<style scoped>\n",
              "    .dataframe tbody tr th:only-of-type {\n",
              "        vertical-align: middle;\n",
              "    }\n",
              "\n",
              "    .dataframe tbody tr th {\n",
              "        vertical-align: top;\n",
              "    }\n",
              "\n",
              "    .dataframe thead th {\n",
              "        text-align: right;\n",
              "    }\n",
              "</style>\n",
              "<table border=\"1\" class=\"dataframe\">\n",
              "  <thead>\n",
              "    <tr style=\"text-align: right;\">\n",
              "      <th></th>\n",
              "      <th>artist</th>\n",
              "      <th>album</th>\n",
              "      <th>year</th>\n",
              "      <th>genre</th>\n",
              "      <th>cert_sales</th>\n",
              "      <th>claim_sales</th>\n",
              "    </tr>\n",
              "  </thead>\n",
              "  <tbody>\n",
              "    <tr>\n",
              "      <th>30</th>\n",
              "      <td>Santana</td>\n",
              "      <td>Supernatural</td>\n",
              "      <td>1999</td>\n",
              "      <td>Latin rock</td>\n",
              "      <td>20.5</td>\n",
              "      <td>30</td>\n",
              "    </tr>\n",
              "    <tr>\n",
              "      <th>31</th>\n",
              "      <td>Guns N' Roses</td>\n",
              "      <td>Appetite for Destruction</td>\n",
              "      <td>1987</td>\n",
              "      <td>Hard rock</td>\n",
              "      <td>21.9</td>\n",
              "      <td>30</td>\n",
              "    </tr>\n",
              "    <tr>\n",
              "      <th>32</th>\n",
              "      <td>Elton John</td>\n",
              "      <td>Goodbye Yellow Brick Road</td>\n",
              "      <td>1973</td>\n",
              "      <td>rock, pop rock glam rock</td>\n",
              "      <td>8.5</td>\n",
              "      <td>30</td>\n",
              "    </tr>\n",
              "  </tbody>\n",
              "</table>\n",
              "</div>"
            ],
            "text/plain": [
              "           artist                      album  ...  cert_sales claim_sales\n",
              "30        Santana               Supernatural  ...        20.5          30\n",
              "31  Guns N' Roses   Appetite for Destruction  ...        21.9          30\n",
              "32     Elton John  Goodbye Yellow Brick Road  ...         8.5          30\n",
              "\n",
              "[3 rows x 6 columns]"
            ]
          },
          "metadata": {
            "tags": []
          },
          "execution_count": 8
        }
      ]
    },
    {
      "cell_type": "markdown",
      "metadata": {
        "id": "Hz44XtCE9FRy"
      },
      "source": [
        "### Examining index and column attributes\n",
        "As with a Series, we can examine the index of a Dataframe using dot notation. In this case, no data was specified as an index, so the index is a range object that produces integers for each row."
      ]
    },
    {
      "cell_type": "code",
      "metadata": {
        "id": "DJpq3UcW9Uzq",
        "colab": {
          "base_uri": "https://localhost:8080/"
        },
        "outputId": "c48cdc3f-75f9-4283-88e3-4e4a18d2f79a"
      },
      "source": [
        "# view the Dataframe's index\n",
        "df.index"
      ],
      "execution_count": 9,
      "outputs": [
        {
          "output_type": "execute_result",
          "data": {
            "text/plain": [
              "RangeIndex(start=0, stop=33, step=1)"
            ]
          },
          "metadata": {
            "tags": []
          },
          "execution_count": 9
        }
      ]
    },
    {
      "cell_type": "markdown",
      "metadata": {
        "id": "KvkECkBO9tBq"
      },
      "source": [
        "The columns of a Dataframe can also be examined using dot notation to access the column attribute."
      ]
    },
    {
      "cell_type": "code",
      "metadata": {
        "id": "yILFMmvZ9ckR",
        "colab": {
          "base_uri": "https://localhost:8080/"
        },
        "outputId": "a6f473d4-af27-4b81-ffa6-4370c3b58d0f"
      },
      "source": [
        "# view the Dataframe's columns\n",
        "df.columns"
      ],
      "execution_count": 10,
      "outputs": [
        {
          "output_type": "execute_result",
          "data": {
            "text/plain": [
              "Index(['artist', 'album', 'year', 'genre', 'cert_sales', 'claim_sales'], dtype='object')"
            ]
          },
          "metadata": {
            "tags": []
          },
          "execution_count": 10
        }
      ]
    },
    {
      "cell_type": "markdown",
      "metadata": {
        "id": "ETHRLJq6y6NJ"
      },
      "source": [
        "### Views into the Dataframe\n",
        "As with Series, we can modify how we look at a Dataframe without altering it, by creating a 'view'.\n",
        "As Dataframes can sometimes get very large (think millions of rows) we will sometimes want to avoid making a copy of the dataframe if we don't need to do so. \n",
        "\n",
        "We will work on this issue more in subsequent readings. For now, just try to pay attention to the difference between creating a modified view into the Dataframe versus actually updating (changing) the Dataframe."
      ]
    },
    {
      "cell_type": "markdown",
      "metadata": {
        "id": "0NmIfTpTlKL5"
      },
      "source": [
        "## 6.2.1.3 Working with the Index and Columns"
      ]
    },
    {
      "cell_type": "markdown",
      "metadata": {
        "id": "3IGUa7TlEcnt"
      },
      "source": [
        "### Setting and Resetting the Index\n",
        "We can set any series in the Dataframe to be the index of the Dataframe using `.set_index()`. If your analysis revolves around one series in particular, then using it as the index will make some operations a bit easier. If you have a really large amount of data to analyze, then both setting your index and sorting by it will speed up some kinds of Dataframe operations.   "
      ]
    },
    {
      "cell_type": "code",
      "metadata": {
        "id": "X9AqkuxaFf4F",
        "colab": {
          "base_uri": "https://localhost:8080/",
          "height": 137
        },
        "outputId": "95d11378-5f68-4d1a-f0d3-d6b9504ac361"
      },
      "source": [
        "# the current index is just a range object because no index was specified\n",
        "df.head(3)"
      ],
      "execution_count": 11,
      "outputs": [
        {
          "output_type": "execute_result",
          "data": {
            "text/html": [
              "<div>\n",
              "<style scoped>\n",
              "    .dataframe tbody tr th:only-of-type {\n",
              "        vertical-align: middle;\n",
              "    }\n",
              "\n",
              "    .dataframe tbody tr th {\n",
              "        vertical-align: top;\n",
              "    }\n",
              "\n",
              "    .dataframe thead th {\n",
              "        text-align: right;\n",
              "    }\n",
              "</style>\n",
              "<table border=\"1\" class=\"dataframe\">\n",
              "  <thead>\n",
              "    <tr style=\"text-align: right;\">\n",
              "      <th></th>\n",
              "      <th>artist</th>\n",
              "      <th>album</th>\n",
              "      <th>year</th>\n",
              "      <th>genre</th>\n",
              "      <th>cert_sales</th>\n",
              "      <th>claim_sales</th>\n",
              "    </tr>\n",
              "  </thead>\n",
              "  <tbody>\n",
              "    <tr>\n",
              "      <th>0</th>\n",
              "      <td>Michael Jackson</td>\n",
              "      <td>Thriller</td>\n",
              "      <td>1982</td>\n",
              "      <td>Pop, post-disco, funk, rock</td>\n",
              "      <td>47.3</td>\n",
              "      <td>66</td>\n",
              "    </tr>\n",
              "    <tr>\n",
              "      <th>1</th>\n",
              "      <td>AC/DC</td>\n",
              "      <td>Back in Black</td>\n",
              "      <td>1980</td>\n",
              "      <td>Hard rock</td>\n",
              "      <td>29.4</td>\n",
              "      <td>50</td>\n",
              "    </tr>\n",
              "    <tr>\n",
              "      <th>2</th>\n",
              "      <td>Meat Loaf</td>\n",
              "      <td>Bat Out of Hell</td>\n",
              "      <td>1977</td>\n",
              "      <td>Hard rock, glam rock, progressive rock</td>\n",
              "      <td>21.7</td>\n",
              "      <td>50</td>\n",
              "    </tr>\n",
              "  </tbody>\n",
              "</table>\n",
              "</div>"
            ],
            "text/plain": [
              "            artist            album  ...  cert_sales claim_sales\n",
              "0  Michael Jackson         Thriller  ...        47.3          66\n",
              "1            AC/DC    Back in Black  ...        29.4          50\n",
              "2        Meat Loaf  Bat Out of Hell  ...        21.7          50\n",
              "\n",
              "[3 rows x 6 columns]"
            ]
          },
          "metadata": {
            "tags": []
          },
          "execution_count": 11
        }
      ]
    },
    {
      "cell_type": "code",
      "metadata": {
        "id": "DBKsZblZFSrf",
        "colab": {
          "base_uri": "https://localhost:8080/",
          "height": 167
        },
        "outputId": "07cfa5fc-ef25-4cf5-d105-b7f83afebc6f"
      },
      "source": [
        "# uses the label of the artist series to set the index\n",
        "df = df.set_index('artist')\n",
        "\n",
        "# the artist series now serves as the shared index for the Dataframe\n",
        "df.head(3)"
      ],
      "execution_count": 12,
      "outputs": [
        {
          "output_type": "execute_result",
          "data": {
            "text/html": [
              "<div>\n",
              "<style scoped>\n",
              "    .dataframe tbody tr th:only-of-type {\n",
              "        vertical-align: middle;\n",
              "    }\n",
              "\n",
              "    .dataframe tbody tr th {\n",
              "        vertical-align: top;\n",
              "    }\n",
              "\n",
              "    .dataframe thead th {\n",
              "        text-align: right;\n",
              "    }\n",
              "</style>\n",
              "<table border=\"1\" class=\"dataframe\">\n",
              "  <thead>\n",
              "    <tr style=\"text-align: right;\">\n",
              "      <th></th>\n",
              "      <th>album</th>\n",
              "      <th>year</th>\n",
              "      <th>genre</th>\n",
              "      <th>cert_sales</th>\n",
              "      <th>claim_sales</th>\n",
              "    </tr>\n",
              "    <tr>\n",
              "      <th>artist</th>\n",
              "      <th></th>\n",
              "      <th></th>\n",
              "      <th></th>\n",
              "      <th></th>\n",
              "      <th></th>\n",
              "    </tr>\n",
              "  </thead>\n",
              "  <tbody>\n",
              "    <tr>\n",
              "      <th>Michael Jackson</th>\n",
              "      <td>Thriller</td>\n",
              "      <td>1982</td>\n",
              "      <td>Pop, post-disco, funk, rock</td>\n",
              "      <td>47.3</td>\n",
              "      <td>66</td>\n",
              "    </tr>\n",
              "    <tr>\n",
              "      <th>AC/DC</th>\n",
              "      <td>Back in Black</td>\n",
              "      <td>1980</td>\n",
              "      <td>Hard rock</td>\n",
              "      <td>29.4</td>\n",
              "      <td>50</td>\n",
              "    </tr>\n",
              "    <tr>\n",
              "      <th>Meat Loaf</th>\n",
              "      <td>Bat Out of Hell</td>\n",
              "      <td>1977</td>\n",
              "      <td>Hard rock, glam rock, progressive rock</td>\n",
              "      <td>21.7</td>\n",
              "      <td>50</td>\n",
              "    </tr>\n",
              "  </tbody>\n",
              "</table>\n",
              "</div>"
            ],
            "text/plain": [
              "                           album  year  ... cert_sales  claim_sales\n",
              "artist                                  ...                        \n",
              "Michael Jackson         Thriller  1982  ...       47.3           66\n",
              "AC/DC              Back in Black  1980  ...       29.4           50\n",
              "Meat Loaf        Bat Out of Hell  1977  ...       21.7           50\n",
              "\n",
              "[3 rows x 5 columns]"
            ]
          },
          "metadata": {
            "tags": []
          },
          "execution_count": 12
        }
      ]
    },
    {
      "cell_type": "markdown",
      "metadata": {
        "id": "StuhNhDDIp9E"
      },
      "source": [
        "If we want to move a series back out of the index, we can do so by using `reset_index()`."
      ]
    },
    {
      "cell_type": "code",
      "metadata": {
        "id": "nVcjf5hgInSD",
        "colab": {
          "base_uri": "https://localhost:8080/",
          "height": 137
        },
        "outputId": "705537fc-d751-4777-a54f-23d8c13af5f5"
      },
      "source": [
        "# moves whatever series is in the index back out into the regular columns\n",
        "df = df.reset_index()\n",
        "\n",
        "# with no specified index, the range object has been applied as the index\n",
        "df.head(3)"
      ],
      "execution_count": 13,
      "outputs": [
        {
          "output_type": "execute_result",
          "data": {
            "text/html": [
              "<div>\n",
              "<style scoped>\n",
              "    .dataframe tbody tr th:only-of-type {\n",
              "        vertical-align: middle;\n",
              "    }\n",
              "\n",
              "    .dataframe tbody tr th {\n",
              "        vertical-align: top;\n",
              "    }\n",
              "\n",
              "    .dataframe thead th {\n",
              "        text-align: right;\n",
              "    }\n",
              "</style>\n",
              "<table border=\"1\" class=\"dataframe\">\n",
              "  <thead>\n",
              "    <tr style=\"text-align: right;\">\n",
              "      <th></th>\n",
              "      <th>artist</th>\n",
              "      <th>album</th>\n",
              "      <th>year</th>\n",
              "      <th>genre</th>\n",
              "      <th>cert_sales</th>\n",
              "      <th>claim_sales</th>\n",
              "    </tr>\n",
              "  </thead>\n",
              "  <tbody>\n",
              "    <tr>\n",
              "      <th>0</th>\n",
              "      <td>Michael Jackson</td>\n",
              "      <td>Thriller</td>\n",
              "      <td>1982</td>\n",
              "      <td>Pop, post-disco, funk, rock</td>\n",
              "      <td>47.3</td>\n",
              "      <td>66</td>\n",
              "    </tr>\n",
              "    <tr>\n",
              "      <th>1</th>\n",
              "      <td>AC/DC</td>\n",
              "      <td>Back in Black</td>\n",
              "      <td>1980</td>\n",
              "      <td>Hard rock</td>\n",
              "      <td>29.4</td>\n",
              "      <td>50</td>\n",
              "    </tr>\n",
              "    <tr>\n",
              "      <th>2</th>\n",
              "      <td>Meat Loaf</td>\n",
              "      <td>Bat Out of Hell</td>\n",
              "      <td>1977</td>\n",
              "      <td>Hard rock, glam rock, progressive rock</td>\n",
              "      <td>21.7</td>\n",
              "      <td>50</td>\n",
              "    </tr>\n",
              "  </tbody>\n",
              "</table>\n",
              "</div>"
            ],
            "text/plain": [
              "            artist            album  ...  cert_sales claim_sales\n",
              "0  Michael Jackson         Thriller  ...        47.3          66\n",
              "1            AC/DC    Back in Black  ...        29.4          50\n",
              "2        Meat Loaf  Bat Out of Hell  ...        21.7          50\n",
              "\n",
              "[3 rows x 6 columns]"
            ]
          },
          "metadata": {
            "tags": []
          },
          "execution_count": 13
        }
      ]
    },
    {
      "cell_type": "code",
      "metadata": {
        "id": "mBVESpudGtyU",
        "colab": {
          "base_uri": "https://localhost:8080/",
          "height": 227
        },
        "outputId": "0faba66f-2fe2-4f16-a44c-2ceb126cc4d0"
      },
      "source": [
        "# setting year as the index\n",
        "df = df.set_index('year')\n",
        "\n",
        "# sort by index (year)\n",
        "df = df.sort_index()\n",
        "\n",
        "#check the result\n",
        "df.head()"
      ],
      "execution_count": 14,
      "outputs": [
        {
          "output_type": "execute_result",
          "data": {
            "text/html": [
              "<div>\n",
              "<style scoped>\n",
              "    .dataframe tbody tr th:only-of-type {\n",
              "        vertical-align: middle;\n",
              "    }\n",
              "\n",
              "    .dataframe tbody tr th {\n",
              "        vertical-align: top;\n",
              "    }\n",
              "\n",
              "    .dataframe thead th {\n",
              "        text-align: right;\n",
              "    }\n",
              "</style>\n",
              "<table border=\"1\" class=\"dataframe\">\n",
              "  <thead>\n",
              "    <tr style=\"text-align: right;\">\n",
              "      <th></th>\n",
              "      <th>artist</th>\n",
              "      <th>album</th>\n",
              "      <th>genre</th>\n",
              "      <th>cert_sales</th>\n",
              "      <th>claim_sales</th>\n",
              "    </tr>\n",
              "    <tr>\n",
              "      <th>year</th>\n",
              "      <th></th>\n",
              "      <th></th>\n",
              "      <th></th>\n",
              "      <th></th>\n",
              "      <th></th>\n",
              "    </tr>\n",
              "  </thead>\n",
              "  <tbody>\n",
              "    <tr>\n",
              "      <th>1967</th>\n",
              "      <td>The Beatles</td>\n",
              "      <td>Sgt. Pepper's Lonely Hearts Club Band</td>\n",
              "      <td>Rock</td>\n",
              "      <td>18.2</td>\n",
              "      <td>32</td>\n",
              "    </tr>\n",
              "    <tr>\n",
              "      <th>1969</th>\n",
              "      <td>The Beatles</td>\n",
              "      <td>Abbey Road</td>\n",
              "      <td>Rock</td>\n",
              "      <td>14.4</td>\n",
              "      <td>30</td>\n",
              "    </tr>\n",
              "    <tr>\n",
              "      <th>1971</th>\n",
              "      <td>Led Zeppelin</td>\n",
              "      <td>Led Zeppelin IV</td>\n",
              "      <td>Hard rock, heavy metal, folk rock</td>\n",
              "      <td>29.0</td>\n",
              "      <td>37</td>\n",
              "    </tr>\n",
              "    <tr>\n",
              "      <th>1973</th>\n",
              "      <td>Elton John</td>\n",
              "      <td>Goodbye Yellow Brick Road</td>\n",
              "      <td>rock, pop rock glam rock</td>\n",
              "      <td>8.5</td>\n",
              "      <td>30</td>\n",
              "    </tr>\n",
              "    <tr>\n",
              "      <th>1973</th>\n",
              "      <td>Pink Floyd</td>\n",
              "      <td>The Dark Side of the Moon</td>\n",
              "      <td>Progressive rock</td>\n",
              "      <td>24.4</td>\n",
              "      <td>45</td>\n",
              "    </tr>\n",
              "  </tbody>\n",
              "</table>\n",
              "</div>"
            ],
            "text/plain": [
              "            artist  ... claim_sales\n",
              "year                ...            \n",
              "1967   The Beatles  ...          32\n",
              "1969   The Beatles  ...          30\n",
              "1971  Led Zeppelin  ...          37\n",
              "1973    Elton John  ...          30\n",
              "1973    Pink Floyd  ...          45\n",
              "\n",
              "[5 rows x 5 columns]"
            ]
          },
          "metadata": {
            "tags": []
          },
          "execution_count": 14
        }
      ]
    },
    {
      "cell_type": "markdown",
      "metadata": {
        "id": "UUASZsUilbrE"
      },
      "source": [
        "### Updating Index Labels and Columns Label"
      ]
    },
    {
      "cell_type": "markdown",
      "metadata": {
        "id": "WXVwOkEp35SI"
      },
      "source": [
        "Just like a Series, the Dataframe index object and the Dataframe column object are not mutable. However, we can modify either a list or a series and assign it to the index or columns. Note: The list or series you are using to replace the index of columns must be the same length as the index or columns in the existing dataframe. "
      ]
    },
    {
      "cell_type": "code",
      "metadata": {
        "id": "NN_nLF-rlesT",
        "colab": {
          "base_uri": "https://localhost:8080/",
          "height": 227
        },
        "outputId": "b00c88a4-adc7-45e1-9567-4559ae711b3d"
      },
      "source": [
        "# an example of updating the index labels\n",
        "\n",
        "# copy the index into a list\n",
        "year_list = df.index.to_list()\n",
        "\n",
        "# create a list of decades from year_list\n",
        "decade_list = []\n",
        "for year in year_list:\n",
        "  decade_list.append((year // 10) * 10)\n",
        "\n",
        "# convert the list into a series, and set the series name\n",
        "decade_series = pd.Series(data=decade_list, name='decade')\n",
        "\n",
        "# kick year out of the index, so we don't overwrite it\n",
        "df = df.reset_index()\n",
        "\n",
        "# assign decade_series to the index\n",
        "df.index = decade_series\n",
        "\n",
        "# check the result\n",
        "df.head()\n"
      ],
      "execution_count": 15,
      "outputs": [
        {
          "output_type": "execute_result",
          "data": {
            "text/html": [
              "<div>\n",
              "<style scoped>\n",
              "    .dataframe tbody tr th:only-of-type {\n",
              "        vertical-align: middle;\n",
              "    }\n",
              "\n",
              "    .dataframe tbody tr th {\n",
              "        vertical-align: top;\n",
              "    }\n",
              "\n",
              "    .dataframe thead th {\n",
              "        text-align: right;\n",
              "    }\n",
              "</style>\n",
              "<table border=\"1\" class=\"dataframe\">\n",
              "  <thead>\n",
              "    <tr style=\"text-align: right;\">\n",
              "      <th></th>\n",
              "      <th>year</th>\n",
              "      <th>artist</th>\n",
              "      <th>album</th>\n",
              "      <th>genre</th>\n",
              "      <th>cert_sales</th>\n",
              "      <th>claim_sales</th>\n",
              "    </tr>\n",
              "    <tr>\n",
              "      <th>decade</th>\n",
              "      <th></th>\n",
              "      <th></th>\n",
              "      <th></th>\n",
              "      <th></th>\n",
              "      <th></th>\n",
              "      <th></th>\n",
              "    </tr>\n",
              "  </thead>\n",
              "  <tbody>\n",
              "    <tr>\n",
              "      <th>1960</th>\n",
              "      <td>1967</td>\n",
              "      <td>The Beatles</td>\n",
              "      <td>Sgt. Pepper's Lonely Hearts Club Band</td>\n",
              "      <td>Rock</td>\n",
              "      <td>18.2</td>\n",
              "      <td>32</td>\n",
              "    </tr>\n",
              "    <tr>\n",
              "      <th>1960</th>\n",
              "      <td>1969</td>\n",
              "      <td>The Beatles</td>\n",
              "      <td>Abbey Road</td>\n",
              "      <td>Rock</td>\n",
              "      <td>14.4</td>\n",
              "      <td>30</td>\n",
              "    </tr>\n",
              "    <tr>\n",
              "      <th>1970</th>\n",
              "      <td>1971</td>\n",
              "      <td>Led Zeppelin</td>\n",
              "      <td>Led Zeppelin IV</td>\n",
              "      <td>Hard rock, heavy metal, folk rock</td>\n",
              "      <td>29.0</td>\n",
              "      <td>37</td>\n",
              "    </tr>\n",
              "    <tr>\n",
              "      <th>1970</th>\n",
              "      <td>1973</td>\n",
              "      <td>Elton John</td>\n",
              "      <td>Goodbye Yellow Brick Road</td>\n",
              "      <td>rock, pop rock glam rock</td>\n",
              "      <td>8.5</td>\n",
              "      <td>30</td>\n",
              "    </tr>\n",
              "    <tr>\n",
              "      <th>1970</th>\n",
              "      <td>1973</td>\n",
              "      <td>Pink Floyd</td>\n",
              "      <td>The Dark Side of the Moon</td>\n",
              "      <td>Progressive rock</td>\n",
              "      <td>24.4</td>\n",
              "      <td>45</td>\n",
              "    </tr>\n",
              "  </tbody>\n",
              "</table>\n",
              "</div>"
            ],
            "text/plain": [
              "        year        artist  ... cert_sales claim_sales\n",
              "decade                      ...                       \n",
              "1960    1967   The Beatles  ...       18.2          32\n",
              "1960    1969   The Beatles  ...       14.4          30\n",
              "1970    1971  Led Zeppelin  ...       29.0          37\n",
              "1970    1973    Elton John  ...        8.5          30\n",
              "1970    1973    Pink Floyd  ...       24.4          45\n",
              "\n",
              "[5 rows x 6 columns]"
            ]
          },
          "metadata": {
            "tags": []
          },
          "execution_count": 15
        }
      ]
    },
    {
      "cell_type": "code",
      "metadata": {
        "id": "0pVAHpXs_oew",
        "colab": {
          "base_uri": "https://localhost:8080/",
          "height": 227
        },
        "outputId": "13afbf90-9451-4162-bde6-22c14e31c36a"
      },
      "source": [
        "# an example of updating the column index\n",
        "df.columns = df.columns.str.capitalize()\n",
        "\n",
        "# check the result\n",
        "df.head()"
      ],
      "execution_count": 16,
      "outputs": [
        {
          "output_type": "execute_result",
          "data": {
            "text/html": [
              "<div>\n",
              "<style scoped>\n",
              "    .dataframe tbody tr th:only-of-type {\n",
              "        vertical-align: middle;\n",
              "    }\n",
              "\n",
              "    .dataframe tbody tr th {\n",
              "        vertical-align: top;\n",
              "    }\n",
              "\n",
              "    .dataframe thead th {\n",
              "        text-align: right;\n",
              "    }\n",
              "</style>\n",
              "<table border=\"1\" class=\"dataframe\">\n",
              "  <thead>\n",
              "    <tr style=\"text-align: right;\">\n",
              "      <th></th>\n",
              "      <th>Year</th>\n",
              "      <th>Artist</th>\n",
              "      <th>Album</th>\n",
              "      <th>Genre</th>\n",
              "      <th>Cert_sales</th>\n",
              "      <th>Claim_sales</th>\n",
              "    </tr>\n",
              "    <tr>\n",
              "      <th>decade</th>\n",
              "      <th></th>\n",
              "      <th></th>\n",
              "      <th></th>\n",
              "      <th></th>\n",
              "      <th></th>\n",
              "      <th></th>\n",
              "    </tr>\n",
              "  </thead>\n",
              "  <tbody>\n",
              "    <tr>\n",
              "      <th>1960</th>\n",
              "      <td>1967</td>\n",
              "      <td>The Beatles</td>\n",
              "      <td>Sgt. Pepper's Lonely Hearts Club Band</td>\n",
              "      <td>Rock</td>\n",
              "      <td>18.2</td>\n",
              "      <td>32</td>\n",
              "    </tr>\n",
              "    <tr>\n",
              "      <th>1960</th>\n",
              "      <td>1969</td>\n",
              "      <td>The Beatles</td>\n",
              "      <td>Abbey Road</td>\n",
              "      <td>Rock</td>\n",
              "      <td>14.4</td>\n",
              "      <td>30</td>\n",
              "    </tr>\n",
              "    <tr>\n",
              "      <th>1970</th>\n",
              "      <td>1971</td>\n",
              "      <td>Led Zeppelin</td>\n",
              "      <td>Led Zeppelin IV</td>\n",
              "      <td>Hard rock, heavy metal, folk rock</td>\n",
              "      <td>29.0</td>\n",
              "      <td>37</td>\n",
              "    </tr>\n",
              "    <tr>\n",
              "      <th>1970</th>\n",
              "      <td>1973</td>\n",
              "      <td>Elton John</td>\n",
              "      <td>Goodbye Yellow Brick Road</td>\n",
              "      <td>rock, pop rock glam rock</td>\n",
              "      <td>8.5</td>\n",
              "      <td>30</td>\n",
              "    </tr>\n",
              "    <tr>\n",
              "      <th>1970</th>\n",
              "      <td>1973</td>\n",
              "      <td>Pink Floyd</td>\n",
              "      <td>The Dark Side of the Moon</td>\n",
              "      <td>Progressive rock</td>\n",
              "      <td>24.4</td>\n",
              "      <td>45</td>\n",
              "    </tr>\n",
              "  </tbody>\n",
              "</table>\n",
              "</div>"
            ],
            "text/plain": [
              "        Year        Artist  ... Cert_sales Claim_sales\n",
              "decade                      ...                       \n",
              "1960    1967   The Beatles  ...       18.2          32\n",
              "1960    1969   The Beatles  ...       14.4          30\n",
              "1970    1971  Led Zeppelin  ...       29.0          37\n",
              "1970    1973    Elton John  ...        8.5          30\n",
              "1970    1973    Pink Floyd  ...       24.4          45\n",
              "\n",
              "[5 rows x 6 columns]"
            ]
          },
          "metadata": {
            "tags": []
          },
          "execution_count": 16
        }
      ]
    },
    {
      "cell_type": "markdown",
      "metadata": {
        "id": "ian7QJMeAqiX"
      },
      "source": [
        "Because 'decade' is the name of the index, it was not capitalized when we reassigned the column names. A quick way to address this with the code we've already written, would be to reset the index to move decade into the columns before we do the column labels update."
      ]
    },
    {
      "cell_type": "markdown",
      "metadata": {
        "id": "TXLcE5vkzZd4"
      },
      "source": [
        "## 6.2.1.9 An Example\n",
        "Capitalized column labels looks nice for display, but are just one extra thing to worry about typing correctly while coding, so I'm going to put them back for now. I'm also going to move decade out the index and put year into the index."
      ]
    },
    {
      "cell_type": "code",
      "metadata": {
        "id": "ZFRlO8Q5BZpH",
        "colab": {
          "base_uri": "https://localhost:8080/",
          "height": 167
        },
        "outputId": "622e7f78-e6ed-45c6-e064-20cdc4a0fab3"
      },
      "source": [
        "# reassign column labels to a non-capitalized form\n",
        "df.columns = df.columns.str.lower()\n",
        "\n",
        "# move decade out of the index and into the columns\n",
        "df = df.reset_index()\n",
        "\n",
        "# move year into the index\n",
        "df = df.set_index('year')\n",
        "\n",
        "# check the result\n",
        "df.head(3)"
      ],
      "execution_count": 17,
      "outputs": [
        {
          "output_type": "execute_result",
          "data": {
            "text/html": [
              "<div>\n",
              "<style scoped>\n",
              "    .dataframe tbody tr th:only-of-type {\n",
              "        vertical-align: middle;\n",
              "    }\n",
              "\n",
              "    .dataframe tbody tr th {\n",
              "        vertical-align: top;\n",
              "    }\n",
              "\n",
              "    .dataframe thead th {\n",
              "        text-align: right;\n",
              "    }\n",
              "</style>\n",
              "<table border=\"1\" class=\"dataframe\">\n",
              "  <thead>\n",
              "    <tr style=\"text-align: right;\">\n",
              "      <th></th>\n",
              "      <th>decade</th>\n",
              "      <th>artist</th>\n",
              "      <th>album</th>\n",
              "      <th>genre</th>\n",
              "      <th>cert_sales</th>\n",
              "      <th>claim_sales</th>\n",
              "    </tr>\n",
              "    <tr>\n",
              "      <th>year</th>\n",
              "      <th></th>\n",
              "      <th></th>\n",
              "      <th></th>\n",
              "      <th></th>\n",
              "      <th></th>\n",
              "      <th></th>\n",
              "    </tr>\n",
              "  </thead>\n",
              "  <tbody>\n",
              "    <tr>\n",
              "      <th>1967</th>\n",
              "      <td>1960</td>\n",
              "      <td>The Beatles</td>\n",
              "      <td>Sgt. Pepper's Lonely Hearts Club Band</td>\n",
              "      <td>Rock</td>\n",
              "      <td>18.2</td>\n",
              "      <td>32</td>\n",
              "    </tr>\n",
              "    <tr>\n",
              "      <th>1969</th>\n",
              "      <td>1960</td>\n",
              "      <td>The Beatles</td>\n",
              "      <td>Abbey Road</td>\n",
              "      <td>Rock</td>\n",
              "      <td>14.4</td>\n",
              "      <td>30</td>\n",
              "    </tr>\n",
              "    <tr>\n",
              "      <th>1971</th>\n",
              "      <td>1970</td>\n",
              "      <td>Led Zeppelin</td>\n",
              "      <td>Led Zeppelin IV</td>\n",
              "      <td>Hard rock, heavy metal, folk rock</td>\n",
              "      <td>29.0</td>\n",
              "      <td>37</td>\n",
              "    </tr>\n",
              "  </tbody>\n",
              "</table>\n",
              "</div>"
            ],
            "text/plain": [
              "      decade        artist  ... cert_sales claim_sales\n",
              "year                        ...                       \n",
              "1967    1960   The Beatles  ...       18.2          32\n",
              "1969    1960   The Beatles  ...       14.4          30\n",
              "1971    1970  Led Zeppelin  ...       29.0          37\n",
              "\n",
              "[3 rows x 6 columns]"
            ]
          },
          "metadata": {
            "tags": []
          },
          "execution_count": 17
        }
      ]
    }
  ]
}