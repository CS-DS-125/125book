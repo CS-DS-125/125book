{
  "nbformat": 4,
  "nbformat_minor": 0,
  "metadata": {
    "kernelspec": {
      "display_name": "Python 3",
      "language": "python",
      "name": "python3"
    },
    "language_info": {
      "codemirror_mode": {
        "name": "ipython",
        "version": 3
      },
      "file_extension": ".py",
      "mimetype": "text/x-python",
      "name": "python",
      "nbconvert_exporter": "python",
      "pygments_lexer": "ipython3",
      "version": "3.6.8"
    },
    "colab": {
      "name": "07.3 Dataframes - Basic Operations.ipynb",
      "provenance": [],
      "collapsed_sections": [],
      "toc_visible": true
    }
  },
  "cells": [
    {
      "cell_type": "markdown",
      "metadata": {
        "id": "D0Qck8cX6c0i"
      },
      "source": [
        "# Dataframes: Basic Operations\n"
      ]
    },
    {
      "cell_type": "markdown",
      "metadata": {
        "id": "rDKb69fpxQkM"
      },
      "source": [
        "## Introduction\n",
        "\n",
        "We will explore just few things you can do with Dataframes in this course. If you want to see what else is available, [the Pandas documentation covers the wide variety of methods available](https://pandas.pydata.org/pandas-docs/stable/reference/frame.html). \n",
        "\n",
        "The dataframe we construct below built out of data from the wikipedia page on [best-selling music albums](https://en.wikipedia.org/wiki/List_of_best-selling_albums). \n"
      ]
    },
    {
      "cell_type": "code",
      "metadata": {
        "id": "5guYFg7QxTTU",
        "colab": {
          "base_uri": "https://localhost:8080/",
          "height": 167
        },
        "outputId": "2913f5fd-ebdd-4353-8b55-6df45b173416"
      },
      "source": [
        "# make sure you always do the import that makes pandas available\n",
        "import pandas as pd\n",
        "\n",
        "# create the dataframe from a csv\n",
        "urlg = 'https://raw.githubusercontent.com/'\n",
        "repo = 'bsheese/CSDS125ExampleData/master/'\n",
        "fnme = 'data_albums_sales_wikipedia.csv'\n",
        "df = pd.read_csv(urlg + repo + fnme)\n",
        "\n",
        "# create a decade column\n",
        "df.loc[:, 'decade'] = (df.loc[:, 'year'] //10) *10\n",
        "\n",
        "# set the index to year\n",
        "df = df.set_index('year')\n",
        "\n",
        "# sort the dataframe by the index\n",
        "df = df.sort_index()\n",
        "\n",
        "# check the result\n",
        "df.head(3)"
      ],
      "execution_count": null,
      "outputs": [
        {
          "output_type": "execute_result",
          "data": {
            "text/html": [
              "<div>\n",
              "<style scoped>\n",
              "    .dataframe tbody tr th:only-of-type {\n",
              "        vertical-align: middle;\n",
              "    }\n",
              "\n",
              "    .dataframe tbody tr th {\n",
              "        vertical-align: top;\n",
              "    }\n",
              "\n",
              "    .dataframe thead th {\n",
              "        text-align: right;\n",
              "    }\n",
              "</style>\n",
              "<table border=\"1\" class=\"dataframe\">\n",
              "  <thead>\n",
              "    <tr style=\"text-align: right;\">\n",
              "      <th></th>\n",
              "      <th>artist</th>\n",
              "      <th>album</th>\n",
              "      <th>genre</th>\n",
              "      <th>cert_sales</th>\n",
              "      <th>claim_sales</th>\n",
              "      <th>decade</th>\n",
              "    </tr>\n",
              "    <tr>\n",
              "      <th>year</th>\n",
              "      <th></th>\n",
              "      <th></th>\n",
              "      <th></th>\n",
              "      <th></th>\n",
              "      <th></th>\n",
              "      <th></th>\n",
              "    </tr>\n",
              "  </thead>\n",
              "  <tbody>\n",
              "    <tr>\n",
              "      <th>1967</th>\n",
              "      <td>The Beatles</td>\n",
              "      <td>Sgt. Pepper's Lonely Hearts Club Band</td>\n",
              "      <td>Rock</td>\n",
              "      <td>18.2</td>\n",
              "      <td>32</td>\n",
              "      <td>1960</td>\n",
              "    </tr>\n",
              "    <tr>\n",
              "      <th>1969</th>\n",
              "      <td>The Beatles</td>\n",
              "      <td>Abbey Road</td>\n",
              "      <td>Rock</td>\n",
              "      <td>14.4</td>\n",
              "      <td>30</td>\n",
              "      <td>1960</td>\n",
              "    </tr>\n",
              "    <tr>\n",
              "      <th>1971</th>\n",
              "      <td>Led Zeppelin</td>\n",
              "      <td>Led Zeppelin IV</td>\n",
              "      <td>Hard rock, heavy metal, folk rock</td>\n",
              "      <td>29.0</td>\n",
              "      <td>37</td>\n",
              "      <td>1970</td>\n",
              "    </tr>\n",
              "  </tbody>\n",
              "</table>\n",
              "</div>"
            ],
            "text/plain": [
              "            artist                                  album  ... claim_sales  decade\n",
              "year                                                       ...                    \n",
              "1967   The Beatles  Sgt. Pepper's Lonely Hearts Club Band  ...          32    1960\n",
              "1969   The Beatles                             Abbey Road  ...          30    1960\n",
              "1971  Led Zeppelin                        Led Zeppelin IV  ...          37    1970\n",
              "\n",
              "[3 rows x 6 columns]"
            ]
          },
          "metadata": {
            "tags": []
          },
          "execution_count": 1
        }
      ]
    },
    {
      "cell_type": "markdown",
      "metadata": {
        "id": "jm_5g8mh4xTt"
      },
      "source": [
        "## Modifying Rows and Columns"
      ]
    },
    {
      "cell_type": "markdown",
      "metadata": {
        "id": "Sn2NzXqPNQ9S"
      },
      "source": [
        "### Creating a New Row"
      ]
    },
    {
      "cell_type": "code",
      "metadata": {
        "id": "M_EzqBYFNTkA",
        "colab": {
          "base_uri": "https://localhost:8080/",
          "height": 167
        },
        "outputId": "cf2aa1cb-7e0c-4c20-ee86-e04f50426c4d"
      },
      "source": [
        "# creates a new row, by setting values to a index label that does not exist\n",
        "# note the ommission of the comma and colon in the square brackets\n",
        "df.loc[2020] = ['Various', 'Baby Shark EDM Remix VII', 'Children', 80, 220, 2020]\n",
        "\n",
        "# check the result\n",
        "df.loc[2000:, :].head()"
      ],
      "execution_count": null,
      "outputs": [
        {
          "output_type": "execute_result",
          "data": {
            "text/html": [
              "<div>\n",
              "<style scoped>\n",
              "    .dataframe tbody tr th:only-of-type {\n",
              "        vertical-align: middle;\n",
              "    }\n",
              "\n",
              "    .dataframe tbody tr th {\n",
              "        vertical-align: top;\n",
              "    }\n",
              "\n",
              "    .dataframe thead th {\n",
              "        text-align: right;\n",
              "    }\n",
              "</style>\n",
              "<table border=\"1\" class=\"dataframe\">\n",
              "  <thead>\n",
              "    <tr style=\"text-align: right;\">\n",
              "      <th></th>\n",
              "      <th>artist</th>\n",
              "      <th>album</th>\n",
              "      <th>genre</th>\n",
              "      <th>cert_sales</th>\n",
              "      <th>claim_sales</th>\n",
              "      <th>decade</th>\n",
              "    </tr>\n",
              "    <tr>\n",
              "      <th>year</th>\n",
              "      <th></th>\n",
              "      <th></th>\n",
              "      <th></th>\n",
              "      <th></th>\n",
              "      <th></th>\n",
              "      <th></th>\n",
              "    </tr>\n",
              "  </thead>\n",
              "  <tbody>\n",
              "    <tr>\n",
              "      <th>2000</th>\n",
              "      <td>The Beatles</td>\n",
              "      <td>1</td>\n",
              "      <td>Rock</td>\n",
              "      <td>23.4</td>\n",
              "      <td>31</td>\n",
              "      <td>2000</td>\n",
              "    </tr>\n",
              "    <tr>\n",
              "      <th>2011</th>\n",
              "      <td>Adele</td>\n",
              "      <td>21</td>\n",
              "      <td>Pop, soul</td>\n",
              "      <td>25.3</td>\n",
              "      <td>31</td>\n",
              "      <td>2010</td>\n",
              "    </tr>\n",
              "    <tr>\n",
              "      <th>2020</th>\n",
              "      <td>Various</td>\n",
              "      <td>Baby Shark EDM Remix VII</td>\n",
              "      <td>Children</td>\n",
              "      <td>80.0</td>\n",
              "      <td>220</td>\n",
              "      <td>2020</td>\n",
              "    </tr>\n",
              "  </tbody>\n",
              "</table>\n",
              "</div>"
            ],
            "text/plain": [
              "           artist                     album  ... claim_sales  decade\n",
              "year                                         ...                    \n",
              "2000  The Beatles                         1  ...          31    2000\n",
              "2011        Adele                        21  ...          31    2010\n",
              "2020      Various  Baby Shark EDM Remix VII  ...         220    2020\n",
              "\n",
              "[3 rows x 6 columns]"
            ]
          },
          "metadata": {
            "tags": []
          },
          "execution_count": 2
        }
      ]
    },
    {
      "cell_type": "markdown",
      "metadata": {
        "id": "HvmOxlQyccNs"
      },
      "source": [
        "### Creating a New Column"
      ]
    },
    {
      "cell_type": "code",
      "metadata": {
        "id": "wluprgUmclQL",
        "colab": {
          "base_uri": "https://localhost:8080/",
          "height": 167
        },
        "outputId": "a4653434-beb9-4fa7-f6d8-6c2f538e4abc"
      },
      "source": [
        "# creates a new column, by setting a value to a column label that does not exist\n",
        "df.loc[:,'awesomeness'] = 5\n",
        "\n",
        "# check the result\n",
        "df.loc[:, ['artist', 'album', 'awesomeness']].head(3)"
      ],
      "execution_count": null,
      "outputs": [
        {
          "output_type": "execute_result",
          "data": {
            "text/html": [
              "<div>\n",
              "<style scoped>\n",
              "    .dataframe tbody tr th:only-of-type {\n",
              "        vertical-align: middle;\n",
              "    }\n",
              "\n",
              "    .dataframe tbody tr th {\n",
              "        vertical-align: top;\n",
              "    }\n",
              "\n",
              "    .dataframe thead th {\n",
              "        text-align: right;\n",
              "    }\n",
              "</style>\n",
              "<table border=\"1\" class=\"dataframe\">\n",
              "  <thead>\n",
              "    <tr style=\"text-align: right;\">\n",
              "      <th></th>\n",
              "      <th>artist</th>\n",
              "      <th>album</th>\n",
              "      <th>awesomeness</th>\n",
              "    </tr>\n",
              "    <tr>\n",
              "      <th>year</th>\n",
              "      <th></th>\n",
              "      <th></th>\n",
              "      <th></th>\n",
              "    </tr>\n",
              "  </thead>\n",
              "  <tbody>\n",
              "    <tr>\n",
              "      <th>1967</th>\n",
              "      <td>The Beatles</td>\n",
              "      <td>Sgt. Pepper's Lonely Hearts Club Band</td>\n",
              "      <td>5</td>\n",
              "    </tr>\n",
              "    <tr>\n",
              "      <th>1969</th>\n",
              "      <td>The Beatles</td>\n",
              "      <td>Abbey Road</td>\n",
              "      <td>5</td>\n",
              "    </tr>\n",
              "    <tr>\n",
              "      <th>1971</th>\n",
              "      <td>Led Zeppelin</td>\n",
              "      <td>Led Zeppelin IV</td>\n",
              "      <td>5</td>\n",
              "    </tr>\n",
              "  </tbody>\n",
              "</table>\n",
              "</div>"
            ],
            "text/plain": [
              "            artist                                  album  awesomeness\n",
              "year                                                                  \n",
              "1967   The Beatles  Sgt. Pepper's Lonely Hearts Club Band            5\n",
              "1969   The Beatles                             Abbey Road            5\n",
              "1971  Led Zeppelin                        Led Zeppelin IV            5"
            ]
          },
          "metadata": {
            "tags": []
          },
          "execution_count": 3
        }
      ]
    },
    {
      "cell_type": "markdown",
      "metadata": {
        "id": "bm6bfIwS3zKH"
      },
      "source": [
        "### Copying a Series in a Dataframe"
      ]
    },
    {
      "cell_type": "markdown",
      "metadata": {
        "id": "PolAvx7sHWze"
      },
      "source": [
        "To copy a single series in a dataframe, you can assign the existing column values to a new column name. "
      ]
    },
    {
      "cell_type": "code",
      "metadata": {
        "id": "WpzlBYrS37p9",
        "colab": {
          "base_uri": "https://localhost:8080/",
          "height": 167
        },
        "outputId": "f52d8eaa-b073-400a-85d9-51e044b95c2b"
      },
      "source": [
        "# use a new label and assign it the values from the series to by copied\n",
        "df.loc[:, 'album_duplicated'] = df.loc[:, 'album']\n",
        "\n",
        "# check the result\n",
        "df.loc[:, ['album', 'album_duplicated']].head(3)"
      ],
      "execution_count": null,
      "outputs": [
        {
          "output_type": "execute_result",
          "data": {
            "text/html": [
              "<div>\n",
              "<style scoped>\n",
              "    .dataframe tbody tr th:only-of-type {\n",
              "        vertical-align: middle;\n",
              "    }\n",
              "\n",
              "    .dataframe tbody tr th {\n",
              "        vertical-align: top;\n",
              "    }\n",
              "\n",
              "    .dataframe thead th {\n",
              "        text-align: right;\n",
              "    }\n",
              "</style>\n",
              "<table border=\"1\" class=\"dataframe\">\n",
              "  <thead>\n",
              "    <tr style=\"text-align: right;\">\n",
              "      <th></th>\n",
              "      <th>album</th>\n",
              "      <th>album_duplicated</th>\n",
              "    </tr>\n",
              "    <tr>\n",
              "      <th>year</th>\n",
              "      <th></th>\n",
              "      <th></th>\n",
              "    </tr>\n",
              "  </thead>\n",
              "  <tbody>\n",
              "    <tr>\n",
              "      <th>1967</th>\n",
              "      <td>Sgt. Pepper's Lonely Hearts Club Band</td>\n",
              "      <td>Sgt. Pepper's Lonely Hearts Club Band</td>\n",
              "    </tr>\n",
              "    <tr>\n",
              "      <th>1969</th>\n",
              "      <td>Abbey Road</td>\n",
              "      <td>Abbey Road</td>\n",
              "    </tr>\n",
              "    <tr>\n",
              "      <th>1971</th>\n",
              "      <td>Led Zeppelin IV</td>\n",
              "      <td>Led Zeppelin IV</td>\n",
              "    </tr>\n",
              "  </tbody>\n",
              "</table>\n",
              "</div>"
            ],
            "text/plain": [
              "                                      album                       album_duplicated\n",
              "year                                                                              \n",
              "1967  Sgt. Pepper's Lonely Hearts Club Band  Sgt. Pepper's Lonely Hearts Club Band\n",
              "1969                             Abbey Road                             Abbey Road\n",
              "1971                        Led Zeppelin IV                        Led Zeppelin IV"
            ]
          },
          "metadata": {
            "tags": []
          },
          "execution_count": 4
        }
      ]
    },
    {
      "cell_type": "markdown",
      "metadata": {
        "id": "4TbcoO0OHtAl"
      },
      "source": [
        "To copy multiple columns, we can specify the new column labels using a list, and specify the columns to be copied using another list. Unlike copying a single column, when we are copying multiple columns, we need to specify that we are copying the values of the columns.  "
      ]
    },
    {
      "cell_type": "code",
      "metadata": {
        "id": "JJCJO3RR5WqD",
        "colab": {
          "base_uri": "https://localhost:8080/",
          "height": 251
        },
        "outputId": "80c1218b-6b28-4002-9cb6-2b4a90f8840b"
      },
      "source": [
        "# copying multiple series\n",
        "\n",
        "# create list of new value names, just so the next bit of code isn't too lengthy\n",
        "new_labels = ['certsales_duplicated', 'claimsales_duplicated']\n",
        "\n",
        "# provide the new labels, assign values of columns to be copied, note the use of .values\n",
        "df.loc[:, new_labels] = df.loc[:, ['cert_sales', 'claim_sales']].values\n",
        "\n",
        "# check the result\n",
        "df.loc[:, :].head(3)"
      ],
      "execution_count": null,
      "outputs": [
        {
          "output_type": "execute_result",
          "data": {
            "text/html": [
              "<div>\n",
              "<style scoped>\n",
              "    .dataframe tbody tr th:only-of-type {\n",
              "        vertical-align: middle;\n",
              "    }\n",
              "\n",
              "    .dataframe tbody tr th {\n",
              "        vertical-align: top;\n",
              "    }\n",
              "\n",
              "    .dataframe thead th {\n",
              "        text-align: right;\n",
              "    }\n",
              "</style>\n",
              "<table border=\"1\" class=\"dataframe\">\n",
              "  <thead>\n",
              "    <tr style=\"text-align: right;\">\n",
              "      <th></th>\n",
              "      <th>artist</th>\n",
              "      <th>album</th>\n",
              "      <th>genre</th>\n",
              "      <th>cert_sales</th>\n",
              "      <th>claim_sales</th>\n",
              "      <th>decade</th>\n",
              "      <th>awesomeness</th>\n",
              "      <th>album_duplicated</th>\n",
              "      <th>certsales_duplicated</th>\n",
              "      <th>claimsales_duplicated</th>\n",
              "    </tr>\n",
              "    <tr>\n",
              "      <th>year</th>\n",
              "      <th></th>\n",
              "      <th></th>\n",
              "      <th></th>\n",
              "      <th></th>\n",
              "      <th></th>\n",
              "      <th></th>\n",
              "      <th></th>\n",
              "      <th></th>\n",
              "      <th></th>\n",
              "      <th></th>\n",
              "    </tr>\n",
              "  </thead>\n",
              "  <tbody>\n",
              "    <tr>\n",
              "      <th>1967</th>\n",
              "      <td>The Beatles</td>\n",
              "      <td>Sgt. Pepper's Lonely Hearts Club Band</td>\n",
              "      <td>Rock</td>\n",
              "      <td>18.2</td>\n",
              "      <td>32</td>\n",
              "      <td>1960</td>\n",
              "      <td>5</td>\n",
              "      <td>Sgt. Pepper's Lonely Hearts Club Band</td>\n",
              "      <td>18.2</td>\n",
              "      <td>32.0</td>\n",
              "    </tr>\n",
              "    <tr>\n",
              "      <th>1969</th>\n",
              "      <td>The Beatles</td>\n",
              "      <td>Abbey Road</td>\n",
              "      <td>Rock</td>\n",
              "      <td>14.4</td>\n",
              "      <td>30</td>\n",
              "      <td>1960</td>\n",
              "      <td>5</td>\n",
              "      <td>Abbey Road</td>\n",
              "      <td>14.4</td>\n",
              "      <td>30.0</td>\n",
              "    </tr>\n",
              "    <tr>\n",
              "      <th>1971</th>\n",
              "      <td>Led Zeppelin</td>\n",
              "      <td>Led Zeppelin IV</td>\n",
              "      <td>Hard rock, heavy metal, folk rock</td>\n",
              "      <td>29.0</td>\n",
              "      <td>37</td>\n",
              "      <td>1970</td>\n",
              "      <td>5</td>\n",
              "      <td>Led Zeppelin IV</td>\n",
              "      <td>29.0</td>\n",
              "      <td>37.0</td>\n",
              "    </tr>\n",
              "  </tbody>\n",
              "</table>\n",
              "</div>"
            ],
            "text/plain": [
              "            artist  ... claimsales_duplicated\n",
              "year                ...                      \n",
              "1967   The Beatles  ...                  32.0\n",
              "1969   The Beatles  ...                  30.0\n",
              "1971  Led Zeppelin  ...                  37.0\n",
              "\n",
              "[3 rows x 10 columns]"
            ]
          },
          "metadata": {
            "tags": []
          },
          "execution_count": 5
        }
      ]
    },
    {
      "cell_type": "markdown",
      "metadata": {
        "id": "r_qPl9hv3o3w"
      },
      "source": [
        "### Deleting Rows and Columns\n",
        "We can remove columns or rows from a Dataframe by using the Dataframe method `.drop()`. Drop takes the index or column labels you want to drop."
      ]
    },
    {
      "cell_type": "code",
      "metadata": {
        "id": "miaWV8bl38O3",
        "colab": {
          "base_uri": "https://localhost:8080/",
          "height": 167
        },
        "outputId": "48ab7783-e912-4471-b28b-d19261a11c6a"
      },
      "source": [
        "# dropping a column by column label\n",
        "df = df.drop(columns = 'claimsales_duplicated')\n",
        "\n",
        "# dropping multiple columns using a list of label\n",
        "df = df.drop(columns = ['album_duplicated','certsales_duplicated'])\n",
        "\n",
        "# check result\n",
        "df.head(3)"
      ],
      "execution_count": null,
      "outputs": [
        {
          "output_type": "execute_result",
          "data": {
            "text/html": [
              "<div>\n",
              "<style scoped>\n",
              "    .dataframe tbody tr th:only-of-type {\n",
              "        vertical-align: middle;\n",
              "    }\n",
              "\n",
              "    .dataframe tbody tr th {\n",
              "        vertical-align: top;\n",
              "    }\n",
              "\n",
              "    .dataframe thead th {\n",
              "        text-align: right;\n",
              "    }\n",
              "</style>\n",
              "<table border=\"1\" class=\"dataframe\">\n",
              "  <thead>\n",
              "    <tr style=\"text-align: right;\">\n",
              "      <th></th>\n",
              "      <th>artist</th>\n",
              "      <th>album</th>\n",
              "      <th>genre</th>\n",
              "      <th>cert_sales</th>\n",
              "      <th>claim_sales</th>\n",
              "      <th>decade</th>\n",
              "      <th>awesomeness</th>\n",
              "    </tr>\n",
              "    <tr>\n",
              "      <th>year</th>\n",
              "      <th></th>\n",
              "      <th></th>\n",
              "      <th></th>\n",
              "      <th></th>\n",
              "      <th></th>\n",
              "      <th></th>\n",
              "      <th></th>\n",
              "    </tr>\n",
              "  </thead>\n",
              "  <tbody>\n",
              "    <tr>\n",
              "      <th>1967</th>\n",
              "      <td>The Beatles</td>\n",
              "      <td>Sgt. Pepper's Lonely Hearts Club Band</td>\n",
              "      <td>Rock</td>\n",
              "      <td>18.2</td>\n",
              "      <td>32</td>\n",
              "      <td>1960</td>\n",
              "      <td>5</td>\n",
              "    </tr>\n",
              "    <tr>\n",
              "      <th>1969</th>\n",
              "      <td>The Beatles</td>\n",
              "      <td>Abbey Road</td>\n",
              "      <td>Rock</td>\n",
              "      <td>14.4</td>\n",
              "      <td>30</td>\n",
              "      <td>1960</td>\n",
              "      <td>5</td>\n",
              "    </tr>\n",
              "    <tr>\n",
              "      <th>1971</th>\n",
              "      <td>Led Zeppelin</td>\n",
              "      <td>Led Zeppelin IV</td>\n",
              "      <td>Hard rock, heavy metal, folk rock</td>\n",
              "      <td>29.0</td>\n",
              "      <td>37</td>\n",
              "      <td>1970</td>\n",
              "      <td>5</td>\n",
              "    </tr>\n",
              "  </tbody>\n",
              "</table>\n",
              "</div>"
            ],
            "text/plain": [
              "            artist                                  album  ... decade  awesomeness\n",
              "year                                                       ...                    \n",
              "1967   The Beatles  Sgt. Pepper's Lonely Hearts Club Band  ...   1960            5\n",
              "1969   The Beatles                             Abbey Road  ...   1960            5\n",
              "1971  Led Zeppelin                        Led Zeppelin IV  ...   1970            5\n",
              "\n",
              "[3 rows x 7 columns]"
            ]
          },
          "metadata": {
            "tags": []
          },
          "execution_count": 6
        }
      ]
    },
    {
      "cell_type": "markdown",
      "metadata": {
        "id": "e_KTgNX5dBlj"
      },
      "source": [
        "We can remove rows by specifying rows rather than columns. "
      ]
    },
    {
      "cell_type": "code",
      "metadata": {
        "id": "H8aUvhUEMD8l",
        "colab": {
          "base_uri": "https://localhost:8080/",
          "height": 167
        },
        "outputId": "3686f7e9-8c0b-4ff1-918b-be933e3e20cb"
      },
      "source": [
        "# deleting a row using a row label\n",
        "df = df.drop(index = '2020')\n",
        "\n",
        "# check the result, no more baby shark\n",
        "df.tail(3)"
      ],
      "execution_count": null,
      "outputs": [
        {
          "output_type": "execute_result",
          "data": {
            "text/html": [
              "<div>\n",
              "<style scoped>\n",
              "    .dataframe tbody tr th:only-of-type {\n",
              "        vertical-align: middle;\n",
              "    }\n",
              "\n",
              "    .dataframe tbody tr th {\n",
              "        vertical-align: top;\n",
              "    }\n",
              "\n",
              "    .dataframe thead th {\n",
              "        text-align: right;\n",
              "    }\n",
              "</style>\n",
              "<table border=\"1\" class=\"dataframe\">\n",
              "  <thead>\n",
              "    <tr style=\"text-align: right;\">\n",
              "      <th></th>\n",
              "      <th>artist</th>\n",
              "      <th>album</th>\n",
              "      <th>genre</th>\n",
              "      <th>cert_sales</th>\n",
              "      <th>claim_sales</th>\n",
              "      <th>decade</th>\n",
              "      <th>awesomeness</th>\n",
              "    </tr>\n",
              "    <tr>\n",
              "      <th>year</th>\n",
              "      <th></th>\n",
              "      <th></th>\n",
              "      <th></th>\n",
              "      <th></th>\n",
              "      <th></th>\n",
              "      <th></th>\n",
              "      <th></th>\n",
              "    </tr>\n",
              "  </thead>\n",
              "  <tbody>\n",
              "    <tr>\n",
              "      <th>1999</th>\n",
              "      <td>Santana</td>\n",
              "      <td>Supernatural</td>\n",
              "      <td>Latin rock</td>\n",
              "      <td>20.5</td>\n",
              "      <td>30</td>\n",
              "      <td>1990</td>\n",
              "      <td>5</td>\n",
              "    </tr>\n",
              "    <tr>\n",
              "      <th>2000</th>\n",
              "      <td>The Beatles</td>\n",
              "      <td>1</td>\n",
              "      <td>Rock</td>\n",
              "      <td>23.4</td>\n",
              "      <td>31</td>\n",
              "      <td>2000</td>\n",
              "      <td>5</td>\n",
              "    </tr>\n",
              "    <tr>\n",
              "      <th>2011</th>\n",
              "      <td>Adele</td>\n",
              "      <td>21</td>\n",
              "      <td>Pop, soul</td>\n",
              "      <td>25.3</td>\n",
              "      <td>31</td>\n",
              "      <td>2010</td>\n",
              "      <td>5</td>\n",
              "    </tr>\n",
              "  </tbody>\n",
              "</table>\n",
              "</div>"
            ],
            "text/plain": [
              "           artist         album       genre  ...  claim_sales  decade  awesomeness\n",
              "year                                         ...                                  \n",
              "1999      Santana  Supernatural  Latin rock  ...           30    1990            5\n",
              "2000  The Beatles             1        Rock  ...           31    2000            5\n",
              "2011        Adele            21   Pop, soul  ...           31    2010            5\n",
              "\n",
              "[3 rows x 7 columns]"
            ]
          },
          "metadata": {
            "tags": []
          },
          "execution_count": 7
        }
      ]
    },
    {
      "cell_type": "markdown",
      "metadata": {
        "id": "liAmAYM_7eWW"
      },
      "source": [
        "## Updating Values\n",
        "Like a list, a series is mutable, so values can be updated using indexing with `.loc` or `iloc`.\n"
      ]
    },
    {
      "cell_type": "code",
      "metadata": {
        "id": "yKju6eSsJ14j",
        "colab": {
          "base_uri": "https://localhost:8080/",
          "height": 257
        },
        "outputId": "22278854-c089-4d2d-c948-bf823b4aa029"
      },
      "source": [
        "# select all rows, where the artist column is either Eagles or Celine Dion\n",
        "not_awesome_mask = df.loc[:, 'artist'].isin(['Eagles', 'Celine Dion'])\n",
        "\n",
        "# update a value based on a label\n",
        "df.loc[not_awesome_mask, 'awesomeness'] = 1\n",
        "\n",
        "#check the result\n",
        "df.loc[[1976,1996,1997], ['artist', 'album', 'awesomeness']]"
      ],
      "execution_count": null,
      "outputs": [
        {
          "output_type": "execute_result",
          "data": {
            "text/html": [
              "<div>\n",
              "<style scoped>\n",
              "    .dataframe tbody tr th:only-of-type {\n",
              "        vertical-align: middle;\n",
              "    }\n",
              "\n",
              "    .dataframe tbody tr th {\n",
              "        vertical-align: top;\n",
              "    }\n",
              "\n",
              "    .dataframe thead th {\n",
              "        text-align: right;\n",
              "    }\n",
              "</style>\n",
              "<table border=\"1\" class=\"dataframe\">\n",
              "  <thead>\n",
              "    <tr style=\"text-align: right;\">\n",
              "      <th></th>\n",
              "      <th>artist</th>\n",
              "      <th>album</th>\n",
              "      <th>awesomeness</th>\n",
              "    </tr>\n",
              "    <tr>\n",
              "      <th>year</th>\n",
              "      <th></th>\n",
              "      <th></th>\n",
              "      <th></th>\n",
              "    </tr>\n",
              "  </thead>\n",
              "  <tbody>\n",
              "    <tr>\n",
              "      <th>1976</th>\n",
              "      <td>Eagles</td>\n",
              "      <td>Their Greatest Hits (1971–1975)</td>\n",
              "      <td>1</td>\n",
              "    </tr>\n",
              "    <tr>\n",
              "      <th>1976</th>\n",
              "      <td>Eagles</td>\n",
              "      <td>Hotel California</td>\n",
              "      <td>1</td>\n",
              "    </tr>\n",
              "    <tr>\n",
              "      <th>1996</th>\n",
              "      <td>Celine Dion</td>\n",
              "      <td>Falling into You</td>\n",
              "      <td>1</td>\n",
              "    </tr>\n",
              "    <tr>\n",
              "      <th>1997</th>\n",
              "      <td>Celine Dion</td>\n",
              "      <td>Let's Talk About Love</td>\n",
              "      <td>1</td>\n",
              "    </tr>\n",
              "    <tr>\n",
              "      <th>1997</th>\n",
              "      <td>James Horner</td>\n",
              "      <td>Titanic: Music from the Motion Picture</td>\n",
              "      <td>5</td>\n",
              "    </tr>\n",
              "    <tr>\n",
              "      <th>1997</th>\n",
              "      <td>Shania Twain</td>\n",
              "      <td>Come On Over</td>\n",
              "      <td>5</td>\n",
              "    </tr>\n",
              "  </tbody>\n",
              "</table>\n",
              "</div>"
            ],
            "text/plain": [
              "            artist                                   album  awesomeness\n",
              "year                                                                   \n",
              "1976        Eagles         Their Greatest Hits (1971–1975)            1\n",
              "1976        Eagles                        Hotel California            1\n",
              "1996   Celine Dion                        Falling into You            1\n",
              "1997   Celine Dion                   Let's Talk About Love            1\n",
              "1997  James Horner  Titanic: Music from the Motion Picture            5\n",
              "1997  Shania Twain                            Come On Over            5"
            ]
          },
          "metadata": {
            "tags": []
          },
          "execution_count": 8
        }
      ]
    },
    {
      "cell_type": "markdown",
      "metadata": {
        "id": "BtVwyCV4h_kz"
      },
      "source": [
        "It's entirely possible people bought the Titanic soundtrack just because of Celine Dion, so let's make one more alteration."
      ]
    },
    {
      "cell_type": "code",
      "metadata": {
        "id": "BJaP6Hh05PM0",
        "colab": {
          "base_uri": "https://localhost:8080/",
          "height": 257
        },
        "outputId": "b13fdfb5-a111-4c1d-e56a-c847e544d904"
      },
      "source": [
        "# create a mask to select the row with Titanic by album name\n",
        "titanic_mask = df.loc[:, 'album'] == 'Titanic: Music from the Motion Picture'\n",
        "\n",
        "# use the mask to selecte the row and set the value\n",
        "df.loc[titanic_mask, 'awesomeness'] = 2\n",
        "\n",
        "#check the result\n",
        "df.loc[[1976,1996,1997], ['artist', 'album', 'awesomeness']]"
      ],
      "execution_count": null,
      "outputs": [
        {
          "output_type": "execute_result",
          "data": {
            "text/html": [
              "<div>\n",
              "<style scoped>\n",
              "    .dataframe tbody tr th:only-of-type {\n",
              "        vertical-align: middle;\n",
              "    }\n",
              "\n",
              "    .dataframe tbody tr th {\n",
              "        vertical-align: top;\n",
              "    }\n",
              "\n",
              "    .dataframe thead th {\n",
              "        text-align: right;\n",
              "    }\n",
              "</style>\n",
              "<table border=\"1\" class=\"dataframe\">\n",
              "  <thead>\n",
              "    <tr style=\"text-align: right;\">\n",
              "      <th></th>\n",
              "      <th>artist</th>\n",
              "      <th>album</th>\n",
              "      <th>awesomeness</th>\n",
              "    </tr>\n",
              "    <tr>\n",
              "      <th>year</th>\n",
              "      <th></th>\n",
              "      <th></th>\n",
              "      <th></th>\n",
              "    </tr>\n",
              "  </thead>\n",
              "  <tbody>\n",
              "    <tr>\n",
              "      <th>1976</th>\n",
              "      <td>Eagles</td>\n",
              "      <td>Their Greatest Hits (1971–1975)</td>\n",
              "      <td>1</td>\n",
              "    </tr>\n",
              "    <tr>\n",
              "      <th>1976</th>\n",
              "      <td>Eagles</td>\n",
              "      <td>Hotel California</td>\n",
              "      <td>1</td>\n",
              "    </tr>\n",
              "    <tr>\n",
              "      <th>1996</th>\n",
              "      <td>Celine Dion</td>\n",
              "      <td>Falling into You</td>\n",
              "      <td>1</td>\n",
              "    </tr>\n",
              "    <tr>\n",
              "      <th>1997</th>\n",
              "      <td>Celine Dion</td>\n",
              "      <td>Let's Talk About Love</td>\n",
              "      <td>1</td>\n",
              "    </tr>\n",
              "    <tr>\n",
              "      <th>1997</th>\n",
              "      <td>James Horner</td>\n",
              "      <td>Titanic: Music from the Motion Picture</td>\n",
              "      <td>2</td>\n",
              "    </tr>\n",
              "    <tr>\n",
              "      <th>1997</th>\n",
              "      <td>Shania Twain</td>\n",
              "      <td>Come On Over</td>\n",
              "      <td>5</td>\n",
              "    </tr>\n",
              "  </tbody>\n",
              "</table>\n",
              "</div>"
            ],
            "text/plain": [
              "            artist                                   album  awesomeness\n",
              "year                                                                   \n",
              "1976        Eagles         Their Greatest Hits (1971–1975)            1\n",
              "1976        Eagles                        Hotel California            1\n",
              "1996   Celine Dion                        Falling into You            1\n",
              "1997   Celine Dion                   Let's Talk About Love            1\n",
              "1997  James Horner  Titanic: Music from the Motion Picture            2\n",
              "1997  Shania Twain                            Come On Over            5"
            ]
          },
          "metadata": {
            "tags": []
          },
          "execution_count": 9
        }
      ]
    },
    {
      "cell_type": "markdown",
      "metadata": {
        "id": "o6_VwkU35YaG"
      },
      "source": [
        "That seems fair. In case you're wondering, my ranking of awesomeness is roughly inversely proportional to the number of times I had to hear these songs growing up. You may feel the same way about Adele at this point. If so, feel free to edit some code to set your own levels of awesomeness. "
      ]
    },
    {
      "cell_type": "markdown",
      "metadata": {
        "id": "LpD0WO0EiV0I"
      },
      "source": [
        "Note: setting or 'updating' variables with `.loc` or `.iloc`, as we have in this section, changes the dataframe directly. We do not need to make a copy of the series to make the change."
      ]
    },
    {
      "cell_type": "markdown",
      "metadata": {
        "id": "7jIEC_A_-E31"
      },
      "source": [
        "## Basic Math Operations\n",
        "If we have an entire dataframe of integers or floats, we can do math operations in the same way we do with series. If we've got a dataframe with mixed data-types, we need to specify the correct columns before we do the math."
      ]
    },
    {
      "cell_type": "code",
      "metadata": {
        "id": "DuLktVUF760N",
        "colab": {
          "base_uri": "https://localhost:8080/",
          "height": 167
        },
        "outputId": "0b45d247-96db-4dc1-ab88-0bdf91d13e2b"
      },
      "source": [
        "# put sales column labels into a list\n",
        "sales_columns = ['cert_sales', 'claim_sales']\n",
        "\n",
        "# before the math operation\n",
        "df.loc[:, sales_columns].head(3)"
      ],
      "execution_count": null,
      "outputs": [
        {
          "output_type": "execute_result",
          "data": {
            "text/html": [
              "<div>\n",
              "<style scoped>\n",
              "    .dataframe tbody tr th:only-of-type {\n",
              "        vertical-align: middle;\n",
              "    }\n",
              "\n",
              "    .dataframe tbody tr th {\n",
              "        vertical-align: top;\n",
              "    }\n",
              "\n",
              "    .dataframe thead th {\n",
              "        text-align: right;\n",
              "    }\n",
              "</style>\n",
              "<table border=\"1\" class=\"dataframe\">\n",
              "  <thead>\n",
              "    <tr style=\"text-align: right;\">\n",
              "      <th></th>\n",
              "      <th>cert_sales</th>\n",
              "      <th>claim_sales</th>\n",
              "    </tr>\n",
              "    <tr>\n",
              "      <th>year</th>\n",
              "      <th></th>\n",
              "      <th></th>\n",
              "    </tr>\n",
              "  </thead>\n",
              "  <tbody>\n",
              "    <tr>\n",
              "      <th>1967</th>\n",
              "      <td>18.2</td>\n",
              "      <td>32</td>\n",
              "    </tr>\n",
              "    <tr>\n",
              "      <th>1969</th>\n",
              "      <td>14.4</td>\n",
              "      <td>30</td>\n",
              "    </tr>\n",
              "    <tr>\n",
              "      <th>1971</th>\n",
              "      <td>29.0</td>\n",
              "      <td>37</td>\n",
              "    </tr>\n",
              "  </tbody>\n",
              "</table>\n",
              "</div>"
            ],
            "text/plain": [
              "      cert_sales  claim_sales\n",
              "year                         \n",
              "1967        18.2           32\n",
              "1969        14.4           30\n",
              "1971        29.0           37"
            ]
          },
          "metadata": {
            "tags": []
          },
          "execution_count": 10
        }
      ]
    },
    {
      "cell_type": "code",
      "metadata": {
        "id": "OExMBTzQ2-_W",
        "colab": {
          "base_uri": "https://localhost:8080/",
          "height": 167
        },
        "outputId": "36eeecf2-d65c-42a9-88ef-99517e7e1926"
      },
      "source": [
        "# update the sales_column, add five to all values\n",
        "df.loc[:, sales_columns] = df.loc[:, sales_columns] + 5\n",
        "\n",
        "# after the math operation\n",
        "df.loc[:, sales_columns].head(3)"
      ],
      "execution_count": null,
      "outputs": [
        {
          "output_type": "execute_result",
          "data": {
            "text/html": [
              "<div>\n",
              "<style scoped>\n",
              "    .dataframe tbody tr th:only-of-type {\n",
              "        vertical-align: middle;\n",
              "    }\n",
              "\n",
              "    .dataframe tbody tr th {\n",
              "        vertical-align: top;\n",
              "    }\n",
              "\n",
              "    .dataframe thead th {\n",
              "        text-align: right;\n",
              "    }\n",
              "</style>\n",
              "<table border=\"1\" class=\"dataframe\">\n",
              "  <thead>\n",
              "    <tr style=\"text-align: right;\">\n",
              "      <th></th>\n",
              "      <th>cert_sales</th>\n",
              "      <th>claim_sales</th>\n",
              "    </tr>\n",
              "    <tr>\n",
              "      <th>year</th>\n",
              "      <th></th>\n",
              "      <th></th>\n",
              "    </tr>\n",
              "  </thead>\n",
              "  <tbody>\n",
              "    <tr>\n",
              "      <th>1967</th>\n",
              "      <td>23.2</td>\n",
              "      <td>37</td>\n",
              "    </tr>\n",
              "    <tr>\n",
              "      <th>1969</th>\n",
              "      <td>19.4</td>\n",
              "      <td>35</td>\n",
              "    </tr>\n",
              "    <tr>\n",
              "      <th>1971</th>\n",
              "      <td>34.0</td>\n",
              "      <td>42</td>\n",
              "    </tr>\n",
              "  </tbody>\n",
              "</table>\n",
              "</div>"
            ],
            "text/plain": [
              "      cert_sales  claim_sales\n",
              "year                         \n",
              "1967        23.2           37\n",
              "1969        19.4           35\n",
              "1971        34.0           42"
            ]
          },
          "metadata": {
            "tags": []
          },
          "execution_count": 11
        }
      ]
    },
    {
      "cell_type": "markdown",
      "metadata": {
        "id": "qj-bKxHUTT9n"
      },
      "source": [
        "## Basic String Operations\n",
        "The same applies to string operations. All the same string methods that were available with series can still be applied a series in a Dataframe."
      ]
    },
    {
      "cell_type": "code",
      "metadata": {
        "id": "FlNzRY3_3eEf",
        "colab": {
          "base_uri": "https://localhost:8080/"
        },
        "outputId": "da87463d-359b-4bec-830d-178b31fa5830"
      },
      "source": [
        "# before using the a string method\n",
        "df.loc[:, 'genre'].head(3)"
      ],
      "execution_count": null,
      "outputs": [
        {
          "output_type": "execute_result",
          "data": {
            "text/plain": [
              "year\n",
              "1967                                 Rock\n",
              "1969                                 Rock\n",
              "1971    Hard rock, heavy metal, folk rock\n",
              "Name: genre, dtype: object"
            ]
          },
          "metadata": {
            "tags": []
          },
          "execution_count": 12
        }
      ]
    },
    {
      "cell_type": "code",
      "metadata": {
        "id": "P58GMz7t89ds",
        "colab": {
          "base_uri": "https://localhost:8080/"
        },
        "outputId": "37126e50-8de5-4cb6-f4ba-af7a8a1167c9"
      },
      "source": [
        "# creates a series with strings as values\n",
        "df.loc[:, 'genre'] = df.loc[:, 'genre'].str.lower()\n",
        "df.loc[:, 'genre'].head(3)\n"
      ],
      "execution_count": null,
      "outputs": [
        {
          "output_type": "execute_result",
          "data": {
            "text/plain": [
              "year\n",
              "1967                                 rock\n",
              "1969                                 rock\n",
              "1971    hard rock, heavy metal, folk rock\n",
              "Name: genre, dtype: object"
            ]
          },
          "metadata": {
            "tags": []
          },
          "execution_count": 13
        }
      ]
    },
    {
      "cell_type": "markdown",
      "metadata": {
        "id": "8jWnjJ7FXyte"
      },
      "source": [
        "## Examples\n",
        "I've grabbed some data on the estimated population of each U.S. State in 2019 [from this website](https://www.infoplease.com/us/states/state-population-by-rank) and information about grammy winners by state [from this website](https://www.decluttr.com/blog/2018/01/18/which-state-has-produced-the-most-big-four-grammy-winners/). "
      ]
    },
    {
      "cell_type": "code",
      "metadata": {
        "id": "qZGBZq7piaru",
        "colab": {
          "base_uri": "https://localhost:8080/",
          "height": 227
        },
        "outputId": "8d04d49b-f789-434a-b0e5-84e9994e6f8d"
      },
      "source": [
        "state_list = ['California', 'Texas', 'Florida', 'New York', 'Illinois',\n",
        "              'Pennsylvania', 'Ohio', 'Georgia', 'North Carolina', 'Michigan',\n",
        "              'New Jersey', 'Virginia', 'Washington', 'Arizona','Massachusetts',\n",
        "              'Tennessee', 'Indiana', 'Missouri', 'Maryland', 'Wisconsin',\n",
        "              'Colorado', 'Minnesota', 'South Carolina', 'Alabama', 'Louisiana',\n",
        "              'Kentucky', 'Oregon', 'Oklahoma', 'Connecticut', 'Utah', 'Iowa',\n",
        "              'Nevada', 'Arkansas', 'Mississippi', 'Kansas', 'New Mexico',\n",
        "              'Nebraska', 'West Virginia', 'Idaho', 'Hawaii', 'New Hampshire',\n",
        "              'Maine', 'Montana', 'Rhode Island', 'Delaware', 'South Dakota',\n",
        "              'North Dakota', 'Alaska', 'DC', 'Vermont', 'Wyoming']\n",
        "\n",
        "population_list = [39512223, 28995881, 21477737, 19453561, 12671821, 12801989,\n",
        "                   11689100, 10617423, 10488084, 9986857, 8882190, 8535519,\n",
        "                   7614893, 7278717, 6949503, 6833174, 6732219, 6137428,\n",
        "                   6045680, 5822434, 5758736, 5639632, 5148714, 4903185,\n",
        "                   4648794, 4467673, 4217737, 3956971, 3565287, 3205958,\n",
        "                   3155070, 3080156, 3017825, 2976149, 2913314, 2096829,\n",
        "                   1934408, 1792147, 1787065, 1415872, 1359711, 1344212,\n",
        "                   1068778, 1059361, 973764, 884659, 762062, 731545, 705749,\n",
        "                   623989, 578759]\n",
        "\n",
        "# by state, alphabetical, excludes DC\n",
        "grammy_list = [3,0,0,3,27,1,1,None,0,2,10,3,0,15,3,1,1,1,1,2,3,4,4,3,2,5,0,1,\n",
        "               0,0,15,0,49,3,0,8,2,1,7,1,1,1,7,12,0,0,3,3,0,1,0] \n",
        "\n",
        "# create a Dataframe from the state and populations lists, ignore how this works\n",
        "dfg = pd.DataFrame(list(zip(state_list, population_list)),\n",
        "                   columns=['state', 'population'])\n",
        "\n",
        "# sort the Dataframe by state\n",
        "dfg = dfg.sort_values('state')\n",
        "\n",
        "# add the grammy count as a new column \n",
        "dfg.loc[:,'grammies'] = grammy_list\n",
        "\n",
        "# set the index to state\n",
        "dfg = dfg.set_index('state')\n",
        "\n",
        "# check the result\n",
        "dfg.head()"
      ],
      "execution_count": null,
      "outputs": [
        {
          "output_type": "execute_result",
          "data": {
            "text/html": [
              "<div>\n",
              "<style scoped>\n",
              "    .dataframe tbody tr th:only-of-type {\n",
              "        vertical-align: middle;\n",
              "    }\n",
              "\n",
              "    .dataframe tbody tr th {\n",
              "        vertical-align: top;\n",
              "    }\n",
              "\n",
              "    .dataframe thead th {\n",
              "        text-align: right;\n",
              "    }\n",
              "</style>\n",
              "<table border=\"1\" class=\"dataframe\">\n",
              "  <thead>\n",
              "    <tr style=\"text-align: right;\">\n",
              "      <th></th>\n",
              "      <th>population</th>\n",
              "      <th>grammies</th>\n",
              "    </tr>\n",
              "    <tr>\n",
              "      <th>state</th>\n",
              "      <th></th>\n",
              "      <th></th>\n",
              "    </tr>\n",
              "  </thead>\n",
              "  <tbody>\n",
              "    <tr>\n",
              "      <th>Alabama</th>\n",
              "      <td>4903185</td>\n",
              "      <td>3.0</td>\n",
              "    </tr>\n",
              "    <tr>\n",
              "      <th>Alaska</th>\n",
              "      <td>731545</td>\n",
              "      <td>0.0</td>\n",
              "    </tr>\n",
              "    <tr>\n",
              "      <th>Arizona</th>\n",
              "      <td>7278717</td>\n",
              "      <td>0.0</td>\n",
              "    </tr>\n",
              "    <tr>\n",
              "      <th>Arkansas</th>\n",
              "      <td>3017825</td>\n",
              "      <td>3.0</td>\n",
              "    </tr>\n",
              "    <tr>\n",
              "      <th>California</th>\n",
              "      <td>39512223</td>\n",
              "      <td>27.0</td>\n",
              "    </tr>\n",
              "  </tbody>\n",
              "</table>\n",
              "</div>"
            ],
            "text/plain": [
              "            population  grammies\n",
              "state                           \n",
              "Alabama        4903185       3.0\n",
              "Alaska          731545       0.0\n",
              "Arizona        7278717       0.0\n",
              "Arkansas       3017825       3.0\n",
              "California    39512223      27.0"
            ]
          },
          "metadata": {
            "tags": []
          },
          "execution_count": 14
        }
      ]
    },
    {
      "cell_type": "markdown",
      "metadata": {
        "id": "WHHtrC0Ej0g4"
      },
      "source": [
        "What are the top ten states for total number of grammy winners?"
      ]
    },
    {
      "cell_type": "code",
      "metadata": {
        "id": "KWJ9-EMjjvHi",
        "colab": {
          "base_uri": "https://localhost:8080/",
          "height": 377
        },
        "outputId": "15b8b6b1-0fa6-43b6-998e-878c9b91acf3"
      },
      "source": [
        "dfg.sort_values('grammies', ascending=False).head(10)"
      ],
      "execution_count": null,
      "outputs": [
        {
          "output_type": "execute_result",
          "data": {
            "text/html": [
              "<div>\n",
              "<style scoped>\n",
              "    .dataframe tbody tr th:only-of-type {\n",
              "        vertical-align: middle;\n",
              "    }\n",
              "\n",
              "    .dataframe tbody tr th {\n",
              "        vertical-align: top;\n",
              "    }\n",
              "\n",
              "    .dataframe thead th {\n",
              "        text-align: right;\n",
              "    }\n",
              "</style>\n",
              "<table border=\"1\" class=\"dataframe\">\n",
              "  <thead>\n",
              "    <tr style=\"text-align: right;\">\n",
              "      <th></th>\n",
              "      <th>population</th>\n",
              "      <th>grammies</th>\n",
              "    </tr>\n",
              "    <tr>\n",
              "      <th>state</th>\n",
              "      <th></th>\n",
              "      <th></th>\n",
              "    </tr>\n",
              "  </thead>\n",
              "  <tbody>\n",
              "    <tr>\n",
              "      <th>New York</th>\n",
              "      <td>19453561</td>\n",
              "      <td>49.0</td>\n",
              "    </tr>\n",
              "    <tr>\n",
              "      <th>California</th>\n",
              "      <td>39512223</td>\n",
              "      <td>27.0</td>\n",
              "    </tr>\n",
              "    <tr>\n",
              "      <th>New Jersey</th>\n",
              "      <td>8882190</td>\n",
              "      <td>15.0</td>\n",
              "    </tr>\n",
              "    <tr>\n",
              "      <th>Illinois</th>\n",
              "      <td>12671821</td>\n",
              "      <td>15.0</td>\n",
              "    </tr>\n",
              "    <tr>\n",
              "      <th>Texas</th>\n",
              "      <td>28995881</td>\n",
              "      <td>12.0</td>\n",
              "    </tr>\n",
              "    <tr>\n",
              "      <th>Georgia</th>\n",
              "      <td>10617423</td>\n",
              "      <td>10.0</td>\n",
              "    </tr>\n",
              "    <tr>\n",
              "      <th>Ohio</th>\n",
              "      <td>11689100</td>\n",
              "      <td>8.0</td>\n",
              "    </tr>\n",
              "    <tr>\n",
              "      <th>Pennsylvania</th>\n",
              "      <td>12801989</td>\n",
              "      <td>7.0</td>\n",
              "    </tr>\n",
              "    <tr>\n",
              "      <th>Tennessee</th>\n",
              "      <td>6833174</td>\n",
              "      <td>7.0</td>\n",
              "    </tr>\n",
              "    <tr>\n",
              "      <th>Missouri</th>\n",
              "      <td>6137428</td>\n",
              "      <td>5.0</td>\n",
              "    </tr>\n",
              "  </tbody>\n",
              "</table>\n",
              "</div>"
            ],
            "text/plain": [
              "              population  grammies\n",
              "state                             \n",
              "New York        19453561      49.0\n",
              "California      39512223      27.0\n",
              "New Jersey       8882190      15.0\n",
              "Illinois        12671821      15.0\n",
              "Texas           28995881      12.0\n",
              "Georgia         10617423      10.0\n",
              "Ohio            11689100       8.0\n",
              "Pennsylvania    12801989       7.0\n",
              "Tennessee        6833174       7.0\n",
              "Missouri         6137428       5.0"
            ]
          },
          "metadata": {
            "tags": []
          },
          "execution_count": 15
        }
      ]
    },
    {
      "cell_type": "markdown",
      "metadata": {
        "id": "04OOoCQJkp9i"
      },
      "source": [
        "What are the five most populous states that have never won a grammy?"
      ]
    },
    {
      "cell_type": "code",
      "metadata": {
        "id": "ECAErNdulCuA",
        "colab": {
          "base_uri": "https://localhost:8080/",
          "height": 227
        },
        "outputId": "8586d048-d97c-4bdc-b322-e029f3b59f02"
      },
      "source": [
        "# create a no grammy mask that selects winless states\n",
        "no_grammy_mask = (dfg.loc[:, 'grammies'] == 0)\n",
        "\n",
        "# apply the mask to the rows, then sort by population\n",
        "dfg.loc[no_grammy_mask, :].sort_values('population', ascending=False).head(5) "
      ],
      "execution_count": null,
      "outputs": [
        {
          "output_type": "execute_result",
          "data": {
            "text/html": [
              "<div>\n",
              "<style scoped>\n",
              "    .dataframe tbody tr th:only-of-type {\n",
              "        vertical-align: middle;\n",
              "    }\n",
              "\n",
              "    .dataframe tbody tr th {\n",
              "        vertical-align: top;\n",
              "    }\n",
              "\n",
              "    .dataframe thead th {\n",
              "        text-align: right;\n",
              "    }\n",
              "</style>\n",
              "<table border=\"1\" class=\"dataframe\">\n",
              "  <thead>\n",
              "    <tr style=\"text-align: right;\">\n",
              "      <th></th>\n",
              "      <th>population</th>\n",
              "      <th>grammies</th>\n",
              "    </tr>\n",
              "    <tr>\n",
              "      <th>state</th>\n",
              "      <th></th>\n",
              "      <th></th>\n",
              "    </tr>\n",
              "  </thead>\n",
              "  <tbody>\n",
              "    <tr>\n",
              "      <th>Arizona</th>\n",
              "      <td>7278717</td>\n",
              "      <td>0.0</td>\n",
              "    </tr>\n",
              "    <tr>\n",
              "      <th>Utah</th>\n",
              "      <td>3205958</td>\n",
              "      <td>0.0</td>\n",
              "    </tr>\n",
              "    <tr>\n",
              "      <th>Nevada</th>\n",
              "      <td>3080156</td>\n",
              "      <td>0.0</td>\n",
              "    </tr>\n",
              "    <tr>\n",
              "      <th>New Mexico</th>\n",
              "      <td>2096829</td>\n",
              "      <td>0.0</td>\n",
              "    </tr>\n",
              "    <tr>\n",
              "      <th>West Virginia</th>\n",
              "      <td>1792147</td>\n",
              "      <td>0.0</td>\n",
              "    </tr>\n",
              "  </tbody>\n",
              "</table>\n",
              "</div>"
            ],
            "text/plain": [
              "               population  grammies\n",
              "state                              \n",
              "Arizona           7278717       0.0\n",
              "Utah              3205958       0.0\n",
              "Nevada            3080156       0.0\n",
              "New Mexico        2096829       0.0\n",
              "West Virginia     1792147       0.0"
            ]
          },
          "metadata": {
            "tags": []
          },
          "execution_count": 16
        }
      ]
    },
    {
      "cell_type": "markdown",
      "metadata": {
        "id": "666cuPt4mqNV"
      },
      "source": [
        "What are the top ten states for winning grammies as a proportion of their population size?"
      ]
    },
    {
      "cell_type": "code",
      "metadata": {
        "id": "4vYRdDJ7m1wp",
        "colab": {
          "base_uri": "https://localhost:8080/"
        },
        "outputId": "adbe47eb-342d-4f15-b18c-9a3d3fc11476"
      },
      "source": [
        "# calculate winners per million\n",
        "winners_per_mil = (dfg.loc[:, 'grammies'] / dfg.loc[:, 'population']) * 1000000\n",
        "\n",
        "# sort and display result\n",
        "winners_per_mil.sort_values(ascending=False).head(10)"
      ],
      "execution_count": null,
      "outputs": [
        {
          "output_type": "execute_result",
          "data": {
            "text/plain": [
              "state\n",
              "New York        2.518819\n",
              "Hawaii          2.118836\n",
              "New Jersey      1.688773\n",
              "Maine           1.487861\n",
              "Illinois        1.183729\n",
              "South Dakota    1.130379\n",
              "Tennessee       1.024414\n",
              "Arkansas        0.994093\n",
              "Rhode Island    0.943965\n",
              "Georgia         0.941848\n",
              "dtype: float64"
            ]
          },
          "metadata": {
            "tags": []
          },
          "execution_count": 17
        }
      ]
    },
    {
      "cell_type": "markdown",
      "metadata": {
        "id": "95C_nztXo8Si"
      },
      "source": [
        "New York still tops the list when we account for the population size. Hawaii is not too far behind! Also, Maine? And California is no where to be seen.  Lots of surprises here. "
      ]
    }
  ]
}