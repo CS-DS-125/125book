{
 "cells": [
  {
   "cell_type": "markdown",
   "metadata": {},
   "source": [
    "# Example 1\n",
    "\n",
    "Calculate the min, max, sum, average, and median of a list of numbers.\n",
    "\n",
    "### New concepts\n",
    "- Lists\n",
    "- Indexing\n",
    "- For loops\n",
    "- Conditionals"
   ]
  },
  {
   "cell_type": "code",
   "execution_count": 1,
   "metadata": {},
   "outputs": [
    {
     "name": "stdout",
     "output_type": "stream",
     "text": [
      "Min: 1  Max: 242  Sum: 624  Average: 78.0  Median: 84\n"
     ]
    }
   ],
   "source": [
    "numbers = [2, 135, 84, 53, 242, 8, 1, 99]\n",
    "\n",
    "# initialize min and max to be the first value in the list\n",
    "minval = numbers[0]\n",
    "maxval = numbers[0]\n",
    "# initialize the sum (also used for average) to 0\n",
    "total = 0\n",
    "\n",
    "# iterate over all values, updating min, max, and total as we go\n",
    "for val in numbers:\n",
    "    if val < minval:\n",
    "        minval = val\n",
    "    if val > maxval:\n",
    "        maxval = val\n",
    "    total += val\n",
    "    \n",
    "# calculate the average as the total over the number of values\n",
    "average = total / len(numbers)\n",
    "\n",
    "# find the median by first sorting the list and taking the \"middle\" value\n",
    "# we'll round down the position if the list has an even number of elements\n",
    "middle = int(len(numbers) / 2)\n",
    "numbers_inorder = sorted(numbers)\n",
    "median = numbers_inorder[middle]\n",
    "\n",
    "# outout\n",
    "print(f'Min: {minval}  Max: {maxval}  Sum: {total}  Average: {average}  Median: {median}')"
   ]
  },
  {
   "cell_type": "markdown",
   "metadata": {},
   "source": [
    "### Example 1 - Succinct variant (using builtins)"
   ]
  },
  {
   "cell_type": "code",
   "execution_count": 2,
   "metadata": {},
   "outputs": [
    {
     "name": "stdout",
     "output_type": "stream",
     "text": [
      "Min: 1  Max: 242  Sum: 624  Average: 78.0  Median: 84\n"
     ]
    }
   ],
   "source": [
    "numbers = [2, 135, 84, 53, 242, 8, 1, 99]\n",
    "\n",
    "# use built-in min(), max(), and sum() functions\n",
    "minval = min(numbers)\n",
    "maxval = max(numbers)\n",
    "total = sum(numbers)\n",
    "\n",
    "# average and median still found in the same way if we're not using extra libraries\n",
    "average = total / len(numbers)\n",
    "middle = int(len(numbers) / 2)\n",
    "numbers_inorder = sorted(numbers)\n",
    "median = numbers_inorder[middle]\n",
    "\n",
    "# outout\n",
    "print(f'Min: {minval}  Max: {maxval}  Sum: {total}  Average: {average}  Median: {median}')"
   ]
  },
  {
   "cell_type": "markdown",
   "metadata": {},
   "source": [
    "# Example 2\n",
    "\n",
    "Count the number of words in a text file that start with a given number.\n",
    "\n",
    "### New concepts\n",
    "- Files\n",
    "- String functions (split() and startswith())"
   ]
  },
  {
   "cell_type": "code",
   "execution_count": 3,
   "metadata": {},
   "outputs": [
    {
     "name": "stdout",
     "output_type": "stream",
     "text": [
      "21 words start with 'w'.\n"
     ]
    }
   ],
   "source": [
    "countchar = 'w'\n",
    "\n",
    "file = open(\"atotc_opening.txt\")\n",
    "\n",
    "text = file.read()\n",
    "\n",
    "words = text.split()\n",
    "\n",
    "count = 0\n",
    "for word in words:\n",
    "    if word.startswith(countchar):\n",
    "        count = count + 1\n",
    "\n",
    "file.close()\n",
    "\n",
    "print(f\"{count} words start with '{countchar}'.\")"
   ]
  },
  {
   "cell_type": "markdown",
   "metadata": {},
   "source": [
    "### Example 2 - Succinct variant"
   ]
  },
  {
   "cell_type": "code",
   "execution_count": 4,
   "metadata": {},
   "outputs": [
    {
     "name": "stdout",
     "output_type": "stream",
     "text": [
      "21 words start with 'w'.\n"
     ]
    }
   ],
   "source": [
    "countchar = 'w'\n",
    "\n",
    "with open(\"atotc_opening.txt\") as f:\n",
    "    count = sum(word.startswith(countchar) for word in f.read().split())\n",
    "\n",
    "print(f\"{count} words start with '{countchar}'.\")"
   ]
  }
 ],
 "metadata": {
  "kernelspec": {
   "display_name": "Python 3",
   "language": "python",
   "name": "python3"
  },
  "language_info": {
   "codemirror_mode": {
    "name": "ipython",
    "version": 3
   },
   "file_extension": ".py",
   "mimetype": "text/x-python",
   "name": "python",
   "nbconvert_exporter": "python",
   "pygments_lexer": "ipython3",
   "version": "3.6.5"
  }
 },
 "nbformat": 4,
 "nbformat_minor": 2
}
