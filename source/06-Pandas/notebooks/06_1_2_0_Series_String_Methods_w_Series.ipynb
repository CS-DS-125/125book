{
  "nbformat": 4,
  "nbformat_minor": 0,
  "metadata": {
    "kernelspec": {
      "display_name": "Python 3",
      "language": "python",
      "name": "python3"
    },
    "language_info": {
      "codemirror_mode": {
        "name": "ipython",
        "version": 3
      },
      "file_extension": ".py",
      "mimetype": "text/x-python",
      "name": "python",
      "nbconvert_exporter": "python",
      "pygments_lexer": "ipython3",
      "version": "3.6.8"
    },
    "colab": {
      "name": "06.1.2.0 Series - String Methods w Series.ipynb",
      "provenance": [],
      "collapsed_sections": [],
      "toc_visible": true
    }
  },
  "cells": [
    {
      "cell_type": "markdown",
      "metadata": {
        "id": "D0Qck8cX6c0i"
      },
      "source": [
        "# Series: String Methods\n",
        "\n",
        "Author: Brad E. Sheese\n",
        "***\n"
      ]
    },
    {
      "cell_type": "markdown",
      "metadata": {
        "id": "Io_zcqxEKP-z"
      },
      "source": [
        "## Introduction\n",
        "Hopefully you're feeling somewhat confident with the basics of series objects. The next bit we are going to tackle involves different methods of of working the strings in a series. \n",
        "\n",
        "Here's a series that contains information about the best-selling books of all time taken from [this article on wikipedia](https://en.wikipedia.org/wiki/List_of_best-selling_books)."
      ]
    },
    {
      "cell_type": "code",
      "metadata": {
        "id": "Y1NoR5NPz0rl"
      },
      "source": [
        "import pandas as pd\n",
        "\n",
        "title_list = [\"Harry Potter and the Philosopher's Stone by J. K. Rowling\",\n",
        " 'The Little Prince by Antoine de Saint-Exupéry',\n",
        " 'Dream of the Red Chamber by Cao Xueqin',\n",
        " 'The Hobbit by J. R. R. Tolkien',\n",
        " 'And Then There Were None by Agatha Christie',\n",
        " 'The Lion, the Witch and the Wardrobe by C. S. Lewis',\n",
        " 'She: A History of Adventure by H. Rider Haggard',\n",
        " 'The Adventures of Pinocchio (Le avventure di Pinocchio) by Carlo Collodi',\n",
        " 'The Da Vinci Code by Dan Brown',\n",
        " 'Harry Potter and the Chamber of Secrets by J. K. Rowling',\n",
        " 'Harry Potter and the Prisoner of Azkaban by J. K. Rowling',\n",
        " 'Harry Potter and the Goblet of Fire by J. K. Rowling',\n",
        " 'Harry Potter and the Order of the Phoenix by J. K. Rowling',\n",
        " 'Harry Potter and the Half-Blood Prince by J. K. Rowling',\n",
        " 'Harry Potter and the Deathly Hallows by J. K. Rowling',\n",
        " 'The Alchemist (O Alquimista) by Paulo Coelho',\n",
        " 'The Catcher in the Rye by J. D. Salinger',\n",
        " 'The Bridges of Madison County by Robert James Waller',\n",
        " 'Ben-Hur: A Tale of the Christ by Lew Wallace',\n",
        " 'You Can Heal Your Life by Louise Hay',\n",
        " 'One Hundred Years of Solitude (Cien años de soledad) by Gabriel García Márquez',\n",
        " 'Lolita by Vladimir Nabokov',\n",
        " 'Heidi by Johanna Spyri',\n",
        " 'The Common Sense Book of Baby and Child Care by Benjamin Spock',\n",
        " 'Anne of Green Gables by Lucy Maud Montgomery',\n",
        " 'Black Beauty by Anna Sewell',\n",
        " 'The Name of the Rose (Il Nome della Rosa) by Umberto Eco',\n",
        " 'The Eagle Has Landed by Jack Higgins',\n",
        " 'Watership Down by Richard Adams',\n",
        " 'The Hite Report by Shere Hite',\n",
        " \"Charlotte's Web by E. B. White; illustrated by Garth Williams\",\n",
        " 'The Ginger Man by J. P. Donleavy',\n",
        " 'The Tale of Peter Rabbit by Beatrix Potter',\n",
        " 'Jonathan Livingston Seagull by Richard Bach',\n",
        " 'The Very Hungry Caterpillar by Eric Carle',\n",
        " 'A Message to Garcia by Elbert Hubbard',\n",
        " 'To Kill a Mockingbird by Harper Lee',\n",
        " 'Flowers in the Attic by V. C. Andrews',\n",
        " 'Cosmos by Carl Sagan',\n",
        " \"Sophie's World (Sofies verden) by Jostein Gaarder\",\n",
        " 'Angels & Demons by Dan Brown',\n",
        " 'Kane and Abel by Jeffrey Archer',\n",
        " 'How the Steel Was Tempered (Как закалялась сталь) by Nikolai Ostrovsky',\n",
        " 'War and Peace (Война и мир) by Leo Tolstoy',\n",
        " 'The Diary of Anne Frank (Het Achterhuis) by Anne Frank',\n",
        " 'Your Erroneous Zones by Wayne Dyer',\n",
        " 'The Thorn Birds by Colleen McCullough',\n",
        " 'The Purpose Driven Life by Rick Warren',\n",
        " 'The Kite Runner by Khaled Hosseini',\n",
        " 'Valley of the Dolls by Jacqueline Susann',\n",
        " 'The Great Gatsby by F. Scott Fitzgerald',\n",
        " 'Gone with the Wind by Margaret Mitchell',\n",
        " 'Rebecca by Daphne du Maurier',\n",
        " 'Nineteen Eighty-Four by George Orwell',\n",
        " 'The Revolt of Mamie Stover by William Bradford Huie',\n",
        " 'The Girl with the Dragon Tattoo (Män som hatar kvinnor) by Stieg Larsson',\n",
        " 'The Lost Symbol by Dan Brown']\n",
        "\n",
        "book_series = pd.Series(data=title_list, dtype='string')\n",
        "book_series.head()"
      ],
      "execution_count": null,
      "outputs": []
    },
    {
      "cell_type": "markdown",
      "metadata": {
        "id": "XArcW9FDx7lS"
      },
      "source": [
        "So we have a series full of strings. In this case, each value in the series is a string with the title and author of a book. In a previous section, we saw how we can do simple string contatenation with a whole series at the same time."
      ]
    },
    {
      "cell_type": "code",
      "metadata": {
        "id": "hMzQreyDjRYj"
      },
      "source": [
        "book_exclaim = book_series + \"!\"\n",
        "book_exclaim.head()"
      ],
      "execution_count": null,
      "outputs": []
    },
    {
      "cell_type": "markdown",
      "metadata": {
        "id": "9yx3lPl1yl6B"
      },
      "source": [
        "You might be tempted to write a for loop to do what we've just done. And we could iterate over the series and get the same result:"
      ]
    },
    {
      "cell_type": "code",
      "metadata": {
        "id": "NVngkfDn6Ozs"
      },
      "source": [
        "# iterating through a series with a for loop, try not to do this\n",
        "book_exclaim_alt = []\n",
        "for book in book_series:\n",
        "  book_exclaim_alt.append(book + '!')\n",
        "book_exclaim_alt = pd.Series(book_exclaim_alt, dtype='string')\n",
        "\n",
        "# check the result\n",
        "book_exclaim_alt.head()"
      ],
      "execution_count": null,
      "outputs": []
    },
    {
      "cell_type": "markdown",
      "metadata": {
        "id": "XlLWf44QzLfh"
      },
      "source": [
        "But as a general rule, if we can alter a series without using a for-loop, we should. Using a for-loop is slower from a computational perspective, and the fact that we can update series without the for-loop is one of the big advantages of using the series instead of a list. When we deal with lots of data, this advantage can make a really large differences in the efficiency of our programs. We will return to the issue a few more times throughout the course. For now, just remember that you often can do without the for-loops when you work with series (and with dataframes).   "
      ]
    },
    {
      "cell_type": "markdown",
      "metadata": {
        "id": "x4fAFckf1RyZ"
      },
      "source": [
        "## 06.1.2.0 The .str accessor\n",
        "Many of the string methods we are used to working with, such as `.lower()`, `.upper()`, `.split()`, and `.replace()` can be applied to an entire series of string values. But to do so, we need to use the `.str` string accessor as follows:"
      ]
    },
    {
      "cell_type": "code",
      "metadata": {
        "id": "sWh0uptU6WaM"
      },
      "source": [
        "book_series.str.lower().head()"
      ],
      "execution_count": null,
      "outputs": []
    },
    {
      "cell_type": "code",
      "metadata": {
        "id": "iFd1ea7E6byV"
      },
      "source": [
        "book_series.str.upper().head()"
      ],
      "execution_count": null,
      "outputs": []
    },
    {
      "cell_type": "code",
      "metadata": {
        "id": "jLqUPDAZ62pb"
      },
      "source": [
        "book_series.str.replace('Harry Potter', 'Hermonie Granger').head()"
      ],
      "execution_count": null,
      "outputs": []
    },
    {
      "cell_type": "markdown",
      "metadata": {
        "id": "k04QZrEy2c2J"
      },
      "source": [
        "As a general rule, if there's a [Python string method](https://docs.python.org/3/library/stdtypes.html#string-methods) you want to use with a series, you can likely find [a Pandas equivalent](https://pandas.pydata.org/pandas-docs/version/0.23.4/text.html#). "
      ]
    },
    {
      "cell_type": "markdown",
      "metadata": {
        "id": "kyRTsa9D38pw"
      },
      "source": [
        "## 06.1.2.1 Commonly Used String Methods\n",
        "For this class, here's some specific methods that we commonly use. "
      ]
    },
    {
      "cell_type": "markdown",
      "metadata": {
        "id": "vrVaR8Rw4F5g"
      },
      "source": [
        "### Length of String: `.str.len()`"
      ]
    },
    {
      "cell_type": "code",
      "metadata": {
        "id": "bZ1XqAHL4J9g"
      },
      "source": [
        "# evaluates to a series of string lengths\n",
        "book_series.str.len().head()"
      ],
      "execution_count": null,
      "outputs": []
    },
    {
      "cell_type": "markdown",
      "metadata": {
        "id": "QLiN60NH4hRA"
      },
      "source": [
        "### Lower and Upper Case: `.str.lower()`, `.str.upper()`"
      ]
    },
    {
      "cell_type": "code",
      "metadata": {
        "id": "vc8ypwir4dr5"
      },
      "source": [
        "# evaluates to a series of all lower case strings\n",
        "book_series.str.lower().head()"
      ],
      "execution_count": null,
      "outputs": []
    },
    {
      "cell_type": "code",
      "metadata": {
        "id": "EevBYNnm5vhI"
      },
      "source": [
        "# evaluates to a series of all upper case strings\n",
        "book_series.str.upper().head()"
      ],
      "execution_count": null,
      "outputs": []
    },
    {
      "cell_type": "markdown",
      "metadata": {
        "id": "DEc75qt75bOo"
      },
      "source": [
        "### Starts and Ends With: `.str.startswith()`, `.str.endswith()`"
      ]
    },
    {
      "cell_type": "code",
      "metadata": {
        "id": "m22vTLeM5aQY"
      },
      "source": [
        "# evaluates to a series of booleans\n",
        "book_series.str.startswith('Harry').head()"
      ],
      "execution_count": null,
      "outputs": []
    },
    {
      "cell_type": "code",
      "metadata": {
        "id": "gdJFsSmzKPIE"
      },
      "source": [
        "# evaluates to a series of booleans\n",
        "book_series.str.endswith('Tolkien').head()"
      ],
      "execution_count": null,
      "outputs": []
    },
    {
      "cell_type": "markdown",
      "metadata": {
        "id": "XCHWdrAb6YXx"
      },
      "source": [
        "### Contains Sub-String: `str.contains()`"
      ]
    },
    {
      "cell_type": "code",
      "metadata": {
        "id": "2eIzd_IKMAIk"
      },
      "source": [
        "# evaluates to a series of booleans\n",
        "book_series.str.contains('Agatha').head()"
      ],
      "execution_count": null,
      "outputs": []
    },
    {
      "cell_type": "markdown",
      "metadata": {
        "id": "nJiBw3PR6waA"
      },
      "source": [
        "### Find Sub-String: `.str.find()`"
      ]
    },
    {
      "cell_type": "code",
      "metadata": {
        "id": "xw5Py_yY6ruh"
      },
      "source": [
        "# evaluates to a series of integers,\n",
        "# -1 if substring not found, otherwise index of first occurance \n",
        "book_series.str.find('Christi').head()"
      ],
      "execution_count": null,
      "outputs": []
    },
    {
      "cell_type": "markdown",
      "metadata": {
        "id": "fTOT3y8n7KjI"
      },
      "source": [
        "### Replace Sub-String: `.str.replace()`"
      ]
    },
    {
      "cell_type": "code",
      "metadata": {
        "id": "W4ECkGHcO5LD"
      },
      "source": [
        "# evaluates to series with values replaced\n",
        "book_series.str.replace('Little', 'Enormous').head()"
      ],
      "execution_count": null,
      "outputs": []
    },
    {
      "cell_type": "markdown",
      "metadata": {
        "id": "2mzHou7p75Do"
      },
      "source": [
        "### Split on Sub-String: `.str.split()`"
      ]
    },
    {
      "cell_type": "code",
      "metadata": {
        "id": "4ZgkJ3jD8ahg"
      },
      "source": [
        "# evaluates to series where each value contains a list\n",
        "book_series.str.split(' by ').head()"
      ],
      "execution_count": null,
      "outputs": []
    },
    {
      "cell_type": "code",
      "metadata": {
        "id": "8pMg7CqWP4LG"
      },
      "source": [
        "# split each string in a list, return a series full of lists with two elements\n",
        "book_series_split = book_series.str.split(' by ')\n",
        "\n",
        "# use the string accessor with indexing to get a series\n",
        "# containing the first value in the list\n",
        "book_titles = book_series_split.str[0]\n",
        "\n",
        "# use the string accessor with indexing to get a series\n",
        "# containing the second value in the list\n",
        "book_authors = book_series_split.str[1]\n",
        "\n",
        "#check result\n",
        "book_authors.tail()"
      ],
      "execution_count": null,
      "outputs": []
    },
    {
      "cell_type": "code",
      "metadata": {
        "id": "CaofkqHEQvul"
      },
      "source": [
        "#check result\n",
        "book_titles.tail()"
      ],
      "execution_count": null,
      "outputs": []
    },
    {
      "cell_type": "markdown",
      "metadata": {
        "id": "euMGvp4zJDPn"
      },
      "source": [
        "## 06.1.2.2 Other Handy Methods\n",
        "These methods work on series containing both string and numeric data.\n"
      ]
    },
    {
      "cell_type": "markdown",
      "metadata": {
        "id": "dLG6a_hxJr6-"
      },
      "source": [
        "### Value Counts: `.value_counts()`\n",
        "This method returns a series where each unique value in the original series is the index, and the associated values represent the number of times that value occurred in the original series. By default, the series returned by value_counts is sorted in descending order (largest first).  "
      ]
    },
    {
      "cell_type": "code",
      "metadata": {
        "id": "qTVhTiE-J0s2"
      },
      "source": [
        "book_authors.value_counts().head()"
      ],
      "execution_count": null,
      "outputs": []
    },
    {
      "cell_type": "markdown",
      "metadata": {
        "id": "W3ZR7PM8KFom"
      },
      "source": [
        "### Unique Values: `.unique()`\n",
        "This method returns an array (a structure similar to a list and a series) that contains all of the unique values in a series."
      ]
    },
    {
      "cell_type": "code",
      "metadata": {
        "id": "82WXKWpUKOCe"
      },
      "source": [
        "book_authors.unique()"
      ],
      "execution_count": null,
      "outputs": []
    },
    {
      "cell_type": "markdown",
      "metadata": {
        "id": "MR4QefyZMnVm"
      },
      "source": [
        "### Is in Object: `.isin()`\n",
        "If we are looking to identify which elements in a series contain some values in a set of values, we can use `.isin()`. In this case, looking at the example will help you see what it does.  "
      ]
    },
    {
      "cell_type": "code",
      "metadata": {
        "id": "MGGGTbpMM9xr"
      },
      "source": [
        "author_list = ['Antoine de Saint-Exupéry', 'Cao Xueqin', 'C. S. Lewis']\n",
        "\n",
        "book_authors.isin(author_list).head()"
      ],
      "execution_count": null,
      "outputs": []
    },
    {
      "cell_type": "markdown",
      "metadata": {
        "id": "lCgyumL4OIbG"
      },
      "source": [
        "What we've done above is generate a boolean mask where each True indicates that the series value was found somewhere in the list we supplied. This method can be used with other objects that are list-like, such as another series.  "
      ]
    },
    {
      "cell_type": "markdown",
      "metadata": {
        "id": "PxPxFakYPQZW"
      },
      "source": [
        "## 06.1.2.3 Some Demonstrations"
      ]
    },
    {
      "cell_type": "markdown",
      "metadata": {
        "id": "rZJ-bMz9PU42"
      },
      "source": [
        "What's the shortest title of the 50 best-selling books?"
      ]
    },
    {
      "cell_type": "code",
      "metadata": {
        "id": "ZNl6iNGDPfK9"
      },
      "source": [
        "# find the minimum book title length\n",
        "book_titles.str.len().min()"
      ],
      "execution_count": null,
      "outputs": []
    },
    {
      "cell_type": "code",
      "metadata": {
        "id": "x9SV4n3vP8-d"
      },
      "source": [
        "# use a boolean mask to find the book title that is 5 characters long\n",
        "book_titles.loc[book_titles.str.len() == 5]"
      ],
      "execution_count": null,
      "outputs": []
    },
    {
      "cell_type": "markdown",
      "metadata": {
        "id": "O8GBLTxHQVgr"
      },
      "source": [
        "What is the longest title of the 50 best-selling books?\n"
      ]
    },
    {
      "cell_type": "code",
      "metadata": {
        "id": "sA8FTiA1QajV"
      },
      "source": [
        "# find the maximum book title length\n",
        "book_titles.str.len().max()"
      ],
      "execution_count": null,
      "outputs": []
    },
    {
      "cell_type": "code",
      "metadata": {
        "id": "X-51rgKXQicl"
      },
      "source": [
        "# use a boolean mask to find the book title that is 5 characters long\n",
        "book_titles.loc[book_titles.str.len() == 55]"
      ],
      "execution_count": null,
      "outputs": []
    },
    {
      "cell_type": "markdown",
      "metadata": {
        "id": "ZZAD7h-kQsdd"
      },
      "source": [
        "These appear to be long titles because they contain both the original title and an English translation of the title. Let's find the longest English title."
      ]
    },
    {
      "cell_type": "code",
      "metadata": {
        "id": "6hFtE2bGQ5wF"
      },
      "source": [
        "# I want to split on the ' (' character, but ( is a special character in Python,\n",
        "# so I have to add the \\ before it here. \n",
        "titles_split  = book_titles.str.split(' \\(')\n",
        "english_titles = titles_split.str[0]\n",
        "\n",
        "# find the length of the longest English title\n",
        "english_titles.str.len().max()\n",
        "\n",
        "# create a boolean mask to find the row with a title 44 characters in length\n",
        "english_titles.loc[english_titles.str.len() == 44]"
      ],
      "execution_count": null,
      "outputs": []
    },
    {
      "cell_type": "markdown",
      "metadata": {
        "id": "IFh8TPCRUf8L"
      },
      "source": [
        "You can chain together methods, including string methods, but you'll need to use the string accessor `.str` each time you call a string method. Don't go overboard with chaining your methods. It makes your code hard to read, and hard to troublshoot."
      ]
    },
    {
      "cell_type": "code",
      "metadata": {
        "id": "0ejkiaS7TfQt"
      },
      "source": [
        "# start with the first method then follow the chain toward the end to figure out \n",
        "# what this is doing.\n",
        "original_titles = titles_split.str[1].str.replace('\\)', '').sort_values().head(10)"
      ],
      "execution_count": null,
      "outputs": []
    }
  ]
}