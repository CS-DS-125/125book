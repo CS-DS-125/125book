{
  "nbformat": 4,
  "nbformat_minor": 0,
  "metadata": {
    "kernelspec": {
      "display_name": "Python 3",
      "language": "python",
      "name": "python3"
    },
    "language_info": {
      "codemirror_mode": {
        "name": "ipython",
        "version": 3
      },
      "file_extension": ".py",
      "mimetype": "text/x-python",
      "name": "python",
      "nbconvert_exporter": "python",
      "pygments_lexer": "ipython3",
      "version": "3.6.8"
    },
    "colab": {
      "name": "06.1.1.0 Series - Introduction.ipynb",
      "provenance": [],
      "collapsed_sections": []
    }
  },
  "cells": [
    {
      "cell_type": "markdown",
      "metadata": {
        "id": "D0Qck8cX6c0i"
      },
      "source": [
        "# Series: Introduction\n",
        "\n",
        "Author: Brad E. Sheese\n",
        "\n",
        "---\n",
        "  \n"
      ]
    },
    {
      "cell_type": "markdown",
      "metadata": {
        "id": "rDKb69fpxQkM"
      },
      "source": [
        "## Introduction\n",
        "\n",
        "Up to this point we've dealt with data inside either strings or lists. Putting data into a list allows us to do things with the data like:\n",
        "* sort it to change the order of the items\n",
        "* index it to get a single item\n",
        "* slice it to get some subset of items\n",
        "\n",
        "We are now going to start working with a Python library called Pandas. Pandas is a library that allows us to work with lots of data in some pretty sophisticated ways. The first part of Pandas that we are going to learn is the Pandas series. A Pandas series has a lot in common with a Python list and, in it's most basic form, a series will behave almost exactly like a list. Like a list, a series can hold data of different types, it can be indexed, and it can be sliced. However, a series can do some thing a list can't. We will explore a few of these things in this course, but there's also a lot we are not going to cover. If you get interested, [the Pandas documentation covers the wide variety of methods available for Series objects](https://pandas.pydata.org/pandas-docs/stable/reference/api/pandas.Series.html). \n"
      ]
    },
    {
      "cell_type": "markdown",
      "metadata": {
        "id": "hc9KXOWPxbrs"
      },
      "source": [
        "## 6.1.1.0 Installing and Importing Pandas\n",
        "Pandas is not part of Python's standard library. Before we can use the Pandas library,  we may need to install it. If you are using Google Colab or an Anaconda installation, Pandas has already been installed and you can skip to the import below. Otherwise, Pandas instructions for installing Pandas [can be found here](https://pandas.pydata.org/pandas-docs/stable/getting_started/install.html).   \n",
        "\n",
        "\n",
        "Once Pandas has been installed, we can import it. By convention, Pandas is typically imported with the alias `pd`."
      ]
    },
    {
      "cell_type": "code",
      "metadata": {
        "id": "5guYFg7QxTTU"
      },
      "source": [
        "import pandas as pd"
      ],
      "execution_count": null,
      "outputs": []
    },
    {
      "cell_type": "markdown",
      "metadata": {
        "id": "nttwIS8K8XcL"
      },
      "source": [
        "## 6.1.1.1 Creating and Copying Series"
      ]
    },
    {
      "cell_type": "markdown",
      "metadata": {
        "id": "Xd40gseKn3Jd"
      },
      "source": [
        "### Creating Empty Series\n",
        "\n",
        "To create a new series, we can use the `pd.Series` method. When we create the series, Pandas would like to know what kind of data we intend to store in the series. We could specify integers, `dtype='Int64'`, strings, `'dtype='string'`, and [other things](https://pandas.pydata.org/pandas-docs/stable/user_guide/basics.html#basics-dtypes). If we want to mix data types within the series, we can specify 'object' as the data type using the `dtype='object'` argument.\n"
      ]
    },
    {
      "cell_type": "code",
      "metadata": {
        "id": "qJ0GsfJDzt-t"
      },
      "source": [
        "# examples of creating empty series objects\n",
        "my_integer_series = pd.Series(dtype='int64')\n",
        "my_string_series = pd.Series(dtype='string')\n",
        "my_mixed_series = pd.Series(dtype='object')\n",
        "\n",
        "# check the empty series objects\n",
        "series_list = [my_integer_series, my_string_series, my_mixed_series]\n",
        "for s in series_list:\n",
        "  print(f'{s}, length = {len(s)} ')"
      ],
      "execution_count": null,
      "outputs": []
    },
    {
      "cell_type": "markdown",
      "metadata": {
        "id": "QkAHxqic5sT7"
      },
      "source": [
        "### Creating Series from Lists\n",
        "\n",
        "More commonly, we won't start with empty series, instead we will create a series using existing data from some other kind of object. If we have the data in some form and want to put it into a series, we again use `pd.Series` but we do so using the data source as an argument. Below we create series from lists."
      ]
    },
    {
      "cell_type": "code",
      "metadata": {
        "id": "ixvnl1YV9OPE"
      },
      "source": [
        "integer_list = [11, 12, 13, 14, 15]\n",
        "string_list = ['apple', 'banana', 'cherry', 'daikon', 'eggplant']\n",
        "mixed_list = integer_list + string_list \n",
        "\n",
        "# examples of creating series objects from lists\n",
        "my_integer_series = pd.Series(integer_list, dtype='int64')\n",
        "my_string_series = pd.Series(string_list, dtype='string')\n",
        "my_mixed_series = pd.Series(mixed_list, dtype='object')\n",
        "\n",
        "# check the series objects\n",
        "series_list = [my_integer_series, my_string_series, my_mixed_series]\n",
        "for s in series_list:\n",
        "  print(f'{s}, length = {len(s)} ')\n",
        "  print()\n"
      ],
      "execution_count": null,
      "outputs": []
    },
    {
      "cell_type": "markdown",
      "metadata": {
        "id": "_v7wPgFX-pXa"
      },
      "source": [
        "When we create a series from existing data we do not have to specify the datatype using the `dtype` argument. If we exclude the argument, Pandas will attempt to infer the dtype of the series. Often this automatic inference works as you'd like, but there are occasions where the data you are building the series from cause some complications. We will return this issue in a bit when we discuss dataframes.  "
      ]
    },
    {
      "cell_type": "code",
      "metadata": {
        "id": "0jDoTPbv-pva"
      },
      "source": [
        "# examples of creating series objects from lists without specifying the data type\n",
        "my_integer_series = pd.Series(integer_list)\n",
        "my_string_series = pd.Series(string_list)\n",
        "my_mixed_series = pd.Series(mixed_list)\n",
        "\n",
        "# check the series objects\n",
        "series_list = [my_integer_series, my_string_series, my_mixed_series]\n",
        "for s in series_list:\n",
        "  print(f'{s}, length = {len(s)} ')\n",
        "  print()"
      ],
      "execution_count": null,
      "outputs": []
    },
    {
      "cell_type": "markdown",
      "metadata": {
        "id": "RbZqMkCzu_NU"
      },
      "source": [
        "### Creating a Series with an Index\n",
        "So far we've created series that have specified values, but no specified index. When we do this, Pandas assigns a range object to the index that generates integer values for each row, and we wind up with something that has an index much like a list. \n",
        "\n",
        "We can specify an index using an optional argument when we construct the series. In the code below,  we are using two lists to specify the values and the index. "
      ]
    },
    {
      "cell_type": "code",
      "metadata": {
        "id": "C0nEsgpcu2Ht"
      },
      "source": [
        "fruit_name_list = ['apple', 'banana', 'cherry', 'dates', 'elderberry']\n",
        "fruit_weight_list = [180, 120, 15, 650, 450]\n",
        "\n",
        "my_fruit_series = pd.Series(data=fruit_weight_list, index=fruit_name_list)\n",
        "my_fruit_series"
      ],
      "execution_count": null,
      "outputs": []
    },
    {
      "cell_type": "markdown",
      "metadata": {
        "id": "bZe5-YBLBYkp"
      },
      "source": [
        "### Copying Series\n",
        "Making a copy of a series is much like making a copy of a list. If you want to duplicate a list, you need to be careful not to accidentally make an alias that refers to the same list object instead of making an entirely new object. The code below does not make a copy of integer_list, it only makes an alias:"
      ]
    },
    {
      "cell_type": "code",
      "metadata": {
        "id": "GE955BhHB8os"
      },
      "source": [
        "# only makes an alias\n",
        "alias_not_a_new_list = integer_list # here we have essentially just a second name\n",
        "alias_not_a_new_list is integer_list # this checks to see if they are the same object"
      ],
      "execution_count": null,
      "outputs": []
    },
    {
      "cell_type": "markdown",
      "metadata": {
        "id": "RNZJeuLnwp82"
      },
      "source": [
        "The code makes a copy of integer_list:"
      ]
    },
    {
      "cell_type": "code",
      "metadata": {
        "id": "pKWElOpOCSOJ"
      },
      "source": [
        "# makes a copy\n",
        "new_list_not_an_alias = integer_list.copy() # notice we've added the copy method\n",
        "new_list_not_an_alias is integer_list # this check to see if they are the same object"
      ],
      "execution_count": null,
      "outputs": []
    },
    {
      "cell_type": "markdown",
      "metadata": {
        "id": "O1Io5XWRw09K"
      },
      "source": [
        "This code shows that the new list and the original list do contain the same values, but they are not the same object:"
      ]
    },
    {
      "cell_type": "code",
      "metadata": {
        "id": "StgdVDpsCiOF"
      },
      "source": [
        "# contain the same values\n",
        "print(alias_not_a_new_list == new_list_not_an_alias)\n",
        "\n",
        "# not the same object!\n",
        "print(alias_not_a_new_list is new_list_not_an_alias)"
      ],
      "execution_count": null,
      "outputs": []
    },
    {
      "cell_type": "markdown",
      "metadata": {
        "id": "c08gRR5t0-c2"
      },
      "source": [
        "All of the above also applies when it comes to series. We can make an alias for the original or a copy of it. Out in the real world, we often would not want to make a copy of the series unless we have too. Doing so would waste resources and potentially slow things down. \n",
        "\n"
      ]
    },
    {
      "cell_type": "code",
      "metadata": {
        "id": "MM2nCLl_EBNG"
      },
      "source": [
        "# create a new series\n",
        "fruit_name_list = ['apple', 'banana', 'cherry', 'dates', 'elderberry']\n",
        "fruit_weight_list = [180, 120, 15, 650, 450]\n",
        "\n",
        "my_fruit_series = pd.Series(data=fruit_weight_list, index=fruit_name_list)\n",
        "my_fruit_series\n",
        "\n",
        "# this does not make a copy of the series, only an alias\n",
        "alias_not_a_new_series = my_fruit_series\n",
        "\n",
        "# this makes a copy of the series\n",
        "new_series_not_an_alias = my_fruit_series.copy()"
      ],
      "execution_count": null,
      "outputs": []
    },
    {
      "cell_type": "code",
      "metadata": {
        "id": "81APg9FmEj-w"
      },
      "source": [
        "# they contain the same values, note: ignore how this comparison code works for now\n",
        "print(alias_not_a_new_series.equals(new_series_not_an_alias))\n",
        "\n",
        "# but they are not the same object\n",
        "print(alias_not_a_new_series is new_series_not_an_alias)\n",
        "\n",
        "# while these two are the same object\n",
        "print(alias_not_a_new_series is my_fruit_series)"
      ],
      "execution_count": null,
      "outputs": []
    },
    {
      "cell_type": "markdown",
      "metadata": {
        "id": "YN-VzrQ59JrJ"
      },
      "source": [
        "What we will often do instead, is make a special kind of alias for our series object that just shows us what we want to see without making a copy or changing the underlying series. Modifying how we look at a series, but not modifying the series itself, is called creating a 'view'.\n",
        "\n",
        "Many of the methods discussed in this section create a view into the series object without modifying it. For example, I might create a view into my series object that only displayed values in the series that are greater than 10. This concept is going to feel a bit fuzzy for a while, but it will get better as we work through the exercises. "
      ]
    },
    {
      "cell_type": "markdown",
      "metadata": {
        "id": "dzn5v2R68Qba"
      },
      "source": [
        "## 6.1.1.2 Examining Series\n",
        "\n",
        "We will often be working with series that contain a large number of values. If we have a series with 50000 values in it and we tell Python to print every value, we are going to have too much to deal with. As a convenience, large series are usually displayed with values in the middle ommitted. \n",
        "\n"
      ]
    },
    {
      "cell_type": "code",
      "metadata": {
        "id": "IPAd_zXX9IRw"
      },
      "source": [
        "# create a big list of random integers\n",
        "import random\n",
        "big_list = []\n",
        "for v in range(50000):\n",
        " big_list.append(random.randint(1,100))\n",
        "\n",
        "# convert the big list to a big series\n",
        "big_series = pd.Series(data = big_list, dtype='int64')\n",
        "len(big_series)"
      ],
      "execution_count": null,
      "outputs": []
    },
    {
      "cell_type": "code",
      "metadata": {
        "id": "0vG_k5tS9yYI"
      },
      "source": [
        "# examine the big series; notice the truncation of the middle\n",
        "big_series"
      ],
      "execution_count": null,
      "outputs": []
    },
    {
      "cell_type": "markdown",
      "metadata": {
        "id": "GDKNYHTD-gn4"
      },
      "source": [
        "We can use the method `.head()` or `.tail()` to specifically look at the beginning or end of the series."
      ]
    },
    {
      "cell_type": "code",
      "metadata": {
        "id": "efE7bIVP-wZd"
      },
      "source": [
        "big_series.head()"
      ],
      "execution_count": null,
      "outputs": []
    },
    {
      "cell_type": "code",
      "metadata": {
        "id": "Q0on05Iv-zNY"
      },
      "source": [
        "big_series.tail()"
      ],
      "execution_count": null,
      "outputs": []
    },
    {
      "cell_type": "markdown",
      "metadata": {
        "id": "1N1JHWQ2-2mH"
      },
      "source": [
        "Be default, `.head()` and `.tail()` display five labels with their values. This can be modified using an optional argument. "
      ]
    },
    {
      "cell_type": "code",
      "metadata": {
        "id": "XE-YTYG4_Kp7"
      },
      "source": [
        "big_series.head(10)"
      ],
      "execution_count": null,
      "outputs": []
    },
    {
      "cell_type": "code",
      "metadata": {
        "id": "jt3C73_m_Qs3"
      },
      "source": [
        "big_series.tail(3)"
      ],
      "execution_count": null,
      "outputs": []
    },
    {
      "cell_type": "markdown",
      "metadata": {
        "id": "wqwf4B8m1gtA"
      },
      "source": [
        "When working with data, we will often use `.head()` or `.tail()` to simply check that our code is working as intended, much like you would do with `print()` while writing your code."
      ]
    },
    {
      "cell_type": "markdown",
      "metadata": {
        "id": "etF9LIv2Bx7S"
      },
      "source": [
        "## 6.1.1.3 Selecting Data Using the Index\n",
        "The lists we are used to working with have an index of integer values that start with 0 and increase by one for every value in the list. In contrast, a series has an index that can be anything we like. You can think of it as a second set of values that can be associated with the data in the series. \n",
        "\n",
        "We will refer to the values in the index as labels. We can use the labels to retrieve subsets of data from our series. "
      ]
    },
    {
      "cell_type": "code",
      "metadata": {
        "id": "GPRYfkECBz2J"
      },
      "source": [
        "fruit_name_list = ['apple', 'banana', 'cherry', 'dates', 'elderberry']\n",
        "fruit_weight_list = [180, 120, 15, 650, 450]\n",
        "\n",
        "my_fruit_series = pd.Series(data=fruit_weight_list, index=fruit_name_list)\n",
        "my_fruit_series"
      ],
      "execution_count": null,
      "outputs": []
    },
    {
      "cell_type": "markdown",
      "metadata": {
        "id": "rWipgrsbD2q6"
      },
      "source": [
        "Notice that the datatype of the series is based on the values in the series, not on the values in the index. \n",
        "\n",
        "Now that our series has both an index and values, we can access those values seperately using dot notation. "
      ]
    },
    {
      "cell_type": "code",
      "metadata": {
        "id": "fwnb6lP5D2Hi"
      },
      "source": [
        "my_fruit_series.index"
      ],
      "execution_count": null,
      "outputs": []
    },
    {
      "cell_type": "code",
      "metadata": {
        "id": "Of34YfmIEYky"
      },
      "source": [
        "my_fruit_series.values"
      ],
      "execution_count": null,
      "outputs": []
    },
    {
      "cell_type": "markdown",
      "metadata": {
        "id": "I1dcnvc0GGoN"
      },
      "source": [
        "The values of a series index do not have to be unique. "
      ]
    },
    {
      "cell_type": "code",
      "metadata": {
        "id": "A58kih7WGOrc"
      },
      "source": [
        "# constructs a series with repeated values in index\n",
        "fruit_name_list = ['apple', 'apple', 'apple', 'banana', 'banana']\n",
        "fruit_weight_list = [180, 120, 15, 650, 450]\n",
        "\n",
        "my_fruit_series = pd.Series(data=fruit_weight_list, index=fruit_name_list)\n",
        "my_fruit_series"
      ],
      "execution_count": null,
      "outputs": []
    },
    {
      "cell_type": "markdown",
      "metadata": {
        "id": "LlZrfvGWHTXK"
      },
      "source": [
        "The values in an index also do not need to be sequential, and can be of any data type."
      ]
    },
    {
      "cell_type": "code",
      "metadata": {
        "id": "QYuSDtEvGvMt"
      },
      "source": [
        "# constructs a series with an non-sequential index\n",
        "fruit_name_list = ['banana', 'banana', 'apple', 'apple', 'apple']\n",
        "fruit_weight_list = [180, 120, 15, 650, 450]\n",
        "\n",
        "my_fruit_series = pd.Series(data=fruit_name_list, index=fruit_weight_list)\n",
        "my_fruit_series"
      ],
      "execution_count": null,
      "outputs": []
    },
    {
      "cell_type": "markdown",
      "metadata": {
        "id": "NDdUYrioH_Qj"
      },
      "source": [
        "### Selection by Label Using `.loc[]`\n",
        "To get or update values in a series, we would use square brackets in much the same way we would with lists. However, we are going add the method `.loc` before the brackets to specify that we are indexing or slicing based on the labels in the index. \n"
      ]
    },
    {
      "cell_type": "code",
      "metadata": {
        "id": "VTtTqd2eIP3c"
      },
      "source": [
        "fruit_name_list = ['apple', 'banana', 'cherry', 'dates', 'elderberry']\n",
        "fruit_weight_list = [180, 120, 15, 650, 450]\n",
        "\n",
        "my_fruit_series = pd.Series(data=fruit_weight_list, index=fruit_name_list)\n",
        "my_fruit_series"
      ],
      "execution_count": null,
      "outputs": []
    },
    {
      "cell_type": "code",
      "metadata": {
        "id": "RgDeTmzH84M7"
      },
      "source": [
        "my_fruit_series.loc['apple']"
      ],
      "execution_count": null,
      "outputs": []
    },
    {
      "cell_type": "code",
      "metadata": {
        "id": "oOAfbcWALh0j"
      },
      "source": [
        "my_fruit_series.loc['dates']"
      ],
      "execution_count": null,
      "outputs": []
    },
    {
      "cell_type": "markdown",
      "metadata": {
        "id": "DQYByI58-o0O"
      },
      "source": [
        "We can also used label based slicing to get a range of values."
      ]
    },
    {
      "cell_type": "code",
      "metadata": {
        "id": "CoSmCb6GLm8E"
      },
      "source": [
        "# note the label and value of cherry are included\n",
        "my_fruit_series.loc['apple':'cherry']"
      ],
      "execution_count": null,
      "outputs": []
    },
    {
      "cell_type": "markdown",
      "metadata": {
        "id": "VDsGFCgrWxhF"
      },
      "source": [
        "Note: Unlike normal Python slicing, which would would usually go up to, but not include, the stop value, slicing with `.loc` includes the 'stop' value."
      ]
    },
    {
      "cell_type": "code",
      "metadata": {
        "id": "TXGjYh1bLy4L"
      },
      "source": [
        "# slicing from a label until the end of the series\n",
        "my_fruit_series.loc['cherry':]"
      ],
      "execution_count": null,
      "outputs": []
    },
    {
      "cell_type": "markdown",
      "metadata": {
        "id": "PUnnquqEPXy7"
      },
      "source": [
        "Since multiple values in the series can have the same 'label' or value for the index, indexing will return all values with a label, rather than just one. "
      ]
    },
    {
      "cell_type": "code",
      "metadata": {
        "id": "SspjlA14O30t"
      },
      "source": [
        "# constructs a series with repeated values in index\n",
        "fruit_name_list = ['apple', 'apple', 'apple', 'banana', 'banana']\n",
        "fruit_weight_list = [180, 120, 15, 650, 450]\n",
        "\n",
        "my_fruit_series = pd.Series(data=fruit_weight_list, index=fruit_name_list)\n",
        "my_fruit_series.loc['apple']"
      ],
      "execution_count": null,
      "outputs": []
    },
    {
      "cell_type": "markdown",
      "metadata": {
        "id": "zCvDoFo7OOek"
      },
      "source": [
        "### Selection by Position Using `.iloc[]`\n",
        "\n",
        "If you want to ignore the labels in the index and select values based on position, in the same way you do with a Python list, you can use 'implicit' indexing with `.iloc`. \n",
        "\n",
        "Note: unlike `.loc`, slicing with `.iloc` works just like it does in python lists and strings; the stop value is not included."
      ]
    },
    {
      "cell_type": "code",
      "metadata": {
        "id": "DSfBTiPRPy3T"
      },
      "source": [
        "fruit_name_list = ['apple', 'banana', 'cherry', 'dates', 'elderberry']\n",
        "fruit_weight_list = [180, 120, 15, 650, 450]\n",
        "\n",
        "my_fruit_series = pd.Series(data=fruit_weight_list, index=fruit_name_list)\n",
        "\n",
        "my_fruit_series.iloc[1:3]"
      ],
      "execution_count": null,
      "outputs": []
    },
    {
      "cell_type": "markdown",
      "metadata": {
        "id": "0K_hds3DP8Ez"
      },
      "source": [
        "We can't do negative indexing using `.loc`, since its looking for labels, but we can do negative indexing with `.iloc`. "
      ]
    },
    {
      "cell_type": "code",
      "metadata": {
        "id": "rQaewYhtQR56"
      },
      "source": [
        "fruit_name_list = ['apple', 'banana', 'cherry', 'dates', 'elderberry']\n",
        "fruit_weight_list = [180, 120, 15, 650, 450]\n",
        "\n",
        "my_fruit_series = pd.Series(data=fruit_weight_list, index=fruit_name_list)\n",
        "\n",
        "my_fruit_series.iloc[-4:-1]"
      ],
      "execution_count": null,
      "outputs": []
    },
    {
      "cell_type": "markdown",
      "metadata": {
        "id": "Huog5ti9RTO7"
      },
      "source": [
        "We are going to spend a lot of time in this class asking Pandas to look at a series and identify some subset of values that are associated with a particular label or set of labels, so `.loc` will usually suffice. We will rarely use implicit indexing, so we are not going to practice it. However, it's important you know that it exists and that you recognize that when we use `.loc` we are relying on labels in the index rather than positions. \n",
        "\n"
      ]
    },
    {
      "cell_type": "markdown",
      "metadata": {
        "id": "oAnjbE8MZx25"
      },
      "source": [
        "### Selection by Condition Using Booleans"
      ]
    },
    {
      "cell_type": "markdown",
      "metadata": {
        "id": "QH_xAoeq0LCh"
      },
      "source": [
        "When we use logical operators with a series, we get back a series full of Boolean values. The code below produces a series of Boolean values where for each element in the original series"
      ]
    },
    {
      "cell_type": "code",
      "metadata": {
        "id": "0rsC88-NaD6Z"
      },
      "source": [
        "fruit_name_list = ['apple', 'banana', 'cherry', 'dates', 'elderberry']\n",
        "fruit_weight_list = [180, 120, 15, 45, 75]\n",
        "\n",
        "my_fruit_series = pd.Series(data=fruit_weight_list, index=fruit_name_list)\n",
        "\n",
        "my_fruit_series < 100"
      ],
      "execution_count": null,
      "outputs": []
    },
    {
      "cell_type": "code",
      "metadata": {
        "id": "fxV06zJAaq7D"
      },
      "source": [
        "my_fruit_series == 45"
      ],
      "execution_count": null,
      "outputs": []
    },
    {
      "cell_type": "code",
      "metadata": {
        "id": "1vccdrRAaycx"
      },
      "source": [
        "my_fruit_series >= 100"
      ],
      "execution_count": null,
      "outputs": []
    },
    {
      "cell_type": "markdown",
      "metadata": {
        "id": "h4pwAAZLa3eA"
      },
      "source": [
        "These series of booleans can be used as a mask to select specific values that meet a condition. We can do this by using the mask as an index. "
      ]
    },
    {
      "cell_type": "code",
      "metadata": {
        "id": "vA6ICvlVbDbp"
      },
      "source": [
        "# create the boolean mask and assign to a variable\n",
        "heavy_fruit_mask = (my_fruit_series >= 100)\n",
        "\n",
        "# use the mask variable to index into the series\n",
        "my_fruit_series.loc[heavy_fruit_mask]"
      ],
      "execution_count": null,
      "outputs": []
    },
    {
      "cell_type": "markdown",
      "metadata": {
        "id": "Eui87nIMbcbB"
      },
      "source": [
        "We will be doing a lot of Boolean masking in this course. At some points, we will be combining three or four Boolean masks to select some particular subset of data. All of this can be done in a single line of code, but I am going to ask you to do it in multiple steps to help with troubleshooting your code. "
      ]
    },
    {
      "cell_type": "code",
      "metadata": {
        "id": "JWMGqD9OcEN8"
      },
      "source": [
        "# boolean masking done in a single step\n",
        "my_fruit_series.loc[my_fruit_series <= 100]"
      ],
      "execution_count": null,
      "outputs": []
    },
    {
      "cell_type": "code",
      "metadata": {
        "id": "czMKxP5wb9IZ"
      },
      "source": [
        "# the same thing done in two steps\n",
        "\n",
        "# step 1: create the boolean mask and assign to a variable\n",
        "light_fruit_mask = (my_fruit_series <= 100)\n",
        "\n",
        "# step2: use the mask variable to index into the series\n",
        "my_fruit_series.loc[light_fruit_mask]"
      ],
      "execution_count": null,
      "outputs": []
    },
    {
      "cell_type": "code",
      "metadata": {
        "id": "fiI1gNnK_prd"
      },
      "source": [
        "# an example using multiple boolean masks\n",
        "\n",
        "# step 1: create the boolean mask and assign to a variable\n",
        "light_fruit_mask = (my_fruit_series <= 20)\n",
        "\n",
        "# step 1: create the boolean mask and assign to a variable\n",
        "heavy_fruit_mask = (my_fruit_series >= 100)\n",
        "\n",
        "# step2: use the mask variable to index into the series\n",
        "# the '|' in the code below substitutes for or, we discuss why more later\n",
        "my_fruit_series.loc[light_fruit_mask | heavy_fruit_mask] "
      ],
      "execution_count": null,
      "outputs": []
    },
    {
      "cell_type": "markdown",
      "metadata": {
        "id": "jm_5g8mh4xTt"
      },
      "source": [
        "## 6.1.1.4 Updating Values and Labels"
      ]
    },
    {
      "cell_type": "markdown",
      "metadata": {
        "id": "jdR_sDvzMUeh"
      },
      "source": [
        "### Updating Values\n",
        "Like a list, a series is mutable, so values can be updated using indexing with `.loc` or `iloc`."
      ]
    },
    {
      "cell_type": "code",
      "metadata": {
        "id": "yKju6eSsJ14j"
      },
      "source": [
        "# update a value based on a label\n",
        "my_fruit_series.loc['cherry'] = 25\n",
        "my_fruit_series"
      ],
      "execution_count": null,
      "outputs": []
    },
    {
      "cell_type": "code",
      "metadata": {
        "id": "BJaP6Hh05PM0"
      },
      "source": [
        "# update a value based on a position\n",
        "my_fruit_series.iloc[2] = 225\n",
        "my_fruit_series"
      ],
      "execution_count": null,
      "outputs": []
    },
    {
      "cell_type": "markdown",
      "metadata": {
        "id": "o6_VwkU35YaG"
      },
      "source": [
        "You can also update multiple values simultaneously."
      ]
    },
    {
      "cell_type": "code",
      "metadata": {
        "id": "c__hcmpIMnkq"
      },
      "source": [
        "# update multiple values based on label\n",
        "my_fruit_series.loc['apple':'cherry'] = [200, 150, 35]\n",
        "my_fruit_series"
      ],
      "execution_count": null,
      "outputs": []
    },
    {
      "cell_type": "code",
      "metadata": {
        "id": "wJ5eyZ5v8Eis"
      },
      "source": [
        "# update multiple values based on position\n",
        "my_fruit_series.iloc[2:] = [300, 400, 500]\n",
        "my_fruit_series"
      ],
      "execution_count": null,
      "outputs": []
    },
    {
      "cell_type": "markdown",
      "metadata": {
        "id": "vm8lb4UEYN_Y"
      },
      "source": [
        "Since multiple values can share the same label in the index, multiple values that share a value can be updated simultaneously."
      ]
    },
    {
      "cell_type": "code",
      "metadata": {
        "id": "ySOeqEQtYDky"
      },
      "source": [
        "# constructs a series with repeated values in index\n",
        "fruit_name_list = ['apple', 'apple', 'apple', 'banana', 'banana']\n",
        "fruit_weight_list = [180, 120, 15, 650, 450]\n",
        "\n",
        "my_fruit_series = pd.Series(data = fruit_weight_list, index = fruit_name_list)\n",
        "my_fruit_series"
      ],
      "execution_count": null,
      "outputs": []
    },
    {
      "cell_type": "code",
      "metadata": {
        "id": "mjEc-I4_9JCV"
      },
      "source": [
        "# updating multiple values with a single assignment\n",
        "my_fruit_series.loc['apple'] = 333\n",
        "my_fruit_series"
      ],
      "execution_count": null,
      "outputs": []
    },
    {
      "cell_type": "markdown",
      "metadata": {
        "id": "LpD0WO0EiV0I"
      },
      "source": [
        "Note: setting or 'updating' variables with `.loc` or `.iloc`, as we have in this section, changes the series directly. We do not need to make a copy of the series to make the change."
      ]
    },
    {
      "cell_type": "markdown",
      "metadata": {
        "id": "m7gKcd1C9l_J"
      },
      "source": [
        "### Updating Index Labels\n",
        "The series index object is not mutable, so we cannot use positional indexing to update a single label within the index. However, we can reassign a list of new values to the index. "
      ]
    },
    {
      "cell_type": "code",
      "metadata": {
        "id": "Gx-jfPKi-zTj"
      },
      "source": [
        "my_fruit_series.index"
      ],
      "execution_count": null,
      "outputs": []
    },
    {
      "cell_type": "code",
      "metadata": {
        "id": "L7JC5ZI5-31b"
      },
      "source": [
        "my_fruit_series.index = ['apple', 'banana', 'cherry', 'dates', 'elderberry']\n",
        "my_fruit_series.index"
      ],
      "execution_count": null,
      "outputs": []
    },
    {
      "cell_type": "markdown",
      "metadata": {
        "id": "liAmAYM_7eWW"
      },
      "source": [
        "## 6.1.1.5 Basic Operations with Series\n",
        "We can update all the values in a series (or just create a view) without using a for loop. Below we have some examples with mathematical operators and with string operations.\n"
      ]
    },
    {
      "cell_type": "markdown",
      "metadata": {
        "id": "7jIEC_A_-E31"
      },
      "source": [
        "### Basic Math Operations\n",
        "If we had a list full of integers and we were interested in adding five to each value in the list, we would need to write a for loop to loop over the list and update each value. This sort of operation is much simpler with a series. "
      ]
    },
    {
      "cell_type": "code",
      "metadata": {
        "id": "DuLktVUF760N"
      },
      "source": [
        "my_fruit_series"
      ],
      "execution_count": null,
      "outputs": []
    },
    {
      "cell_type": "code",
      "metadata": {
        "id": "K2fKPWcN8JhG"
      },
      "source": [
        "my_fruit_series + 5"
      ],
      "execution_count": null,
      "outputs": []
    },
    {
      "cell_type": "code",
      "metadata": {
        "id": "VcCjKDOiTBOz"
      },
      "source": [
        "my_fruit_series - 5"
      ],
      "execution_count": null,
      "outputs": []
    },
    {
      "cell_type": "code",
      "metadata": {
        "id": "EmVZw2uJTDVK"
      },
      "source": [
        "my_fruit_series * 5"
      ],
      "execution_count": null,
      "outputs": []
    },
    {
      "cell_type": "code",
      "metadata": {
        "id": "A6Tlbqf9TFsR"
      },
      "source": [
        "my_fruit_series / 5"
      ],
      "execution_count": null,
      "outputs": []
    },
    {
      "cell_type": "markdown",
      "metadata": {
        "id": "4cRZ5Ie4Jt1a"
      },
      "source": [
        "Important note! In all of the previous examples of operations, we have not actually made any change to the underlying series. The result we are seeing is called a 'view' (see earlier discussion) and is not retained unless we assign it to a variable. If we want to make a lasting alteration of the series, we have to perform the operation and assign the result to a variable."
      ]
    },
    {
      "cell_type": "code",
      "metadata": {
        "id": "haJs78mkjKE5"
      },
      "source": [
        "# this makes a copy, adds five, \n",
        "# and then reassigns the result to the original variable name\n",
        "my_fruit_series = my_fruit_series + 5\n",
        "my_fruit_series"
      ],
      "execution_count": null,
      "outputs": []
    },
    {
      "cell_type": "markdown",
      "metadata": {
        "id": "qj-bKxHUTT9n"
      },
      "source": [
        "### Basic String Operations"
      ]
    },
    {
      "cell_type": "code",
      "metadata": {
        "id": "P58GMz7t89ds"
      },
      "source": [
        "# creates a series with strings as values\n",
        "fruit_name_list = ['banana', 'banana', 'apple', 'apple', 'apple']\n",
        "fruit_weight_list = [180, 120, 15, 650, 450]\n",
        "\n",
        "my_fruit_series = pd.Series(data=fruit_name_list, index=fruit_weight_list)\n",
        "my_fruit_series"
      ],
      "execution_count": null,
      "outputs": []
    },
    {
      "cell_type": "code",
      "metadata": {
        "id": "W912sH7G8_Y1"
      },
      "source": [
        "# creating a view using string concatenation\n",
        "my_fruit_series + ' is a fruit!'"
      ],
      "execution_count": null,
      "outputs": []
    },
    {
      "cell_type": "markdown",
      "metadata": {
        "id": "nSWou5eET2Th"
      },
      "source": [
        "As we saw in the previous section with the basic operations, performing the operations does not change the underlying series. If we want to retain the change we have to reassign the result over the original. "
      ]
    },
    {
      "cell_type": "code",
      "metadata": {
        "id": "rcG_jp8kK2fZ"
      },
      "source": [
        "# this doesn't change anything\n",
        "my_fruit_series + ' is a fruit!'\n",
        "my_fruit_series"
      ],
      "execution_count": null,
      "outputs": []
    },
    {
      "cell_type": "code",
      "metadata": {
        "id": "5c9wmQKgK5ZR"
      },
      "source": [
        "# but this does\n",
        "my_fruit_series = my_fruit_series + ' is a fruit!'\n",
        "my_fruit_series"
      ],
      "execution_count": null,
      "outputs": []
    },
    {
      "cell_type": "markdown",
      "metadata": {
        "id": "bDM6AQkf-U51"
      },
      "source": [
        "## 6.1.1.6 Sorting Series by Index and Value\n",
        "When we have wanted to sort a Python list, we have relied on the `.sort()` list method which works by sorting the list 'in place' and returning None. Sorting a series works much differently, for a few reasons. First, when we are working with a series we can sort on either the index or sort on the values. \n",
        "\n",
        "To sort on the index, we use `.sort_index()`"
      ]
    },
    {
      "cell_type": "code",
      "metadata": {
        "id": "ee8xKU1y-UMl"
      },
      "source": [
        "# sort on the index\n",
        "my_fruit_series.sort_index()"
      ],
      "execution_count": null,
      "outputs": []
    },
    {
      "cell_type": "markdown",
      "metadata": {
        "id": "hZQZiTlU_EzV"
      },
      "source": [
        "To sort on the values, we use `.sort_values()`."
      ]
    },
    {
      "cell_type": "code",
      "metadata": {
        "id": "_HEkLN_C_LS2"
      },
      "source": [
        "# sorting on the values\n",
        "my_fruit_series.sort_values()"
      ],
      "execution_count": null,
      "outputs": []
    },
    {
      "cell_type": "markdown",
      "metadata": {
        "id": "7w_uF_Xx_Tvd"
      },
      "source": [
        "Unlike sorting a list, when you sort a series, the sorting is not done 'in place'. The previous two code cells show the series sorted by index and then sorted by values, but, in both cases, we only created a view, we did not assign the result to a variable and the original series remains in its original order. "
      ]
    },
    {
      "cell_type": "code",
      "metadata": {
        "id": "hxPi7xFwJSK6"
      },
      "source": [
        "# the actual series object was not changed\n",
        "my_fruit_series"
      ],
      "execution_count": null,
      "outputs": []
    },
    {
      "cell_type": "markdown",
      "metadata": {
        "id": "as-NuomsNSjR"
      },
      "source": [
        "If we want to retain the sorted series, we can reassign the result over the original series. "
      ]
    },
    {
      "cell_type": "code",
      "metadata": {
        "id": "YRMCr7oVNfgf"
      },
      "source": [
        "my_fruit_series = my_fruit_series.sort_values()\n",
        "my_fruit_series"
      ],
      "execution_count": null,
      "outputs": []
    },
    {
      "cell_type": "code",
      "metadata": {
        "id": "pyPfTB-sOX4R"
      },
      "source": [
        "my_fruit_series = my_fruit_series.sort_index()\n",
        "my_fruit_series"
      ],
      "execution_count": null,
      "outputs": []
    },
    {
      "cell_type": "markdown",
      "metadata": {
        "id": "E4hCzTbUgItg"
      },
      "source": [
        "Pandas does actually allow for 'in place' sorting. If you want to sort a series 'in place', perhaps because your series is very large and you don't want two copies in memory at the same time, sorting 'in place' can be done using an optional argument with both types of sort that we have covered. However, for the purposes of keeping troubleshooting simple for now, I do not want you to use the 'in place' sorting argument in this class.  "
      ]
    },
    {
      "cell_type": "markdown",
      "metadata": {
        "id": "V7xE6560fVVG"
      },
      "source": [
        "Similar to `.sort()`, both `.sort_index()` and `.sort_values()` have optional arguments to control the direction of the sorting. "
      ]
    },
    {
      "cell_type": "code",
      "metadata": {
        "id": "YgUhCq81ftCH"
      },
      "source": [
        "my_fruit_series = my_fruit_series.sort_index(ascending=False)\n",
        "my_fruit_series"
      ],
      "execution_count": null,
      "outputs": []
    },
    {
      "cell_type": "markdown",
      "metadata": {
        "id": "8jWnjJ7FXyte"
      },
      "source": [
        "## 6.1.1.7 Some Examples of Working with Series"
      ]
    },
    {
      "cell_type": "markdown",
      "metadata": {
        "id": "I433m4yXj1Uv"
      },
      "source": [
        "I've grabbed some data on the estimated population of each U.S. State in 2019 [from this website](https://www.infoplease.com/us/states/state-population-by-rank).\n",
        "\n",
        "We are going to put this data into a series and then work with it a bit using the tools we have introduced in this reading. \n"
      ]
    },
    {
      "cell_type": "code",
      "metadata": {
        "id": "qZGBZq7piaru"
      },
      "source": [
        "state_list = ['California', 'Texas', 'Florida', 'New York', 'Illinois',\n",
        "              'Pennsylvania', 'Ohio', 'Georgia', 'North Carolina', 'Michigan',\n",
        "              'New Jersey', 'Virginia', 'Washington', 'Arizona', 'Massachusetts',\n",
        "              'Tennessee', 'Indiana', 'Missouri', 'Maryland', 'Wisconsin',\n",
        "              'Colorado', 'Minnesota', 'South Carolina', 'Alabama', 'Louisiana',\n",
        "              'Kentucky', 'Oregon', 'Oklahoma', 'Connecticut', 'Utah', 'Iowa',\n",
        "              'Nevada', 'Arkansas', 'Mississippi', 'Kansas', 'New Mexico',\n",
        "              'Nebraska', 'West Virginia', 'Idaho', 'Hawaii', 'New Hampshire',\n",
        "              'Maine', 'Montana', 'Rhode Island', 'Delaware', 'South Dakota',\n",
        "              'North Dakota', 'Alaska', 'DC', 'Vermont', 'Wyoming']\n",
        "\n",
        "population_list = [39512223, 28995881, 21477737, 19453561, 12671821, 12801989,\n",
        "                   11689100, 10617423, 10488084, 9986857, 8882190, 8535519,\n",
        "                   7614893, 7278717, 6949503, 6833174, 6732219, 6137428,\n",
        "                   6045680, 5822434, 5758736, 5639632, 5148714, 4903185,\n",
        "                   4648794, 4467673, 4217737, 3956971, 3565287, 3205958,\n",
        "                   3155070, 3080156, 3017825, 2976149, 2913314, 2096829,\n",
        "                   1934408, 1792147, 1787065, 1415872, 1359711, 1344212,\n",
        "                   1068778, 1059361, 973764, 884659, 762062, 731545, 705749,\n",
        "                   623989, 578759,]\n",
        "\n",
        "# create a series from a list of values and a list of labels\n",
        "state_series = pd.Series(data=population_list, index=state_list, dtype='int64')"
      ],
      "execution_count": null,
      "outputs": []
    },
    {
      "cell_type": "code",
      "metadata": {
        "id": "YZ3JIiJKkz7u"
      },
      "source": [
        "# examine with head\n",
        "state_series.head()"
      ],
      "execution_count": null,
      "outputs": []
    },
    {
      "cell_type": "code",
      "metadata": {
        "id": "Il2oL37Bk44t"
      },
      "source": [
        "# examine with tail\n",
        "state_series.tail()"
      ],
      "execution_count": null,
      "outputs": []
    },
    {
      "cell_type": "code",
      "metadata": {
        "id": "r7uqCNGelxm-"
      },
      "source": [
        "# examine values\n",
        "state_series.values"
      ],
      "execution_count": null,
      "outputs": []
    },
    {
      "cell_type": "code",
      "metadata": {
        "id": "7vwdkZhwl0Xx"
      },
      "source": [
        "# examine index\n",
        "state_series.index"
      ],
      "execution_count": null,
      "outputs": []
    },
    {
      "cell_type": "code",
      "metadata": {
        "id": "93XX8s02lOU9"
      },
      "source": [
        "# indexing by label\n",
        "state_series.loc['Hawaii']"
      ],
      "execution_count": null,
      "outputs": []
    },
    {
      "cell_type": "code",
      "metadata": {
        "id": "N2m3jm2kk9Dl"
      },
      "source": [
        "# slicing by label, note! includes stop value\n",
        "state_series.loc['Illinois':'Indiana']"
      ],
      "execution_count": null,
      "outputs": []
    },
    {
      "cell_type": "code",
      "metadata": {
        "id": "uZh-bL7elTQT"
      },
      "source": [
        "# indexing by location\n",
        "state_series.iloc[4]"
      ],
      "execution_count": null,
      "outputs": []
    },
    {
      "cell_type": "code",
      "metadata": {
        "id": "2REaDb0VWFA2"
      },
      "source": [
        "# slicing by location, note! does not include stop value\n",
        "state_series.iloc[1:4]"
      ],
      "execution_count": null,
      "outputs": []
    },
    {
      "cell_type": "code",
      "metadata": {
        "id": "24OIbXY_8S00"
      },
      "source": [
        "# sort by index\n",
        "state_series.sort_index()"
      ],
      "execution_count": null,
      "outputs": []
    },
    {
      "cell_type": "code",
      "metadata": {
        "id": "T8xza34i8bLr"
      },
      "source": [
        "# sort by values\n",
        "state_series.sort_values()"
      ],
      "execution_count": null,
      "outputs": []
    },
    {
      "cell_type": "code",
      "metadata": {
        "id": "mcqi7zBvXJAe"
      },
      "source": [
        "# use .sum() to get the U.S. total population\n",
        "total_population = state_series.sum()\n",
        "total_population"
      ],
      "execution_count": null,
      "outputs": []
    },
    {
      "cell_type": "code",
      "metadata": {
        "id": "kwGkc5_IXY76"
      },
      "source": [
        "# create a new series with the percent of pop. for each state\n",
        "state_series_percent = state_series / total_population\n",
        "state_series_percent.head()"
      ],
      "execution_count": null,
      "outputs": []
    },
    {
      "cell_type": "code",
      "metadata": {
        "id": "DcQKanzbaezu"
      },
      "source": [
        "# convert from decimal to percent and round\n",
        "state_series_100 = state_series_percent * 100\n",
        "state_series_rnd = state_series_100.round(2)\n",
        "state_series_rnd.head()"
      ],
      "execution_count": null,
      "outputs": []
    },
    {
      "cell_type": "code",
      "metadata": {
        "id": "51tJyz5SZd-V"
      },
      "source": [
        "# a little program to find the number of large states that account\n",
        "# for more than 50% of the US population\n",
        "\n",
        "state_series_rnd.sort_values(ascending=False)\n",
        "state_50percent_list = []\n",
        "percent_sum = 0 \n",
        "\n",
        "for state in state_series_rnd.index:\n",
        "  state_50percent_list.append(state)\n",
        "  percent_sum = percent_sum + state_series_rnd[state]\n",
        "  if percent_sum >= 50:\n",
        "    break\n",
        "\n",
        "state_series_rnd[state_50percent_list]\n",
        "\n",
        "print(f'The top {len(state_50percent_list)} U.S. States by population account \\\n",
        "for more than 50% of the U.S. population.')\n",
        "\n",
        "print('These states include:\\n')\n",
        "for state in state_50percent_list:\n",
        "  print(f'{state} with a population of {state_series[state]}.')"
      ],
      "execution_count": null,
      "outputs": []
    }
  ]
}