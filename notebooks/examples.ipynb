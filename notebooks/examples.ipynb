{
 "cells": [
  {
   "cell_type": "markdown",
   "metadata": {},
   "source": [
    "# Example 1\n",
    "\n",
    "Calculate the min, max, sum, average, and median of a list of numbers.\n",
    "\n",
    "#### New concepts\n",
    "- Lists\n",
    "- Indexing\n",
    "- For loops\n",
    "- Conditionals\n",
    "- `f''`-string formatting"
   ]
  },
  {
   "cell_type": "code",
   "execution_count": 1,
   "metadata": {},
   "outputs": [
    {
     "name": "stdout",
     "output_type": "stream",
     "text": [
      "Min: 1  Max: 242  Sum: 624  Average: 78.0  Median: 68.5\n"
     ]
    }
   ],
   "source": [
    "numbers = [2, 135, 84, 53, 242, 8, 1, 99]\n",
    "\n",
    "# initialize min and max to be the first value in the list\n",
    "minval = numbers[0]\n",
    "maxval = numbers[0]\n",
    "# initialize the sum (also used for average) to 0\n",
    "total = 0\n",
    "\n",
    "# iterate over all values, updating min, max, and total as we go\n",
    "for val in numbers:\n",
    "    if val < minval:\n",
    "        minval = val\n",
    "    if val > maxval:\n",
    "        maxval = val\n",
    "    total += val\n",
    "    \n",
    "# calculate the average as the total over the number of values\n",
    "average = total / len(numbers)\n",
    "\n",
    "# find the median by first sorting the list and taking the \"middle\" value\n",
    "# we'll average the two middle values if the list has an even number of elements\n",
    "numbers_inorder = sorted(numbers)\n",
    "middle = int(len(numbers) / 2)\n",
    "if len(numbers) % 2 == 0:\n",
    "    # even\n",
    "    median = (numbers_inorder[middle] + numbers_inorder[middle-1]) / 2\n",
    "else:\n",
    "    median = numbers_inorder[middle]\n",
    "\n",
    "# outout\n",
    "print(f'Min: {minval}  Max: {maxval}  Sum: {total}  Average: {average}  Median: {median}')"
   ]
  },
  {
   "cell_type": "markdown",
   "metadata": {},
   "source": [
    "### Example 1 - Succinct variant (using builtins)\n",
    "\n",
    "#### New concepts\n",
    "- Built-in `min()`, `max()`, `sum()` functions\n",
    "- Libraries, importing\n",
    "- `statistics` library"
   ]
  },
  {
   "cell_type": "code",
   "execution_count": 2,
   "metadata": {},
   "outputs": [
    {
     "name": "stdout",
     "output_type": "stream",
     "text": [
      "Min: 1  Max: 242  Sum: 624  Average: 78  Median: 68.5\n"
     ]
    }
   ],
   "source": [
    "import statistics  # for mean() and median()\n",
    "\n",
    "numbers = [2, 135, 84, 53, 242, 8, 1, 99]\n",
    "\n",
    "# use built-in min(), max(), and sum() functions\n",
    "minval = min(numbers)\n",
    "maxval = max(numbers)\n",
    "total = sum(numbers)\n",
    "\n",
    "# use satistics library for average and median\n",
    "average = statistics.mean(numbers)\n",
    "median = statistics.median(numbers)\n",
    "\n",
    "# outout\n",
    "print(f'Min: {minval}  Max: {maxval}  Sum: {total}  Average: {average}  Median: {median}')"
   ]
  },
  {
   "cell_type": "markdown",
   "metadata": {},
   "source": [
    "# Example 2 - Visualization\n",
    "\n",
    "#### New concepts\n",
    "- Matplotlib plotting\n",
    "- Histograms\n",
    "- Box plots"
   ]
  },
  {
   "cell_type": "code",
   "execution_count": 3,
   "metadata": {},
   "outputs": [
    {
     "data": {
      "text/plain": [
       "{'whiskers': [<matplotlib.lines.Line2D at 0x2b0df2c1d358>,\n",
       "  <matplotlib.lines.Line2D at 0x2b0df2c1d7f0>],\n",
       " 'caps': [<matplotlib.lines.Line2D at 0x2b0df2c1dc18>,\n",
       "  <matplotlib.lines.Line2D at 0x2b0df2c28080>],\n",
       " 'boxes': [<matplotlib.lines.Line2D at 0x2b0df2c1d208>],\n",
       " 'medians': [<matplotlib.lines.Line2D at 0x2b0df2c284a8>],\n",
       " 'fliers': [<matplotlib.lines.Line2D at 0x2b0df2c28cc0>],\n",
       " 'means': [<matplotlib.lines.Line2D at 0x2b0df2c288d0>]}"
      ]
     },
     "execution_count": 3,
     "metadata": {},
     "output_type": "execute_result"
    },
    {
     "data": {
      "image/png": "[encoded data removed]",
      "text/plain": [
       "<Figure size 432x288 with 2 Axes>"
      ]
     },
     "metadata": {},
     "output_type": "display_data"
    }
   ],
   "source": [
    "%matplotlib inline\n",
    "import matplotlib\n",
    "import matplotlib.pyplot as plt\n",
    "\n",
    "numbers = [2, 135, 84, 53, 242, 8, 1, 99]\n",
    "\n",
    "plt.subplot(2,1,1)\n",
    "plt.hist(numbers, bins=20)\n",
    "plt.subplot(2,1,2)\n",
    "plt.boxplot(numbers, showmeans=True, vert=False)"
   ]
  },
  {
   "cell_type": "markdown",
   "metadata": {},
   "source": [
    "# Example 3 - Reading and processing a file\n",
    "\n",
    "Count the number of words in a text file that start with a given number.\n",
    "\n",
    "#### New concepts\n",
    "- Files\n",
    "- String functions (split() and startswith())"
   ]
  },
  {
   "cell_type": "code",
   "execution_count": 4,
   "metadata": {},
   "outputs": [
    {
     "name": "stdout",
     "output_type": "stream",
     "text": [
      "21 words start with 'w'.\n"
     ]
    }
   ],
   "source": [
    "countchar = 'w'\n",
    "\n",
    "file = open(\"atotc_opening.txt\")\n",
    "\n",
    "text = file.read()\n",
    "\n",
    "words = text.split()\n",
    "\n",
    "count = 0\n",
    "for word in words:\n",
    "    if word.startswith(countchar):\n",
    "        count = count + 1\n",
    "\n",
    "file.close()\n",
    "\n",
    "print(f\"{count} words start with '{countchar}'.\")"
   ]
  },
  {
   "cell_type": "markdown",
   "metadata": {},
   "source": [
    "### Example 3 - Succinct variant\n",
    "\n",
    "#### New concepts\n",
    "- `with` statements (context managers)\n",
    "- generator expression (similar to list comprehension)"
   ]
  },
  {
   "cell_type": "code",
   "execution_count": 5,
   "metadata": {},
   "outputs": [
    {
     "name": "stdout",
     "output_type": "stream",
     "text": [
      "21 words start with 'w'.\n"
     ]
    }
   ],
   "source": [
    "countchar = 'w'\n",
    "\n",
    "with open(\"atotc_opening.txt\") as f:\n",
    "    count = sum(word.startswith(countchar) for word in f.read().split())\n",
    "\n",
    "print(f\"{count} words start with '{countchar}'.\")"
   ]
  }
 ],
 "metadata": {
  "kernelspec": {
   "display_name": "Python 3",
   "language": "python",
   "name": "python3"
  },
  "language_info": {
   "codemirror_mode": {
    "name": "ipython",
    "version": 3
   },
   "file_extension": ".py",
   "mimetype": "text/x-python",
   "name": "python",
   "nbconvert_exporter": "python",
   "pygments_lexer": "ipython3",
   "version": "3.6.5"
  }
 },
 "nbformat": 4,
 "nbformat_minor": 2
}
