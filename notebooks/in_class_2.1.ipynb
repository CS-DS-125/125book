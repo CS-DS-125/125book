{
 "cells": [
  {
   "cell_type": "markdown",
   "metadata": {},
   "source": [
    "# In-Class Exercises, Ch. 2, Notebook 1\n",
    "\n",
    "[link to relevant book chapter/sections]\n",
    "\n",
    "Key ideas in these exercises:\n",
    "1. Variables\n",
    "2. Arithmetic operators\n",
    "3. Input statements\n",
    "4. Data types"
   ]
  },
  {
   "cell_type": "markdown",
   "metadata": {},
   "source": [
    "## Currency Conversion\n",
    "\n",
    "In this exercise, you will write a program to help a user convert dollars into other currency values.  We have provided exchange rates from August 17, 2018 and August 17, 2008 for Euro (EUR), Japanese Yen (JPY), and Bitcoin (BTC).  The exchange rates are below.  Execute the cell to create the variables by highlighting it and pressing `CTRL+Enter`.  After that cell is executed, those six variables can be used in any cell below."
   ]
  },
  {
   "cell_type": "code",
   "execution_count": null,
   "metadata": {},
   "outputs": [],
   "source": [
    "USDEUR2008 = 321\n",
    "USDEUR2018 = 123\n",
    "USDJPY2008 = 0.1\n",
    "USDJPY2018 = 1234\n",
    "USDBTC2008 = 0.5\n",
    "USDBTC2018 = 3400\n",
    "print(\"Variables created.\")"
   ]
  },
  {
   "cell_type": "markdown",
   "metadata": {},
   "source": [
    "Using those variables, write a program that will:\n",
    "1. Ask the user to input a number of dollars.\n",
    "2. Convert that number of dollars into each of the currencies above for 2008 and 2018.\n",
    "3. Print each of the six amounts on its own line.\n",
    "\n",
    "Example output:\n",
    "```\n",
    "Please enter a number of dollars: 100\n",
    "\n",
    "1234 dollars in 2008 is 4321 EUR\n",
    "1234 dollars in 2018 is 4321 EUR\n",
    "1234 dollars in 2008 is 4321 JPY\n",
    "1234 dollars in 2018 is 4321 JPY\n",
    "1234 dollars in 2008 is 4321 BTC\n",
    "1234 dollars in 2018 is 4321 BTC\n",
    "```"
   ]
  },
  {
   "cell_type": "code",
   "execution_count": null,
   "metadata": {},
   "outputs": [],
   "source": [
    "# Write your code here"
   ]
  },
  {
   "cell_type": "markdown",
   "metadata": {},
   "source": [
    "## Percent Change Over Time\n",
    "\n",
    "Now write a program that asks the user to input the current exchange rate for Bitcoin (BTC) and then calculates the percent change in that rate since each of the two dates for which we have rates above.\n",
    "\n",
    "Example:\n",
    "```\n",
    "Please enter the current USD to BTC exchange rate: 0.00015\n",
    "\n",
    "The USD-BTC rate has a change of 1234 percent since 2008.\n",
    "The USD-BTC rate has a change of 1234 percent since 2018.\n",
    "```\n",
    "\n",
    "When testing this, you can go lookup the current exchange rate using Google or other sites (e.g.: [Google search](https://www.google.com/search?q=usd+to+btc&ie=utf-8&oe=utf-8))."
   ]
  },
  {
   "cell_type": "code",
   "execution_count": null,
   "metadata": {},
   "outputs": [],
   "source": [
    "# Write your code here"
   ]
  },
  {
   "cell_type": "markdown",
   "metadata": {},
   "source": [
    "## (Optional) Currency Conversion with Year Selection\n",
    "\n",
    "Once you have the above program working successfully, try to write another program that also lets the user select the year for which they want to perform the conversion.  For example, the output would look like:\n",
    "```\n",
    "Please enter a number of dollars: 100\n",
    "Please enter a year (either 2008 or 2018): 2008\n",
    "\n",
    "1234 dollars in 2008 is 4321 EUR\n",
    "1234 dollars in 2008 is 4321 JPY\n",
    "1234 dollars in 2008 is 4321 BTC\n",
    "```\n",
    "\n",
    "In order to do this, your program will have to make a *choice*.  That is, depending on what year the user enters, it will perform one set of calculations or another.  We can accomplish this in code using an *if statement*.  The cell below demonstrates how the if statement works."
   ]
  },
  {
   "cell_type": "code",
   "execution_count": null,
   "metadata": {},
   "outputs": [],
   "source": [
    "x = int(input(\"Please choose your favorite number, as long as it is 4 or 5: \"))\n",
    "if x == 4:\n",
    "    print(\"Hooray!  Good choice.\")\n",
    "if x == 5:\n",
    "    print(\"Not sure about that.\")"
   ]
  },
  {
   "cell_type": "markdown",
   "metadata": {},
   "source": [
    "In Python `if x == 4:` is interpreted similarly to how you read it: if x is equal to 4, then it will execute the following indented line (or multiple indented lines, if there is more than one).  We'll cover this later, but for now note that you have to write that equality check with **two** equal signs.\n",
    "\n",
    "Think about how to use that to solve the problem above.  It can be helpful to say aloud how you want the program to work, like \"If the user enters 2008, then...\""
   ]
  },
  {
   "cell_type": "code",
   "execution_count": null,
   "metadata": {},
   "outputs": [],
   "source": [
    "# Write your code here"
   ]
  },
  {
   "cell_type": "markdown",
   "metadata": {},
   "source": [
    "# Reflection\n",
    "\n",
    "Take one minute to reflect on the reading and in-class work for today's class.  Briefly respond to any of the following prompts that are relevant to you.\n",
    "- Have you found anything interesting, surprsing, or exciting?\n",
    "- Have you felt frustrated by any of the concepts or work?\n",
    "- Roughly how long did you spend outside of class preparing for today?\n",
    "- Do you have any questions about the material?\n",
    "- Do you have any questions about the course?\n",
    "\n",
    "Write your response in the Markdown cell below."
   ]
  },
  {
   "cell_type": "markdown",
   "metadata": {},
   "source": []
  },
  {
   "cell_type": "markdown",
   "metadata": {},
   "source": [
    "When you have finished your reflection, *save* this notebook, then submit it using [something?]."
   ]
  }
 ],
 "metadata": {
  "kernelspec": {
   "display_name": "Python 3",
   "language": "python",
   "name": "python3"
  },
  "language_info": {
   "codemirror_mode": {
    "name": "ipython",
    "version": 3
   },
   "file_extension": ".py",
   "mimetype": "text/x-python",
   "name": "python",
   "nbconvert_exporter": "python",
   "pygments_lexer": "ipython3",
   "version": "3.6.5"
  }
 },
 "nbformat": 4,
 "nbformat_minor": 2
}
