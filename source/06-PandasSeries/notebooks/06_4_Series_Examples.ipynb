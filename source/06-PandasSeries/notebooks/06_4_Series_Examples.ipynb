{
  "nbformat": 4,
  "nbformat_minor": 0,
  "metadata": {
    "kernelspec": {
      "display_name": "Python 3",
      "language": "python",
      "name": "python3"
    },
    "language_info": {
      "codemirror_mode": {
        "name": "ipython",
        "version": 3
      },
      "file_extension": ".py",
      "mimetype": "text/x-python",
      "name": "python",
      "nbconvert_exporter": "python",
      "pygments_lexer": "ipython3",
      "version": "3.6.8"
    },
    "colab": {
      "name": "06.4 Series - Examples.ipynb",
      "provenance": [],
      "collapsed_sections": [],
      "toc_visible": true
    }
  },
  "cells": [
    {
      "cell_type": "markdown",
      "metadata": {
        "id": "D0Qck8cX6c0i"
      },
      "source": [
        "# Series: Examples\n"
      ]
    },
    {
      "cell_type": "markdown",
      "metadata": {
        "id": "I433m4yXj1Uv"
      },
      "source": [
        "I've grabbed some data on the estimated population of each U.S. State in 2019 [from this website](https://www.infoplease.com/us/states/state-population-by-rank).\n",
        "\n",
        "We are going to put this data into a series and then work with it a bit using the tools we have introduced in this reading. \n"
      ]
    },
    {
      "cell_type": "markdown",
      "metadata": {
        "id": "_Evd34HRxJBL"
      },
      "source": [
        "### Creating a Series"
      ]
    },
    {
      "cell_type": "code",
      "metadata": {
        "id": "qZGBZq7piaru",
        "colab": {
          "base_uri": "https://localhost:8080/"
        },
        "outputId": "232335d6-e012-4aab-c5fc-716e32c01092"
      },
      "source": [
        "# import pandas\n",
        "import pandas as pd\n",
        "\n",
        "# lists of state names and populations\n",
        "state_list = ['California', 'Texas', 'Florida', 'New York', 'Illinois',\n",
        "              'Pennsylvania', 'Ohio', 'Georgia', 'North Carolina', 'Michigan',\n",
        "              'New Jersey', 'Virginia', 'Washington', 'Arizona', 'Massachusetts',\n",
        "              'Tennessee', 'Indiana', 'Missouri', 'Maryland', 'Wisconsin',\n",
        "              'Colorado', 'Minnesota', 'South Carolina', 'Alabama', 'Louisiana',\n",
        "              'Kentucky', 'Oregon', 'Oklahoma', 'Connecticut', 'Utah', 'Iowa',\n",
        "              'Nevada', 'Arkansas', 'Mississippi', 'Kansas', 'New Mexico',\n",
        "              'Nebraska', 'West Virginia', 'Idaho', 'Hawaii', 'New Hampshire',\n",
        "              'Maine', 'Montana', 'Rhode Island', 'Delaware', 'South Dakota',\n",
        "              'North Dakota', 'Alaska', 'DC', 'Vermont', 'Wyoming']\n",
        "\n",
        "population_list = [39512223, 28995881, 21477737, 19453561, 12671821, 12801989,\n",
        "                   11689100, 10617423, 10488084, 9986857, 8882190, 8535519,\n",
        "                   7614893, 7278717, 6949503, 6833174, 6732219, 6137428,\n",
        "                   6045680, 5822434, 5758736, 5639632, 5148714, 4903185,\n",
        "                   4648794, 4467673, 4217737, 3956971, 3565287, 3205958,\n",
        "                   3155070, 3080156, 3017825, 2976149, 2913314, 2096829,\n",
        "                   1934408, 1792147, 1787065, 1415872, 1359711, 1344212,\n",
        "                   1068778, 1059361, 973764, 884659, 762062, 731545, 705749,\n",
        "                   623989, 578759,]\n",
        "\n",
        "# create a series from a list of values and a list of labels\n",
        "state_series = pd.Series(data=population_list,\n",
        "                         index=state_list,\n",
        "                         dtype='int64')\n",
        "\n",
        "type(state_series)"
      ],
      "execution_count": null,
      "outputs": [
        {
          "output_type": "execute_result",
          "data": {
            "text/plain": [
              "pandas.core.series.Series"
            ]
          },
          "metadata": {
            "tags": []
          },
          "execution_count": 17
        }
      ]
    },
    {
      "cell_type": "markdown",
      "metadata": {
        "id": "gD_yF4T4xM5S"
      },
      "source": [
        "### Examining a Series"
      ]
    },
    {
      "cell_type": "code",
      "metadata": {
        "colab": {
          "base_uri": "https://localhost:8080/"
        },
        "id": "2yxey6tSxQqK",
        "outputId": "da5c4f29-003a-472b-c62d-6810df507f1d"
      },
      "source": [
        "# examine with head\n",
        "state_series.head()"
      ],
      "execution_count": null,
      "outputs": [
        {
          "output_type": "execute_result",
          "data": {
            "text/plain": [
              "California    39512223\n",
              "Texas         28995881\n",
              "Florida       21477737\n",
              "New York      19453561\n",
              "Illinois      12671821\n",
              "dtype: int64"
            ]
          },
          "metadata": {
            "tags": []
          },
          "execution_count": 18
        }
      ]
    },
    {
      "cell_type": "code",
      "metadata": {
        "id": "Il2oL37Bk44t",
        "colab": {
          "base_uri": "https://localhost:8080/"
        },
        "outputId": "4c2b795d-e671-4a1e-b1f3-436a24eb2352"
      },
      "source": [
        "# examine with tail\n",
        "state_series.tail()"
      ],
      "execution_count": null,
      "outputs": [
        {
          "output_type": "execute_result",
          "data": {
            "text/plain": [
              "North Dakota    762062\n",
              "Alaska          731545\n",
              "DC              705749\n",
              "Vermont         623989\n",
              "Wyoming         578759\n",
              "dtype: int64"
            ]
          },
          "metadata": {
            "tags": []
          },
          "execution_count": 19
        }
      ]
    },
    {
      "cell_type": "code",
      "metadata": {
        "id": "r7uqCNGelxm-",
        "colab": {
          "base_uri": "https://localhost:8080/"
        },
        "outputId": "42d4fce1-1909-448b-e090-10f6f916b37e"
      },
      "source": [
        "# examine values\n",
        "state_series.values"
      ],
      "execution_count": null,
      "outputs": [
        {
          "output_type": "execute_result",
          "data": {
            "text/plain": [
              "array([39512223, 28995881, 21477737, 19453561, 12671821, 12801989,\n",
              "       11689100, 10617423, 10488084,  9986857,  8882190,  8535519,\n",
              "        7614893,  7278717,  6949503,  6833174,  6732219,  6137428,\n",
              "        6045680,  5822434,  5758736,  5639632,  5148714,  4903185,\n",
              "        4648794,  4467673,  4217737,  3956971,  3565287,  3205958,\n",
              "        3155070,  3080156,  3017825,  2976149,  2913314,  2096829,\n",
              "        1934408,  1792147,  1787065,  1415872,  1359711,  1344212,\n",
              "        1068778,  1059361,   973764,   884659,   762062,   731545,\n",
              "         705749,   623989,   578759])"
            ]
          },
          "metadata": {
            "tags": []
          },
          "execution_count": 20
        }
      ]
    },
    {
      "cell_type": "code",
      "metadata": {
        "id": "7vwdkZhwl0Xx",
        "colab": {
          "base_uri": "https://localhost:8080/"
        },
        "outputId": "c8fbbd66-fde6-4472-a3f9-b88392300301"
      },
      "source": [
        "# examine index\n",
        "state_series.index"
      ],
      "execution_count": null,
      "outputs": [
        {
          "output_type": "execute_result",
          "data": {
            "text/plain": [
              "Index(['California', 'Texas', 'Florida', 'New York', 'Illinois',\n",
              "       'Pennsylvania', 'Ohio', 'Georgia', 'North Carolina', 'Michigan',\n",
              "       'New Jersey', 'Virginia', 'Washington', 'Arizona', 'Massachusetts',\n",
              "       'Tennessee', 'Indiana', 'Missouri', 'Maryland', 'Wisconsin', 'Colorado',\n",
              "       'Minnesota', 'South Carolina', 'Alabama', 'Louisiana', 'Kentucky',\n",
              "       'Oregon', 'Oklahoma', 'Connecticut', 'Utah', 'Iowa', 'Nevada',\n",
              "       'Arkansas', 'Mississippi', 'Kansas', 'New Mexico', 'Nebraska',\n",
              "       'West Virginia', 'Idaho', 'Hawaii', 'New Hampshire', 'Maine', 'Montana',\n",
              "       'Rhode Island', 'Delaware', 'South Dakota', 'North Dakota', 'Alaska',\n",
              "       'DC', 'Vermont', 'Wyoming'],\n",
              "      dtype='object')"
            ]
          },
          "metadata": {
            "tags": []
          },
          "execution_count": 21
        }
      ]
    },
    {
      "cell_type": "markdown",
      "metadata": {
        "id": "MLzg5yldxbBh"
      },
      "source": [
        "### Selecting Data in a Series"
      ]
    },
    {
      "cell_type": "code",
      "metadata": {
        "id": "93XX8s02lOU9",
        "colab": {
          "base_uri": "https://localhost:8080/"
        },
        "outputId": "7dff8322-632c-4c38-d203-937b23083f51"
      },
      "source": [
        "# indexing by label\n",
        "state_series.loc['Hawaii']"
      ],
      "execution_count": null,
      "outputs": [
        {
          "output_type": "execute_result",
          "data": {
            "text/plain": [
              "1415872"
            ]
          },
          "metadata": {
            "tags": []
          },
          "execution_count": 22
        }
      ]
    },
    {
      "cell_type": "code",
      "metadata": {
        "id": "N2m3jm2kk9Dl",
        "colab": {
          "base_uri": "https://localhost:8080/"
        },
        "outputId": "7d9094d0-35e4-4e60-a253-6d80a1e36dbe"
      },
      "source": [
        "# slicing by label, note! includes stop value\n",
        "state_series.loc['Illinois':'Indiana']"
      ],
      "execution_count": null,
      "outputs": [
        {
          "output_type": "execute_result",
          "data": {
            "text/plain": [
              "Illinois          12671821\n",
              "Pennsylvania      12801989\n",
              "Ohio              11689100\n",
              "Georgia           10617423\n",
              "North Carolina    10488084\n",
              "Michigan           9986857\n",
              "New Jersey         8882190\n",
              "Virginia           8535519\n",
              "Washington         7614893\n",
              "Arizona            7278717\n",
              "Massachusetts      6949503\n",
              "Tennessee          6833174\n",
              "Indiana            6732219\n",
              "dtype: int64"
            ]
          },
          "metadata": {
            "tags": []
          },
          "execution_count": 23
        }
      ]
    },
    {
      "cell_type": "code",
      "metadata": {
        "id": "uZh-bL7elTQT",
        "colab": {
          "base_uri": "https://localhost:8080/"
        },
        "outputId": "4415fb6d-ab96-4ef7-f3cd-e4ab0cff76d2"
      },
      "source": [
        "# indexing by location\n",
        "state_series.iloc[4]"
      ],
      "execution_count": null,
      "outputs": [
        {
          "output_type": "execute_result",
          "data": {
            "text/plain": [
              "12671821"
            ]
          },
          "metadata": {
            "tags": []
          },
          "execution_count": 24
        }
      ]
    },
    {
      "cell_type": "code",
      "metadata": {
        "id": "2REaDb0VWFA2",
        "colab": {
          "base_uri": "https://localhost:8080/"
        },
        "outputId": "73cef0f0-7526-4015-e0a8-39ca06b9bb09"
      },
      "source": [
        "# slicing by location, note! does not include stop value\n",
        "state_series.iloc[1:4]"
      ],
      "execution_count": null,
      "outputs": [
        {
          "output_type": "execute_result",
          "data": {
            "text/plain": [
              "Texas       28995881\n",
              "Florida     21477737\n",
              "New York    19453561\n",
              "dtype: int64"
            ]
          },
          "metadata": {
            "tags": []
          },
          "execution_count": 25
        }
      ]
    },
    {
      "cell_type": "markdown",
      "metadata": {
        "id": "yooj_LBnxgob"
      },
      "source": [
        "### Sorting a Series"
      ]
    },
    {
      "cell_type": "code",
      "metadata": {
        "id": "24OIbXY_8S00",
        "colab": {
          "base_uri": "https://localhost:8080/"
        },
        "outputId": "810bafd3-e2f6-4cfa-d333-ba250d904879"
      },
      "source": [
        "# sort by index\n",
        "state_series.sort_index().head()"
      ],
      "execution_count": null,
      "outputs": [
        {
          "output_type": "execute_result",
          "data": {
            "text/plain": [
              "Alabama        4903185\n",
              "Alaska          731545\n",
              "Arizona        7278717\n",
              "Arkansas       3017825\n",
              "California    39512223\n",
              "dtype: int64"
            ]
          },
          "metadata": {
            "tags": []
          },
          "execution_count": 26
        }
      ]
    },
    {
      "cell_type": "code",
      "metadata": {
        "id": "T8xza34i8bLr",
        "colab": {
          "base_uri": "https://localhost:8080/"
        },
        "outputId": "946e219a-5102-4ab1-b1e9-7df5e3949861"
      },
      "source": [
        "# sort by values\n",
        "state_series.sort_values().head()"
      ],
      "execution_count": null,
      "outputs": [
        {
          "output_type": "execute_result",
          "data": {
            "text/plain": [
              "Wyoming         578759\n",
              "Vermont         623989\n",
              "DC              705749\n",
              "Alaska          731545\n",
              "North Dakota    762062\n",
              "dtype: int64"
            ]
          },
          "metadata": {
            "tags": []
          },
          "execution_count": 27
        }
      ]
    },
    {
      "cell_type": "markdown",
      "metadata": {
        "id": "11BYwB4_xloT"
      },
      "source": [
        "### Basic Operations with a Series"
      ]
    },
    {
      "cell_type": "code",
      "metadata": {
        "id": "mcqi7zBvXJAe",
        "colab": {
          "base_uri": "https://localhost:8080/"
        },
        "outputId": "feb3c400-a568-4070-df31-b8de40e3c8b6"
      },
      "source": [
        "# use .sum() to get the U.S. total population\n",
        "total_population = state_series.sum()\n",
        "total_population"
      ],
      "execution_count": null,
      "outputs": [
        {
          "output_type": "execute_result",
          "data": {
            "text/plain": [
              "328300544"
            ]
          },
          "metadata": {
            "tags": []
          },
          "execution_count": 28
        }
      ]
    },
    {
      "cell_type": "code",
      "metadata": {
        "id": "kwGkc5_IXY76",
        "colab": {
          "base_uri": "https://localhost:8080/"
        },
        "outputId": "d0f1f4b0-d7e6-4859-9770-1cb1f846028b"
      },
      "source": [
        "# create a new series with the percent of pop. for each state\n",
        "state_series_percent = state_series / total_population\n",
        "state_series_percent.head()"
      ],
      "execution_count": null,
      "outputs": [
        {
          "output_type": "execute_result",
          "data": {
            "text/plain": [
              "California    0.120354\n",
              "Texas         0.088321\n",
              "Florida       0.065421\n",
              "New York      0.059255\n",
              "Illinois      0.038598\n",
              "dtype: float64"
            ]
          },
          "metadata": {
            "tags": []
          },
          "execution_count": 29
        }
      ]
    },
    {
      "cell_type": "code",
      "metadata": {
        "id": "DcQKanzbaezu",
        "colab": {
          "base_uri": "https://localhost:8080/"
        },
        "outputId": "24c72f55-3eeb-4dbd-b982-1bd158d9cb72"
      },
      "source": [
        "# convert from decimal to percent and round\n",
        "state_series_100 = state_series_percent * 100\n",
        "state_series_rnd = state_series_100.round(2)\n",
        "state_series_rnd.head()"
      ],
      "execution_count": null,
      "outputs": [
        {
          "output_type": "execute_result",
          "data": {
            "text/plain": [
              "California    12.04\n",
              "Texas          8.83\n",
              "Florida        6.54\n",
              "New York       5.93\n",
              "Illinois       3.86\n",
              "dtype: float64"
            ]
          },
          "metadata": {
            "tags": []
          },
          "execution_count": 30
        }
      ]
    },
    {
      "cell_type": "markdown",
      "metadata": {
        "id": "VKNqf1ulxrAQ"
      },
      "source": [
        "### Small Program with Series"
      ]
    },
    {
      "cell_type": "code",
      "metadata": {
        "id": "51tJyz5SZd-V",
        "colab": {
          "base_uri": "https://localhost:8080/"
        },
        "outputId": "2b081f89-3475-4a16-e714-fa13dfc7f093"
      },
      "source": [
        "# a little program to find the number of large states that account\n",
        "# for more than 50% of the US population\n",
        "\n",
        "state_series_rnd.sort_values(ascending=False)\n",
        "state_50percent_list = []\n",
        "percent_sum = 0 \n",
        "\n",
        "for state in state_series_rnd.index:\n",
        "  state_50percent_list.append(state)\n",
        "  percent_sum = percent_sum + state_series_rnd[state]\n",
        "  if percent_sum >= 50:\n",
        "    break\n",
        "\n",
        "state_series_rnd[state_50percent_list]\n",
        "\n",
        "print(f'The top {len(state_50percent_list)} U.S. States by population account \\\n",
        "for more than 50% of the U.S. population.')\n",
        "\n",
        "print('These states include:\\n')\n",
        "for state in state_50percent_list:\n",
        "  print(f'{state} with a population of {state_series[state]}.')"
      ],
      "execution_count": null,
      "outputs": [
        {
          "output_type": "stream",
          "text": [
            "The top 9 U.S. States by population account for more than 50% of the U.S. population.\n",
            "These states include:\n",
            "\n",
            "California with a population of 39512223.\n",
            "Texas with a population of 28995881.\n",
            "Florida with a population of 21477737.\n",
            "New York with a population of 19453561.\n",
            "Illinois with a population of 12671821.\n",
            "Pennsylvania with a population of 12801989.\n",
            "Ohio with a population of 11689100.\n",
            "Georgia with a population of 10617423.\n",
            "North Carolina with a population of 10488084.\n"
          ],
          "name": "stdout"
        }
      ]
    }
  ]
}