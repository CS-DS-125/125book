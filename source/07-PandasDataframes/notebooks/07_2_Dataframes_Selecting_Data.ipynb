{
  "nbformat": 4,
  "nbformat_minor": 0,
  "metadata": {
    "kernelspec": {
      "display_name": "Python 3",
      "language": "python",
      "name": "python3"
    },
    "language_info": {
      "codemirror_mode": {
        "name": "ipython",
        "version": 3
      },
      "file_extension": ".py",
      "mimetype": "text/x-python",
      "name": "python",
      "nbconvert_exporter": "python",
      "pygments_lexer": "ipython3",
      "version": "3.6.8"
    },
    "colab": {
      "name": "07.2 Dataframes - Selecting Data.ipynb",
      "provenance": [],
      "collapsed_sections": [],
      "toc_visible": true
    }
  },
  "cells": [
    {
      "cell_type": "markdown",
      "metadata": {
        "id": "D0Qck8cX6c0i"
      },
      "source": [
        "# Dataframes: Selecting Data\n",
        "\n"
      ]
    },
    {
      "cell_type": "markdown",
      "metadata": {
        "id": "rDKb69fpxQkM"
      },
      "source": [
        "## Introduction\n",
        "The dataframe we construct below built out of data from the wikipedia page on [best-selling music albums](https://en.wikipedia.org/wiki/List_of_best-selling_albums). "
      ]
    },
    {
      "cell_type": "code",
      "metadata": {
        "id": "5guYFg7QxTTU",
        "colab": {
          "base_uri": "https://localhost:8080/",
          "height": 167
        },
        "outputId": "def1cbfa-946a-4ff4-83ed-1b31bb1b6dc6"
      },
      "source": [
        "# make sure you always do the import that makes pandas available\n",
        "import pandas as pd\n",
        "\n",
        "# create the dataframe from a csv\n",
        "url = 'https://raw.githubusercontent.com/bsheese/CSDS125ExampleData/master/data_albums_sales_wikipedia.csv'\n",
        "df = pd.read_csv(url)\n",
        "\n",
        "# create a decade column\n",
        "df.loc[:, 'decade'] = (df.loc[:, 'year'] //10) *10\n",
        "\n",
        "# set the index to year\n",
        "df = df.set_index('year')\n",
        "\n",
        "# sort the dataframe by the index\n",
        "df = df.sort_index()\n",
        "\n",
        "# check the result\n",
        "df.head(3)"
      ],
      "execution_count": 1,
      "outputs": [
        {
          "output_type": "execute_result",
          "data": {
            "text/html": [
              "<div>\n",
              "<style scoped>\n",
              "    .dataframe tbody tr th:only-of-type {\n",
              "        vertical-align: middle;\n",
              "    }\n",
              "\n",
              "    .dataframe tbody tr th {\n",
              "        vertical-align: top;\n",
              "    }\n",
              "\n",
              "    .dataframe thead th {\n",
              "        text-align: right;\n",
              "    }\n",
              "</style>\n",
              "<table border=\"1\" class=\"dataframe\">\n",
              "  <thead>\n",
              "    <tr style=\"text-align: right;\">\n",
              "      <th></th>\n",
              "      <th>artist</th>\n",
              "      <th>album</th>\n",
              "      <th>genre</th>\n",
              "      <th>cert_sales</th>\n",
              "      <th>claim_sales</th>\n",
              "      <th>decade</th>\n",
              "    </tr>\n",
              "    <tr>\n",
              "      <th>year</th>\n",
              "      <th></th>\n",
              "      <th></th>\n",
              "      <th></th>\n",
              "      <th></th>\n",
              "      <th></th>\n",
              "      <th></th>\n",
              "    </tr>\n",
              "  </thead>\n",
              "  <tbody>\n",
              "    <tr>\n",
              "      <th>1967</th>\n",
              "      <td>The Beatles</td>\n",
              "      <td>Sgt. Pepper's Lonely Hearts Club Band</td>\n",
              "      <td>Rock</td>\n",
              "      <td>18.2</td>\n",
              "      <td>32</td>\n",
              "      <td>1960</td>\n",
              "    </tr>\n",
              "    <tr>\n",
              "      <th>1969</th>\n",
              "      <td>The Beatles</td>\n",
              "      <td>Abbey Road</td>\n",
              "      <td>Rock</td>\n",
              "      <td>14.4</td>\n",
              "      <td>30</td>\n",
              "      <td>1960</td>\n",
              "    </tr>\n",
              "    <tr>\n",
              "      <th>1971</th>\n",
              "      <td>Led Zeppelin</td>\n",
              "      <td>Led Zeppelin IV</td>\n",
              "      <td>Hard rock, heavy metal, folk rock</td>\n",
              "      <td>29.0</td>\n",
              "      <td>37</td>\n",
              "      <td>1970</td>\n",
              "    </tr>\n",
              "  </tbody>\n",
              "</table>\n",
              "</div>"
            ],
            "text/plain": [
              "            artist                                  album  ... claim_sales  decade\n",
              "year                                                       ...                    \n",
              "1967   The Beatles  Sgt. Pepper's Lonely Hearts Club Band  ...          32    1960\n",
              "1969   The Beatles                             Abbey Road  ...          30    1960\n",
              "1971  Led Zeppelin                        Led Zeppelin IV  ...          37    1970\n",
              "\n",
              "[3 rows x 6 columns]"
            ]
          },
          "metadata": {
            "tags": []
          },
          "execution_count": 1
        }
      ]
    },
    {
      "cell_type": "markdown",
      "metadata": {
        "id": "etF9LIv2Bx7S"
      },
      "source": [
        "## Selecting Data Using the Index and Columns\n",
        "Up to this point, we have only been indexing and slicing Series based on the index. We will continue to do this with Dataframes, and it will work in much the same way, but, since we now have both columns and rows we can now index and slice both rows and columns at the same time.\n"
      ]
    },
    {
      "cell_type": "markdown",
      "metadata": {
        "id": "NDdUYrioH_Qj"
      },
      "source": [
        "### Selection by Label Using `.loc`\n",
        "We are going to use `.loc[]` with Dataframes in much the same way we used it with Series. However, now we are going to specify both the row labels and the column labels that we want. \n",
        "\n",
        "We can start by asking for a single index label, the integer `1992` and a single column label `'artist'`. Since there is only one value for that year, we get back a single value. Notice that the index label and the column name are separated by a comma.\n"
      ]
    },
    {
      "cell_type": "code",
      "metadata": {
        "id": "F2qX8zM4KuMx",
        "colab": {
          "base_uri": "https://localhost:8080/",
          "height": 35
        },
        "outputId": "d81e4b88-6c97-4747-f903-012bd4edafac"
      },
      "source": [
        "# single index label and a single column label\n",
        "df.loc[1971, 'artist'] "
      ],
      "execution_count": 2,
      "outputs": [
        {
          "output_type": "execute_result",
          "data": {
            "application/vnd.google.colaboratory.intrinsic+json": {
              "type": "string"
            },
            "text/plain": [
              "'Led Zeppelin'"
            ]
          },
          "metadata": {
            "tags": []
          },
          "execution_count": 2
        }
      ]
    },
    {
      "cell_type": "code",
      "metadata": {
        "id": "SUYRW0weJbTb",
        "colab": {
          "base_uri": "https://localhost:8080/",
          "height": 227
        },
        "outputId": "5039f376-7a61-4a17-8bc9-8432518ea9ac"
      },
      "source": [
        "# an index slice followed by a column slice\n",
        "df.loc[1977:1979, 'artist':'album']"
      ],
      "execution_count": 3,
      "outputs": [
        {
          "output_type": "execute_result",
          "data": {
            "text/html": [
              "<div>\n",
              "<style scoped>\n",
              "    .dataframe tbody tr th:only-of-type {\n",
              "        vertical-align: middle;\n",
              "    }\n",
              "\n",
              "    .dataframe tbody tr th {\n",
              "        vertical-align: top;\n",
              "    }\n",
              "\n",
              "    .dataframe thead th {\n",
              "        text-align: right;\n",
              "    }\n",
              "</style>\n",
              "<table border=\"1\" class=\"dataframe\">\n",
              "  <thead>\n",
              "    <tr style=\"text-align: right;\">\n",
              "      <th></th>\n",
              "      <th>artist</th>\n",
              "      <th>album</th>\n",
              "    </tr>\n",
              "    <tr>\n",
              "      <th>year</th>\n",
              "      <th></th>\n",
              "      <th></th>\n",
              "    </tr>\n",
              "  </thead>\n",
              "  <tbody>\n",
              "    <tr>\n",
              "      <th>1977</th>\n",
              "      <td>Bee Gees / Various artists</td>\n",
              "      <td>Saturday Night Fever</td>\n",
              "    </tr>\n",
              "    <tr>\n",
              "      <th>1977</th>\n",
              "      <td>Fleetwood Mac</td>\n",
              "      <td>Rumours</td>\n",
              "    </tr>\n",
              "    <tr>\n",
              "      <th>1977</th>\n",
              "      <td>Meat Loaf</td>\n",
              "      <td>Bat Out of Hell</td>\n",
              "    </tr>\n",
              "    <tr>\n",
              "      <th>1978</th>\n",
              "      <td>Various artists</td>\n",
              "      <td>Grease: The Original Soundtrack from the Motio...</td>\n",
              "    </tr>\n",
              "    <tr>\n",
              "      <th>1979</th>\n",
              "      <td>Pink Floyd</td>\n",
              "      <td>The Wall</td>\n",
              "    </tr>\n",
              "  </tbody>\n",
              "</table>\n",
              "</div>"
            ],
            "text/plain": [
              "                          artist                                              album\n",
              "year                                                                               \n",
              "1977  Bee Gees / Various artists                               Saturday Night Fever\n",
              "1977               Fleetwood Mac                                            Rumours\n",
              "1977                   Meat Loaf                                    Bat Out of Hell\n",
              "1978             Various artists  Grease: The Original Soundtrack from the Motio...\n",
              "1979                  Pink Floyd                                           The Wall"
            ]
          },
          "metadata": {
            "tags": []
          },
          "execution_count": 3
        }
      ]
    },
    {
      "cell_type": "code",
      "metadata": {
        "id": "Y651_6tQOTCF",
        "colab": {
          "base_uri": "https://localhost:8080/",
          "height": 167
        },
        "outputId": "a3cde95a-884f-43d5-c32c-eb4938e28e23"
      },
      "source": [
        "# a single index label, followed by a column slice\n",
        "df.loc[1987, 'artist':'album']"
      ],
      "execution_count": 4,
      "outputs": [
        {
          "output_type": "execute_result",
          "data": {
            "text/html": [
              "<div>\n",
              "<style scoped>\n",
              "    .dataframe tbody tr th:only-of-type {\n",
              "        vertical-align: middle;\n",
              "    }\n",
              "\n",
              "    .dataframe tbody tr th {\n",
              "        vertical-align: top;\n",
              "    }\n",
              "\n",
              "    .dataframe thead th {\n",
              "        text-align: right;\n",
              "    }\n",
              "</style>\n",
              "<table border=\"1\" class=\"dataframe\">\n",
              "  <thead>\n",
              "    <tr style=\"text-align: right;\">\n",
              "      <th></th>\n",
              "      <th>artist</th>\n",
              "      <th>album</th>\n",
              "    </tr>\n",
              "    <tr>\n",
              "      <th>year</th>\n",
              "      <th></th>\n",
              "      <th></th>\n",
              "    </tr>\n",
              "  </thead>\n",
              "  <tbody>\n",
              "    <tr>\n",
              "      <th>1987</th>\n",
              "      <td>Guns N' Roses</td>\n",
              "      <td>Appetite for Destruction</td>\n",
              "    </tr>\n",
              "    <tr>\n",
              "      <th>1987</th>\n",
              "      <td>Various artists</td>\n",
              "      <td>Dirty Dancing</td>\n",
              "    </tr>\n",
              "    <tr>\n",
              "      <th>1987</th>\n",
              "      <td>Michael Jackson</td>\n",
              "      <td>Bad</td>\n",
              "    </tr>\n",
              "  </tbody>\n",
              "</table>\n",
              "</div>"
            ],
            "text/plain": [
              "               artist                     album\n",
              "year                                           \n",
              "1987    Guns N' Roses  Appetite for Destruction\n",
              "1987  Various artists             Dirty Dancing\n",
              "1987  Michael Jackson                       Bad"
            ]
          },
          "metadata": {
            "tags": []
          },
          "execution_count": 4
        }
      ]
    },
    {
      "cell_type": "code",
      "metadata": {
        "id": "oOAfbcWALh0j",
        "colab": {
          "base_uri": "https://localhost:8080/"
        },
        "outputId": "028066f6-848f-44ae-c1c5-7ce29e870fea"
      },
      "source": [
        "# an index slice (with no stop value), followed by a single column label\n",
        "df.loc[2000:,'artist']"
      ],
      "execution_count": 5,
      "outputs": [
        {
          "output_type": "execute_result",
          "data": {
            "text/plain": [
              "year\n",
              "2000    The Beatles\n",
              "2011          Adele\n",
              "Name: artist, dtype: object"
            ]
          },
          "metadata": {
            "tags": []
          },
          "execution_count": 5
        }
      ]
    },
    {
      "cell_type": "markdown",
      "metadata": {
        "id": "MIpB10hneQG0"
      },
      "source": [
        "As an alternative to slicing we can pass lists with specific index labels or column names."
      ]
    },
    {
      "cell_type": "code",
      "metadata": {
        "id": "q4AyF2l1duiz",
        "colab": {
          "base_uri": "https://localhost:8080/",
          "height": 227
        },
        "outputId": "79a5a26c-2295-4e38-e45b-7d0f08faff00"
      },
      "source": [
        "# all rows, then a list of specific column labels to return\n",
        "df.loc[:,['artist', 'album', 'claim_sales']].head()"
      ],
      "execution_count": 6,
      "outputs": [
        {
          "output_type": "execute_result",
          "data": {
            "text/html": [
              "<div>\n",
              "<style scoped>\n",
              "    .dataframe tbody tr th:only-of-type {\n",
              "        vertical-align: middle;\n",
              "    }\n",
              "\n",
              "    .dataframe tbody tr th {\n",
              "        vertical-align: top;\n",
              "    }\n",
              "\n",
              "    .dataframe thead th {\n",
              "        text-align: right;\n",
              "    }\n",
              "</style>\n",
              "<table border=\"1\" class=\"dataframe\">\n",
              "  <thead>\n",
              "    <tr style=\"text-align: right;\">\n",
              "      <th></th>\n",
              "      <th>artist</th>\n",
              "      <th>album</th>\n",
              "      <th>claim_sales</th>\n",
              "    </tr>\n",
              "    <tr>\n",
              "      <th>year</th>\n",
              "      <th></th>\n",
              "      <th></th>\n",
              "      <th></th>\n",
              "    </tr>\n",
              "  </thead>\n",
              "  <tbody>\n",
              "    <tr>\n",
              "      <th>1967</th>\n",
              "      <td>The Beatles</td>\n",
              "      <td>Sgt. Pepper's Lonely Hearts Club Band</td>\n",
              "      <td>32</td>\n",
              "    </tr>\n",
              "    <tr>\n",
              "      <th>1969</th>\n",
              "      <td>The Beatles</td>\n",
              "      <td>Abbey Road</td>\n",
              "      <td>30</td>\n",
              "    </tr>\n",
              "    <tr>\n",
              "      <th>1971</th>\n",
              "      <td>Led Zeppelin</td>\n",
              "      <td>Led Zeppelin IV</td>\n",
              "      <td>37</td>\n",
              "    </tr>\n",
              "    <tr>\n",
              "      <th>1973</th>\n",
              "      <td>Elton John</td>\n",
              "      <td>Goodbye Yellow Brick Road</td>\n",
              "      <td>30</td>\n",
              "    </tr>\n",
              "    <tr>\n",
              "      <th>1973</th>\n",
              "      <td>Pink Floyd</td>\n",
              "      <td>The Dark Side of the Moon</td>\n",
              "      <td>45</td>\n",
              "    </tr>\n",
              "  </tbody>\n",
              "</table>\n",
              "</div>"
            ],
            "text/plain": [
              "            artist                                  album  claim_sales\n",
              "year                                                                  \n",
              "1967   The Beatles  Sgt. Pepper's Lonely Hearts Club Band           32\n",
              "1969   The Beatles                             Abbey Road           30\n",
              "1971  Led Zeppelin                        Led Zeppelin IV           37\n",
              "1973    Elton John              Goodbye Yellow Brick Road           30\n",
              "1973    Pink Floyd              The Dark Side of the Moon           45"
            ]
          },
          "metadata": {
            "tags": []
          },
          "execution_count": 6
        }
      ]
    },
    {
      "cell_type": "code",
      "metadata": {
        "id": "8vO9DEwGekyW",
        "colab": {
          "base_uri": "https://localhost:8080/",
          "height": 257
        },
        "outputId": "c5b838ba-6851-4fed-9a77-f6bf504f2c95"
      },
      "source": [
        "# list of specific index values, then a list of specific column labels\n",
        "df.loc[[1973,1987,2011], ['artist', 'album', 'claim_sales']]"
      ],
      "execution_count": 7,
      "outputs": [
        {
          "output_type": "execute_result",
          "data": {
            "text/html": [
              "<div>\n",
              "<style scoped>\n",
              "    .dataframe tbody tr th:only-of-type {\n",
              "        vertical-align: middle;\n",
              "    }\n",
              "\n",
              "    .dataframe tbody tr th {\n",
              "        vertical-align: top;\n",
              "    }\n",
              "\n",
              "    .dataframe thead th {\n",
              "        text-align: right;\n",
              "    }\n",
              "</style>\n",
              "<table border=\"1\" class=\"dataframe\">\n",
              "  <thead>\n",
              "    <tr style=\"text-align: right;\">\n",
              "      <th></th>\n",
              "      <th>artist</th>\n",
              "      <th>album</th>\n",
              "      <th>claim_sales</th>\n",
              "    </tr>\n",
              "    <tr>\n",
              "      <th>year</th>\n",
              "      <th></th>\n",
              "      <th></th>\n",
              "      <th></th>\n",
              "    </tr>\n",
              "  </thead>\n",
              "  <tbody>\n",
              "    <tr>\n",
              "      <th>1973</th>\n",
              "      <td>Elton John</td>\n",
              "      <td>Goodbye Yellow Brick Road</td>\n",
              "      <td>30</td>\n",
              "    </tr>\n",
              "    <tr>\n",
              "      <th>1973</th>\n",
              "      <td>Pink Floyd</td>\n",
              "      <td>The Dark Side of the Moon</td>\n",
              "      <td>45</td>\n",
              "    </tr>\n",
              "    <tr>\n",
              "      <th>1987</th>\n",
              "      <td>Guns N' Roses</td>\n",
              "      <td>Appetite for Destruction</td>\n",
              "      <td>30</td>\n",
              "    </tr>\n",
              "    <tr>\n",
              "      <th>1987</th>\n",
              "      <td>Various artists</td>\n",
              "      <td>Dirty Dancing</td>\n",
              "      <td>32</td>\n",
              "    </tr>\n",
              "    <tr>\n",
              "      <th>1987</th>\n",
              "      <td>Michael Jackson</td>\n",
              "      <td>Bad</td>\n",
              "      <td>35</td>\n",
              "    </tr>\n",
              "    <tr>\n",
              "      <th>2011</th>\n",
              "      <td>Adele</td>\n",
              "      <td>21</td>\n",
              "      <td>31</td>\n",
              "    </tr>\n",
              "  </tbody>\n",
              "</table>\n",
              "</div>"
            ],
            "text/plain": [
              "               artist                      album  claim_sales\n",
              "year                                                         \n",
              "1973       Elton John  Goodbye Yellow Brick Road           30\n",
              "1973       Pink Floyd  The Dark Side of the Moon           45\n",
              "1987    Guns N' Roses   Appetite for Destruction           30\n",
              "1987  Various artists              Dirty Dancing           32\n",
              "1987  Michael Jackson                        Bad           35\n",
              "2011            Adele                         21           31"
            ]
          },
          "metadata": {
            "tags": []
          },
          "execution_count": 7
        }
      ]
    },
    {
      "cell_type": "markdown",
      "metadata": {
        "id": "zCvDoFo7OOek"
      },
      "source": [
        "### Selection by Position Using `.iloc`\n",
        "\n",
        "As with Series, I want you to know that selection by position can be done. However, we're not going to do too much of it in class, so I'll show just two examples. \n",
        "\n",
        "Note: unlike `.loc`, slicing with `.iloc` works just like it does in python lists and strings; the stop value is not included."
      ]
    },
    {
      "cell_type": "code",
      "metadata": {
        "id": "1J0Jv_dfPRtg",
        "colab": {
          "base_uri": "https://localhost:8080/",
          "height": 35
        },
        "outputId": "362f064a-7e68-4c28-f2c8-e9400e4a279a"
      },
      "source": [
        "# single index and single column, both by location\n",
        "df.iloc[25,1]"
      ],
      "execution_count": 8,
      "outputs": [
        {
          "output_type": "execute_result",
          "data": {
            "application/vnd.google.colaboratory.intrinsic+json": {
              "type": "string"
            },
            "text/plain": [
              "'Jagged Little Pill'"
            ]
          },
          "metadata": {
            "tags": []
          },
          "execution_count": 8
        }
      ]
    },
    {
      "cell_type": "code",
      "metadata": {
        "id": "DSfBTiPRPy3T",
        "colab": {
          "base_uri": "https://localhost:8080/",
          "height": 227
        },
        "outputId": "aed5162f-9afc-44d9-83e8-438c5002476e"
      },
      "source": [
        "# index slice (with negative indexing), column slice\n",
        "df.iloc[-10:-5, 0:3]"
      ],
      "execution_count": 9,
      "outputs": [
        {
          "output_type": "execute_result",
          "data": {
            "text/html": [
              "<div>\n",
              "<style scoped>\n",
              "    .dataframe tbody tr th:only-of-type {\n",
              "        vertical-align: middle;\n",
              "    }\n",
              "\n",
              "    .dataframe tbody tr th {\n",
              "        vertical-align: top;\n",
              "    }\n",
              "\n",
              "    .dataframe thead th {\n",
              "        text-align: right;\n",
              "    }\n",
              "</style>\n",
              "<table border=\"1\" class=\"dataframe\">\n",
              "  <thead>\n",
              "    <tr style=\"text-align: right;\">\n",
              "      <th></th>\n",
              "      <th>artist</th>\n",
              "      <th>album</th>\n",
              "      <th>genre</th>\n",
              "    </tr>\n",
              "    <tr>\n",
              "      <th>year</th>\n",
              "      <th></th>\n",
              "      <th></th>\n",
              "      <th></th>\n",
              "    </tr>\n",
              "  </thead>\n",
              "  <tbody>\n",
              "    <tr>\n",
              "      <th>1992</th>\n",
              "      <td>Whitney Houston / Various artists</td>\n",
              "      <td>The Bodyguard</td>\n",
              "      <td>R&amp;B, soul, pop, soundtrack</td>\n",
              "    </tr>\n",
              "    <tr>\n",
              "      <th>1992</th>\n",
              "      <td>ABBA</td>\n",
              "      <td>Gold: Greatest Hits</td>\n",
              "      <td>Pop, disco</td>\n",
              "    </tr>\n",
              "    <tr>\n",
              "      <th>1995</th>\n",
              "      <td>Alanis Morissette</td>\n",
              "      <td>Jagged Little Pill</td>\n",
              "      <td>Alternative rock</td>\n",
              "    </tr>\n",
              "    <tr>\n",
              "      <th>1996</th>\n",
              "      <td>Celine Dion</td>\n",
              "      <td>Falling into You</td>\n",
              "      <td>Pop, soft rock</td>\n",
              "    </tr>\n",
              "    <tr>\n",
              "      <th>1997</th>\n",
              "      <td>Celine Dion</td>\n",
              "      <td>Let's Talk About Love</td>\n",
              "      <td>Pop, soft rock</td>\n",
              "    </tr>\n",
              "  </tbody>\n",
              "</table>\n",
              "</div>"
            ],
            "text/plain": [
              "                                 artist  ...                       genre\n",
              "year                                     ...                            \n",
              "1992  Whitney Houston / Various artists  ...  R&B, soul, pop, soundtrack\n",
              "1992                               ABBA  ...                  Pop, disco\n",
              "1995                  Alanis Morissette  ...            Alternative rock\n",
              "1996                        Celine Dion  ...              Pop, soft rock\n",
              "1997                        Celine Dion  ...              Pop, soft rock\n",
              "\n",
              "[5 rows x 3 columns]"
            ]
          },
          "metadata": {
            "tags": []
          },
          "execution_count": 9
        }
      ]
    },
    {
      "cell_type": "markdown",
      "metadata": {
        "id": "oAnjbE8MZx25"
      },
      "source": [
        "### Selection by Condition Using Booleans"
      ]
    },
    {
      "cell_type": "markdown",
      "metadata": {
        "id": "QH_xAoeq0LCh"
      },
      "source": [
        "As we did with Series, we can create and apply Boolean masks to select data."
      ]
    },
    {
      "cell_type": "code",
      "metadata": {
        "id": "twbeFIMqVslO",
        "colab": {
          "base_uri": "https://localhost:8080/",
          "height": 167
        },
        "outputId": "51a406ae-56bd-4262-e5f1-db74a7f97709"
      },
      "source": [
        "# make a mask selecting rows where certified sales greater than 30 (million)\n",
        "csales30_mask = df.loc[:,'cert_sales'] > 30\n",
        "\n",
        "# select only those rows in the dataset where mask is true, and all columns\n",
        "df.loc[csales30_mask,:]"
      ],
      "execution_count": 10,
      "outputs": [
        {
          "output_type": "execute_result",
          "data": {
            "text/html": [
              "<div>\n",
              "<style scoped>\n",
              "    .dataframe tbody tr th:only-of-type {\n",
              "        vertical-align: middle;\n",
              "    }\n",
              "\n",
              "    .dataframe tbody tr th {\n",
              "        vertical-align: top;\n",
              "    }\n",
              "\n",
              "    .dataframe thead th {\n",
              "        text-align: right;\n",
              "    }\n",
              "</style>\n",
              "<table border=\"1\" class=\"dataframe\">\n",
              "  <thead>\n",
              "    <tr style=\"text-align: right;\">\n",
              "      <th></th>\n",
              "      <th>artist</th>\n",
              "      <th>album</th>\n",
              "      <th>genre</th>\n",
              "      <th>cert_sales</th>\n",
              "      <th>claim_sales</th>\n",
              "      <th>decade</th>\n",
              "    </tr>\n",
              "    <tr>\n",
              "      <th>year</th>\n",
              "      <th></th>\n",
              "      <th></th>\n",
              "      <th></th>\n",
              "      <th></th>\n",
              "      <th></th>\n",
              "      <th></th>\n",
              "    </tr>\n",
              "  </thead>\n",
              "  <tbody>\n",
              "    <tr>\n",
              "      <th>1976</th>\n",
              "      <td>Eagles</td>\n",
              "      <td>Their Greatest Hits (1971–1975)</td>\n",
              "      <td>Country rock, soft rock, folk rock</td>\n",
              "      <td>41.2</td>\n",
              "      <td>42</td>\n",
              "      <td>1970</td>\n",
              "    </tr>\n",
              "    <tr>\n",
              "      <th>1976</th>\n",
              "      <td>Eagles</td>\n",
              "      <td>Hotel California</td>\n",
              "      <td>Soft rock</td>\n",
              "      <td>31.5</td>\n",
              "      <td>32</td>\n",
              "      <td>1970</td>\n",
              "    </tr>\n",
              "    <tr>\n",
              "      <th>1982</th>\n",
              "      <td>Michael Jackson</td>\n",
              "      <td>Thriller</td>\n",
              "      <td>Pop, post-disco, funk, rock</td>\n",
              "      <td>47.3</td>\n",
              "      <td>66</td>\n",
              "      <td>1980</td>\n",
              "    </tr>\n",
              "  </tbody>\n",
              "</table>\n",
              "</div>"
            ],
            "text/plain": [
              "               artist                            album  ... claim_sales  decade\n",
              "year                                                    ...                    \n",
              "1976           Eagles  Their Greatest Hits (1971–1975)  ...          42    1970\n",
              "1976           Eagles                 Hotel California  ...          32    1970\n",
              "1982  Michael Jackson                         Thriller  ...          66    1980\n",
              "\n",
              "[3 rows x 6 columns]"
            ]
          },
          "metadata": {
            "tags": []
          },
          "execution_count": 10
        }
      ]
    },
    {
      "cell_type": "code",
      "metadata": {
        "id": "eCZLOniXX8W_",
        "colab": {
          "base_uri": "https://localhost:8080/",
          "height": 167
        },
        "outputId": "6061101b-de05-4bc2-cc1f-5fda9c04d382"
      },
      "source": [
        "# make a mask selecting all rows where jackson is the artist\n",
        "jackson_mask = df.loc[:, 'artist'] == 'Michael Jackson'\n",
        "\n",
        "# select rows where the Jackson mask is True, and all columns\n",
        "df.loc[jackson_mask, :]\n"
      ],
      "execution_count": 11,
      "outputs": [
        {
          "output_type": "execute_result",
          "data": {
            "text/html": [
              "<div>\n",
              "<style scoped>\n",
              "    .dataframe tbody tr th:only-of-type {\n",
              "        vertical-align: middle;\n",
              "    }\n",
              "\n",
              "    .dataframe tbody tr th {\n",
              "        vertical-align: top;\n",
              "    }\n",
              "\n",
              "    .dataframe thead th {\n",
              "        text-align: right;\n",
              "    }\n",
              "</style>\n",
              "<table border=\"1\" class=\"dataframe\">\n",
              "  <thead>\n",
              "    <tr style=\"text-align: right;\">\n",
              "      <th></th>\n",
              "      <th>artist</th>\n",
              "      <th>album</th>\n",
              "      <th>genre</th>\n",
              "      <th>cert_sales</th>\n",
              "      <th>claim_sales</th>\n",
              "      <th>decade</th>\n",
              "    </tr>\n",
              "    <tr>\n",
              "      <th>year</th>\n",
              "      <th></th>\n",
              "      <th></th>\n",
              "      <th></th>\n",
              "      <th></th>\n",
              "      <th></th>\n",
              "      <th></th>\n",
              "    </tr>\n",
              "  </thead>\n",
              "  <tbody>\n",
              "    <tr>\n",
              "      <th>1982</th>\n",
              "      <td>Michael Jackson</td>\n",
              "      <td>Thriller</td>\n",
              "      <td>Pop, post-disco, funk, rock</td>\n",
              "      <td>47.3</td>\n",
              "      <td>66</td>\n",
              "      <td>1980</td>\n",
              "    </tr>\n",
              "    <tr>\n",
              "      <th>1987</th>\n",
              "      <td>Michael Jackson</td>\n",
              "      <td>Bad</td>\n",
              "      <td>Pop, rhythm and blues, funk and rock</td>\n",
              "      <td>22.2</td>\n",
              "      <td>35</td>\n",
              "      <td>1980</td>\n",
              "    </tr>\n",
              "    <tr>\n",
              "      <th>1991</th>\n",
              "      <td>Michael Jackson</td>\n",
              "      <td>Dangerous</td>\n",
              "      <td>New jack swing, R&amp;B and pop</td>\n",
              "      <td>17.0</td>\n",
              "      <td>32</td>\n",
              "      <td>1990</td>\n",
              "    </tr>\n",
              "  </tbody>\n",
              "</table>\n",
              "</div>"
            ],
            "text/plain": [
              "               artist      album  ... claim_sales  decade\n",
              "year                              ...                    \n",
              "1982  Michael Jackson   Thriller  ...          66    1980\n",
              "1987  Michael Jackson        Bad  ...          35    1980\n",
              "1991  Michael Jackson  Dangerous  ...          32    1990\n",
              "\n",
              "[3 rows x 6 columns]"
            ]
          },
          "metadata": {
            "tags": []
          },
          "execution_count": 11
        }
      ]
    },
    {
      "cell_type": "markdown",
      "metadata": {
        "id": "TwiL42PzbMfa"
      },
      "source": [
        "Multiple masks can also be used simultaneously."
      ]
    },
    {
      "cell_type": "code",
      "metadata": {
        "id": "FiRp-xcxbB4n",
        "colab": {
          "base_uri": "https://localhost:8080/",
          "height": 107
        },
        "outputId": "2efe8ba2-2522-40eb-e87a-c3425fff76e7"
      },
      "source": [
        "# select rows with Jackson and greater than 30 (million) certified sales, and all columns\n",
        "df.loc[jackson_mask & csales30_mask, :]"
      ],
      "execution_count": 12,
      "outputs": [
        {
          "output_type": "execute_result",
          "data": {
            "text/html": [
              "<div>\n",
              "<style scoped>\n",
              "    .dataframe tbody tr th:only-of-type {\n",
              "        vertical-align: middle;\n",
              "    }\n",
              "\n",
              "    .dataframe tbody tr th {\n",
              "        vertical-align: top;\n",
              "    }\n",
              "\n",
              "    .dataframe thead th {\n",
              "        text-align: right;\n",
              "    }\n",
              "</style>\n",
              "<table border=\"1\" class=\"dataframe\">\n",
              "  <thead>\n",
              "    <tr style=\"text-align: right;\">\n",
              "      <th></th>\n",
              "      <th>artist</th>\n",
              "      <th>album</th>\n",
              "      <th>genre</th>\n",
              "      <th>cert_sales</th>\n",
              "      <th>claim_sales</th>\n",
              "      <th>decade</th>\n",
              "    </tr>\n",
              "    <tr>\n",
              "      <th>year</th>\n",
              "      <th></th>\n",
              "      <th></th>\n",
              "      <th></th>\n",
              "      <th></th>\n",
              "      <th></th>\n",
              "      <th></th>\n",
              "    </tr>\n",
              "  </thead>\n",
              "  <tbody>\n",
              "    <tr>\n",
              "      <th>1982</th>\n",
              "      <td>Michael Jackson</td>\n",
              "      <td>Thriller</td>\n",
              "      <td>Pop, post-disco, funk, rock</td>\n",
              "      <td>47.3</td>\n",
              "      <td>66</td>\n",
              "      <td>1980</td>\n",
              "    </tr>\n",
              "  </tbody>\n",
              "</table>\n",
              "</div>"
            ],
            "text/plain": [
              "               artist     album  ... claim_sales  decade\n",
              "year                             ...                    \n",
              "1982  Michael Jackson  Thriller  ...          66    1980\n",
              "\n",
              "[1 rows x 6 columns]"
            ]
          },
          "metadata": {
            "tags": []
          },
          "execution_count": 12
        }
      ]
    },
    {
      "cell_type": "markdown",
      "metadata": {
        "id": "FENybQ0_bk3P"
      },
      "source": [
        "We are going to practice this sort of indexing a lot, so I'll provide more examples, and some more discussion, later."
      ]
    },
    {
      "cell_type": "markdown",
      "metadata": {
        "id": "jm_5g8mh4xTt"
      },
      "source": [
        "## Modifying Rows and Columns"
      ]
    },
    {
      "cell_type": "markdown",
      "metadata": {
        "id": "Sn2NzXqPNQ9S"
      },
      "source": [
        "### Creating a New Row"
      ]
    },
    {
      "cell_type": "code",
      "metadata": {
        "id": "M_EzqBYFNTkA",
        "colab": {
          "base_uri": "https://localhost:8080/",
          "height": 167
        },
        "outputId": "d1657551-980d-497d-b928-a9ca0b64c210"
      },
      "source": [
        "# creates a new row, by setting values to a index label that does not exist\n",
        "# note the ommission of the comma and colon in the square brackets\n",
        "df.loc[2020] = ['Various', 'Baby Shark EDM Remix VII', 'Children', 80, 220, 2020]\n",
        "\n",
        "# check the result\n",
        "df.loc[2000:, :].head()"
      ],
      "execution_count": 13,
      "outputs": [
        {
          "output_type": "execute_result",
          "data": {
            "text/html": [
              "<div>\n",
              "<style scoped>\n",
              "    .dataframe tbody tr th:only-of-type {\n",
              "        vertical-align: middle;\n",
              "    }\n",
              "\n",
              "    .dataframe tbody tr th {\n",
              "        vertical-align: top;\n",
              "    }\n",
              "\n",
              "    .dataframe thead th {\n",
              "        text-align: right;\n",
              "    }\n",
              "</style>\n",
              "<table border=\"1\" class=\"dataframe\">\n",
              "  <thead>\n",
              "    <tr style=\"text-align: right;\">\n",
              "      <th></th>\n",
              "      <th>artist</th>\n",
              "      <th>album</th>\n",
              "      <th>genre</th>\n",
              "      <th>cert_sales</th>\n",
              "      <th>claim_sales</th>\n",
              "      <th>decade</th>\n",
              "    </tr>\n",
              "    <tr>\n",
              "      <th>year</th>\n",
              "      <th></th>\n",
              "      <th></th>\n",
              "      <th></th>\n",
              "      <th></th>\n",
              "      <th></th>\n",
              "      <th></th>\n",
              "    </tr>\n",
              "  </thead>\n",
              "  <tbody>\n",
              "    <tr>\n",
              "      <th>2000</th>\n",
              "      <td>The Beatles</td>\n",
              "      <td>1</td>\n",
              "      <td>Rock</td>\n",
              "      <td>23.4</td>\n",
              "      <td>31</td>\n",
              "      <td>2000</td>\n",
              "    </tr>\n",
              "    <tr>\n",
              "      <th>2011</th>\n",
              "      <td>Adele</td>\n",
              "      <td>21</td>\n",
              "      <td>Pop, soul</td>\n",
              "      <td>25.3</td>\n",
              "      <td>31</td>\n",
              "      <td>2010</td>\n",
              "    </tr>\n",
              "    <tr>\n",
              "      <th>2020</th>\n",
              "      <td>Various</td>\n",
              "      <td>Baby Shark EDM Remix VII</td>\n",
              "      <td>Children</td>\n",
              "      <td>80.0</td>\n",
              "      <td>220</td>\n",
              "      <td>2020</td>\n",
              "    </tr>\n",
              "  </tbody>\n",
              "</table>\n",
              "</div>"
            ],
            "text/plain": [
              "           artist                     album  ... claim_sales  decade\n",
              "year                                         ...                    \n",
              "2000  The Beatles                         1  ...          31    2000\n",
              "2011        Adele                        21  ...          31    2010\n",
              "2020      Various  Baby Shark EDM Remix VII  ...         220    2020\n",
              "\n",
              "[3 rows x 6 columns]"
            ]
          },
          "metadata": {
            "tags": []
          },
          "execution_count": 13
        }
      ]
    },
    {
      "cell_type": "markdown",
      "metadata": {
        "id": "HvmOxlQyccNs"
      },
      "source": [
        "### Creating a New Column"
      ]
    },
    {
      "cell_type": "code",
      "metadata": {
        "id": "wluprgUmclQL",
        "colab": {
          "base_uri": "https://localhost:8080/",
          "height": 167
        },
        "outputId": "a68daeac-c971-4463-8941-fb6ea6e93471"
      },
      "source": [
        "# creates a new column, by setting a value to a column label that does not exist\n",
        "df.loc[:,'awesomeness'] = 5\n",
        "\n",
        "# check the result\n",
        "df.loc[:, ['artist', 'album', 'awesomeness']].head(3)"
      ],
      "execution_count": 14,
      "outputs": [
        {
          "output_type": "execute_result",
          "data": {
            "text/html": [
              "<div>\n",
              "<style scoped>\n",
              "    .dataframe tbody tr th:only-of-type {\n",
              "        vertical-align: middle;\n",
              "    }\n",
              "\n",
              "    .dataframe tbody tr th {\n",
              "        vertical-align: top;\n",
              "    }\n",
              "\n",
              "    .dataframe thead th {\n",
              "        text-align: right;\n",
              "    }\n",
              "</style>\n",
              "<table border=\"1\" class=\"dataframe\">\n",
              "  <thead>\n",
              "    <tr style=\"text-align: right;\">\n",
              "      <th></th>\n",
              "      <th>artist</th>\n",
              "      <th>album</th>\n",
              "      <th>awesomeness</th>\n",
              "    </tr>\n",
              "    <tr>\n",
              "      <th>year</th>\n",
              "      <th></th>\n",
              "      <th></th>\n",
              "      <th></th>\n",
              "    </tr>\n",
              "  </thead>\n",
              "  <tbody>\n",
              "    <tr>\n",
              "      <th>1967</th>\n",
              "      <td>The Beatles</td>\n",
              "      <td>Sgt. Pepper's Lonely Hearts Club Band</td>\n",
              "      <td>5</td>\n",
              "    </tr>\n",
              "    <tr>\n",
              "      <th>1969</th>\n",
              "      <td>The Beatles</td>\n",
              "      <td>Abbey Road</td>\n",
              "      <td>5</td>\n",
              "    </tr>\n",
              "    <tr>\n",
              "      <th>1971</th>\n",
              "      <td>Led Zeppelin</td>\n",
              "      <td>Led Zeppelin IV</td>\n",
              "      <td>5</td>\n",
              "    </tr>\n",
              "  </tbody>\n",
              "</table>\n",
              "</div>"
            ],
            "text/plain": [
              "            artist                                  album  awesomeness\n",
              "year                                                                  \n",
              "1967   The Beatles  Sgt. Pepper's Lonely Hearts Club Band            5\n",
              "1969   The Beatles                             Abbey Road            5\n",
              "1971  Led Zeppelin                        Led Zeppelin IV            5"
            ]
          },
          "metadata": {
            "tags": []
          },
          "execution_count": 14
        }
      ]
    },
    {
      "cell_type": "markdown",
      "metadata": {
        "id": "bm6bfIwS3zKH"
      },
      "source": [
        "### Copying a Series in a Dataframe"
      ]
    },
    {
      "cell_type": "markdown",
      "metadata": {
        "id": "PolAvx7sHWze"
      },
      "source": [
        "To copy a single series in a dataframe, you can assign the existing column values to a new column name. "
      ]
    },
    {
      "cell_type": "code",
      "metadata": {
        "id": "WpzlBYrS37p9",
        "colab": {
          "base_uri": "https://localhost:8080/",
          "height": 167
        },
        "outputId": "7f610644-d8c3-4298-a11c-4985bb33335a"
      },
      "source": [
        "# use a new label and assign it the values from the series to by copied\n",
        "df.loc[:, 'album_duplicated'] = df.loc[:, 'album']\n",
        "\n",
        "# check the result\n",
        "df.loc[:, ['album', 'album_duplicated']].head(3)"
      ],
      "execution_count": 15,
      "outputs": [
        {
          "output_type": "execute_result",
          "data": {
            "text/html": [
              "<div>\n",
              "<style scoped>\n",
              "    .dataframe tbody tr th:only-of-type {\n",
              "        vertical-align: middle;\n",
              "    }\n",
              "\n",
              "    .dataframe tbody tr th {\n",
              "        vertical-align: top;\n",
              "    }\n",
              "\n",
              "    .dataframe thead th {\n",
              "        text-align: right;\n",
              "    }\n",
              "</style>\n",
              "<table border=\"1\" class=\"dataframe\">\n",
              "  <thead>\n",
              "    <tr style=\"text-align: right;\">\n",
              "      <th></th>\n",
              "      <th>album</th>\n",
              "      <th>album_duplicated</th>\n",
              "    </tr>\n",
              "    <tr>\n",
              "      <th>year</th>\n",
              "      <th></th>\n",
              "      <th></th>\n",
              "    </tr>\n",
              "  </thead>\n",
              "  <tbody>\n",
              "    <tr>\n",
              "      <th>1967</th>\n",
              "      <td>Sgt. Pepper's Lonely Hearts Club Band</td>\n",
              "      <td>Sgt. Pepper's Lonely Hearts Club Band</td>\n",
              "    </tr>\n",
              "    <tr>\n",
              "      <th>1969</th>\n",
              "      <td>Abbey Road</td>\n",
              "      <td>Abbey Road</td>\n",
              "    </tr>\n",
              "    <tr>\n",
              "      <th>1971</th>\n",
              "      <td>Led Zeppelin IV</td>\n",
              "      <td>Led Zeppelin IV</td>\n",
              "    </tr>\n",
              "  </tbody>\n",
              "</table>\n",
              "</div>"
            ],
            "text/plain": [
              "                                      album                       album_duplicated\n",
              "year                                                                              \n",
              "1967  Sgt. Pepper's Lonely Hearts Club Band  Sgt. Pepper's Lonely Hearts Club Band\n",
              "1969                             Abbey Road                             Abbey Road\n",
              "1971                        Led Zeppelin IV                        Led Zeppelin IV"
            ]
          },
          "metadata": {
            "tags": []
          },
          "execution_count": 15
        }
      ]
    },
    {
      "cell_type": "markdown",
      "metadata": {
        "id": "4TbcoO0OHtAl"
      },
      "source": [
        "To copy multiple columns, we can specify the new column labels using a list, and specify the columns to be copied using another list. Unlike copying a single column, when we are copying multiple columns, we need to specify that we are copying the values of the columns.  "
      ]
    },
    {
      "cell_type": "code",
      "metadata": {
        "id": "JJCJO3RR5WqD",
        "colab": {
          "base_uri": "https://localhost:8080/",
          "height": 217
        },
        "outputId": "e5c4017d-9fca-42d7-f67c-4dd6926e7c41"
      },
      "source": [
        "# copying multiple series\n",
        "\n",
        "# create list of new value names, just so the next bit of code isn't too lengthy\n",
        "new_labels = ['certsales_duplicated', 'claimsales_duplicated']\n",
        "\n",
        "# provide the new labels, assign values of columns to be copied, note the use of .values\n",
        "df.loc[:, new_labels] = df.loc[:, ['cert_sales', 'claim_sales']].values\n",
        "\n",
        "# check the result\n",
        "df.loc[:, :].head(3)"
      ],
      "execution_count": 16,
      "outputs": [
        {
          "output_type": "execute_result",
          "data": {
            "text/html": [
              "<div>\n",
              "<style scoped>\n",
              "    .dataframe tbody tr th:only-of-type {\n",
              "        vertical-align: middle;\n",
              "    }\n",
              "\n",
              "    .dataframe tbody tr th {\n",
              "        vertical-align: top;\n",
              "    }\n",
              "\n",
              "    .dataframe thead th {\n",
              "        text-align: right;\n",
              "    }\n",
              "</style>\n",
              "<table border=\"1\" class=\"dataframe\">\n",
              "  <thead>\n",
              "    <tr style=\"text-align: right;\">\n",
              "      <th></th>\n",
              "      <th>artist</th>\n",
              "      <th>album</th>\n",
              "      <th>genre</th>\n",
              "      <th>cert_sales</th>\n",
              "      <th>claim_sales</th>\n",
              "      <th>decade</th>\n",
              "      <th>awesomeness</th>\n",
              "      <th>album_duplicated</th>\n",
              "      <th>certsales_duplicated</th>\n",
              "      <th>claimsales_duplicated</th>\n",
              "    </tr>\n",
              "    <tr>\n",
              "      <th>year</th>\n",
              "      <th></th>\n",
              "      <th></th>\n",
              "      <th></th>\n",
              "      <th></th>\n",
              "      <th></th>\n",
              "      <th></th>\n",
              "      <th></th>\n",
              "      <th></th>\n",
              "      <th></th>\n",
              "      <th></th>\n",
              "    </tr>\n",
              "  </thead>\n",
              "  <tbody>\n",
              "    <tr>\n",
              "      <th>1967</th>\n",
              "      <td>The Beatles</td>\n",
              "      <td>Sgt. Pepper's Lonely Hearts Club Band</td>\n",
              "      <td>Rock</td>\n",
              "      <td>18.2</td>\n",
              "      <td>32</td>\n",
              "      <td>1960</td>\n",
              "      <td>5</td>\n",
              "      <td>Sgt. Pepper's Lonely Hearts Club Band</td>\n",
              "      <td>18.2</td>\n",
              "      <td>32.0</td>\n",
              "    </tr>\n",
              "    <tr>\n",
              "      <th>1969</th>\n",
              "      <td>The Beatles</td>\n",
              "      <td>Abbey Road</td>\n",
              "      <td>Rock</td>\n",
              "      <td>14.4</td>\n",
              "      <td>30</td>\n",
              "      <td>1960</td>\n",
              "      <td>5</td>\n",
              "      <td>Abbey Road</td>\n",
              "      <td>14.4</td>\n",
              "      <td>30.0</td>\n",
              "    </tr>\n",
              "    <tr>\n",
              "      <th>1971</th>\n",
              "      <td>Led Zeppelin</td>\n",
              "      <td>Led Zeppelin IV</td>\n",
              "      <td>Hard rock, heavy metal, folk rock</td>\n",
              "      <td>29.0</td>\n",
              "      <td>37</td>\n",
              "      <td>1970</td>\n",
              "      <td>5</td>\n",
              "      <td>Led Zeppelin IV</td>\n",
              "      <td>29.0</td>\n",
              "      <td>37.0</td>\n",
              "    </tr>\n",
              "  </tbody>\n",
              "</table>\n",
              "</div>"
            ],
            "text/plain": [
              "            artist  ... claimsales_duplicated\n",
              "year                ...                      \n",
              "1967   The Beatles  ...                  32.0\n",
              "1969   The Beatles  ...                  30.0\n",
              "1971  Led Zeppelin  ...                  37.0\n",
              "\n",
              "[3 rows x 10 columns]"
            ]
          },
          "metadata": {
            "tags": []
          },
          "execution_count": 16
        }
      ]
    },
    {
      "cell_type": "markdown",
      "metadata": {
        "id": "r_qPl9hv3o3w"
      },
      "source": [
        "### Deleting Rows and Columns\n",
        "We can remove columns or rows from a Dataframe by using the Dataframe method `.drop()`. Drop takes the index or column labels you want to drop."
      ]
    },
    {
      "cell_type": "code",
      "metadata": {
        "id": "miaWV8bl38O3",
        "colab": {
          "base_uri": "https://localhost:8080/",
          "height": 167
        },
        "outputId": "80b78878-6c6d-41a9-b4df-6427bd9b32e8"
      },
      "source": [
        "# dropping a column by column label\n",
        "df = df.drop(columns = 'claimsales_duplicated')\n",
        "\n",
        "# dropping multiple columns using a list of label\n",
        "df = df.drop(columns = ['album_duplicated','certsales_duplicated'])\n",
        "\n",
        "# check result\n",
        "df.head(3)"
      ],
      "execution_count": 17,
      "outputs": [
        {
          "output_type": "execute_result",
          "data": {
            "text/html": [
              "<div>\n",
              "<style scoped>\n",
              "    .dataframe tbody tr th:only-of-type {\n",
              "        vertical-align: middle;\n",
              "    }\n",
              "\n",
              "    .dataframe tbody tr th {\n",
              "        vertical-align: top;\n",
              "    }\n",
              "\n",
              "    .dataframe thead th {\n",
              "        text-align: right;\n",
              "    }\n",
              "</style>\n",
              "<table border=\"1\" class=\"dataframe\">\n",
              "  <thead>\n",
              "    <tr style=\"text-align: right;\">\n",
              "      <th></th>\n",
              "      <th>artist</th>\n",
              "      <th>album</th>\n",
              "      <th>genre</th>\n",
              "      <th>cert_sales</th>\n",
              "      <th>claim_sales</th>\n",
              "      <th>decade</th>\n",
              "      <th>awesomeness</th>\n",
              "    </tr>\n",
              "    <tr>\n",
              "      <th>year</th>\n",
              "      <th></th>\n",
              "      <th></th>\n",
              "      <th></th>\n",
              "      <th></th>\n",
              "      <th></th>\n",
              "      <th></th>\n",
              "      <th></th>\n",
              "    </tr>\n",
              "  </thead>\n",
              "  <tbody>\n",
              "    <tr>\n",
              "      <th>1967</th>\n",
              "      <td>The Beatles</td>\n",
              "      <td>Sgt. Pepper's Lonely Hearts Club Band</td>\n",
              "      <td>Rock</td>\n",
              "      <td>18.2</td>\n",
              "      <td>32</td>\n",
              "      <td>1960</td>\n",
              "      <td>5</td>\n",
              "    </tr>\n",
              "    <tr>\n",
              "      <th>1969</th>\n",
              "      <td>The Beatles</td>\n",
              "      <td>Abbey Road</td>\n",
              "      <td>Rock</td>\n",
              "      <td>14.4</td>\n",
              "      <td>30</td>\n",
              "      <td>1960</td>\n",
              "      <td>5</td>\n",
              "    </tr>\n",
              "    <tr>\n",
              "      <th>1971</th>\n",
              "      <td>Led Zeppelin</td>\n",
              "      <td>Led Zeppelin IV</td>\n",
              "      <td>Hard rock, heavy metal, folk rock</td>\n",
              "      <td>29.0</td>\n",
              "      <td>37</td>\n",
              "      <td>1970</td>\n",
              "      <td>5</td>\n",
              "    </tr>\n",
              "  </tbody>\n",
              "</table>\n",
              "</div>"
            ],
            "text/plain": [
              "            artist                                  album  ... decade  awesomeness\n",
              "year                                                       ...                    \n",
              "1967   The Beatles  Sgt. Pepper's Lonely Hearts Club Band  ...   1960            5\n",
              "1969   The Beatles                             Abbey Road  ...   1960            5\n",
              "1971  Led Zeppelin                        Led Zeppelin IV  ...   1970            5\n",
              "\n",
              "[3 rows x 7 columns]"
            ]
          },
          "metadata": {
            "tags": []
          },
          "execution_count": 17
        }
      ]
    },
    {
      "cell_type": "markdown",
      "metadata": {
        "id": "e_KTgNX5dBlj"
      },
      "source": [
        "We can remove rows by specifying rows rather than columns. "
      ]
    },
    {
      "cell_type": "code",
      "metadata": {
        "id": "H8aUvhUEMD8l",
        "colab": {
          "base_uri": "https://localhost:8080/",
          "height": 167
        },
        "outputId": "ab738db7-e479-4fd5-cc41-34ba03a82b60"
      },
      "source": [
        "# deleting a row using a row label\n",
        "df = df.drop(index = '2020')\n",
        "\n",
        "# check the result, no more baby shark\n",
        "df.tail(3)"
      ],
      "execution_count": 18,
      "outputs": [
        {
          "output_type": "execute_result",
          "data": {
            "text/html": [
              "<div>\n",
              "<style scoped>\n",
              "    .dataframe tbody tr th:only-of-type {\n",
              "        vertical-align: middle;\n",
              "    }\n",
              "\n",
              "    .dataframe tbody tr th {\n",
              "        vertical-align: top;\n",
              "    }\n",
              "\n",
              "    .dataframe thead th {\n",
              "        text-align: right;\n",
              "    }\n",
              "</style>\n",
              "<table border=\"1\" class=\"dataframe\">\n",
              "  <thead>\n",
              "    <tr style=\"text-align: right;\">\n",
              "      <th></th>\n",
              "      <th>artist</th>\n",
              "      <th>album</th>\n",
              "      <th>genre</th>\n",
              "      <th>cert_sales</th>\n",
              "      <th>claim_sales</th>\n",
              "      <th>decade</th>\n",
              "      <th>awesomeness</th>\n",
              "    </tr>\n",
              "    <tr>\n",
              "      <th>year</th>\n",
              "      <th></th>\n",
              "      <th></th>\n",
              "      <th></th>\n",
              "      <th></th>\n",
              "      <th></th>\n",
              "      <th></th>\n",
              "      <th></th>\n",
              "    </tr>\n",
              "  </thead>\n",
              "  <tbody>\n",
              "    <tr>\n",
              "      <th>1999</th>\n",
              "      <td>Santana</td>\n",
              "      <td>Supernatural</td>\n",
              "      <td>Latin rock</td>\n",
              "      <td>20.5</td>\n",
              "      <td>30</td>\n",
              "      <td>1990</td>\n",
              "      <td>5</td>\n",
              "    </tr>\n",
              "    <tr>\n",
              "      <th>2000</th>\n",
              "      <td>The Beatles</td>\n",
              "      <td>1</td>\n",
              "      <td>Rock</td>\n",
              "      <td>23.4</td>\n",
              "      <td>31</td>\n",
              "      <td>2000</td>\n",
              "      <td>5</td>\n",
              "    </tr>\n",
              "    <tr>\n",
              "      <th>2011</th>\n",
              "      <td>Adele</td>\n",
              "      <td>21</td>\n",
              "      <td>Pop, soul</td>\n",
              "      <td>25.3</td>\n",
              "      <td>31</td>\n",
              "      <td>2010</td>\n",
              "      <td>5</td>\n",
              "    </tr>\n",
              "  </tbody>\n",
              "</table>\n",
              "</div>"
            ],
            "text/plain": [
              "           artist         album       genre  ...  claim_sales  decade  awesomeness\n",
              "year                                         ...                                  \n",
              "1999      Santana  Supernatural  Latin rock  ...           30    1990            5\n",
              "2000  The Beatles             1        Rock  ...           31    2000            5\n",
              "2011        Adele            21   Pop, soul  ...           31    2010            5\n",
              "\n",
              "[3 rows x 7 columns]"
            ]
          },
          "metadata": {
            "tags": []
          },
          "execution_count": 18
        }
      ]
    },
    {
      "cell_type": "markdown",
      "metadata": {
        "id": "liAmAYM_7eWW"
      },
      "source": [
        "## Basic Operations with Dataframes\n",
        "\n"
      ]
    },
    {
      "cell_type": "markdown",
      "metadata": {
        "id": "jdR_sDvzMUeh"
      },
      "source": [
        "### Updating Values\n",
        "Like a list, a series is mutable, so values can be updated using indexing with `.loc` or `iloc`."
      ]
    },
    {
      "cell_type": "code",
      "metadata": {
        "id": "yKju6eSsJ14j",
        "colab": {
          "base_uri": "https://localhost:8080/",
          "height": 257
        },
        "outputId": "5622403c-1ae5-485a-bb96-07f0576a6184"
      },
      "source": [
        "# select all rows, where the artist column is either Eagles or Celine Dion\n",
        "not_awesome_mask = df.loc[:, 'artist'].isin(['Eagles', 'Celine Dion'])\n",
        "\n",
        "# update a value based on a label\n",
        "df.loc[not_awesome_mask, 'awesomeness'] = 1\n",
        "\n",
        "#check the result\n",
        "df.loc[[1976,1996,1997], ['artist', 'album', 'awesomeness']]"
      ],
      "execution_count": 19,
      "outputs": [
        {
          "output_type": "execute_result",
          "data": {
            "text/html": [
              "<div>\n",
              "<style scoped>\n",
              "    .dataframe tbody tr th:only-of-type {\n",
              "        vertical-align: middle;\n",
              "    }\n",
              "\n",
              "    .dataframe tbody tr th {\n",
              "        vertical-align: top;\n",
              "    }\n",
              "\n",
              "    .dataframe thead th {\n",
              "        text-align: right;\n",
              "    }\n",
              "</style>\n",
              "<table border=\"1\" class=\"dataframe\">\n",
              "  <thead>\n",
              "    <tr style=\"text-align: right;\">\n",
              "      <th></th>\n",
              "      <th>artist</th>\n",
              "      <th>album</th>\n",
              "      <th>awesomeness</th>\n",
              "    </tr>\n",
              "    <tr>\n",
              "      <th>year</th>\n",
              "      <th></th>\n",
              "      <th></th>\n",
              "      <th></th>\n",
              "    </tr>\n",
              "  </thead>\n",
              "  <tbody>\n",
              "    <tr>\n",
              "      <th>1976</th>\n",
              "      <td>Eagles</td>\n",
              "      <td>Their Greatest Hits (1971–1975)</td>\n",
              "      <td>1</td>\n",
              "    </tr>\n",
              "    <tr>\n",
              "      <th>1976</th>\n",
              "      <td>Eagles</td>\n",
              "      <td>Hotel California</td>\n",
              "      <td>1</td>\n",
              "    </tr>\n",
              "    <tr>\n",
              "      <th>1996</th>\n",
              "      <td>Celine Dion</td>\n",
              "      <td>Falling into You</td>\n",
              "      <td>1</td>\n",
              "    </tr>\n",
              "    <tr>\n",
              "      <th>1997</th>\n",
              "      <td>Celine Dion</td>\n",
              "      <td>Let's Talk About Love</td>\n",
              "      <td>1</td>\n",
              "    </tr>\n",
              "    <tr>\n",
              "      <th>1997</th>\n",
              "      <td>James Horner</td>\n",
              "      <td>Titanic: Music from the Motion Picture</td>\n",
              "      <td>5</td>\n",
              "    </tr>\n",
              "    <tr>\n",
              "      <th>1997</th>\n",
              "      <td>Shania Twain</td>\n",
              "      <td>Come On Over</td>\n",
              "      <td>5</td>\n",
              "    </tr>\n",
              "  </tbody>\n",
              "</table>\n",
              "</div>"
            ],
            "text/plain": [
              "            artist                                   album  awesomeness\n",
              "year                                                                   \n",
              "1976        Eagles         Their Greatest Hits (1971–1975)            1\n",
              "1976        Eagles                        Hotel California            1\n",
              "1996   Celine Dion                        Falling into You            1\n",
              "1997   Celine Dion                   Let's Talk About Love            1\n",
              "1997  James Horner  Titanic: Music from the Motion Picture            5\n",
              "1997  Shania Twain                            Come On Over            5"
            ]
          },
          "metadata": {
            "tags": []
          },
          "execution_count": 19
        }
      ]
    },
    {
      "cell_type": "markdown",
      "metadata": {
        "id": "BtVwyCV4h_kz"
      },
      "source": [
        "It's entirely possible people bought the Titanic soundtrack just because of Celine Dion, so let's make one more alteration."
      ]
    },
    {
      "cell_type": "code",
      "metadata": {
        "id": "BJaP6Hh05PM0",
        "colab": {
          "base_uri": "https://localhost:8080/",
          "height": 257
        },
        "outputId": "2cda545f-d66d-487c-de7d-2e8763913a50"
      },
      "source": [
        "# create a mask to select the row with Titanic by album name\n",
        "titanic_mask = df.loc[:, 'album'] == 'Titanic: Music from the Motion Picture'\n",
        "\n",
        "# use the mask to selecte the row and set the value\n",
        "df.loc[titanic_mask, 'awesomeness'] = 2\n",
        "\n",
        "#check the result\n",
        "df.loc[[1976,1996,1997], ['artist', 'album', 'awesomeness']]"
      ],
      "execution_count": 20,
      "outputs": [
        {
          "output_type": "execute_result",
          "data": {
            "text/html": [
              "<div>\n",
              "<style scoped>\n",
              "    .dataframe tbody tr th:only-of-type {\n",
              "        vertical-align: middle;\n",
              "    }\n",
              "\n",
              "    .dataframe tbody tr th {\n",
              "        vertical-align: top;\n",
              "    }\n",
              "\n",
              "    .dataframe thead th {\n",
              "        text-align: right;\n",
              "    }\n",
              "</style>\n",
              "<table border=\"1\" class=\"dataframe\">\n",
              "  <thead>\n",
              "    <tr style=\"text-align: right;\">\n",
              "      <th></th>\n",
              "      <th>artist</th>\n",
              "      <th>album</th>\n",
              "      <th>awesomeness</th>\n",
              "    </tr>\n",
              "    <tr>\n",
              "      <th>year</th>\n",
              "      <th></th>\n",
              "      <th></th>\n",
              "      <th></th>\n",
              "    </tr>\n",
              "  </thead>\n",
              "  <tbody>\n",
              "    <tr>\n",
              "      <th>1976</th>\n",
              "      <td>Eagles</td>\n",
              "      <td>Their Greatest Hits (1971–1975)</td>\n",
              "      <td>1</td>\n",
              "    </tr>\n",
              "    <tr>\n",
              "      <th>1976</th>\n",
              "      <td>Eagles</td>\n",
              "      <td>Hotel California</td>\n",
              "      <td>1</td>\n",
              "    </tr>\n",
              "    <tr>\n",
              "      <th>1996</th>\n",
              "      <td>Celine Dion</td>\n",
              "      <td>Falling into You</td>\n",
              "      <td>1</td>\n",
              "    </tr>\n",
              "    <tr>\n",
              "      <th>1997</th>\n",
              "      <td>Celine Dion</td>\n",
              "      <td>Let's Talk About Love</td>\n",
              "      <td>1</td>\n",
              "    </tr>\n",
              "    <tr>\n",
              "      <th>1997</th>\n",
              "      <td>James Horner</td>\n",
              "      <td>Titanic: Music from the Motion Picture</td>\n",
              "      <td>2</td>\n",
              "    </tr>\n",
              "    <tr>\n",
              "      <th>1997</th>\n",
              "      <td>Shania Twain</td>\n",
              "      <td>Come On Over</td>\n",
              "      <td>5</td>\n",
              "    </tr>\n",
              "  </tbody>\n",
              "</table>\n",
              "</div>"
            ],
            "text/plain": [
              "            artist                                   album  awesomeness\n",
              "year                                                                   \n",
              "1976        Eagles         Their Greatest Hits (1971–1975)            1\n",
              "1976        Eagles                        Hotel California            1\n",
              "1996   Celine Dion                        Falling into You            1\n",
              "1997   Celine Dion                   Let's Talk About Love            1\n",
              "1997  James Horner  Titanic: Music from the Motion Picture            2\n",
              "1997  Shania Twain                            Come On Over            5"
            ]
          },
          "metadata": {
            "tags": []
          },
          "execution_count": 20
        }
      ]
    },
    {
      "cell_type": "markdown",
      "metadata": {
        "id": "o6_VwkU35YaG"
      },
      "source": [
        "That seems fair. In case you're wondering, my ranking of awesomeness is roughly inversely proportional to the number of times I had to hear these songs growing up. You may feel the same way about Adele at this point. If so, feel free to edit some code to set your own levels of awesomeness. "
      ]
    },
    {
      "cell_type": "markdown",
      "metadata": {
        "id": "LpD0WO0EiV0I"
      },
      "source": [
        "Note: setting or 'updating' variables with `.loc` or `.iloc`, as we have in this section, changes the dataframe directly. We do not need to make a copy of the series to make the change."
      ]
    },
    {
      "cell_type": "markdown",
      "metadata": {
        "id": "7jIEC_A_-E31"
      },
      "source": [
        "### Basic Math Operations\n",
        "If we have an entire dataframe of integers or floats, we can do math operations in the same way we do with series. If we've got a dataframe with mixed data-types, we need to specify the correct columns before we do the math."
      ]
    },
    {
      "cell_type": "code",
      "metadata": {
        "id": "DuLktVUF760N",
        "colab": {
          "base_uri": "https://localhost:8080/",
          "height": 167
        },
        "outputId": "049a0a67-8a66-4d2a-c9e7-188accaf71d0"
      },
      "source": [
        "# put sales column labels into a list\n",
        "sales_columns = ['cert_sales', 'claim_sales']\n",
        "\n",
        "# before the math operation\n",
        "df.loc[:, sales_columns].head(3)"
      ],
      "execution_count": 21,
      "outputs": [
        {
          "output_type": "execute_result",
          "data": {
            "text/html": [
              "<div>\n",
              "<style scoped>\n",
              "    .dataframe tbody tr th:only-of-type {\n",
              "        vertical-align: middle;\n",
              "    }\n",
              "\n",
              "    .dataframe tbody tr th {\n",
              "        vertical-align: top;\n",
              "    }\n",
              "\n",
              "    .dataframe thead th {\n",
              "        text-align: right;\n",
              "    }\n",
              "</style>\n",
              "<table border=\"1\" class=\"dataframe\">\n",
              "  <thead>\n",
              "    <tr style=\"text-align: right;\">\n",
              "      <th></th>\n",
              "      <th>cert_sales</th>\n",
              "      <th>claim_sales</th>\n",
              "    </tr>\n",
              "    <tr>\n",
              "      <th>year</th>\n",
              "      <th></th>\n",
              "      <th></th>\n",
              "    </tr>\n",
              "  </thead>\n",
              "  <tbody>\n",
              "    <tr>\n",
              "      <th>1967</th>\n",
              "      <td>18.2</td>\n",
              "      <td>32</td>\n",
              "    </tr>\n",
              "    <tr>\n",
              "      <th>1969</th>\n",
              "      <td>14.4</td>\n",
              "      <td>30</td>\n",
              "    </tr>\n",
              "    <tr>\n",
              "      <th>1971</th>\n",
              "      <td>29.0</td>\n",
              "      <td>37</td>\n",
              "    </tr>\n",
              "  </tbody>\n",
              "</table>\n",
              "</div>"
            ],
            "text/plain": [
              "      cert_sales  claim_sales\n",
              "year                         \n",
              "1967        18.2           32\n",
              "1969        14.4           30\n",
              "1971        29.0           37"
            ]
          },
          "metadata": {
            "tags": []
          },
          "execution_count": 21
        }
      ]
    },
    {
      "cell_type": "code",
      "metadata": {
        "id": "OExMBTzQ2-_W",
        "colab": {
          "base_uri": "https://localhost:8080/",
          "height": 167
        },
        "outputId": "43e87093-bf73-453b-e25e-87d94bfd2e9f"
      },
      "source": [
        "# update the sales_column, add five to all values\n",
        "df.loc[:, sales_columns] = df.loc[:, sales_columns] + 5\n",
        "\n",
        "# after the math operation\n",
        "df.loc[:, sales_columns].head(3)"
      ],
      "execution_count": 22,
      "outputs": [
        {
          "output_type": "execute_result",
          "data": {
            "text/html": [
              "<div>\n",
              "<style scoped>\n",
              "    .dataframe tbody tr th:only-of-type {\n",
              "        vertical-align: middle;\n",
              "    }\n",
              "\n",
              "    .dataframe tbody tr th {\n",
              "        vertical-align: top;\n",
              "    }\n",
              "\n",
              "    .dataframe thead th {\n",
              "        text-align: right;\n",
              "    }\n",
              "</style>\n",
              "<table border=\"1\" class=\"dataframe\">\n",
              "  <thead>\n",
              "    <tr style=\"text-align: right;\">\n",
              "      <th></th>\n",
              "      <th>cert_sales</th>\n",
              "      <th>claim_sales</th>\n",
              "    </tr>\n",
              "    <tr>\n",
              "      <th>year</th>\n",
              "      <th></th>\n",
              "      <th></th>\n",
              "    </tr>\n",
              "  </thead>\n",
              "  <tbody>\n",
              "    <tr>\n",
              "      <th>1967</th>\n",
              "      <td>23.2</td>\n",
              "      <td>37</td>\n",
              "    </tr>\n",
              "    <tr>\n",
              "      <th>1969</th>\n",
              "      <td>19.4</td>\n",
              "      <td>35</td>\n",
              "    </tr>\n",
              "    <tr>\n",
              "      <th>1971</th>\n",
              "      <td>34.0</td>\n",
              "      <td>42</td>\n",
              "    </tr>\n",
              "  </tbody>\n",
              "</table>\n",
              "</div>"
            ],
            "text/plain": [
              "      cert_sales  claim_sales\n",
              "year                         \n",
              "1967        23.2           37\n",
              "1969        19.4           35\n",
              "1971        34.0           42"
            ]
          },
          "metadata": {
            "tags": []
          },
          "execution_count": 22
        }
      ]
    },
    {
      "cell_type": "markdown",
      "metadata": {
        "id": "qj-bKxHUTT9n"
      },
      "source": [
        "### Basic String Operations\n",
        "The same applies to string operations. All the same string methods that were available with series can still be applied a series in a Dataframe."
      ]
    },
    {
      "cell_type": "code",
      "metadata": {
        "id": "FlNzRY3_3eEf",
        "colab": {
          "base_uri": "https://localhost:8080/"
        },
        "outputId": "28a44de1-f59c-4099-8f16-2330ecc22901"
      },
      "source": [
        "# before using the a string method\n",
        "df.loc[:, 'genre'].head(3)"
      ],
      "execution_count": 23,
      "outputs": [
        {
          "output_type": "execute_result",
          "data": {
            "text/plain": [
              "year\n",
              "1967                                 Rock\n",
              "1969                                 Rock\n",
              "1971    Hard rock, heavy metal, folk rock\n",
              "Name: genre, dtype: object"
            ]
          },
          "metadata": {
            "tags": []
          },
          "execution_count": 23
        }
      ]
    },
    {
      "cell_type": "code",
      "metadata": {
        "id": "P58GMz7t89ds",
        "colab": {
          "base_uri": "https://localhost:8080/"
        },
        "outputId": "33617ce4-482a-49c5-d06a-711416ef8638"
      },
      "source": [
        "# creates a series with strings as values\n",
        "df.loc[:, 'genre'] = df.loc[:, 'genre'].str.lower()\n",
        "df.loc[:, 'genre'].head(3)\n"
      ],
      "execution_count": 24,
      "outputs": [
        {
          "output_type": "execute_result",
          "data": {
            "text/plain": [
              "year\n",
              "1967                                 rock\n",
              "1969                                 rock\n",
              "1971    hard rock, heavy metal, folk rock\n",
              "Name: genre, dtype: object"
            ]
          },
          "metadata": {
            "tags": []
          },
          "execution_count": 24
        }
      ]
    },
    {
      "cell_type": "markdown",
      "metadata": {
        "id": "8jWnjJ7FXyte"
      },
      "source": [
        "## Some Examples\n",
        "I've grabbed some data on the estimated population of each U.S. State in 2019 [from this website](https://www.infoplease.com/us/states/state-population-by-rank) and information about grammy winners by state [from this website](https://www.decluttr.com/blog/2018/01/18/which-state-has-produced-the-most-big-four-grammy-winners/). "
      ]
    },
    {
      "cell_type": "code",
      "metadata": {
        "id": "qZGBZq7piaru",
        "colab": {
          "base_uri": "https://localhost:8080/",
          "height": 227
        },
        "outputId": "ac54a9db-1fe7-4070-97c6-711a30acb796"
      },
      "source": [
        "state_list = ['California', 'Texas', 'Florida', 'New York', 'Illinois',\n",
        "              'Pennsylvania', 'Ohio', 'Georgia', 'North Carolina', 'Michigan',\n",
        "              'New Jersey', 'Virginia', 'Washington', 'Arizona','Massachusetts',\n",
        "              'Tennessee', 'Indiana', 'Missouri', 'Maryland', 'Wisconsin',\n",
        "              'Colorado', 'Minnesota', 'South Carolina', 'Alabama', 'Louisiana',\n",
        "              'Kentucky', 'Oregon', 'Oklahoma', 'Connecticut', 'Utah', 'Iowa',\n",
        "              'Nevada', 'Arkansas', 'Mississippi', 'Kansas', 'New Mexico',\n",
        "              'Nebraska', 'West Virginia', 'Idaho', 'Hawaii', 'New Hampshire',\n",
        "              'Maine', 'Montana', 'Rhode Island', 'Delaware', 'South Dakota',\n",
        "              'North Dakota', 'Alaska', 'DC', 'Vermont', 'Wyoming']\n",
        "\n",
        "population_list = [39512223, 28995881, 21477737, 19453561, 12671821, 12801989,\n",
        "                   11689100, 10617423, 10488084, 9986857, 8882190, 8535519,\n",
        "                   7614893, 7278717, 6949503, 6833174, 6732219, 6137428,\n",
        "                   6045680, 5822434, 5758736, 5639632, 5148714, 4903185,\n",
        "                   4648794, 4467673, 4217737, 3956971, 3565287, 3205958,\n",
        "                   3155070, 3080156, 3017825, 2976149, 2913314, 2096829,\n",
        "                   1934408, 1792147, 1787065, 1415872, 1359711, 1344212,\n",
        "                   1068778, 1059361, 973764, 884659, 762062, 731545, 705749,\n",
        "                   623989, 578759]\n",
        "\n",
        "# by state, alphabetical, excludes DC\n",
        "grammy_list = [3,0,0,3,27,1,1,None,0,2,10,3,0,15,3,1,1,1,1,2,3,4,4,3,2,5,0,1,\n",
        "               0,0,15,0,49,3,0,8,2,1,7,1,1,1,7,12,0,0,3,3,0,1,0] \n",
        "\n",
        "# create a Dataframe from state and pop. lists, ignore how this works\n",
        "dfg = pd.DataFrame(list(zip(state_list, population_list)),\n",
        "                   columns=['state', 'population'])\n",
        "\n",
        "# sort the Dataframe by state\n",
        "dfg = dfg.sort_values('state')\n",
        "\n",
        "# add the grammy count as a new column \n",
        "dfg.loc[:,'grammies'] = grammy_list\n",
        "\n",
        "# set the index to state\n",
        "dfg = dfg.set_index('state')\n",
        "\n",
        "# check the result\n",
        "dfg.head()"
      ],
      "execution_count": 25,
      "outputs": [
        {
          "output_type": "execute_result",
          "data": {
            "text/html": [
              "<div>\n",
              "<style scoped>\n",
              "    .dataframe tbody tr th:only-of-type {\n",
              "        vertical-align: middle;\n",
              "    }\n",
              "\n",
              "    .dataframe tbody tr th {\n",
              "        vertical-align: top;\n",
              "    }\n",
              "\n",
              "    .dataframe thead th {\n",
              "        text-align: right;\n",
              "    }\n",
              "</style>\n",
              "<table border=\"1\" class=\"dataframe\">\n",
              "  <thead>\n",
              "    <tr style=\"text-align: right;\">\n",
              "      <th></th>\n",
              "      <th>population</th>\n",
              "      <th>grammies</th>\n",
              "    </tr>\n",
              "    <tr>\n",
              "      <th>state</th>\n",
              "      <th></th>\n",
              "      <th></th>\n",
              "    </tr>\n",
              "  </thead>\n",
              "  <tbody>\n",
              "    <tr>\n",
              "      <th>Alabama</th>\n",
              "      <td>4903185</td>\n",
              "      <td>3.0</td>\n",
              "    </tr>\n",
              "    <tr>\n",
              "      <th>Alaska</th>\n",
              "      <td>731545</td>\n",
              "      <td>0.0</td>\n",
              "    </tr>\n",
              "    <tr>\n",
              "      <th>Arizona</th>\n",
              "      <td>7278717</td>\n",
              "      <td>0.0</td>\n",
              "    </tr>\n",
              "    <tr>\n",
              "      <th>Arkansas</th>\n",
              "      <td>3017825</td>\n",
              "      <td>3.0</td>\n",
              "    </tr>\n",
              "    <tr>\n",
              "      <th>California</th>\n",
              "      <td>39512223</td>\n",
              "      <td>27.0</td>\n",
              "    </tr>\n",
              "  </tbody>\n",
              "</table>\n",
              "</div>"
            ],
            "text/plain": [
              "            population  grammies\n",
              "state                           \n",
              "Alabama        4903185       3.0\n",
              "Alaska          731545       0.0\n",
              "Arizona        7278717       0.0\n",
              "Arkansas       3017825       3.0\n",
              "California    39512223      27.0"
            ]
          },
          "metadata": {
            "tags": []
          },
          "execution_count": 25
        }
      ]
    },
    {
      "cell_type": "markdown",
      "metadata": {
        "id": "WHHtrC0Ej0g4"
      },
      "source": [
        "What are the top ten states for total number of grammy winners?"
      ]
    },
    {
      "cell_type": "code",
      "metadata": {
        "id": "KWJ9-EMjjvHi",
        "colab": {
          "base_uri": "https://localhost:8080/",
          "height": 377
        },
        "outputId": "c72b6feb-d525-44db-ece8-9c6e77bb6259"
      },
      "source": [
        "dfg.sort_values('grammies', ascending=False).head(10)"
      ],
      "execution_count": 26,
      "outputs": [
        {
          "output_type": "execute_result",
          "data": {
            "text/html": [
              "<div>\n",
              "<style scoped>\n",
              "    .dataframe tbody tr th:only-of-type {\n",
              "        vertical-align: middle;\n",
              "    }\n",
              "\n",
              "    .dataframe tbody tr th {\n",
              "        vertical-align: top;\n",
              "    }\n",
              "\n",
              "    .dataframe thead th {\n",
              "        text-align: right;\n",
              "    }\n",
              "</style>\n",
              "<table border=\"1\" class=\"dataframe\">\n",
              "  <thead>\n",
              "    <tr style=\"text-align: right;\">\n",
              "      <th></th>\n",
              "      <th>population</th>\n",
              "      <th>grammies</th>\n",
              "    </tr>\n",
              "    <tr>\n",
              "      <th>state</th>\n",
              "      <th></th>\n",
              "      <th></th>\n",
              "    </tr>\n",
              "  </thead>\n",
              "  <tbody>\n",
              "    <tr>\n",
              "      <th>New York</th>\n",
              "      <td>19453561</td>\n",
              "      <td>49.0</td>\n",
              "    </tr>\n",
              "    <tr>\n",
              "      <th>California</th>\n",
              "      <td>39512223</td>\n",
              "      <td>27.0</td>\n",
              "    </tr>\n",
              "    <tr>\n",
              "      <th>New Jersey</th>\n",
              "      <td>8882190</td>\n",
              "      <td>15.0</td>\n",
              "    </tr>\n",
              "    <tr>\n",
              "      <th>Illinois</th>\n",
              "      <td>12671821</td>\n",
              "      <td>15.0</td>\n",
              "    </tr>\n",
              "    <tr>\n",
              "      <th>Texas</th>\n",
              "      <td>28995881</td>\n",
              "      <td>12.0</td>\n",
              "    </tr>\n",
              "    <tr>\n",
              "      <th>Georgia</th>\n",
              "      <td>10617423</td>\n",
              "      <td>10.0</td>\n",
              "    </tr>\n",
              "    <tr>\n",
              "      <th>Ohio</th>\n",
              "      <td>11689100</td>\n",
              "      <td>8.0</td>\n",
              "    </tr>\n",
              "    <tr>\n",
              "      <th>Pennsylvania</th>\n",
              "      <td>12801989</td>\n",
              "      <td>7.0</td>\n",
              "    </tr>\n",
              "    <tr>\n",
              "      <th>Tennessee</th>\n",
              "      <td>6833174</td>\n",
              "      <td>7.0</td>\n",
              "    </tr>\n",
              "    <tr>\n",
              "      <th>Missouri</th>\n",
              "      <td>6137428</td>\n",
              "      <td>5.0</td>\n",
              "    </tr>\n",
              "  </tbody>\n",
              "</table>\n",
              "</div>"
            ],
            "text/plain": [
              "              population  grammies\n",
              "state                             \n",
              "New York        19453561      49.0\n",
              "California      39512223      27.0\n",
              "New Jersey       8882190      15.0\n",
              "Illinois        12671821      15.0\n",
              "Texas           28995881      12.0\n",
              "Georgia         10617423      10.0\n",
              "Ohio            11689100       8.0\n",
              "Pennsylvania    12801989       7.0\n",
              "Tennessee        6833174       7.0\n",
              "Missouri         6137428       5.0"
            ]
          },
          "metadata": {
            "tags": []
          },
          "execution_count": 26
        }
      ]
    },
    {
      "cell_type": "markdown",
      "metadata": {
        "id": "04OOoCQJkp9i"
      },
      "source": [
        "What are the five most populous states that have never won a grammy?"
      ]
    },
    {
      "cell_type": "code",
      "metadata": {
        "id": "ECAErNdulCuA",
        "colab": {
          "base_uri": "https://localhost:8080/",
          "height": 227
        },
        "outputId": "2d6e09ee-3939-4dcd-a34d-f96d08784152"
      },
      "source": [
        "# create a no grammy mask that selects winless states\n",
        "no_grammy_mask = (dfg.loc[:, 'grammies'] == 0)\n",
        "\n",
        "# apply the mask to the rows, then sort by population\n",
        "dfg.loc[no_grammy_mask, :] \\\n",
        "   .sort_values('population', ascending=False) \\\n",
        "   .head(5) "
      ],
      "execution_count": 27,
      "outputs": [
        {
          "output_type": "execute_result",
          "data": {
            "text/html": [
              "<div>\n",
              "<style scoped>\n",
              "    .dataframe tbody tr th:only-of-type {\n",
              "        vertical-align: middle;\n",
              "    }\n",
              "\n",
              "    .dataframe tbody tr th {\n",
              "        vertical-align: top;\n",
              "    }\n",
              "\n",
              "    .dataframe thead th {\n",
              "        text-align: right;\n",
              "    }\n",
              "</style>\n",
              "<table border=\"1\" class=\"dataframe\">\n",
              "  <thead>\n",
              "    <tr style=\"text-align: right;\">\n",
              "      <th></th>\n",
              "      <th>population</th>\n",
              "      <th>grammies</th>\n",
              "    </tr>\n",
              "    <tr>\n",
              "      <th>state</th>\n",
              "      <th></th>\n",
              "      <th></th>\n",
              "    </tr>\n",
              "  </thead>\n",
              "  <tbody>\n",
              "    <tr>\n",
              "      <th>Arizona</th>\n",
              "      <td>7278717</td>\n",
              "      <td>0.0</td>\n",
              "    </tr>\n",
              "    <tr>\n",
              "      <th>Utah</th>\n",
              "      <td>3205958</td>\n",
              "      <td>0.0</td>\n",
              "    </tr>\n",
              "    <tr>\n",
              "      <th>Nevada</th>\n",
              "      <td>3080156</td>\n",
              "      <td>0.0</td>\n",
              "    </tr>\n",
              "    <tr>\n",
              "      <th>New Mexico</th>\n",
              "      <td>2096829</td>\n",
              "      <td>0.0</td>\n",
              "    </tr>\n",
              "    <tr>\n",
              "      <th>West Virginia</th>\n",
              "      <td>1792147</td>\n",
              "      <td>0.0</td>\n",
              "    </tr>\n",
              "  </tbody>\n",
              "</table>\n",
              "</div>"
            ],
            "text/plain": [
              "               population  grammies\n",
              "state                              \n",
              "Arizona           7278717       0.0\n",
              "Utah              3205958       0.0\n",
              "Nevada            3080156       0.0\n",
              "New Mexico        2096829       0.0\n",
              "West Virginia     1792147       0.0"
            ]
          },
          "metadata": {
            "tags": []
          },
          "execution_count": 27
        }
      ]
    },
    {
      "cell_type": "markdown",
      "metadata": {
        "id": "666cuPt4mqNV"
      },
      "source": [
        "What are the top ten states for winning grammies as a proportion of their population size?"
      ]
    },
    {
      "cell_type": "code",
      "metadata": {
        "id": "4vYRdDJ7m1wp",
        "colab": {
          "base_uri": "https://localhost:8080/"
        },
        "outputId": "5710dbe8-e6c0-4c18-eb14-b8d54fcbdd62"
      },
      "source": [
        "# calculate winners per million\n",
        "winners_per_mil = (dfg.loc[:, 'grammies'] / dfg.loc[:, 'population']) * 1000000\n",
        "\n",
        "# sort and display result\n",
        "winners_per_mil.sort_values(ascending=False).head(10)"
      ],
      "execution_count": 28,
      "outputs": [
        {
          "output_type": "execute_result",
          "data": {
            "text/plain": [
              "state\n",
              "New York        2.518819\n",
              "Hawaii          2.118836\n",
              "New Jersey      1.688773\n",
              "Maine           1.487861\n",
              "Illinois        1.183729\n",
              "South Dakota    1.130379\n",
              "Tennessee       1.024414\n",
              "Arkansas        0.994093\n",
              "Rhode Island    0.943965\n",
              "Georgia         0.941848\n",
              "dtype: float64"
            ]
          },
          "metadata": {
            "tags": []
          },
          "execution_count": 28
        }
      ]
    },
    {
      "cell_type": "markdown",
      "metadata": {
        "id": "95C_nztXo8Si"
      },
      "source": [
        "New York still tops the list when we account for the population size. Hawaii is not too far behind! Also, Maine? And California is no where to be seen.  Lots of surprises here. "
      ]
    }
  ]
}