{
  "nbformat": 4,
  "nbformat_minor": 0,
  "metadata": {
    "kernelspec": {
      "display_name": "Python 3",
      "language": "python",
      "name": "python3"
    },
    "language_info": {
      "codemirror_mode": {
        "name": "ipython",
        "version": 3
      },
      "file_extension": ".py",
      "mimetype": "text/x-python",
      "name": "python",
      "nbconvert_exporter": "python",
      "pygments_lexer": "ipython3",
      "version": "3.6.8"
    },
    "colab": {
      "name": "06.1 Series - Basics.ipynb",
      "provenance": [],
      "collapsed_sections": [],
      "toc_visible": true
    }
  },
  "cells": [
    {
      "cell_type": "markdown",
      "metadata": {
        "id": "D0Qck8cX6c0i"
      },
      "source": [
        "# Series: Introduction"
      ]
    },
    {
      "cell_type": "markdown",
      "metadata": {
        "id": "rDKb69fpxQkM"
      },
      "source": [
        "## Introduction\n",
        "\n",
        "Up to this point we've dealt with data inside either strings or lists. Putting data into a list allows us to do things with the data like:\n",
        "* sort it to change the order of the items\n",
        "* index it to get a single item\n",
        "* slice it to get some subset of items\n",
        "\n",
        "We are now going to start working with a Python library called Pandas. Pandas is a library that allows us to work with lots of data in some pretty sophisticated ways. The first part of Pandas that we are going to learn is the Pandas series. A Pandas series has a lot in common with a Python list and, in it's most basic form, a series will behave almost exactly like a list. Like a list, a series can hold data of different types, it can be indexed, and it can be sliced. However, a series can do some thing a list can't. We will explore a few of these things in this course, but there's also a lot we are not going to cover. If you get interested, [the Pandas documentation covers the wide variety of methods available for Series objects](https://pandas.pydata.org/pandas-docs/stable/reference/api/pandas.Series.html). \n"
      ]
    },
    {
      "cell_type": "markdown",
      "metadata": {
        "id": "hc9KXOWPxbrs"
      },
      "source": [
        "## Installing and Importing Pandas\n",
        "Pandas is not part of Python's standard library. Before we can use the Pandas library,  we may need to install it. If you are using Google Colab or an Anaconda installation, Pandas has already been installed and you can skip to the import below. Otherwise, Pandas instructions for installing Pandas [can be found here](https://pandas.pydata.org/pandas-docs/stable/getting_started/install.html).   \n",
        "\n",
        "\n",
        "Once Pandas has been installed, we can import it. By convention, Pandas is typically imported with the alias `pd`."
      ]
    },
    {
      "cell_type": "code",
      "metadata": {
        "id": "5guYFg7QxTTU"
      },
      "source": [
        "# imports\n",
        "import pandas as pd"
      ],
      "execution_count": 1,
      "outputs": []
    },
    {
      "cell_type": "markdown",
      "metadata": {
        "id": "nttwIS8K8XcL"
      },
      "source": [
        "## Creating and Copying Series"
      ]
    },
    {
      "cell_type": "markdown",
      "metadata": {
        "id": "Xd40gseKn3Jd"
      },
      "source": [
        "### Creating Empty Series\n",
        "\n",
        "To create a new series, we can use the `pd.Series` method. When we create the series, Pandas would like to know what kind of data we intend to store in the series. We could specify integers, `dtype='Int64'`, strings, `'dtype='string'`, and [other things](https://pandas.pydata.org/pandas-docs/stable/user_guide/basics.html#basics-dtypes). If we want to mix data types within the series, we can specify 'object' as the data type using the `dtype='object'` argument.\n"
      ]
    },
    {
      "cell_type": "code",
      "metadata": {
        "id": "qJ0GsfJDzt-t",
        "colab": {
          "base_uri": "https://localhost:8080/"
        },
        "outputId": "394553fb-a22c-4ac5-df4f-bfab74407667"
      },
      "source": [
        "# examples of creating empty series objects\n",
        "my_integer_series = pd.Series(dtype='int64')\n",
        "my_string_series = pd.Series(dtype='string')\n",
        "my_mixed_series = pd.Series(dtype='object')\n",
        "\n",
        "# check the empty series objects\n",
        "series_list = [my_integer_series, my_string_series, my_mixed_series]\n",
        "for s in series_list:\n",
        "  print(f'{s}, length = {len(s)} ')"
      ],
      "execution_count": 2,
      "outputs": [
        {
          "output_type": "stream",
          "text": [
            "Series([], dtype: int64), length = 0 \n",
            "Series([], dtype: string), length = 0 \n",
            "Series([], dtype: object), length = 0 \n"
          ],
          "name": "stdout"
        }
      ]
    },
    {
      "cell_type": "markdown",
      "metadata": {
        "id": "QkAHxqic5sT7"
      },
      "source": [
        "### Creating Series from Lists\n",
        "\n",
        "More commonly, we won't start with empty series, instead we will create a series using existing data from some other kind of object. If we have the data in some form and want to put it into a series, we again use `pd.Series` but we do so using the data source as an argument. Below we create series from lists."
      ]
    },
    {
      "cell_type": "code",
      "metadata": {
        "id": "ixvnl1YV9OPE",
        "colab": {
          "base_uri": "https://localhost:8080/"
        },
        "outputId": "4f5f5520-e7b3-4b94-bc38-116244d7e296"
      },
      "source": [
        "integer_list = [11, 12, 13, 14, 15]\n",
        "string_list = ['apple', 'banana', 'cherry', 'daikon', 'eggplant']\n",
        "mixed_list = integer_list + string_list \n",
        "\n",
        "# examples of creating series objects from lists\n",
        "my_integer_series = pd.Series(integer_list, dtype='int64')\n",
        "my_string_series = pd.Series(string_list, dtype='string')\n",
        "my_mixed_series = pd.Series(mixed_list, dtype='object')\n",
        "\n",
        "# check the series objects\n",
        "series_list = [my_integer_series, my_string_series, my_mixed_series]\n",
        "for s in series_list:\n",
        "  print(f'{s}, length = {len(s)} ')\n",
        "  print()\n"
      ],
      "execution_count": 3,
      "outputs": [
        {
          "output_type": "stream",
          "text": [
            "0    11\n",
            "1    12\n",
            "2    13\n",
            "3    14\n",
            "4    15\n",
            "dtype: int64, length = 5 \n",
            "\n",
            "0       apple\n",
            "1      banana\n",
            "2      cherry\n",
            "3      daikon\n",
            "4    eggplant\n",
            "dtype: string, length = 5 \n",
            "\n",
            "0          11\n",
            "1          12\n",
            "2          13\n",
            "3          14\n",
            "4          15\n",
            "5       apple\n",
            "6      banana\n",
            "7      cherry\n",
            "8      daikon\n",
            "9    eggplant\n",
            "dtype: object, length = 10 \n",
            "\n"
          ],
          "name": "stdout"
        }
      ]
    },
    {
      "cell_type": "markdown",
      "metadata": {
        "id": "_v7wPgFX-pXa"
      },
      "source": [
        "When we create a series from existing data we do not have to specify the datatype using the `dtype` argument. If we exclude the argument, Pandas will attempt to infer the dtype of the series. Often this automatic inference works as you'd like, but there are occasions where the data you are building the series from cause some complications. We will return this issue in a bit when we discuss dataframes.  "
      ]
    },
    {
      "cell_type": "code",
      "metadata": {
        "id": "0jDoTPbv-pva",
        "colab": {
          "base_uri": "https://localhost:8080/"
        },
        "outputId": "d9e24ff1-73e0-42ad-97f5-9167d230dfc9"
      },
      "source": [
        "# examples of creating series objects from lists without specifying the data type\n",
        "my_integer_series = pd.Series(integer_list)\n",
        "my_string_series = pd.Series(string_list)\n",
        "my_mixed_series = pd.Series(mixed_list)\n",
        "\n",
        "# check the series objects\n",
        "series_list = [my_integer_series, my_string_series, my_mixed_series]\n",
        "for s in series_list:\n",
        "  print(f'{s}, length = {len(s)} ')\n",
        "  print()"
      ],
      "execution_count": 4,
      "outputs": [
        {
          "output_type": "stream",
          "text": [
            "0    11\n",
            "1    12\n",
            "2    13\n",
            "3    14\n",
            "4    15\n",
            "dtype: int64, length = 5 \n",
            "\n",
            "0       apple\n",
            "1      banana\n",
            "2      cherry\n",
            "3      daikon\n",
            "4    eggplant\n",
            "dtype: object, length = 5 \n",
            "\n",
            "0          11\n",
            "1          12\n",
            "2          13\n",
            "3          14\n",
            "4          15\n",
            "5       apple\n",
            "6      banana\n",
            "7      cherry\n",
            "8      daikon\n",
            "9    eggplant\n",
            "dtype: object, length = 10 \n",
            "\n"
          ],
          "name": "stdout"
        }
      ]
    },
    {
      "cell_type": "markdown",
      "metadata": {
        "id": "RbZqMkCzu_NU"
      },
      "source": [
        "### Creating a Series with an Index\n",
        "So far we've created series that have specified values, but no specified index. When we do this, Pandas assigns a range object to the index that generates integer values for each row, and we wind up with something that has an index much like a list. \n",
        "\n",
        "We can specify an index using an optional argument when we construct the series. In the code below,  we are using two lists to specify the values and the index. "
      ]
    },
    {
      "cell_type": "code",
      "metadata": {
        "id": "C0nEsgpcu2Ht",
        "colab": {
          "base_uri": "https://localhost:8080/"
        },
        "outputId": "bdf60d26-3444-4338-e9a2-b01496b5970a"
      },
      "source": [
        "fruit_name_list = ['apple', 'banana', 'cherry', 'dates', 'elderberry']\n",
        "fruit_weight_list = [180, 120, 15, 650, 450]\n",
        "\n",
        "my_fruit_series = pd.Series(data=fruit_weight_list,\n",
        "                            index=fruit_name_list)\n",
        "my_fruit_series"
      ],
      "execution_count": 5,
      "outputs": [
        {
          "output_type": "execute_result",
          "data": {
            "text/plain": [
              "apple         180\n",
              "banana        120\n",
              "cherry         15\n",
              "dates         650\n",
              "elderberry    450\n",
              "dtype: int64"
            ]
          },
          "metadata": {
            "tags": []
          },
          "execution_count": 5
        }
      ]
    },
    {
      "cell_type": "markdown",
      "metadata": {
        "id": "bZe5-YBLBYkp"
      },
      "source": [
        "### Copying Series\n",
        "Making a copy of a series is much like making a copy of a list. If you want to duplicate a list, you need to be careful not to accidentally make an alias that refers to the same list object instead of making an entirely new object. The code below does not make a copy of integer_list, it only makes an alias:"
      ]
    },
    {
      "cell_type": "code",
      "metadata": {
        "id": "GE955BhHB8os",
        "colab": {
          "base_uri": "https://localhost:8080/"
        },
        "outputId": "826a17b7-450c-44c2-ed0c-841c61900058"
      },
      "source": [
        "# only makes an alias\n",
        "alias_not_a_new_list = integer_list # essentially just a second name\n",
        "alias_not_a_new_list is integer_list # checks to see if they are same object"
      ],
      "execution_count": 6,
      "outputs": [
        {
          "output_type": "execute_result",
          "data": {
            "text/plain": [
              "True"
            ]
          },
          "metadata": {
            "tags": []
          },
          "execution_count": 6
        }
      ]
    },
    {
      "cell_type": "markdown",
      "metadata": {
        "id": "RNZJeuLnwp82"
      },
      "source": [
        "The code makes a copy of integer_list:"
      ]
    },
    {
      "cell_type": "code",
      "metadata": {
        "id": "pKWElOpOCSOJ",
        "colab": {
          "base_uri": "https://localhost:8080/"
        },
        "outputId": "8615d9d7-a31f-4b4a-8aa0-3aa4b8670ffd"
      },
      "source": [
        "# makes a copy\n",
        "new_list_not_an_alias = integer_list.copy() # notice added the copy method\n",
        "new_list_not_an_alias is integer_list # check to see if they are same object"
      ],
      "execution_count": 7,
      "outputs": [
        {
          "output_type": "execute_result",
          "data": {
            "text/plain": [
              "False"
            ]
          },
          "metadata": {
            "tags": []
          },
          "execution_count": 7
        }
      ]
    },
    {
      "cell_type": "markdown",
      "metadata": {
        "id": "O1Io5XWRw09K"
      },
      "source": [
        "This code shows that the new list and the original list do contain the same values, but they are not the same object:"
      ]
    },
    {
      "cell_type": "code",
      "metadata": {
        "id": "StgdVDpsCiOF",
        "colab": {
          "base_uri": "https://localhost:8080/"
        },
        "outputId": "59aac9e7-0ee1-4009-de0d-4130b8c32515"
      },
      "source": [
        "# contain the same values\n",
        "print(alias_not_a_new_list == new_list_not_an_alias)\n",
        "\n",
        "# not the same object!\n",
        "print(alias_not_a_new_list is new_list_not_an_alias)"
      ],
      "execution_count": 8,
      "outputs": [
        {
          "output_type": "stream",
          "text": [
            "True\n",
            "False\n"
          ],
          "name": "stdout"
        }
      ]
    },
    {
      "cell_type": "markdown",
      "metadata": {
        "id": "c08gRR5t0-c2"
      },
      "source": [
        "All of the above also applies when it comes to series. We can make an alias for the original or a copy of it. Out in the real world, we often would not want to make a copy of the series unless we have too. Doing so would waste resources and potentially slow things down. \n",
        "\n"
      ]
    },
    {
      "cell_type": "code",
      "metadata": {
        "id": "MM2nCLl_EBNG"
      },
      "source": [
        "# create a new series\n",
        "fruit_name_list = ['apple', 'banana', 'cherry', 'dates', 'elderberry']\n",
        "fruit_weight_list = [180, 120, 15, 650, 450]\n",
        "\n",
        "my_fruit_series = pd.Series(data=fruit_weight_list, index=fruit_name_list)\n",
        "my_fruit_series\n",
        "\n",
        "# this does not make a copy of the series, only an alias\n",
        "alias_not_a_new_series = my_fruit_series\n",
        "\n",
        "# this makes a copy of the series\n",
        "new_series_not_an_alias = my_fruit_series.copy()"
      ],
      "execution_count": 9,
      "outputs": []
    },
    {
      "cell_type": "code",
      "metadata": {
        "id": "81APg9FmEj-w",
        "colab": {
          "base_uri": "https://localhost:8080/"
        },
        "outputId": "c2352657-c8ee-4940-aa46-5056393c72f4"
      },
      "source": [
        "# they contain the same values, note: ignore how this code works for now\n",
        "print(alias_not_a_new_series.equals(new_series_not_an_alias))\n",
        "\n",
        "# but they are not the same object\n",
        "print(alias_not_a_new_series is new_series_not_an_alias)\n",
        "\n",
        "# while these two are the same object\n",
        "print(alias_not_a_new_series is my_fruit_series)"
      ],
      "execution_count": 10,
      "outputs": [
        {
          "output_type": "stream",
          "text": [
            "True\n",
            "False\n",
            "True\n"
          ],
          "name": "stdout"
        }
      ]
    },
    {
      "cell_type": "markdown",
      "metadata": {
        "id": "YN-VzrQ59JrJ"
      },
      "source": [
        "What we will often do instead, is make a special kind of alias for our series object that just shows us what we want to see without making a copy or changing the underlying series. Modifying how we look at a series, but not modifying the series itself, is called creating a 'view'.\n",
        "\n",
        "Many of the methods discussed in this section create a view into the series object without modifying it. For example, I might create a view into my series object that only displayed values in the series that are greater than 10. This concept is going to feel a bit fuzzy for a while, but it will get better as we work through the exercises. "
      ]
    },
    {
      "cell_type": "markdown",
      "metadata": {
        "id": "dzn5v2R68Qba"
      },
      "source": [
        "## Examining Series\n",
        "\n",
        "We will often be working with series that contain a large number of values. If we have a series with 50000 values in it and we tell Python to print every value, we are going to have too much to deal with. As a convenience, large series are usually displayed with values in the middle ommitted. \n",
        "\n"
      ]
    },
    {
      "cell_type": "code",
      "metadata": {
        "id": "IPAd_zXX9IRw",
        "colab": {
          "base_uri": "https://localhost:8080/"
        },
        "outputId": "a90a989c-a8f1-4b0d-ba84-deabc9e8a060"
      },
      "source": [
        "# create a big list of random integers\n",
        "import random\n",
        "big_list = []\n",
        "for v in range(50000):\n",
        "  big_list.append(random.randint(1,100))\n",
        "\n",
        "# convert the big list to a big series\n",
        "big_series = pd.Series(data = big_list, dtype='int64')\n",
        "len(big_series)"
      ],
      "execution_count": 11,
      "outputs": [
        {
          "output_type": "execute_result",
          "data": {
            "text/plain": [
              "50000"
            ]
          },
          "metadata": {
            "tags": []
          },
          "execution_count": 11
        }
      ]
    },
    {
      "cell_type": "code",
      "metadata": {
        "id": "0vG_k5tS9yYI",
        "colab": {
          "base_uri": "https://localhost:8080/"
        },
        "outputId": "dc9a3c9f-daa6-4676-af14-f23e271a23f8"
      },
      "source": [
        "# examine the big series; notice the truncation of the middle\n",
        "big_series"
      ],
      "execution_count": 12,
      "outputs": [
        {
          "output_type": "execute_result",
          "data": {
            "text/plain": [
              "0         62\n",
              "1        100\n",
              "2         64\n",
              "3         60\n",
              "4         36\n",
              "        ... \n",
              "49995     73\n",
              "49996     45\n",
              "49997     55\n",
              "49998     26\n",
              "49999     70\n",
              "Length: 50000, dtype: int64"
            ]
          },
          "metadata": {
            "tags": []
          },
          "execution_count": 12
        }
      ]
    },
    {
      "cell_type": "markdown",
      "metadata": {
        "id": "GDKNYHTD-gn4"
      },
      "source": [
        "We can use the method `.head()` or `.tail()` to specifically look at the beginning or end of the series."
      ]
    },
    {
      "cell_type": "code",
      "metadata": {
        "id": "efE7bIVP-wZd",
        "colab": {
          "base_uri": "https://localhost:8080/"
        },
        "outputId": "6426b1fb-53c7-4532-d55d-9dd9e0ac7f8b"
      },
      "source": [
        "# using .head()\n",
        "big_series.head()"
      ],
      "execution_count": 13,
      "outputs": [
        {
          "output_type": "execute_result",
          "data": {
            "text/plain": [
              "0     62\n",
              "1    100\n",
              "2     64\n",
              "3     60\n",
              "4     36\n",
              "dtype: int64"
            ]
          },
          "metadata": {
            "tags": []
          },
          "execution_count": 13
        }
      ]
    },
    {
      "cell_type": "code",
      "metadata": {
        "id": "Q0on05Iv-zNY",
        "colab": {
          "base_uri": "https://localhost:8080/"
        },
        "outputId": "be73297f-9652-4161-9a90-06907b6947c1"
      },
      "source": [
        "# using .tail()\n",
        "big_series.tail()"
      ],
      "execution_count": 14,
      "outputs": [
        {
          "output_type": "execute_result",
          "data": {
            "text/plain": [
              "49995    73\n",
              "49996    45\n",
              "49997    55\n",
              "49998    26\n",
              "49999    70\n",
              "dtype: int64"
            ]
          },
          "metadata": {
            "tags": []
          },
          "execution_count": 14
        }
      ]
    },
    {
      "cell_type": "markdown",
      "metadata": {
        "id": "1N1JHWQ2-2mH"
      },
      "source": [
        "Be default, `.head()` and `.tail()` display five labels with their values. This can be modified using an optional argument. "
      ]
    },
    {
      "cell_type": "code",
      "metadata": {
        "id": "XE-YTYG4_Kp7",
        "colab": {
          "base_uri": "https://localhost:8080/"
        },
        "outputId": "cb73b3e5-093c-4484-d15e-2b6e1becc129"
      },
      "source": [
        "# using .head() with an argument\n",
        "big_series.head(10)"
      ],
      "execution_count": 15,
      "outputs": [
        {
          "output_type": "execute_result",
          "data": {
            "text/plain": [
              "0     62\n",
              "1    100\n",
              "2     64\n",
              "3     60\n",
              "4     36\n",
              "5     49\n",
              "6     74\n",
              "7     33\n",
              "8      3\n",
              "9      1\n",
              "dtype: int64"
            ]
          },
          "metadata": {
            "tags": []
          },
          "execution_count": 15
        }
      ]
    },
    {
      "cell_type": "code",
      "metadata": {
        "id": "jt3C73_m_Qs3",
        "colab": {
          "base_uri": "https://localhost:8080/"
        },
        "outputId": "7fe9bb44-0116-48ce-9a6a-7e9b35ae8464"
      },
      "source": [
        "# using .tail() with an argument\n",
        "big_series.tail(3)"
      ],
      "execution_count": 16,
      "outputs": [
        {
          "output_type": "execute_result",
          "data": {
            "text/plain": [
              "49997    55\n",
              "49998    26\n",
              "49999    70\n",
              "dtype: int64"
            ]
          },
          "metadata": {
            "tags": []
          },
          "execution_count": 16
        }
      ]
    },
    {
      "cell_type": "markdown",
      "metadata": {
        "id": "wqwf4B8m1gtA"
      },
      "source": [
        "When working with data, we will often use `.head()` or `.tail()` to simply check that our code is working as intended, much like you would do with `print()` while writing your code."
      ]
    }
  ]
}